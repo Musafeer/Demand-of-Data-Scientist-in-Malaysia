{
 "cells": [
  {
   "cell_type": "markdown",
   "id": "aebab531-53d8-4aeb-80dc-50c3feb8113b",
   "metadata": {},
   "source": [
    "## Data Preparation"
   ]
  },
  {
   "cell_type": "code",
   "execution_count": 2,
   "id": "d2367a64-4024-470e-a1af-43c95135a395",
   "metadata": {},
   "outputs": [],
   "source": [
    "import pandas as pd\n",
    "import numpy as np\n",
    "import re\n",
    "import matplotlib.pyplot as plt\n",
    "import seaborn as sns\n"
   ]
  },
  {
   "cell_type": "code",
   "execution_count": null,
   "id": "f62da075-ae41-44be-ad9b-e730ed28c130",
   "metadata": {},
   "outputs": [],
   "source": []
  },
  {
   "cell_type": "code",
   "execution_count": 3,
   "id": "18b29509-47c3-4ef3-9a62-82181414d744",
   "metadata": {},
   "outputs": [
    {
     "data": {
      "text/html": [
       "<div>\n",
       "<style scoped>\n",
       "    .dataframe tbody tr th:only-of-type {\n",
       "        vertical-align: middle;\n",
       "    }\n",
       "\n",
       "    .dataframe tbody tr th {\n",
       "        vertical-align: top;\n",
       "    }\n",
       "\n",
       "    .dataframe thead th {\n",
       "        text-align: right;\n",
       "    }\n",
       "</style>\n",
       "<table border=\"1\" class=\"dataframe\">\n",
       "  <thead>\n",
       "    <tr style=\"text-align: right;\">\n",
       "      <th></th>\n",
       "      <th>location</th>\n",
       "      <th>title</th>\n",
       "      <th>company</th>\n",
       "      <th>salary</th>\n",
       "      <th>summary</th>\n",
       "      <th>job_url</th>\n",
       "    </tr>\n",
       "  </thead>\n",
       "  <tbody>\n",
       "    <tr>\n",
       "      <th>0</th>\n",
       "      <td>Kuala Lumpur</td>\n",
       "      <td>Senior Data Scientist - Information Retrieval ...</td>\n",
       "      <td>SEEK Asia (JobStreet)</td>\n",
       "      <td>NaN</td>\n",
       "      <td>The Role\\nThe Senior Data Scientist – Informat...</td>\n",
       "      <td>https://www.jobstreet.com.my/en/job/senior-dat...</td>\n",
       "    </tr>\n",
       "    <tr>\n",
       "      <th>1</th>\n",
       "      <td>Bentong</td>\n",
       "      <td>Data Scientist - Manager</td>\n",
       "      <td>Genting Malaysia Berhad</td>\n",
       "      <td>NaN</td>\n",
       "      <td>Operate machine-learning models to perform dat...</td>\n",
       "      <td>https://www.jobstreet.com.my/en/job/data-scien...</td>\n",
       "    </tr>\n",
       "    <tr>\n",
       "      <th>2</th>\n",
       "      <td>Kuala Lumpur</td>\n",
       "      <td>Data Analyst</td>\n",
       "      <td>PRISM+</td>\n",
       "      <td>NaN</td>\n",
       "      <td>Job Responsibilities:\\nPrepare final analysis ...</td>\n",
       "      <td>https://www.jobstreet.com.my/en/job/data-analy...</td>\n",
       "    </tr>\n",
       "    <tr>\n",
       "      <th>3</th>\n",
       "      <td>Kuala Lumpur</td>\n",
       "      <td>Data Scientist</td>\n",
       "      <td>4Fingers Crispy Chicken</td>\n",
       "      <td>NaN</td>\n",
       "      <td>JOB RESPONSIBILITIES:\\nEvaluate large data set...</td>\n",
       "      <td>https://www.jobstreet.com.my/en/job/data-scien...</td>\n",
       "    </tr>\n",
       "    <tr>\n",
       "      <th>4</th>\n",
       "      <td>Kuala Lumpur</td>\n",
       "      <td>Master Data Coordinator</td>\n",
       "      <td>Radio Holland Malaysia Sdn Bhd</td>\n",
       "      <td>NaN</td>\n",
       "      <td>The Master Data coordinator ensures master dat...</td>\n",
       "      <td>https://www.jobstreet.com.my/en/job/master-dat...</td>\n",
       "    </tr>\n",
       "    <tr>\n",
       "      <th>...</th>\n",
       "      <td>...</td>\n",
       "      <td>...</td>\n",
       "      <td>...</td>\n",
       "      <td>...</td>\n",
       "      <td>...</td>\n",
       "      <td>...</td>\n",
       "    </tr>\n",
       "    <tr>\n",
       "      <th>1525</th>\n",
       "      <td>Kuala Lumpur</td>\n",
       "      <td>Senior/Staff Full Stack Engineer, Full Stack</td>\n",
       "      <td>Coda Payments</td>\n",
       "      <td>NaN</td>\n",
       "      <td>What we do\\nCurrently operating in 60+ countri...</td>\n",
       "      <td>https://www.jobstreet.com.my/en/job/senior-sta...</td>\n",
       "    </tr>\n",
       "    <tr>\n",
       "      <th>1526</th>\n",
       "      <td>Petaling Jaya</td>\n",
       "      <td>Senior Software Quality Assurance Engineer</td>\n",
       "      <td>Inmagine Innovation</td>\n",
       "      <td>NaN</td>\n",
       "      <td>Description\\nThe Job:\\n1. Design and develop a...</td>\n",
       "      <td>https://www.jobstreet.com.my/en/job/senior-sof...</td>\n",
       "    </tr>\n",
       "    <tr>\n",
       "      <th>1527</th>\n",
       "      <td>Bayan Lepas</td>\n",
       "      <td>Embedded Software Developer I</td>\n",
       "      <td>NCS GLOBAL TECHNOLOGY</td>\n",
       "      <td>NaN</td>\n",
       "      <td>Description\\n- Design, implement and debug emb...</td>\n",
       "      <td>https://www.jobstreet.com.my/en/job/embedded-s...</td>\n",
       "    </tr>\n",
       "    <tr>\n",
       "      <th>1528</th>\n",
       "      <td>Penang</td>\n",
       "      <td>ISO DOCUMENT CONTROLLER</td>\n",
       "      <td>IMR (MALAYSIA) SDN. BHD.</td>\n",
       "      <td>NaN</td>\n",
       "      <td>Description\\nRoles And Responsibilities\\n· Res...</td>\n",
       "      <td>https://www.jobstreet.com.my/en/job/iso-docume...</td>\n",
       "    </tr>\n",
       "    <tr>\n",
       "      <th>1529</th>\n",
       "      <td>Petaling Jaya</td>\n",
       "      <td>ELM Specialist</td>\n",
       "      <td>Persistent Systems Malaysia Sdn Bhd</td>\n",
       "      <td>NaN</td>\n",
       "      <td>Description\\n• Experience between 2-12 years\\n...</td>\n",
       "      <td>https://www.jobstreet.com.my/en/job/elm-specia...</td>\n",
       "    </tr>\n",
       "  </tbody>\n",
       "</table>\n",
       "<p>1530 rows × 6 columns</p>\n",
       "</div>"
      ],
      "text/plain": [
       "           location                                              title  \\\n",
       "0      Kuala Lumpur  Senior Data Scientist - Information Retrieval ...   \n",
       "1           Bentong                           Data Scientist - Manager   \n",
       "2      Kuala Lumpur                                       Data Analyst   \n",
       "3      Kuala Lumpur                                     Data Scientist   \n",
       "4      Kuala Lumpur                            Master Data Coordinator   \n",
       "...             ...                                                ...   \n",
       "1525   Kuala Lumpur       Senior/Staff Full Stack Engineer, Full Stack   \n",
       "1526  Petaling Jaya         Senior Software Quality Assurance Engineer   \n",
       "1527    Bayan Lepas                      Embedded Software Developer I   \n",
       "1528         Penang                            ISO DOCUMENT CONTROLLER   \n",
       "1529  Petaling Jaya                                     ELM Specialist   \n",
       "\n",
       "                                  company salary  \\\n",
       "0                   SEEK Asia (JobStreet)    NaN   \n",
       "1                 Genting Malaysia Berhad    NaN   \n",
       "2                                  PRISM+    NaN   \n",
       "3                 4Fingers Crispy Chicken    NaN   \n",
       "4          Radio Holland Malaysia Sdn Bhd    NaN   \n",
       "...                                   ...    ...   \n",
       "1525                        Coda Payments    NaN   \n",
       "1526                  Inmagine Innovation    NaN   \n",
       "1527                NCS GLOBAL TECHNOLOGY    NaN   \n",
       "1528             IMR (MALAYSIA) SDN. BHD.    NaN   \n",
       "1529  Persistent Systems Malaysia Sdn Bhd    NaN   \n",
       "\n",
       "                                                summary  \\\n",
       "0     The Role\\nThe Senior Data Scientist – Informat...   \n",
       "1     Operate machine-learning models to perform dat...   \n",
       "2     Job Responsibilities:\\nPrepare final analysis ...   \n",
       "3     JOB RESPONSIBILITIES:\\nEvaluate large data set...   \n",
       "4     The Master Data coordinator ensures master dat...   \n",
       "...                                                 ...   \n",
       "1525  What we do\\nCurrently operating in 60+ countri...   \n",
       "1526  Description\\nThe Job:\\n1. Design and develop a...   \n",
       "1527  Description\\n- Design, implement and debug emb...   \n",
       "1528  Description\\nRoles And Responsibilities\\n· Res...   \n",
       "1529  Description\\n• Experience between 2-12 years\\n...   \n",
       "\n",
       "                                                job_url  \n",
       "0     https://www.jobstreet.com.my/en/job/senior-dat...  \n",
       "1     https://www.jobstreet.com.my/en/job/data-scien...  \n",
       "2     https://www.jobstreet.com.my/en/job/data-analy...  \n",
       "3     https://www.jobstreet.com.my/en/job/data-scien...  \n",
       "4     https://www.jobstreet.com.my/en/job/master-dat...  \n",
       "...                                                 ...  \n",
       "1525  https://www.jobstreet.com.my/en/job/senior-sta...  \n",
       "1526  https://www.jobstreet.com.my/en/job/senior-sof...  \n",
       "1527  https://www.jobstreet.com.my/en/job/embedded-s...  \n",
       "1528  https://www.jobstreet.com.my/en/job/iso-docume...  \n",
       "1529  https://www.jobstreet.com.my/en/job/elm-specia...  \n",
       "\n",
       "[1530 rows x 6 columns]"
      ]
     },
     "execution_count": 3,
     "metadata": {},
     "output_type": "execute_result"
    }
   ],
   "source": [
    "df = pd.read_csv('Data.csv')\n",
    "df"
   ]
  },
  {
   "cell_type": "markdown",
   "id": "d4503e8c-ef38-446a-a1ff-02ff3aa172f3",
   "metadata": {},
   "source": [
    "### Replacing null value in salary with 0"
   ]
  },
  {
   "cell_type": "code",
   "execution_count": 4,
   "id": "75cf5ec4-9f87-4fa6-8284-31da6e2d8fd5",
   "metadata": {},
   "outputs": [
    {
     "name": "stdout",
     "output_type": "stream",
     "text": [
      "<class 'pandas.core.frame.DataFrame'>\n",
      "RangeIndex: 1530 entries, 0 to 1529\n",
      "Data columns (total 6 columns):\n",
      " #   Column    Non-Null Count  Dtype \n",
      "---  ------    --------------  ----- \n",
      " 0   location  1530 non-null   object\n",
      " 1   title     1530 non-null   object\n",
      " 2   company   1530 non-null   object\n",
      " 3   salary    355 non-null    object\n",
      " 4   summary   1527 non-null   object\n",
      " 5   job_url   1530 non-null   object\n",
      "dtypes: object(6)\n",
      "memory usage: 71.8+ KB\n"
     ]
    }
   ],
   "source": [
    "df.info()"
   ]
  },
  {
   "cell_type": "code",
   "execution_count": 5,
   "id": "a6a82c41-c31a-4a3b-b923-3de3395396b4",
   "metadata": {},
   "outputs": [],
   "source": [
    "df = df.fillna(0)"
   ]
  },
  {
   "cell_type": "code",
   "execution_count": 6,
   "id": "3eb275ba-739c-4449-b074-38b4dbb06f56",
   "metadata": {},
   "outputs": [
    {
     "name": "stdout",
     "output_type": "stream",
     "text": [
      "<class 'pandas.core.frame.DataFrame'>\n",
      "RangeIndex: 1530 entries, 0 to 1529\n",
      "Data columns (total 6 columns):\n",
      " #   Column    Non-Null Count  Dtype \n",
      "---  ------    --------------  ----- \n",
      " 0   location  1530 non-null   object\n",
      " 1   title     1530 non-null   object\n",
      " 2   company   1530 non-null   object\n",
      " 3   salary    1530 non-null   object\n",
      " 4   summary   1530 non-null   object\n",
      " 5   job_url   1530 non-null   object\n",
      "dtypes: object(6)\n",
      "memory usage: 71.8+ KB\n"
     ]
    }
   ],
   "source": [
    "df.info()"
   ]
  },
  {
   "cell_type": "code",
   "execution_count": 7,
   "id": "a5f1b9ae-e36b-4a2f-ac58-156e3ed5b9c2",
   "metadata": {},
   "outputs": [
    {
     "data": {
      "text/plain": [
       "AirAsia                                          42\n",
       "TRUST RECRUIT PTE. LTD.                          33\n",
       "Western Digital                                  23\n",
       "Ambition Group Malaysia Sdn Bhd                  21\n",
       "Company Confidential                             19\n",
       "RK Recruitment Pte. Ltd.                         15\n",
       "Michael Page International (Malaysia) Sdn Bhd    14\n",
       "Deloitte                                         11\n",
       "Infineon Technologies (Kulim) Sdn Bhd            10\n",
       "Ipsos Sdn Bhd                                     9\n",
       "Name: company, dtype: int64"
      ]
     },
     "execution_count": 7,
     "metadata": {},
     "output_type": "execute_result"
    }
   ],
   "source": [
    "df_val = df.company.value_counts()\n",
    "df_val.head(10)"
   ]
  },
  {
   "cell_type": "code",
   "execution_count": 8,
   "id": "29dfd974-1b47-4ada-a36e-3cd99b855f8a",
   "metadata": {},
   "outputs": [
    {
     "data": {
      "text/plain": [
       "0                          1175\n",
       "MYR 5K - 7K monthly          13\n",
       "MYR 4K - 6K monthly          10\n",
       "MYR 3K - 5K monthly          10\n",
       "MYR 5K - 8K monthly           8\n",
       "                           ... \n",
       "MYR 3.2K - 5K monthly         1\n",
       "MYR 2.5K - 3.3K monthly       1\n",
       "MYR 9K - 12K monthly          1\n",
       "MYR 13K - 18K monthly         1\n",
       "MYR 3.6K - 6.9K monthly       1\n",
       "Name: salary, Length: 167, dtype: int64"
      ]
     },
     "execution_count": 8,
     "metadata": {},
     "output_type": "execute_result"
    }
   ],
   "source": [
    "df_sal = df.salary.value_counts()\n",
    "df_sal"
   ]
  },
  {
   "cell_type": "code",
   "execution_count": 9,
   "id": "eb1d6e61-7a4c-40dc-bdeb-7e4ce5618ad6",
   "metadata": {},
   "outputs": [],
   "source": [
    "### salary"
   ]
  },
  {
   "cell_type": "markdown",
   "id": "6eecd684-978e-4aea-8567-2a16493e5dd9",
   "metadata": {},
   "source": [
    "### remote work"
   ]
  },
  {
   "cell_type": "code",
   "execution_count": 10,
   "id": "2f01201b-023c-4c9c-bbc4-eb837ecdc900",
   "metadata": {},
   "outputs": [],
   "source": [
    "# for i in range(1, len(df),1):\n",
    "#     for word in['location', 'title', 'summary']:\n",
    "#         if df.at[i,'remote'] != True:\n",
    "#             if re.search('remote',df.at[i,word].lower()):\n",
    "#                 df.at[i, 'is_remote'] == True\n",
    "#         else:\n",
    "#             continue\n",
    "# df.head(5)\n",
    "\n",
    "                "
   ]
  },
  {
   "cell_type": "code",
   "execution_count": 11,
   "id": "53434f35-4f38-4936-bdaf-7a5656d79906",
   "metadata": {},
   "outputs": [
    {
     "data": {
      "text/html": [
       "<div>\n",
       "<style scoped>\n",
       "    .dataframe tbody tr th:only-of-type {\n",
       "        vertical-align: middle;\n",
       "    }\n",
       "\n",
       "    .dataframe tbody tr th {\n",
       "        vertical-align: top;\n",
       "    }\n",
       "\n",
       "    .dataframe thead th {\n",
       "        text-align: right;\n",
       "    }\n",
       "</style>\n",
       "<table border=\"1\" class=\"dataframe\">\n",
       "  <thead>\n",
       "    <tr style=\"text-align: right;\">\n",
       "      <th></th>\n",
       "      <th>location</th>\n",
       "      <th>title</th>\n",
       "      <th>summary</th>\n",
       "    </tr>\n",
       "  </thead>\n",
       "  <tbody>\n",
       "    <tr>\n",
       "      <th>0</th>\n",
       "      <td>Kuala Lumpur</td>\n",
       "      <td>Senior Data Scientist - Information Retrieval ...</td>\n",
       "      <td>The Role\\nThe Senior Data Scientist – Informat...</td>\n",
       "    </tr>\n",
       "    <tr>\n",
       "      <th>1</th>\n",
       "      <td>Bentong</td>\n",
       "      <td>Data Scientist - Manager</td>\n",
       "      <td>Operate machine-learning models to perform dat...</td>\n",
       "    </tr>\n",
       "    <tr>\n",
       "      <th>2</th>\n",
       "      <td>Kuala Lumpur</td>\n",
       "      <td>Data Analyst</td>\n",
       "      <td>Job Responsibilities:\\nPrepare final analysis ...</td>\n",
       "    </tr>\n",
       "    <tr>\n",
       "      <th>3</th>\n",
       "      <td>Kuala Lumpur</td>\n",
       "      <td>Data Scientist</td>\n",
       "      <td>JOB RESPONSIBILITIES:\\nEvaluate large data set...</td>\n",
       "    </tr>\n",
       "    <tr>\n",
       "      <th>4</th>\n",
       "      <td>Kuala Lumpur</td>\n",
       "      <td>Master Data Coordinator</td>\n",
       "      <td>The Master Data coordinator ensures master dat...</td>\n",
       "    </tr>\n",
       "    <tr>\n",
       "      <th>...</th>\n",
       "      <td>...</td>\n",
       "      <td>...</td>\n",
       "      <td>...</td>\n",
       "    </tr>\n",
       "    <tr>\n",
       "      <th>1525</th>\n",
       "      <td>Kuala Lumpur</td>\n",
       "      <td>Senior/Staff Full Stack Engineer, Full Stack</td>\n",
       "      <td>What we do\\nCurrently operating in 60+ countri...</td>\n",
       "    </tr>\n",
       "    <tr>\n",
       "      <th>1526</th>\n",
       "      <td>Petaling Jaya</td>\n",
       "      <td>Senior Software Quality Assurance Engineer</td>\n",
       "      <td>Description\\nThe Job:\\n1. Design and develop a...</td>\n",
       "    </tr>\n",
       "    <tr>\n",
       "      <th>1527</th>\n",
       "      <td>Bayan Lepas</td>\n",
       "      <td>Embedded Software Developer I</td>\n",
       "      <td>Description\\n- Design, implement and debug emb...</td>\n",
       "    </tr>\n",
       "    <tr>\n",
       "      <th>1528</th>\n",
       "      <td>Penang</td>\n",
       "      <td>ISO DOCUMENT CONTROLLER</td>\n",
       "      <td>Description\\nRoles And Responsibilities\\n· Res...</td>\n",
       "    </tr>\n",
       "    <tr>\n",
       "      <th>1529</th>\n",
       "      <td>Petaling Jaya</td>\n",
       "      <td>ELM Specialist</td>\n",
       "      <td>Description\\n• Experience between 2-12 years\\n...</td>\n",
       "    </tr>\n",
       "  </tbody>\n",
       "</table>\n",
       "<p>1530 rows × 3 columns</p>\n",
       "</div>"
      ],
      "text/plain": [
       "           location                                              title  \\\n",
       "0      Kuala Lumpur  Senior Data Scientist - Information Retrieval ...   \n",
       "1           Bentong                           Data Scientist - Manager   \n",
       "2      Kuala Lumpur                                       Data Analyst   \n",
       "3      Kuala Lumpur                                     Data Scientist   \n",
       "4      Kuala Lumpur                            Master Data Coordinator   \n",
       "...             ...                                                ...   \n",
       "1525   Kuala Lumpur       Senior/Staff Full Stack Engineer, Full Stack   \n",
       "1526  Petaling Jaya         Senior Software Quality Assurance Engineer   \n",
       "1527    Bayan Lepas                      Embedded Software Developer I   \n",
       "1528         Penang                            ISO DOCUMENT CONTROLLER   \n",
       "1529  Petaling Jaya                                     ELM Specialist   \n",
       "\n",
       "                                                summary  \n",
       "0     The Role\\nThe Senior Data Scientist – Informat...  \n",
       "1     Operate machine-learning models to perform dat...  \n",
       "2     Job Responsibilities:\\nPrepare final analysis ...  \n",
       "3     JOB RESPONSIBILITIES:\\nEvaluate large data set...  \n",
       "4     The Master Data coordinator ensures master dat...  \n",
       "...                                                 ...  \n",
       "1525  What we do\\nCurrently operating in 60+ countri...  \n",
       "1526  Description\\nThe Job:\\n1. Design and develop a...  \n",
       "1527  Description\\n- Design, implement and debug emb...  \n",
       "1528  Description\\nRoles And Responsibilities\\n· Res...  \n",
       "1529  Description\\n• Experience between 2-12 years\\n...  \n",
       "\n",
       "[1530 rows x 3 columns]"
      ]
     },
     "execution_count": 11,
     "metadata": {},
     "output_type": "execute_result"
    }
   ],
   "source": [
    "df[['location','title','summary']]"
   ]
  },
  {
   "cell_type": "code",
   "execution_count": null,
   "id": "6486fedd-3c02-458d-a072-7f30d4bd1e62",
   "metadata": {
    "tags": []
   },
   "outputs": [],
   "source": []
  },
  {
   "cell_type": "code",
   "execution_count": 12,
   "id": "fa869c2a-cf61-4ec7-8054-a6a424cc2c7a",
   "metadata": {},
   "outputs": [
    {
     "data": {
      "text/plain": [
       "0       The Role\\nThe Senior Data Scientist – Informat...\n",
       "1       Operate machine-learning models to perform dat...\n",
       "2       Job Responsibilities:\\nPrepare final analysis ...\n",
       "3       JOB RESPONSIBILITIES:\\nEvaluate large data set...\n",
       "4       The Master Data coordinator ensures master dat...\n",
       "                              ...                        \n",
       "1525    What we do\\nCurrently operating in 60+ countri...\n",
       "1526    Description\\nThe Job:\\n1. Design and develop a...\n",
       "1527    Description\\n- Design, implement and debug emb...\n",
       "1528    Description\\nRoles And Responsibilities\\n· Res...\n",
       "1529    Description\\n• Experience between 2-12 years\\n...\n",
       "Name: summary, Length: 1530, dtype: object"
      ]
     },
     "execution_count": 12,
     "metadata": {},
     "output_type": "execute_result"
    }
   ],
   "source": [
    "df['summary']"
   ]
  },
  {
   "cell_type": "code",
   "execution_count": 13,
   "id": "7df2e31c-a4cd-4d53-bad7-83bda485bab9",
   "metadata": {},
   "outputs": [
    {
     "name": "stderr",
     "output_type": "stream",
     "text": [
      "/tmp/ipykernel_7873/2371993430.py:1: FutureWarning:\n",
      "\n",
      "Dropping invalid columns in DataFrameGroupBy.add is deprecated. In a future version, a TypeError will be raised. Before calling .add, select only columns which should be valid for the function.\n",
      "\n"
     ]
    },
    {
     "data": {
      "text/html": [
       "<div>\n",
       "<style scoped>\n",
       "    .dataframe tbody tr th:only-of-type {\n",
       "        vertical-align: middle;\n",
       "    }\n",
       "\n",
       "    .dataframe tbody tr th {\n",
       "        vertical-align: top;\n",
       "    }\n",
       "\n",
       "    .dataframe thead th {\n",
       "        text-align: right;\n",
       "    }\n",
       "</style>\n",
       "<table border=\"1\" class=\"dataframe\">\n",
       "  <thead>\n",
       "    <tr style=\"text-align: right;\">\n",
       "      <th></th>\n",
       "      <th>title</th>\n",
       "      <th>company</th>\n",
       "      <th>job_url</th>\n",
       "    </tr>\n",
       "    <tr>\n",
       "      <th>location</th>\n",
       "      <th></th>\n",
       "      <th></th>\n",
       "      <th></th>\n",
       "    </tr>\n",
       "  </thead>\n",
       "  <tbody>\n",
       "    <tr>\n",
       "      <th>Alor Gajah</th>\n",
       "      <td>SPC Engineer</td>\n",
       "      <td>SunPower Malaysia Manufacturing Sdn Bhd (regio...</td>\n",
       "      <td>https://www.jobstreet.com.my/en/job/spc-engine...</td>\n",
       "    </tr>\n",
       "    <tr>\n",
       "      <th>Alor Setar</th>\n",
       "      <td>R &amp; D cum QC ExecutiveFront-End Web/Email Deve...</td>\n",
       "      <td>TROPICAL PRODUCE SDN. BHD.Gallup</td>\n",
       "      <td>https://www.jobstreet.com.my/en/job/r-d-cum-qc...</td>\n",
       "    </tr>\n",
       "    <tr>\n",
       "      <th>Alor Setar, Terengganu - Others</th>\n",
       "      <td>Supervisor, Production (Shrimp Farming) - Base...</td>\n",
       "      <td>Blue Archipelago Berhad</td>\n",
       "      <td>https://www.jobstreet.com.my/en/job/supervisor...</td>\n",
       "    </tr>\n",
       "    <tr>\n",
       "      <th>Ampang</th>\n",
       "      <td>Data AnalystLocum - Staff Nurse (All Specializ...</td>\n",
       "      <td>J&amp;T DISTRIBUTION SOLUTION SDN. BHD.Gleneagles ...</td>\n",
       "      <td>https://www.jobstreet.com.my/en/job/data-analy...</td>\n",
       "    </tr>\n",
       "    <tr>\n",
       "      <th>Ang Mo Kio</th>\n",
       "      <td>Senior Systems Analyst (Business Intelligence)...</td>\n",
       "      <td>Venture Corporation LimitedVenture Corporation...</td>\n",
       "      <td>https://www.jobstreet.com.my/en/job/senior-sys...</td>\n",
       "    </tr>\n",
       "    <tr>\n",
       "      <th>...</th>\n",
       "      <td>...</td>\n",
       "      <td>...</td>\n",
       "      <td>...</td>\n",
       "    </tr>\n",
       "    <tr>\n",
       "      <th>Toa Payoh</th>\n",
       "      <td>Software DeveloperSoftware Developer/ Software...</td>\n",
       "      <td>RK Recruitment Pte. Ltd.RK Recruitment Pte. Ltd.</td>\n",
       "      <td>https://www.jobstreet.com.my/en/job/software-d...</td>\n",
       "    </tr>\n",
       "    <tr>\n",
       "      <th>Uzbekistan</th>\n",
       "      <td>Associate Lecturer for MDIS Tashkent – School ...</td>\n",
       "      <td>Management Development Institute of Singapore</td>\n",
       "      <td>https://www.jobstreet.com.my/en/job/associate-...</td>\n",
       "    </tr>\n",
       "    <tr>\n",
       "      <th>West</th>\n",
       "      <td>.Net Developer (Web/Apps) - ASP.Net / SQL Serv...</td>\n",
       "      <td>TRUST RECRUIT PTE. LTD.Corestaff Pte LtdTRUST ...</td>\n",
       "      <td>https://www.jobstreet.com.my/en/job/.net-devel...</td>\n",
       "    </tr>\n",
       "    <tr>\n",
       "      <th>West - Others</th>\n",
       "      <td>Data Centre Engineer</td>\n",
       "      <td>RK Recruitment Pte. Ltd.</td>\n",
       "      <td>https://www.jobstreet.com.my/en/job/data-centr...</td>\n",
       "    </tr>\n",
       "    <tr>\n",
       "      <th>Yishun</th>\n",
       "      <td>Application Development Engineer - 48807</td>\n",
       "      <td>Keysight Technologies Singapore</td>\n",
       "      <td>https://www.jobstreet.com.my/en/job/applicatio...</td>\n",
       "    </tr>\n",
       "  </tbody>\n",
       "</table>\n",
       "<p>121 rows × 3 columns</p>\n",
       "</div>"
      ],
      "text/plain": [
       "                                                                             title  \\\n",
       "location                                                                             \n",
       "Alor Gajah                                                            SPC Engineer   \n",
       "Alor Setar                       R & D cum QC ExecutiveFront-End Web/Email Deve...   \n",
       "Alor Setar, Terengganu - Others  Supervisor, Production (Shrimp Farming) - Base...   \n",
       "Ampang                           Data AnalystLocum - Staff Nurse (All Specializ...   \n",
       "Ang Mo Kio                       Senior Systems Analyst (Business Intelligence)...   \n",
       "...                                                                            ...   \n",
       "Toa Payoh                        Software DeveloperSoftware Developer/ Software...   \n",
       "Uzbekistan                       Associate Lecturer for MDIS Tashkent – School ...   \n",
       "West                             .Net Developer (Web/Apps) - ASP.Net / SQL Serv...   \n",
       "West - Others                                                 Data Centre Engineer   \n",
       "Yishun                                    Application Development Engineer - 48807   \n",
       "\n",
       "                                                                           company  \\\n",
       "location                                                                             \n",
       "Alor Gajah                       SunPower Malaysia Manufacturing Sdn Bhd (regio...   \n",
       "Alor Setar                                        TROPICAL PRODUCE SDN. BHD.Gallup   \n",
       "Alor Setar, Terengganu - Others                            Blue Archipelago Berhad   \n",
       "Ampang                           J&T DISTRIBUTION SOLUTION SDN. BHD.Gleneagles ...   \n",
       "Ang Mo Kio                       Venture Corporation LimitedVenture Corporation...   \n",
       "...                                                                            ...   \n",
       "Toa Payoh                         RK Recruitment Pte. Ltd.RK Recruitment Pte. Ltd.   \n",
       "Uzbekistan                           Management Development Institute of Singapore   \n",
       "West                             TRUST RECRUIT PTE. LTD.Corestaff Pte LtdTRUST ...   \n",
       "West - Others                                             RK Recruitment Pte. Ltd.   \n",
       "Yishun                                             Keysight Technologies Singapore   \n",
       "\n",
       "                                                                           job_url  \n",
       "location                                                                            \n",
       "Alor Gajah                       https://www.jobstreet.com.my/en/job/spc-engine...  \n",
       "Alor Setar                       https://www.jobstreet.com.my/en/job/r-d-cum-qc...  \n",
       "Alor Setar, Terengganu - Others  https://www.jobstreet.com.my/en/job/supervisor...  \n",
       "Ampang                           https://www.jobstreet.com.my/en/job/data-analy...  \n",
       "Ang Mo Kio                       https://www.jobstreet.com.my/en/job/senior-sys...  \n",
       "...                                                                            ...  \n",
       "Toa Payoh                        https://www.jobstreet.com.my/en/job/software-d...  \n",
       "Uzbekistan                       https://www.jobstreet.com.my/en/job/associate-...  \n",
       "West                             https://www.jobstreet.com.my/en/job/.net-devel...  \n",
       "West - Others                    https://www.jobstreet.com.my/en/job/data-centr...  \n",
       "Yishun                           https://www.jobstreet.com.my/en/job/applicatio...  \n",
       "\n",
       "[121 rows x 3 columns]"
      ]
     },
     "execution_count": 13,
     "metadata": {},
     "output_type": "execute_result"
    }
   ],
   "source": [
    "location_df = df.groupby('location').sum()\n",
    "location_df"
   ]
  },
  {
   "cell_type": "code",
   "execution_count": 14,
   "id": "98d7afd9-1266-4843-9ba3-6405eb734f5f",
   "metadata": {},
   "outputs": [
    {
     "data": {
      "text/plain": [
       "Kuala Lumpur        596\n",
       "Petaling Jaya       127\n",
       "Selangor            123\n",
       "Penang               71\n",
       "Bayan Lepas          51\n",
       "Singapore            45\n",
       "Shah Alam/Subang     41\n",
       "Cyberjaya            38\n",
       "Johor                24\n",
       "Johor Bahru          23\n",
       "Name: location, dtype: int64"
      ]
     },
     "execution_count": 14,
     "metadata": {},
     "output_type": "execute_result"
    }
   ],
   "source": [
    "location_df = df['location'].value_counts()\n",
    "location_df.head(10)"
   ]
  },
  {
   "cell_type": "code",
   "execution_count": 15,
   "id": "6abe4c8e-8b35-4b7e-bccb-2c301a000bda",
   "metadata": {},
   "outputs": [
    {
     "data": {
      "text/plain": [
       "Pioneer                            1\n",
       "Cebu (Others), Cebu (Cebu City)    1\n",
       "National Capital Reg               1\n",
       "Bintulu                            1\n",
       "Dungun                             1\n",
       "Yishun                             1\n",
       "Puchong, Shah Alam/Subang          1\n",
       "Bentong                            1\n",
       "Bedok                              1\n",
       "Melaka, Alor Gajah                 1\n",
       "Name: location, dtype: int64"
      ]
     },
     "execution_count": 15,
     "metadata": {},
     "output_type": "execute_result"
    }
   ],
   "source": [
    "location_df.tail(10)\n",
    "\n"
   ]
  },
  {
   "cell_type": "code",
   "execution_count": 17,
   "id": "c4bc9543-b9e3-4c50-8f6f-15608e3cedbe",
   "metadata": {},
   "outputs": [
    {
     "data": {
      "application/vnd.plotly.v1+json": {
       "config": {
        "plotlyServerURL": "https://plot.ly"
       },
       "data": [
        {
         "labels": [
          "salary"
         ],
         "parents": [
          596,
          127,
          123,
          71,
          51,
          45,
          41,
          38,
          24,
          23,
          20,
          19,
          18,
          17,
          16,
          16,
          14,
          14,
          13,
          11,
          11,
          11,
          10,
          9,
          8,
          8,
          8,
          6,
          6,
          6,
          6,
          5,
          5,
          5,
          4,
          4,
          4,
          4,
          4,
          3,
          3,
          3,
          3,
          3,
          2,
          2,
          2,
          2,
          2,
          2,
          2,
          2,
          2,
          2,
          2,
          2,
          2,
          2,
          2,
          2,
          2,
          1,
          1,
          1,
          1,
          1,
          1,
          1,
          1,
          1,
          1,
          1,
          1,
          1,
          1,
          1,
          1,
          1,
          1,
          1,
          1,
          1,
          1,
          1,
          1,
          1,
          1,
          1,
          1,
          1,
          1,
          1,
          1,
          1,
          1,
          1,
          1,
          1,
          1,
          1,
          1,
          1,
          1,
          1,
          1,
          1,
          1,
          1,
          1,
          1,
          1,
          1,
          1,
          1,
          1,
          1,
          1,
          1,
          1,
          1,
          1
         ],
         "type": "sunburst",
         "values": [
          "title"
         ]
        }
       ],
       "layout": {
        "template": {
         "data": {
          "bar": [
           {
            "error_x": {
             "color": "#2a3f5f"
            },
            "error_y": {
             "color": "#2a3f5f"
            },
            "marker": {
             "line": {
              "color": "#E5ECF6",
              "width": 0.5
             },
             "pattern": {
              "fillmode": "overlay",
              "size": 10,
              "solidity": 0.2
             }
            },
            "type": "bar"
           }
          ],
          "barpolar": [
           {
            "marker": {
             "line": {
              "color": "#E5ECF6",
              "width": 0.5
             },
             "pattern": {
              "fillmode": "overlay",
              "size": 10,
              "solidity": 0.2
             }
            },
            "type": "barpolar"
           }
          ],
          "carpet": [
           {
            "aaxis": {
             "endlinecolor": "#2a3f5f",
             "gridcolor": "white",
             "linecolor": "white",
             "minorgridcolor": "white",
             "startlinecolor": "#2a3f5f"
            },
            "baxis": {
             "endlinecolor": "#2a3f5f",
             "gridcolor": "white",
             "linecolor": "white",
             "minorgridcolor": "white",
             "startlinecolor": "#2a3f5f"
            },
            "type": "carpet"
           }
          ],
          "choropleth": [
           {
            "colorbar": {
             "outlinewidth": 0,
             "ticks": ""
            },
            "type": "choropleth"
           }
          ],
          "contour": [
           {
            "colorbar": {
             "outlinewidth": 0,
             "ticks": ""
            },
            "colorscale": [
             [
              0,
              "#0d0887"
             ],
             [
              0.1111111111111111,
              "#46039f"
             ],
             [
              0.2222222222222222,
              "#7201a8"
             ],
             [
              0.3333333333333333,
              "#9c179e"
             ],
             [
              0.4444444444444444,
              "#bd3786"
             ],
             [
              0.5555555555555556,
              "#d8576b"
             ],
             [
              0.6666666666666666,
              "#ed7953"
             ],
             [
              0.7777777777777778,
              "#fb9f3a"
             ],
             [
              0.8888888888888888,
              "#fdca26"
             ],
             [
              1,
              "#f0f921"
             ]
            ],
            "type": "contour"
           }
          ],
          "contourcarpet": [
           {
            "colorbar": {
             "outlinewidth": 0,
             "ticks": ""
            },
            "type": "contourcarpet"
           }
          ],
          "heatmap": [
           {
            "colorbar": {
             "outlinewidth": 0,
             "ticks": ""
            },
            "colorscale": [
             [
              0,
              "#0d0887"
             ],
             [
              0.1111111111111111,
              "#46039f"
             ],
             [
              0.2222222222222222,
              "#7201a8"
             ],
             [
              0.3333333333333333,
              "#9c179e"
             ],
             [
              0.4444444444444444,
              "#bd3786"
             ],
             [
              0.5555555555555556,
              "#d8576b"
             ],
             [
              0.6666666666666666,
              "#ed7953"
             ],
             [
              0.7777777777777778,
              "#fb9f3a"
             ],
             [
              0.8888888888888888,
              "#fdca26"
             ],
             [
              1,
              "#f0f921"
             ]
            ],
            "type": "heatmap"
           }
          ],
          "heatmapgl": [
           {
            "colorbar": {
             "outlinewidth": 0,
             "ticks": ""
            },
            "colorscale": [
             [
              0,
              "#0d0887"
             ],
             [
              0.1111111111111111,
              "#46039f"
             ],
             [
              0.2222222222222222,
              "#7201a8"
             ],
             [
              0.3333333333333333,
              "#9c179e"
             ],
             [
              0.4444444444444444,
              "#bd3786"
             ],
             [
              0.5555555555555556,
              "#d8576b"
             ],
             [
              0.6666666666666666,
              "#ed7953"
             ],
             [
              0.7777777777777778,
              "#fb9f3a"
             ],
             [
              0.8888888888888888,
              "#fdca26"
             ],
             [
              1,
              "#f0f921"
             ]
            ],
            "type": "heatmapgl"
           }
          ],
          "histogram": [
           {
            "marker": {
             "pattern": {
              "fillmode": "overlay",
              "size": 10,
              "solidity": 0.2
             }
            },
            "type": "histogram"
           }
          ],
          "histogram2d": [
           {
            "colorbar": {
             "outlinewidth": 0,
             "ticks": ""
            },
            "colorscale": [
             [
              0,
              "#0d0887"
             ],
             [
              0.1111111111111111,
              "#46039f"
             ],
             [
              0.2222222222222222,
              "#7201a8"
             ],
             [
              0.3333333333333333,
              "#9c179e"
             ],
             [
              0.4444444444444444,
              "#bd3786"
             ],
             [
              0.5555555555555556,
              "#d8576b"
             ],
             [
              0.6666666666666666,
              "#ed7953"
             ],
             [
              0.7777777777777778,
              "#fb9f3a"
             ],
             [
              0.8888888888888888,
              "#fdca26"
             ],
             [
              1,
              "#f0f921"
             ]
            ],
            "type": "histogram2d"
           }
          ],
          "histogram2dcontour": [
           {
            "colorbar": {
             "outlinewidth": 0,
             "ticks": ""
            },
            "colorscale": [
             [
              0,
              "#0d0887"
             ],
             [
              0.1111111111111111,
              "#46039f"
             ],
             [
              0.2222222222222222,
              "#7201a8"
             ],
             [
              0.3333333333333333,
              "#9c179e"
             ],
             [
              0.4444444444444444,
              "#bd3786"
             ],
             [
              0.5555555555555556,
              "#d8576b"
             ],
             [
              0.6666666666666666,
              "#ed7953"
             ],
             [
              0.7777777777777778,
              "#fb9f3a"
             ],
             [
              0.8888888888888888,
              "#fdca26"
             ],
             [
              1,
              "#f0f921"
             ]
            ],
            "type": "histogram2dcontour"
           }
          ],
          "mesh3d": [
           {
            "colorbar": {
             "outlinewidth": 0,
             "ticks": ""
            },
            "type": "mesh3d"
           }
          ],
          "parcoords": [
           {
            "line": {
             "colorbar": {
              "outlinewidth": 0,
              "ticks": ""
             }
            },
            "type": "parcoords"
           }
          ],
          "pie": [
           {
            "automargin": true,
            "type": "pie"
           }
          ],
          "scatter": [
           {
            "fillpattern": {
             "fillmode": "overlay",
             "size": 10,
             "solidity": 0.2
            },
            "type": "scatter"
           }
          ],
          "scatter3d": [
           {
            "line": {
             "colorbar": {
              "outlinewidth": 0,
              "ticks": ""
             }
            },
            "marker": {
             "colorbar": {
              "outlinewidth": 0,
              "ticks": ""
             }
            },
            "type": "scatter3d"
           }
          ],
          "scattercarpet": [
           {
            "marker": {
             "colorbar": {
              "outlinewidth": 0,
              "ticks": ""
             }
            },
            "type": "scattercarpet"
           }
          ],
          "scattergeo": [
           {
            "marker": {
             "colorbar": {
              "outlinewidth": 0,
              "ticks": ""
             }
            },
            "type": "scattergeo"
           }
          ],
          "scattergl": [
           {
            "marker": {
             "colorbar": {
              "outlinewidth": 0,
              "ticks": ""
             }
            },
            "type": "scattergl"
           }
          ],
          "scattermapbox": [
           {
            "marker": {
             "colorbar": {
              "outlinewidth": 0,
              "ticks": ""
             }
            },
            "type": "scattermapbox"
           }
          ],
          "scatterpolar": [
           {
            "marker": {
             "colorbar": {
              "outlinewidth": 0,
              "ticks": ""
             }
            },
            "type": "scatterpolar"
           }
          ],
          "scatterpolargl": [
           {
            "marker": {
             "colorbar": {
              "outlinewidth": 0,
              "ticks": ""
             }
            },
            "type": "scatterpolargl"
           }
          ],
          "scatterternary": [
           {
            "marker": {
             "colorbar": {
              "outlinewidth": 0,
              "ticks": ""
             }
            },
            "type": "scatterternary"
           }
          ],
          "surface": [
           {
            "colorbar": {
             "outlinewidth": 0,
             "ticks": ""
            },
            "colorscale": [
             [
              0,
              "#0d0887"
             ],
             [
              0.1111111111111111,
              "#46039f"
             ],
             [
              0.2222222222222222,
              "#7201a8"
             ],
             [
              0.3333333333333333,
              "#9c179e"
             ],
             [
              0.4444444444444444,
              "#bd3786"
             ],
             [
              0.5555555555555556,
              "#d8576b"
             ],
             [
              0.6666666666666666,
              "#ed7953"
             ],
             [
              0.7777777777777778,
              "#fb9f3a"
             ],
             [
              0.8888888888888888,
              "#fdca26"
             ],
             [
              1,
              "#f0f921"
             ]
            ],
            "type": "surface"
           }
          ],
          "table": [
           {
            "cells": {
             "fill": {
              "color": "#EBF0F8"
             },
             "line": {
              "color": "white"
             }
            },
            "header": {
             "fill": {
              "color": "#C8D4E3"
             },
             "line": {
              "color": "white"
             }
            },
            "type": "table"
           }
          ]
         },
         "layout": {
          "annotationdefaults": {
           "arrowcolor": "#2a3f5f",
           "arrowhead": 0,
           "arrowwidth": 1
          },
          "autotypenumbers": "strict",
          "coloraxis": {
           "colorbar": {
            "outlinewidth": 0,
            "ticks": ""
           }
          },
          "colorscale": {
           "diverging": [
            [
             0,
             "#8e0152"
            ],
            [
             0.1,
             "#c51b7d"
            ],
            [
             0.2,
             "#de77ae"
            ],
            [
             0.3,
             "#f1b6da"
            ],
            [
             0.4,
             "#fde0ef"
            ],
            [
             0.5,
             "#f7f7f7"
            ],
            [
             0.6,
             "#e6f5d0"
            ],
            [
             0.7,
             "#b8e186"
            ],
            [
             0.8,
             "#7fbc41"
            ],
            [
             0.9,
             "#4d9221"
            ],
            [
             1,
             "#276419"
            ]
           ],
           "sequential": [
            [
             0,
             "#0d0887"
            ],
            [
             0.1111111111111111,
             "#46039f"
            ],
            [
             0.2222222222222222,
             "#7201a8"
            ],
            [
             0.3333333333333333,
             "#9c179e"
            ],
            [
             0.4444444444444444,
             "#bd3786"
            ],
            [
             0.5555555555555556,
             "#d8576b"
            ],
            [
             0.6666666666666666,
             "#ed7953"
            ],
            [
             0.7777777777777778,
             "#fb9f3a"
            ],
            [
             0.8888888888888888,
             "#fdca26"
            ],
            [
             1,
             "#f0f921"
            ]
           ],
           "sequentialminus": [
            [
             0,
             "#0d0887"
            ],
            [
             0.1111111111111111,
             "#46039f"
            ],
            [
             0.2222222222222222,
             "#7201a8"
            ],
            [
             0.3333333333333333,
             "#9c179e"
            ],
            [
             0.4444444444444444,
             "#bd3786"
            ],
            [
             0.5555555555555556,
             "#d8576b"
            ],
            [
             0.6666666666666666,
             "#ed7953"
            ],
            [
             0.7777777777777778,
             "#fb9f3a"
            ],
            [
             0.8888888888888888,
             "#fdca26"
            ],
            [
             1,
             "#f0f921"
            ]
           ]
          },
          "colorway": [
           "#636efa",
           "#EF553B",
           "#00cc96",
           "#ab63fa",
           "#FFA15A",
           "#19d3f3",
           "#FF6692",
           "#B6E880",
           "#FF97FF",
           "#FECB52"
          ],
          "font": {
           "color": "#2a3f5f"
          },
          "geo": {
           "bgcolor": "white",
           "lakecolor": "white",
           "landcolor": "#E5ECF6",
           "showlakes": true,
           "showland": true,
           "subunitcolor": "white"
          },
          "hoverlabel": {
           "align": "left"
          },
          "hovermode": "closest",
          "mapbox": {
           "style": "light"
          },
          "paper_bgcolor": "white",
          "plot_bgcolor": "#E5ECF6",
          "polar": {
           "angularaxis": {
            "gridcolor": "white",
            "linecolor": "white",
            "ticks": ""
           },
           "bgcolor": "#E5ECF6",
           "radialaxis": {
            "gridcolor": "white",
            "linecolor": "white",
            "ticks": ""
           }
          },
          "scene": {
           "xaxis": {
            "backgroundcolor": "#E5ECF6",
            "gridcolor": "white",
            "gridwidth": 2,
            "linecolor": "white",
            "showbackground": true,
            "ticks": "",
            "zerolinecolor": "white"
           },
           "yaxis": {
            "backgroundcolor": "#E5ECF6",
            "gridcolor": "white",
            "gridwidth": 2,
            "linecolor": "white",
            "showbackground": true,
            "ticks": "",
            "zerolinecolor": "white"
           },
           "zaxis": {
            "backgroundcolor": "#E5ECF6",
            "gridcolor": "white",
            "gridwidth": 2,
            "linecolor": "white",
            "showbackground": true,
            "ticks": "",
            "zerolinecolor": "white"
           }
          },
          "shapedefaults": {
           "line": {
            "color": "#2a3f5f"
           }
          },
          "ternary": {
           "aaxis": {
            "gridcolor": "white",
            "linecolor": "white",
            "ticks": ""
           },
           "baxis": {
            "gridcolor": "white",
            "linecolor": "white",
            "ticks": ""
           },
           "bgcolor": "#E5ECF6",
           "caxis": {
            "gridcolor": "white",
            "linecolor": "white",
            "ticks": ""
           }
          },
          "title": {
           "x": 0.05
          },
          "xaxis": {
           "automargin": true,
           "gridcolor": "white",
           "linecolor": "white",
           "ticks": "",
           "title": {
            "standoff": 15
           },
           "zerolinecolor": "white",
           "zerolinewidth": 2
          },
          "yaxis": {
           "automargin": true,
           "gridcolor": "white",
           "linecolor": "white",
           "ticks": "",
           "title": {
            "standoff": 15
           },
           "zerolinecolor": "white",
           "zerolinewidth": 2
          }
         }
        }
       }
      },
      "text/html": [
       "<div>                            <div id=\"a39b6fe5-83de-4358-93bd-84ab64910fcb\" class=\"plotly-graph-div\" style=\"height:525px; width:100%;\"></div>            <script type=\"text/javascript\">                require([\"plotly\"], function(Plotly) {                    window.PLOTLYENV=window.PLOTLYENV || {};                                    if (document.getElementById(\"a39b6fe5-83de-4358-93bd-84ab64910fcb\")) {                    Plotly.newPlot(                        \"a39b6fe5-83de-4358-93bd-84ab64910fcb\",                        [{\"labels\":[\"salary\"],\"parents\":[596,127,123,71,51,45,41,38,24,23,20,19,18,17,16,16,14,14,13,11,11,11,10,9,8,8,8,6,6,6,6,5,5,5,4,4,4,4,4,3,3,3,3,3,2,2,2,2,2,2,2,2,2,2,2,2,2,2,2,2,2,1,1,1,1,1,1,1,1,1,1,1,1,1,1,1,1,1,1,1,1,1,1,1,1,1,1,1,1,1,1,1,1,1,1,1,1,1,1,1,1,1,1,1,1,1,1,1,1,1,1,1,1,1,1,1,1,1,1,1,1],\"values\":[\"title\"],\"type\":\"sunburst\"}],                        {\"template\":{\"data\":{\"histogram2dcontour\":[{\"type\":\"histogram2dcontour\",\"colorbar\":{\"outlinewidth\":0,\"ticks\":\"\"},\"colorscale\":[[0.0,\"#0d0887\"],[0.1111111111111111,\"#46039f\"],[0.2222222222222222,\"#7201a8\"],[0.3333333333333333,\"#9c179e\"],[0.4444444444444444,\"#bd3786\"],[0.5555555555555556,\"#d8576b\"],[0.6666666666666666,\"#ed7953\"],[0.7777777777777778,\"#fb9f3a\"],[0.8888888888888888,\"#fdca26\"],[1.0,\"#f0f921\"]]}],\"choropleth\":[{\"type\":\"choropleth\",\"colorbar\":{\"outlinewidth\":0,\"ticks\":\"\"}}],\"histogram2d\":[{\"type\":\"histogram2d\",\"colorbar\":{\"outlinewidth\":0,\"ticks\":\"\"},\"colorscale\":[[0.0,\"#0d0887\"],[0.1111111111111111,\"#46039f\"],[0.2222222222222222,\"#7201a8\"],[0.3333333333333333,\"#9c179e\"],[0.4444444444444444,\"#bd3786\"],[0.5555555555555556,\"#d8576b\"],[0.6666666666666666,\"#ed7953\"],[0.7777777777777778,\"#fb9f3a\"],[0.8888888888888888,\"#fdca26\"],[1.0,\"#f0f921\"]]}],\"heatmap\":[{\"type\":\"heatmap\",\"colorbar\":{\"outlinewidth\":0,\"ticks\":\"\"},\"colorscale\":[[0.0,\"#0d0887\"],[0.1111111111111111,\"#46039f\"],[0.2222222222222222,\"#7201a8\"],[0.3333333333333333,\"#9c179e\"],[0.4444444444444444,\"#bd3786\"],[0.5555555555555556,\"#d8576b\"],[0.6666666666666666,\"#ed7953\"],[0.7777777777777778,\"#fb9f3a\"],[0.8888888888888888,\"#fdca26\"],[1.0,\"#f0f921\"]]}],\"heatmapgl\":[{\"type\":\"heatmapgl\",\"colorbar\":{\"outlinewidth\":0,\"ticks\":\"\"},\"colorscale\":[[0.0,\"#0d0887\"],[0.1111111111111111,\"#46039f\"],[0.2222222222222222,\"#7201a8\"],[0.3333333333333333,\"#9c179e\"],[0.4444444444444444,\"#bd3786\"],[0.5555555555555556,\"#d8576b\"],[0.6666666666666666,\"#ed7953\"],[0.7777777777777778,\"#fb9f3a\"],[0.8888888888888888,\"#fdca26\"],[1.0,\"#f0f921\"]]}],\"contourcarpet\":[{\"type\":\"contourcarpet\",\"colorbar\":{\"outlinewidth\":0,\"ticks\":\"\"}}],\"contour\":[{\"type\":\"contour\",\"colorbar\":{\"outlinewidth\":0,\"ticks\":\"\"},\"colorscale\":[[0.0,\"#0d0887\"],[0.1111111111111111,\"#46039f\"],[0.2222222222222222,\"#7201a8\"],[0.3333333333333333,\"#9c179e\"],[0.4444444444444444,\"#bd3786\"],[0.5555555555555556,\"#d8576b\"],[0.6666666666666666,\"#ed7953\"],[0.7777777777777778,\"#fb9f3a\"],[0.8888888888888888,\"#fdca26\"],[1.0,\"#f0f921\"]]}],\"surface\":[{\"type\":\"surface\",\"colorbar\":{\"outlinewidth\":0,\"ticks\":\"\"},\"colorscale\":[[0.0,\"#0d0887\"],[0.1111111111111111,\"#46039f\"],[0.2222222222222222,\"#7201a8\"],[0.3333333333333333,\"#9c179e\"],[0.4444444444444444,\"#bd3786\"],[0.5555555555555556,\"#d8576b\"],[0.6666666666666666,\"#ed7953\"],[0.7777777777777778,\"#fb9f3a\"],[0.8888888888888888,\"#fdca26\"],[1.0,\"#f0f921\"]]}],\"mesh3d\":[{\"type\":\"mesh3d\",\"colorbar\":{\"outlinewidth\":0,\"ticks\":\"\"}}],\"scatter\":[{\"fillpattern\":{\"fillmode\":\"overlay\",\"size\":10,\"solidity\":0.2},\"type\":\"scatter\"}],\"parcoords\":[{\"type\":\"parcoords\",\"line\":{\"colorbar\":{\"outlinewidth\":0,\"ticks\":\"\"}}}],\"scatterpolargl\":[{\"type\":\"scatterpolargl\",\"marker\":{\"colorbar\":{\"outlinewidth\":0,\"ticks\":\"\"}}}],\"bar\":[{\"error_x\":{\"color\":\"#2a3f5f\"},\"error_y\":{\"color\":\"#2a3f5f\"},\"marker\":{\"line\":{\"color\":\"#E5ECF6\",\"width\":0.5},\"pattern\":{\"fillmode\":\"overlay\",\"size\":10,\"solidity\":0.2}},\"type\":\"bar\"}],\"scattergeo\":[{\"type\":\"scattergeo\",\"marker\":{\"colorbar\":{\"outlinewidth\":0,\"ticks\":\"\"}}}],\"scatterpolar\":[{\"type\":\"scatterpolar\",\"marker\":{\"colorbar\":{\"outlinewidth\":0,\"ticks\":\"\"}}}],\"histogram\":[{\"marker\":{\"pattern\":{\"fillmode\":\"overlay\",\"size\":10,\"solidity\":0.2}},\"type\":\"histogram\"}],\"scattergl\":[{\"type\":\"scattergl\",\"marker\":{\"colorbar\":{\"outlinewidth\":0,\"ticks\":\"\"}}}],\"scatter3d\":[{\"type\":\"scatter3d\",\"line\":{\"colorbar\":{\"outlinewidth\":0,\"ticks\":\"\"}},\"marker\":{\"colorbar\":{\"outlinewidth\":0,\"ticks\":\"\"}}}],\"scattermapbox\":[{\"type\":\"scattermapbox\",\"marker\":{\"colorbar\":{\"outlinewidth\":0,\"ticks\":\"\"}}}],\"scatterternary\":[{\"type\":\"scatterternary\",\"marker\":{\"colorbar\":{\"outlinewidth\":0,\"ticks\":\"\"}}}],\"scattercarpet\":[{\"type\":\"scattercarpet\",\"marker\":{\"colorbar\":{\"outlinewidth\":0,\"ticks\":\"\"}}}],\"carpet\":[{\"aaxis\":{\"endlinecolor\":\"#2a3f5f\",\"gridcolor\":\"white\",\"linecolor\":\"white\",\"minorgridcolor\":\"white\",\"startlinecolor\":\"#2a3f5f\"},\"baxis\":{\"endlinecolor\":\"#2a3f5f\",\"gridcolor\":\"white\",\"linecolor\":\"white\",\"minorgridcolor\":\"white\",\"startlinecolor\":\"#2a3f5f\"},\"type\":\"carpet\"}],\"table\":[{\"cells\":{\"fill\":{\"color\":\"#EBF0F8\"},\"line\":{\"color\":\"white\"}},\"header\":{\"fill\":{\"color\":\"#C8D4E3\"},\"line\":{\"color\":\"white\"}},\"type\":\"table\"}],\"barpolar\":[{\"marker\":{\"line\":{\"color\":\"#E5ECF6\",\"width\":0.5},\"pattern\":{\"fillmode\":\"overlay\",\"size\":10,\"solidity\":0.2}},\"type\":\"barpolar\"}],\"pie\":[{\"automargin\":true,\"type\":\"pie\"}]},\"layout\":{\"autotypenumbers\":\"strict\",\"colorway\":[\"#636efa\",\"#EF553B\",\"#00cc96\",\"#ab63fa\",\"#FFA15A\",\"#19d3f3\",\"#FF6692\",\"#B6E880\",\"#FF97FF\",\"#FECB52\"],\"font\":{\"color\":\"#2a3f5f\"},\"hovermode\":\"closest\",\"hoverlabel\":{\"align\":\"left\"},\"paper_bgcolor\":\"white\",\"plot_bgcolor\":\"#E5ECF6\",\"polar\":{\"bgcolor\":\"#E5ECF6\",\"angularaxis\":{\"gridcolor\":\"white\",\"linecolor\":\"white\",\"ticks\":\"\"},\"radialaxis\":{\"gridcolor\":\"white\",\"linecolor\":\"white\",\"ticks\":\"\"}},\"ternary\":{\"bgcolor\":\"#E5ECF6\",\"aaxis\":{\"gridcolor\":\"white\",\"linecolor\":\"white\",\"ticks\":\"\"},\"baxis\":{\"gridcolor\":\"white\",\"linecolor\":\"white\",\"ticks\":\"\"},\"caxis\":{\"gridcolor\":\"white\",\"linecolor\":\"white\",\"ticks\":\"\"}},\"coloraxis\":{\"colorbar\":{\"outlinewidth\":0,\"ticks\":\"\"}},\"colorscale\":{\"sequential\":[[0.0,\"#0d0887\"],[0.1111111111111111,\"#46039f\"],[0.2222222222222222,\"#7201a8\"],[0.3333333333333333,\"#9c179e\"],[0.4444444444444444,\"#bd3786\"],[0.5555555555555556,\"#d8576b\"],[0.6666666666666666,\"#ed7953\"],[0.7777777777777778,\"#fb9f3a\"],[0.8888888888888888,\"#fdca26\"],[1.0,\"#f0f921\"]],\"sequentialminus\":[[0.0,\"#0d0887\"],[0.1111111111111111,\"#46039f\"],[0.2222222222222222,\"#7201a8\"],[0.3333333333333333,\"#9c179e\"],[0.4444444444444444,\"#bd3786\"],[0.5555555555555556,\"#d8576b\"],[0.6666666666666666,\"#ed7953\"],[0.7777777777777778,\"#fb9f3a\"],[0.8888888888888888,\"#fdca26\"],[1.0,\"#f0f921\"]],\"diverging\":[[0,\"#8e0152\"],[0.1,\"#c51b7d\"],[0.2,\"#de77ae\"],[0.3,\"#f1b6da\"],[0.4,\"#fde0ef\"],[0.5,\"#f7f7f7\"],[0.6,\"#e6f5d0\"],[0.7,\"#b8e186\"],[0.8,\"#7fbc41\"],[0.9,\"#4d9221\"],[1,\"#276419\"]]},\"xaxis\":{\"gridcolor\":\"white\",\"linecolor\":\"white\",\"ticks\":\"\",\"title\":{\"standoff\":15},\"zerolinecolor\":\"white\",\"automargin\":true,\"zerolinewidth\":2},\"yaxis\":{\"gridcolor\":\"white\",\"linecolor\":\"white\",\"ticks\":\"\",\"title\":{\"standoff\":15},\"zerolinecolor\":\"white\",\"automargin\":true,\"zerolinewidth\":2},\"scene\":{\"xaxis\":{\"backgroundcolor\":\"#E5ECF6\",\"gridcolor\":\"white\",\"linecolor\":\"white\",\"showbackground\":true,\"ticks\":\"\",\"zerolinecolor\":\"white\",\"gridwidth\":2},\"yaxis\":{\"backgroundcolor\":\"#E5ECF6\",\"gridcolor\":\"white\",\"linecolor\":\"white\",\"showbackground\":true,\"ticks\":\"\",\"zerolinecolor\":\"white\",\"gridwidth\":2},\"zaxis\":{\"backgroundcolor\":\"#E5ECF6\",\"gridcolor\":\"white\",\"linecolor\":\"white\",\"showbackground\":true,\"ticks\":\"\",\"zerolinecolor\":\"white\",\"gridwidth\":2}},\"shapedefaults\":{\"line\":{\"color\":\"#2a3f5f\"}},\"annotationdefaults\":{\"arrowcolor\":\"#2a3f5f\",\"arrowhead\":0,\"arrowwidth\":1},\"geo\":{\"bgcolor\":\"white\",\"landcolor\":\"#E5ECF6\",\"subunitcolor\":\"white\",\"showland\":true,\"showlakes\":true,\"lakecolor\":\"white\"},\"title\":{\"x\":0.05},\"mapbox\":{\"style\":\"light\"}}}},                        {\"responsive\": true}                    ).then(function(){\n",
       "                            \n",
       "var gd = document.getElementById('a39b6fe5-83de-4358-93bd-84ab64910fcb');\n",
       "var x = new MutationObserver(function (mutations, observer) {{\n",
       "        var display = window.getComputedStyle(gd).display;\n",
       "        if (!display || display === 'none') {{\n",
       "            console.log([gd, 'removed!']);\n",
       "            Plotly.purge(gd);\n",
       "            observer.disconnect();\n",
       "        }}\n",
       "}});\n",
       "\n",
       "// Listen for the removal of the full notebook cells\n",
       "var notebookContainer = gd.closest('#notebook-container');\n",
       "if (notebookContainer) {{\n",
       "    x.observe(notebookContainer, {childList: true});\n",
       "}}\n",
       "\n",
       "// Listen for the clearing of the current output cell\n",
       "var outputEl = gd.closest('.output');\n",
       "if (outputEl) {{\n",
       "    x.observe(outputEl, {childList: true});\n",
       "}}\n",
       "\n",
       "                        })                };                });            </script>        </div>"
      ]
     },
     "metadata": {},
     "output_type": "display_data"
    }
   ],
   "source": [
    "import plotly.graph_objects as go\n",
    "# from plotly.offline import plot, iplot, init_notebook_mode\n",
    "# import plotly.graph_objs as go\n",
    "# init_notebook_mode(connected=True)\n",
    "\n",
    "fig =go.Figure(go.Sunburst(\n",
    "    labels=['salary'],\n",
    "    parents= location_df,\n",
    "    values=['title'],\n",
    "))\n",
    "# fig.update_layout(margin = dict(t=0, l=0, r=0, b=0))\n",
    "\n",
    "fig.show()\n"
   ]
  },
  {
   "cell_type": "code",
   "execution_count": null,
   "id": "b35f93f7-3db5-4fdc-ae88-0797b812bc8a",
   "metadata": {},
   "outputs": [],
   "source": []
  }
 ],
 "metadata": {
  "kernelspec": {
   "display_name": "base",
   "language": "python",
   "name": "python3"
  },
  "language_info": {
   "codemirror_mode": {
    "name": "ipython",
    "version": 3
   },
   "file_extension": ".py",
   "mimetype": "text/x-python",
   "name": "python",
   "nbconvert_exporter": "python",
   "pygments_lexer": "ipython3",
   "version": "3.9.13"
  },
  "vscode": {
   "interpreter": {
    "hash": "19b7d13c81bd57d0d6c42a552bbfc9ef7e70f35162478d88ced70b4499350833"
   }
  }
 },
 "nbformat": 4,
 "nbformat_minor": 5
}
