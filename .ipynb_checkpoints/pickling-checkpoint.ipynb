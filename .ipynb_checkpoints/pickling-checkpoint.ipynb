{
 "cells": [
  {
   "cell_type": "code",
   "execution_count": 3,
   "id": "6f117dde-5438-4618-bd29-4657394d2df3",
   "metadata": {},
   "outputs": [],
   "source": [
    "import pickle"
   ]
  },
  {
   "cell_type": "code",
   "execution_count": 4,
   "id": "58008973-b88c-491f-83a0-42155e17e5c5",
   "metadata": {},
   "outputs": [],
   "source": [
    "skill_list = ['a.i', 'agile', 'ai', 'algorithms', 'analysis', 'automation', 'aws', 'azure', 'c+', 'c++', 'data analysis', 'data mining', 'data wrangling', 'deep learning', 'deployment', 'dl', 'etl', 'forecast', 'forecasting', 'hive', 'machine learning', 'mathematics', 'ml', 'modelling', 'mysql', 'natural language', 'nlp', 'nosql', 'numpy', 'pandas', 'phd', 'power b.i', 'powerbi', 'python', 'regression', 'sas', 'spark', 'sql', 'statistics', 'tableau', 'time series', 'visualization']"
   ]
  },
  {
   "cell_type": "code",
   "execution_count": 5,
   "id": "67c19d78-ba1c-4b7f-9528-752574aca01f",
   "metadata": {},
   "outputs": [],
   "source": [
    "pickle.dump(skill_list,open('DS_skills.pickle','wb'))"
   ]
  },
  {
   "cell_type": "code",
   "execution_count": null,
   "id": "db5e4eb4-eac8-450a-aa7c-b8cd3a0c9d62",
   "metadata": {},
   "outputs": [],
   "source": []
  }
 ],
 "metadata": {
  "kernelspec": {
   "display_name": "Python 3 (ipykernel)",
   "language": "python",
   "name": "python3"
  },
  "language_info": {
   "codemirror_mode": {
    "name": "ipython",
    "version": 3
   },
   "file_extension": ".py",
   "mimetype": "text/x-python",
   "name": "python",
   "nbconvert_exporter": "python",
   "pygments_lexer": "ipython3",
   "version": "3.10.6"
  }
 },
 "nbformat": 4,
 "nbformat_minor": 5
}
