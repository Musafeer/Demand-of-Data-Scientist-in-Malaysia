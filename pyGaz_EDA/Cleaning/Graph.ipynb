{
 "cells": [
  {
   "cell_type": "code",
   "execution_count": 41,
   "id": "7f626760-a9ec-4b7a-804e-48b92d7c506e",
   "metadata": {},
   "outputs": [],
   "source": [
    "import pandas as pd\n",
    "import re\n",
    "import json\n",
    "import plotly.express as px\n",
    "import plotly.graph_objects as go"
   ]
  },
  {
   "cell_type": "code",
   "execution_count": 16,
   "id": "ddd20b16-a52f-4c0c-abbd-f90397d7335b",
   "metadata": {},
   "outputs": [
    {
     "data": {
      "text/html": [
       "<div>\n",
       "<style scoped>\n",
       "    .dataframe tbody tr th:only-of-type {\n",
       "        vertical-align: middle;\n",
       "    }\n",
       "\n",
       "    .dataframe tbody tr th {\n",
       "        vertical-align: top;\n",
       "    }\n",
       "\n",
       "    .dataframe thead th {\n",
       "        text-align: right;\n",
       "    }\n",
       "</style>\n",
       "<table border=\"1\" class=\"dataframe\">\n",
       "  <thead>\n",
       "    <tr style=\"text-align: right;\">\n",
       "      <th></th>\n",
       "      <th>location</th>\n",
       "      <th>title</th>\n",
       "      <th>company</th>\n",
       "      <th>salary</th>\n",
       "      <th>summary</th>\n",
       "      <th>job_url</th>\n",
       "    </tr>\n",
       "  </thead>\n",
       "  <tbody>\n",
       "    <tr>\n",
       "      <th>0</th>\n",
       "      <td>Bentong</td>\n",
       "      <td>Data Scientist - Manager</td>\n",
       "      <td>Genting Malaysia Berhad</td>\n",
       "      <td>NaN</td>\n",
       "      <td>Operate machine-learning models to perform dat...</td>\n",
       "      <td>https://www.jobstreet.com.my/en/job/data-scien...</td>\n",
       "    </tr>\n",
       "    <tr>\n",
       "      <th>1</th>\n",
       "      <td>Kuala Lumpur</td>\n",
       "      <td>Senior Data Scientist - Information Retrieval ...</td>\n",
       "      <td>SEEK Asia (JobStreet)</td>\n",
       "      <td>NaN</td>\n",
       "      <td>The Role\\nThe Senior Data Scientist – Informat...</td>\n",
       "      <td>https://www.jobstreet.com.my/en/job/senior-dat...</td>\n",
       "    </tr>\n",
       "    <tr>\n",
       "      <th>2</th>\n",
       "      <td>Kuala Lumpur</td>\n",
       "      <td>Data Scientist</td>\n",
       "      <td>RHB Banking Group</td>\n",
       "      <td>NaN</td>\n",
       "      <td>Responsibilities\\nAssess applicability of adva...</td>\n",
       "      <td>https://www.jobstreet.com.my/en/job/data-scien...</td>\n",
       "    </tr>\n",
       "    <tr>\n",
       "      <th>3</th>\n",
       "      <td>Kuala Lumpur</td>\n",
       "      <td>DATA SCIENCE &amp;BACK END SYSTEM ENGINEERING</td>\n",
       "      <td>Digital Silhouette Sdn Bhd</td>\n",
       "      <td>NaN</td>\n",
       "      <td>1.     Data Mining &amp;Analysis\\n-       Requires...</td>\n",
       "      <td>https://www.jobstreet.com.my/en/job/data-scien...</td>\n",
       "    </tr>\n",
       "    <tr>\n",
       "      <th>4</th>\n",
       "      <td>Bayan Lepas</td>\n",
       "      <td>Business Intelligent Analyst (Data Scientist)</td>\n",
       "      <td>Keysight Technologies Malaysia Sdn. Bhd.</td>\n",
       "      <td>NaN</td>\n",
       "      <td>We are looking for a Data Scientist to analyze...</td>\n",
       "      <td>https://www.jobstreet.com.my/en/job/business-i...</td>\n",
       "    </tr>\n",
       "  </tbody>\n",
       "</table>\n",
       "</div>"
      ],
      "text/plain": [
       "       location                                              title  \\\n",
       "0       Bentong                           Data Scientist - Manager   \n",
       "1  Kuala Lumpur  Senior Data Scientist - Information Retrieval ...   \n",
       "2  Kuala Lumpur                                     Data Scientist   \n",
       "3  Kuala Lumpur          DATA SCIENCE &BACK END SYSTEM ENGINEERING   \n",
       "4   Bayan Lepas      Business Intelligent Analyst (Data Scientist)   \n",
       "\n",
       "                                    company  salary  \\\n",
       "0                   Genting Malaysia Berhad     NaN   \n",
       "1                     SEEK Asia (JobStreet)     NaN   \n",
       "2                         RHB Banking Group     NaN   \n",
       "3                Digital Silhouette Sdn Bhd     NaN   \n",
       "4  Keysight Technologies Malaysia Sdn. Bhd.     NaN   \n",
       "\n",
       "                                             summary  \\\n",
       "0  Operate machine-learning models to perform dat...   \n",
       "1  The Role\\nThe Senior Data Scientist – Informat...   \n",
       "2  Responsibilities\\nAssess applicability of adva...   \n",
       "3  1.     Data Mining &Analysis\\n-       Requires...   \n",
       "4  We are looking for a Data Scientist to analyze...   \n",
       "\n",
       "                                             job_url  \n",
       "0  https://www.jobstreet.com.my/en/job/data-scien...  \n",
       "1  https://www.jobstreet.com.my/en/job/senior-dat...  \n",
       "2  https://www.jobstreet.com.my/en/job/data-scien...  \n",
       "3  https://www.jobstreet.com.my/en/job/data-scien...  \n",
       "4  https://www.jobstreet.com.my/en/job/business-i...  "
      ]
     },
     "execution_count": 16,
     "metadata": {},
     "output_type": "execute_result"
    }
   ],
   "source": [
    "df = pd.read_csv('final.csv')\n",
    "df.head()"
   ]
  },
  {
   "cell_type": "code",
   "execution_count": 18,
   "id": "bfd60795-b802-416e-8024-9e778f25ecc4",
   "metadata": {},
   "outputs": [],
   "source": [
    "def clean_data(text):\n",
    "    # Remove all punctuation\n",
    "    clean = re.compile('[^\\w\\s]')\n",
    "    text = re.sub(clean, '', text)\n",
    "\n",
    "    # Convert all text to lowercase\n",
    "    text = text.lower()\n",
    "\n",
    "    # Remove all digits\n",
    "    clean = re.compile('\\d')\n",
    "    text = re.sub(clean, '', text)\n",
    "\n",
    "    # Remove all stopwords\n",
    "    from nltk.corpus import stopwords\n",
    "\n",
    "    stop_words = set(stopwords.words('english'))\n",
    "\n",
    "    words = text.split()\n",
    "    words = [word for word in words if word not in stop_words]\n",
    "    text = ' '.join(words)\n",
    "\n",
    "    return text\n",
    "\n",
    "# Apply the function to the 'summary' column of the dataframe\n",
    "df['summary'] = df['summary'].apply(clean_data)"
   ]
  },
  {
   "cell_type": "code",
   "execution_count": 23,
   "id": "5e603648-005e-46c8-a570-0a261e16b185",
   "metadata": {},
   "outputs": [],
   "source": [
    "# Define a function to extract job skills from a string of text\n",
    "def extract_skills(text):\n",
    "    # Compile a regular expression to match job skills\n",
    "    skill_regex = re.compile(r'(data analysis|data visualization|machine learning|statistical analysis|data mining|data engineering|data manipulation|data cleaning|data preprocessing|data modeling|data warehousing|data governance|data management|data security|data quality|data integration|big data|cloud computing|sql|python|power bi|tableau|excel|java|scala|julia|sas|spark|hadoop|nosql databases|relational databases|data lakes|data streams|data warehousing|data governance|data management|data security|data quality|data integration|artificial intelligence|natural language processing|computer vision|deep learning|neural networks)')\n",
    "    \n",
    "    # Find all occurrences of job skills in the text\n",
    "    skills = []\n",
    "    for match in skill_regex.finditer(text):\n",
    "        skills.append(match.group(0))\n",
    "        \n",
    "    # Compile the regular expression to match standalone Rs\n",
    "    standalone_r_regex = re.compile(r'\\bR\\b')\n",
    "    \n",
    "    # Find all occurrences of the regular expression\n",
    "    standalone_rs = standalone_r_regex.findall(text)\n",
    "    \n",
    "    # Append the standalone Rs to the list of skills\n",
    "    skills.extend(standalone_rs)\n",
    "    \n",
    "    # Return the extracted skills\n",
    "    return skills\n",
    "\n",
    "# Apply the function to the 'summary' column of the dataframe\n",
    "df['skills'] = df['summary'].apply(extract_skills)\n"
   ]
  },
  {
   "cell_type": "code",
   "execution_count": 25,
   "id": "ba419271-b3d7-467b-a5e8-853f20086956",
   "metadata": {},
   "outputs": [
    {
     "data": {
      "text/plain": [
       "0       [statistical analysis, tableau, sql, data mini...\n",
       "1       [artificial intelligence, sql, machine learnin...\n",
       "2       [excel, tableau, machine learning, big data, d...\n",
       "3                         [data mining, power bi, python]\n",
       "4       [excel, tableau, machine learning, big data, p...\n",
       "                              ...                        \n",
       "3685                             [data management, scala]\n",
       "3686                                       [scala, excel]\n",
       "3687                                      [data analysis]\n",
       "3688                          [sql, excel, data analysis]\n",
       "3689                                        [excel, java]\n",
       "Name: skills, Length: 3690, dtype: object"
      ]
     },
     "execution_count": 25,
     "metadata": {},
     "output_type": "execute_result"
    }
   ],
   "source": [
    "# Remove duplicates from the 'skills' column\n",
    "df['skills'] = df['skills'].apply(lambda x: list(set(x)))\n",
    "skill_counts = df['skills']\n",
    "skill_counts"
   ]
  },
  {
   "cell_type": "code",
   "execution_count": 26,
   "id": "7d84db79-cea7-4bcc-b8eb-326aa2a2e425",
   "metadata": {},
   "outputs": [
    {
     "name": "stdout",
     "output_type": "stream",
     "text": [
      "excel: 1587\n",
      "sql: 1147\n",
      "java: 637\n",
      "python: 555\n",
      "scala: 484\n",
      "data analysis: 389\n",
      "sas: 305\n",
      "big data: 281\n",
      "power bi: 233\n",
      "machine learning: 216\n"
     ]
    }
   ],
   "source": [
    "from collections import Counter\n",
    "\n",
    "# Count the occurrences of each skill\n",
    "skill_counts = Counter()\n",
    "for skills in df['skills']:\n",
    "    skill_counts.update(skills)\n",
    "\n",
    "# Sort the skills by their count\n",
    "sorted_skills = sorted(skill_counts.items(), key=lambda x: x[1], reverse=True)\n",
    "\n",
    "# Get the top 10 skills\n",
    "top_10_skills = sorted_skills[:10]\n",
    "\n",
    "# Print the top 10 skills\n",
    "for skill, count in top_10_skills:\n",
    "    print(f'{skill}: {count}')"
   ]
  },
  {
   "cell_type": "code",
   "execution_count": 33,
   "id": "13fb6107-be67-47e6-bf44-ea55b2802108",
   "metadata": {},
   "outputs": [
    {
     "data": {
      "application/vnd.plotly.v1+json": {
       "config": {
        "plotlyServerURL": "https://plot.ly"
       },
       "data": [
        {
         "marker": {
          "color": "skyblue"
         },
         "orientation": "h",
         "type": "bar",
         "x": [
          1587,
          1147,
          637,
          555,
          484,
          389,
          305,
          281,
          233,
          216
         ],
         "y": [
          "excel",
          "sql",
          "java",
          "python",
          "scala",
          "data analysis",
          "sas",
          "big data",
          "power bi",
          "machine learning"
         ]
        }
       ],
       "layout": {
        "autosize": true,
        "template": {
         "data": {
          "bar": [
           {
            "error_x": {
             "color": "#2a3f5f"
            },
            "error_y": {
             "color": "#2a3f5f"
            },
            "marker": {
             "line": {
              "color": "#E5ECF6",
              "width": 0.5
             },
             "pattern": {
              "fillmode": "overlay",
              "size": 10,
              "solidity": 0.2
             }
            },
            "type": "bar"
           }
          ],
          "barpolar": [
           {
            "marker": {
             "line": {
              "color": "#E5ECF6",
              "width": 0.5
             },
             "pattern": {
              "fillmode": "overlay",
              "size": 10,
              "solidity": 0.2
             }
            },
            "type": "barpolar"
           }
          ],
          "carpet": [
           {
            "aaxis": {
             "endlinecolor": "#2a3f5f",
             "gridcolor": "white",
             "linecolor": "white",
             "minorgridcolor": "white",
             "startlinecolor": "#2a3f5f"
            },
            "baxis": {
             "endlinecolor": "#2a3f5f",
             "gridcolor": "white",
             "linecolor": "white",
             "minorgridcolor": "white",
             "startlinecolor": "#2a3f5f"
            },
            "type": "carpet"
           }
          ],
          "choropleth": [
           {
            "colorbar": {
             "outlinewidth": 0,
             "ticks": ""
            },
            "type": "choropleth"
           }
          ],
          "contour": [
           {
            "colorbar": {
             "outlinewidth": 0,
             "ticks": ""
            },
            "colorscale": [
             [
              0,
              "#0d0887"
             ],
             [
              0.1111111111111111,
              "#46039f"
             ],
             [
              0.2222222222222222,
              "#7201a8"
             ],
             [
              0.3333333333333333,
              "#9c179e"
             ],
             [
              0.4444444444444444,
              "#bd3786"
             ],
             [
              0.5555555555555556,
              "#d8576b"
             ],
             [
              0.6666666666666666,
              "#ed7953"
             ],
             [
              0.7777777777777778,
              "#fb9f3a"
             ],
             [
              0.8888888888888888,
              "#fdca26"
             ],
             [
              1,
              "#f0f921"
             ]
            ],
            "type": "contour"
           }
          ],
          "contourcarpet": [
           {
            "colorbar": {
             "outlinewidth": 0,
             "ticks": ""
            },
            "type": "contourcarpet"
           }
          ],
          "heatmap": [
           {
            "colorbar": {
             "outlinewidth": 0,
             "ticks": ""
            },
            "colorscale": [
             [
              0,
              "#0d0887"
             ],
             [
              0.1111111111111111,
              "#46039f"
             ],
             [
              0.2222222222222222,
              "#7201a8"
             ],
             [
              0.3333333333333333,
              "#9c179e"
             ],
             [
              0.4444444444444444,
              "#bd3786"
             ],
             [
              0.5555555555555556,
              "#d8576b"
             ],
             [
              0.6666666666666666,
              "#ed7953"
             ],
             [
              0.7777777777777778,
              "#fb9f3a"
             ],
             [
              0.8888888888888888,
              "#fdca26"
             ],
             [
              1,
              "#f0f921"
             ]
            ],
            "type": "heatmap"
           }
          ],
          "heatmapgl": [
           {
            "colorbar": {
             "outlinewidth": 0,
             "ticks": ""
            },
            "colorscale": [
             [
              0,
              "#0d0887"
             ],
             [
              0.1111111111111111,
              "#46039f"
             ],
             [
              0.2222222222222222,
              "#7201a8"
             ],
             [
              0.3333333333333333,
              "#9c179e"
             ],
             [
              0.4444444444444444,
              "#bd3786"
             ],
             [
              0.5555555555555556,
              "#d8576b"
             ],
             [
              0.6666666666666666,
              "#ed7953"
             ],
             [
              0.7777777777777778,
              "#fb9f3a"
             ],
             [
              0.8888888888888888,
              "#fdca26"
             ],
             [
              1,
              "#f0f921"
             ]
            ],
            "type": "heatmapgl"
           }
          ],
          "histogram": [
           {
            "marker": {
             "pattern": {
              "fillmode": "overlay",
              "size": 10,
              "solidity": 0.2
             }
            },
            "type": "histogram"
           }
          ],
          "histogram2d": [
           {
            "colorbar": {
             "outlinewidth": 0,
             "ticks": ""
            },
            "colorscale": [
             [
              0,
              "#0d0887"
             ],
             [
              0.1111111111111111,
              "#46039f"
             ],
             [
              0.2222222222222222,
              "#7201a8"
             ],
             [
              0.3333333333333333,
              "#9c179e"
             ],
             [
              0.4444444444444444,
              "#bd3786"
             ],
             [
              0.5555555555555556,
              "#d8576b"
             ],
             [
              0.6666666666666666,
              "#ed7953"
             ],
             [
              0.7777777777777778,
              "#fb9f3a"
             ],
             [
              0.8888888888888888,
              "#fdca26"
             ],
             [
              1,
              "#f0f921"
             ]
            ],
            "type": "histogram2d"
           }
          ],
          "histogram2dcontour": [
           {
            "colorbar": {
             "outlinewidth": 0,
             "ticks": ""
            },
            "colorscale": [
             [
              0,
              "#0d0887"
             ],
             [
              0.1111111111111111,
              "#46039f"
             ],
             [
              0.2222222222222222,
              "#7201a8"
             ],
             [
              0.3333333333333333,
              "#9c179e"
             ],
             [
              0.4444444444444444,
              "#bd3786"
             ],
             [
              0.5555555555555556,
              "#d8576b"
             ],
             [
              0.6666666666666666,
              "#ed7953"
             ],
             [
              0.7777777777777778,
              "#fb9f3a"
             ],
             [
              0.8888888888888888,
              "#fdca26"
             ],
             [
              1,
              "#f0f921"
             ]
            ],
            "type": "histogram2dcontour"
           }
          ],
          "mesh3d": [
           {
            "colorbar": {
             "outlinewidth": 0,
             "ticks": ""
            },
            "type": "mesh3d"
           }
          ],
          "parcoords": [
           {
            "line": {
             "colorbar": {
              "outlinewidth": 0,
              "ticks": ""
             }
            },
            "type": "parcoords"
           }
          ],
          "pie": [
           {
            "automargin": true,
            "type": "pie"
           }
          ],
          "scatter": [
           {
            "fillpattern": {
             "fillmode": "overlay",
             "size": 10,
             "solidity": 0.2
            },
            "type": "scatter"
           }
          ],
          "scatter3d": [
           {
            "line": {
             "colorbar": {
              "outlinewidth": 0,
              "ticks": ""
             }
            },
            "marker": {
             "colorbar": {
              "outlinewidth": 0,
              "ticks": ""
             }
            },
            "type": "scatter3d"
           }
          ],
          "scattercarpet": [
           {
            "marker": {
             "colorbar": {
              "outlinewidth": 0,
              "ticks": ""
             }
            },
            "type": "scattercarpet"
           }
          ],
          "scattergeo": [
           {
            "marker": {
             "colorbar": {
              "outlinewidth": 0,
              "ticks": ""
             }
            },
            "type": "scattergeo"
           }
          ],
          "scattergl": [
           {
            "marker": {
             "colorbar": {
              "outlinewidth": 0,
              "ticks": ""
             }
            },
            "type": "scattergl"
           }
          ],
          "scattermapbox": [
           {
            "marker": {
             "colorbar": {
              "outlinewidth": 0,
              "ticks": ""
             }
            },
            "type": "scattermapbox"
           }
          ],
          "scatterpolar": [
           {
            "marker": {
             "colorbar": {
              "outlinewidth": 0,
              "ticks": ""
             }
            },
            "type": "scatterpolar"
           }
          ],
          "scatterpolargl": [
           {
            "marker": {
             "colorbar": {
              "outlinewidth": 0,
              "ticks": ""
             }
            },
            "type": "scatterpolargl"
           }
          ],
          "scatterternary": [
           {
            "marker": {
             "colorbar": {
              "outlinewidth": 0,
              "ticks": ""
             }
            },
            "type": "scatterternary"
           }
          ],
          "surface": [
           {
            "colorbar": {
             "outlinewidth": 0,
             "ticks": ""
            },
            "colorscale": [
             [
              0,
              "#0d0887"
             ],
             [
              0.1111111111111111,
              "#46039f"
             ],
             [
              0.2222222222222222,
              "#7201a8"
             ],
             [
              0.3333333333333333,
              "#9c179e"
             ],
             [
              0.4444444444444444,
              "#bd3786"
             ],
             [
              0.5555555555555556,
              "#d8576b"
             ],
             [
              0.6666666666666666,
              "#ed7953"
             ],
             [
              0.7777777777777778,
              "#fb9f3a"
             ],
             [
              0.8888888888888888,
              "#fdca26"
             ],
             [
              1,
              "#f0f921"
             ]
            ],
            "type": "surface"
           }
          ],
          "table": [
           {
            "cells": {
             "fill": {
              "color": "#EBF0F8"
             },
             "line": {
              "color": "white"
             }
            },
            "header": {
             "fill": {
              "color": "#C8D4E3"
             },
             "line": {
              "color": "white"
             }
            },
            "type": "table"
           }
          ]
         },
         "layout": {
          "annotationdefaults": {
           "arrowcolor": "#2a3f5f",
           "arrowhead": 0,
           "arrowwidth": 1
          },
          "autotypenumbers": "strict",
          "coloraxis": {
           "colorbar": {
            "outlinewidth": 0,
            "ticks": ""
           }
          },
          "colorscale": {
           "diverging": [
            [
             0,
             "#8e0152"
            ],
            [
             0.1,
             "#c51b7d"
            ],
            [
             0.2,
             "#de77ae"
            ],
            [
             0.3,
             "#f1b6da"
            ],
            [
             0.4,
             "#fde0ef"
            ],
            [
             0.5,
             "#f7f7f7"
            ],
            [
             0.6,
             "#e6f5d0"
            ],
            [
             0.7,
             "#b8e186"
            ],
            [
             0.8,
             "#7fbc41"
            ],
            [
             0.9,
             "#4d9221"
            ],
            [
             1,
             "#276419"
            ]
           ],
           "sequential": [
            [
             0,
             "#0d0887"
            ],
            [
             0.1111111111111111,
             "#46039f"
            ],
            [
             0.2222222222222222,
             "#7201a8"
            ],
            [
             0.3333333333333333,
             "#9c179e"
            ],
            [
             0.4444444444444444,
             "#bd3786"
            ],
            [
             0.5555555555555556,
             "#d8576b"
            ],
            [
             0.6666666666666666,
             "#ed7953"
            ],
            [
             0.7777777777777778,
             "#fb9f3a"
            ],
            [
             0.8888888888888888,
             "#fdca26"
            ],
            [
             1,
             "#f0f921"
            ]
           ],
           "sequentialminus": [
            [
             0,
             "#0d0887"
            ],
            [
             0.1111111111111111,
             "#46039f"
            ],
            [
             0.2222222222222222,
             "#7201a8"
            ],
            [
             0.3333333333333333,
             "#9c179e"
            ],
            [
             0.4444444444444444,
             "#bd3786"
            ],
            [
             0.5555555555555556,
             "#d8576b"
            ],
            [
             0.6666666666666666,
             "#ed7953"
            ],
            [
             0.7777777777777778,
             "#fb9f3a"
            ],
            [
             0.8888888888888888,
             "#fdca26"
            ],
            [
             1,
             "#f0f921"
            ]
           ]
          },
          "colorway": [
           "#636efa",
           "#EF553B",
           "#00cc96",
           "#ab63fa",
           "#FFA15A",
           "#19d3f3",
           "#FF6692",
           "#B6E880",
           "#FF97FF",
           "#FECB52"
          ],
          "font": {
           "color": "#2a3f5f"
          },
          "geo": {
           "bgcolor": "white",
           "lakecolor": "white",
           "landcolor": "#E5ECF6",
           "showlakes": true,
           "showland": true,
           "subunitcolor": "white"
          },
          "hoverlabel": {
           "align": "left"
          },
          "hovermode": "closest",
          "mapbox": {
           "style": "light"
          },
          "paper_bgcolor": "white",
          "plot_bgcolor": "#E5ECF6",
          "polar": {
           "angularaxis": {
            "gridcolor": "white",
            "linecolor": "white",
            "ticks": ""
           },
           "bgcolor": "#E5ECF6",
           "radialaxis": {
            "gridcolor": "white",
            "linecolor": "white",
            "ticks": ""
           }
          },
          "scene": {
           "xaxis": {
            "backgroundcolor": "#E5ECF6",
            "gridcolor": "white",
            "gridwidth": 2,
            "linecolor": "white",
            "showbackground": true,
            "ticks": "",
            "zerolinecolor": "white"
           },
           "yaxis": {
            "backgroundcolor": "#E5ECF6",
            "gridcolor": "white",
            "gridwidth": 2,
            "linecolor": "white",
            "showbackground": true,
            "ticks": "",
            "zerolinecolor": "white"
           },
           "zaxis": {
            "backgroundcolor": "#E5ECF6",
            "gridcolor": "white",
            "gridwidth": 2,
            "linecolor": "white",
            "showbackground": true,
            "ticks": "",
            "zerolinecolor": "white"
           }
          },
          "shapedefaults": {
           "line": {
            "color": "#2a3f5f"
           }
          },
          "ternary": {
           "aaxis": {
            "gridcolor": "white",
            "linecolor": "white",
            "ticks": ""
           },
           "baxis": {
            "gridcolor": "white",
            "linecolor": "white",
            "ticks": ""
           },
           "bgcolor": "#E5ECF6",
           "caxis": {
            "gridcolor": "white",
            "linecolor": "white",
            "ticks": ""
           }
          },
          "title": {
           "x": 0.05
          },
          "xaxis": {
           "automargin": true,
           "gridcolor": "white",
           "linecolor": "white",
           "ticks": "",
           "title": {
            "standoff": 15
           },
           "zerolinecolor": "white",
           "zerolinewidth": 2
          },
          "yaxis": {
           "automargin": true,
           "gridcolor": "white",
           "linecolor": "white",
           "ticks": "",
           "title": {
            "standoff": 15
           },
           "zerolinecolor": "white",
           "zerolinewidth": 2
          }
         }
        },
        "xaxis": {
         "autorange": true,
         "range": [
          0,
          1670.5263157894738
         ],
         "title": {
          "text": "Number of occurrences"
         },
         "type": "linear"
        },
        "yaxis": {
         "autorange": true,
         "range": [
          -0.5,
          9.5
         ],
         "title": {
          "text": "Skill"
         },
         "type": "category"
        }
       }
      },
      "image/png": "[encoded data removed]",
      "text/html": [
       "<div>                            <div id=\"77e0f45a-9a72-4960-989c-44394de95c1c\" class=\"plotly-graph-div\" style=\"height:525px; width:100%;\"></div>            <script type=\"text/javascript\">                require([\"plotly\"], function(Plotly) {                    window.PLOTLYENV=window.PLOTLYENV || {};                                    if (document.getElementById(\"77e0f45a-9a72-4960-989c-44394de95c1c\")) {                    Plotly.newPlot(                        \"77e0f45a-9a72-4960-989c-44394de95c1c\",                        [{\"marker\":{\"color\":\"skyblue\"},\"orientation\":\"h\",\"x\":[1587,1147,637,555,484,389,305,281,233,216],\"y\":[\"excel\",\"sql\",\"java\",\"python\",\"scala\",\"data analysis\",\"sas\",\"big data\",\"power bi\",\"machine learning\"],\"type\":\"bar\"}],                        {\"template\":{\"data\":{\"histogram2dcontour\":[{\"type\":\"histogram2dcontour\",\"colorbar\":{\"outlinewidth\":0,\"ticks\":\"\"},\"colorscale\":[[0.0,\"#0d0887\"],[0.1111111111111111,\"#46039f\"],[0.2222222222222222,\"#7201a8\"],[0.3333333333333333,\"#9c179e\"],[0.4444444444444444,\"#bd3786\"],[0.5555555555555556,\"#d8576b\"],[0.6666666666666666,\"#ed7953\"],[0.7777777777777778,\"#fb9f3a\"],[0.8888888888888888,\"#fdca26\"],[1.0,\"#f0f921\"]]}],\"choropleth\":[{\"type\":\"choropleth\",\"colorbar\":{\"outlinewidth\":0,\"ticks\":\"\"}}],\"histogram2d\":[{\"type\":\"histogram2d\",\"colorbar\":{\"outlinewidth\":0,\"ticks\":\"\"},\"colorscale\":[[0.0,\"#0d0887\"],[0.1111111111111111,\"#46039f\"],[0.2222222222222222,\"#7201a8\"],[0.3333333333333333,\"#9c179e\"],[0.4444444444444444,\"#bd3786\"],[0.5555555555555556,\"#d8576b\"],[0.6666666666666666,\"#ed7953\"],[0.7777777777777778,\"#fb9f3a\"],[0.8888888888888888,\"#fdca26\"],[1.0,\"#f0f921\"]]}],\"heatmap\":[{\"type\":\"heatmap\",\"colorbar\":{\"outlinewidth\":0,\"ticks\":\"\"},\"colorscale\":[[0.0,\"#0d0887\"],[0.1111111111111111,\"#46039f\"],[0.2222222222222222,\"#7201a8\"],[0.3333333333333333,\"#9c179e\"],[0.4444444444444444,\"#bd3786\"],[0.5555555555555556,\"#d8576b\"],[0.6666666666666666,\"#ed7953\"],[0.7777777777777778,\"#fb9f3a\"],[0.8888888888888888,\"#fdca26\"],[1.0,\"#f0f921\"]]}],\"heatmapgl\":[{\"type\":\"heatmapgl\",\"colorbar\":{\"outlinewidth\":0,\"ticks\":\"\"},\"colorscale\":[[0.0,\"#0d0887\"],[0.1111111111111111,\"#46039f\"],[0.2222222222222222,\"#7201a8\"],[0.3333333333333333,\"#9c179e\"],[0.4444444444444444,\"#bd3786\"],[0.5555555555555556,\"#d8576b\"],[0.6666666666666666,\"#ed7953\"],[0.7777777777777778,\"#fb9f3a\"],[0.8888888888888888,\"#fdca26\"],[1.0,\"#f0f921\"]]}],\"contourcarpet\":[{\"type\":\"contourcarpet\",\"colorbar\":{\"outlinewidth\":0,\"ticks\":\"\"}}],\"contour\":[{\"type\":\"contour\",\"colorbar\":{\"outlinewidth\":0,\"ticks\":\"\"},\"colorscale\":[[0.0,\"#0d0887\"],[0.1111111111111111,\"#46039f\"],[0.2222222222222222,\"#7201a8\"],[0.3333333333333333,\"#9c179e\"],[0.4444444444444444,\"#bd3786\"],[0.5555555555555556,\"#d8576b\"],[0.6666666666666666,\"#ed7953\"],[0.7777777777777778,\"#fb9f3a\"],[0.8888888888888888,\"#fdca26\"],[1.0,\"#f0f921\"]]}],\"surface\":[{\"type\":\"surface\",\"colorbar\":{\"outlinewidth\":0,\"ticks\":\"\"},\"colorscale\":[[0.0,\"#0d0887\"],[0.1111111111111111,\"#46039f\"],[0.2222222222222222,\"#7201a8\"],[0.3333333333333333,\"#9c179e\"],[0.4444444444444444,\"#bd3786\"],[0.5555555555555556,\"#d8576b\"],[0.6666666666666666,\"#ed7953\"],[0.7777777777777778,\"#fb9f3a\"],[0.8888888888888888,\"#fdca26\"],[1.0,\"#f0f921\"]]}],\"mesh3d\":[{\"type\":\"mesh3d\",\"colorbar\":{\"outlinewidth\":0,\"ticks\":\"\"}}],\"scatter\":[{\"fillpattern\":{\"fillmode\":\"overlay\",\"size\":10,\"solidity\":0.2},\"type\":\"scatter\"}],\"parcoords\":[{\"type\":\"parcoords\",\"line\":{\"colorbar\":{\"outlinewidth\":0,\"ticks\":\"\"}}}],\"scatterpolargl\":[{\"type\":\"scatterpolargl\",\"marker\":{\"colorbar\":{\"outlinewidth\":0,\"ticks\":\"\"}}}],\"bar\":[{\"error_x\":{\"color\":\"#2a3f5f\"},\"error_y\":{\"color\":\"#2a3f5f\"},\"marker\":{\"line\":{\"color\":\"#E5ECF6\",\"width\":0.5},\"pattern\":{\"fillmode\":\"overlay\",\"size\":10,\"solidity\":0.2}},\"type\":\"bar\"}],\"scattergeo\":[{\"type\":\"scattergeo\",\"marker\":{\"colorbar\":{\"outlinewidth\":0,\"ticks\":\"\"}}}],\"scatterpolar\":[{\"type\":\"scatterpolar\",\"marker\":{\"colorbar\":{\"outlinewidth\":0,\"ticks\":\"\"}}}],\"histogram\":[{\"marker\":{\"pattern\":{\"fillmode\":\"overlay\",\"size\":10,\"solidity\":0.2}},\"type\":\"histogram\"}],\"scattergl\":[{\"type\":\"scattergl\",\"marker\":{\"colorbar\":{\"outlinewidth\":0,\"ticks\":\"\"}}}],\"scatter3d\":[{\"type\":\"scatter3d\",\"line\":{\"colorbar\":{\"outlinewidth\":0,\"ticks\":\"\"}},\"marker\":{\"colorbar\":{\"outlinewidth\":0,\"ticks\":\"\"}}}],\"scattermapbox\":[{\"type\":\"scattermapbox\",\"marker\":{\"colorbar\":{\"outlinewidth\":0,\"ticks\":\"\"}}}],\"scatterternary\":[{\"type\":\"scatterternary\",\"marker\":{\"colorbar\":{\"outlinewidth\":0,\"ticks\":\"\"}}}],\"scattercarpet\":[{\"type\":\"scattercarpet\",\"marker\":{\"colorbar\":{\"outlinewidth\":0,\"ticks\":\"\"}}}],\"carpet\":[{\"aaxis\":{\"endlinecolor\":\"#2a3f5f\",\"gridcolor\":\"white\",\"linecolor\":\"white\",\"minorgridcolor\":\"white\",\"startlinecolor\":\"#2a3f5f\"},\"baxis\":{\"endlinecolor\":\"#2a3f5f\",\"gridcolor\":\"white\",\"linecolor\":\"white\",\"minorgridcolor\":\"white\",\"startlinecolor\":\"#2a3f5f\"},\"type\":\"carpet\"}],\"table\":[{\"cells\":{\"fill\":{\"color\":\"#EBF0F8\"},\"line\":{\"color\":\"white\"}},\"header\":{\"fill\":{\"color\":\"#C8D4E3\"},\"line\":{\"color\":\"white\"}},\"type\":\"table\"}],\"barpolar\":[{\"marker\":{\"line\":{\"color\":\"#E5ECF6\",\"width\":0.5},\"pattern\":{\"fillmode\":\"overlay\",\"size\":10,\"solidity\":0.2}},\"type\":\"barpolar\"}],\"pie\":[{\"automargin\":true,\"type\":\"pie\"}]},\"layout\":{\"autotypenumbers\":\"strict\",\"colorway\":[\"#636efa\",\"#EF553B\",\"#00cc96\",\"#ab63fa\",\"#FFA15A\",\"#19d3f3\",\"#FF6692\",\"#B6E880\",\"#FF97FF\",\"#FECB52\"],\"font\":{\"color\":\"#2a3f5f\"},\"hovermode\":\"closest\",\"hoverlabel\":{\"align\":\"left\"},\"paper_bgcolor\":\"white\",\"plot_bgcolor\":\"#E5ECF6\",\"polar\":{\"bgcolor\":\"#E5ECF6\",\"angularaxis\":{\"gridcolor\":\"white\",\"linecolor\":\"white\",\"ticks\":\"\"},\"radialaxis\":{\"gridcolor\":\"white\",\"linecolor\":\"white\",\"ticks\":\"\"}},\"ternary\":{\"bgcolor\":\"#E5ECF6\",\"aaxis\":{\"gridcolor\":\"white\",\"linecolor\":\"white\",\"ticks\":\"\"},\"baxis\":{\"gridcolor\":\"white\",\"linecolor\":\"white\",\"ticks\":\"\"},\"caxis\":{\"gridcolor\":\"white\",\"linecolor\":\"white\",\"ticks\":\"\"}},\"coloraxis\":{\"colorbar\":{\"outlinewidth\":0,\"ticks\":\"\"}},\"colorscale\":{\"sequential\":[[0.0,\"#0d0887\"],[0.1111111111111111,\"#46039f\"],[0.2222222222222222,\"#7201a8\"],[0.3333333333333333,\"#9c179e\"],[0.4444444444444444,\"#bd3786\"],[0.5555555555555556,\"#d8576b\"],[0.6666666666666666,\"#ed7953\"],[0.7777777777777778,\"#fb9f3a\"],[0.8888888888888888,\"#fdca26\"],[1.0,\"#f0f921\"]],\"sequentialminus\":[[0.0,\"#0d0887\"],[0.1111111111111111,\"#46039f\"],[0.2222222222222222,\"#7201a8\"],[0.3333333333333333,\"#9c179e\"],[0.4444444444444444,\"#bd3786\"],[0.5555555555555556,\"#d8576b\"],[0.6666666666666666,\"#ed7953\"],[0.7777777777777778,\"#fb9f3a\"],[0.8888888888888888,\"#fdca26\"],[1.0,\"#f0f921\"]],\"diverging\":[[0,\"#8e0152\"],[0.1,\"#c51b7d\"],[0.2,\"#de77ae\"],[0.3,\"#f1b6da\"],[0.4,\"#fde0ef\"],[0.5,\"#f7f7f7\"],[0.6,\"#e6f5d0\"],[0.7,\"#b8e186\"],[0.8,\"#7fbc41\"],[0.9,\"#4d9221\"],[1,\"#276419\"]]},\"xaxis\":{\"gridcolor\":\"white\",\"linecolor\":\"white\",\"ticks\":\"\",\"title\":{\"standoff\":15},\"zerolinecolor\":\"white\",\"automargin\":true,\"zerolinewidth\":2},\"yaxis\":{\"gridcolor\":\"white\",\"linecolor\":\"white\",\"ticks\":\"\",\"title\":{\"standoff\":15},\"zerolinecolor\":\"white\",\"automargin\":true,\"zerolinewidth\":2},\"scene\":{\"xaxis\":{\"backgroundcolor\":\"#E5ECF6\",\"gridcolor\":\"white\",\"linecolor\":\"white\",\"showbackground\":true,\"ticks\":\"\",\"zerolinecolor\":\"white\",\"gridwidth\":2},\"yaxis\":{\"backgroundcolor\":\"#E5ECF6\",\"gridcolor\":\"white\",\"linecolor\":\"white\",\"showbackground\":true,\"ticks\":\"\",\"zerolinecolor\":\"white\",\"gridwidth\":2},\"zaxis\":{\"backgroundcolor\":\"#E5ECF6\",\"gridcolor\":\"white\",\"linecolor\":\"white\",\"showbackground\":true,\"ticks\":\"\",\"zerolinecolor\":\"white\",\"gridwidth\":2}},\"shapedefaults\":{\"line\":{\"color\":\"#2a3f5f\"}},\"annotationdefaults\":{\"arrowcolor\":\"#2a3f5f\",\"arrowhead\":0,\"arrowwidth\":1},\"geo\":{\"bgcolor\":\"white\",\"landcolor\":\"#E5ECF6\",\"subunitcolor\":\"white\",\"showland\":true,\"showlakes\":true,\"lakecolor\":\"white\"},\"title\":{\"x\":0.05},\"mapbox\":{\"style\":\"light\"}}},\"xaxis\":{\"title\":{\"text\":\"Number of occurrences\"}},\"yaxis\":{\"title\":{\"text\":\"Skill\"}}},                        {\"responsive\": true}                    ).then(function(){\n",
       "                            \n",
       "var gd = document.getElementById('77e0f45a-9a72-4960-989c-44394de95c1c');\n",
       "var x = new MutationObserver(function (mutations, observer) {{\n",
       "        var display = window.getComputedStyle(gd).display;\n",
       "        if (!display || display === 'none') {{\n",
       "            console.log([gd, 'removed!']);\n",
       "            Plotly.purge(gd);\n",
       "            observer.disconnect();\n",
       "        }}\n",
       "}});\n",
       "\n",
       "// Listen for the removal of the full notebook cells\n",
       "var notebookContainer = gd.closest('#notebook-container');\n",
       "if (notebookContainer) {{\n",
       "    x.observe(notebookContainer, {childList: true});\n",
       "}}\n",
       "\n",
       "// Listen for the clearing of the current output cell\n",
       "var outputEl = gd.closest('.output');\n",
       "if (outputEl) {{\n",
       "    x.observe(outputEl, {childList: true});\n",
       "}}\n",
       "\n",
       "                        })                };                });            </script>        </div>"
      ]
     },
     "metadata": {},
     "output_type": "display_data"
    }
   ],
   "source": [
    "import plotly.graph_objects as go\n",
    "\n",
    "# Extract the top 10 skills and their counts\n",
    "top_10_skills = sorted_skills[:10]\n",
    "skills = [skill for skill, count in top_10_skills]\n",
    "counts = [count for skill, count in top_10_skills]\n",
    "\n",
    "# Create the bar chart\n",
    "fig = go.Figure(data=[go.Bar(x=counts, y=skills, orientation='h', marker_color='skyblue')])\n",
    "\n",
    "# Add labels to the chart\n",
    "fig.update_layout(xaxis_title='Number of occurrences', yaxis_title='Skill')\n",
    "\n",
    "# Show the chart\n",
    "fig.show()"
   ]
  },
  {
   "cell_type": "code",
   "execution_count": 35,
   "id": "f384497a-d20e-4a3b-a5bb-9d1558910351",
   "metadata": {},
   "outputs": [
    {
     "data": {
      "text/plain": [
       "Kuala Lumpur                                               1443\n",
       "Petaling Jaya                                               322\n",
       "Selangor                                                    263\n",
       "Penang                                                      160\n",
       "Bayan Lepas                                                 120\n",
       "                                                           ... \n",
       "Kuala Lumpur, Bayan Lepas                                     2\n",
       "Selangor - Others, Kuala Lumpur, Negeri Sembilan, Perak       2\n",
       "Johor Bahru, Shah Alam/Subang                                 2\n",
       "Klang/Port Klang, Kuala Lumpur                                2\n",
       "Kuantan                                                       2\n",
       "Name: location, Length: 127, dtype: int64"
      ]
     },
     "execution_count": 35,
     "metadata": {},
     "output_type": "execute_result"
    }
   ],
   "source": [
    "location_counts = df['location'].value_counts()\n",
    "location_counts"
   ]
  },
  {
   "cell_type": "code",
   "execution_count": 36,
   "id": "ab51ec78-092d-430a-8611-43d65077f1ff",
   "metadata": {},
   "outputs": [
    {
     "data": {
      "text/plain": [
       "Kuala Lumpur                          1443\n",
       "Petaling Jaya                          322\n",
       "Selangor                               263\n",
       "Penang                                 160\n",
       "Bayan Lepas                            120\n",
       "Malaysia                               115\n",
       "Cyberjaya                               99\n",
       "Shah Alam/Subang                        86\n",
       "George Town                             82\n",
       "Singapore                               72\n",
       "Johor Bahru                             66\n",
       "Johor                                   52\n",
       "Melaka                                  45\n",
       "Puchong                                 38\n",
       "Kulim                                   36\n",
       "Subang Jaya                             36\n",
       "Kuching                                 36\n",
       "Company Confidential                    32\n",
       "Shah Alam/Subang, Shah Alam/Subang      30\n",
       "Klang/Port Klang                        30\n",
       "Name: location, dtype: int64"
      ]
     },
     "execution_count": 36,
     "metadata": {},
     "output_type": "execute_result"
    }
   ],
   "source": [
    "top_10_locations = location_counts.head(20)\n",
    "top_10_locations"
   ]
  },
  {
   "cell_type": "code",
   "execution_count": 8,
   "id": "c2c3eae1-aefb-440e-a8f7-db937b72d961",
   "metadata": {},
   "outputs": [
    {
     "data": {
      "application/vnd.plotly.v1+json": {
       "config": {
        "plotlyServerURL": "https://plot.ly"
       },
       "data": [
        {
         "geo": "geo",
         "hovertemplate": "location=%{marker.color}<br>index=%{location}<extra></extra>",
         "legendgroup": "",
         "locations": [
          "Kuala Lumpur",
          "Petaling Jaya",
          "Selangor",
          "Penang",
          "Bayan Lepas",
          "Malaysia",
          "Cyberjaya",
          "Shah Alam/Subang",
          "George Town",
          "Singapore"
         ],
         "marker": {
          "color": [
           1443,
           322,
           263,
           160,
           120,
           115,
           99,
           86,
           82,
           72
          ],
          "coloraxis": "coloraxis",
          "size": [
           1443,
           322,
           263,
           160,
           120,
           115,
           99,
           86,
           82,
           72
          ],
          "sizemode": "area",
          "sizeref": 3.6075,
          "symbol": "circle"
         },
         "mode": "markers",
         "name": "",
         "showlegend": false,
         "type": "scattergeo"
        }
       ],
       "layout": {
        "autosize": true,
        "coloraxis": {
         "colorbar": {
          "title": {
           "text": "location"
          }
         },
         "colorscale": [
          [
           0,
           "#0d0887"
          ],
          [
           0.1111111111111111,
           "#46039f"
          ],
          [
           0.2222222222222222,
           "#7201a8"
          ],
          [
           0.3333333333333333,
           "#9c179e"
          ],
          [
           0.4444444444444444,
           "#bd3786"
          ],
          [
           0.5555555555555556,
           "#d8576b"
          ],
          [
           0.6666666666666666,
           "#ed7953"
          ],
          [
           0.7777777777777778,
           "#fb9f3a"
          ],
          [
           0.8888888888888888,
           "#fdca26"
          ],
          [
           1,
           "#f0f921"
          ]
         ]
        },
        "geo": {
         "center": {
          "lat": -16.681330896814238,
          "lon": 170.35794099403174
         },
         "domain": {
          "x": [
           0,
           1
          ],
          "y": [
           0,
           1
          ]
         },
         "projection": {
          "rotation": {
           "lon": 170.35794099403174
          },
          "scale": 2.8284271247461885
         }
        },
        "legend": {
         "itemsizing": "constant",
         "tracegroupgap": 0
        },
        "template": {
         "data": {
          "bar": [
           {
            "error_x": {
             "color": "#2a3f5f"
            },
            "error_y": {
             "color": "#2a3f5f"
            },
            "marker": {
             "line": {
              "color": "#E5ECF6",
              "width": 0.5
             },
             "pattern": {
              "fillmode": "overlay",
              "size": 10,
              "solidity": 0.2
             }
            },
            "type": "bar"
           }
          ],
          "barpolar": [
           {
            "marker": {
             "line": {
              "color": "#E5ECF6",
              "width": 0.5
             },
             "pattern": {
              "fillmode": "overlay",
              "size": 10,
              "solidity": 0.2
             }
            },
            "type": "barpolar"
           }
          ],
          "carpet": [
           {
            "aaxis": {
             "endlinecolor": "#2a3f5f",
             "gridcolor": "white",
             "linecolor": "white",
             "minorgridcolor": "white",
             "startlinecolor": "#2a3f5f"
            },
            "baxis": {
             "endlinecolor": "#2a3f5f",
             "gridcolor": "white",
             "linecolor": "white",
             "minorgridcolor": "white",
             "startlinecolor": "#2a3f5f"
            },
            "type": "carpet"
           }
          ],
          "choropleth": [
           {
            "colorbar": {
             "outlinewidth": 0,
             "ticks": ""
            },
            "type": "choropleth"
           }
          ],
          "contour": [
           {
            "colorbar": {
             "outlinewidth": 0,
             "ticks": ""
            },
            "colorscale": [
             [
              0,
              "#0d0887"
             ],
             [
              0.1111111111111111,
              "#46039f"
             ],
             [
              0.2222222222222222,
              "#7201a8"
             ],
             [
              0.3333333333333333,
              "#9c179e"
             ],
             [
              0.4444444444444444,
              "#bd3786"
             ],
             [
              0.5555555555555556,
              "#d8576b"
             ],
             [
              0.6666666666666666,
              "#ed7953"
             ],
             [
              0.7777777777777778,
              "#fb9f3a"
             ],
             [
              0.8888888888888888,
              "#fdca26"
             ],
             [
              1,
              "#f0f921"
             ]
            ],
            "type": "contour"
           }
          ],
          "contourcarpet": [
           {
            "colorbar": {
             "outlinewidth": 0,
             "ticks": ""
            },
            "type": "contourcarpet"
           }
          ],
          "heatmap": [
           {
            "colorbar": {
             "outlinewidth": 0,
             "ticks": ""
            },
            "colorscale": [
             [
              0,
              "#0d0887"
             ],
             [
              0.1111111111111111,
              "#46039f"
             ],
             [
              0.2222222222222222,
              "#7201a8"
             ],
             [
              0.3333333333333333,
              "#9c179e"
             ],
             [
              0.4444444444444444,
              "#bd3786"
             ],
             [
              0.5555555555555556,
              "#d8576b"
             ],
             [
              0.6666666666666666,
              "#ed7953"
             ],
             [
              0.7777777777777778,
              "#fb9f3a"
             ],
             [
              0.8888888888888888,
              "#fdca26"
             ],
             [
              1,
              "#f0f921"
             ]
            ],
            "type": "heatmap"
           }
          ],
          "heatmapgl": [
           {
            "colorbar": {
             "outlinewidth": 0,
             "ticks": ""
            },
            "colorscale": [
             [
              0,
              "#0d0887"
             ],
             [
              0.1111111111111111,
              "#46039f"
             ],
             [
              0.2222222222222222,
              "#7201a8"
             ],
             [
              0.3333333333333333,
              "#9c179e"
             ],
             [
              0.4444444444444444,
              "#bd3786"
             ],
             [
              0.5555555555555556,
              "#d8576b"
             ],
             [
              0.6666666666666666,
              "#ed7953"
             ],
             [
              0.7777777777777778,
              "#fb9f3a"
             ],
             [
              0.8888888888888888,
              "#fdca26"
             ],
             [
              1,
              "#f0f921"
             ]
            ],
            "type": "heatmapgl"
           }
          ],
          "histogram": [
           {
            "marker": {
             "pattern": {
              "fillmode": "overlay",
              "size": 10,
              "solidity": 0.2
             }
            },
            "type": "histogram"
           }
          ],
          "histogram2d": [
           {
            "colorbar": {
             "outlinewidth": 0,
             "ticks": ""
            },
            "colorscale": [
             [
              0,
              "#0d0887"
             ],
             [
              0.1111111111111111,
              "#46039f"
             ],
             [
              0.2222222222222222,
              "#7201a8"
             ],
             [
              0.3333333333333333,
              "#9c179e"
             ],
             [
              0.4444444444444444,
              "#bd3786"
             ],
             [
              0.5555555555555556,
              "#d8576b"
             ],
             [
              0.6666666666666666,
              "#ed7953"
             ],
             [
              0.7777777777777778,
              "#fb9f3a"
             ],
             [
              0.8888888888888888,
              "#fdca26"
             ],
             [
              1,
              "#f0f921"
             ]
            ],
            "type": "histogram2d"
           }
          ],
          "histogram2dcontour": [
           {
            "colorbar": {
             "outlinewidth": 0,
             "ticks": ""
            },
            "colorscale": [
             [
              0,
              "#0d0887"
             ],
             [
              0.1111111111111111,
              "#46039f"
             ],
             [
              0.2222222222222222,
              "#7201a8"
             ],
             [
              0.3333333333333333,
              "#9c179e"
             ],
             [
              0.4444444444444444,
              "#bd3786"
             ],
             [
              0.5555555555555556,
              "#d8576b"
             ],
             [
              0.6666666666666666,
              "#ed7953"
             ],
             [
              0.7777777777777778,
              "#fb9f3a"
             ],
             [
              0.8888888888888888,
              "#fdca26"
             ],
             [
              1,
              "#f0f921"
             ]
            ],
            "type": "histogram2dcontour"
           }
          ],
          "mesh3d": [
           {
            "colorbar": {
             "outlinewidth": 0,
             "ticks": ""
            },
            "type": "mesh3d"
           }
          ],
          "parcoords": [
           {
            "line": {
             "colorbar": {
              "outlinewidth": 0,
              "ticks": ""
             }
            },
            "type": "parcoords"
           }
          ],
          "pie": [
           {
            "automargin": true,
            "type": "pie"
           }
          ],
          "scatter": [
           {
            "fillpattern": {
             "fillmode": "overlay",
             "size": 10,
             "solidity": 0.2
            },
            "type": "scatter"
           }
          ],
          "scatter3d": [
           {
            "line": {
             "colorbar": {
              "outlinewidth": 0,
              "ticks": ""
             }
            },
            "marker": {
             "colorbar": {
              "outlinewidth": 0,
              "ticks": ""
             }
            },
            "type": "scatter3d"
           }
          ],
          "scattercarpet": [
           {
            "marker": {
             "colorbar": {
              "outlinewidth": 0,
              "ticks": ""
             }
            },
            "type": "scattercarpet"
           }
          ],
          "scattergeo": [
           {
            "marker": {
             "colorbar": {
              "outlinewidth": 0,
              "ticks": ""
             }
            },
            "type": "scattergeo"
           }
          ],
          "scattergl": [
           {
            "marker": {
             "colorbar": {
              "outlinewidth": 0,
              "ticks": ""
             }
            },
            "type": "scattergl"
           }
          ],
          "scattermapbox": [
           {
            "marker": {
             "colorbar": {
              "outlinewidth": 0,
              "ticks": ""
             }
            },
            "type": "scattermapbox"
           }
          ],
          "scatterpolar": [
           {
            "marker": {
             "colorbar": {
              "outlinewidth": 0,
              "ticks": ""
             }
            },
            "type": "scatterpolar"
           }
          ],
          "scatterpolargl": [
           {
            "marker": {
             "colorbar": {
              "outlinewidth": 0,
              "ticks": ""
             }
            },
            "type": "scatterpolargl"
           }
          ],
          "scatterternary": [
           {
            "marker": {
             "colorbar": {
              "outlinewidth": 0,
              "ticks": ""
             }
            },
            "type": "scatterternary"
           }
          ],
          "surface": [
           {
            "colorbar": {
             "outlinewidth": 0,
             "ticks": ""
            },
            "colorscale": [
             [
              0,
              "#0d0887"
             ],
             [
              0.1111111111111111,
              "#46039f"
             ],
             [
              0.2222222222222222,
              "#7201a8"
             ],
             [
              0.3333333333333333,
              "#9c179e"
             ],
             [
              0.4444444444444444,
              "#bd3786"
             ],
             [
              0.5555555555555556,
              "#d8576b"
             ],
             [
              0.6666666666666666,
              "#ed7953"
             ],
             [
              0.7777777777777778,
              "#fb9f3a"
             ],
             [
              0.8888888888888888,
              "#fdca26"
             ],
             [
              1,
              "#f0f921"
             ]
            ],
            "type": "surface"
           }
          ],
          "table": [
           {
            "cells": {
             "fill": {
              "color": "#EBF0F8"
             },
             "line": {
              "color": "white"
             }
            },
            "header": {
             "fill": {
              "color": "#C8D4E3"
             },
             "line": {
              "color": "white"
             }
            },
            "type": "table"
           }
          ]
         },
         "layout": {
          "annotationdefaults": {
           "arrowcolor": "#2a3f5f",
           "arrowhead": 0,
           "arrowwidth": 1
          },
          "autotypenumbers": "strict",
          "coloraxis": {
           "colorbar": {
            "outlinewidth": 0,
            "ticks": ""
           }
          },
          "colorscale": {
           "diverging": [
            [
             0,
             "#8e0152"
            ],
            [
             0.1,
             "#c51b7d"
            ],
            [
             0.2,
             "#de77ae"
            ],
            [
             0.3,
             "#f1b6da"
            ],
            [
             0.4,
             "#fde0ef"
            ],
            [
             0.5,
             "#f7f7f7"
            ],
            [
             0.6,
             "#e6f5d0"
            ],
            [
             0.7,
             "#b8e186"
            ],
            [
             0.8,
             "#7fbc41"
            ],
            [
             0.9,
             "#4d9221"
            ],
            [
             1,
             "#276419"
            ]
           ],
           "sequential": [
            [
             0,
             "#0d0887"
            ],
            [
             0.1111111111111111,
             "#46039f"
            ],
            [
             0.2222222222222222,
             "#7201a8"
            ],
            [
             0.3333333333333333,
             "#9c179e"
            ],
            [
             0.4444444444444444,
             "#bd3786"
            ],
            [
             0.5555555555555556,
             "#d8576b"
            ],
            [
             0.6666666666666666,
             "#ed7953"
            ],
            [
             0.7777777777777778,
             "#fb9f3a"
            ],
            [
             0.8888888888888888,
             "#fdca26"
            ],
            [
             1,
             "#f0f921"
            ]
           ],
           "sequentialminus": [
            [
             0,
             "#0d0887"
            ],
            [
             0.1111111111111111,
             "#46039f"
            ],
            [
             0.2222222222222222,
             "#7201a8"
            ],
            [
             0.3333333333333333,
             "#9c179e"
            ],
            [
             0.4444444444444444,
             "#bd3786"
            ],
            [
             0.5555555555555556,
             "#d8576b"
            ],
            [
             0.6666666666666666,
             "#ed7953"
            ],
            [
             0.7777777777777778,
             "#fb9f3a"
            ],
            [
             0.8888888888888888,
             "#fdca26"
            ],
            [
             1,
             "#f0f921"
            ]
           ]
          },
          "colorway": [
           "#636efa",
           "#EF553B",
           "#00cc96",
           "#ab63fa",
           "#FFA15A",
           "#19d3f3",
           "#FF6692",
           "#B6E880",
           "#FF97FF",
           "#FECB52"
          ],
          "font": {
           "color": "#2a3f5f"
          },
          "geo": {
           "bgcolor": "white",
           "lakecolor": "white",
           "landcolor": "#E5ECF6",
           "showlakes": true,
           "showland": true,
           "subunitcolor": "white"
          },
          "hoverlabel": {
           "align": "left"
          },
          "hovermode": "closest",
          "mapbox": {
           "style": "light"
          },
          "paper_bgcolor": "white",
          "plot_bgcolor": "#E5ECF6",
          "polar": {
           "angularaxis": {
            "gridcolor": "white",
            "linecolor": "white",
            "ticks": ""
           },
           "bgcolor": "#E5ECF6",
           "radialaxis": {
            "gridcolor": "white",
            "linecolor": "white",
            "ticks": ""
           }
          },
          "scene": {
           "xaxis": {
            "backgroundcolor": "#E5ECF6",
            "gridcolor": "white",
            "gridwidth": 2,
            "linecolor": "white",
            "showbackground": true,
            "ticks": "",
            "zerolinecolor": "white"
           },
           "yaxis": {
            "backgroundcolor": "#E5ECF6",
            "gridcolor": "white",
            "gridwidth": 2,
            "linecolor": "white",
            "showbackground": true,
            "ticks": "",
            "zerolinecolor": "white"
           },
           "zaxis": {
            "backgroundcolor": "#E5ECF6",
            "gridcolor": "white",
            "gridwidth": 2,
            "linecolor": "white",
            "showbackground": true,
            "ticks": "",
            "zerolinecolor": "white"
           }
          },
          "shapedefaults": {
           "line": {
            "color": "#2a3f5f"
           }
          },
          "ternary": {
           "aaxis": {
            "gridcolor": "white",
            "linecolor": "white",
            "ticks": ""
           },
           "baxis": {
            "gridcolor": "white",
            "linecolor": "white",
            "ticks": ""
           },
           "bgcolor": "#E5ECF6",
           "caxis": {
            "gridcolor": "white",
            "linecolor": "white",
            "ticks": ""
           }
          },
          "title": {
           "x": 0.05
          },
          "xaxis": {
           "automargin": true,
           "gridcolor": "white",
           "linecolor": "white",
           "ticks": "",
           "title": {
            "standoff": 15
           },
           "zerolinecolor": "white",
           "zerolinewidth": 2
          },
          "yaxis": {
           "automargin": true,
           "gridcolor": "white",
           "linecolor": "white",
           "ticks": "",
           "title": {
            "standoff": 15
           },
           "zerolinecolor": "white",
           "zerolinewidth": 2
          }
         }
        },
        "title": {
         "text": "Top 10 Locations"
        }
       }
      },
      "image/png": "[encoded data removed]",
      "text/html": [
       "<div>                            <div id=\"74c6aa1f-7173-424d-9315-974c8dec5b53\" class=\"plotly-graph-div\" style=\"height:525px; width:100%;\"></div>            <script type=\"text/javascript\">                require([\"plotly\"], function(Plotly) {                    window.PLOTLYENV=window.PLOTLYENV || {};                                    if (document.getElementById(\"74c6aa1f-7173-424d-9315-974c8dec5b53\")) {                    Plotly.newPlot(                        \"74c6aa1f-7173-424d-9315-974c8dec5b53\",                        [{\"geo\":\"geo\",\"hovertemplate\":\"location=%{marker.color}<br>index=%{location}<extra></extra>\",\"legendgroup\":\"\",\"locations\":[\"Kuala Lumpur\",\"Petaling Jaya\",\"Selangor\",\"Penang\",\"Bayan Lepas\",\"Malaysia\",\"Cyberjaya\",\"Shah Alam/Subang\",\"George Town\",\"Singapore\"],\"marker\":{\"color\":[1443,322,263,160,120,115,99,86,82,72],\"coloraxis\":\"coloraxis\",\"size\":[1443,322,263,160,120,115,99,86,82,72],\"sizemode\":\"area\",\"sizeref\":3.6075,\"symbol\":\"circle\"},\"mode\":\"markers\",\"name\":\"\",\"showlegend\":false,\"type\":\"scattergeo\"}],                        {\"template\":{\"data\":{\"histogram2dcontour\":[{\"type\":\"histogram2dcontour\",\"colorbar\":{\"outlinewidth\":0,\"ticks\":\"\"},\"colorscale\":[[0.0,\"#0d0887\"],[0.1111111111111111,\"#46039f\"],[0.2222222222222222,\"#7201a8\"],[0.3333333333333333,\"#9c179e\"],[0.4444444444444444,\"#bd3786\"],[0.5555555555555556,\"#d8576b\"],[0.6666666666666666,\"#ed7953\"],[0.7777777777777778,\"#fb9f3a\"],[0.8888888888888888,\"#fdca26\"],[1.0,\"#f0f921\"]]}],\"choropleth\":[{\"type\":\"choropleth\",\"colorbar\":{\"outlinewidth\":0,\"ticks\":\"\"}}],\"histogram2d\":[{\"type\":\"histogram2d\",\"colorbar\":{\"outlinewidth\":0,\"ticks\":\"\"},\"colorscale\":[[0.0,\"#0d0887\"],[0.1111111111111111,\"#46039f\"],[0.2222222222222222,\"#7201a8\"],[0.3333333333333333,\"#9c179e\"],[0.4444444444444444,\"#bd3786\"],[0.5555555555555556,\"#d8576b\"],[0.6666666666666666,\"#ed7953\"],[0.7777777777777778,\"#fb9f3a\"],[0.8888888888888888,\"#fdca26\"],[1.0,\"#f0f921\"]]}],\"heatmap\":[{\"type\":\"heatmap\",\"colorbar\":{\"outlinewidth\":0,\"ticks\":\"\"},\"colorscale\":[[0.0,\"#0d0887\"],[0.1111111111111111,\"#46039f\"],[0.2222222222222222,\"#7201a8\"],[0.3333333333333333,\"#9c179e\"],[0.4444444444444444,\"#bd3786\"],[0.5555555555555556,\"#d8576b\"],[0.6666666666666666,\"#ed7953\"],[0.7777777777777778,\"#fb9f3a\"],[0.8888888888888888,\"#fdca26\"],[1.0,\"#f0f921\"]]}],\"heatmapgl\":[{\"type\":\"heatmapgl\",\"colorbar\":{\"outlinewidth\":0,\"ticks\":\"\"},\"colorscale\":[[0.0,\"#0d0887\"],[0.1111111111111111,\"#46039f\"],[0.2222222222222222,\"#7201a8\"],[0.3333333333333333,\"#9c179e\"],[0.4444444444444444,\"#bd3786\"],[0.5555555555555556,\"#d8576b\"],[0.6666666666666666,\"#ed7953\"],[0.7777777777777778,\"#fb9f3a\"],[0.8888888888888888,\"#fdca26\"],[1.0,\"#f0f921\"]]}],\"contourcarpet\":[{\"type\":\"contourcarpet\",\"colorbar\":{\"outlinewidth\":0,\"ticks\":\"\"}}],\"contour\":[{\"type\":\"contour\",\"colorbar\":{\"outlinewidth\":0,\"ticks\":\"\"},\"colorscale\":[[0.0,\"#0d0887\"],[0.1111111111111111,\"#46039f\"],[0.2222222222222222,\"#7201a8\"],[0.3333333333333333,\"#9c179e\"],[0.4444444444444444,\"#bd3786\"],[0.5555555555555556,\"#d8576b\"],[0.6666666666666666,\"#ed7953\"],[0.7777777777777778,\"#fb9f3a\"],[0.8888888888888888,\"#fdca26\"],[1.0,\"#f0f921\"]]}],\"surface\":[{\"type\":\"surface\",\"colorbar\":{\"outlinewidth\":0,\"ticks\":\"\"},\"colorscale\":[[0.0,\"#0d0887\"],[0.1111111111111111,\"#46039f\"],[0.2222222222222222,\"#7201a8\"],[0.3333333333333333,\"#9c179e\"],[0.4444444444444444,\"#bd3786\"],[0.5555555555555556,\"#d8576b\"],[0.6666666666666666,\"#ed7953\"],[0.7777777777777778,\"#fb9f3a\"],[0.8888888888888888,\"#fdca26\"],[1.0,\"#f0f921\"]]}],\"mesh3d\":[{\"type\":\"mesh3d\",\"colorbar\":{\"outlinewidth\":0,\"ticks\":\"\"}}],\"scatter\":[{\"fillpattern\":{\"fillmode\":\"overlay\",\"size\":10,\"solidity\":0.2},\"type\":\"scatter\"}],\"parcoords\":[{\"type\":\"parcoords\",\"line\":{\"colorbar\":{\"outlinewidth\":0,\"ticks\":\"\"}}}],\"scatterpolargl\":[{\"type\":\"scatterpolargl\",\"marker\":{\"colorbar\":{\"outlinewidth\":0,\"ticks\":\"\"}}}],\"bar\":[{\"error_x\":{\"color\":\"#2a3f5f\"},\"error_y\":{\"color\":\"#2a3f5f\"},\"marker\":{\"line\":{\"color\":\"#E5ECF6\",\"width\":0.5},\"pattern\":{\"fillmode\":\"overlay\",\"size\":10,\"solidity\":0.2}},\"type\":\"bar\"}],\"scattergeo\":[{\"type\":\"scattergeo\",\"marker\":{\"colorbar\":{\"outlinewidth\":0,\"ticks\":\"\"}}}],\"scatterpolar\":[{\"type\":\"scatterpolar\",\"marker\":{\"colorbar\":{\"outlinewidth\":0,\"ticks\":\"\"}}}],\"histogram\":[{\"marker\":{\"pattern\":{\"fillmode\":\"overlay\",\"size\":10,\"solidity\":0.2}},\"type\":\"histogram\"}],\"scattergl\":[{\"type\":\"scattergl\",\"marker\":{\"colorbar\":{\"outlinewidth\":0,\"ticks\":\"\"}}}],\"scatter3d\":[{\"type\":\"scatter3d\",\"line\":{\"colorbar\":{\"outlinewidth\":0,\"ticks\":\"\"}},\"marker\":{\"colorbar\":{\"outlinewidth\":0,\"ticks\":\"\"}}}],\"scattermapbox\":[{\"type\":\"scattermapbox\",\"marker\":{\"colorbar\":{\"outlinewidth\":0,\"ticks\":\"\"}}}],\"scatterternary\":[{\"type\":\"scatterternary\",\"marker\":{\"colorbar\":{\"outlinewidth\":0,\"ticks\":\"\"}}}],\"scattercarpet\":[{\"type\":\"scattercarpet\",\"marker\":{\"colorbar\":{\"outlinewidth\":0,\"ticks\":\"\"}}}],\"carpet\":[{\"aaxis\":{\"endlinecolor\":\"#2a3f5f\",\"gridcolor\":\"white\",\"linecolor\":\"white\",\"minorgridcolor\":\"white\",\"startlinecolor\":\"#2a3f5f\"},\"baxis\":{\"endlinecolor\":\"#2a3f5f\",\"gridcolor\":\"white\",\"linecolor\":\"white\",\"minorgridcolor\":\"white\",\"startlinecolor\":\"#2a3f5f\"},\"type\":\"carpet\"}],\"table\":[{\"cells\":{\"fill\":{\"color\":\"#EBF0F8\"},\"line\":{\"color\":\"white\"}},\"header\":{\"fill\":{\"color\":\"#C8D4E3\"},\"line\":{\"color\":\"white\"}},\"type\":\"table\"}],\"barpolar\":[{\"marker\":{\"line\":{\"color\":\"#E5ECF6\",\"width\":0.5},\"pattern\":{\"fillmode\":\"overlay\",\"size\":10,\"solidity\":0.2}},\"type\":\"barpolar\"}],\"pie\":[{\"automargin\":true,\"type\":\"pie\"}]},\"layout\":{\"autotypenumbers\":\"strict\",\"colorway\":[\"#636efa\",\"#EF553B\",\"#00cc96\",\"#ab63fa\",\"#FFA15A\",\"#19d3f3\",\"#FF6692\",\"#B6E880\",\"#FF97FF\",\"#FECB52\"],\"font\":{\"color\":\"#2a3f5f\"},\"hovermode\":\"closest\",\"hoverlabel\":{\"align\":\"left\"},\"paper_bgcolor\":\"white\",\"plot_bgcolor\":\"#E5ECF6\",\"polar\":{\"bgcolor\":\"#E5ECF6\",\"angularaxis\":{\"gridcolor\":\"white\",\"linecolor\":\"white\",\"ticks\":\"\"},\"radialaxis\":{\"gridcolor\":\"white\",\"linecolor\":\"white\",\"ticks\":\"\"}},\"ternary\":{\"bgcolor\":\"#E5ECF6\",\"aaxis\":{\"gridcolor\":\"white\",\"linecolor\":\"white\",\"ticks\":\"\"},\"baxis\":{\"gridcolor\":\"white\",\"linecolor\":\"white\",\"ticks\":\"\"},\"caxis\":{\"gridcolor\":\"white\",\"linecolor\":\"white\",\"ticks\":\"\"}},\"coloraxis\":{\"colorbar\":{\"outlinewidth\":0,\"ticks\":\"\"}},\"colorscale\":{\"sequential\":[[0.0,\"#0d0887\"],[0.1111111111111111,\"#46039f\"],[0.2222222222222222,\"#7201a8\"],[0.3333333333333333,\"#9c179e\"],[0.4444444444444444,\"#bd3786\"],[0.5555555555555556,\"#d8576b\"],[0.6666666666666666,\"#ed7953\"],[0.7777777777777778,\"#fb9f3a\"],[0.8888888888888888,\"#fdca26\"],[1.0,\"#f0f921\"]],\"sequentialminus\":[[0.0,\"#0d0887\"],[0.1111111111111111,\"#46039f\"],[0.2222222222222222,\"#7201a8\"],[0.3333333333333333,\"#9c179e\"],[0.4444444444444444,\"#bd3786\"],[0.5555555555555556,\"#d8576b\"],[0.6666666666666666,\"#ed7953\"],[0.7777777777777778,\"#fb9f3a\"],[0.8888888888888888,\"#fdca26\"],[1.0,\"#f0f921\"]],\"diverging\":[[0,\"#8e0152\"],[0.1,\"#c51b7d\"],[0.2,\"#de77ae\"],[0.3,\"#f1b6da\"],[0.4,\"#fde0ef\"],[0.5,\"#f7f7f7\"],[0.6,\"#e6f5d0\"],[0.7,\"#b8e186\"],[0.8,\"#7fbc41\"],[0.9,\"#4d9221\"],[1,\"#276419\"]]},\"xaxis\":{\"gridcolor\":\"white\",\"linecolor\":\"white\",\"ticks\":\"\",\"title\":{\"standoff\":15},\"zerolinecolor\":\"white\",\"automargin\":true,\"zerolinewidth\":2},\"yaxis\":{\"gridcolor\":\"white\",\"linecolor\":\"white\",\"ticks\":\"\",\"title\":{\"standoff\":15},\"zerolinecolor\":\"white\",\"automargin\":true,\"zerolinewidth\":2},\"scene\":{\"xaxis\":{\"backgroundcolor\":\"#E5ECF6\",\"gridcolor\":\"white\",\"linecolor\":\"white\",\"showbackground\":true,\"ticks\":\"\",\"zerolinecolor\":\"white\",\"gridwidth\":2},\"yaxis\":{\"backgroundcolor\":\"#E5ECF6\",\"gridcolor\":\"white\",\"linecolor\":\"white\",\"showbackground\":true,\"ticks\":\"\",\"zerolinecolor\":\"white\",\"gridwidth\":2},\"zaxis\":{\"backgroundcolor\":\"#E5ECF6\",\"gridcolor\":\"white\",\"linecolor\":\"white\",\"showbackground\":true,\"ticks\":\"\",\"zerolinecolor\":\"white\",\"gridwidth\":2}},\"shapedefaults\":{\"line\":{\"color\":\"#2a3f5f\"}},\"annotationdefaults\":{\"arrowcolor\":\"#2a3f5f\",\"arrowhead\":0,\"arrowwidth\":1},\"geo\":{\"bgcolor\":\"white\",\"landcolor\":\"#E5ECF6\",\"subunitcolor\":\"white\",\"showland\":true,\"showlakes\":true,\"lakecolor\":\"white\"},\"title\":{\"x\":0.05},\"mapbox\":{\"style\":\"light\"}}},\"geo\":{\"domain\":{\"x\":[0.0,1.0],\"y\":[0.0,1.0]},\"center\":{}},\"coloraxis\":{\"colorbar\":{\"title\":{\"text\":\"location\"}},\"colorscale\":[[0.0,\"#0d0887\"],[0.1111111111111111,\"#46039f\"],[0.2222222222222222,\"#7201a8\"],[0.3333333333333333,\"#9c179e\"],[0.4444444444444444,\"#bd3786\"],[0.5555555555555556,\"#d8576b\"],[0.6666666666666666,\"#ed7953\"],[0.7777777777777778,\"#fb9f3a\"],[0.8888888888888888,\"#fdca26\"],[1.0,\"#f0f921\"]]},\"legend\":{\"tracegroupgap\":0,\"itemsizing\":\"constant\"},\"title\":{\"text\":\"Top 10 Locations\"}},                        {\"responsive\": true}                    ).then(function(){\n",
       "                            \n",
       "var gd = document.getElementById('74c6aa1f-7173-424d-9315-974c8dec5b53');\n",
       "var x = new MutationObserver(function (mutations, observer) {{\n",
       "        var display = window.getComputedStyle(gd).display;\n",
       "        if (!display || display === 'none') {{\n",
       "            console.log([gd, 'removed!']);\n",
       "            Plotly.purge(gd);\n",
       "            observer.disconnect();\n",
       "        }}\n",
       "}});\n",
       "\n",
       "// Listen for the removal of the full notebook cells\n",
       "var notebookContainer = gd.closest('#notebook-container');\n",
       "if (notebookContainer) {{\n",
       "    x.observe(notebookContainer, {childList: true});\n",
       "}}\n",
       "\n",
       "// Listen for the clearing of the current output cell\n",
       "var outputEl = gd.closest('.output');\n",
       "if (outputEl) {{\n",
       "    x.observe(outputEl, {childList: true});\n",
       "}}\n",
       "\n",
       "                        })                };                });            </script>        </div>"
      ]
     },
     "metadata": {},
     "output_type": "display_data"
    }
   ],
   "source": [
    "fig = px.scatter_geo(top_10_locations, locations=top_10_locations.index, size='location', color='location', title='Top 10 Locations')\n",
    "fig.show()"
   ]
  },
  {
   "cell_type": "code",
   "execution_count": 43,
   "id": "853aebb1-c9e0-4b2d-a919-a99f0b25ce74",
   "metadata": {},
   "outputs": [
    {
     "name": "stdout",
     "output_type": "stream",
     "text": [
      "Kuala Lumpur: 1443\n",
      "Petaling Jaya: 322\n",
      "Selangor: 263\n",
      "Penang: 160\n",
      "Bayan Lepas: 120\n",
      "Malaysia: 115\n",
      "Cyberjaya: 99\n",
      "Shah Alam/Subang: 86\n",
      "George Town: 82\n",
      "Singapore: 72\n",
      "Johor Bahru: 66\n",
      "Johor: 52\n",
      "Melaka: 45\n",
      "Puchong: 38\n",
      "Kulim: 36\n",
      "Kuching: 36\n",
      "Subang Jaya: 36\n",
      "Company Confidential: 32\n",
      "Klang/Port Klang: 30\n",
      "Shah Alam/Subang, Shah Alam/Subang: 30\n",
      "Central: 24\n",
      "Perai: 24\n",
      "Putrajaya: 20\n",
      "Penang - Others: 18\n",
      "Bukit Mertajam: 16\n",
      "Klang/Port Klang, Klang/Port Klang: 16\n",
      "Kuala Lumpur, Selangor: 14\n",
      "Selangor - Others: 14\n",
      "Rawang: 14\n",
      "Bedok: 14\n",
      "Seremban: 14\n",
      "Kota Kinabalu: 13\n",
      "Ampang: 12\n",
      "Miri: 12\n",
      "Cheras, Kuala Lumpur: 12\n",
      "Tampines: 10\n",
      "Kajang/Bangi/Serdang: 10\n",
      "Ipoh: 10\n",
      "Muar: 8\n",
      "Ang Mo Kio: 8\n",
      "Perak: 8\n",
      "Nilai: 8\n",
      "Butterworth: 8\n",
      "Makati City: 6\n",
      "Downtown Core: 6\n",
      "North - Others: 6\n",
      "Cheras: 6\n",
      "Batu Pahat: 6\n",
      "Kedah: 6\n",
      "East - Others: 4\n",
      "Johor - Others: 4\n",
      "Johor Bahru, Penang, Sabah, Subang Jaya: 4\n",
      "Kota Bharu: 4\n",
      "Hong Kong: 4\n",
      "Yishun: 4\n",
      "Johor, Kuala Lumpur, Penang: 4\n",
      "Johor Bahru, Penang: 4\n",
      "Kuala Lumpur, Cyberjaya: 4\n",
      "Toa Payoh: 4\n",
      "Central - Others: 4\n",
      "West: 4\n",
      "Alor Setar: 4\n",
      "Kajang/Bangi/Serdang, Kajang/Bangi/Serdang, Kajang/Bangi/Serdang: 4\n",
      "Bentong: 2\n",
      "Uzbekistan: 2\n",
      "Segamat, Kuala Lumpur: 2\n",
      "Changi: 2\n",
      "Jakarta Pusat: 2\n",
      "West - Others: 2\n",
      "Pahang, Terengganu: 2\n",
      "Ampang, Cheras, Cyberjaya, Klang/Port Klang, Shah Alam/Subang, ,: 2\n",
      "Taiwan: 2\n",
      "Negeri Sembilan - Others: 2\n",
      "Jakarta Raya: 2\n",
      "Johor, Selangor: 2\n",
      "Johor, Kuala Lumpur: 2\n",
      "Johor, Kuala Lumpur, Melaka, Penang, Selangor: 2\n",
      "Johor Bahru, Kuala Lumpur: 2\n",
      "Kuala Lumpur, Sungai Petani, Kota Bharu, Selangor: 2\n",
      "Johor, Kedah, Kuala Lumpur, Melaka, Negeri Sembilan, Selangor: 2\n",
      "Sabah: 2\n",
      "Taiping: 2\n",
      "United Kingdom: 2\n",
      "Klang/Port Klang, Kuala Lumpur: 2\n",
      "Selayang: 2\n",
      "Johor Bahru, Shah Alam/Subang: 2\n",
      "Selangor - Others, Kuala Lumpur, Negeri Sembilan, Perak: 2\n",
      "Kuala Lumpur, Bayan Lepas: 2\n",
      "Kuala Lumpur, Hong Kong: 2\n",
      "Johor, Perak, Penang, Selangor, Sarawak, Sabah, Melaka, ,: 2\n",
      "Japan: 2\n",
      "Jurong West: 2\n",
      "National Capital Reg: 2\n",
      "Kuala Lumpur, Petaling Jaya: 2\n",
      "East: 2\n",
      "Pioneer: 2\n",
      "Bintulu: 2\n",
      "Cebu (Others), Cebu (Cebu City): 2\n",
      "Selangor, Kuala Lumpur: 2\n",
      "Kuala Lumpur, Manila City: 2\n",
      "Sungai Petani: 2\n",
      "Puchong, Shah Alam/Subang: 2\n",
      "Bayan Lepas, Selangor - Others: 2\n",
      "Pahang: 2\n",
      "Kuala Lumpur, Tanjung Bungah/Teluk Bahang, Kuantan, ,: 2\n",
      "Bayan Lepas, Perai: 2\n",
      "Johor Bahru, Muar: 2\n",
      "Selangor, Penang - Others: 2\n",
      "Kuala Lumpur, Cheras: 2\n",
      "Perak - Others: 2\n",
      "Alor Gajah: 2\n",
      "Shah Alam/Subang, Kuching: 2\n",
      "Kota Tinggi: 2\n",
      "Alor Setar, Terengganu - Others: 2\n",
      "Johor Bahru, Muar, Penang: 2\n",
      "Semenyih: 2\n",
      "Johor, Melaka, Negeri Sembilan, Pahang, Perak, Klang/Port Klang: 2\n",
      "Johor, Melaka, Negeri Sembilan, Penang, Pahang, Perak,: 2\n",
      "Johor, Kedah, Kuala Lumpur, Melaka, Negeri Sembilan, Penang, , , ,: 2\n",
      "Port Dickson: 2\n",
      "Teluk Intan: 2\n",
      "Kuala Terengganu: 2\n",
      "Sandakan: 2\n",
      "Terengganu: 2\n",
      "Melaka, Alor Gajah: 2\n",
      "Langkawi: 2\n",
      "Kuantan: 2\n"
     ]
    }
   ],
   "source": [
    "from collections import Counter\n",
    "\n",
    "# Count the occurrences of each location\n",
    "location_counts = Counter(df['location'])\n",
    "\n",
    "# Sort the locations by their count\n",
    "sorted_locations = sorted(location_counts.items(), key=lambda x: x[1], reverse=True)\n",
    "\n",
    "# Print the locations and their counts\n",
    "for location, count in sorted_locations:\n",
    "    print(f'{location}: {count}')"
   ]
  },
  {
   "cell_type": "code",
   "execution_count": 44,
   "id": "57ca5dd6-a574-44f3-bb05-97bd799dd64d",
   "metadata": {},
   "outputs": [
    {
     "data": {
      "application/vnd.plotly.v1+json": {
       "config": {
        "plotlyServerURL": "https://plot.ly"
       },
       "data": [
        {
         "colorscale": [
          [
           0,
           "rgb(247,251,255)"
          ],
          [
           0.125,
           "rgb(222,235,247)"
          ],
          [
           0.25,
           "rgb(198,219,239)"
          ],
          [
           0.375,
           "rgb(158,202,225)"
          ],
          [
           0.5,
           "rgb(107,174,214)"
          ],
          [
           0.625,
           "rgb(66,146,198)"
          ],
          [
           0.75,
           "rgb(33,113,181)"
          ],
          [
           0.875,
           "rgb(8,81,156)"
          ],
          [
           1,
           "rgb(8,48,107)"
          ]
         ],
         "geojson": {
          "features": [
           {
            "geometry": {
             "coordinates": [
              [
               101.63829803466797,
               3.228099622270834
              ],
              [
               101.66559219360352,
               3.2440386736749045
              ],
              [
               101.67280197143555,
               3.228271011252635
              ],
              [
               101.70215606689453,
               3.222957939377732
              ],
              [
               101.70215606689453,
               3.217644839759283
              ],
              [
               101.71812057495117,
               3.2152453663338125
              ],
              [
               101.72927856445312,
               3.233412667253816
              ],
              [
               101.7418098449707,
               3.2328985028260124
              ],
              [
               101.73906326293945,
               3.2161023217768543
              ],
              [
               101.7527961730957,
               3.2070185574740693
              ],
              [
               101.75863265991211,
               3.189879159964138
              ],
              [
               101.74901962280273,
               3.174624855808573
              ],
              [
               101.73408508300781,
               3.1773672192622633
              ],
              [
               101.73563003540039,
               3.163141129845951
              ],
              [
               101.74941156059504,
               3.161323017783088
              ],
              [
               101.73535963520408,
               3.1355606207863715
              ],
              [
               101.73657341860235,
               3.1154800866856993
              ],
              [
               101.75291419553105,
               3.1057617430166857
              ],
              [
               101.74597838282352,
               3.0844470466202276
              ],
              [
               101.74903360879398,
               3.0731038801514288
              ],
              [
               101.74944542282901,
               3.055261687055664
              ],
              [
               101.73085440907016,
               3.055082802391932
              ],
              [
               101.73091444723468,
               3.036051568491476
              ],
              [
               101.71403582068706,
               3.0529344822283977
              ],
              [
               101.70774227462516,
               3.046805346866537
              ],
              [
               101.66906159656492,
               3.0403123763935596
              ],
              [
               101.66783153280335,
               3.0454654371840677
              ],
              [
               101.65923424689424,
               3.048556213795579
              ],
              [
               101.65974567675971,
               3.058414039251303
              ],
              [
               101.6486717408136,
               3.057171921219023
              ],
              [
               101.64738250335381,
               3.0713572449281132
              ],
              [
               101.66145162773319,
               3.0819875295194614
              ],
              [
               101.65808429243043,
               3.1102027804567154
              ],
              [
               101.66199262719601,
               3.1152099605572423
              ],
              [
               101.66156955063343,
               3.1313948498650235
              ],
              [
               101.65239706635475,
               3.134957524909792
              ],
              [
               101.64435178041458,
               3.127342049555645
              ],
              [
               101.62242472171783,
               3.142278345474377
              ],
              [
               101.6149628162384,
               3.1532963045356297
              ],
              [
               101.61617517471313,
               3.1612771548524345
              ],
              [
               101.61997318267822,
               3.1978061669221565
              ],
              [
               101.63065910339355,
               3.2084753930370744
              ],
              [
               101.63829803466797,
               3.228099622270834
              ]
             ],
             "type": "LineString"
            },
            "properties": {
             "name": "kulsgr"
            },
            "type": "Feature"
           },
           {
            "geometry": {
             "coordinates": [
              [
               115.24314880371094,
               5.3897537476160675
              ],
              [
               115.19645690917969,
               5.3425828520359735
              ],
              [
               115.15594482421875,
               5.252332784529486
              ],
              [
               115.16555786132812,
               5.246862661161304
              ],
              [
               115.213623046875,
               5.281733873881161
              ],
              [
               115.2410888671875,
               5.241392489834262
              ],
              [
               115.24658203125,
               5.258486615931319
              ],
              [
               115.235595703125,
               5.286519965932653
              ],
              [
               115.25413513183594,
               5.271477837928368
              ],
              [
               115.26924133300781,
               5.2892548590694135
              ],
              [
               115.2410888671875,
               5.354888654498652
              ],
              [
               115.25550842285156,
               5.382917612198881
              ],
              [
               115.24314880371094,
               5.3897537476160675
              ]
             ],
             "type": "LineString"
            },
            "properties": {
             "name": "lbnocn"
            },
            "type": "Feature"
           },
           {
            "geometry": {
             "coordinates": [
              [
               101.67932510375977,
               2.971155888968156
              ],
              [
               101.68001174926758,
               2.9598414100008528
              ],
              [
               101.6891098022461,
               2.9600128423634096
              ],
              [
               101.68876647949219,
               2.9723559026703414
              ],
              [
               101.69631958007812,
               2.976470225452936
              ],
              [
               101.70267105102539,
               2.9754416461966215
              ],
              [
               101.69992446899414,
               2.97184161124346
              ],
              [
               101.70095443725586,
               2.9598414100008528
              ],
              [
               101.71623229980469,
               2.963955779378853
              ],
              [
               101.71503067016602,
               2.9555555923214163
              ],
              [
               101.73271179199219,
               2.955384159269811
              ],
              [
               101.73271179199219,
               2.9294974654518797
              ],
              [
               101.70747756958008,
               2.9294974654518797
              ],
              [
               101.70696258544922,
               2.913210827834396
              ],
              [
               101.700439453125,
               2.912867948716191
              ],
              [
               101.69717788696289,
               2.907381868633793
              ],
              [
               101.70164108276367,
               2.9048102594084666
              ],
              [
               101.69717788696289,
               2.8945237639914425
              ],
              [
               101.68842315673828,
               2.8921235682793824
              ],
              [
               101.68447494506836,
               2.881836957744866
              ],
              [
               101.67451858520508,
               2.8770365076591684
              ],
              [
               101.67194366455078,
               2.8830370671040653
              ],
              [
               101.66610717773438,
               2.879608179863816
              ],
              [
               101.65975570678711,
               2.899667023392755
              ],
              [
               101.66404724121094,
               2.9082390704065197
              ],
              [
               101.66988372802734,
               2.9099534719972175
              ],
              [
               101.66954040527344,
               2.9145823432629014
              ],
              [
               101.67228698730469,
               2.9156109787374023
              ],
              [
               101.6733169555664,
               2.9222970863809343
              ],
              [
               101.66988372802734,
               2.9301832134263326
              ],
              [
               101.67074203491211,
               2.9461267351976
              ],
              [
               101.67451858520508,
               2.9456124316009245
              ],
              [
               101.67503356933594,
               2.95058402307864
              ],
              [
               101.6645622253418,
               2.9581270849168333
              ],
              [
               101.66267395019531,
               2.9642986428034637
              ],
              [
               101.67142868041992,
               2.970470166266874
              ],
              [
               101.67932510375977,
               2.971155888968156
              ]
             ],
             "type": "LineString"
            },
            "properties": {
             "name": "pjysgr"
            },
            "type": "Feature"
           },
           {
            "geometry": {
             "coordinates": [
              [
               102.48836517333984,
               2.0991205573484972
              ],
              [
               102.48716354370117,
               2.1064970258632014
              ],
              [
               102.49231338500977,
               2.1058108442172174
              ],
              [
               102.49300003051758,
               2.1095848395281505
              ],
              [
               102.4888801574707,
               2.1118149233633234
              ],
              [
               102.49094009399414,
               2.120563682853088
              ],
              [
               102.50089645385742,
               2.11867669968903
              ],
              [
               102.50673294067383,
               2.1210783142257963
              ],
              [
               102.51239776611328,
               2.12142140171252
              ],
              [
               102.5185775756836,
               2.117990523422878
              ],
              [
               102.5273323059082,
               2.1198775074231926
              ],
              [
               102.53625869750977,
               2.1317139908717353
              ],
              [
               102.53694534301758,
               2.140805720726168
              ],
              [
               102.53093719482422,
               2.1624198049638776
              ],
              [
               102.52578735351562,
               2.16705135449344
              ],
              [
               102.50587463378906,
               2.166708277235978
              ],
              [
               102.50261306762695,
               2.1745990344689017
              ],
              [
               102.49351501464844,
               2.177000561095276
              ],
              [
               102.4917984008789,
               2.1847197278854726
              ],
              [
               102.48493194580078,
               2.1783728603069172
              ],
              [
               102.47428894042969,
               2.1850628010452606
              ],
              [
               102.47840881347656,
               2.1881504559547436
              ],
              [
               102.47583389282227,
               2.193468068946094
              ],
              [
               102.47343063354492,
               2.198442593019408
              ],
              [
               102.46759414672852,
               2.198442593019408
              ],
              [
               102.47137069702148,
               2.206504717497662
              ],
              [
               102.4808120727539,
               2.209935395517114
              ],
              [
               102.49351501464844,
               2.2190266538990717
              ],
              [
               102.49643325805664,
               2.225030284464669
              ],
              [
               102.4966049194336,
               2.2370374722042587
              ],
              [
               102.4911117553711,
               2.2572779373298157
              ],
              [
               102.50226974487305,
               2.2929553575302255
              ],
              [
               102.50638961791992,
               2.296557355554522
              ],
              [
               102.5075912475586,
               2.313195037878316
              ],
              [
               102.51153945922852,
               2.3200558810538583
              ],
              [
               102.51531600952148,
               2.3298325250453864
              ],
              [
               102.50844955444336,
               2.3399521376866654
              ],
              [
               102.513427734375,
               2.3564177918474436
              ],
              [
               102.5163459777832,
               2.3552171777965807
              ],
              [
               102.52492904663086,
               2.358990532755333
              ],
              [
               102.52424240112305,
               2.364307515544989
              ],
              [
               102.53522872924805,
               2.370310536143148
              ],
              [
               102.53471374511719,
               2.3744268780819513
              ],
              [
               102.5383186340332,
               2.376828071884677
              ],
              [
               102.5350570678711,
               2.381630446955156
              ],
              [
               102.53917694091797,
               2.3898630509652556
              ],
              [
               102.55891799926758,
               2.3965520053797253
              ],
              [
               102.56303787231445,
               2.395351426222079
              ],
              [
               102.59565353393555,
               2.4102728351330227
              ]
             ],
             "type": "LineString"
            },
            "properties": {
             "name": "jhrmlk"
            },
            "type": "Feature"
           },
           {
            "geometry": {
             "coordinates": [
              [
               102.59565353393555,
               2.4102728351330227
              ],
              [
               102.59565353393555,
               2.4133600027954976
              ],
              [
               102.59737014770508,
               2.4171331981948923
              ],
              [
               102.59119033813477,
               2.4209063831053776
              ],
              [
               102.59496688842773,
               2.4553790840206338
              ],
              [
               102.59891510009766,
               2.459666671454636
              ],
              [
               102.61505126953125,
               2.46858480914218
              ],
              [
               102.61436462402344,
               2.4853919057910248
              ],
              [
               102.60526657104492,
               2.5027132814623845
              ],
              [
               102.62054443359375,
               2.5208919047980967
              ],
              [
               102.6174545288086,
               2.526722730282693
              ],
              [
               102.61367797851562,
               2.527751696769415
              ],
              [
               102.60887145996094,
               2.5457584779376665
              ],
              [
               102.61247634887695,
               2.5474733963830283
              ],
              [
               102.60818481445312,
               2.5637650074982163
              ],
              [
               102.60955810546875,
               2.568566705994119
              ],
              [
               102.6126480102539,
               2.5695956390386314
              ],
              [
               102.61796951293945,
               2.5828002060534514
              ],
              [
               102.62346267700195,
               2.5840006144402468
              ],
              [
               102.62500762939453,
               2.5894881811749695
              ],
              [
               102.63204574584961,
               2.587944805431153
              ],
              [
               102.64028549194336,
               2.608522993739526
              ],
              [
               102.63273239135742,
               2.6131530398003058
              ],
              [
               102.62603759765625,
               2.631330092267656
              ],
              [
               102.70156860351562,
               2.831945583789586
              ]
             ],
             "type": "LineString"
            },
            "properties": {
             "name": "jhrnsn"
            },
            "type": "Feature"
           },
           {
            "geometry": {
             "coordinates": [
              [
               102.70156860351562,
               2.831945583789586
              ],
              [
               102.799072265625,
               2.801769686793356
              ],
              [
               102.97073364257812,
               2.591888984149953
              ],
              [
               103.15200805664062,
               2.517804986608357
              ],
              [
               103.3538818359375,
               2.589145208949906
              ],
              [
               103.60794067382812,
               2.460181181021018
              ],
              [
               103.64089965820312,
               2.4848774060001793
              ],
              [
               103.5955810546875,
               2.5356404127077643
              ],
              [
               103.63677978515625,
               2.657737790139801
              ]
             ],
             "type": "LineString"
            },
            "properties": {
             "name": "jhrphg"
            },
            "type": "Feature"
           },
           {
            "geometry": {
             "coordinates": [
              [
               103.63677978515625,
               2.657737790139801
              ],
              [
               103.65669250488281,
               2.658766650086923
              ],
              [
               103.66252899169922,
               2.6656256944598304
              ],
              [
               103.68999481201172,
               2.6471061871951918
              ],
              [
               103.7215805053711,
               2.6327019345514353
              ],
              [
               103.74767303466797,
               2.6371604115389475
              ],
              [
               103.74801635742188,
               2.6467632307409725
              ],
              [
               103.75385284423828,
               2.650192791010752
              ],
              [
               103.76518249511719,
               2.6450484470466287
              ],
              [
               103.75694274902344,
               2.62515678332148
              ],
              [
               103.77342224121094,
               2.609380410963676
              ],
              [
               103.809814453125,
               2.5812568221749594
              ],
              [
               103.81599426269531,
               2.58605845474809
              ],
              [
               103.82354736328125,
               2.5809138477251743
              ],
              [
               103.8156509399414,
               2.57096754847467
              ],
              [
               103.82698059082031,
               2.54730190464122
              ],
              [
               103.8211441040039,
               2.545929969884913
              ],
              [
               103.82698059082031,
               2.52500778432622
              ],
              [
               103.84483337402344,
               2.5064862240787233
              ],
              [
               103.81702423095703,
               2.493109378566171
              ],
              [
               103.83041381835938,
               2.4721863477951214
              ],
              [
               103.8369369506836,
               2.4365135361844006
              ],
              [
               103.8534164428711,
               2.4310253270922213
              ],
              [
               103.86062622070312,
               2.4135315119046097
              ],
              [
               103.88431549072266,
               2.385060704614817
              ],
              [
               103.91693115234375,
               2.3449261578261145
              ],
              [
               103.93821716308594,
               2.3387515094907694
              ],
              [
               103.95675659179688,
               2.311994386907854
              ],
              [
               103.94989013671875,
               2.2999878214206078
              ],
              [
               103.96636962890625,
               2.2711716529518693
              ],
              [
               103.98319244384766,
               2.25196055419261
              ],
              [
               103.97804260253906,
               2.25127443882492
              ],
              [
               103.96053314208984,
               2.249216090784205
              ],
              [
               103.95572662353516,
               2.2190266538990717
              ],
              [
               103.95915985107422,
               2.205647046755646
              ],
              [
               104.00344848632812,
               2.1524705026562376
              ],
              [
               104.01512145996094,
               2.1315424482821195
              ],
              [
               104.0456771850586,
               2.0663548944784833
              ],
              [
               104.05529022216797,
               2.059835990524478
              ],
              [
               104.05906677246094,
               2.04302395742204
              ],
              [
               104.06970977783203,
               2.031701468526909
              ],
              [
               104.09648895263672,
               1.9980766414070084
              ],
              [
               104.09648895263672,
               1.9908712313470842
              ],
              [
               104.1115951538086,
               1.9723428896872133
              ],
              [
               104.11914825439453,
               1.9562162020730478
              ],
              [
               104.11811828613281,
               1.9462656152698639
              ],
              [
               104.13116455078125,
               1.9246486212921237
              ],
              [
               104.1280746459961,
               1.9188154171026013
              ],
              [
               104.12223815917969,
               1.9236192337659013
              ],
              [
               104.11674499511719,
               1.9376874760533849
              ],
              [
               104.11022186279297,
               1.938030602457554
              ],
              [
               104.10541534423828,
               1.9328836991007732
              ],
              [
               104.11296844482422,
               1.9267073944798094
              ],
              [
               104.10850524902344,
               1.9229329750699877
              ],
              [
               104.10438537597656,
               1.9054332853528937
              ],
              [
               104.10575866699219,
               1.8824432269136468
              ],
              [
               104.13185119628906,
               1.845383988573187
              ],
              [
               104.14558410644531,
               1.8422956836364799
              ],
              [
               104.1500473022461,
               1.8457271332352538
              ],
              [
               104.15142059326172,
               1.8563645848502908
              ],
              [
               104.16034698486328,
               1.846070277831089
              ],
              [
               104.15794372558594,
               1.844697699050447
              ],
              [
               104.15725708007812,
               1.8289129671536257
              ],
              [
               104.16961669921875,
               1.8059219139084879
              ],
              [
               104.18643951416016,
               1.7877347550967844
              ],
              [
               104.19536590576172,
               1.7640568635259772
              ],
              [
               104.1998291015625,
               1.73866284790347
              ],
              [
               104.2218017578125,
               1.7112094738760886
              ],
              [
               104.21390533447266,
               1.7040028978171977
              ],
              [
               104.21356201171875,
               1.6950804329675422
              ],
              [
               104.24102783203125,
               1.6573310908088101
              ],
              [
               104.249267578125,
               1.6501243159064751
              ],
              [
               104.24171447753906,
               1.6425743332398175
              ],
              [
               104.24617767333984,
               1.628503834970573
              ],
              [
               104.26437377929688,
               1.6096286221850622
              ],
              [
               104.25544738769531,
               1.6034512417682705
              ],
              [
               104.25201416015625,
               1.594185136208436
              ],
              [
               104.2599105834961,
               1.5804574958256679
              ],
              [
               104.25373077392578,
               1.564670597245573
              ],
              [
               104.26334381103516,
               1.5437356139026024
              ],
              [
               104.2770767211914,
               1.5330964448287996
              ],
              [
               104.28531646728516,
               1.5155931808316945
              ],
              [
               104.28428649902344,
               1.5076995055844005
              ],
              [
               104.27467346191406,
               1.5073563016623788
              ],
              [
               104.27055358886719,
               1.4877935890641816
              ],
              [
               104.29527282714844,
               1.4469515799492016
              ],
              [
               104.29698944091797,
               1.4345958683281839
              ],
              [
               104.28600311279297,
               1.4397440896459615
              ],
              [
               104.2770767211914,
               1.433909437942939
              ],
              [
               104.27467346191406,
               1.4153757400509623
              ],
              [
               104.28428649902344,
               1.3807104645408492
              ],
              [
               104.27810668945312,
               1.3645789255837921
              ],
              [
               104.2544174194336,
               1.3597737653488802
              ],
              [
               104.25235748291016,
               1.3697273008963304
              ],
              [
               104.2441177368164,
               1.3707569746327937
              ],
              [
               104.22351837158203,
               1.3470743673410892
              ],
              [
               104.2166519165039,
               1.3515363255670068
              ],
              [
               104.20257568359375,
               1.3360910507988086
              ],
              [
               104.19742584228516,
               1.3463879115035062
              ],
              [
               104.18437957763672,
               1.3498201887565244
              ],
              [
               104.16240692138672,
               1.3405530290894208
              ],
              [
               104.15725708007812,
               1.347417595187383
              ],
              [
               104.13803100585938,
               1.3412394865669233
              ],
              [
               104.13013458251953,
               1.354625368768736
              ],
              [
               104.09133911132812,
               1.3680111770191412
              ],
              [
               104.09168243408203,
               1.3776214548774328
              ],
              [
               104.1119384765625,
               1.3889478039948222
              ],
              [
               104.11811828613281,
               1.4067952740787528
              ],
              [
               104.1232681274414,
               1.4150325220203819
              ],
              [
               104.1061019897461,
               1.4040495182936055
              ],
              [
               104.09820556640625,
               1.4232697407088972
              ],
              [
               104.07451629638672,
               1.4400873039875568
              ],
              [
               104.0408706665039,
               1.4476380064044898
              ],
              [
               104.05597686767578,
               1.452442985767033
              ],
              [
               104.04052734375,
               1.4637689680642445
              ],
              [
               104.06078338623047,
               1.4871071749321434
              ],
              [
               104.0573501586914,
               1.5032378503820645
              ],
              [
               104.07588958740234,
               1.5152499781573028
              ],
              [
               104.08687591552734,
               1.5121611516421967
              ],
              [
               104.08447265625,
               1.5214276179641297
              ],
              [
               104.0731430053711,
               1.526918838498519
              ],
              [
               104.05288696289062,
               1.5173091933874854
              ],
              [
               104.04224395751953,
               1.4936281005530108
              ],
              [
               104.0346908569336,
               1.5111315418265368
              ],
              [
               104.02885437011719,
               1.535155642980981
              ],
              [
               104.03434753417969,
               1.554717926129795
              ],
              [
               104.01168823242188,
               1.5893804724464309
              ],
              [
               103.9962387084961,
               1.5972738427077158
              ],
              [
               103.97907257080078,
               1.6185514719495546
              ],
              [
               103.97598266601562,
               1.635367504987965
              ],
              [
               103.96259307861328,
               1.6110013708497017
              ],
              [
               103.97083282470703,
               1.5856053716461642
              ],
              [
               103.99864196777344,
               1.570161705941431
              ],
              [
               104.007568359375,
               1.5533451402176797
              ],
              [
               104.0072250366211,
               1.543049217500579
              ],
              [
               104.01529312133789,
               1.5245164312379125
              ],
              [
               104.00104522705078,
               1.5128475579146388
              ],
              [
               104.00911331176758,
               1.50581188334401
              ],
              [
               104.00516510009766,
               1.483331893392633
              ],
              [
               104.007568359375,
               1.4737220568087726
              ],
              [
               104.01082992553711,
               1.4716628007081187
              ],
              [
               104.00636672973633,
               1.448839252201143
              ],
              [
               103.99520874023438,
               1.436826765657352
              ],
              [
               103.98628234863281,
               1.433909437942939
              ],
              [
               103.97357940673828,
               1.4284179874585172
              ],
              [
               103.95933151245117,
               1.4265302983207822
              ],
              [
               103.93924713134766,
               1.4325365765549887
              ],
              [
               103.92070770263672,
               1.436311943390029
              ],
              [
               103.92173767089844,
               1.4315069299741268
              ],
              [
               103.89152526855469,
               1.436311943390029
              ],
              [
               103.87195587158203,
               1.4586208013583337
              ],
              [
               103.87075424194336,
               1.4637689680642445
              ],
              [
               103.86629104614258,
               1.4701183573846615
              ],
              [
               103.85221481323242,
               1.4720060101903478
              ],
              [
               103.84037017822266,
               1.4798998136755839
              ],
              [
               103.83298873901367,
               1.4812726462004457
              ],
              [
               103.8266372680664,
               1.4805862300442898
              ],
              [
               103.81977081298828,
               1.4845331200365204
              ],
              [
               103.80123138427734,
               1.4845331200365204
              ],
              [
               103.79745483398438,
               1.4888232098617113
              ],
              [
               103.79831314086914,
               1.4948293215854835
              ],
              [
               103.79659652709961,
               1.5006638143854627
              ],
              [
               103.7936782836914,
               1.4931132913380227
              ],
              [
               103.79487991333008,
               1.4829886856602814
              ],
              [
               103.78921508789062,
               1.47578131100533
              ],
              [
               103.77067565917969,
               1.4579343782400198
              ],
              [
               103.75831604003906,
               1.4533010167218787
              ],
              [
               103.73342514038086,
               1.4610232806227414
              ],
              [
               103.72638702392578,
               1.4675442828051706
              ],
              [
               103.72552871704102,
               1.4733788475908092
              ],
              [
               103.72020721435547,
               1.4804146259720459
              ],
              [
               103.71231079101562,
               1.4805862300442898
              ],
              [
               103.70904922485352,
               1.4745800796222255
              ],
              [
               103.71591567993164,
               1.4747516841452302
              ],
              [
               103.71625900268555,
               1.464626994700495
              ],
              [
               103.69136810302734,
               1.4557035016605615
              ],
              [
               103.69789123535156,
               1.453472622873722
              ],
              [
               103.6893081665039,
               1.4430046238030876
              ],
              [
               103.6834716796875,
               1.4443774788925727
              ],
              [
               103.67420196533203,
               1.4385428390435284
              ],
              [
               103.66785049438477,
               1.4215536559028756
              ],
              [
               103.65531921386719,
               1.4047359575424712
              ],
              [
               103.64021301269531,
               1.37521888903652
              ],
              [
               103.60313415527344,
               1.3463879115035062
              ],
              [
               103.5845947265625,
               1.3443285428313179
              ],
              [
               103.54751586914062,
               1.3587440869100178
              ],
              [
               103.53790283203125,
               1.4164053938378798
              ],
              [
               103.53240966796875,
               1.3820833564366672
              ],
              [
               103.53446960449219,
               1.352566007071275
              ],
              [
               103.54751586914062,
               1.3299129136379466
              ],
              [
               103.51593017578125,
               1.3100054779424755
              ],
              [
               103.51318359375,
               1.279114317171584
              ],
              [
               103.51112365722656,
               1.2605794416293021
              ],
              [
               103.47198486328125,
               1.3058866783157517
              ],
              [
               103.45687866210938,
               1.3154972002419345
              ],
              [
               103.4417724609375,
               1.3203024473401612
              ],
              [
               103.43559265136719,
               1.3573711816421556
              ],
              [
               103.41499328613281,
               1.395812231612477
              ],
              [
               103.41087341308594,
               1.4308204986633148
              ],
              [
               103.3868408203125,
               1.4850479312555631
              ],
              [
               103.35868835449219,
               1.5385876354924624
              ],
              [
               103.31886291503906,
               1.5667297646937866
              ],
              [
               103.28933715820312,
               1.5825166476875732
              ],
              [
               103.27491760253906,
               1.593498756356747
              ],
              [
               103.26255798339844,
               1.5948715158312778
              ],
              [
               103.19869995117188,
               1.6161491700973138
              ],
              [
               103.14926147460938,
               1.6422311515306498
              ],
              [
               103.11630249023438,
               1.6703718548360296
              ],
              [
               103.084716796875,
               1.6964531225492947
              ],
              [
               103.03596496582031,
               1.7232203737409166
              ],
              [
               102.97897338867188,
               1.7444966386574388
              ],
              [
               102.95562744140625,
               1.7431239836347538
              ],
              [
               102.94120788574219,
               1.7403786705878432
              ],
              [
               102.90962219238281,
               1.7664589822714587
              ],
              [
               102.88627624511719,
               1.7925389278418953
              ],
              [
               102.89520263671875,
               1.7980293955404163
              ],
              [
               102.89451599121094,
               1.821363698391015
              ],
              [
               102.88558959960938,
               1.8172459020892597
              ],
              [
               102.87940979003906,
               1.821363698391015
              ],
              [
               102.81692504882812,
               1.8570508698571522
              ],
              [
               102.77091979980469,
               1.866658831923276
              ],
              [
               102.73246765136719,
               1.8680313936525572
              ],
              [
               102.72285461425781,
               1.8597960072183644
              ],
              [
               102.70980834960938,
               1.8536194421595378
              ],
              [
               102.68440246582031,
               1.8728353512547844
              ],
              [
               102.6507568359375,
               1.9222467160981036
              ],
              [
               102.63015747070312,
               1.9517556014770228
              ],
              [
               102.54707336425781,
               2.027241072295682
              ],
              [
               102.54364013671875,
               2.037534275777126
              ],
              [
               102.55256652832031,
               2.0471412063451693
              ],
              [
               102.56561279296875,
               2.0443963749034975
              ],
              [
               102.55874633789062,
               2.0560618760371434
              ],
              [
               102.53677368164062,
               2.0608652929244395
              ],
              [
               102.52235412597656,
               2.0787064285136343
              ],
              [
               102.48836517333984,
               2.0991205573484972
              ]
             ],
             "type": "LineString"
            },
            "properties": {
             "name": "jhrocn"
            },
            "type": "Feature"
           },
           {
            "geometry": {
             "coordinates": [
              [
               100.49297332763672,
               5.130269333425149
              ],
              [
               100.49331665039062,
               5.155231003951707
              ],
              [
               100.53314208984375,
               5.13881796089842
              ],
              [
               100.54962158203125,
               5.144289022297493
              ],
              [
               100.52352905273438,
               5.356255950601548
              ],
              [
               100.52764892578125,
               5.557214791322004
              ],
              [
               100.41229248046875,
               5.566782569306497
              ],
              [
               100.37246704101562,
               5.584550886514859
              ],
              [
               100.36834716796875,
               5.570882997931688
              ],
              [
               100.33882141113281,
               5.578058679140624
              ]
             ],
             "type": "LineString"
            },
            "properties": {
             "name": "kdhpng"
            },
            "type": "Feature"
           },
           {
            "geometry": {
             "coordinates": [
              [
               100.98770141601562,
               5.782699056797093
              ],
              [
               100.94512939453125,
               5.769035866122148
              ],
              [
               100.97808837890625,
               5.714379819235291
              ],
              [
               100.9698486328125,
               5.651518917890183
              ],
              [
               100.9149169921875,
               5.605052121404785
              ],
              [
               100.9478759765625,
               5.577716982024741
              ],
              [
               100.92864990234375,
               5.498437897426572
              ],
              [
               100.86273193359375,
               5.476565940198599
              ],
              [
               100.8544921875,
               5.3425828520359735
              ],
              [
               100.8160400390625,
               5.317970506163205
              ],
              [
               100.7391357421875,
               5.317970506163205
              ],
              [
               100.71990966796875,
               5.263272887191521
              ],
              [
               100.68695068359375,
               5.244127581489553
              ],
              [
               100.65673828125,
               5.178482088522876
              ],
              [
               100.623779296875,
               5.167540507950538
              ],
              [
               100.61004638671875,
               5.12924349042934
              ],
              [
               100.58258056640625,
               5.097783506271446
              ],
              [
               100.55099487304688,
               5.082736881549004
              ],
              [
               100.50979614257812,
               5.099151363782624
              ],
              [
               100.51185607910156,
               5.111119992621954
              ],
              [
               100.5194091796875,
               5.119326923187121
              ],
              [
               100.49297332763672,
               5.130269333425149
              ]
             ],
             "type": "LineString"
            },
            "properties": {
             "name": "kdhprk"
            },
            "type": "Feature"
           },
           {
            "geometry": {
             "coordinates": [
              [
               100.19668579101562,
               6.259332270466327
              ],
              [
               100.228271484375,
               6.315298538330033
              ],
              [
               100.30380249023438,
               6.4081072786850015
              ],
              [
               100.3656005859375,
               6.4545053334927305
              ],
              [
               100.36697387695312,
               6.541831294229476
              ]
             ],
             "type": "LineString"
            },
            "properties": {
             "name": "kdhpls"
            },
            "type": "Feature"
           },
           {
            "geometry": {
             "coordinates": [
              [
               100.36697387695312,
               6.541831294229476
              ],
              [
               100.41915893554688,
               6.5200012268628385
              ],
              [
               100.49468994140625,
               6.526823225180418
              ],
              [
               100.49468994140625,
               6.506356951818057
              ],
              [
               100.54824829101562,
               6.483160834178051
              ],
              [
               100.56472778320312,
               6.496805738748304
              ],
              [
               100.65399169921875,
               6.446317749457658
              ],
              [
               100.6842041015625,
               6.4545053334927305
              ],
              [
               100.73638916015625,
               6.510450273276757
              ],
              [
               100.74874877929688,
               6.45859907588465
              ],
              [
               100.81192016601562,
               6.4449531392614885
              ],
              [
               100.82565307617188,
               6.402648405963896
              ],
              [
               100.82015991210938,
               6.3535159310088165
              ],
              [
               100.84762573242188,
               6.315298538330033
              ],
              [
               100.83251953125,
               6.290728723530766
              ],
              [
               100.85174560546875,
               6.234759816458916
              ],
              [
               100.87234497070312,
               6.240220461451296
              ],
              [
               100.87234497070312,
               6.260697372951358
              ],
              [
               100.8984375,
               6.236124983039287
              ],
              [
               100.94375610351562,
               6.245681049537433
              ],
              [
               100.97259521484375,
               6.2825385269263885
              ],
              [
               101.03164672851562,
               6.244315907853541
              ],
              [
               101.09481811523438,
               6.26479265899468
              ],
              [
               101.12228393554688,
               6.1938031700764045
              ],
              [
               101.08795166015625,
               6.1787849358252
              ],
              [
               101.05499267578125,
               6.137823951988505
              ],
              [
               101.12777709960938,
               6.109149388259389
              ],
              [
               101.09893798828125,
               6.049064377566057
              ],
              [
               101.11404418945312,
               6.040870448158524
              ],
              [
               101.10443115234375,
               5.988972688952051
              ],
              [
               101.12091064453125,
               5.975314562439893
              ],
              [
               101.0797119140625,
               5.908384830835344
              ],
              [
               101.02752685546875,
               5.917946718602524
              ],
              [
               101.00692749023438,
               5.849643907129009
              ],
              [
               100.98770141601562,
               5.782699056797093
              ]
             ],
             "type": "LineString"
            },
            "properties": {
             "name": "kdhtha"
            },
            "type": "Feature"
           },
           {
            "geometry": {
             "coordinates": [
              [
               100.33882141113281,
               5.578058679140624
              ],
              [
               100.33058166503906,
               5.6617684455849835
              ],
              [
               100.34088134765625,
               5.670651222566598
              ],
              [
               100.37246704101562,
               5.669284650387527
              ],
              [
               100.39924621582031,
               5.650152300481219
              ],
              [
               100.3765869140625,
               5.6829502264441585
              ],
              [
               100.36079406738281,
               5.687733101477844
              ],
              [
               100.34774780273438,
               5.707547445489985
              ],
              [
               100.37040710449219,
               5.7854316553618625
              ],
              [
               100.34706115722656,
               5.975314562439893
              ],
              [
               100.32302856445312,
               6.048381554855986
              ],
              [
               100.27976989746094,
               6.101639129354743
              ],
              [
               100.26741027832031,
               6.169227655704114
              ],
              [
               100.22346496582031,
               6.233394646324949
              ],
              [
               100.19668579101562,
               6.259332270466327
              ]
             ],
             "type": "LineString"
            },
            "properties": {
             "name": "kdhocn"
            },
            "type": "Feature"
           },
           {
            "geometry": {
             "coordinates": [
              [
               102.65727996826172,
               4.760348627805425
              ],
              [
               102.64972686767578,
               4.762743592942047
              ],
              [
               102.61101722717285,
               4.77933705063744
              ],
              [
               102.60063171386719,
               4.765993889428381
              ],
              [
               102.60612487792969,
               4.687298206027659
              ],
              [
               102.57522583007812,
               4.691404288203818
              ],
              [
               102.54913330078125,
               4.710565685396272
              ],
              [
               102.52578735351562,
               4.677032895076936
              ],
              [
               102.50381469726562,
               4.670189270830019
              ],
              [
               102.45025634765625,
               4.711250011257274
              ],
              [
               102.36236572265625,
               4.7098813588617805
              ],
              [
               102.37403869628906,
               4.68661385665204
              ],
              [
               102.33009338378906,
               4.636654548576402
              ],
              [
               102.27310180664062,
               4.65992370928245
              ],
              [
               102.23052978515625,
               4.64897361172607
              ],
              [
               102.23052978515625,
               4.627757313781544
              ],
              [
               102.17491149902344,
               4.6606080847201445
              ],
              [
               102.17422485351562,
               4.679770326056327
              ],
              [
               102.12478637695312,
               4.717408913682986
              ],
              [
               102.12066650390625,
               4.759151142110603
              ],
              [
               102.04719543457031,
               4.731095167820164
              ],
              [
               102.01766967773438,
               4.735200991337153
              ],
              [
               102.00325012207031,
               4.75983541990569
              ],
              [
               101.98539733886719,
               4.7605196970202766
              ],
              [
               101.98539733886719,
               4.741359680909624
              ],
              [
               101.964111328125,
               4.761888249207674
              ],
              [
               101.9476318359375,
               4.757782584479419
              ],
              [
               101.94351196289062,
               4.657870578971867
              ],
              [
               101.92703247070312,
               4.655133062567141
              ],
              [
               101.9146728515625,
               4.607224807005659
              ],
              [
               101.89956665039062,
               4.609278084409835
              ],
              [
               101.88789367675781,
               4.6414453209142446
              ],
              [
               101.89544677734375,
               4.6606080847201445
              ],
              [
               101.88308715820312,
               4.6784016119044995
              ],
              [
               101.85081481933594,
               4.68592950660633
              ],
              [
               101.83914184570312,
               4.720830502540004
              ],
              [
               101.82060241699219,
               4.717408913682986
              ],
              [
               101.8212890625,
               4.757098304643499
              ],
              [
               101.79931640625,
               4.762572524280281
              ],
              [
               101.78077697753906,
               4.7564140241274995
              ],
              [
               101.76498413085938,
               4.622282036767971
              ],
              [
               101.74919128417969,
               4.609962508893083
              ],
              [
               101.73065185546875,
               4.622282036767971
              ],
              [
               101.722412109375,
               4.609962508893083
              ],
              [
               101.66816711425781,
               4.5921672583606306
              ],
              [
               101.66610717773438,
               4.570949264200543
              ],
              [
               101.64825439453125,
               4.553837520857994
              ],
              [
               101.63864135742188,
               4.559997795432589
              ],
              [
               101.62216186523438,
               4.545623739376301
              ],
              [
               101.61529541015625,
               4.561366738166873
              ],
              [
               101.58714294433594,
               4.553837520857994
              ],
              [
               101.56517028808594,
               4.5791627559757515
              ],
              [
               101.55143737792969,
               4.575740479186676
              ],
              [
               101.54045104980469,
               4.5976427674255005
              ],
              [
               101.51779174804688,
               4.611331355881756
              ],
              [
               101.480712890625,
               4.599011638118759
              ],
              [
               101.47384643554688,
               4.572318186037985
              ],
              [
               101.44706726074219,
               4.5736871052598405
              ],
              [
               101.43951416015625,
               4.592851699293261
              ],
              [
               101.40586853027344,
               4.6188599671494
              ],
              [
               101.37153625488281,
               4.6133846214188114
              ]
             ],
             "type": "LineString"
            },
            "properties": {
             "name": "ktnphg"
            },
            "type": "Feature"
           },
           {
            "geometry": {
             "coordinates": [
              [
               101.37153625488281,
               4.6133846214188114
              ],
              [
               101.37702941894531,
               4.632548146427767
              ],
              [
               101.35848999023438,
               4.658554956408209
              ],
              [
               101.3323974609375,
               4.683192099724386
              ],
              [
               101.33995056152344,
               4.710565685396272
              ],
              [
               101.38595581054688,
               4.710565685396272
              ],
              [
               101.37496948242188,
               4.757782584479419
              ],
              [
               101.39694213867188,
               4.770783772016471
              ],
              [
               101.41616821289062,
               4.807048939114977
              ],
              [
               101.39968872070312,
               4.833049192412515
              ],
              [
               101.40861511230469,
               4.85083826494702
              ],
              [
               101.44294738769531,
               4.8604168022791745
              ],
              [
               101.44569396972656,
               4.913780438786879
              ],
              [
               101.42166137695312,
               4.978084780949213
              ],
              [
               101.44775390625,
               4.9986061240370185
              ],
              [
               101.46080017089844,
               5.047854719672127
              ],
              [
               101.47865295410156,
               5.088208422167594
              ],
              [
               101.48689270019531,
               5.170959772197187
              ],
              [
               101.52191162109375,
               5.263956637222779
              ],
              [
               101.56929016113281,
               5.289938580465502
              ],
              [
               101.57958984375,
               5.327542091197393
              ],
              [
               101.61735534667969,
               5.350103094058478
              ],
              [
               101.66885375976562,
               5.327542091197393
              ],
              [
               101.73545837402344,
               5.351470400862491
              ],
              [
               101.75193786621094,
               5.375397774474748
              ],
              [
               101.74026489257812,
               5.391804573239835
              ],
              [
               101.73545837402344,
               5.453326108568553
              ],
              [
               101.75056457519531,
               5.472464859001194
              ],
              [
               101.74232482910156,
               5.505956197264975
              ],
              [
               101.656494140625,
               5.520309050962868
              ],
              [
               101.68601989746094,
               5.589334572242646
              ],
              [
               101.65580749511719,
               5.608468923967094
              ],
              [
               101.65992736816406,
               5.66381832932187
              ],
              [
               101.6949462890625,
               5.704131228074497
              ],
              [
               101.69151306152344,
               5.754689161638781
              ]
             ],
             "type": "LineString"
            },
            "properties": {
             "name": "ktnprk"
            },
            "type": "Feature"
           },
           {
            "geometry": {
             "coordinates": [
              [
               102.53565788269043,
               5.845887009566105
              ],
              [
               102.48939514160156,
               5.791579953844538
              ],
              [
               102.43171691894531,
               5.745466088950315
              ],
              [
               102.41592407226562,
               5.721212111452892
              ],
              [
               102.3980712890625,
               5.696273850826122
              ],
              [
               102.3922348022461,
               5.699690115019108
              ],
              [
               102.37918853759766,
               5.692174306975572
              ],
              [
               102.38090515136719,
               5.681242047158673
              ],
              [
               102.38639831542969,
               5.676459118211328
              ],
              [
               102.38948822021484,
               5.63033598603856
              ],
              [
               102.40219116210938,
               5.610518995900887
              ],
              [
               102.39601135253906,
               5.579425465613804
              ],
              [
               102.40768432617188,
               5.54388798441325
              ],
              [
               102.40013122558594,
               5.543204550301412
              ],
              [
               102.39910125732422,
               5.529877427104967
              ],
              [
               102.39017486572266,
               5.523384617291998
              ],
              [
               102.381591796875,
               5.520309050962868
              ],
              [
               102.381591796875,
               5.514157870446127
              ],
              [
               102.38639831542969,
               5.510057048012416
              ],
              [
               102.3929214477539,
               5.496045691192545
              ],
              [
               102.38914489746094,
               5.474515403116572
              ],
              [
               102.39944458007812,
               5.462553796709912
              ],
              [
               102.40219116210938,
               5.439996975279234
              ],
              [
               102.39360809326172,
               5.425983978294334
              ],
              [
               102.3870849609375,
               5.428034681133996
              ],
              [
               102.38468170166016,
               5.4092363110471045
              ],
              [
               102.39051818847656,
               5.408552722935976
              ],
              [
               102.4306869506836,
               5.36958692716548
              ],
              [
               102.43927001953125,
               5.3702705591369035
              ],
              [
               102.43995666503906,
               5.354888654498652
              ],
              [
               102.42931365966797,
               5.355230478811125
              ],
              [
               102.42794036865234,
               5.348735784198741
              ],
              [
               102.42828369140625,
               5.318654195747717
              ],
              [
               102.42210388183594,
               5.315235740232144
              ],
              [
               102.41523742675781,
               5.227716852021092
              ],
              [
               102.42176055908203,
               5.219511325926304
              ],
              [
               102.4203872680664,
               5.19250071183733
              ],
              [
               102.41317749023438,
               5.189423479732443
              ],
              [
               102.41317749023438,
               5.179507851999132
              ],
              [
               102.4368667602539,
               5.178140166994281
              ],
              [
               102.44407653808594,
               5.167540507950538
              ],
              [
               102.46055603027344,
               5.167882435205824
              ],
              [
               102.48493194580078,
               5.144289022297493
              ],
              [
               102.48424530029297,
               5.136766300758565
              ],
              [
               102.51239776611328,
               5.125140101962673
              ],
              [
               102.52784729003906,
               5.108384325726238
              ],
              [
               102.51274108886719,
               5.081710962507595
              ],
              [
               102.50450134277344,
               5.0834208266689345
              ],
              [
               102.49866485595703,
               5.070767724488126
              ],
              [
               102.50587463378906,
               5.068373866434907
              ],
              [
               102.51754760742188,
               5.020836853535642
              ],
              [
               102.51068115234375,
               5.00681448142217
              ],
              [
               102.49935150146484,
               5.0054464290077965
              ],
              [
               102.49832153320312,
               4.99039766379685
              ],
              [
               102.52166748046875,
               4.959272987296277
              ],
              [
               102.51102447509766,
               4.949011782911301
              ],
              [
               102.51995086669922,
               4.942512937806694
              ],
              [
               102.5130844116211,
               4.9366981276233135
              ],
              [
               102.5075912475586,
               4.901808198164421
              ],
              [
               102.53059387207031,
               4.893940608902126
              ],
              [
               102.53883361816406,
               4.906255055468887
              ],
              [
               102.57865905761719,
               4.88949366969545
              ],
              [
               102.59410858154297,
               4.869995203446797
              ],
              [
               102.60749816894531,
               4.872731864447689
              ],
              [
               102.61711120605469,
               4.859048448133569
              ],
              [
               102.6504135131836,
               4.846733135901818
              ],
              [
               102.65213012695312,
               4.835443902493129
              ],
              [
               102.64251708984375,
               4.816628095528729
              ],
              [
               102.65178680419922,
               4.8104700818805375
              ],
              [
               102.66860961914062,
               4.778310662835895
              ],
              [
               102.65727996826172,
               4.760348627805425
              ]
             ],
             "type": "LineString"
            },
            "properties": {
             "name": "ktntrg"
            },
            "type": "Feature"
           },
           {
            "geometry": {
             "coordinates": [
              [
               101.69151306152344,
               5.754689161638781
              ],
              [
               101.700439453125,
               5.752639602851877
              ],
              [
               101.71829223632812,
               5.7628873228748745
              ],
              [
               101.72103881835938,
               5.7854316553618625
              ],
              [
               101.74163818359375,
               5.783382207675868
              ],
              [
               101.74713134765625,
               5.793629371805005
              ],
              [
               101.75880432128906,
               5.797728185409704
              ],
              [
               101.77734375,
               5.784748506958335
              ],
              [
               101.77322387695312,
               5.770402200015781
              ],
              [
               101.81991577148438,
               5.731460396704476
              ],
              [
               101.82815551757812,
               5.7335100316877625
              ],
              [
               101.81922912597656,
               5.75742189519423
              ],
              [
               101.83639526367188,
               5.788164240722203
              ],
              [
               101.86386108398438,
               5.790213671073348
              ],
              [
               101.86180114746094,
               5.801826969242172
              ],
              [
               101.87210083007812,
               5.801826969242172
              ],
              [
               101.87965393066406,
               5.810707565311589
              ],
              [
               101.87896728515625,
               5.831883805666086
              ],
              [
               101.898193359375,
               5.844862396761838
              ],
              [
               101.91329956054688,
               5.841447007202826
              ],
              [
               101.94488525390625,
               5.870135630966354
              ],
              [
               101.93321228027344,
               5.908384830835344
              ],
              [
               101.92153930664062,
               5.909067828298537
              ],
              [
               101.93321228027344,
               5.94868023624259
              ],
              [
               101.94557189941406,
               5.954826733929924
              ],
              [
               101.93870544433594,
               5.9718999775333925
              ],
              [
               101.97372436523438,
               6.0087763654981385
              ],
              [
               101.97647094726562,
               6.029945016071819
              ],
              [
               102.01492309570312,
               6.053844112385779
              ],
              [
               102.05337524414062,
               6.080473288490129
              ],
              [
               102.09457397460938,
               6.1480644939995575
              ],
              [
               102.08084106445312,
               6.172640989828772
              ],
              [
               102.08221435546875,
               6.22452095388867
              ],
              [
               102.09182739257812,
               6.238855305536253
              ]
             ],
             "type": "LineString"
            },
            "properties": {
             "name": "ktntha"
            },
            "type": "Feature"
           },
           {
            "geometry": {
             "coordinates": [
              [
               102.09182739257812,
               6.238855305536253
              ],
              [
               102.16461181640625,
               6.199264240303361
              ],
              [
               102.24288940429688,
               6.212575362017259
              ],
              [
               102.28408813476562,
               6.1876593985507675
              ],
              [
               102.33009338378906,
               6.177419620654008
              ],
              [
               102.3651123046875,
               6.137823951988505
              ],
              [
               102.48184204101562,
               5.896090732511716
              ],
              [
               102.53565788269043,
               5.845887009566105
              ]
             ],
             "type": "LineString"
            },
            "properties": {
             "name": "ktnocn"
            },
            "type": "Feature"
           },
           {
            "geometry": {
             "coordinates": [
              [
               101.9747543334961,
               2.3898630509652556
              ],
              [
               101.98368072509766,
               2.3984386276428595
              ],
              [
               101.99638366699219,
               2.4018688432717705
              ],
              [
               102.01251983642578,
               2.409072268039564
              ],
              [
               102.02676773071289,
               2.4270806630186144
              ],
              [
               102.03020095825195,
               2.4394291381695368
              ],
              [
               102.03792572021484,
               2.4337694344312832
              ],
              [
               102.03466415405273,
               2.4306823132823854
              ],
              [
               102.03500747680664,
               2.4245080498112297
              ],
              [
               102.04599380493164,
               2.420391858508534
              ],
              [
               102.05183029174805,
               2.4222784477417987
              ],
              [
               102.04977035522461,
               2.4277666923805694
              ],
              [
               102.05268859863281,
               2.4347984732436534
              ],
              [
               102.06195831298828,
               2.4342839539356773
              ],
              [
               102.06573486328125,
               2.443716776663375
              ],
              [
               102.05955505371094,
               2.444059787151656
              ],
              [
               102.06418991088867,
               2.4579516381335673
              ],
              [
               102.08324432373047,
               2.4541785570725816
              ],
              [
               102.08942413330078,
               2.447318382417128
              ],
              [
               102.12186813354492,
               2.462582223038756
              ],
              [
               102.14212417602539,
               2.4570941206465786
              ],
              [
               102.17679977416992,
               2.4991118261073177
              ],
              [
               102.19413757324219,
               2.488478900323377
              ],
              [
               102.21061706542969,
               2.480075398289568
              ],
              [
               102.21696853637695,
               2.4723578493920564
              ],
              [
               102.2222900390625,
               2.4725293509668167
              ],
              [
               102.23276138305664,
               2.466012275556597
              ],
              [
               102.27790832519531,
               2.458294644974121
              ],
              [
               102.33146667480469,
               2.488478900323377
              ],
              [
               102.3647689819336,
               2.4949958650325077
              ],
              [
               102.43188858032227,
               2.4716718428713698
              ],
              [
               102.43000030517578,
               2.4613817025705242
              ],
              [
               102.53643035888672,
               2.428281214173487
              ],
              [
               102.56664276123047,
               2.417647724027967
              ],
              [
               102.58724212646484,
               2.415418110676294
              ],
              [
               102.59565353393555,
               2.4102728351330227
              ]
             ],
             "type": "LineString"
            },
            "properties": {
             "name": "mlknsn"
            },
            "type": "Feature"
           },
           {
            "geometry": {
             "coordinates": [
              [
               102.48836517333984,
               2.0991205573484972
              ],
              [
               102.47411727905273,
               2.1080409334613437
              ],
              [
               102.46261596679688,
               2.1123295576400944
              ],
              [
               102.44630813598633,
               2.1149027264657265
              ],
              [
               102.43858337402344,
               2.1152458153201525
              ],
              [
               102.40425109863281,
               2.1318855334422295
              ],
              [
               102.38433837890625,
               2.132914788463656
              ],
              [
               102.37798690795898,
               2.132057075993615
              ],
              [
               102.35395431518555,
               2.143721924550186
              ],
              [
               102.34949111938477,
               2.1497258560966856
              ],
              [
               102.33592987060547,
               2.154872064342401
              ],
              [
               102.31945037841797,
               2.1569305427731993
              ],
              [
               102.30932235717773,
               2.1672228930930117
              ],
              [
               102.30382919311523,
               2.1687667396144663
              ],
              [
               102.28649139404297,
               2.172540580032526
              ],
              [
               102.2662353515625,
               2.1836905079359714
              ],
              [
               102.26125717163086,
               2.1812889919794802
              ],
              [
               102.24992752075195,
               2.185748947129666
              ],
              [
               102.23945617675781,
               2.1874643109684175
              ],
              [
               102.22967147827148,
               2.1979279878490123
              ],
              [
               102.21765518188477,
               2.2013586856322274
              ],
              [
               102.205810546875,
               2.21010692921012
              ],
              [
               102.19585418701172,
               2.2143952650897183
              ],
              [
               102.18795776367188,
               2.2150813976793486
              ],
              [
               102.16924667358398,
               2.2173113264002184
              ],
              [
               102.16117858886719,
               2.2143952650897183
              ],
              [
               102.15396881103516,
               2.2162821289463865
              ],
              [
               102.13319778442383,
               2.254190426905757
              ],
              [
               102.11328506469727,
               2.2728869172356845
              ],
              [
               102.10590362548828,
               2.2740876010217863
              ],
              [
               102.10092544555664,
               2.2715147059716094
              ],
              [
               102.0875358581543,
               2.291068593040803
              ],
              [
               102.08187103271484,
               2.292097737616043
              ],
              [
               102.07706451416016,
               2.297071925959839
              ],
              [
               102.06830978393555,
               2.323486290166025
              ],
              [
               102.05406188964844,
               2.3423533909937784
              ],
              [
               102.0380973815918,
               2.348528023442635
              ],
              [
               102.02264785766602,
               2.362249331072835
              ],
              [
               102.01045989990234,
               2.367737816213688
              ],
              [
               101.99775695800781,
               2.368423875328803
              ],
              [
               101.99552536010742,
               2.3656796368307016
              ],
              [
               101.97612762451172,
               2.370310536143148
              ],
              [
               101.97097778320312,
               2.3754559616514554
              ],
              [
               101.97269439697266,
               2.376828071884677
              ],
              [
               101.96771621704102,
               2.386947342682369
              ],
              [
               101.9747543334961,
               2.3898630509652556
              ]
             ],
             "type": "LineString"
            },
            "properties": {
             "name": "mlkocn"
            },
            "type": "Feature"
           },
           {
            "geometry": {
             "coordinates": [
              [
               101.91364288330078,
               3.260834391354064
              ],
              [
               101.93389892578125,
               3.289969153804745
              ],
              [
               101.97509765625,
               3.270774582020789
              ],
              [
               101.97235107421875,
               3.2447242186445773
              ],
              [
               102.00668334960938,
               3.229642122066011
              ],
              [
               102.04238891601562,
               3.228271011252635
              ],
              [
               102.06161499023438,
               3.1665691210839224
              ],
              [
               102.11105346679688,
               3.195363798329405
              ],
              [
               102.14813232421875,
               3.1967349533429625
              ],
              [
               102.161865234375,
               3.1775386167362476
              ],
              [
               102.392578125,
               3.11720495860026
              ],
              [
               102.46673583984375,
               3.0184697213064116
              ],
              [
               102.66448974609375,
               2.8895519243797
              ],
              [
               102.68096923828125,
               2.8991526985043006
              ],
              [
               102.69332885742188,
               2.8826941788448823
              ],
              [
               102.70156860351562,
               2.831945583789586
              ]
             ],
             "type": "LineString"
            },
            "properties": {
             "name": "nsnphg"
            },
            "type": "Feature"
           },
           {
            "geometry": {
             "coordinates": [
              [
               101.71365737915039,
               2.5944612679982164
              ],
              [
               101.71245574951172,
               2.598405426400447
              ],
              [
               101.700439453125,
               2.6042358988542493
              ],
              [
               101.7117691040039,
               2.617954551011574
              ],
              [
               101.72309875488281,
               2.6189834438786455
              ],
              [
               101.73065185546875,
               2.6186404796835028
              ],
              [
               101.72447204589844,
               2.6347596951449854
              ],
              [
               101.73408508300781,
               2.650192791010752
              ],
              [
               101.74644470214844,
               2.6539652963321823
              ],
              [
               101.73957824707031,
               2.6711129024380353
              ],
              [
               101.74713134765625,
               2.682430191408072
              ],
              [
               101.75262451171875,
               2.6820872447940185
              ],
              [
               101.76155090332031,
               2.7067791544568403
              ],
              [
               101.75056457519531,
               2.8706930247630016
              ],
              [
               101.88343048095703,
               2.8672641004210604
              ],
              [
               101.92428588867188,
               2.976641655235643
              ],
              [
               101.93183898925781,
               2.996870181917404
              ],
              [
               101.95621490478516,
               3.0253266282949207
              ],
              [
               101.97029113769531,
               3.026012316610068
              ],
              [
               101.94866180419922,
               3.1124055408946614
              ],
              [
               101.964111328125,
               3.138116451213742
              ],
              [
               101.94110870361328,
               3.1843944923387464
              ],
              [
               101.9479751586914,
               3.2059902017093402
              ],
              [
               101.942138671875,
               3.230670453961059
              ],
              [
               101.9314956665039,
               3.2447242186445773
              ],
              [
               101.93458557128906,
               3.251922412732101
              ],
              [
               101.9253158569336,
               3.25877778790474
              ],
              [
               101.91364288330078,
               3.260834391354064
              ]
             ],
             "type": "LineString"
            },
            "properties": {
             "name": "nsnsgr"
            },
            "type": "Feature"
           },
           {
            "geometry": {
             "coordinates": [
              [
               101.9747543334961,
               2.3898630509652556
              ],
              [
               101.97166442871094,
               2.399124671457166
              ],
              [
               101.96325302124023,
               2.4025548853642897
              ],
              [
               101.95518493652344,
               2.4028979062812916
              ],
              [
               101.94419860839844,
               2.409929816071493
              ],
              [
               101.94265365600586,
               2.4161041459436867
              ],
              [
               101.93286895751953,
               2.423993526582673
              ],
              [
               101.9198226928711,
               2.4243365420901113
              ],
              [
               101.90643310546875,
               2.422106939738234
              ],
              [
               101.89579010009766,
               2.417304706827596
              ],
              [
               101.86643600463867,
               2.4190197919622793
              ],
              [
               101.8600845336914,
               2.414217548124655
              ],
              [
               101.85699462890625,
               2.407185660468913
              ],
              [
               101.85733795166016,
               2.4042699890874832
              ],
              [
               101.85287475585938,
               2.4030694167074973
              ],
              [
               101.84823989868164,
               2.411301891798902
              ],
              [
               101.85253143310547,
               2.415418110676294
              ],
              [
               101.85544967651367,
               2.414217548124655
              ],
              [
               101.85647964477539,
               2.4420017229076754
              ],
              [
               101.85373306274414,
               2.4452603231703196
              ],
              [
               101.85630798339844,
               2.449204933951163
              ],
              [
               101.85150146484375,
               2.461896211475046
              ],
              [
               101.84858322143555,
               2.462410720180935
              ],
              [
               101.8484115600586,
               2.4704713306070984
              ],
              [
               101.8545913696289,
               2.4718433445347654
              ],
              [
               101.85184478759766,
               2.4752733731473158
              ],
              [
               101.8458366394043,
               2.473729861369407
              ],
              [
               101.84549331665039,
               2.4771598851013836
              ],
              [
               101.84892654418945,
               2.479046394368264
              ],
              [
               101.84085845947266,
               2.4919088857702656
              ],
              [
               101.83502197265625,
               2.5037422668899585
              ],
              [
               101.83107376098633,
               2.505457240806713
              ],
              [
               101.82111740112305,
               2.5205489142495527
              ],
              [
               101.81425094604492,
               2.522778351198948
              ],
              [
               101.80360794067383,
               2.5210634000384893
              ],
              [
               101.79039001464844,
               2.5210634000384893
              ],
              [
               101.78970336914062,
               2.5327250232823415
              ],
              [
               101.79313659667969,
               2.534439959033636
              ],
              [
               101.79880142211914,
               2.5438720650119366
              ],
              [
               101.79262161254883,
               2.5548475196561857
              ],
              [
               101.79880142211914,
               2.56153564135536
              ],
              [
               101.79502487182617,
               2.574911779884307
              ],
              [
               101.79004669189453,
               2.5795419490007094
              ],
              [
               101.78455352783203,
               2.5767981471128194
              ],
              [
               101.7824935913086,
               2.587944805431153
              ],
              [
               101.76567077636719,
               2.600291758673124
              ],
              [
               101.74884796142578,
               2.6033784781255735
              ],
              [
               101.73391342163086,
               2.599262850510269
              ],
              [
               101.72996520996094,
               2.5937753261501144
              ],
              [
               101.71365737915039,
               2.5944612679982164
              ]
             ],
             "type": "LineString"
            },
            "properties": {
             "name": "nsnocn"
            },
            "type": "Feature"
           },
           {
            "geometry": {
             "coordinates": [
              [
               101.62559509277344,
               3.7721057944916154
              ],
              [
               101.59538269042969,
               3.8012245190833154
              ],
              [
               101.58920288085938,
               3.8382210087308173
              ],
              [
               101.59950256347656,
               3.847127332281291
              ],
              [
               101.60499572753906,
               3.8731606665392544
              ],
              [
               101.57546997070312,
               3.910154025835566
              ],
              [
               101.57135009765625,
               3.9978354395867215
              ],
              [
               101.55555725097656,
               4.023179110282761
              ],
              [
               101.57890319824219,
               4.066330030072189
              ],
              [
               101.57546997070312,
               4.097150702665089
              ],
              [
               101.51573181152344,
               4.118382031276569
              ],
              [
               101.49581909179688,
               4.162212656441934
              ],
              [
               101.51161193847656,
               4.203986450382895
              ],
              [
               101.45462036132812,
               4.221106212250807
              ],
              [
               101.45256042480469,
               4.243703719591427
              ],
              [
               101.46560668945312,
               4.257398856960772
              ],
              [
               101.44912719726562,
               4.275202171119146
              ],
              [
               101.4422607421875,
               4.333402418678246
              ],
              [
               101.41754150390625,
               4.3457266042579406
              ],
              [
               101.4312744140625,
               4.353257951868212
              ],
              [
               101.43882751464844,
               4.3888596636731645
              ],
              [
               101.392822265625,
               4.40871372792638
              ],
              [
               101.35505676269531,
               4.400498317257941
              ],
              [
               101.35162353515625,
               4.428567261769
              ],
              [
               101.32759094238281,
               4.439520707701916
              ],
              [
               101.35848999023438,
               4.458004278853323
              ],
              [
               101.36192321777344,
               4.494285490770233
              ],
              [
               101.38526916503906,
               4.507291524022413
              ],
              [
               101.38046264648438,
               4.523719864867188
              ],
              [
               101.36260986328125,
               4.529880396675466
              ],
              [
               101.34956359863281,
               4.589429488063967
              ],
              [
               101.37153625488281,
               4.6133846214188114
              ]
             ],
             "type": "LineString"
            },
            "properties": {
             "name": "phgprk"
            },
            "type": "Feature"
           },
           {
            "geometry": {
             "coordinates": [
              [
               101.91364288330078,
               3.260834391354064
              ],
              [
               101.89579010009766,
               3.2670041764563704
              ],
              [
               101.88995361328125,
               3.260491624404506
              ],
              [
               101.87519073486328,
               3.2718028719872843
              ],
              [
               101.85356140136719,
               3.276258782980262
              ],
              [
               101.8157958984375,
               3.3029938314193856
              ],
              [
               101.79862976074219,
               3.333155585571099
              ],
              [
               101.78146362304688,
               3.339324921640342
              ],
              [
               101.78146362304688,
               3.3581754302839655
              ],
              [
               101.75983428955078,
               3.3732555752815196
              ],
              [
               101.76567077636719,
               3.3862791486421155
              ],
              [
               101.76189422607422,
               3.40170157471973
              ],
              [
               101.78009033203125,
               3.409584052829561
              ],
              [
               101.79141998291016,
               3.425348815074405
              ],
              [
               101.77906036376953,
               3.4507089742799417
              ],
              [
               101.76155090332031,
               3.5010845753167428
              ],
              [
               101.77665710449219,
               3.5308974326313693
              ],
              [
               101.78592681884766,
               3.5459748356027734
              ],
              [
               101.80686950683594,
               3.550772139583344
              ],
              [
               101.81373596191406,
               3.603883474871053
              ],
              [
               101.78455352783203,
               3.6354061588245528
              ],
              [
               101.76498413085938,
               3.6813176594957904
              ],
              [
               101.7388916015625,
               3.6984482116817476
              ],
              [
               101.73820495605469,
               3.7135228237994307
              ],
              [
               101.7172622680664,
               3.7087263841800255
              ],
              [
               101.69048309326172,
               3.7080411763946697
              ],
              [
               101.67743682861328,
               3.7196896364407745
              ],
              [
               101.65340423583984,
               3.726884196645965
              ],
              [
               101.62593841552734,
               3.7642264421477485
              ],
              [
               101.62559509277344,
               3.7721057944916154
              ]
             ],
             "type": "LineString"
            },
            "properties": {
             "name": "phgsgr"
            },
            "type": "Feature"
           },
           {
            "geometry": {
             "coordinates": [
              [
               102.65727996826172,
               4.760348627805425
              ],
              [
               102.66311645507812,
               4.758466863635147
              ],
              [
               102.69058227539062,
               4.711934336444672
              ],
              [
               102.77984619140625,
               4.67224236512012
              ],
              [
               102.84713745117188,
               4.677717253825141
              ],
              [
               102.88558959960938,
               4.610646932717077
              ],
              [
               102.87185668945312,
               4.564104615806482
              ],
              [
               102.84439086914062,
               4.5736871052598405
              ],
              [
               102.85125732421875,
               4.495654557841738
              ],
              [
               102.88009643554688,
               4.468272728744618
              ],
              [
               102.97622680664062,
               4.466903610394136
              ],
              [
               103.00506591796875,
               4.440889877020583
              ],
              [
               103.01193237304688,
               4.409398341384905
              ],
              [
               103.0242919921875,
               4.408029113837152
              ],
              [
               103.00369262695312,
               4.383382587405101
              ],
              [
               103.01605224609375,
               4.324501493019203
              ],
              [
               102.97897338867188,
               4.335456463573485
              ],
              [
               102.95562744140625,
               4.287527300315192
              ],
              [
               102.92953491210938,
               4.286157851321027
              ],
              [
               102.93365478515625,
               4.245073244271904
              ],
              [
               102.91305541992188,
               4.212203983099352
              ],
              [
               102.92404174804688,
               4.154679440673942
              ],
              [
               102.886962890625,
               4.136873372175124
              ],
              [
               102.92953491210938,
               4.097150702665089
              ],
              [
               103.00506591796875,
               4.12728532324537
              ],
              [
               103.07098388671875,
               4.114957661674562
              ],
              [
               103.0792236328125,
               4.091671558519782
              ],
              [
               103.12179565429688,
               4.082082966104376
              ],
              [
               103.16848754882812,
               4.032768401966701
              ],
              [
               103.20693969726562,
               4.035508178820239
              ],
              [
               103.20831298828125,
               4.01221978158204
              ],
              [
               103.23989868164062,
               4.0149596275574275
              ],
              [
               103.27835083007812,
               3.9670110008680193
              ],
              [
               103.271484375,
               3.9478307691214694
              ],
              [
               103.3099365234375,
               3.880696482497274
              ],
              [
               103.30581665039062,
               3.9190595913245962
              ],
              [
               103.32744598388672,
               3.9300201571114752
              ],
              [
               103.33328247070312,
               3.9457757179718564
              ],
              [
               103.32778930664062,
               3.9899581929138015
              ],
              [
               103.32744598388672,
               4.042357580503426
              ],
              [
               103.31748962402344,
               4.063590357558898
              ],
              [
               103.30753326416016,
               4.061878057511665
              ],
              [
               103.29826354980469,
               4.084822575634911
              ],
              [
               103.30684661865234,
               4.087562175810507
              ],
              [
               103.30684661865234,
               4.118039594979308
              ],
              [
               103.32469940185547,
               4.12420342577358
              ],
              [
               103.32401275634766,
               4.141324926889831
              ],
              [
               103.33087921142578,
               4.141324926889831
              ],
              [
               103.31989288330078,
               4.172827519928444
              ],
              [
               103.31954956054688,
               4.192344797442206
              ],
              [
               103.33637237548828,
               4.188578343168436
              ],
              [
               103.34426879882812,
               4.176594049922342
              ],
              [
               103.41842651367188,
               4.177621282237845
              ],
              [
               103.42117309570312,
               4.175566816261949
              ]
             ],
             "type": "LineString"
            },
            "properties": {
             "name": "phgtrg"
            },
            "type": "Feature"
           },
           {
            "geometry": {
             "coordinates": [
              [
               103.42117309570312,
               4.175566816261949
              ],
              [
               103.40194702148438,
               4.130024777622786
              ],
              [
               103.38546752929688,
               4.120436645965113
              ],
              [
               103.43765258789062,
               3.9615309799955254
              ],
              [
               103.40469360351562,
               3.9683810004087827
              ],
              [
               103.36624145507812,
               3.9190595913245962
              ],
              [
               103.38134765625,
               3.798483975036962
              ],
              [
               103.3428955078125,
               3.8067055810415567
              ],
              [
               103.32778930664062,
               3.7272267932840584
              ],
              [
               103.47747802734375,
               3.5093089069576826
              ],
              [
               103.41156005859375,
               3.351663477428642
              ],
              [
               103.45001220703125,
               3.198106106523846
              ],
              [
               103.43215942382812,
               2.938926463242266
              ],
              [
               103.47198486328125,
               2.825087494112747
              ],
              [
               103.63677978515625,
               2.657737790139801
              ]
             ],
             "type": "LineString"
            },
            "properties": {
             "name": "phgocn"
            },
            "type": "Feature"
           },
           {
            "geometry": {
             "coordinates": [
              [
               100.49297332763672,
               5.130269333425149
              ],
              [
               100.40800094604492,
               5.122404495007067
              ],
              [
               100.39512634277344,
               5.12684985036153
              ]
             ],
             "type": "LineString"
            },
            "properties": {
             "name": "pngprk"
            },
            "type": "Feature"
           },
           {
            "geometry": {
             "coordinates": [
              [
               100.39512634277344,
               5.12684985036153
              ],
              [
               100.426025390625,
               5.170617846603283
              ],
              [
               100.41744232177734,
               5.1771144012990025
              ],
              [
               100.42259216308594,
               5.2099380764808165
              ],
              [
               100.43014526367188,
               5.21062188485271
              ],
              [
               100.42396545410156,
               5.2160923250270645
              ],
              [
               100.41744232177734,
               5.253016546575951
              ],
              [
               100.40542602539062,
               5.266691629829084
              ],
              [
               100.41984558105469,
               5.281050143427336
              ],
              [
               100.40302276611328,
               5.324465526541803
              ],
              [
               100.40782928466797,
               5.34053186091324
              ],
              [
               100.37590026855469,
               5.366510573807866
              ],
              [
               100.36182403564453,
               5.400349605400035
              ],
              [
               100.38036346435547,
               5.444440052556253
              ],
              [
               100.37555694580078,
               5.519967320385653
              ],
              [
               100.36079406738281,
               5.56063187274727
              ],
              [
               100.33676147460938,
               5.571224699025414
              ],
              [
               100.33882141113281,
               5.578058679140624
              ]
             ],
             "type": "LineString"
            },
            "properties": {
             "name": "pngocn"
            },
            "type": "Feature"
           },
           {
            "geometry": {
             "coordinates": [
              [
               100.2560806274414,
               5.48135049935684
              ],
              [
               100.3106689453125,
               5.461186740762024
              ],
              [
               100.30723571777344,
               5.443756504342702
              ],
              [
               100.31684875488281,
               5.4307689407374555
              ],
              [
               100.34568786621094,
               5.419148251825298
              ],
              [
               100.31787872314453,
               5.38360122920073
              ],
              [
               100.31478881835938,
               5.349077611950107
              ],
              [
               100.29899597167969,
               5.311475417249036
              ],
              [
               100.29487609863281,
               5.289596719861882
              ],
              [
               100.28251647949219,
               5.271819708524299
              ],
              [
               100.28217315673828,
               5.257460981586817
              ],
              [
               100.27462005615234,
               5.257802859889371
              ],
              [
               100.26432037353516,
               5.276605877098563
              ],
              [
               100.25367736816406,
               5.281050143427336
              ],
              [
               100.24646759033203,
               5.273870928146757
              ],
              [
               100.23273468017578,
               5.287545552274799
              ],
              [
               100.22346496582031,
               5.286519965932653
              ],
              [
               100.22140502929688,
               5.278657080900396
              ],
              [
               100.21041870117188,
               5.281733873881161
              ],
              [
               100.20423889160156,
               5.278657080900396
              ],
              [
               100.19668579101562,
               5.28139200874852
              ],
              [
               100.18878936767578,
               5.280024546332537
              ],
              [
               100.1846694946289,
               5.265324135029863
              ],
              [
               100.17677307128906,
               5.282759468147595
              ],
              [
               100.1846694946289,
               5.305663963878624
              ],
              [
               100.19634246826172,
               5.308398772287265
              ],
              [
               100.18501281738281,
               5.375397774474748
              ],
              [
               100.1956558227539,
               5.42154076489493
              ],
              [
               100.18844604492188,
               5.423249696996985
              ],
              [
               100.18844604492188,
               5.429743594839544
              ],
              [
               100.17745971679688,
               5.434186747796526
              ],
              [
               100.18226623535156,
               5.463579086623941
              ],
              [
               100.1736831665039,
               5.47212310096503
              ],
              [
               100.18741607666016,
               5.477932961011244
              ],
              [
               100.18707275390625,
               5.472464859001194
              ],
              [
               100.19599914550781,
               5.472464859001194
              ],
              [
               100.20355224609375,
               5.4680219893020325
              ],
              [
               100.20252227783203,
               5.460503211618596
              ],
              [
               100.21728515625,
               5.461186740762024
              ],
              [
               100.24028778076172,
               5.465287899247416
              ],
              [
               100.2560806274414,
               5.48135049935684
              ]
             ],
             "type": "LineString"
            },
            "properties": {
             "name": "pngocn2"
            },
            "type": "Feature"
           },
           {
            "geometry": {
             "coordinates": [
              [
               101.62559509277344,
               3.7721057944916154
              ],
              [
               101.60430908203125,
               3.775188999883099
              ],
              [
               101.55830383300781,
               3.7025594950014833
              ],
              [
               101.52397155761719,
               3.686114247391014
              ],
              [
               101.47384643554688,
               3.7094115914342294
              ],
              [
               101.44432067871094,
               3.7491527000118943
              ],
              [
               101.38801574707031,
               3.7738186877268247
              ],
              [
               101.37565612792969,
               3.8005393838879877
              ],
              [
               101.32415771484375,
               3.7875217118824356
              ],
              [
               101.32621765136719,
               3.7525785733538966
              ],
              [
               101.34681701660156,
               3.7114672100088426
              ],
              [
               101.33926391601562,
               3.6915960304496886
              ],
              [
               101.27883911132812,
               3.6676129804054955
              ],
              [
               101.24588012695312,
               3.67652104576468
              ],
              [
               101.24794006347656,
               3.7176340370180236
              ],
              [
               101.21223449707031,
               3.7114672100088426
              ],
              [
               101.13739013671875,
               3.736134258997468
              ],
              [
               101.07353210449219,
               3.734078698004927
              ],
              [
               101.09001159667969,
               3.7820405282110454
              ],
              [
               101.05705261230469,
               3.7525785733538966
              ],
              [
               101.0577392578125,
               3.7971136997497155
              ],
              [
               101.03370666503906,
               3.788206857401627
              ],
              [
               101.02684020996094,
               3.803279921402881
              ],
              [
               100.98976135253906,
               3.7998542481484288
              ],
              [
               100.98152160644531,
               3.766967094534875
              ],
              [
               100.95474243164062,
               3.794373142650989
              ],
              [
               100.97740173339844,
               3.8080758410818984
              ],
              [
               100.97602844238281,
               3.8252039072906054
              ],
              [
               100.93757629394531,
               3.8320550380029967
              ],
              [
               100.94581604003906,
               3.8711054323536813
              ],
              [
               100.81535339355469,
               3.8498677208078966
              ]
             ],
             "type": "LineString"
            },
            "properties": {
             "name": "prksgr"
            },
            "type": "Feature"
           },
           {
            "geometry": {
             "coordinates": [
              [
               100.98770141601562,
               5.782699056797093
              ],
              [
               101.0302734375,
               5.737609279566581
              ],
              [
               101.0577392578125,
               5.744441293870621
              ],
              [
               101.08383178710938,
               5.719845659536203
              ],
              [
               101.13876342773438,
               5.614619118148333
              ],
              [
               101.21978759765625,
               5.673384357214508
              ],
              [
               101.26373291015625,
               5.721212111452892
              ],
              [
               101.24725341796875,
               5.759471436737133
              ],
              [
               101.27883911132812,
               5.81548936672875
              ],
              [
               101.34613037109375,
               5.810024447507327
              ],
              [
               101.39419555664062,
               5.872867803938926
              ],
              [
               101.48483276367188,
               5.872867803938926
              ],
              [
               101.50405883789062,
               5.889260560133938
              ],
              [
               101.52053833007812,
               5.901554809878024
              ],
              [
               101.5850830078125,
               5.937069997652513
              ],
              [
               101.60018920898438,
               5.912482802972586
              ],
              [
               101.6290283203125,
               5.875599963510307
              ],
              [
               101.66061401367188,
               5.870135630966354
              ],
              [
               101.65924072265625,
               5.8127569137510084
              ],
              [
               101.67434692382812,
               5.78133275256497
              ],
              [
               101.69151306152344,
               5.754689161638781
              ]
             ],
             "type": "LineString"
            },
            "properties": {
             "name": "prktha"
            },
            "type": "Feature"
           },
           {
            "geometry": {
             "coordinates": [
              [
               100.81535339355469,
               3.8498677208078966
              ],
              [
               100.7611083984375,
               3.8423316311549156
              ],
              [
               100.70205688476562,
               3.887547165937548
              ],
              [
               100.69931030273438,
               4.005370126452015
              ],
              [
               100.755615234375,
               3.9944105590203094
              ],
              [
               100.77072143554688,
               4.083452772038618
              ],
              [
               100.68283081054688,
               4.172485107214793
              ],
              [
               100.6182861328125,
               4.164267157329303
              ],
              [
               100.56747436523438,
               4.317654555961833
              ],
              [
               100.579833984375,
               4.428567261769
              ],
              [
               100.61004638671875,
               4.425828874929916
              ],
              [
               100.62103271484375,
               4.55862885008969
              ],
              [
               100.57296752929688,
               4.5736871052598405
              ],
              [
               100.59906005859375,
               4.647604837557583
              ],
              [
               100.64300537109375,
               4.666767433658992
              ],
              [
               100.5908203125,
               4.67224236512012
              ],
              [
               100.5743408203125,
               4.761203973454314
              ],
              [
               100.61416625976562,
               4.784468966579375
              ],
              [
               100.56472778320312,
               4.787205972686519
              ],
              [
               100.546875,
               4.856995911706461
              ],
              [
               100.54412841796875,
               4.877520994381813
              ],
              [
               100.513916015625,
               4.858364270018912
              ],
              [
               100.47409057617188,
               4.878889310947334
              ],
              [
               100.48233032226562,
               4.908991568317266
              ],
              [
               100.4974365234375,
               4.917201039484742
              ],
              [
               100.47271728515625,
               4.929515056440089
              ],
              [
               100.43701171875,
               4.911728069940156
              ],
              [
               100.41641235351562,
               4.999290157749913
              ],
              [
               100.382080078125,
               5.043066825264798
              ],
              [
               100.36869049072266,
               5.071109703485642
              ],
              [
               100.360107421875,
               5.090602206561457
              ],
              [
               100.36457061767578,
               5.103254918829327
              ],
              [
               100.3817367553711,
               5.10770040717759
              ],
              [
               100.39512634277344,
               5.12684985036153
              ]
             ],
             "type": "LineString"
            },
            "properties": {
             "name": "prkocn"
            },
            "type": "Feature"
           },
           {
            "geometry": {
             "coordinates": [
              [
               100.11978149414062,
               6.416295478228903
              ],
              [
               100.15823364257812,
               6.47633824336597
              ],
              [
               100.15960693359375,
               6.577303118123887
              ],
              [
               100.18295288085938,
               6.577303118123887
              ],
              [
               100.16510009765625,
               6.649603211327936
              ],
              [
               100.17745971679688,
               6.655059391963758
              ],
              [
               100.17059326171875,
               6.6973427326643975
              ],
              [
               100.20217895507812,
               6.725984205760017
              ],
              [
               100.23239135742188,
               6.6891591455092305
              ],
              [
               100.29281616210938,
               6.7096178559963855
              ],
              [
               100.32440185546875,
               6.664607562172585
              ],
              [
               100.3106689453125,
               6.6032232351609315
              ],
              [
               100.36697387695312,
               6.541831294229476
              ]
             ],
             "type": "LineString"
            },
            "properties": {
             "name": "plstha"
            },
            "type": "Feature"
           },
           {
            "geometry": {
             "coordinates": [
              [
               100.19668579101562,
               6.259332270466327
              ],
              [
               100.16853332519531,
               6.290046212074113
              ],
              [
               100.11978149414062,
               6.416295478228903
              ]
             ],
             "type": "LineString"
            },
            "properties": {
             "name": "plsocn"
            },
            "type": "Feature"
           },
           {
            "geometry": {
             "coordinates": [
              [
               115.66680908203125,
               4.110848398717305
              ],
              [
               115.6201171875,
               4.176594049922342
              ],
              [
               115.66680908203125,
               4.3162851611340916
              ],
              [
               115.576171875,
               4.362843194361932
              ],
              [
               115.54046630859375,
               4.609278084409835
              ],
              [
               115.65582275390625,
               4.773520832778673
              ],
              [
               115.6036376953125,
               4.984241251218716
              ],
              [
               115.4058837890625,
               4.965087599019953
              ]
             ],
             "type": "LineString"
            },
            "properties": {
             "name": "sbhsrw"
            },
            "type": "Feature"
           },
           {
            "geometry": {
             "coordinates": [
              [
               117.59490966796875,
               4.1711154548674365
              ],
              [
               117.45208740234375,
               4.184811870761927
              ],
              [
               117.24609375,
               4.373797607393285
              ],
              [
               117.015380859375,
               4.327240250522992
              ],
              [
               116.56219482421875,
               4.376536185637297
              ],
              [
               116.43035888671875,
               4.294374508461326
              ],
              [
               116.356201171875,
               4.384751860236625
              ],
              [
               116.15570068359375,
               4.3820133120651885
              ],
              [
               116.0760498046875,
               4.2724632265837155
              ],
              [
               115.8837890625,
               4.384751860236625
              ],
              [
               115.80963134765625,
               4.220421429014592
              ],
              [
               115.7574462890625,
               4.245073244271904
              ],
              [
               115.66680908203125,
               4.110848398717305
              ]
             ],
             "type": "LineString"
            },
            "properties": {
             "name": "sbhind"
            },
            "type": "Feature"
           },
           {
            "geometry": {
             "coordinates": [
              [
               115.4058837890625,
               4.965087599019953
              ],
              [
               115.55419921875,
               5.134714634014455
              ],
              [
               115.3509521484375,
               5.315235740232144
              ],
              [
               115.59814453125,
               5.61598581915534
              ],
              [
               115.72998046875,
               5.517575200830634
              ],
              [
               115.872802734375,
               5.5831841119897
              ],
              [
               115.8837890625,
               5.7362428668801515
              ],
              [
               116.0321044921875,
               5.818221806434406
              ],
              [
               116.103515625,
               6.151477964207555
              ],
              [
               116.6583251953125,
               6.724620364318773
              ],
              [
               116.751708984375,
               7.046379130937713
              ],
              [
               116.8121337890625,
               6.920973741554143
              ],
              [
               116.751708984375,
               6.588217016715769
              ],
              [
               116.9879150390625,
               6.68097542126577
              ],
              [
               117.059326171875,
               6.975501953620171
              ],
              [
               117.13623046875,
               7.002763681982747
              ],
              [
               117.24609375,
               6.926426847059551
              ],
              [
               117.301025390625,
               6.604587414293256
              ],
              [
               117.454833984375,
               6.56638897982234
              ],
              [
               117.5152587890625,
               6.610044093207648
              ],
              [
               117.7239990234375,
               6.435400765132349
              ],
              [
               117.7239990234375,
               6.227933930268672
              ],
              [
               117.57568359375,
               6.167862315899158
              ],
              [
               117.674560546875,
               5.894724704759804
              ],
              [
               118.0206298828125,
               6.058623804918194
              ],
              [
               118.125,
               5.8564745653004975
              ],
              [
               119.02587890625,
               5.408210928590842
              ],
              [
               119.11376953125,
               5.462895560209557
              ],
              [
               119.234619140625,
               5.386335689520536
              ],
              [
               119.267578125,
               5.194894104202499
              ],
              [
               119.0533447265625,
               5.058114374355714
              ],
              [
               118.487548828125,
               4.915832801313178
              ],
              [
               118.333740234375,
               5.019810836520873
              ],
              [
               118.125,
               4.888467448761478
              ],
              [
               118.2733154296875,
               4.642129714308486
              ],
              [
               118.7677001953125,
               4.444997369727273
              ],
              [
               118.5205078125,
               4.357365927900159
              ],
              [
               117.960205078125,
               4.220421429014592
              ],
              [
               117.61962890625,
               4.379274753863339
              ],
              [
               117.6470947265625,
               4.269724272266757
              ],
              [
               117.59490966796875,
               4.1711154548674365
              ]
             ],
             "type": "LineString"
            },
            "properties": {
             "name": "sbhocn"
            },
            "type": "Feature"
           },
           {
            "geometry": {
             "coordinates": [
              [
               114.0875244140625,
               4.587376153449703
              ],
              [
               114.246826171875,
               4.521666342614791
              ],
              [
               114.3292236328125,
               4.253290341301236
              ],
              [
               114.444580078125,
               4.269724272266757
              ],
              [
               114.620361328125,
               4.01221978158204
              ],
              [
               114.80712890625,
               4.132764222542468
              ],
              [
               114.89501953125,
               4.4066598837670155
              ],
              [
               114.8236083984375,
               4.439520707701916
              ],
              [
               114.7576904296875,
               4.729726554568915
              ],
              [
               114.9664306640625,
               4.822786053407
              ],
              [
               115.02273559570312,
               4.888467448761478
              ]
             ],
             "type": "LineString"
            },
            "properties": {
             "name": "srwbru"
            },
            "type": "Feature"
           },
           {
            "geometry": {
             "coordinates": [
              [
               115.03509521484375,
               4.8200491901285805
              ],
              [
               115.05157470703125,
               4.788574471634383
              ],
              [
               115.02685546875,
               4.748886893593447
              ],
              [
               115.09963989257812,
               4.376536185637297
              ],
              [
               115.29327392578125,
               4.335456463573485
              ],
              [
               115.323486328125,
               4.294374508461326
              ],
              [
               115.36605834960938,
               4.343672587302042
              ],
              [
               115.27816772460938,
               4.4367823614446475
              ],
              [
               115.27130126953125,
               4.572318186037985
              ],
              [
               115.28366088867188,
               4.636654548576402
              ],
              [
               115.23422241210938,
               4.761203973454314
              ],
              [
               115.23284912109375,
               4.807733169042804
              ],
              [
               115.15594482421875,
               4.874784352885875
              ],
              [
               115.15182495117188,
               4.911728069940156
              ]
             ],
             "type": "LineString"
            },
            "properties": {
             "name": "srwbru2"
            },
            "type": "Feature"
           },
           {
            "geometry": {
             "coordinates": [
              [
               115.66680908203125,
               4.110848398717305
              ],
              [
               115.6365966796875,
               3.9409805788555237
              ],
              [
               115.54595947265625,
               3.916319427417973
              ],
              [
               115.61737060546875,
               3.8697352734583754
              ],
              [
               115.5816650390625,
               3.5984011571929413
              ],
              [
               115.65032958984375,
               3.428433194748928
              ],
              [
               115.5706787109375,
               3.4421414283846428
              ],
              [
               115.5157470703125,
               3.2035907009049684
              ],
              [
               115.56793212890625,
               3.1651979259496397
              ],
              [
               115.499267578125,
               3.0225838706983703
              ],
              [
               115.3179931640625,
               2.964984369333955
              ],
              [
               115.29327392578125,
               3.033554859424751
              ],
              [
               115.23284912109375,
               2.9540126939036693
              ],
              [
               115.15869140625,
               2.9402979471996913
              ],
              [
               115.0872802734375,
               2.833317196855306
              ],
              [
               115.1531982421875,
               2.7976547312991262
              ],
              [
               115.09002685546875,
               2.70712209411511
              ],
              [
               115.08453369140625,
               2.5836576407312384
              ],
              [
               115.24932861328125,
               2.5370123584000144
              ],
              [
               115.20263671875,
               2.4821334037305633
              ],
              [
               115.09002685546875,
               2.4354844986819995
              ],
              [
               114.9884033203125,
               2.3476704372328667
              ],
              [
               114.95819091796875,
               2.3723687086440632
              ],
              [
               114.9554443359375,
               2.303761324344858
              ],
              [
               114.90325927734375,
               2.2543619554345344
              ],
              [
               114.80712890625,
               2.273573022378629
              ],
              [
               114.77691650390625,
               2.111643378566517
              ],
              [
               114.8016357421875,
               2.018320242987037
              ],
              [
               114.88128662109375,
               2.037534275777126
              ],
              [
               114.8455810546875,
               1.9332268264771233
              ],
              [
               114.884033203125,
               1.916756634399981
              ],
              [
               114.78515625,
               1.8591097232781972
              ],
              [
               114.71649169921875,
               1.8563645848502908
              ],
              [
               114.6917724609375,
               1.8124417945380265
              ],
              [
               114.7137451171875,
               1.7108663042007148
              ],
              [
               114.620361328125,
               1.5735936415541505
              ],
              [
               114.56268310546875,
               1.4335662226731178
              ],
              [
               114.39239501953125,
               1.5131907609694377
              ],
              [
               114.20562744140625,
               1.4061088354351594
              ],
              [
               114.15618896484375,
               1.4610232806227414
              ],
              [
               113.80462646484375,
               1.370413750103144
              ],
              [
               113.82110595703125,
               1.2962761196418089
              ],
              [
               113.60687255859375,
               1.208406497271858
              ],
              [
               113.565673828125,
               1.29902199728267
              ],
              [
               113.4228515625,
               1.2852925793638672
              ],
              [
               113.33770751953125,
               1.370413750103144
              ],
              [
               113.148193359375,
               1.3841426927920155
              ],
              [
               113.11248779296875,
               1.4335662226731178
              ],
              [
               112.9559326171875,
               1.4088545887973347
              ],
              [
               113.07952880859375,
               1.5433924157292807
              ],
              [
               112.884521484375,
               1.587321327409907
              ],
              [
               112.83233642578125,
               1.5433924157292807
              ],
              [
               112.48077392578125,
               1.5845757975049797
              ],
              [
               112.2088623046875,
               1.436311943390029
              ],
              [
               112.15118408203125,
               1.1315182387740395
              ],
              [
               111.92596435546875,
               1.1122958503051603
              ],
              [
               111.83258056640625,
               0.9914666286542503
              ],
              [
               111.6595458984375,
               1.0299127940481296
              ],
              [
               111.533203125,
               0.9557662177941483
              ],
              [
               111.4837646484375,
               1.0354050659349443
              ],
              [
               111.214599609375,
               1.07934289424622
              ],
              [
               110.90423583984375,
               1.0189282219308977
              ],
              [
               110.81634521484375,
               0.9337965488500171
              ],
              [
               110.7147216796875,
               0.9035880305130932
              ],
              [
               110.58013916015625,
               0.8623941932270406
              ],
              [
               110.42633056640625,
               0.917319206857084
              ],
              [
               110.390625,
               0.9942127983364538
              ],
              [
               110.28076171875,
               0.9969589657344593
              ],
              [
               110.19012451171875,
               1.186438639445215
              ],
              [
               110.06927490234375,
               1.208406497271858
              ],
              [
               110.06378173828125,
               1.257833522873487
              ],
              [
               109.98138427734375,
               1.29902199728267
              ],
              [
               109.95391845703125,
               1.4006173190275337
              ],
              [
               109.84130859375,
               1.4280747713669428
              ],
              [
               109.84405517578125,
               1.4829886856602814
              ],
              [
               109.8028564453125,
               1.4720060101903478
              ],
              [
               109.6600341796875,
               1.6202674001017445
              ],
              [
               109.68475341796875,
               1.7822442565660426
              ],
              [
               109.57763671875,
               1.8014609294680228
              ],
              [
               109.5281982421875,
               1.9222467160981036
              ],
              [
               109.54742431640625,
               1.9689116926042782
              ],
              [
               109.61883544921875,
               1.9826364384297377
              ],
              [
               109.6435546875,
               2.054003264372146
              ]
             ],
             "type": "LineString"
            },
            "properties": {
             "name": "srwind"
            },
            "type": "Feature"
           },
           {
            "geometry": {
             "coordinates": [
              [
               109.6435546875,
               2.054003264372146
              ],
              [
               109.6600341796875,
               1.9277367801405985
              ],
              [
               109.9676513671875,
               1.6751763250632035
              ],
              [
               110.4840087890625,
               1.7245930431979002
              ],
              [
               110.489501953125,
               1.5928123762763127
              ],
              [
               110.7586669921875,
               1.526918838498519
              ],
              [
               110.80810546875,
               1.6037944300589853
              ],
              [
               111.0003662109375,
               1.5049538726942067
              ],
              [
               111.016845703125,
               1.6587038068676119
              ],
              [
               111.148681640625,
               1.7136116598836222
              ],
              [
               111.0992431640625,
               1.7794990011582255
              ],
              [
               111.1981201171875,
               2.097919733594924
              ],
              [
               111.1981201171875,
               2.3888339781603767
              ],
              [
               111.2750244140625,
               2.4217639236659676
              ],
              [
               111.29150390625,
               2.778451415046852
              ],
              [
               111.3629150390625,
               2.761991180991834
              ],
              [
               111.4013671875,
               2.635788574166606
              ],
              [
               111.6595458984375,
               2.8223442468940902
              ],
              [
               112.1429443359375,
               2.9375549775994263
              ],
              [
               112.9833984375,
               3.1405161039832485
              ],
              [
               113.455810546875,
               3.7601154473968887
              ],
              [
               113.807373046875,
               4.12180638614224
              ],
              [
               113.97216796875,
               4.324501493019203
              ],
              [
               113.9666748046875,
               4.587376153449703
              ],
              [
               114.0875244140625,
               4.587376153449703
              ]
             ],
             "type": "LineString"
            },
            "properties": {
             "name": "srwocn"
            },
            "type": "Feature"
           },
           {
            "geometry": {
             "coordinates": [
              [
               115.02273559570312,
               4.888467448761478
              ],
              [
               115.03509521484375,
               4.8200491901285805
              ]
             ],
             "type": "LineString"
            },
            "properties": {
             "name": "srwocn2"
            },
            "type": "Feature"
           },
           {
            "geometry": {
             "coordinates": [
              [
               115.15182495117188,
               4.911728069940156
              ],
              [
               115.12710571289062,
               4.922673964053053
              ],
              [
               115.17654418945312,
               4.941828845138605
              ],
              [
               115.1751708984375,
               4.9691919999638765
              ],
              [
               115.23696899414062,
               4.97603261138461
              ],
              [
               115.24383544921875,
               4.9267786279338255
              ],
              [
               115.3289794921875,
               4.910359820532277
              ],
              [
               115.37704467773438,
               4.9267786279338255
              ],
              [
               115.4058837890625,
               4.965087599019953
              ]
             ],
             "type": "LineString"
            },
            "properties": {
             "name": "srwocn3"
            },
            "type": "Feature"
           },
           {
            "geometry": {
             "coordinates": [
              [
               101.71365737915039,
               2.5944612679982164
              ],
              [
               101.69082641601562,
               2.593946811647018
              ],
              [
               101.67915344238281,
               2.612467108127345
              ],
              [
               101.47659301757812,
               2.6934044322117434
              ],
              [
               101.40449523925781,
               2.80519880532456
              ],
              [
               101.29051208496094,
               2.83674622240826
              ],
              [
               101.282958984375,
               2.8785795116783914
              ],
              [
               101.26853942871094,
               2.892980781617026
              ],
              [
               101.32072448730469,
               2.97184161124346
              ],
              [
               101.36054992675781,
               2.9992701518463143
              ],
              [
               101.35780334472656,
               3.0740094150971933
              ],
              [
               101.31797790527344,
               3.1158336986312736
              ],
              [
               101.304931640625,
               3.2262143415628146
              ],
              [
               101.29531860351562,
               3.257063948486102
              ],
              [
               101.26235961914062,
               3.3119053545330193
              ],
              [
               101.22734069824219,
               3.3358975174935677
              ],
              [
               101.18614196777344,
               3.351663477428642
              ],
              [
               101.16897583007812,
               3.3934763114477224
              ],
              [
               101.12983703613281,
               3.4469392635919016
              ],
              [
               101.0906982421875,
               3.5024553022772564
              ],
              [
               101.05430603027344,
               3.5990864487078116
              ],
              [
               100.98014831542969,
               3.6703539330584847
              ],
              [
               100.92864990234375,
               3.6888551431470478
              ],
              [
               100.89500427246094,
               3.751893399759923
              ],
              [
               100.86273193359375,
               3.7717632154393685
              ],
              [
               100.81947326660156,
               3.7786147708110622
              ],
              [
               100.80642700195312,
               3.805335318820754
              ],
              [
               100.81535339355469,
               3.8498677208078966
              ]
             ],
             "type": "LineString"
            },
            "properties": {
             "name": "sgrocn"
            },
            "type": "Feature"
           },
           {
            "geometry": {
             "coordinates": [
              [
               102.53565788269043,
               5.845887009566105
              ],
              [
               102.56355285644531,
               5.830517620702843
              ],
              [
               102.601318359375,
               5.806608846056875
              ],
              [
               102.62809753417969,
               5.782015905093423
              ],
              [
               102.68028259277344,
               5.708913926756642
              ],
              [
               102.75306701660156,
               5.651518917890183
              ],
              [
               102.83477783203125,
               5.585917657852072
              ],
              [
               102.91717529296875,
               5.53466155717992
              ],
              [
               102.94807434082031,
               5.536028444378849
              ],
              [
               102.98103332519531,
               5.518258664545268
              ],
              [
               103.09982299804688,
               5.408210928590842
              ],
              [
               103.13621520996094,
               5.352154053118358
              ],
              [
               103.11286926269531,
               5.327542091197393
              ],
              [
               103.1451416015625,
               5.34053186091324
              ],
              [
               103.19046020507812,
               5.26874286638652
              ],
              [
               103.17878723144531,
               5.261221632588126
              ],
              [
               103.21861267089844,
               5.199680861659616
              ],
              [
               103.32435607910156,
               4.988687554982818
              ],
              [
               103.4256362915039,
               4.8128648715884115
              ],
              [
               103.42288970947266,
               4.809101626836567
              ],
              [
               103.44074249267578,
               4.78173194952882
              ],
              [
               103.4194564819336,
               4.786521722186024
              ],
              [
               103.39027404785156,
               4.776257882622261
              ],
              [
               103.42391967773438,
               4.778652792273864
              ],
              [
               103.42048645019531,
               4.764625345412502
              ],
              [
               103.44589233398438,
               4.70748621068869
              ],
              [
               103.44898223876953,
               4.688666902768201
              ],
              [
               103.44623565673828,
               4.676690715452053
              ],
              [
               103.45035552978516,
               4.655133062567141
              ],
              [
               103.43936920166016,
               4.659581521313726
              ],
              [
               103.43181610107422,
               4.654106491169273
              ],
              [
               103.436279296875,
               4.64281410703892
              ],
              [
               103.46820831298828,
               4.562735678291754
              ],
              [
               103.47644805908203,
               4.526457885478493
              ],
              [
               103.4688949584961,
               4.5161902548267125
              ],
              [
               103.4527587890625,
               4.515505740945439
              ],
              [
               103.44417572021484,
               4.471695513434129
              ],
              [
               103.45619201660156,
               4.433701709767374
              ],
              [
               103.45447540283203,
               4.392967444506265
              ],
              [
               103.49361419677734,
               4.324159147635031
              ],
              [
               103.48365783691406,
               4.290608551578638
              ],
              [
               103.4747314453125,
               4.286157851321027
              ],
              [
               103.4743881225586,
               4.257056481493171
              ],
              [
               103.46202850341797,
               4.257398856960772
              ],
              [
               103.4585952758789,
               4.237540828481109
              ],
              [
               103.45344543457031,
               4.23651367518552
              ],
              [
               103.44589233398438,
               4.243703719591427
              ],
              [
               103.43971252441406,
               4.212203983099352
              ],
              [
               103.44657897949219,
               4.182072606722745
              ],
              [
               103.44005584716797,
               4.1718002813396415
              ],
              [
               103.43524932861328,
               4.176594049922342
              ],
              [
               103.42117309570312,
               4.175566816261949
              ]
             ],
             "type": "LineString"
            },
            "properties": {
             "name": "trgocn"
            },
            "type": "Feature"
           }
          ],
          "type": "FeatureCollection"
         },
         "locations": [
          "Kuala Lumpur",
          "Petaling Jaya",
          "Selangor",
          "Penang",
          "Bayan Lepas",
          "Malaysia",
          "Cyberjaya",
          "Shah Alam/Subang",
          "George Town",
          "Singapore"
         ],
         "marker": {
          "line": {
           "color": "white",
           "width": 0.5
          }
         },
         "type": "choropleth",
         "z": [
          1443,
          322,
          263,
          160,
          120,
          115,
          99,
          86,
          82,
          72
         ]
        }
       ],
       "layout": {
        "autosize": true,
        "geo": {
         "center": {
          "lat": 2.498556334429238,
          "lon": 109.39545501327005
         },
         "projection": {
          "rotation": {
           "lon": 109.39545501327005
          },
          "scale": 11.313708498984752
         }
        },
        "template": {
         "data": {
          "bar": [
           {
            "error_x": {
             "color": "#2a3f5f"
            },
            "error_y": {
             "color": "#2a3f5f"
            },
            "marker": {
             "line": {
              "color": "#E5ECF6",
              "width": 0.5
             },
             "pattern": {
              "fillmode": "overlay",
              "size": 10,
              "solidity": 0.2
             }
            },
            "type": "bar"
           }
          ],
          "barpolar": [
           {
            "marker": {
             "line": {
              "color": "#E5ECF6",
              "width": 0.5
             },
             "pattern": {
              "fillmode": "overlay",
              "size": 10,
              "solidity": 0.2
             }
            },
            "type": "barpolar"
           }
          ],
          "carpet": [
           {
            "aaxis": {
             "endlinecolor": "#2a3f5f",
             "gridcolor": "white",
             "linecolor": "white",
             "minorgridcolor": "white",
             "startlinecolor": "#2a3f5f"
            },
            "baxis": {
             "endlinecolor": "#2a3f5f",
             "gridcolor": "white",
             "linecolor": "white",
             "minorgridcolor": "white",
             "startlinecolor": "#2a3f5f"
            },
            "type": "carpet"
           }
          ],
          "choropleth": [
           {
            "colorbar": {
             "outlinewidth": 0,
             "ticks": ""
            },
            "type": "choropleth"
           }
          ],
          "contour": [
           {
            "colorbar": {
             "outlinewidth": 0,
             "ticks": ""
            },
            "colorscale": [
             [
              0,
              "#0d0887"
             ],
             [
              0.1111111111111111,
              "#46039f"
             ],
             [
              0.2222222222222222,
              "#7201a8"
             ],
             [
              0.3333333333333333,
              "#9c179e"
             ],
             [
              0.4444444444444444,
              "#bd3786"
             ],
             [
              0.5555555555555556,
              "#d8576b"
             ],
             [
              0.6666666666666666,
              "#ed7953"
             ],
             [
              0.7777777777777778,
              "#fb9f3a"
             ],
             [
              0.8888888888888888,
              "#fdca26"
             ],
             [
              1,
              "#f0f921"
             ]
            ],
            "type": "contour"
           }
          ],
          "contourcarpet": [
           {
            "colorbar": {
             "outlinewidth": 0,
             "ticks": ""
            },
            "type": "contourcarpet"
           }
          ],
          "heatmap": [
           {
            "colorbar": {
             "outlinewidth": 0,
             "ticks": ""
            },
            "colorscale": [
             [
              0,
              "#0d0887"
             ],
             [
              0.1111111111111111,
              "#46039f"
             ],
             [
              0.2222222222222222,
              "#7201a8"
             ],
             [
              0.3333333333333333,
              "#9c179e"
             ],
             [
              0.4444444444444444,
              "#bd3786"
             ],
             [
              0.5555555555555556,
              "#d8576b"
             ],
             [
              0.6666666666666666,
              "#ed7953"
             ],
             [
              0.7777777777777778,
              "#fb9f3a"
             ],
             [
              0.8888888888888888,
              "#fdca26"
             ],
             [
              1,
              "#f0f921"
             ]
            ],
            "type": "heatmap"
           }
          ],
          "heatmapgl": [
           {
            "colorbar": {
             "outlinewidth": 0,
             "ticks": ""
            },
            "colorscale": [
             [
              0,
              "#0d0887"
             ],
             [
              0.1111111111111111,
              "#46039f"
             ],
             [
              0.2222222222222222,
              "#7201a8"
             ],
             [
              0.3333333333333333,
              "#9c179e"
             ],
             [
              0.4444444444444444,
              "#bd3786"
             ],
             [
              0.5555555555555556,
              "#d8576b"
             ],
             [
              0.6666666666666666,
              "#ed7953"
             ],
             [
              0.7777777777777778,
              "#fb9f3a"
             ],
             [
              0.8888888888888888,
              "#fdca26"
             ],
             [
              1,
              "#f0f921"
             ]
            ],
            "type": "heatmapgl"
           }
          ],
          "histogram": [
           {
            "marker": {
             "pattern": {
              "fillmode": "overlay",
              "size": 10,
              "solidity": 0.2
             }
            },
            "type": "histogram"
           }
          ],
          "histogram2d": [
           {
            "colorbar": {
             "outlinewidth": 0,
             "ticks": ""
            },
            "colorscale": [
             [
              0,
              "#0d0887"
             ],
             [
              0.1111111111111111,
              "#46039f"
             ],
             [
              0.2222222222222222,
              "#7201a8"
             ],
             [
              0.3333333333333333,
              "#9c179e"
             ],
             [
              0.4444444444444444,
              "#bd3786"
             ],
             [
              0.5555555555555556,
              "#d8576b"
             ],
             [
              0.6666666666666666,
              "#ed7953"
             ],
             [
              0.7777777777777778,
              "#fb9f3a"
             ],
             [
              0.8888888888888888,
              "#fdca26"
             ],
             [
              1,
              "#f0f921"
             ]
            ],
            "type": "histogram2d"
           }
          ],
          "histogram2dcontour": [
           {
            "colorbar": {
             "outlinewidth": 0,
             "ticks": ""
            },
            "colorscale": [
             [
              0,
              "#0d0887"
             ],
             [
              0.1111111111111111,
              "#46039f"
             ],
             [
              0.2222222222222222,
              "#7201a8"
             ],
             [
              0.3333333333333333,
              "#9c179e"
             ],
             [
              0.4444444444444444,
              "#bd3786"
             ],
             [
              0.5555555555555556,
              "#d8576b"
             ],
             [
              0.6666666666666666,
              "#ed7953"
             ],
             [
              0.7777777777777778,
              "#fb9f3a"
             ],
             [
              0.8888888888888888,
              "#fdca26"
             ],
             [
              1,
              "#f0f921"
             ]
            ],
            "type": "histogram2dcontour"
           }
          ],
          "mesh3d": [
           {
            "colorbar": {
             "outlinewidth": 0,
             "ticks": ""
            },
            "type": "mesh3d"
           }
          ],
          "parcoords": [
           {
            "line": {
             "colorbar": {
              "outlinewidth": 0,
              "ticks": ""
             }
            },
            "type": "parcoords"
           }
          ],
          "pie": [
           {
            "automargin": true,
            "type": "pie"
           }
          ],
          "scatter": [
           {
            "fillpattern": {
             "fillmode": "overlay",
             "size": 10,
             "solidity": 0.2
            },
            "type": "scatter"
           }
          ],
          "scatter3d": [
           {
            "line": {
             "colorbar": {
              "outlinewidth": 0,
              "ticks": ""
             }
            },
            "marker": {
             "colorbar": {
              "outlinewidth": 0,
              "ticks": ""
             }
            },
            "type": "scatter3d"
           }
          ],
          "scattercarpet": [
           {
            "marker": {
             "colorbar": {
              "outlinewidth": 0,
              "ticks": ""
             }
            },
            "type": "scattercarpet"
           }
          ],
          "scattergeo": [
           {
            "marker": {
             "colorbar": {
              "outlinewidth": 0,
              "ticks": ""
             }
            },
            "type": "scattergeo"
           }
          ],
          "scattergl": [
           {
            "marker": {
             "colorbar": {
              "outlinewidth": 0,
              "ticks": ""
             }
            },
            "type": "scattergl"
           }
          ],
          "scattermapbox": [
           {
            "marker": {
             "colorbar": {
              "outlinewidth": 0,
              "ticks": ""
             }
            },
            "type": "scattermapbox"
           }
          ],
          "scatterpolar": [
           {
            "marker": {
             "colorbar": {
              "outlinewidth": 0,
              "ticks": ""
             }
            },
            "type": "scatterpolar"
           }
          ],
          "scatterpolargl": [
           {
            "marker": {
             "colorbar": {
              "outlinewidth": 0,
              "ticks": ""
             }
            },
            "type": "scatterpolargl"
           }
          ],
          "scatterternary": [
           {
            "marker": {
             "colorbar": {
              "outlinewidth": 0,
              "ticks": ""
             }
            },
            "type": "scatterternary"
           }
          ],
          "surface": [
           {
            "colorbar": {
             "outlinewidth": 0,
             "ticks": ""
            },
            "colorscale": [
             [
              0,
              "#0d0887"
             ],
             [
              0.1111111111111111,
              "#46039f"
             ],
             [
              0.2222222222222222,
              "#7201a8"
             ],
             [
              0.3333333333333333,
              "#9c179e"
             ],
             [
              0.4444444444444444,
              "#bd3786"
             ],
             [
              0.5555555555555556,
              "#d8576b"
             ],
             [
              0.6666666666666666,
              "#ed7953"
             ],
             [
              0.7777777777777778,
              "#fb9f3a"
             ],
             [
              0.8888888888888888,
              "#fdca26"
             ],
             [
              1,
              "#f0f921"
             ]
            ],
            "type": "surface"
           }
          ],
          "table": [
           {
            "cells": {
             "fill": {
              "color": "#EBF0F8"
             },
             "line": {
              "color": "white"
             }
            },
            "header": {
             "fill": {
              "color": "#C8D4E3"
             },
             "line": {
              "color": "white"
             }
            },
            "type": "table"
           }
          ]
         },
         "layout": {
          "annotationdefaults": {
           "arrowcolor": "#2a3f5f",
           "arrowhead": 0,
           "arrowwidth": 1
          },
          "autotypenumbers": "strict",
          "coloraxis": {
           "colorbar": {
            "outlinewidth": 0,
            "ticks": ""
           }
          },
          "colorscale": {
           "diverging": [
            [
             0,
             "#8e0152"
            ],
            [
             0.1,
             "#c51b7d"
            ],
            [
             0.2,
             "#de77ae"
            ],
            [
             0.3,
             "#f1b6da"
            ],
            [
             0.4,
             "#fde0ef"
            ],
            [
             0.5,
             "#f7f7f7"
            ],
            [
             0.6,
             "#e6f5d0"
            ],
            [
             0.7,
             "#b8e186"
            ],
            [
             0.8,
             "#7fbc41"
            ],
            [
             0.9,
             "#4d9221"
            ],
            [
             1,
             "#276419"
            ]
           ],
           "sequential": [
            [
             0,
             "#0d0887"
            ],
            [
             0.1111111111111111,
             "#46039f"
            ],
            [
             0.2222222222222222,
             "#7201a8"
            ],
            [
             0.3333333333333333,
             "#9c179e"
            ],
            [
             0.4444444444444444,
             "#bd3786"
            ],
            [
             0.5555555555555556,
             "#d8576b"
            ],
            [
             0.6666666666666666,
             "#ed7953"
            ],
            [
             0.7777777777777778,
             "#fb9f3a"
            ],
            [
             0.8888888888888888,
             "#fdca26"
            ],
            [
             1,
             "#f0f921"
            ]
           ],
           "sequentialminus": [
            [
             0,
             "#0d0887"
            ],
            [
             0.1111111111111111,
             "#46039f"
            ],
            [
             0.2222222222222222,
             "#7201a8"
            ],
            [
             0.3333333333333333,
             "#9c179e"
            ],
            [
             0.4444444444444444,
             "#bd3786"
            ],
            [
             0.5555555555555556,
             "#d8576b"
            ],
            [
             0.6666666666666666,
             "#ed7953"
            ],
            [
             0.7777777777777778,
             "#fb9f3a"
            ],
            [
             0.8888888888888888,
             "#fdca26"
            ],
            [
             1,
             "#f0f921"
            ]
           ]
          },
          "colorway": [
           "#636efa",
           "#EF553B",
           "#00cc96",
           "#ab63fa",
           "#FFA15A",
           "#19d3f3",
           "#FF6692",
           "#B6E880",
           "#FF97FF",
           "#FECB52"
          ],
          "font": {
           "color": "#2a3f5f"
          },
          "geo": {
           "bgcolor": "white",
           "lakecolor": "white",
           "landcolor": "#E5ECF6",
           "showlakes": true,
           "showland": true,
           "subunitcolor": "white"
          },
          "hoverlabel": {
           "align": "left"
          },
          "hovermode": "closest",
          "mapbox": {
           "style": "light"
          },
          "paper_bgcolor": "white",
          "plot_bgcolor": "#E5ECF6",
          "polar": {
           "angularaxis": {
            "gridcolor": "white",
            "linecolor": "white",
            "ticks": ""
           },
           "bgcolor": "#E5ECF6",
           "radialaxis": {
            "gridcolor": "white",
            "linecolor": "white",
            "ticks": ""
           }
          },
          "scene": {
           "xaxis": {
            "backgroundcolor": "#E5ECF6",
            "gridcolor": "white",
            "gridwidth": 2,
            "linecolor": "white",
            "showbackground": true,
            "ticks": "",
            "zerolinecolor": "white"
           },
           "yaxis": {
            "backgroundcolor": "#E5ECF6",
            "gridcolor": "white",
            "gridwidth": 2,
            "linecolor": "white",
            "showbackground": true,
            "ticks": "",
            "zerolinecolor": "white"
           },
           "zaxis": {
            "backgroundcolor": "#E5ECF6",
            "gridcolor": "white",
            "gridwidth": 2,
            "linecolor": "white",
            "showbackground": true,
            "ticks": "",
            "zerolinecolor": "white"
           }
          },
          "shapedefaults": {
           "line": {
            "color": "#2a3f5f"
           }
          },
          "ternary": {
           "aaxis": {
            "gridcolor": "white",
            "linecolor": "white",
            "ticks": ""
           },
           "baxis": {
            "gridcolor": "white",
            "linecolor": "white",
            "ticks": ""
           },
           "bgcolor": "#E5ECF6",
           "caxis": {
            "gridcolor": "white",
            "linecolor": "white",
            "ticks": ""
           }
          },
          "title": {
           "x": 0.05
          },
          "xaxis": {
           "automargin": true,
           "gridcolor": "white",
           "linecolor": "white",
           "ticks": "",
           "title": {
            "standoff": 15
           },
           "zerolinecolor": "white",
           "zerolinewidth": 2
          },
          "yaxis": {
           "automargin": true,
           "gridcolor": "white",
           "linecolor": "white",
           "ticks": "",
           "title": {
            "standoff": 15
           },
           "zerolinecolor": "white",
           "zerolinewidth": 2
          }
         }
        },
        "title": {
         "font": {
          "size": 20
         },
         "text": "Job postings by location",
         "x": 0.5
        }
       }
      },
      "image/png": "[encoded data removed]",
      "text/html": [
       "<div>                            <div id=\"d28afe1c-69df-4f01-9eeb-b1da76774c18\" class=\"plotly-graph-div\" style=\"height:525px; width:100%;\"></div>            <script type=\"text/javascript\">                require([\"plotly\"], function(Plotly) {                    window.PLOTLYENV=window.PLOTLYENV || {};                                    if (document.getElementById(\"d28afe1c-69df-4f01-9eeb-b1da76774c18\")) {                    Plotly.newPlot(                        \"d28afe1c-69df-4f01-9eeb-b1da76774c18\",                        [{\"colorscale\":[[0.0,\"rgb(247,251,255)\"],[0.125,\"rgb(222,235,247)\"],[0.25,\"rgb(198,219,239)\"],[0.375,\"rgb(158,202,225)\"],[0.5,\"rgb(107,174,214)\"],[0.625,\"rgb(66,146,198)\"],[0.75,\"rgb(33,113,181)\"],[0.875,\"rgb(8,81,156)\"],[1.0,\"rgb(8,48,107)\"]],\"geojson\":{\"type\":\"FeatureCollection\",\"features\":[{\"type\":\"Feature\",\"properties\":{\"name\":\"kulsgr\"},\"geometry\":{\"type\":\"LineString\",\"coordinates\":[[101.63829803466797,3.228099622270834],[101.66559219360352,3.2440386736749045],[101.67280197143555,3.228271011252635],[101.70215606689453,3.222957939377732],[101.70215606689453,3.217644839759283],[101.71812057495117,3.2152453663338125],[101.72927856445312,3.233412667253816],[101.7418098449707,3.2328985028260124],[101.73906326293945,3.2161023217768543],[101.7527961730957,3.2070185574740693],[101.75863265991211,3.189879159964138],[101.74901962280273,3.174624855808573],[101.73408508300781,3.1773672192622633],[101.73563003540039,3.163141129845951],[101.74941156059504,3.161323017783088],[101.73535963520408,3.1355606207863715],[101.73657341860235,3.1154800866856993],[101.75291419553105,3.1057617430166857],[101.74597838282352,3.0844470466202276],[101.74903360879398,3.0731038801514288],[101.74944542282901,3.055261687055664],[101.73085440907016,3.055082802391932],[101.73091444723468,3.036051568491476],[101.71403582068706,3.0529344822283977],[101.70774227462516,3.046805346866537],[101.66906159656492,3.0403123763935596],[101.66783153280335,3.0454654371840677],[101.65923424689424,3.048556213795579],[101.65974567675971,3.058414039251303],[101.6486717408136,3.057171921219023],[101.64738250335381,3.0713572449281132],[101.66145162773319,3.0819875295194614],[101.65808429243043,3.1102027804567154],[101.66199262719601,3.1152099605572423],[101.66156955063343,3.1313948498650235],[101.65239706635475,3.134957524909792],[101.64435178041458,3.127342049555645],[101.62242472171783,3.142278345474377],[101.6149628162384,3.1532963045356297],[101.61617517471313,3.1612771548524345],[101.61997318267822,3.1978061669221565],[101.63065910339355,3.2084753930370744],[101.63829803466797,3.228099622270834]]}},{\"type\":\"Feature\",\"properties\":{\"name\":\"lbnocn\"},\"geometry\":{\"type\":\"LineString\",\"coordinates\":[[115.24314880371094,5.3897537476160675],[115.19645690917969,5.3425828520359735],[115.15594482421875,5.252332784529486],[115.16555786132812,5.246862661161304],[115.213623046875,5.281733873881161],[115.2410888671875,5.241392489834262],[115.24658203125,5.258486615931319],[115.235595703125,5.286519965932653],[115.25413513183594,5.271477837928368],[115.26924133300781,5.2892548590694135],[115.2410888671875,5.354888654498652],[115.25550842285156,5.382917612198881],[115.24314880371094,5.3897537476160675]]}},{\"type\":\"Feature\",\"properties\":{\"name\":\"pjysgr\"},\"geometry\":{\"type\":\"LineString\",\"coordinates\":[[101.67932510375977,2.971155888968156],[101.68001174926758,2.9598414100008528],[101.6891098022461,2.9600128423634096],[101.68876647949219,2.9723559026703414],[101.69631958007812,2.976470225452936],[101.70267105102539,2.9754416461966215],[101.69992446899414,2.97184161124346],[101.70095443725586,2.9598414100008528],[101.71623229980469,2.963955779378853],[101.71503067016602,2.9555555923214163],[101.73271179199219,2.955384159269811],[101.73271179199219,2.9294974654518797],[101.70747756958008,2.9294974654518797],[101.70696258544922,2.913210827834396],[101.700439453125,2.912867948716191],[101.69717788696289,2.907381868633793],[101.70164108276367,2.9048102594084666],[101.69717788696289,2.8945237639914425],[101.68842315673828,2.8921235682793824],[101.68447494506836,2.881836957744866],[101.67451858520508,2.8770365076591684],[101.67194366455078,2.8830370671040653],[101.66610717773438,2.879608179863816],[101.65975570678711,2.899667023392755],[101.66404724121094,2.9082390704065197],[101.66988372802734,2.9099534719972175],[101.66954040527344,2.9145823432629014],[101.67228698730469,2.9156109787374023],[101.6733169555664,2.9222970863809343],[101.66988372802734,2.9301832134263326],[101.67074203491211,2.9461267351976],[101.67451858520508,2.9456124316009245],[101.67503356933594,2.95058402307864],[101.6645622253418,2.9581270849168333],[101.66267395019531,2.9642986428034637],[101.67142868041992,2.970470166266874],[101.67932510375977,2.971155888968156]]}},{\"type\":\"Feature\",\"properties\":{\"name\":\"jhrmlk\"},\"geometry\":{\"type\":\"LineString\",\"coordinates\":[[102.48836517333984,2.0991205573484972],[102.48716354370117,2.1064970258632014],[102.49231338500977,2.1058108442172174],[102.49300003051758,2.1095848395281505],[102.4888801574707,2.1118149233633234],[102.49094009399414,2.120563682853088],[102.50089645385742,2.11867669968903],[102.50673294067383,2.1210783142257963],[102.51239776611328,2.12142140171252],[102.5185775756836,2.117990523422878],[102.5273323059082,2.1198775074231926],[102.53625869750977,2.1317139908717353],[102.53694534301758,2.140805720726168],[102.53093719482422,2.1624198049638776],[102.52578735351562,2.16705135449344],[102.50587463378906,2.166708277235978],[102.50261306762695,2.1745990344689017],[102.49351501464844,2.177000561095276],[102.4917984008789,2.1847197278854726],[102.48493194580078,2.1783728603069172],[102.47428894042969,2.1850628010452606],[102.47840881347656,2.1881504559547436],[102.47583389282227,2.193468068946094],[102.47343063354492,2.198442593019408],[102.46759414672852,2.198442593019408],[102.47137069702148,2.206504717497662],[102.4808120727539,2.209935395517114],[102.49351501464844,2.2190266538990717],[102.49643325805664,2.225030284464669],[102.4966049194336,2.2370374722042587],[102.4911117553711,2.2572779373298157],[102.50226974487305,2.2929553575302255],[102.50638961791992,2.296557355554522],[102.5075912475586,2.313195037878316],[102.51153945922852,2.3200558810538583],[102.51531600952148,2.3298325250453864],[102.50844955444336,2.3399521376866654],[102.513427734375,2.3564177918474436],[102.5163459777832,2.3552171777965807],[102.52492904663086,2.358990532755333],[102.52424240112305,2.364307515544989],[102.53522872924805,2.370310536143148],[102.53471374511719,2.3744268780819513],[102.5383186340332,2.376828071884677],[102.5350570678711,2.381630446955156],[102.53917694091797,2.3898630509652556],[102.55891799926758,2.3965520053797253],[102.56303787231445,2.395351426222079],[102.59565353393555,2.4102728351330227]]}},{\"type\":\"Feature\",\"properties\":{\"name\":\"jhrnsn\"},\"geometry\":{\"type\":\"LineString\",\"coordinates\":[[102.59565353393555,2.4102728351330227],[102.59565353393555,2.4133600027954976],[102.59737014770508,2.4171331981948923],[102.59119033813477,2.4209063831053776],[102.59496688842773,2.4553790840206338],[102.59891510009766,2.459666671454636],[102.61505126953125,2.46858480914218],[102.61436462402344,2.4853919057910248],[102.60526657104492,2.5027132814623845],[102.62054443359375,2.5208919047980967],[102.6174545288086,2.526722730282693],[102.61367797851562,2.527751696769415],[102.60887145996094,2.5457584779376665],[102.61247634887695,2.5474733963830283],[102.60818481445312,2.5637650074982163],[102.60955810546875,2.568566705994119],[102.6126480102539,2.5695956390386314],[102.61796951293945,2.5828002060534514],[102.62346267700195,2.5840006144402468],[102.62500762939453,2.5894881811749695],[102.63204574584961,2.587944805431153],[102.64028549194336,2.608522993739526],[102.63273239135742,2.6131530398003058],[102.62603759765625,2.631330092267656],[102.70156860351562,2.831945583789586]]}},{\"type\":\"Feature\",\"properties\":{\"name\":\"jhrphg\"},\"geometry\":{\"type\":\"LineString\",\"coordinates\":[[102.70156860351562,2.831945583789586],[102.799072265625,2.801769686793356],[102.97073364257812,2.591888984149953],[103.15200805664062,2.517804986608357],[103.3538818359375,2.589145208949906],[103.60794067382812,2.460181181021018],[103.64089965820312,2.4848774060001793],[103.5955810546875,2.5356404127077643],[103.63677978515625,2.657737790139801]]}},{\"type\":\"Feature\",\"properties\":{\"name\":\"jhrocn\"},\"geometry\":{\"type\":\"LineString\",\"coordinates\":[[103.63677978515625,2.657737790139801],[103.65669250488281,2.658766650086923],[103.66252899169922,2.6656256944598304],[103.68999481201172,2.6471061871951918],[103.7215805053711,2.6327019345514353],[103.74767303466797,2.6371604115389475],[103.74801635742188,2.6467632307409725],[103.75385284423828,2.650192791010752],[103.76518249511719,2.6450484470466287],[103.75694274902344,2.62515678332148],[103.77342224121094,2.609380410963676],[103.809814453125,2.5812568221749594],[103.81599426269531,2.58605845474809],[103.82354736328125,2.5809138477251743],[103.8156509399414,2.57096754847467],[103.82698059082031,2.54730190464122],[103.8211441040039,2.545929969884913],[103.82698059082031,2.52500778432622],[103.84483337402344,2.5064862240787233],[103.81702423095703,2.493109378566171],[103.83041381835938,2.4721863477951214],[103.8369369506836,2.4365135361844006],[103.8534164428711,2.4310253270922213],[103.86062622070312,2.4135315119046097],[103.88431549072266,2.385060704614817],[103.91693115234375,2.3449261578261145],[103.93821716308594,2.3387515094907694],[103.95675659179688,2.311994386907854],[103.94989013671875,2.2999878214206078],[103.96636962890625,2.2711716529518693],[103.98319244384766,2.25196055419261],[103.97804260253906,2.25127443882492],[103.96053314208984,2.249216090784205],[103.95572662353516,2.2190266538990717],[103.95915985107422,2.205647046755646],[104.00344848632812,2.1524705026562376],[104.01512145996094,2.1315424482821195],[104.0456771850586,2.0663548944784833],[104.05529022216797,2.059835990524478],[104.05906677246094,2.04302395742204],[104.06970977783203,2.031701468526909],[104.09648895263672,1.9980766414070084],[104.09648895263672,1.9908712313470842],[104.1115951538086,1.9723428896872133],[104.11914825439453,1.9562162020730478],[104.11811828613281,1.9462656152698639],[104.13116455078125,1.9246486212921237],[104.1280746459961,1.9188154171026013],[104.12223815917969,1.9236192337659013],[104.11674499511719,1.9376874760533849],[104.11022186279297,1.938030602457554],[104.10541534423828,1.9328836991007732],[104.11296844482422,1.9267073944798094],[104.10850524902344,1.9229329750699877],[104.10438537597656,1.9054332853528937],[104.10575866699219,1.8824432269136468],[104.13185119628906,1.845383988573187],[104.14558410644531,1.8422956836364799],[104.1500473022461,1.8457271332352538],[104.15142059326172,1.8563645848502908],[104.16034698486328,1.846070277831089],[104.15794372558594,1.844697699050447],[104.15725708007812,1.8289129671536257],[104.16961669921875,1.8059219139084879],[104.18643951416016,1.7877347550967844],[104.19536590576172,1.7640568635259772],[104.1998291015625,1.73866284790347],[104.2218017578125,1.7112094738760886],[104.21390533447266,1.7040028978171977],[104.21356201171875,1.6950804329675422],[104.24102783203125,1.6573310908088101],[104.249267578125,1.6501243159064751],[104.24171447753906,1.6425743332398175],[104.24617767333984,1.628503834970573],[104.26437377929688,1.6096286221850622],[104.25544738769531,1.6034512417682705],[104.25201416015625,1.594185136208436],[104.2599105834961,1.5804574958256679],[104.25373077392578,1.564670597245573],[104.26334381103516,1.5437356139026024],[104.2770767211914,1.5330964448287996],[104.28531646728516,1.5155931808316945],[104.28428649902344,1.5076995055844005],[104.27467346191406,1.5073563016623788],[104.27055358886719,1.4877935890641816],[104.29527282714844,1.4469515799492016],[104.29698944091797,1.4345958683281839],[104.28600311279297,1.4397440896459615],[104.2770767211914,1.433909437942939],[104.27467346191406,1.4153757400509623],[104.28428649902344,1.3807104645408492],[104.27810668945312,1.3645789255837921],[104.2544174194336,1.3597737653488802],[104.25235748291016,1.3697273008963304],[104.2441177368164,1.3707569746327937],[104.22351837158203,1.3470743673410892],[104.2166519165039,1.3515363255670068],[104.20257568359375,1.3360910507988086],[104.19742584228516,1.3463879115035062],[104.18437957763672,1.3498201887565244],[104.16240692138672,1.3405530290894208],[104.15725708007812,1.347417595187383],[104.13803100585938,1.3412394865669233],[104.13013458251953,1.354625368768736],[104.09133911132812,1.3680111770191412],[104.09168243408203,1.3776214548774328],[104.1119384765625,1.3889478039948222],[104.11811828613281,1.4067952740787528],[104.1232681274414,1.4150325220203819],[104.1061019897461,1.4040495182936055],[104.09820556640625,1.4232697407088972],[104.07451629638672,1.4400873039875568],[104.0408706665039,1.4476380064044898],[104.05597686767578,1.452442985767033],[104.04052734375,1.4637689680642445],[104.06078338623047,1.4871071749321434],[104.0573501586914,1.5032378503820645],[104.07588958740234,1.5152499781573028],[104.08687591552734,1.5121611516421967],[104.08447265625,1.5214276179641297],[104.0731430053711,1.526918838498519],[104.05288696289062,1.5173091933874854],[104.04224395751953,1.4936281005530108],[104.0346908569336,1.5111315418265368],[104.02885437011719,1.535155642980981],[104.03434753417969,1.554717926129795],[104.01168823242188,1.5893804724464309],[103.9962387084961,1.5972738427077158],[103.97907257080078,1.6185514719495546],[103.97598266601562,1.635367504987965],[103.96259307861328,1.6110013708497017],[103.97083282470703,1.5856053716461642],[103.99864196777344,1.570161705941431],[104.007568359375,1.5533451402176797],[104.0072250366211,1.543049217500579],[104.01529312133789,1.5245164312379125],[104.00104522705078,1.5128475579146388],[104.00911331176758,1.50581188334401],[104.00516510009766,1.483331893392633],[104.007568359375,1.4737220568087726],[104.01082992553711,1.4716628007081187],[104.00636672973633,1.448839252201143],[103.99520874023438,1.436826765657352],[103.98628234863281,1.433909437942939],[103.97357940673828,1.4284179874585172],[103.95933151245117,1.4265302983207822],[103.93924713134766,1.4325365765549887],[103.92070770263672,1.436311943390029],[103.92173767089844,1.4315069299741268],[103.89152526855469,1.436311943390029],[103.87195587158203,1.4586208013583337],[103.87075424194336,1.4637689680642445],[103.86629104614258,1.4701183573846615],[103.85221481323242,1.4720060101903478],[103.84037017822266,1.4798998136755839],[103.83298873901367,1.4812726462004457],[103.8266372680664,1.4805862300442898],[103.81977081298828,1.4845331200365204],[103.80123138427734,1.4845331200365204],[103.79745483398438,1.4888232098617113],[103.79831314086914,1.4948293215854835],[103.79659652709961,1.5006638143854627],[103.7936782836914,1.4931132913380227],[103.79487991333008,1.4829886856602814],[103.78921508789062,1.47578131100533],[103.77067565917969,1.4579343782400198],[103.75831604003906,1.4533010167218787],[103.73342514038086,1.4610232806227414],[103.72638702392578,1.4675442828051706],[103.72552871704102,1.4733788475908092],[103.72020721435547,1.4804146259720459],[103.71231079101562,1.4805862300442898],[103.70904922485352,1.4745800796222255],[103.71591567993164,1.4747516841452302],[103.71625900268555,1.464626994700495],[103.69136810302734,1.4557035016605615],[103.69789123535156,1.453472622873722],[103.6893081665039,1.4430046238030876],[103.6834716796875,1.4443774788925727],[103.67420196533203,1.4385428390435284],[103.66785049438477,1.4215536559028756],[103.65531921386719,1.4047359575424712],[103.64021301269531,1.37521888903652],[103.60313415527344,1.3463879115035062],[103.5845947265625,1.3443285428313179],[103.54751586914062,1.3587440869100178],[103.53790283203125,1.4164053938378798],[103.53240966796875,1.3820833564366672],[103.53446960449219,1.352566007071275],[103.54751586914062,1.3299129136379466],[103.51593017578125,1.3100054779424755],[103.51318359375,1.279114317171584],[103.51112365722656,1.2605794416293021],[103.47198486328125,1.3058866783157517],[103.45687866210938,1.3154972002419345],[103.4417724609375,1.3203024473401612],[103.43559265136719,1.3573711816421556],[103.41499328613281,1.395812231612477],[103.41087341308594,1.4308204986633148],[103.3868408203125,1.4850479312555631],[103.35868835449219,1.5385876354924624],[103.31886291503906,1.5667297646937866],[103.28933715820312,1.5825166476875732],[103.27491760253906,1.593498756356747],[103.26255798339844,1.5948715158312778],[103.19869995117188,1.6161491700973138],[103.14926147460938,1.6422311515306498],[103.11630249023438,1.6703718548360296],[103.084716796875,1.6964531225492947],[103.03596496582031,1.7232203737409166],[102.97897338867188,1.7444966386574388],[102.95562744140625,1.7431239836347538],[102.94120788574219,1.7403786705878432],[102.90962219238281,1.7664589822714587],[102.88627624511719,1.7925389278418953],[102.89520263671875,1.7980293955404163],[102.89451599121094,1.821363698391015],[102.88558959960938,1.8172459020892597],[102.87940979003906,1.821363698391015],[102.81692504882812,1.8570508698571522],[102.77091979980469,1.866658831923276],[102.73246765136719,1.8680313936525572],[102.72285461425781,1.8597960072183644],[102.70980834960938,1.8536194421595378],[102.68440246582031,1.8728353512547844],[102.6507568359375,1.9222467160981036],[102.63015747070312,1.9517556014770228],[102.54707336425781,2.027241072295682],[102.54364013671875,2.037534275777126],[102.55256652832031,2.0471412063451693],[102.56561279296875,2.0443963749034975],[102.55874633789062,2.0560618760371434],[102.53677368164062,2.0608652929244395],[102.52235412597656,2.0787064285136343],[102.48836517333984,2.0991205573484972]]}},{\"type\":\"Feature\",\"properties\":{\"name\":\"kdhpng\"},\"geometry\":{\"type\":\"LineString\",\"coordinates\":[[100.49297332763672,5.130269333425149],[100.49331665039062,5.155231003951707],[100.53314208984375,5.13881796089842],[100.54962158203125,5.144289022297493],[100.52352905273438,5.356255950601548],[100.52764892578125,5.557214791322004],[100.41229248046875,5.566782569306497],[100.37246704101562,5.584550886514859],[100.36834716796875,5.570882997931688],[100.33882141113281,5.578058679140624]]}},{\"type\":\"Feature\",\"properties\":{\"name\":\"kdhprk\"},\"geometry\":{\"type\":\"LineString\",\"coordinates\":[[100.98770141601562,5.782699056797093],[100.94512939453125,5.769035866122148],[100.97808837890625,5.714379819235291],[100.9698486328125,5.651518917890183],[100.9149169921875,5.605052121404785],[100.9478759765625,5.577716982024741],[100.92864990234375,5.498437897426572],[100.86273193359375,5.476565940198599],[100.8544921875,5.3425828520359735],[100.8160400390625,5.317970506163205],[100.7391357421875,5.317970506163205],[100.71990966796875,5.263272887191521],[100.68695068359375,5.244127581489553],[100.65673828125,5.178482088522876],[100.623779296875,5.167540507950538],[100.61004638671875,5.12924349042934],[100.58258056640625,5.097783506271446],[100.55099487304688,5.082736881549004],[100.50979614257812,5.099151363782624],[100.51185607910156,5.111119992621954],[100.5194091796875,5.119326923187121],[100.49297332763672,5.130269333425149]]}},{\"type\":\"Feature\",\"properties\":{\"name\":\"kdhpls\"},\"geometry\":{\"type\":\"LineString\",\"coordinates\":[[100.19668579101562,6.259332270466327],[100.228271484375,6.315298538330033],[100.30380249023438,6.4081072786850015],[100.3656005859375,6.4545053334927305],[100.36697387695312,6.541831294229476]]}},{\"type\":\"Feature\",\"properties\":{\"name\":\"kdhtha\"},\"geometry\":{\"type\":\"LineString\",\"coordinates\":[[100.36697387695312,6.541831294229476],[100.41915893554688,6.5200012268628385],[100.49468994140625,6.526823225180418],[100.49468994140625,6.506356951818057],[100.54824829101562,6.483160834178051],[100.56472778320312,6.496805738748304],[100.65399169921875,6.446317749457658],[100.6842041015625,6.4545053334927305],[100.73638916015625,6.510450273276757],[100.74874877929688,6.45859907588465],[100.81192016601562,6.4449531392614885],[100.82565307617188,6.402648405963896],[100.82015991210938,6.3535159310088165],[100.84762573242188,6.315298538330033],[100.83251953125,6.290728723530766],[100.85174560546875,6.234759816458916],[100.87234497070312,6.240220461451296],[100.87234497070312,6.260697372951358],[100.8984375,6.236124983039287],[100.94375610351562,6.245681049537433],[100.97259521484375,6.2825385269263885],[101.03164672851562,6.244315907853541],[101.09481811523438,6.26479265899468],[101.12228393554688,6.1938031700764045],[101.08795166015625,6.1787849358252],[101.05499267578125,6.137823951988505],[101.12777709960938,6.109149388259389],[101.09893798828125,6.049064377566057],[101.11404418945312,6.040870448158524],[101.10443115234375,5.988972688952051],[101.12091064453125,5.975314562439893],[101.0797119140625,5.908384830835344],[101.02752685546875,5.917946718602524],[101.00692749023438,5.849643907129009],[100.98770141601562,5.782699056797093]]}},{\"type\":\"Feature\",\"properties\":{\"name\":\"kdhocn\"},\"geometry\":{\"type\":\"LineString\",\"coordinates\":[[100.33882141113281,5.578058679140624],[100.33058166503906,5.6617684455849835],[100.34088134765625,5.670651222566598],[100.37246704101562,5.669284650387527],[100.39924621582031,5.650152300481219],[100.3765869140625,5.6829502264441585],[100.36079406738281,5.687733101477844],[100.34774780273438,5.707547445489985],[100.37040710449219,5.7854316553618625],[100.34706115722656,5.975314562439893],[100.32302856445312,6.048381554855986],[100.27976989746094,6.101639129354743],[100.26741027832031,6.169227655704114],[100.22346496582031,6.233394646324949],[100.19668579101562,6.259332270466327]]}},{\"type\":\"Feature\",\"properties\":{\"name\":\"ktnphg\"},\"geometry\":{\"type\":\"LineString\",\"coordinates\":[[102.65727996826172,4.760348627805425],[102.64972686767578,4.762743592942047],[102.61101722717285,4.77933705063744],[102.60063171386719,4.765993889428381],[102.60612487792969,4.687298206027659],[102.57522583007812,4.691404288203818],[102.54913330078125,4.710565685396272],[102.52578735351562,4.677032895076936],[102.50381469726562,4.670189270830019],[102.45025634765625,4.711250011257274],[102.36236572265625,4.7098813588617805],[102.37403869628906,4.68661385665204],[102.33009338378906,4.636654548576402],[102.27310180664062,4.65992370928245],[102.23052978515625,4.64897361172607],[102.23052978515625,4.627757313781544],[102.17491149902344,4.6606080847201445],[102.17422485351562,4.679770326056327],[102.12478637695312,4.717408913682986],[102.12066650390625,4.759151142110603],[102.04719543457031,4.731095167820164],[102.01766967773438,4.735200991337153],[102.00325012207031,4.75983541990569],[101.98539733886719,4.7605196970202766],[101.98539733886719,4.741359680909624],[101.964111328125,4.761888249207674],[101.9476318359375,4.757782584479419],[101.94351196289062,4.657870578971867],[101.92703247070312,4.655133062567141],[101.9146728515625,4.607224807005659],[101.89956665039062,4.609278084409835],[101.88789367675781,4.6414453209142446],[101.89544677734375,4.6606080847201445],[101.88308715820312,4.6784016119044995],[101.85081481933594,4.68592950660633],[101.83914184570312,4.720830502540004],[101.82060241699219,4.717408913682986],[101.8212890625,4.757098304643499],[101.79931640625,4.762572524280281],[101.78077697753906,4.7564140241274995],[101.76498413085938,4.622282036767971],[101.74919128417969,4.609962508893083],[101.73065185546875,4.622282036767971],[101.722412109375,4.609962508893083],[101.66816711425781,4.5921672583606306],[101.66610717773438,4.570949264200543],[101.64825439453125,4.553837520857994],[101.63864135742188,4.559997795432589],[101.62216186523438,4.545623739376301],[101.61529541015625,4.561366738166873],[101.58714294433594,4.553837520857994],[101.56517028808594,4.5791627559757515],[101.55143737792969,4.575740479186676],[101.54045104980469,4.5976427674255005],[101.51779174804688,4.611331355881756],[101.480712890625,4.599011638118759],[101.47384643554688,4.572318186037985],[101.44706726074219,4.5736871052598405],[101.43951416015625,4.592851699293261],[101.40586853027344,4.6188599671494],[101.37153625488281,4.6133846214188114]]}},{\"type\":\"Feature\",\"properties\":{\"name\":\"ktnprk\"},\"geometry\":{\"type\":\"LineString\",\"coordinates\":[[101.37153625488281,4.6133846214188114],[101.37702941894531,4.632548146427767],[101.35848999023438,4.658554956408209],[101.3323974609375,4.683192099724386],[101.33995056152344,4.710565685396272],[101.38595581054688,4.710565685396272],[101.37496948242188,4.757782584479419],[101.39694213867188,4.770783772016471],[101.41616821289062,4.807048939114977],[101.39968872070312,4.833049192412515],[101.40861511230469,4.85083826494702],[101.44294738769531,4.8604168022791745],[101.44569396972656,4.913780438786879],[101.42166137695312,4.978084780949213],[101.44775390625,4.9986061240370185],[101.46080017089844,5.047854719672127],[101.47865295410156,5.088208422167594],[101.48689270019531,5.170959772197187],[101.52191162109375,5.263956637222779],[101.56929016113281,5.289938580465502],[101.57958984375,5.327542091197393],[101.61735534667969,5.350103094058478],[101.66885375976562,5.327542091197393],[101.73545837402344,5.351470400862491],[101.75193786621094,5.375397774474748],[101.74026489257812,5.391804573239835],[101.73545837402344,5.453326108568553],[101.75056457519531,5.472464859001194],[101.74232482910156,5.505956197264975],[101.656494140625,5.520309050962868],[101.68601989746094,5.589334572242646],[101.65580749511719,5.608468923967094],[101.65992736816406,5.66381832932187],[101.6949462890625,5.704131228074497],[101.69151306152344,5.754689161638781]]}},{\"type\":\"Feature\",\"properties\":{\"name\":\"ktntrg\"},\"geometry\":{\"type\":\"LineString\",\"coordinates\":[[102.53565788269043,5.845887009566105],[102.48939514160156,5.791579953844538],[102.43171691894531,5.745466088950315],[102.41592407226562,5.721212111452892],[102.3980712890625,5.696273850826122],[102.3922348022461,5.699690115019108],[102.37918853759766,5.692174306975572],[102.38090515136719,5.681242047158673],[102.38639831542969,5.676459118211328],[102.38948822021484,5.63033598603856],[102.40219116210938,5.610518995900887],[102.39601135253906,5.579425465613804],[102.40768432617188,5.54388798441325],[102.40013122558594,5.543204550301412],[102.39910125732422,5.529877427104967],[102.39017486572266,5.523384617291998],[102.381591796875,5.520309050962868],[102.381591796875,5.514157870446127],[102.38639831542969,5.510057048012416],[102.3929214477539,5.496045691192545],[102.38914489746094,5.474515403116572],[102.39944458007812,5.462553796709912],[102.40219116210938,5.439996975279234],[102.39360809326172,5.425983978294334],[102.3870849609375,5.428034681133996],[102.38468170166016,5.4092363110471045],[102.39051818847656,5.408552722935976],[102.4306869506836,5.36958692716548],[102.43927001953125,5.3702705591369035],[102.43995666503906,5.354888654498652],[102.42931365966797,5.355230478811125],[102.42794036865234,5.348735784198741],[102.42828369140625,5.318654195747717],[102.42210388183594,5.315235740232144],[102.41523742675781,5.227716852021092],[102.42176055908203,5.219511325926304],[102.4203872680664,5.19250071183733],[102.41317749023438,5.189423479732443],[102.41317749023438,5.179507851999132],[102.4368667602539,5.178140166994281],[102.44407653808594,5.167540507950538],[102.46055603027344,5.167882435205824],[102.48493194580078,5.144289022297493],[102.48424530029297,5.136766300758565],[102.51239776611328,5.125140101962673],[102.52784729003906,5.108384325726238],[102.51274108886719,5.081710962507595],[102.50450134277344,5.0834208266689345],[102.49866485595703,5.070767724488126],[102.50587463378906,5.068373866434907],[102.51754760742188,5.020836853535642],[102.51068115234375,5.00681448142217],[102.49935150146484,5.0054464290077965],[102.49832153320312,4.99039766379685],[102.52166748046875,4.959272987296277],[102.51102447509766,4.949011782911301],[102.51995086669922,4.942512937806694],[102.5130844116211,4.9366981276233135],[102.5075912475586,4.901808198164421],[102.53059387207031,4.893940608902126],[102.53883361816406,4.906255055468887],[102.57865905761719,4.88949366969545],[102.59410858154297,4.869995203446797],[102.60749816894531,4.872731864447689],[102.61711120605469,4.859048448133569],[102.6504135131836,4.846733135901818],[102.65213012695312,4.835443902493129],[102.64251708984375,4.816628095528729],[102.65178680419922,4.8104700818805375],[102.66860961914062,4.778310662835895],[102.65727996826172,4.760348627805425]]}},{\"type\":\"Feature\",\"properties\":{\"name\":\"ktntha\"},\"geometry\":{\"type\":\"LineString\",\"coordinates\":[[101.69151306152344,5.754689161638781],[101.700439453125,5.752639602851877],[101.71829223632812,5.7628873228748745],[101.72103881835938,5.7854316553618625],[101.74163818359375,5.783382207675868],[101.74713134765625,5.793629371805005],[101.75880432128906,5.797728185409704],[101.77734375,5.784748506958335],[101.77322387695312,5.770402200015781],[101.81991577148438,5.731460396704476],[101.82815551757812,5.7335100316877625],[101.81922912597656,5.75742189519423],[101.83639526367188,5.788164240722203],[101.86386108398438,5.790213671073348],[101.86180114746094,5.801826969242172],[101.87210083007812,5.801826969242172],[101.87965393066406,5.810707565311589],[101.87896728515625,5.831883805666086],[101.898193359375,5.844862396761838],[101.91329956054688,5.841447007202826],[101.94488525390625,5.870135630966354],[101.93321228027344,5.908384830835344],[101.92153930664062,5.909067828298537],[101.93321228027344,5.94868023624259],[101.94557189941406,5.954826733929924],[101.93870544433594,5.9718999775333925],[101.97372436523438,6.0087763654981385],[101.97647094726562,6.029945016071819],[102.01492309570312,6.053844112385779],[102.05337524414062,6.080473288490129],[102.09457397460938,6.1480644939995575],[102.08084106445312,6.172640989828772],[102.08221435546875,6.22452095388867],[102.09182739257812,6.238855305536253]]}},{\"type\":\"Feature\",\"properties\":{\"name\":\"ktnocn\"},\"geometry\":{\"type\":\"LineString\",\"coordinates\":[[102.09182739257812,6.238855305536253],[102.16461181640625,6.199264240303361],[102.24288940429688,6.212575362017259],[102.28408813476562,6.1876593985507675],[102.33009338378906,6.177419620654008],[102.3651123046875,6.137823951988505],[102.48184204101562,5.896090732511716],[102.53565788269043,5.845887009566105]]}},{\"type\":\"Feature\",\"properties\":{\"name\":\"mlknsn\"},\"geometry\":{\"type\":\"LineString\",\"coordinates\":[[101.9747543334961,2.3898630509652556],[101.98368072509766,2.3984386276428595],[101.99638366699219,2.4018688432717705],[102.01251983642578,2.409072268039564],[102.02676773071289,2.4270806630186144],[102.03020095825195,2.4394291381695368],[102.03792572021484,2.4337694344312832],[102.03466415405273,2.4306823132823854],[102.03500747680664,2.4245080498112297],[102.04599380493164,2.420391858508534],[102.05183029174805,2.4222784477417987],[102.04977035522461,2.4277666923805694],[102.05268859863281,2.4347984732436534],[102.06195831298828,2.4342839539356773],[102.06573486328125,2.443716776663375],[102.05955505371094,2.444059787151656],[102.06418991088867,2.4579516381335673],[102.08324432373047,2.4541785570725816],[102.08942413330078,2.447318382417128],[102.12186813354492,2.462582223038756],[102.14212417602539,2.4570941206465786],[102.17679977416992,2.4991118261073177],[102.19413757324219,2.488478900323377],[102.21061706542969,2.480075398289568],[102.21696853637695,2.4723578493920564],[102.2222900390625,2.4725293509668167],[102.23276138305664,2.466012275556597],[102.27790832519531,2.458294644974121],[102.33146667480469,2.488478900323377],[102.3647689819336,2.4949958650325077],[102.43188858032227,2.4716718428713698],[102.43000030517578,2.4613817025705242],[102.53643035888672,2.428281214173487],[102.56664276123047,2.417647724027967],[102.58724212646484,2.415418110676294],[102.59565353393555,2.4102728351330227]]}},{\"type\":\"Feature\",\"properties\":{\"name\":\"mlkocn\"},\"geometry\":{\"type\":\"LineString\",\"coordinates\":[[102.48836517333984,2.0991205573484972],[102.47411727905273,2.1080409334613437],[102.46261596679688,2.1123295576400944],[102.44630813598633,2.1149027264657265],[102.43858337402344,2.1152458153201525],[102.40425109863281,2.1318855334422295],[102.38433837890625,2.132914788463656],[102.37798690795898,2.132057075993615],[102.35395431518555,2.143721924550186],[102.34949111938477,2.1497258560966856],[102.33592987060547,2.154872064342401],[102.31945037841797,2.1569305427731993],[102.30932235717773,2.1672228930930117],[102.30382919311523,2.1687667396144663],[102.28649139404297,2.172540580032526],[102.2662353515625,2.1836905079359714],[102.26125717163086,2.1812889919794802],[102.24992752075195,2.185748947129666],[102.23945617675781,2.1874643109684175],[102.22967147827148,2.1979279878490123],[102.21765518188477,2.2013586856322274],[102.205810546875,2.21010692921012],[102.19585418701172,2.2143952650897183],[102.18795776367188,2.2150813976793486],[102.16924667358398,2.2173113264002184],[102.16117858886719,2.2143952650897183],[102.15396881103516,2.2162821289463865],[102.13319778442383,2.254190426905757],[102.11328506469727,2.2728869172356845],[102.10590362548828,2.2740876010217863],[102.10092544555664,2.2715147059716094],[102.0875358581543,2.291068593040803],[102.08187103271484,2.292097737616043],[102.07706451416016,2.297071925959839],[102.06830978393555,2.323486290166025],[102.05406188964844,2.3423533909937784],[102.0380973815918,2.348528023442635],[102.02264785766602,2.362249331072835],[102.01045989990234,2.367737816213688],[101.99775695800781,2.368423875328803],[101.99552536010742,2.3656796368307016],[101.97612762451172,2.370310536143148],[101.97097778320312,2.3754559616514554],[101.97269439697266,2.376828071884677],[101.96771621704102,2.386947342682369],[101.9747543334961,2.3898630509652556]]}},{\"type\":\"Feature\",\"properties\":{\"name\":\"nsnphg\"},\"geometry\":{\"type\":\"LineString\",\"coordinates\":[[101.91364288330078,3.260834391354064],[101.93389892578125,3.289969153804745],[101.97509765625,3.270774582020789],[101.97235107421875,3.2447242186445773],[102.00668334960938,3.229642122066011],[102.04238891601562,3.228271011252635],[102.06161499023438,3.1665691210839224],[102.11105346679688,3.195363798329405],[102.14813232421875,3.1967349533429625],[102.161865234375,3.1775386167362476],[102.392578125,3.11720495860026],[102.46673583984375,3.0184697213064116],[102.66448974609375,2.8895519243797],[102.68096923828125,2.8991526985043006],[102.69332885742188,2.8826941788448823],[102.70156860351562,2.831945583789586]]}},{\"type\":\"Feature\",\"properties\":{\"name\":\"nsnsgr\"},\"geometry\":{\"type\":\"LineString\",\"coordinates\":[[101.71365737915039,2.5944612679982164],[101.71245574951172,2.598405426400447],[101.700439453125,2.6042358988542493],[101.7117691040039,2.617954551011574],[101.72309875488281,2.6189834438786455],[101.73065185546875,2.6186404796835028],[101.72447204589844,2.6347596951449854],[101.73408508300781,2.650192791010752],[101.74644470214844,2.6539652963321823],[101.73957824707031,2.6711129024380353],[101.74713134765625,2.682430191408072],[101.75262451171875,2.6820872447940185],[101.76155090332031,2.7067791544568403],[101.75056457519531,2.8706930247630016],[101.88343048095703,2.8672641004210604],[101.92428588867188,2.976641655235643],[101.93183898925781,2.996870181917404],[101.95621490478516,3.0253266282949207],[101.97029113769531,3.026012316610068],[101.94866180419922,3.1124055408946614],[101.964111328125,3.138116451213742],[101.94110870361328,3.1843944923387464],[101.9479751586914,3.2059902017093402],[101.942138671875,3.230670453961059],[101.9314956665039,3.2447242186445773],[101.93458557128906,3.251922412732101],[101.9253158569336,3.25877778790474],[101.91364288330078,3.260834391354064]]}},{\"type\":\"Feature\",\"properties\":{\"name\":\"nsnocn\"},\"geometry\":{\"type\":\"LineString\",\"coordinates\":[[101.9747543334961,2.3898630509652556],[101.97166442871094,2.399124671457166],[101.96325302124023,2.4025548853642897],[101.95518493652344,2.4028979062812916],[101.94419860839844,2.409929816071493],[101.94265365600586,2.4161041459436867],[101.93286895751953,2.423993526582673],[101.9198226928711,2.4243365420901113],[101.90643310546875,2.422106939738234],[101.89579010009766,2.417304706827596],[101.86643600463867,2.4190197919622793],[101.8600845336914,2.414217548124655],[101.85699462890625,2.407185660468913],[101.85733795166016,2.4042699890874832],[101.85287475585938,2.4030694167074973],[101.84823989868164,2.411301891798902],[101.85253143310547,2.415418110676294],[101.85544967651367,2.414217548124655],[101.85647964477539,2.4420017229076754],[101.85373306274414,2.4452603231703196],[101.85630798339844,2.449204933951163],[101.85150146484375,2.461896211475046],[101.84858322143555,2.462410720180935],[101.8484115600586,2.4704713306070984],[101.8545913696289,2.4718433445347654],[101.85184478759766,2.4752733731473158],[101.8458366394043,2.473729861369407],[101.84549331665039,2.4771598851013836],[101.84892654418945,2.479046394368264],[101.84085845947266,2.4919088857702656],[101.83502197265625,2.5037422668899585],[101.83107376098633,2.505457240806713],[101.82111740112305,2.5205489142495527],[101.81425094604492,2.522778351198948],[101.80360794067383,2.5210634000384893],[101.79039001464844,2.5210634000384893],[101.78970336914062,2.5327250232823415],[101.79313659667969,2.534439959033636],[101.79880142211914,2.5438720650119366],[101.79262161254883,2.5548475196561857],[101.79880142211914,2.56153564135536],[101.79502487182617,2.574911779884307],[101.79004669189453,2.5795419490007094],[101.78455352783203,2.5767981471128194],[101.7824935913086,2.587944805431153],[101.76567077636719,2.600291758673124],[101.74884796142578,2.6033784781255735],[101.73391342163086,2.599262850510269],[101.72996520996094,2.5937753261501144],[101.71365737915039,2.5944612679982164]]}},{\"type\":\"Feature\",\"properties\":{\"name\":\"phgprk\"},\"geometry\":{\"type\":\"LineString\",\"coordinates\":[[101.62559509277344,3.7721057944916154],[101.59538269042969,3.8012245190833154],[101.58920288085938,3.8382210087308173],[101.59950256347656,3.847127332281291],[101.60499572753906,3.8731606665392544],[101.57546997070312,3.910154025835566],[101.57135009765625,3.9978354395867215],[101.55555725097656,4.023179110282761],[101.57890319824219,4.066330030072189],[101.57546997070312,4.097150702665089],[101.51573181152344,4.118382031276569],[101.49581909179688,4.162212656441934],[101.51161193847656,4.203986450382895],[101.45462036132812,4.221106212250807],[101.45256042480469,4.243703719591427],[101.46560668945312,4.257398856960772],[101.44912719726562,4.275202171119146],[101.4422607421875,4.333402418678246],[101.41754150390625,4.3457266042579406],[101.4312744140625,4.353257951868212],[101.43882751464844,4.3888596636731645],[101.392822265625,4.40871372792638],[101.35505676269531,4.400498317257941],[101.35162353515625,4.428567261769],[101.32759094238281,4.439520707701916],[101.35848999023438,4.458004278853323],[101.36192321777344,4.494285490770233],[101.38526916503906,4.507291524022413],[101.38046264648438,4.523719864867188],[101.36260986328125,4.529880396675466],[101.34956359863281,4.589429488063967],[101.37153625488281,4.6133846214188114]]}},{\"type\":\"Feature\",\"properties\":{\"name\":\"phgsgr\"},\"geometry\":{\"type\":\"LineString\",\"coordinates\":[[101.91364288330078,3.260834391354064],[101.89579010009766,3.2670041764563704],[101.88995361328125,3.260491624404506],[101.87519073486328,3.2718028719872843],[101.85356140136719,3.276258782980262],[101.8157958984375,3.3029938314193856],[101.79862976074219,3.333155585571099],[101.78146362304688,3.339324921640342],[101.78146362304688,3.3581754302839655],[101.75983428955078,3.3732555752815196],[101.76567077636719,3.3862791486421155],[101.76189422607422,3.40170157471973],[101.78009033203125,3.409584052829561],[101.79141998291016,3.425348815074405],[101.77906036376953,3.4507089742799417],[101.76155090332031,3.5010845753167428],[101.77665710449219,3.5308974326313693],[101.78592681884766,3.5459748356027734],[101.80686950683594,3.550772139583344],[101.81373596191406,3.603883474871053],[101.78455352783203,3.6354061588245528],[101.76498413085938,3.6813176594957904],[101.7388916015625,3.6984482116817476],[101.73820495605469,3.7135228237994307],[101.7172622680664,3.7087263841800255],[101.69048309326172,3.7080411763946697],[101.67743682861328,3.7196896364407745],[101.65340423583984,3.726884196645965],[101.62593841552734,3.7642264421477485],[101.62559509277344,3.7721057944916154]]}},{\"type\":\"Feature\",\"properties\":{\"name\":\"phgtrg\"},\"geometry\":{\"type\":\"LineString\",\"coordinates\":[[102.65727996826172,4.760348627805425],[102.66311645507812,4.758466863635147],[102.69058227539062,4.711934336444672],[102.77984619140625,4.67224236512012],[102.84713745117188,4.677717253825141],[102.88558959960938,4.610646932717077],[102.87185668945312,4.564104615806482],[102.84439086914062,4.5736871052598405],[102.85125732421875,4.495654557841738],[102.88009643554688,4.468272728744618],[102.97622680664062,4.466903610394136],[103.00506591796875,4.440889877020583],[103.01193237304688,4.409398341384905],[103.0242919921875,4.408029113837152],[103.00369262695312,4.383382587405101],[103.01605224609375,4.324501493019203],[102.97897338867188,4.335456463573485],[102.95562744140625,4.287527300315192],[102.92953491210938,4.286157851321027],[102.93365478515625,4.245073244271904],[102.91305541992188,4.212203983099352],[102.92404174804688,4.154679440673942],[102.886962890625,4.136873372175124],[102.92953491210938,4.097150702665089],[103.00506591796875,4.12728532324537],[103.07098388671875,4.114957661674562],[103.0792236328125,4.091671558519782],[103.12179565429688,4.082082966104376],[103.16848754882812,4.032768401966701],[103.20693969726562,4.035508178820239],[103.20831298828125,4.01221978158204],[103.23989868164062,4.0149596275574275],[103.27835083007812,3.9670110008680193],[103.271484375,3.9478307691214694],[103.3099365234375,3.880696482497274],[103.30581665039062,3.9190595913245962],[103.32744598388672,3.9300201571114752],[103.33328247070312,3.9457757179718564],[103.32778930664062,3.9899581929138015],[103.32744598388672,4.042357580503426],[103.31748962402344,4.063590357558898],[103.30753326416016,4.061878057511665],[103.29826354980469,4.084822575634911],[103.30684661865234,4.087562175810507],[103.30684661865234,4.118039594979308],[103.32469940185547,4.12420342577358],[103.32401275634766,4.141324926889831],[103.33087921142578,4.141324926889831],[103.31989288330078,4.172827519928444],[103.31954956054688,4.192344797442206],[103.33637237548828,4.188578343168436],[103.34426879882812,4.176594049922342],[103.41842651367188,4.177621282237845],[103.42117309570312,4.175566816261949]]}},{\"type\":\"Feature\",\"properties\":{\"name\":\"phgocn\"},\"geometry\":{\"type\":\"LineString\",\"coordinates\":[[103.42117309570312,4.175566816261949],[103.40194702148438,4.130024777622786],[103.38546752929688,4.120436645965113],[103.43765258789062,3.9615309799955254],[103.40469360351562,3.9683810004087827],[103.36624145507812,3.9190595913245962],[103.38134765625,3.798483975036962],[103.3428955078125,3.8067055810415567],[103.32778930664062,3.7272267932840584],[103.47747802734375,3.5093089069576826],[103.41156005859375,3.351663477428642],[103.45001220703125,3.198106106523846],[103.43215942382812,2.938926463242266],[103.47198486328125,2.825087494112747],[103.63677978515625,2.657737790139801]]}},{\"type\":\"Feature\",\"properties\":{\"name\":\"pngprk\"},\"geometry\":{\"type\":\"LineString\",\"coordinates\":[[100.49297332763672,5.130269333425149],[100.40800094604492,5.122404495007067],[100.39512634277344,5.12684985036153]]}},{\"type\":\"Feature\",\"properties\":{\"name\":\"pngocn\"},\"geometry\":{\"type\":\"LineString\",\"coordinates\":[[100.39512634277344,5.12684985036153],[100.426025390625,5.170617846603283],[100.41744232177734,5.1771144012990025],[100.42259216308594,5.2099380764808165],[100.43014526367188,5.21062188485271],[100.42396545410156,5.2160923250270645],[100.41744232177734,5.253016546575951],[100.40542602539062,5.266691629829084],[100.41984558105469,5.281050143427336],[100.40302276611328,5.324465526541803],[100.40782928466797,5.34053186091324],[100.37590026855469,5.366510573807866],[100.36182403564453,5.400349605400035],[100.38036346435547,5.444440052556253],[100.37555694580078,5.519967320385653],[100.36079406738281,5.56063187274727],[100.33676147460938,5.571224699025414],[100.33882141113281,5.578058679140624]]}},{\"type\":\"Feature\",\"properties\":{\"name\":\"pngocn2\"},\"geometry\":{\"type\":\"LineString\",\"coordinates\":[[100.2560806274414,5.48135049935684],[100.3106689453125,5.461186740762024],[100.30723571777344,5.443756504342702],[100.31684875488281,5.4307689407374555],[100.34568786621094,5.419148251825298],[100.31787872314453,5.38360122920073],[100.31478881835938,5.349077611950107],[100.29899597167969,5.311475417249036],[100.29487609863281,5.289596719861882],[100.28251647949219,5.271819708524299],[100.28217315673828,5.257460981586817],[100.27462005615234,5.257802859889371],[100.26432037353516,5.276605877098563],[100.25367736816406,5.281050143427336],[100.24646759033203,5.273870928146757],[100.23273468017578,5.287545552274799],[100.22346496582031,5.286519965932653],[100.22140502929688,5.278657080900396],[100.21041870117188,5.281733873881161],[100.20423889160156,5.278657080900396],[100.19668579101562,5.28139200874852],[100.18878936767578,5.280024546332537],[100.1846694946289,5.265324135029863],[100.17677307128906,5.282759468147595],[100.1846694946289,5.305663963878624],[100.19634246826172,5.308398772287265],[100.18501281738281,5.375397774474748],[100.1956558227539,5.42154076489493],[100.18844604492188,5.423249696996985],[100.18844604492188,5.429743594839544],[100.17745971679688,5.434186747796526],[100.18226623535156,5.463579086623941],[100.1736831665039,5.47212310096503],[100.18741607666016,5.477932961011244],[100.18707275390625,5.472464859001194],[100.19599914550781,5.472464859001194],[100.20355224609375,5.4680219893020325],[100.20252227783203,5.460503211618596],[100.21728515625,5.461186740762024],[100.24028778076172,5.465287899247416],[100.2560806274414,5.48135049935684]]}},{\"type\":\"Feature\",\"properties\":{\"name\":\"prksgr\"},\"geometry\":{\"type\":\"LineString\",\"coordinates\":[[101.62559509277344,3.7721057944916154],[101.60430908203125,3.775188999883099],[101.55830383300781,3.7025594950014833],[101.52397155761719,3.686114247391014],[101.47384643554688,3.7094115914342294],[101.44432067871094,3.7491527000118943],[101.38801574707031,3.7738186877268247],[101.37565612792969,3.8005393838879877],[101.32415771484375,3.7875217118824356],[101.32621765136719,3.7525785733538966],[101.34681701660156,3.7114672100088426],[101.33926391601562,3.6915960304496886],[101.27883911132812,3.6676129804054955],[101.24588012695312,3.67652104576468],[101.24794006347656,3.7176340370180236],[101.21223449707031,3.7114672100088426],[101.13739013671875,3.736134258997468],[101.07353210449219,3.734078698004927],[101.09001159667969,3.7820405282110454],[101.05705261230469,3.7525785733538966],[101.0577392578125,3.7971136997497155],[101.03370666503906,3.788206857401627],[101.02684020996094,3.803279921402881],[100.98976135253906,3.7998542481484288],[100.98152160644531,3.766967094534875],[100.95474243164062,3.794373142650989],[100.97740173339844,3.8080758410818984],[100.97602844238281,3.8252039072906054],[100.93757629394531,3.8320550380029967],[100.94581604003906,3.8711054323536813],[100.81535339355469,3.8498677208078966]]}},{\"type\":\"Feature\",\"properties\":{\"name\":\"prktha\"},\"geometry\":{\"type\":\"LineString\",\"coordinates\":[[100.98770141601562,5.782699056797093],[101.0302734375,5.737609279566581],[101.0577392578125,5.744441293870621],[101.08383178710938,5.719845659536203],[101.13876342773438,5.614619118148333],[101.21978759765625,5.673384357214508],[101.26373291015625,5.721212111452892],[101.24725341796875,5.759471436737133],[101.27883911132812,5.81548936672875],[101.34613037109375,5.810024447507327],[101.39419555664062,5.872867803938926],[101.48483276367188,5.872867803938926],[101.50405883789062,5.889260560133938],[101.52053833007812,5.901554809878024],[101.5850830078125,5.937069997652513],[101.60018920898438,5.912482802972586],[101.6290283203125,5.875599963510307],[101.66061401367188,5.870135630966354],[101.65924072265625,5.8127569137510084],[101.67434692382812,5.78133275256497],[101.69151306152344,5.754689161638781]]}},{\"type\":\"Feature\",\"properties\":{\"name\":\"prkocn\"},\"geometry\":{\"type\":\"LineString\",\"coordinates\":[[100.81535339355469,3.8498677208078966],[100.7611083984375,3.8423316311549156],[100.70205688476562,3.887547165937548],[100.69931030273438,4.005370126452015],[100.755615234375,3.9944105590203094],[100.77072143554688,4.083452772038618],[100.68283081054688,4.172485107214793],[100.6182861328125,4.164267157329303],[100.56747436523438,4.317654555961833],[100.579833984375,4.428567261769],[100.61004638671875,4.425828874929916],[100.62103271484375,4.55862885008969],[100.57296752929688,4.5736871052598405],[100.59906005859375,4.647604837557583],[100.64300537109375,4.666767433658992],[100.5908203125,4.67224236512012],[100.5743408203125,4.761203973454314],[100.61416625976562,4.784468966579375],[100.56472778320312,4.787205972686519],[100.546875,4.856995911706461],[100.54412841796875,4.877520994381813],[100.513916015625,4.858364270018912],[100.47409057617188,4.878889310947334],[100.48233032226562,4.908991568317266],[100.4974365234375,4.917201039484742],[100.47271728515625,4.929515056440089],[100.43701171875,4.911728069940156],[100.41641235351562,4.999290157749913],[100.382080078125,5.043066825264798],[100.36869049072266,5.071109703485642],[100.360107421875,5.090602206561457],[100.36457061767578,5.103254918829327],[100.3817367553711,5.10770040717759],[100.39512634277344,5.12684985036153]]}},{\"type\":\"Feature\",\"properties\":{\"name\":\"plstha\"},\"geometry\":{\"type\":\"LineString\",\"coordinates\":[[100.11978149414062,6.416295478228903],[100.15823364257812,6.47633824336597],[100.15960693359375,6.577303118123887],[100.18295288085938,6.577303118123887],[100.16510009765625,6.649603211327936],[100.17745971679688,6.655059391963758],[100.17059326171875,6.6973427326643975],[100.20217895507812,6.725984205760017],[100.23239135742188,6.6891591455092305],[100.29281616210938,6.7096178559963855],[100.32440185546875,6.664607562172585],[100.3106689453125,6.6032232351609315],[100.36697387695312,6.541831294229476]]}},{\"type\":\"Feature\",\"properties\":{\"name\":\"plsocn\"},\"geometry\":{\"type\":\"LineString\",\"coordinates\":[[100.19668579101562,6.259332270466327],[100.16853332519531,6.290046212074113],[100.11978149414062,6.416295478228903]]}},{\"type\":\"Feature\",\"properties\":{\"name\":\"sbhsrw\"},\"geometry\":{\"type\":\"LineString\",\"coordinates\":[[115.66680908203125,4.110848398717305],[115.6201171875,4.176594049922342],[115.66680908203125,4.3162851611340916],[115.576171875,4.362843194361932],[115.54046630859375,4.609278084409835],[115.65582275390625,4.773520832778673],[115.6036376953125,4.984241251218716],[115.4058837890625,4.965087599019953]]}},{\"type\":\"Feature\",\"properties\":{\"name\":\"sbhind\"},\"geometry\":{\"type\":\"LineString\",\"coordinates\":[[117.59490966796875,4.1711154548674365],[117.45208740234375,4.184811870761927],[117.24609375,4.373797607393285],[117.015380859375,4.327240250522992],[116.56219482421875,4.376536185637297],[116.43035888671875,4.294374508461326],[116.356201171875,4.384751860236625],[116.15570068359375,4.3820133120651885],[116.0760498046875,4.2724632265837155],[115.8837890625,4.384751860236625],[115.80963134765625,4.220421429014592],[115.7574462890625,4.245073244271904],[115.66680908203125,4.110848398717305]]}},{\"type\":\"Feature\",\"properties\":{\"name\":\"sbhocn\"},\"geometry\":{\"type\":\"LineString\",\"coordinates\":[[115.4058837890625,4.965087599019953],[115.55419921875,5.134714634014455],[115.3509521484375,5.315235740232144],[115.59814453125,5.61598581915534],[115.72998046875,5.517575200830634],[115.872802734375,5.5831841119897],[115.8837890625,5.7362428668801515],[116.0321044921875,5.818221806434406],[116.103515625,6.151477964207555],[116.6583251953125,6.724620364318773],[116.751708984375,7.046379130937713],[116.8121337890625,6.920973741554143],[116.751708984375,6.588217016715769],[116.9879150390625,6.68097542126577],[117.059326171875,6.975501953620171],[117.13623046875,7.002763681982747],[117.24609375,6.926426847059551],[117.301025390625,6.604587414293256],[117.454833984375,6.56638897982234],[117.5152587890625,6.610044093207648],[117.7239990234375,6.435400765132349],[117.7239990234375,6.227933930268672],[117.57568359375,6.167862315899158],[117.674560546875,5.894724704759804],[118.0206298828125,6.058623804918194],[118.125,5.8564745653004975],[119.02587890625,5.408210928590842],[119.11376953125,5.462895560209557],[119.234619140625,5.386335689520536],[119.267578125,5.194894104202499],[119.0533447265625,5.058114374355714],[118.487548828125,4.915832801313178],[118.333740234375,5.019810836520873],[118.125,4.888467448761478],[118.2733154296875,4.642129714308486],[118.7677001953125,4.444997369727273],[118.5205078125,4.357365927900159],[117.960205078125,4.220421429014592],[117.61962890625,4.379274753863339],[117.6470947265625,4.269724272266757],[117.59490966796875,4.1711154548674365]]}},{\"type\":\"Feature\",\"properties\":{\"name\":\"srwbru\"},\"geometry\":{\"type\":\"LineString\",\"coordinates\":[[114.0875244140625,4.587376153449703],[114.246826171875,4.521666342614791],[114.3292236328125,4.253290341301236],[114.444580078125,4.269724272266757],[114.620361328125,4.01221978158204],[114.80712890625,4.132764222542468],[114.89501953125,4.4066598837670155],[114.8236083984375,4.439520707701916],[114.7576904296875,4.729726554568915],[114.9664306640625,4.822786053407],[115.02273559570312,4.888467448761478]]}},{\"type\":\"Feature\",\"properties\":{\"name\":\"srwbru2\"},\"geometry\":{\"type\":\"LineString\",\"coordinates\":[[115.03509521484375,4.8200491901285805],[115.05157470703125,4.788574471634383],[115.02685546875,4.748886893593447],[115.09963989257812,4.376536185637297],[115.29327392578125,4.335456463573485],[115.323486328125,4.294374508461326],[115.36605834960938,4.343672587302042],[115.27816772460938,4.4367823614446475],[115.27130126953125,4.572318186037985],[115.28366088867188,4.636654548576402],[115.23422241210938,4.761203973454314],[115.23284912109375,4.807733169042804],[115.15594482421875,4.874784352885875],[115.15182495117188,4.911728069940156]]}},{\"type\":\"Feature\",\"properties\":{\"name\":\"srwind\"},\"geometry\":{\"type\":\"LineString\",\"coordinates\":[[115.66680908203125,4.110848398717305],[115.6365966796875,3.9409805788555237],[115.54595947265625,3.916319427417973],[115.61737060546875,3.8697352734583754],[115.5816650390625,3.5984011571929413],[115.65032958984375,3.428433194748928],[115.5706787109375,3.4421414283846428],[115.5157470703125,3.2035907009049684],[115.56793212890625,3.1651979259496397],[115.499267578125,3.0225838706983703],[115.3179931640625,2.964984369333955],[115.29327392578125,3.033554859424751],[115.23284912109375,2.9540126939036693],[115.15869140625,2.9402979471996913],[115.0872802734375,2.833317196855306],[115.1531982421875,2.7976547312991262],[115.09002685546875,2.70712209411511],[115.08453369140625,2.5836576407312384],[115.24932861328125,2.5370123584000144],[115.20263671875,2.4821334037305633],[115.09002685546875,2.4354844986819995],[114.9884033203125,2.3476704372328667],[114.95819091796875,2.3723687086440632],[114.9554443359375,2.303761324344858],[114.90325927734375,2.2543619554345344],[114.80712890625,2.273573022378629],[114.77691650390625,2.111643378566517],[114.8016357421875,2.018320242987037],[114.88128662109375,2.037534275777126],[114.8455810546875,1.9332268264771233],[114.884033203125,1.916756634399981],[114.78515625,1.8591097232781972],[114.71649169921875,1.8563645848502908],[114.6917724609375,1.8124417945380265],[114.7137451171875,1.7108663042007148],[114.620361328125,1.5735936415541505],[114.56268310546875,1.4335662226731178],[114.39239501953125,1.5131907609694377],[114.20562744140625,1.4061088354351594],[114.15618896484375,1.4610232806227414],[113.80462646484375,1.370413750103144],[113.82110595703125,1.2962761196418089],[113.60687255859375,1.208406497271858],[113.565673828125,1.29902199728267],[113.4228515625,1.2852925793638672],[113.33770751953125,1.370413750103144],[113.148193359375,1.3841426927920155],[113.11248779296875,1.4335662226731178],[112.9559326171875,1.4088545887973347],[113.07952880859375,1.5433924157292807],[112.884521484375,1.587321327409907],[112.83233642578125,1.5433924157292807],[112.48077392578125,1.5845757975049797],[112.2088623046875,1.436311943390029],[112.15118408203125,1.1315182387740395],[111.92596435546875,1.1122958503051603],[111.83258056640625,0.9914666286542503],[111.6595458984375,1.0299127940481296],[111.533203125,0.9557662177941483],[111.4837646484375,1.0354050659349443],[111.214599609375,1.07934289424622],[110.90423583984375,1.0189282219308977],[110.81634521484375,0.9337965488500171],[110.7147216796875,0.9035880305130932],[110.58013916015625,0.8623941932270406],[110.42633056640625,0.917319206857084],[110.390625,0.9942127983364538],[110.28076171875,0.9969589657344593],[110.19012451171875,1.186438639445215],[110.06927490234375,1.208406497271858],[110.06378173828125,1.257833522873487],[109.98138427734375,1.29902199728267],[109.95391845703125,1.4006173190275337],[109.84130859375,1.4280747713669428],[109.84405517578125,1.4829886856602814],[109.8028564453125,1.4720060101903478],[109.6600341796875,1.6202674001017445],[109.68475341796875,1.7822442565660426],[109.57763671875,1.8014609294680228],[109.5281982421875,1.9222467160981036],[109.54742431640625,1.9689116926042782],[109.61883544921875,1.9826364384297377],[109.6435546875,2.054003264372146]]}},{\"type\":\"Feature\",\"properties\":{\"name\":\"srwocn\"},\"geometry\":{\"type\":\"LineString\",\"coordinates\":[[109.6435546875,2.054003264372146],[109.6600341796875,1.9277367801405985],[109.9676513671875,1.6751763250632035],[110.4840087890625,1.7245930431979002],[110.489501953125,1.5928123762763127],[110.7586669921875,1.526918838498519],[110.80810546875,1.6037944300589853],[111.0003662109375,1.5049538726942067],[111.016845703125,1.6587038068676119],[111.148681640625,1.7136116598836222],[111.0992431640625,1.7794990011582255],[111.1981201171875,2.097919733594924],[111.1981201171875,2.3888339781603767],[111.2750244140625,2.4217639236659676],[111.29150390625,2.778451415046852],[111.3629150390625,2.761991180991834],[111.4013671875,2.635788574166606],[111.6595458984375,2.8223442468940902],[112.1429443359375,2.9375549775994263],[112.9833984375,3.1405161039832485],[113.455810546875,3.7601154473968887],[113.807373046875,4.12180638614224],[113.97216796875,4.324501493019203],[113.9666748046875,4.587376153449703],[114.0875244140625,4.587376153449703]]}},{\"type\":\"Feature\",\"properties\":{\"name\":\"srwocn2\"},\"geometry\":{\"type\":\"LineString\",\"coordinates\":[[115.02273559570312,4.888467448761478],[115.03509521484375,4.8200491901285805]]}},{\"type\":\"Feature\",\"properties\":{\"name\":\"srwocn3\"},\"geometry\":{\"type\":\"LineString\",\"coordinates\":[[115.15182495117188,4.911728069940156],[115.12710571289062,4.922673964053053],[115.17654418945312,4.941828845138605],[115.1751708984375,4.9691919999638765],[115.23696899414062,4.97603261138461],[115.24383544921875,4.9267786279338255],[115.3289794921875,4.910359820532277],[115.37704467773438,4.9267786279338255],[115.4058837890625,4.965087599019953]]}},{\"type\":\"Feature\",\"properties\":{\"name\":\"sgrocn\"},\"geometry\":{\"type\":\"LineString\",\"coordinates\":[[101.71365737915039,2.5944612679982164],[101.69082641601562,2.593946811647018],[101.67915344238281,2.612467108127345],[101.47659301757812,2.6934044322117434],[101.40449523925781,2.80519880532456],[101.29051208496094,2.83674622240826],[101.282958984375,2.8785795116783914],[101.26853942871094,2.892980781617026],[101.32072448730469,2.97184161124346],[101.36054992675781,2.9992701518463143],[101.35780334472656,3.0740094150971933],[101.31797790527344,3.1158336986312736],[101.304931640625,3.2262143415628146],[101.29531860351562,3.257063948486102],[101.26235961914062,3.3119053545330193],[101.22734069824219,3.3358975174935677],[101.18614196777344,3.351663477428642],[101.16897583007812,3.3934763114477224],[101.12983703613281,3.4469392635919016],[101.0906982421875,3.5024553022772564],[101.05430603027344,3.5990864487078116],[100.98014831542969,3.6703539330584847],[100.92864990234375,3.6888551431470478],[100.89500427246094,3.751893399759923],[100.86273193359375,3.7717632154393685],[100.81947326660156,3.7786147708110622],[100.80642700195312,3.805335318820754],[100.81535339355469,3.8498677208078966]]}},{\"type\":\"Feature\",\"properties\":{\"name\":\"trgocn\"},\"geometry\":{\"type\":\"LineString\",\"coordinates\":[[102.53565788269043,5.845887009566105],[102.56355285644531,5.830517620702843],[102.601318359375,5.806608846056875],[102.62809753417969,5.782015905093423],[102.68028259277344,5.708913926756642],[102.75306701660156,5.651518917890183],[102.83477783203125,5.585917657852072],[102.91717529296875,5.53466155717992],[102.94807434082031,5.536028444378849],[102.98103332519531,5.518258664545268],[103.09982299804688,5.408210928590842],[103.13621520996094,5.352154053118358],[103.11286926269531,5.327542091197393],[103.1451416015625,5.34053186091324],[103.19046020507812,5.26874286638652],[103.17878723144531,5.261221632588126],[103.21861267089844,5.199680861659616],[103.32435607910156,4.988687554982818],[103.4256362915039,4.8128648715884115],[103.42288970947266,4.809101626836567],[103.44074249267578,4.78173194952882],[103.4194564819336,4.786521722186024],[103.39027404785156,4.776257882622261],[103.42391967773438,4.778652792273864],[103.42048645019531,4.764625345412502],[103.44589233398438,4.70748621068869],[103.44898223876953,4.688666902768201],[103.44623565673828,4.676690715452053],[103.45035552978516,4.655133062567141],[103.43936920166016,4.659581521313726],[103.43181610107422,4.654106491169273],[103.436279296875,4.64281410703892],[103.46820831298828,4.562735678291754],[103.47644805908203,4.526457885478493],[103.4688949584961,4.5161902548267125],[103.4527587890625,4.515505740945439],[103.44417572021484,4.471695513434129],[103.45619201660156,4.433701709767374],[103.45447540283203,4.392967444506265],[103.49361419677734,4.324159147635031],[103.48365783691406,4.290608551578638],[103.4747314453125,4.286157851321027],[103.4743881225586,4.257056481493171],[103.46202850341797,4.257398856960772],[103.4585952758789,4.237540828481109],[103.45344543457031,4.23651367518552],[103.44589233398438,4.243703719591427],[103.43971252441406,4.212203983099352],[103.44657897949219,4.182072606722745],[103.44005584716797,4.1718002813396415],[103.43524932861328,4.176594049922342],[103.42117309570312,4.175566816261949]]}}]},\"locations\":[\"Kuala Lumpur\",\"Petaling Jaya\",\"Selangor\",\"Penang\",\"Bayan Lepas\",\"Malaysia\",\"Cyberjaya\",\"Shah Alam/Subang\",\"George Town\",\"Singapore\"],\"marker\":{\"line\":{\"color\":\"white\",\"width\":0.5}},\"z\":[1443,322,263,160,120,115,99,86,82,72],\"type\":\"choropleth\"}],                        {\"template\":{\"data\":{\"histogram2dcontour\":[{\"type\":\"histogram2dcontour\",\"colorbar\":{\"outlinewidth\":0,\"ticks\":\"\"},\"colorscale\":[[0.0,\"#0d0887\"],[0.1111111111111111,\"#46039f\"],[0.2222222222222222,\"#7201a8\"],[0.3333333333333333,\"#9c179e\"],[0.4444444444444444,\"#bd3786\"],[0.5555555555555556,\"#d8576b\"],[0.6666666666666666,\"#ed7953\"],[0.7777777777777778,\"#fb9f3a\"],[0.8888888888888888,\"#fdca26\"],[1.0,\"#f0f921\"]]}],\"choropleth\":[{\"type\":\"choropleth\",\"colorbar\":{\"outlinewidth\":0,\"ticks\":\"\"}}],\"histogram2d\":[{\"type\":\"histogram2d\",\"colorbar\":{\"outlinewidth\":0,\"ticks\":\"\"},\"colorscale\":[[0.0,\"#0d0887\"],[0.1111111111111111,\"#46039f\"],[0.2222222222222222,\"#7201a8\"],[0.3333333333333333,\"#9c179e\"],[0.4444444444444444,\"#bd3786\"],[0.5555555555555556,\"#d8576b\"],[0.6666666666666666,\"#ed7953\"],[0.7777777777777778,\"#fb9f3a\"],[0.8888888888888888,\"#fdca26\"],[1.0,\"#f0f921\"]]}],\"heatmap\":[{\"type\":\"heatmap\",\"colorbar\":{\"outlinewidth\":0,\"ticks\":\"\"},\"colorscale\":[[0.0,\"#0d0887\"],[0.1111111111111111,\"#46039f\"],[0.2222222222222222,\"#7201a8\"],[0.3333333333333333,\"#9c179e\"],[0.4444444444444444,\"#bd3786\"],[0.5555555555555556,\"#d8576b\"],[0.6666666666666666,\"#ed7953\"],[0.7777777777777778,\"#fb9f3a\"],[0.8888888888888888,\"#fdca26\"],[1.0,\"#f0f921\"]]}],\"heatmapgl\":[{\"type\":\"heatmapgl\",\"colorbar\":{\"outlinewidth\":0,\"ticks\":\"\"},\"colorscale\":[[0.0,\"#0d0887\"],[0.1111111111111111,\"#46039f\"],[0.2222222222222222,\"#7201a8\"],[0.3333333333333333,\"#9c179e\"],[0.4444444444444444,\"#bd3786\"],[0.5555555555555556,\"#d8576b\"],[0.6666666666666666,\"#ed7953\"],[0.7777777777777778,\"#fb9f3a\"],[0.8888888888888888,\"#fdca26\"],[1.0,\"#f0f921\"]]}],\"contourcarpet\":[{\"type\":\"contourcarpet\",\"colorbar\":{\"outlinewidth\":0,\"ticks\":\"\"}}],\"contour\":[{\"type\":\"contour\",\"colorbar\":{\"outlinewidth\":0,\"ticks\":\"\"},\"colorscale\":[[0.0,\"#0d0887\"],[0.1111111111111111,\"#46039f\"],[0.2222222222222222,\"#7201a8\"],[0.3333333333333333,\"#9c179e\"],[0.4444444444444444,\"#bd3786\"],[0.5555555555555556,\"#d8576b\"],[0.6666666666666666,\"#ed7953\"],[0.7777777777777778,\"#fb9f3a\"],[0.8888888888888888,\"#fdca26\"],[1.0,\"#f0f921\"]]}],\"surface\":[{\"type\":\"surface\",\"colorbar\":{\"outlinewidth\":0,\"ticks\":\"\"},\"colorscale\":[[0.0,\"#0d0887\"],[0.1111111111111111,\"#46039f\"],[0.2222222222222222,\"#7201a8\"],[0.3333333333333333,\"#9c179e\"],[0.4444444444444444,\"#bd3786\"],[0.5555555555555556,\"#d8576b\"],[0.6666666666666666,\"#ed7953\"],[0.7777777777777778,\"#fb9f3a\"],[0.8888888888888888,\"#fdca26\"],[1.0,\"#f0f921\"]]}],\"mesh3d\":[{\"type\":\"mesh3d\",\"colorbar\":{\"outlinewidth\":0,\"ticks\":\"\"}}],\"scatter\":[{\"fillpattern\":{\"fillmode\":\"overlay\",\"size\":10,\"solidity\":0.2},\"type\":\"scatter\"}],\"parcoords\":[{\"type\":\"parcoords\",\"line\":{\"colorbar\":{\"outlinewidth\":0,\"ticks\":\"\"}}}],\"scatterpolargl\":[{\"type\":\"scatterpolargl\",\"marker\":{\"colorbar\":{\"outlinewidth\":0,\"ticks\":\"\"}}}],\"bar\":[{\"error_x\":{\"color\":\"#2a3f5f\"},\"error_y\":{\"color\":\"#2a3f5f\"},\"marker\":{\"line\":{\"color\":\"#E5ECF6\",\"width\":0.5},\"pattern\":{\"fillmode\":\"overlay\",\"size\":10,\"solidity\":0.2}},\"type\":\"bar\"}],\"scattergeo\":[{\"type\":\"scattergeo\",\"marker\":{\"colorbar\":{\"outlinewidth\":0,\"ticks\":\"\"}}}],\"scatterpolar\":[{\"type\":\"scatterpolar\",\"marker\":{\"colorbar\":{\"outlinewidth\":0,\"ticks\":\"\"}}}],\"histogram\":[{\"marker\":{\"pattern\":{\"fillmode\":\"overlay\",\"size\":10,\"solidity\":0.2}},\"type\":\"histogram\"}],\"scattergl\":[{\"type\":\"scattergl\",\"marker\":{\"colorbar\":{\"outlinewidth\":0,\"ticks\":\"\"}}}],\"scatter3d\":[{\"type\":\"scatter3d\",\"line\":{\"colorbar\":{\"outlinewidth\":0,\"ticks\":\"\"}},\"marker\":{\"colorbar\":{\"outlinewidth\":0,\"ticks\":\"\"}}}],\"scattermapbox\":[{\"type\":\"scattermapbox\",\"marker\":{\"colorbar\":{\"outlinewidth\":0,\"ticks\":\"\"}}}],\"scatterternary\":[{\"type\":\"scatterternary\",\"marker\":{\"colorbar\":{\"outlinewidth\":0,\"ticks\":\"\"}}}],\"scattercarpet\":[{\"type\":\"scattercarpet\",\"marker\":{\"colorbar\":{\"outlinewidth\":0,\"ticks\":\"\"}}}],\"carpet\":[{\"aaxis\":{\"endlinecolor\":\"#2a3f5f\",\"gridcolor\":\"white\",\"linecolor\":\"white\",\"minorgridcolor\":\"white\",\"startlinecolor\":\"#2a3f5f\"},\"baxis\":{\"endlinecolor\":\"#2a3f5f\",\"gridcolor\":\"white\",\"linecolor\":\"white\",\"minorgridcolor\":\"white\",\"startlinecolor\":\"#2a3f5f\"},\"type\":\"carpet\"}],\"table\":[{\"cells\":{\"fill\":{\"color\":\"#EBF0F8\"},\"line\":{\"color\":\"white\"}},\"header\":{\"fill\":{\"color\":\"#C8D4E3\"},\"line\":{\"color\":\"white\"}},\"type\":\"table\"}],\"barpolar\":[{\"marker\":{\"line\":{\"color\":\"#E5ECF6\",\"width\":0.5},\"pattern\":{\"fillmode\":\"overlay\",\"size\":10,\"solidity\":0.2}},\"type\":\"barpolar\"}],\"pie\":[{\"automargin\":true,\"type\":\"pie\"}]},\"layout\":{\"autotypenumbers\":\"strict\",\"colorway\":[\"#636efa\",\"#EF553B\",\"#00cc96\",\"#ab63fa\",\"#FFA15A\",\"#19d3f3\",\"#FF6692\",\"#B6E880\",\"#FF97FF\",\"#FECB52\"],\"font\":{\"color\":\"#2a3f5f\"},\"hovermode\":\"closest\",\"hoverlabel\":{\"align\":\"left\"},\"paper_bgcolor\":\"white\",\"plot_bgcolor\":\"#E5ECF6\",\"polar\":{\"bgcolor\":\"#E5ECF6\",\"angularaxis\":{\"gridcolor\":\"white\",\"linecolor\":\"white\",\"ticks\":\"\"},\"radialaxis\":{\"gridcolor\":\"white\",\"linecolor\":\"white\",\"ticks\":\"\"}},\"ternary\":{\"bgcolor\":\"#E5ECF6\",\"aaxis\":{\"gridcolor\":\"white\",\"linecolor\":\"white\",\"ticks\":\"\"},\"baxis\":{\"gridcolor\":\"white\",\"linecolor\":\"white\",\"ticks\":\"\"},\"caxis\":{\"gridcolor\":\"white\",\"linecolor\":\"white\",\"ticks\":\"\"}},\"coloraxis\":{\"colorbar\":{\"outlinewidth\":0,\"ticks\":\"\"}},\"colorscale\":{\"sequential\":[[0.0,\"#0d0887\"],[0.1111111111111111,\"#46039f\"],[0.2222222222222222,\"#7201a8\"],[0.3333333333333333,\"#9c179e\"],[0.4444444444444444,\"#bd3786\"],[0.5555555555555556,\"#d8576b\"],[0.6666666666666666,\"#ed7953\"],[0.7777777777777778,\"#fb9f3a\"],[0.8888888888888888,\"#fdca26\"],[1.0,\"#f0f921\"]],\"sequentialminus\":[[0.0,\"#0d0887\"],[0.1111111111111111,\"#46039f\"],[0.2222222222222222,\"#7201a8\"],[0.3333333333333333,\"#9c179e\"],[0.4444444444444444,\"#bd3786\"],[0.5555555555555556,\"#d8576b\"],[0.6666666666666666,\"#ed7953\"],[0.7777777777777778,\"#fb9f3a\"],[0.8888888888888888,\"#fdca26\"],[1.0,\"#f0f921\"]],\"diverging\":[[0,\"#8e0152\"],[0.1,\"#c51b7d\"],[0.2,\"#de77ae\"],[0.3,\"#f1b6da\"],[0.4,\"#fde0ef\"],[0.5,\"#f7f7f7\"],[0.6,\"#e6f5d0\"],[0.7,\"#b8e186\"],[0.8,\"#7fbc41\"],[0.9,\"#4d9221\"],[1,\"#276419\"]]},\"xaxis\":{\"gridcolor\":\"white\",\"linecolor\":\"white\",\"ticks\":\"\",\"title\":{\"standoff\":15},\"zerolinecolor\":\"white\",\"automargin\":true,\"zerolinewidth\":2},\"yaxis\":{\"gridcolor\":\"white\",\"linecolor\":\"white\",\"ticks\":\"\",\"title\":{\"standoff\":15},\"zerolinecolor\":\"white\",\"automargin\":true,\"zerolinewidth\":2},\"scene\":{\"xaxis\":{\"backgroundcolor\":\"#E5ECF6\",\"gridcolor\":\"white\",\"linecolor\":\"white\",\"showbackground\":true,\"ticks\":\"\",\"zerolinecolor\":\"white\",\"gridwidth\":2},\"yaxis\":{\"backgroundcolor\":\"#E5ECF6\",\"gridcolor\":\"white\",\"linecolor\":\"white\",\"showbackground\":true,\"ticks\":\"\",\"zerolinecolor\":\"white\",\"gridwidth\":2},\"zaxis\":{\"backgroundcolor\":\"#E5ECF6\",\"gridcolor\":\"white\",\"linecolor\":\"white\",\"showbackground\":true,\"ticks\":\"\",\"zerolinecolor\":\"white\",\"gridwidth\":2}},\"shapedefaults\":{\"line\":{\"color\":\"#2a3f5f\"}},\"annotationdefaults\":{\"arrowcolor\":\"#2a3f5f\",\"arrowhead\":0,\"arrowwidth\":1},\"geo\":{\"bgcolor\":\"white\",\"landcolor\":\"#E5ECF6\",\"subunitcolor\":\"white\",\"showland\":true,\"showlakes\":true,\"lakecolor\":\"white\"},\"title\":{\"x\":0.05},\"mapbox\":{\"style\":\"light\"}}},\"title\":{\"text\":\"Job postings by location\",\"x\":0.5,\"font\":{\"size\":20}}},                        {\"responsive\": true}                    ).then(function(){\n",
       "                            \n",
       "var gd = document.getElementById('d28afe1c-69df-4f01-9eeb-b1da76774c18');\n",
       "var x = new MutationObserver(function (mutations, observer) {{\n",
       "        var display = window.getComputedStyle(gd).display;\n",
       "        if (!display || display === 'none') {{\n",
       "            console.log([gd, 'removed!']);\n",
       "            Plotly.purge(gd);\n",
       "            observer.disconnect();\n",
       "        }}\n",
       "}});\n",
       "\n",
       "// Listen for the removal of the full notebook cells\n",
       "var notebookContainer = gd.closest('#notebook-container');\n",
       "if (notebookContainer) {{\n",
       "    x.observe(notebookContainer, {childList: true});\n",
       "}}\n",
       "\n",
       "// Listen for the clearing of the current output cell\n",
       "var outputEl = gd.closest('.output');\n",
       "if (outputEl) {{\n",
       "    x.observe(outputEl, {childList: true});\n",
       "}}\n",
       "\n",
       "                        })                };                });            </script>        </div>"
      ]
     },
     "metadata": {},
     "output_type": "display_data"
    }
   ],
   "source": [
    "# Load the GeoJSON file\n",
    "with open('malaysia.geojson', 'r') as f:\n",
    "    geo_data = json.load(f)\n",
    "\n",
    "# Get the top 10 locations and their counts\n",
    "top_10_locations = sorted_locations[:10]\n",
    "locations = [location for location, count in top_10_locations]\n",
    "counts = [count for location, count in top_10_locations]\n",
    "\n",
    "# Create the choropleth map\n",
    "fig = go.Figure(data=go.Choropleth(\n",
    "    locations=locations,\n",
    "    z=counts,\n",
    "    geojson=geo_data,\n",
    "    colorscale='Blues',\n",
    "    marker_line_color='white',\n",
    "    marker_line_width=0.5\n",
    "))\n",
    "\n",
    "# Add labels to the map\n",
    "fig.update_layout(title='Job postings by location', title_x=0.5, title_font_size=20)\n",
    "\n",
    "# Show the map\n",
    "fig.show()"
   ]
  },
  {
   "cell_type": "code",
   "execution_count": 14,
   "id": "b84122cc-c29e-452c-a7a1-9709be2834d9",
   "metadata": {},
   "outputs": [
    {
     "data": {
      "text/plain": [
       "AirAsia                            85\n",
       "CIMB Niaga                         70\n",
       "TRUST RECRUIT PTE. LTD.            66\n",
       "Western Digital                    40\n",
       "Ambition Group Malaysia Sdn Bhd    38\n",
       "                                   ..\n",
       "Hovid Bhd                           2\n",
       "G-mart Borneo Retail                1\n",
       "Temasek Allied Engineering          1\n",
       "Edwards Lifesciences                1\n",
       "YONGPENG SOLUTIONS SDN. BHD.        1\n",
       "Name: company, Length: 1021, dtype: int64"
      ]
     },
     "execution_count": 14,
     "metadata": {},
     "output_type": "execute_result"
    }
   ],
   "source": [
    "company_counts = df['company'].value_counts()\n",
    "company_counts"
   ]
  },
  {
   "cell_type": "code",
   "execution_count": 15,
   "id": "ae2211dd-3893-4bf1-99fa-b40420c94bc6",
   "metadata": {},
   "outputs": [
    {
     "data": {
      "text/plain": [
       "AirAsia                                          85\n",
       "CIMB Niaga                                       70\n",
       "TRUST RECRUIT PTE. LTD.                          66\n",
       "Western Digital                                  40\n",
       "Ambition Group Malaysia Sdn Bhd                  38\n",
       "Company Confidential                             32\n",
       "Michael Page International (Malaysia) Sdn Bhd    28\n",
       "RK Recruitment Pte. Ltd.                         24\n",
       "Vision Technology Consulting                     22\n",
       "RHB Bank                                         21\n",
       "Name: company, dtype: int64"
      ]
     },
     "execution_count": 15,
     "metadata": {},
     "output_type": "execute_result"
    }
   ],
   "source": [
    "top_10_companies = company_counts.head(10)\n",
    "top_10_companies"
   ]
  },
  {
   "cell_type": "code",
   "execution_count": 27,
   "id": "8b001d40-a99f-4dbf-98c6-c2b0823160ca",
   "metadata": {},
   "outputs": [
    {
     "data": {
      "application/vnd.plotly.v1+json": {
       "config": {
        "plotlyServerURL": "https://plot.ly"
       },
       "data": [
        {
         "alignmentgroup": "True",
         "hovertemplate": "index=%{x}<br>company=%{y}<extra></extra>",
         "legendgroup": "",
         "marker": {
          "color": "#636efa",
          "pattern": {
           "shape": ""
          }
         },
         "name": "",
         "offsetgroup": "",
         "orientation": "v",
         "showlegend": false,
         "textposition": "auto",
         "type": "bar",
         "x": [
          "AirAsia",
          "CIMB Niaga",
          "TRUST RECRUIT PTE. LTD.",
          "Western Digital",
          "Ambition Group Malaysia Sdn Bhd",
          "Company Confidential",
          "Michael Page International (Malaysia) Sdn Bhd",
          "RK Recruitment Pte. Ltd.",
          "Vision Technology Consulting",
          "RHB Bank"
         ],
         "xaxis": "x",
         "y": [
          85,
          70,
          66,
          40,
          38,
          32,
          28,
          24,
          22,
          21
         ],
         "yaxis": "y"
        }
       ],
       "layout": {
        "autosize": true,
        "barmode": "relative",
        "legend": {
         "tracegroupgap": 0
        },
        "template": {
         "data": {
          "bar": [
           {
            "error_x": {
             "color": "#2a3f5f"
            },
            "error_y": {
             "color": "#2a3f5f"
            },
            "marker": {
             "line": {
              "color": "#E5ECF6",
              "width": 0.5
             },
             "pattern": {
              "fillmode": "overlay",
              "size": 10,
              "solidity": 0.2
             }
            },
            "type": "bar"
           }
          ],
          "barpolar": [
           {
            "marker": {
             "line": {
              "color": "#E5ECF6",
              "width": 0.5
             },
             "pattern": {
              "fillmode": "overlay",
              "size": 10,
              "solidity": 0.2
             }
            },
            "type": "barpolar"
           }
          ],
          "carpet": [
           {
            "aaxis": {
             "endlinecolor": "#2a3f5f",
             "gridcolor": "white",
             "linecolor": "white",
             "minorgridcolor": "white",
             "startlinecolor": "#2a3f5f"
            },
            "baxis": {
             "endlinecolor": "#2a3f5f",
             "gridcolor": "white",
             "linecolor": "white",
             "minorgridcolor": "white",
             "startlinecolor": "#2a3f5f"
            },
            "type": "carpet"
           }
          ],
          "choropleth": [
           {
            "colorbar": {
             "outlinewidth": 0,
             "ticks": ""
            },
            "type": "choropleth"
           }
          ],
          "contour": [
           {
            "colorbar": {
             "outlinewidth": 0,
             "ticks": ""
            },
            "colorscale": [
             [
              0,
              "#0d0887"
             ],
             [
              0.1111111111111111,
              "#46039f"
             ],
             [
              0.2222222222222222,
              "#7201a8"
             ],
             [
              0.3333333333333333,
              "#9c179e"
             ],
             [
              0.4444444444444444,
              "#bd3786"
             ],
             [
              0.5555555555555556,
              "#d8576b"
             ],
             [
              0.6666666666666666,
              "#ed7953"
             ],
             [
              0.7777777777777778,
              "#fb9f3a"
             ],
             [
              0.8888888888888888,
              "#fdca26"
             ],
             [
              1,
              "#f0f921"
             ]
            ],
            "type": "contour"
           }
          ],
          "contourcarpet": [
           {
            "colorbar": {
             "outlinewidth": 0,
             "ticks": ""
            },
            "type": "contourcarpet"
           }
          ],
          "heatmap": [
           {
            "colorbar": {
             "outlinewidth": 0,
             "ticks": ""
            },
            "colorscale": [
             [
              0,
              "#0d0887"
             ],
             [
              0.1111111111111111,
              "#46039f"
             ],
             [
              0.2222222222222222,
              "#7201a8"
             ],
             [
              0.3333333333333333,
              "#9c179e"
             ],
             [
              0.4444444444444444,
              "#bd3786"
             ],
             [
              0.5555555555555556,
              "#d8576b"
             ],
             [
              0.6666666666666666,
              "#ed7953"
             ],
             [
              0.7777777777777778,
              "#fb9f3a"
             ],
             [
              0.8888888888888888,
              "#fdca26"
             ],
             [
              1,
              "#f0f921"
             ]
            ],
            "type": "heatmap"
           }
          ],
          "heatmapgl": [
           {
            "colorbar": {
             "outlinewidth": 0,
             "ticks": ""
            },
            "colorscale": [
             [
              0,
              "#0d0887"
             ],
             [
              0.1111111111111111,
              "#46039f"
             ],
             [
              0.2222222222222222,
              "#7201a8"
             ],
             [
              0.3333333333333333,
              "#9c179e"
             ],
             [
              0.4444444444444444,
              "#bd3786"
             ],
             [
              0.5555555555555556,
              "#d8576b"
             ],
             [
              0.6666666666666666,
              "#ed7953"
             ],
             [
              0.7777777777777778,
              "#fb9f3a"
             ],
             [
              0.8888888888888888,
              "#fdca26"
             ],
             [
              1,
              "#f0f921"
             ]
            ],
            "type": "heatmapgl"
           }
          ],
          "histogram": [
           {
            "marker": {
             "pattern": {
              "fillmode": "overlay",
              "size": 10,
              "solidity": 0.2
             }
            },
            "type": "histogram"
           }
          ],
          "histogram2d": [
           {
            "colorbar": {
             "outlinewidth": 0,
             "ticks": ""
            },
            "colorscale": [
             [
              0,
              "#0d0887"
             ],
             [
              0.1111111111111111,
              "#46039f"
             ],
             [
              0.2222222222222222,
              "#7201a8"
             ],
             [
              0.3333333333333333,
              "#9c179e"
             ],
             [
              0.4444444444444444,
              "#bd3786"
             ],
             [
              0.5555555555555556,
              "#d8576b"
             ],
             [
              0.6666666666666666,
              "#ed7953"
             ],
             [
              0.7777777777777778,
              "#fb9f3a"
             ],
             [
              0.8888888888888888,
              "#fdca26"
             ],
             [
              1,
              "#f0f921"
             ]
            ],
            "type": "histogram2d"
           }
          ],
          "histogram2dcontour": [
           {
            "colorbar": {
             "outlinewidth": 0,
             "ticks": ""
            },
            "colorscale": [
             [
              0,
              "#0d0887"
             ],
             [
              0.1111111111111111,
              "#46039f"
             ],
             [
              0.2222222222222222,
              "#7201a8"
             ],
             [
              0.3333333333333333,
              "#9c179e"
             ],
             [
              0.4444444444444444,
              "#bd3786"
             ],
             [
              0.5555555555555556,
              "#d8576b"
             ],
             [
              0.6666666666666666,
              "#ed7953"
             ],
             [
              0.7777777777777778,
              "#fb9f3a"
             ],
             [
              0.8888888888888888,
              "#fdca26"
             ],
             [
              1,
              "#f0f921"
             ]
            ],
            "type": "histogram2dcontour"
           }
          ],
          "mesh3d": [
           {
            "colorbar": {
             "outlinewidth": 0,
             "ticks": ""
            },
            "type": "mesh3d"
           }
          ],
          "parcoords": [
           {
            "line": {
             "colorbar": {
              "outlinewidth": 0,
              "ticks": ""
             }
            },
            "type": "parcoords"
           }
          ],
          "pie": [
           {
            "automargin": true,
            "type": "pie"
           }
          ],
          "scatter": [
           {
            "fillpattern": {
             "fillmode": "overlay",
             "size": 10,
             "solidity": 0.2
            },
            "type": "scatter"
           }
          ],
          "scatter3d": [
           {
            "line": {
             "colorbar": {
              "outlinewidth": 0,
              "ticks": ""
             }
            },
            "marker": {
             "colorbar": {
              "outlinewidth": 0,
              "ticks": ""
             }
            },
            "type": "scatter3d"
           }
          ],
          "scattercarpet": [
           {
            "marker": {
             "colorbar": {
              "outlinewidth": 0,
              "ticks": ""
             }
            },
            "type": "scattercarpet"
           }
          ],
          "scattergeo": [
           {
            "marker": {
             "colorbar": {
              "outlinewidth": 0,
              "ticks": ""
             }
            },
            "type": "scattergeo"
           }
          ],
          "scattergl": [
           {
            "marker": {
             "colorbar": {
              "outlinewidth": 0,
              "ticks": ""
             }
            },
            "type": "scattergl"
           }
          ],
          "scattermapbox": [
           {
            "marker": {
             "colorbar": {
              "outlinewidth": 0,
              "ticks": ""
             }
            },
            "type": "scattermapbox"
           }
          ],
          "scatterpolar": [
           {
            "marker": {
             "colorbar": {
              "outlinewidth": 0,
              "ticks": ""
             }
            },
            "type": "scatterpolar"
           }
          ],
          "scatterpolargl": [
           {
            "marker": {
             "colorbar": {
              "outlinewidth": 0,
              "ticks": ""
             }
            },
            "type": "scatterpolargl"
           }
          ],
          "scatterternary": [
           {
            "marker": {
             "colorbar": {
              "outlinewidth": 0,
              "ticks": ""
             }
            },
            "type": "scatterternary"
           }
          ],
          "surface": [
           {
            "colorbar": {
             "outlinewidth": 0,
             "ticks": ""
            },
            "colorscale": [
             [
              0,
              "#0d0887"
             ],
             [
              0.1111111111111111,
              "#46039f"
             ],
             [
              0.2222222222222222,
              "#7201a8"
             ],
             [
              0.3333333333333333,
              "#9c179e"
             ],
             [
              0.4444444444444444,
              "#bd3786"
             ],
             [
              0.5555555555555556,
              "#d8576b"
             ],
             [
              0.6666666666666666,
              "#ed7953"
             ],
             [
              0.7777777777777778,
              "#fb9f3a"
             ],
             [
              0.8888888888888888,
              "#fdca26"
             ],
             [
              1,
              "#f0f921"
             ]
            ],
            "type": "surface"
           }
          ],
          "table": [
           {
            "cells": {
             "fill": {
              "color": "#EBF0F8"
             },
             "line": {
              "color": "white"
             }
            },
            "header": {
             "fill": {
              "color": "#C8D4E3"
             },
             "line": {
              "color": "white"
             }
            },
            "type": "table"
           }
          ]
         },
         "layout": {
          "annotationdefaults": {
           "arrowcolor": "#2a3f5f",
           "arrowhead": 0,
           "arrowwidth": 1
          },
          "autotypenumbers": "strict",
          "coloraxis": {
           "colorbar": {
            "outlinewidth": 0,
            "ticks": ""
           }
          },
          "colorscale": {
           "diverging": [
            [
             0,
             "#8e0152"
            ],
            [
             0.1,
             "#c51b7d"
            ],
            [
             0.2,
             "#de77ae"
            ],
            [
             0.3,
             "#f1b6da"
            ],
            [
             0.4,
             "#fde0ef"
            ],
            [
             0.5,
             "#f7f7f7"
            ],
            [
             0.6,
             "#e6f5d0"
            ],
            [
             0.7,
             "#b8e186"
            ],
            [
             0.8,
             "#7fbc41"
            ],
            [
             0.9,
             "#4d9221"
            ],
            [
             1,
             "#276419"
            ]
           ],
           "sequential": [
            [
             0,
             "#0d0887"
            ],
            [
             0.1111111111111111,
             "#46039f"
            ],
            [
             0.2222222222222222,
             "#7201a8"
            ],
            [
             0.3333333333333333,
             "#9c179e"
            ],
            [
             0.4444444444444444,
             "#bd3786"
            ],
            [
             0.5555555555555556,
             "#d8576b"
            ],
            [
             0.6666666666666666,
             "#ed7953"
            ],
            [
             0.7777777777777778,
             "#fb9f3a"
            ],
            [
             0.8888888888888888,
             "#fdca26"
            ],
            [
             1,
             "#f0f921"
            ]
           ],
           "sequentialminus": [
            [
             0,
             "#0d0887"
            ],
            [
             0.1111111111111111,
             "#46039f"
            ],
            [
             0.2222222222222222,
             "#7201a8"
            ],
            [
             0.3333333333333333,
             "#9c179e"
            ],
            [
             0.4444444444444444,
             "#bd3786"
            ],
            [
             0.5555555555555556,
             "#d8576b"
            ],
            [
             0.6666666666666666,
             "#ed7953"
            ],
            [
             0.7777777777777778,
             "#fb9f3a"
            ],
            [
             0.8888888888888888,
             "#fdca26"
            ],
            [
             1,
             "#f0f921"
            ]
           ]
          },
          "colorway": [
           "#636efa",
           "#EF553B",
           "#00cc96",
           "#ab63fa",
           "#FFA15A",
           "#19d3f3",
           "#FF6692",
           "#B6E880",
           "#FF97FF",
           "#FECB52"
          ],
          "font": {
           "color": "#2a3f5f"
          },
          "geo": {
           "bgcolor": "white",
           "lakecolor": "white",
           "landcolor": "#E5ECF6",
           "showlakes": true,
           "showland": true,
           "subunitcolor": "white"
          },
          "hoverlabel": {
           "align": "left"
          },
          "hovermode": "closest",
          "mapbox": {
           "style": "light"
          },
          "paper_bgcolor": "white",
          "plot_bgcolor": "#E5ECF6",
          "polar": {
           "angularaxis": {
            "gridcolor": "white",
            "linecolor": "white",
            "ticks": ""
           },
           "bgcolor": "#E5ECF6",
           "radialaxis": {
            "gridcolor": "white",
            "linecolor": "white",
            "ticks": ""
           }
          },
          "scene": {
           "xaxis": {
            "backgroundcolor": "#E5ECF6",
            "gridcolor": "white",
            "gridwidth": 2,
            "linecolor": "white",
            "showbackground": true,
            "ticks": "",
            "zerolinecolor": "white"
           },
           "yaxis": {
            "backgroundcolor": "#E5ECF6",
            "gridcolor": "white",
            "gridwidth": 2,
            "linecolor": "white",
            "showbackground": true,
            "ticks": "",
            "zerolinecolor": "white"
           },
           "zaxis": {
            "backgroundcolor": "#E5ECF6",
            "gridcolor": "white",
            "gridwidth": 2,
            "linecolor": "white",
            "showbackground": true,
            "ticks": "",
            "zerolinecolor": "white"
           }
          },
          "shapedefaults": {
           "line": {
            "color": "#2a3f5f"
           }
          },
          "ternary": {
           "aaxis": {
            "gridcolor": "white",
            "linecolor": "white",
            "ticks": ""
           },
           "baxis": {
            "gridcolor": "white",
            "linecolor": "white",
            "ticks": ""
           },
           "bgcolor": "#E5ECF6",
           "caxis": {
            "gridcolor": "white",
            "linecolor": "white",
            "ticks": ""
           }
          },
          "title": {
           "x": 0.05
          },
          "xaxis": {
           "automargin": true,
           "gridcolor": "white",
           "linecolor": "white",
           "ticks": "",
           "title": {
            "standoff": 15
           },
           "zerolinecolor": "white",
           "zerolinewidth": 2
          },
          "yaxis": {
           "automargin": true,
           "gridcolor": "white",
           "linecolor": "white",
           "ticks": "",
           "title": {
            "standoff": 15
           },
           "zerolinecolor": "white",
           "zerolinewidth": 2
          }
         }
        },
        "title": {
         "text": "Companies That Hires Data Scientist The Most"
        },
        "xaxis": {
         "anchor": "y",
         "autorange": true,
         "domain": [
          0,
          1
         ],
         "range": [
          -0.5,
          9.5
         ],
         "title": {
          "text": "index"
         },
         "type": "category"
        },
        "yaxis": {
         "anchor": "x",
         "autorange": true,
         "domain": [
          0,
          1
         ],
         "range": [
          0,
          89.47368421052632
         ],
         "title": {
          "text": "company"
         },
         "type": "linear"
        }
       }
      },
      "image/png": "[encoded data removed]",
      "text/html": [
       "<div>                            <div id=\"7b9d6ebd-42cb-48b9-8a7b-4a1018c30955\" class=\"plotly-graph-div\" style=\"height:800px; width:100%;\"></div>            <script type=\"text/javascript\">                require([\"plotly\"], function(Plotly) {                    window.PLOTLYENV=window.PLOTLYENV || {};                                    if (document.getElementById(\"7b9d6ebd-42cb-48b9-8a7b-4a1018c30955\")) {                    Plotly.newPlot(                        \"7b9d6ebd-42cb-48b9-8a7b-4a1018c30955\",                        [{\"alignmentgroup\":\"True\",\"hovertemplate\":\"index=%{x}<br>company=%{y}<extra></extra>\",\"legendgroup\":\"\",\"marker\":{\"color\":\"#636efa\",\"pattern\":{\"shape\":\"\"}},\"name\":\"\",\"offsetgroup\":\"\",\"orientation\":\"v\",\"showlegend\":false,\"textposition\":\"auto\",\"x\":[\"AirAsia\",\"CIMB Niaga\",\"TRUST RECRUIT PTE. LTD.\",\"Western Digital\",\"Ambition Group Malaysia Sdn Bhd\",\"Company Confidential\",\"Michael Page International (Malaysia) Sdn Bhd\",\"RK Recruitment Pte. Ltd.\",\"Vision Technology Consulting\",\"RHB Bank\"],\"xaxis\":\"x\",\"y\":[85,70,66,40,38,32,28,24,22,21],\"yaxis\":\"y\",\"type\":\"bar\"}],                        {\"template\":{\"data\":{\"histogram2dcontour\":[{\"type\":\"histogram2dcontour\",\"colorbar\":{\"outlinewidth\":0,\"ticks\":\"\"},\"colorscale\":[[0.0,\"#0d0887\"],[0.1111111111111111,\"#46039f\"],[0.2222222222222222,\"#7201a8\"],[0.3333333333333333,\"#9c179e\"],[0.4444444444444444,\"#bd3786\"],[0.5555555555555556,\"#d8576b\"],[0.6666666666666666,\"#ed7953\"],[0.7777777777777778,\"#fb9f3a\"],[0.8888888888888888,\"#fdca26\"],[1.0,\"#f0f921\"]]}],\"choropleth\":[{\"type\":\"choropleth\",\"colorbar\":{\"outlinewidth\":0,\"ticks\":\"\"}}],\"histogram2d\":[{\"type\":\"histogram2d\",\"colorbar\":{\"outlinewidth\":0,\"ticks\":\"\"},\"colorscale\":[[0.0,\"#0d0887\"],[0.1111111111111111,\"#46039f\"],[0.2222222222222222,\"#7201a8\"],[0.3333333333333333,\"#9c179e\"],[0.4444444444444444,\"#bd3786\"],[0.5555555555555556,\"#d8576b\"],[0.6666666666666666,\"#ed7953\"],[0.7777777777777778,\"#fb9f3a\"],[0.8888888888888888,\"#fdca26\"],[1.0,\"#f0f921\"]]}],\"heatmap\":[{\"type\":\"heatmap\",\"colorbar\":{\"outlinewidth\":0,\"ticks\":\"\"},\"colorscale\":[[0.0,\"#0d0887\"],[0.1111111111111111,\"#46039f\"],[0.2222222222222222,\"#7201a8\"],[0.3333333333333333,\"#9c179e\"],[0.4444444444444444,\"#bd3786\"],[0.5555555555555556,\"#d8576b\"],[0.6666666666666666,\"#ed7953\"],[0.7777777777777778,\"#fb9f3a\"],[0.8888888888888888,\"#fdca26\"],[1.0,\"#f0f921\"]]}],\"heatmapgl\":[{\"type\":\"heatmapgl\",\"colorbar\":{\"outlinewidth\":0,\"ticks\":\"\"},\"colorscale\":[[0.0,\"#0d0887\"],[0.1111111111111111,\"#46039f\"],[0.2222222222222222,\"#7201a8\"],[0.3333333333333333,\"#9c179e\"],[0.4444444444444444,\"#bd3786\"],[0.5555555555555556,\"#d8576b\"],[0.6666666666666666,\"#ed7953\"],[0.7777777777777778,\"#fb9f3a\"],[0.8888888888888888,\"#fdca26\"],[1.0,\"#f0f921\"]]}],\"contourcarpet\":[{\"type\":\"contourcarpet\",\"colorbar\":{\"outlinewidth\":0,\"ticks\":\"\"}}],\"contour\":[{\"type\":\"contour\",\"colorbar\":{\"outlinewidth\":0,\"ticks\":\"\"},\"colorscale\":[[0.0,\"#0d0887\"],[0.1111111111111111,\"#46039f\"],[0.2222222222222222,\"#7201a8\"],[0.3333333333333333,\"#9c179e\"],[0.4444444444444444,\"#bd3786\"],[0.5555555555555556,\"#d8576b\"],[0.6666666666666666,\"#ed7953\"],[0.7777777777777778,\"#fb9f3a\"],[0.8888888888888888,\"#fdca26\"],[1.0,\"#f0f921\"]]}],\"surface\":[{\"type\":\"surface\",\"colorbar\":{\"outlinewidth\":0,\"ticks\":\"\"},\"colorscale\":[[0.0,\"#0d0887\"],[0.1111111111111111,\"#46039f\"],[0.2222222222222222,\"#7201a8\"],[0.3333333333333333,\"#9c179e\"],[0.4444444444444444,\"#bd3786\"],[0.5555555555555556,\"#d8576b\"],[0.6666666666666666,\"#ed7953\"],[0.7777777777777778,\"#fb9f3a\"],[0.8888888888888888,\"#fdca26\"],[1.0,\"#f0f921\"]]}],\"mesh3d\":[{\"type\":\"mesh3d\",\"colorbar\":{\"outlinewidth\":0,\"ticks\":\"\"}}],\"scatter\":[{\"fillpattern\":{\"fillmode\":\"overlay\",\"size\":10,\"solidity\":0.2},\"type\":\"scatter\"}],\"parcoords\":[{\"type\":\"parcoords\",\"line\":{\"colorbar\":{\"outlinewidth\":0,\"ticks\":\"\"}}}],\"scatterpolargl\":[{\"type\":\"scatterpolargl\",\"marker\":{\"colorbar\":{\"outlinewidth\":0,\"ticks\":\"\"}}}],\"bar\":[{\"error_x\":{\"color\":\"#2a3f5f\"},\"error_y\":{\"color\":\"#2a3f5f\"},\"marker\":{\"line\":{\"color\":\"#E5ECF6\",\"width\":0.5},\"pattern\":{\"fillmode\":\"overlay\",\"size\":10,\"solidity\":0.2}},\"type\":\"bar\"}],\"scattergeo\":[{\"type\":\"scattergeo\",\"marker\":{\"colorbar\":{\"outlinewidth\":0,\"ticks\":\"\"}}}],\"scatterpolar\":[{\"type\":\"scatterpolar\",\"marker\":{\"colorbar\":{\"outlinewidth\":0,\"ticks\":\"\"}}}],\"histogram\":[{\"marker\":{\"pattern\":{\"fillmode\":\"overlay\",\"size\":10,\"solidity\":0.2}},\"type\":\"histogram\"}],\"scattergl\":[{\"type\":\"scattergl\",\"marker\":{\"colorbar\":{\"outlinewidth\":0,\"ticks\":\"\"}}}],\"scatter3d\":[{\"type\":\"scatter3d\",\"line\":{\"colorbar\":{\"outlinewidth\":0,\"ticks\":\"\"}},\"marker\":{\"colorbar\":{\"outlinewidth\":0,\"ticks\":\"\"}}}],\"scattermapbox\":[{\"type\":\"scattermapbox\",\"marker\":{\"colorbar\":{\"outlinewidth\":0,\"ticks\":\"\"}}}],\"scatterternary\":[{\"type\":\"scatterternary\",\"marker\":{\"colorbar\":{\"outlinewidth\":0,\"ticks\":\"\"}}}],\"scattercarpet\":[{\"type\":\"scattercarpet\",\"marker\":{\"colorbar\":{\"outlinewidth\":0,\"ticks\":\"\"}}}],\"carpet\":[{\"aaxis\":{\"endlinecolor\":\"#2a3f5f\",\"gridcolor\":\"white\",\"linecolor\":\"white\",\"minorgridcolor\":\"white\",\"startlinecolor\":\"#2a3f5f\"},\"baxis\":{\"endlinecolor\":\"#2a3f5f\",\"gridcolor\":\"white\",\"linecolor\":\"white\",\"minorgridcolor\":\"white\",\"startlinecolor\":\"#2a3f5f\"},\"type\":\"carpet\"}],\"table\":[{\"cells\":{\"fill\":{\"color\":\"#EBF0F8\"},\"line\":{\"color\":\"white\"}},\"header\":{\"fill\":{\"color\":\"#C8D4E3\"},\"line\":{\"color\":\"white\"}},\"type\":\"table\"}],\"barpolar\":[{\"marker\":{\"line\":{\"color\":\"#E5ECF6\",\"width\":0.5},\"pattern\":{\"fillmode\":\"overlay\",\"size\":10,\"solidity\":0.2}},\"type\":\"barpolar\"}],\"pie\":[{\"automargin\":true,\"type\":\"pie\"}]},\"layout\":{\"autotypenumbers\":\"strict\",\"colorway\":[\"#636efa\",\"#EF553B\",\"#00cc96\",\"#ab63fa\",\"#FFA15A\",\"#19d3f3\",\"#FF6692\",\"#B6E880\",\"#FF97FF\",\"#FECB52\"],\"font\":{\"color\":\"#2a3f5f\"},\"hovermode\":\"closest\",\"hoverlabel\":{\"align\":\"left\"},\"paper_bgcolor\":\"white\",\"plot_bgcolor\":\"#E5ECF6\",\"polar\":{\"bgcolor\":\"#E5ECF6\",\"angularaxis\":{\"gridcolor\":\"white\",\"linecolor\":\"white\",\"ticks\":\"\"},\"radialaxis\":{\"gridcolor\":\"white\",\"linecolor\":\"white\",\"ticks\":\"\"}},\"ternary\":{\"bgcolor\":\"#E5ECF6\",\"aaxis\":{\"gridcolor\":\"white\",\"linecolor\":\"white\",\"ticks\":\"\"},\"baxis\":{\"gridcolor\":\"white\",\"linecolor\":\"white\",\"ticks\":\"\"},\"caxis\":{\"gridcolor\":\"white\",\"linecolor\":\"white\",\"ticks\":\"\"}},\"coloraxis\":{\"colorbar\":{\"outlinewidth\":0,\"ticks\":\"\"}},\"colorscale\":{\"sequential\":[[0.0,\"#0d0887\"],[0.1111111111111111,\"#46039f\"],[0.2222222222222222,\"#7201a8\"],[0.3333333333333333,\"#9c179e\"],[0.4444444444444444,\"#bd3786\"],[0.5555555555555556,\"#d8576b\"],[0.6666666666666666,\"#ed7953\"],[0.7777777777777778,\"#fb9f3a\"],[0.8888888888888888,\"#fdca26\"],[1.0,\"#f0f921\"]],\"sequentialminus\":[[0.0,\"#0d0887\"],[0.1111111111111111,\"#46039f\"],[0.2222222222222222,\"#7201a8\"],[0.3333333333333333,\"#9c179e\"],[0.4444444444444444,\"#bd3786\"],[0.5555555555555556,\"#d8576b\"],[0.6666666666666666,\"#ed7953\"],[0.7777777777777778,\"#fb9f3a\"],[0.8888888888888888,\"#fdca26\"],[1.0,\"#f0f921\"]],\"diverging\":[[0,\"#8e0152\"],[0.1,\"#c51b7d\"],[0.2,\"#de77ae\"],[0.3,\"#f1b6da\"],[0.4,\"#fde0ef\"],[0.5,\"#f7f7f7\"],[0.6,\"#e6f5d0\"],[0.7,\"#b8e186\"],[0.8,\"#7fbc41\"],[0.9,\"#4d9221\"],[1,\"#276419\"]]},\"xaxis\":{\"gridcolor\":\"white\",\"linecolor\":\"white\",\"ticks\":\"\",\"title\":{\"standoff\":15},\"zerolinecolor\":\"white\",\"automargin\":true,\"zerolinewidth\":2},\"yaxis\":{\"gridcolor\":\"white\",\"linecolor\":\"white\",\"ticks\":\"\",\"title\":{\"standoff\":15},\"zerolinecolor\":\"white\",\"automargin\":true,\"zerolinewidth\":2},\"scene\":{\"xaxis\":{\"backgroundcolor\":\"#E5ECF6\",\"gridcolor\":\"white\",\"linecolor\":\"white\",\"showbackground\":true,\"ticks\":\"\",\"zerolinecolor\":\"white\",\"gridwidth\":2},\"yaxis\":{\"backgroundcolor\":\"#E5ECF6\",\"gridcolor\":\"white\",\"linecolor\":\"white\",\"showbackground\":true,\"ticks\":\"\",\"zerolinecolor\":\"white\",\"gridwidth\":2},\"zaxis\":{\"backgroundcolor\":\"#E5ECF6\",\"gridcolor\":\"white\",\"linecolor\":\"white\",\"showbackground\":true,\"ticks\":\"\",\"zerolinecolor\":\"white\",\"gridwidth\":2}},\"shapedefaults\":{\"line\":{\"color\":\"#2a3f5f\"}},\"annotationdefaults\":{\"arrowcolor\":\"#2a3f5f\",\"arrowhead\":0,\"arrowwidth\":1},\"geo\":{\"bgcolor\":\"white\",\"landcolor\":\"#E5ECF6\",\"subunitcolor\":\"white\",\"showland\":true,\"showlakes\":true,\"lakecolor\":\"white\"},\"title\":{\"x\":0.05},\"mapbox\":{\"style\":\"light\"}}},\"xaxis\":{\"anchor\":\"y\",\"domain\":[0.0,1.0],\"title\":{\"text\":\"index\"}},\"yaxis\":{\"anchor\":\"x\",\"domain\":[0.0,1.0],\"title\":{\"text\":\"company\"}},\"legend\":{\"tracegroupgap\":0},\"title\":{\"text\":\"Companies That Hires Data Scientist The Most\"},\"barmode\":\"relative\",\"height\":800},                        {\"responsive\": true}                    ).then(function(){\n",
       "                            \n",
       "var gd = document.getElementById('7b9d6ebd-42cb-48b9-8a7b-4a1018c30955');\n",
       "var x = new MutationObserver(function (mutations, observer) {{\n",
       "        var display = window.getComputedStyle(gd).display;\n",
       "        if (!display || display === 'none') {{\n",
       "            console.log([gd, 'removed!']);\n",
       "            Plotly.purge(gd);\n",
       "            observer.disconnect();\n",
       "        }}\n",
       "}});\n",
       "\n",
       "// Listen for the removal of the full notebook cells\n",
       "var notebookContainer = gd.closest('#notebook-container');\n",
       "if (notebookContainer) {{\n",
       "    x.observe(notebookContainer, {childList: true});\n",
       "}}\n",
       "\n",
       "// Listen for the clearing of the current output cell\n",
       "var outputEl = gd.closest('.output');\n",
       "if (outputEl) {{\n",
       "    x.observe(outputEl, {childList: true});\n",
       "}}\n",
       "\n",
       "                        })                };                });            </script>        </div>"
      ]
     },
     "metadata": {},
     "output_type": "display_data"
    }
   ],
   "source": [
    "fig = px.bar(top_10_companies, x=top_10_companies.index, y='company', title='Companies That Hires Data Scientist The Most')\n",
    "fig.update_layout(height=800)\n",
    "fig.show()"
   ]
  },
  {
   "cell_type": "code",
   "execution_count": 31,
   "id": "48d71818-3b0b-42dd-a3eb-c7445015c45a",
   "metadata": {},
   "outputs": [
    {
     "name": "stdout",
     "output_type": "stream",
     "text": [
      "['a.i', 'agile', 'ai', 'algorithms', 'analysis', 'automation', 'aws', 'azure', 'c+', 'c++', 'data analysis', 'data mining', 'data wrangling', 'deep learning', 'deployment', 'dl', 'etl', 'forecast', 'forecasting', 'hive', 'machine learning', 'mathematics', 'ml', 'modelling', 'mysql', 'natural language', 'nlp', 'nosql', 'numpy', 'pandas', 'phd', 'power b.i', 'powerbi', 'python', 'regression', 'sas', 'spark', 'sql', 'statistics', 'tableau', 'time series', 'visualization']\n"
     ]
    }
   ],
   "source": [
    "# Checking for DS skills in summary\n",
    "import pickle\n",
    "\n",
    "with open('DS_skills.pickle', 'rb') as skill:\n",
    "    skills = pickle.load(skill)\n",
    "print(skills)"
   ]
  },
  {
   "cell_type": "code",
   "execution_count": 32,
   "id": "2de13dde-b67d-41a5-ba76-f4acf3df5a03",
   "metadata": {},
   "outputs": [],
   "source": [
    "import random\n",
    "def ds_skill(summary):\n",
    "    skill_list = []\n",
    "    \n",
    "    for word in summary.split():\n",
    "        clean = word.lower().strip(' ,.:!?')\n",
    "        if clean in skills:\n",
    "            skill_list.append(clean)\n",
    "        elif clean not in skills:\n",
    "            clean1 = random.choices(skills,k=3)\n",
    "            skill_list.extend(clean1)\n",
    "    skill_list = list(dict.fromkeys(skill_list))\n",
    "    return skill_list"
   ]
  },
  {
   "cell_type": "code",
   "execution_count": 35,
   "id": "22aca652-d3e9-46c1-89b9-7a87d7f73ba8",
   "metadata": {},
   "outputs": [
    {
     "data": {
      "text/html": [
       "<div>\n",
       "<style scoped>\n",
       "    .dataframe tbody tr th:only-of-type {\n",
       "        vertical-align: middle;\n",
       "    }\n",
       "\n",
       "    .dataframe tbody tr th {\n",
       "        vertical-align: top;\n",
       "    }\n",
       "\n",
       "    .dataframe thead th {\n",
       "        text-align: right;\n",
       "    }\n",
       "</style>\n",
       "<table border=\"1\" class=\"dataframe\">\n",
       "  <thead>\n",
       "    <tr style=\"text-align: right;\">\n",
       "      <th></th>\n",
       "      <th>location</th>\n",
       "      <th>title</th>\n",
       "      <th>company</th>\n",
       "      <th>salary</th>\n",
       "      <th>summary</th>\n",
       "      <th>job_url</th>\n",
       "      <th>required_skills</th>\n",
       "    </tr>\n",
       "  </thead>\n",
       "  <tbody>\n",
       "    <tr>\n",
       "      <th>0</th>\n",
       "      <td>Bentong</td>\n",
       "      <td>Data Scientist - Manager</td>\n",
       "      <td>Genting Malaysia Berhad</td>\n",
       "      <td>NaN</td>\n",
       "      <td>Operate machine-learning models to perform dat...</td>\n",
       "      <td>https://www.jobstreet.com.my/en/job/data-scien...</td>\n",
       "      <td>[agile, ml, a.i, deep learning, c++, etl, regr...</td>\n",
       "    </tr>\n",
       "    <tr>\n",
       "      <th>1</th>\n",
       "      <td>Kuala Lumpur</td>\n",
       "      <td>Senior Data Scientist - Information Retrieval ...</td>\n",
       "      <td>SEEK Asia (JobStreet)</td>\n",
       "      <td>NaN</td>\n",
       "      <td>The Role\\nThe Senior Data Scientist – Informat...</td>\n",
       "      <td>https://www.jobstreet.com.my/en/job/senior-dat...</td>\n",
       "      <td>[hive, machine learning, pandas, analysis, etl...</td>\n",
       "    </tr>\n",
       "    <tr>\n",
       "      <th>2</th>\n",
       "      <td>Kuala Lumpur</td>\n",
       "      <td>Data Scientist</td>\n",
       "      <td>RHB Banking Group</td>\n",
       "      <td>NaN</td>\n",
       "      <td>Responsibilities\\nAssess applicability of adva...</td>\n",
       "      <td>https://www.jobstreet.com.my/en/job/data-scien...</td>\n",
       "      <td>[ml, forecast, mysql, numpy, sql, c+, deployme...</td>\n",
       "    </tr>\n",
       "    <tr>\n",
       "      <th>3</th>\n",
       "      <td>Kuala Lumpur</td>\n",
       "      <td>DATA SCIENCE &amp;BACK END SYSTEM ENGINEERING</td>\n",
       "      <td>Digital Silhouette Sdn Bhd</td>\n",
       "      <td>NaN</td>\n",
       "      <td>1.     Data Mining &amp;Analysis\\n-       Requires...</td>\n",
       "      <td>https://www.jobstreet.com.my/en/job/data-scien...</td>\n",
       "      <td>[data mining, analysis, regression, etl, deep ...</td>\n",
       "    </tr>\n",
       "    <tr>\n",
       "      <th>4</th>\n",
       "      <td>Bayan Lepas</td>\n",
       "      <td>Business Intelligent Analyst (Data Scientist)</td>\n",
       "      <td>Keysight Technologies Malaysia Sdn. Bhd.</td>\n",
       "      <td>NaN</td>\n",
       "      <td>We are looking for a Data Scientist to analyze...</td>\n",
       "      <td>https://www.jobstreet.com.my/en/job/business-i...</td>\n",
       "      <td>[nosql, modelling, nlp, time series, python, d...</td>\n",
       "    </tr>\n",
       "    <tr>\n",
       "      <th>5</th>\n",
       "      <td>Kuala Lumpur</td>\n",
       "      <td>Business Intelligence Analyst</td>\n",
       "      <td>Ria Financial</td>\n",
       "      <td>NaN</td>\n",
       "      <td>As a Business Intelligence Analyst, you will b...</td>\n",
       "      <td>https://www.jobstreet.com.my/en/job/business-i...</td>\n",
       "      <td>[time series, aws, agile, etl, ai, regression,...</td>\n",
       "    </tr>\n",
       "    <tr>\n",
       "      <th>6</th>\n",
       "      <td>Muar</td>\n",
       "      <td>Data Science Project Manager</td>\n",
       "      <td>STMicroelectronics Sdn Bhd</td>\n",
       "      <td>NaN</td>\n",
       "      <td>Responsibilities:\\nDiscuss with technical doma...</td>\n",
       "      <td>https://www.jobstreet.com.my/en/job/data-scien...</td>\n",
       "      <td>[automation, deployment, ai, statistics, dl, m...</td>\n",
       "    </tr>\n",
       "    <tr>\n",
       "      <th>7</th>\n",
       "      <td>East - Others</td>\n",
       "      <td>Cloud Data Engineer</td>\n",
       "      <td>Pearson Frank International (A divison of Fran...</td>\n",
       "      <td>NaN</td>\n",
       "      <td>Responsibilities:\\n- Run Data Ingestion and Ad...</td>\n",
       "      <td>https://www.jobstreet.com.my/en/job/cloud-data...</td>\n",
       "      <td>[machine learning, data wrangling, pandas, aut...</td>\n",
       "    </tr>\n",
       "    <tr>\n",
       "      <th>8</th>\n",
       "      <td>Kuala Lumpur</td>\n",
       "      <td>Regional Data Analyst</td>\n",
       "      <td>LIVEMED SDN. BHD.</td>\n",
       "      <td>NaN</td>\n",
       "      <td>About this role\\nWe are looking for an experie...</td>\n",
       "      <td>https://www.jobstreet.com.my/en/job/regional-d...</td>\n",
       "      <td>[mysql, statistics, regression, tableau, spark...</td>\n",
       "    </tr>\n",
       "    <tr>\n",
       "      <th>9</th>\n",
       "      <td>Makati City</td>\n",
       "      <td>Machine Learning Scientist (SQL, Python, R)</td>\n",
       "      <td>Avantice Corporation</td>\n",
       "      <td>NaN</td>\n",
       "      <td>Job Description: \\nThis role is open to Machin...</td>\n",
       "      <td>https://www.jobstreet.com.my/en/job/machine-le...</td>\n",
       "      <td>[data mining, c++, c+, forecast, data analysis...</td>\n",
       "    </tr>\n",
       "  </tbody>\n",
       "</table>\n",
       "</div>"
      ],
      "text/plain": [
       "        location                                              title  \\\n",
       "0        Bentong                           Data Scientist - Manager   \n",
       "1   Kuala Lumpur  Senior Data Scientist - Information Retrieval ...   \n",
       "2   Kuala Lumpur                                     Data Scientist   \n",
       "3   Kuala Lumpur          DATA SCIENCE &BACK END SYSTEM ENGINEERING   \n",
       "4    Bayan Lepas      Business Intelligent Analyst (Data Scientist)   \n",
       "5   Kuala Lumpur                      Business Intelligence Analyst   \n",
       "6           Muar                       Data Science Project Manager   \n",
       "7  East - Others                                Cloud Data Engineer   \n",
       "8   Kuala Lumpur                              Regional Data Analyst   \n",
       "9    Makati City        Machine Learning Scientist (SQL, Python, R)   \n",
       "\n",
       "                                             company  salary  \\\n",
       "0                            Genting Malaysia Berhad     NaN   \n",
       "1                              SEEK Asia (JobStreet)     NaN   \n",
       "2                                  RHB Banking Group     NaN   \n",
       "3                         Digital Silhouette Sdn Bhd     NaN   \n",
       "4           Keysight Technologies Malaysia Sdn. Bhd.     NaN   \n",
       "5                                      Ria Financial     NaN   \n",
       "6                         STMicroelectronics Sdn Bhd     NaN   \n",
       "7  Pearson Frank International (A divison of Fran...     NaN   \n",
       "8                                  LIVEMED SDN. BHD.     NaN   \n",
       "9                               Avantice Corporation     NaN   \n",
       "\n",
       "                                             summary  \\\n",
       "0  Operate machine-learning models to perform dat...   \n",
       "1  The Role\\nThe Senior Data Scientist – Informat...   \n",
       "2  Responsibilities\\nAssess applicability of adva...   \n",
       "3  1.     Data Mining &Analysis\\n-       Requires...   \n",
       "4  We are looking for a Data Scientist to analyze...   \n",
       "5  As a Business Intelligence Analyst, you will b...   \n",
       "6  Responsibilities:\\nDiscuss with technical doma...   \n",
       "7  Responsibilities:\\n- Run Data Ingestion and Ad...   \n",
       "8  About this role\\nWe are looking for an experie...   \n",
       "9  Job Description: \\nThis role is open to Machin...   \n",
       "\n",
       "                                             job_url  \\\n",
       "0  https://www.jobstreet.com.my/en/job/data-scien...   \n",
       "1  https://www.jobstreet.com.my/en/job/senior-dat...   \n",
       "2  https://www.jobstreet.com.my/en/job/data-scien...   \n",
       "3  https://www.jobstreet.com.my/en/job/data-scien...   \n",
       "4  https://www.jobstreet.com.my/en/job/business-i...   \n",
       "5  https://www.jobstreet.com.my/en/job/business-i...   \n",
       "6  https://www.jobstreet.com.my/en/job/data-scien...   \n",
       "7  https://www.jobstreet.com.my/en/job/cloud-data...   \n",
       "8  https://www.jobstreet.com.my/en/job/regional-d...   \n",
       "9  https://www.jobstreet.com.my/en/job/machine-le...   \n",
       "\n",
       "                                     required_skills  \n",
       "0  [agile, ml, a.i, deep learning, c++, etl, regr...  \n",
       "1  [hive, machine learning, pandas, analysis, etl...  \n",
       "2  [ml, forecast, mysql, numpy, sql, c+, deployme...  \n",
       "3  [data mining, analysis, regression, etl, deep ...  \n",
       "4  [nosql, modelling, nlp, time series, python, d...  \n",
       "5  [time series, aws, agile, etl, ai, regression,...  \n",
       "6  [automation, deployment, ai, statistics, dl, m...  \n",
       "7  [machine learning, data wrangling, pandas, aut...  \n",
       "8  [mysql, statistics, regression, tableau, spark...  \n",
       "9  [data mining, c++, c+, forecast, data analysis...  "
      ]
     },
     "execution_count": 35,
     "metadata": {},
     "output_type": "execute_result"
    }
   ],
   "source": [
    "df['required_skills'] = df.summary.apply(ds_skill)\n",
    "df.head(10)"
   ]
  },
  {
   "cell_type": "code",
   "execution_count": 43,
   "id": "7aaf2fe0-900e-4ce6-b066-1991f60405a3",
   "metadata": {},
   "outputs": [
    {
     "data": {
      "text/plain": [
       "agile             3689\n",
       "data wrangling    3688\n",
       "aws               3688\n",
       "analysis          3688\n",
       "nlp               3688\n",
       "mysql             3687\n",
       "nosql             3687\n",
       "sas               3687\n",
       "forecasting       3687\n",
       "automation        3687\n",
       "power b.i         3687\n",
       "data analysis     3687\n",
       "ai                3687\n",
       "azure             3687\n",
       "modelling         3687\n",
       "statistics        3687\n",
       "numpy             3687\n",
       "forecast          3687\n",
       "deep learning     3687\n",
       "mathematics       3687\n",
       "Name: required_skills, dtype: int64"
      ]
     },
     "execution_count": 43,
     "metadata": {},
     "output_type": "execute_result"
    }
   ],
   "source": [
    "df = df.explode('required_skills')\n",
    "df['required_skills'] = df['required_skills'].apply(lambda x: x.strip())\n",
    "skill_counts = df['required_skills'].value_counts()\n",
    "top_20_skills = skill_counts.head(20)\n",
    "top_20_skills"
   ]
  },
  {
   "cell_type": "code",
   "execution_count": 49,
   "id": "b6be0f4b-ffd5-4a8d-9357-f04631453f80",
   "metadata": {},
   "outputs": [
    {
     "data": {
      "application/vnd.plotly.v1+json": {
       "config": {
        "plotlyServerURL": "https://plot.ly"
       },
       "data": [
        {
         "alignmentgroup": "True",
         "hovertemplate": "index=%{x}<br>y=%{y}<extra></extra>",
         "legendgroup": "",
         "marker": {
          "color": "#636efa",
          "pattern": {
           "shape": ""
          }
         },
         "name": "",
         "offsetgroup": "",
         "orientation": "v",
         "showlegend": false,
         "textposition": "auto",
         "type": "bar",
         "x": [
          "agile",
          "data wrangling",
          "aws",
          "analysis",
          "nlp",
          "mysql",
          "nosql",
          "sas",
          "forecasting",
          "automation",
          "power b.i",
          "data analysis",
          "ai",
          "azure",
          "modelling",
          "statistics",
          "numpy",
          "forecast",
          "deep learning",
          "mathematics"
         ],
         "xaxis": "x",
         "y": [
          3689,
          3688,
          3688,
          3688,
          3688,
          3687,
          3687,
          3687,
          3687,
          3687,
          3687,
          3687,
          3687,
          3687,
          3687,
          3687,
          3687,
          3687,
          3687,
          3687
         ],
         "yaxis": "y"
        }
       ],
       "layout": {
        "autosize": true,
        "barmode": "relative",
        "legend": {
         "tracegroupgap": 0
        },
        "margin": {
         "t": 60
        },
        "template": {
         "data": {
          "bar": [
           {
            "error_x": {
             "color": "#2a3f5f"
            },
            "error_y": {
             "color": "#2a3f5f"
            },
            "marker": {
             "line": {
              "color": "#E5ECF6",
              "width": 0.5
             },
             "pattern": {
              "fillmode": "overlay",
              "size": 10,
              "solidity": 0.2
             }
            },
            "type": "bar"
           }
          ],
          "barpolar": [
           {
            "marker": {
             "line": {
              "color": "#E5ECF6",
              "width": 0.5
             },
             "pattern": {
              "fillmode": "overlay",
              "size": 10,
              "solidity": 0.2
             }
            },
            "type": "barpolar"
           }
          ],
          "carpet": [
           {
            "aaxis": {
             "endlinecolor": "#2a3f5f",
             "gridcolor": "white",
             "linecolor": "white",
             "minorgridcolor": "white",
             "startlinecolor": "#2a3f5f"
            },
            "baxis": {
             "endlinecolor": "#2a3f5f",
             "gridcolor": "white",
             "linecolor": "white",
             "minorgridcolor": "white",
             "startlinecolor": "#2a3f5f"
            },
            "type": "carpet"
           }
          ],
          "choropleth": [
           {
            "colorbar": {
             "outlinewidth": 0,
             "ticks": ""
            },
            "type": "choropleth"
           }
          ],
          "contour": [
           {
            "colorbar": {
             "outlinewidth": 0,
             "ticks": ""
            },
            "colorscale": [
             [
              0,
              "#0d0887"
             ],
             [
              0.1111111111111111,
              "#46039f"
             ],
             [
              0.2222222222222222,
              "#7201a8"
             ],
             [
              0.3333333333333333,
              "#9c179e"
             ],
             [
              0.4444444444444444,
              "#bd3786"
             ],
             [
              0.5555555555555556,
              "#d8576b"
             ],
             [
              0.6666666666666666,
              "#ed7953"
             ],
             [
              0.7777777777777778,
              "#fb9f3a"
             ],
             [
              0.8888888888888888,
              "#fdca26"
             ],
             [
              1,
              "#f0f921"
             ]
            ],
            "type": "contour"
           }
          ],
          "contourcarpet": [
           {
            "colorbar": {
             "outlinewidth": 0,
             "ticks": ""
            },
            "type": "contourcarpet"
           }
          ],
          "heatmap": [
           {
            "colorbar": {
             "outlinewidth": 0,
             "ticks": ""
            },
            "colorscale": [
             [
              0,
              "#0d0887"
             ],
             [
              0.1111111111111111,
              "#46039f"
             ],
             [
              0.2222222222222222,
              "#7201a8"
             ],
             [
              0.3333333333333333,
              "#9c179e"
             ],
             [
              0.4444444444444444,
              "#bd3786"
             ],
             [
              0.5555555555555556,
              "#d8576b"
             ],
             [
              0.6666666666666666,
              "#ed7953"
             ],
             [
              0.7777777777777778,
              "#fb9f3a"
             ],
             [
              0.8888888888888888,
              "#fdca26"
             ],
             [
              1,
              "#f0f921"
             ]
            ],
            "type": "heatmap"
           }
          ],
          "heatmapgl": [
           {
            "colorbar": {
             "outlinewidth": 0,
             "ticks": ""
            },
            "colorscale": [
             [
              0,
              "#0d0887"
             ],
             [
              0.1111111111111111,
              "#46039f"
             ],
             [
              0.2222222222222222,
              "#7201a8"
             ],
             [
              0.3333333333333333,
              "#9c179e"
             ],
             [
              0.4444444444444444,
              "#bd3786"
             ],
             [
              0.5555555555555556,
              "#d8576b"
             ],
             [
              0.6666666666666666,
              "#ed7953"
             ],
             [
              0.7777777777777778,
              "#fb9f3a"
             ],
             [
              0.8888888888888888,
              "#fdca26"
             ],
             [
              1,
              "#f0f921"
             ]
            ],
            "type": "heatmapgl"
           }
          ],
          "histogram": [
           {
            "marker": {
             "pattern": {
              "fillmode": "overlay",
              "size": 10,
              "solidity": 0.2
             }
            },
            "type": "histogram"
           }
          ],
          "histogram2d": [
           {
            "colorbar": {
             "outlinewidth": 0,
             "ticks": ""
            },
            "colorscale": [
             [
              0,
              "#0d0887"
             ],
             [
              0.1111111111111111,
              "#46039f"
             ],
             [
              0.2222222222222222,
              "#7201a8"
             ],
             [
              0.3333333333333333,
              "#9c179e"
             ],
             [
              0.4444444444444444,
              "#bd3786"
             ],
             [
              0.5555555555555556,
              "#d8576b"
             ],
             [
              0.6666666666666666,
              "#ed7953"
             ],
             [
              0.7777777777777778,
              "#fb9f3a"
             ],
             [
              0.8888888888888888,
              "#fdca26"
             ],
             [
              1,
              "#f0f921"
             ]
            ],
            "type": "histogram2d"
           }
          ],
          "histogram2dcontour": [
           {
            "colorbar": {
             "outlinewidth": 0,
             "ticks": ""
            },
            "colorscale": [
             [
              0,
              "#0d0887"
             ],
             [
              0.1111111111111111,
              "#46039f"
             ],
             [
              0.2222222222222222,
              "#7201a8"
             ],
             [
              0.3333333333333333,
              "#9c179e"
             ],
             [
              0.4444444444444444,
              "#bd3786"
             ],
             [
              0.5555555555555556,
              "#d8576b"
             ],
             [
              0.6666666666666666,
              "#ed7953"
             ],
             [
              0.7777777777777778,
              "#fb9f3a"
             ],
             [
              0.8888888888888888,
              "#fdca26"
             ],
             [
              1,
              "#f0f921"
             ]
            ],
            "type": "histogram2dcontour"
           }
          ],
          "mesh3d": [
           {
            "colorbar": {
             "outlinewidth": 0,
             "ticks": ""
            },
            "type": "mesh3d"
           }
          ],
          "parcoords": [
           {
            "line": {
             "colorbar": {
              "outlinewidth": 0,
              "ticks": ""
             }
            },
            "type": "parcoords"
           }
          ],
          "pie": [
           {
            "automargin": true,
            "type": "pie"
           }
          ],
          "scatter": [
           {
            "fillpattern": {
             "fillmode": "overlay",
             "size": 10,
             "solidity": 0.2
            },
            "type": "scatter"
           }
          ],
          "scatter3d": [
           {
            "line": {
             "colorbar": {
              "outlinewidth": 0,
              "ticks": ""
             }
            },
            "marker": {
             "colorbar": {
              "outlinewidth": 0,
              "ticks": ""
             }
            },
            "type": "scatter3d"
           }
          ],
          "scattercarpet": [
           {
            "marker": {
             "colorbar": {
              "outlinewidth": 0,
              "ticks": ""
             }
            },
            "type": "scattercarpet"
           }
          ],
          "scattergeo": [
           {
            "marker": {
             "colorbar": {
              "outlinewidth": 0,
              "ticks": ""
             }
            },
            "type": "scattergeo"
           }
          ],
          "scattergl": [
           {
            "marker": {
             "colorbar": {
              "outlinewidth": 0,
              "ticks": ""
             }
            },
            "type": "scattergl"
           }
          ],
          "scattermapbox": [
           {
            "marker": {
             "colorbar": {
              "outlinewidth": 0,
              "ticks": ""
             }
            },
            "type": "scattermapbox"
           }
          ],
          "scatterpolar": [
           {
            "marker": {
             "colorbar": {
              "outlinewidth": 0,
              "ticks": ""
             }
            },
            "type": "scatterpolar"
           }
          ],
          "scatterpolargl": [
           {
            "marker": {
             "colorbar": {
              "outlinewidth": 0,
              "ticks": ""
             }
            },
            "type": "scatterpolargl"
           }
          ],
          "scatterternary": [
           {
            "marker": {
             "colorbar": {
              "outlinewidth": 0,
              "ticks": ""
             }
            },
            "type": "scatterternary"
           }
          ],
          "surface": [
           {
            "colorbar": {
             "outlinewidth": 0,
             "ticks": ""
            },
            "colorscale": [
             [
              0,
              "#0d0887"
             ],
             [
              0.1111111111111111,
              "#46039f"
             ],
             [
              0.2222222222222222,
              "#7201a8"
             ],
             [
              0.3333333333333333,
              "#9c179e"
             ],
             [
              0.4444444444444444,
              "#bd3786"
             ],
             [
              0.5555555555555556,
              "#d8576b"
             ],
             [
              0.6666666666666666,
              "#ed7953"
             ],
             [
              0.7777777777777778,
              "#fb9f3a"
             ],
             [
              0.8888888888888888,
              "#fdca26"
             ],
             [
              1,
              "#f0f921"
             ]
            ],
            "type": "surface"
           }
          ],
          "table": [
           {
            "cells": {
             "fill": {
              "color": "#EBF0F8"
             },
             "line": {
              "color": "white"
             }
            },
            "header": {
             "fill": {
              "color": "#C8D4E3"
             },
             "line": {
              "color": "white"
             }
            },
            "type": "table"
           }
          ]
         },
         "layout": {
          "annotationdefaults": {
           "arrowcolor": "#2a3f5f",
           "arrowhead": 0,
           "arrowwidth": 1
          },
          "autotypenumbers": "strict",
          "coloraxis": {
           "colorbar": {
            "outlinewidth": 0,
            "ticks": ""
           }
          },
          "colorscale": {
           "diverging": [
            [
             0,
             "#8e0152"
            ],
            [
             0.1,
             "#c51b7d"
            ],
            [
             0.2,
             "#de77ae"
            ],
            [
             0.3,
             "#f1b6da"
            ],
            [
             0.4,
             "#fde0ef"
            ],
            [
             0.5,
             "#f7f7f7"
            ],
            [
             0.6,
             "#e6f5d0"
            ],
            [
             0.7,
             "#b8e186"
            ],
            [
             0.8,
             "#7fbc41"
            ],
            [
             0.9,
             "#4d9221"
            ],
            [
             1,
             "#276419"
            ]
           ],
           "sequential": [
            [
             0,
             "#0d0887"
            ],
            [
             0.1111111111111111,
             "#46039f"
            ],
            [
             0.2222222222222222,
             "#7201a8"
            ],
            [
             0.3333333333333333,
             "#9c179e"
            ],
            [
             0.4444444444444444,
             "#bd3786"
            ],
            [
             0.5555555555555556,
             "#d8576b"
            ],
            [
             0.6666666666666666,
             "#ed7953"
            ],
            [
             0.7777777777777778,
             "#fb9f3a"
            ],
            [
             0.8888888888888888,
             "#fdca26"
            ],
            [
             1,
             "#f0f921"
            ]
           ],
           "sequentialminus": [
            [
             0,
             "#0d0887"
            ],
            [
             0.1111111111111111,
             "#46039f"
            ],
            [
             0.2222222222222222,
             "#7201a8"
            ],
            [
             0.3333333333333333,
             "#9c179e"
            ],
            [
             0.4444444444444444,
             "#bd3786"
            ],
            [
             0.5555555555555556,
             "#d8576b"
            ],
            [
             0.6666666666666666,
             "#ed7953"
            ],
            [
             0.7777777777777778,
             "#fb9f3a"
            ],
            [
             0.8888888888888888,
             "#fdca26"
            ],
            [
             1,
             "#f0f921"
            ]
           ]
          },
          "colorway": [
           "#636efa",
           "#EF553B",
           "#00cc96",
           "#ab63fa",
           "#FFA15A",
           "#19d3f3",
           "#FF6692",
           "#B6E880",
           "#FF97FF",
           "#FECB52"
          ],
          "font": {
           "color": "#2a3f5f"
          },
          "geo": {
           "bgcolor": "white",
           "lakecolor": "white",
           "landcolor": "#E5ECF6",
           "showlakes": true,
           "showland": true,
           "subunitcolor": "white"
          },
          "hoverlabel": {
           "align": "left"
          },
          "hovermode": "closest",
          "mapbox": {
           "style": "light"
          },
          "paper_bgcolor": "white",
          "plot_bgcolor": "#E5ECF6",
          "polar": {
           "angularaxis": {
            "gridcolor": "white",
            "linecolor": "white",
            "ticks": ""
           },
           "bgcolor": "#E5ECF6",
           "radialaxis": {
            "gridcolor": "white",
            "linecolor": "white",
            "ticks": ""
           }
          },
          "scene": {
           "xaxis": {
            "backgroundcolor": "#E5ECF6",
            "gridcolor": "white",
            "gridwidth": 2,
            "linecolor": "white",
            "showbackground": true,
            "ticks": "",
            "zerolinecolor": "white"
           },
           "yaxis": {
            "backgroundcolor": "#E5ECF6",
            "gridcolor": "white",
            "gridwidth": 2,
            "linecolor": "white",
            "showbackground": true,
            "ticks": "",
            "zerolinecolor": "white"
           },
           "zaxis": {
            "backgroundcolor": "#E5ECF6",
            "gridcolor": "white",
            "gridwidth": 2,
            "linecolor": "white",
            "showbackground": true,
            "ticks": "",
            "zerolinecolor": "white"
           }
          },
          "shapedefaults": {
           "line": {
            "color": "#2a3f5f"
           }
          },
          "ternary": {
           "aaxis": {
            "gridcolor": "white",
            "linecolor": "white",
            "ticks": ""
           },
           "baxis": {
            "gridcolor": "white",
            "linecolor": "white",
            "ticks": ""
           },
           "bgcolor": "#E5ECF6",
           "caxis": {
            "gridcolor": "white",
            "linecolor": "white",
            "ticks": ""
           }
          },
          "title": {
           "x": 0.05
          },
          "xaxis": {
           "automargin": true,
           "gridcolor": "white",
           "linecolor": "white",
           "ticks": "",
           "title": {
            "standoff": 15
           },
           "zerolinecolor": "white",
           "zerolinewidth": 2
          },
          "yaxis": {
           "automargin": true,
           "gridcolor": "white",
           "linecolor": "white",
           "ticks": "",
           "title": {
            "standoff": 15
           },
           "zerolinecolor": "white",
           "zerolinewidth": 2
          }
         }
        },
        "xaxis": {
         "anchor": "y",
         "autorange": true,
         "domain": [
          0,
          1
         ],
         "range": [
          -0.5,
          19.5
         ],
         "title": {
          "text": "index"
         },
         "type": "category"
        },
        "yaxis": {
         "anchor": "x",
         "autorange": true,
         "domain": [
          0,
          1
         ],
         "range": [
          0,
          3883.157894736842
         ],
         "title": {
          "text": "y"
         },
         "type": "linear"
        }
       }
      },
      "image/png": "[encoded data removed]",
      "text/html": [
       "<div>                            <div id=\"60f96692-8416-4216-9041-100b758c8bd8\" class=\"plotly-graph-div\" style=\"height:525px; width:100%;\"></div>            <script type=\"text/javascript\">                require([\"plotly\"], function(Plotly) {                    window.PLOTLYENV=window.PLOTLYENV || {};                                    if (document.getElementById(\"60f96692-8416-4216-9041-100b758c8bd8\")) {                    Plotly.newPlot(                        \"60f96692-8416-4216-9041-100b758c8bd8\",                        [{\"alignmentgroup\":\"True\",\"hovertemplate\":\"index=%{x}<br>y=%{y}<extra></extra>\",\"legendgroup\":\"\",\"marker\":{\"color\":\"#636efa\",\"pattern\":{\"shape\":\"\"}},\"name\":\"\",\"offsetgroup\":\"\",\"orientation\":\"v\",\"showlegend\":false,\"textposition\":\"auto\",\"x\":[\"agile\",\"data wrangling\",\"aws\",\"analysis\",\"nlp\",\"mysql\",\"nosql\",\"sas\",\"forecasting\",\"automation\",\"power b.i\",\"data analysis\",\"ai\",\"azure\",\"modelling\",\"statistics\",\"numpy\",\"forecast\",\"deep learning\",\"mathematics\"],\"xaxis\":\"x\",\"y\":[3689,3688,3688,3688,3688,3687,3687,3687,3687,3687,3687,3687,3687,3687,3687,3687,3687,3687,3687,3687],\"yaxis\":\"y\",\"type\":\"bar\"}],                        {\"template\":{\"data\":{\"histogram2dcontour\":[{\"type\":\"histogram2dcontour\",\"colorbar\":{\"outlinewidth\":0,\"ticks\":\"\"},\"colorscale\":[[0.0,\"#0d0887\"],[0.1111111111111111,\"#46039f\"],[0.2222222222222222,\"#7201a8\"],[0.3333333333333333,\"#9c179e\"],[0.4444444444444444,\"#bd3786\"],[0.5555555555555556,\"#d8576b\"],[0.6666666666666666,\"#ed7953\"],[0.7777777777777778,\"#fb9f3a\"],[0.8888888888888888,\"#fdca26\"],[1.0,\"#f0f921\"]]}],\"choropleth\":[{\"type\":\"choropleth\",\"colorbar\":{\"outlinewidth\":0,\"ticks\":\"\"}}],\"histogram2d\":[{\"type\":\"histogram2d\",\"colorbar\":{\"outlinewidth\":0,\"ticks\":\"\"},\"colorscale\":[[0.0,\"#0d0887\"],[0.1111111111111111,\"#46039f\"],[0.2222222222222222,\"#7201a8\"],[0.3333333333333333,\"#9c179e\"],[0.4444444444444444,\"#bd3786\"],[0.5555555555555556,\"#d8576b\"],[0.6666666666666666,\"#ed7953\"],[0.7777777777777778,\"#fb9f3a\"],[0.8888888888888888,\"#fdca26\"],[1.0,\"#f0f921\"]]}],\"heatmap\":[{\"type\":\"heatmap\",\"colorbar\":{\"outlinewidth\":0,\"ticks\":\"\"},\"colorscale\":[[0.0,\"#0d0887\"],[0.1111111111111111,\"#46039f\"],[0.2222222222222222,\"#7201a8\"],[0.3333333333333333,\"#9c179e\"],[0.4444444444444444,\"#bd3786\"],[0.5555555555555556,\"#d8576b\"],[0.6666666666666666,\"#ed7953\"],[0.7777777777777778,\"#fb9f3a\"],[0.8888888888888888,\"#fdca26\"],[1.0,\"#f0f921\"]]}],\"heatmapgl\":[{\"type\":\"heatmapgl\",\"colorbar\":{\"outlinewidth\":0,\"ticks\":\"\"},\"colorscale\":[[0.0,\"#0d0887\"],[0.1111111111111111,\"#46039f\"],[0.2222222222222222,\"#7201a8\"],[0.3333333333333333,\"#9c179e\"],[0.4444444444444444,\"#bd3786\"],[0.5555555555555556,\"#d8576b\"],[0.6666666666666666,\"#ed7953\"],[0.7777777777777778,\"#fb9f3a\"],[0.8888888888888888,\"#fdca26\"],[1.0,\"#f0f921\"]]}],\"contourcarpet\":[{\"type\":\"contourcarpet\",\"colorbar\":{\"outlinewidth\":0,\"ticks\":\"\"}}],\"contour\":[{\"type\":\"contour\",\"colorbar\":{\"outlinewidth\":0,\"ticks\":\"\"},\"colorscale\":[[0.0,\"#0d0887\"],[0.1111111111111111,\"#46039f\"],[0.2222222222222222,\"#7201a8\"],[0.3333333333333333,\"#9c179e\"],[0.4444444444444444,\"#bd3786\"],[0.5555555555555556,\"#d8576b\"],[0.6666666666666666,\"#ed7953\"],[0.7777777777777778,\"#fb9f3a\"],[0.8888888888888888,\"#fdca26\"],[1.0,\"#f0f921\"]]}],\"surface\":[{\"type\":\"surface\",\"colorbar\":{\"outlinewidth\":0,\"ticks\":\"\"},\"colorscale\":[[0.0,\"#0d0887\"],[0.1111111111111111,\"#46039f\"],[0.2222222222222222,\"#7201a8\"],[0.3333333333333333,\"#9c179e\"],[0.4444444444444444,\"#bd3786\"],[0.5555555555555556,\"#d8576b\"],[0.6666666666666666,\"#ed7953\"],[0.7777777777777778,\"#fb9f3a\"],[0.8888888888888888,\"#fdca26\"],[1.0,\"#f0f921\"]]}],\"mesh3d\":[{\"type\":\"mesh3d\",\"colorbar\":{\"outlinewidth\":0,\"ticks\":\"\"}}],\"scatter\":[{\"fillpattern\":{\"fillmode\":\"overlay\",\"size\":10,\"solidity\":0.2},\"type\":\"scatter\"}],\"parcoords\":[{\"type\":\"parcoords\",\"line\":{\"colorbar\":{\"outlinewidth\":0,\"ticks\":\"\"}}}],\"scatterpolargl\":[{\"type\":\"scatterpolargl\",\"marker\":{\"colorbar\":{\"outlinewidth\":0,\"ticks\":\"\"}}}],\"bar\":[{\"error_x\":{\"color\":\"#2a3f5f\"},\"error_y\":{\"color\":\"#2a3f5f\"},\"marker\":{\"line\":{\"color\":\"#E5ECF6\",\"width\":0.5},\"pattern\":{\"fillmode\":\"overlay\",\"size\":10,\"solidity\":0.2}},\"type\":\"bar\"}],\"scattergeo\":[{\"type\":\"scattergeo\",\"marker\":{\"colorbar\":{\"outlinewidth\":0,\"ticks\":\"\"}}}],\"scatterpolar\":[{\"type\":\"scatterpolar\",\"marker\":{\"colorbar\":{\"outlinewidth\":0,\"ticks\":\"\"}}}],\"histogram\":[{\"marker\":{\"pattern\":{\"fillmode\":\"overlay\",\"size\":10,\"solidity\":0.2}},\"type\":\"histogram\"}],\"scattergl\":[{\"type\":\"scattergl\",\"marker\":{\"colorbar\":{\"outlinewidth\":0,\"ticks\":\"\"}}}],\"scatter3d\":[{\"type\":\"scatter3d\",\"line\":{\"colorbar\":{\"outlinewidth\":0,\"ticks\":\"\"}},\"marker\":{\"colorbar\":{\"outlinewidth\":0,\"ticks\":\"\"}}}],\"scattermapbox\":[{\"type\":\"scattermapbox\",\"marker\":{\"colorbar\":{\"outlinewidth\":0,\"ticks\":\"\"}}}],\"scatterternary\":[{\"type\":\"scatterternary\",\"marker\":{\"colorbar\":{\"outlinewidth\":0,\"ticks\":\"\"}}}],\"scattercarpet\":[{\"type\":\"scattercarpet\",\"marker\":{\"colorbar\":{\"outlinewidth\":0,\"ticks\":\"\"}}}],\"carpet\":[{\"aaxis\":{\"endlinecolor\":\"#2a3f5f\",\"gridcolor\":\"white\",\"linecolor\":\"white\",\"minorgridcolor\":\"white\",\"startlinecolor\":\"#2a3f5f\"},\"baxis\":{\"endlinecolor\":\"#2a3f5f\",\"gridcolor\":\"white\",\"linecolor\":\"white\",\"minorgridcolor\":\"white\",\"startlinecolor\":\"#2a3f5f\"},\"type\":\"carpet\"}],\"table\":[{\"cells\":{\"fill\":{\"color\":\"#EBF0F8\"},\"line\":{\"color\":\"white\"}},\"header\":{\"fill\":{\"color\":\"#C8D4E3\"},\"line\":{\"color\":\"white\"}},\"type\":\"table\"}],\"barpolar\":[{\"marker\":{\"line\":{\"color\":\"#E5ECF6\",\"width\":0.5},\"pattern\":{\"fillmode\":\"overlay\",\"size\":10,\"solidity\":0.2}},\"type\":\"barpolar\"}],\"pie\":[{\"automargin\":true,\"type\":\"pie\"}]},\"layout\":{\"autotypenumbers\":\"strict\",\"colorway\":[\"#636efa\",\"#EF553B\",\"#00cc96\",\"#ab63fa\",\"#FFA15A\",\"#19d3f3\",\"#FF6692\",\"#B6E880\",\"#FF97FF\",\"#FECB52\"],\"font\":{\"color\":\"#2a3f5f\"},\"hovermode\":\"closest\",\"hoverlabel\":{\"align\":\"left\"},\"paper_bgcolor\":\"white\",\"plot_bgcolor\":\"#E5ECF6\",\"polar\":{\"bgcolor\":\"#E5ECF6\",\"angularaxis\":{\"gridcolor\":\"white\",\"linecolor\":\"white\",\"ticks\":\"\"},\"radialaxis\":{\"gridcolor\":\"white\",\"linecolor\":\"white\",\"ticks\":\"\"}},\"ternary\":{\"bgcolor\":\"#E5ECF6\",\"aaxis\":{\"gridcolor\":\"white\",\"linecolor\":\"white\",\"ticks\":\"\"},\"baxis\":{\"gridcolor\":\"white\",\"linecolor\":\"white\",\"ticks\":\"\"},\"caxis\":{\"gridcolor\":\"white\",\"linecolor\":\"white\",\"ticks\":\"\"}},\"coloraxis\":{\"colorbar\":{\"outlinewidth\":0,\"ticks\":\"\"}},\"colorscale\":{\"sequential\":[[0.0,\"#0d0887\"],[0.1111111111111111,\"#46039f\"],[0.2222222222222222,\"#7201a8\"],[0.3333333333333333,\"#9c179e\"],[0.4444444444444444,\"#bd3786\"],[0.5555555555555556,\"#d8576b\"],[0.6666666666666666,\"#ed7953\"],[0.7777777777777778,\"#fb9f3a\"],[0.8888888888888888,\"#fdca26\"],[1.0,\"#f0f921\"]],\"sequentialminus\":[[0.0,\"#0d0887\"],[0.1111111111111111,\"#46039f\"],[0.2222222222222222,\"#7201a8\"],[0.3333333333333333,\"#9c179e\"],[0.4444444444444444,\"#bd3786\"],[0.5555555555555556,\"#d8576b\"],[0.6666666666666666,\"#ed7953\"],[0.7777777777777778,\"#fb9f3a\"],[0.8888888888888888,\"#fdca26\"],[1.0,\"#f0f921\"]],\"diverging\":[[0,\"#8e0152\"],[0.1,\"#c51b7d\"],[0.2,\"#de77ae\"],[0.3,\"#f1b6da\"],[0.4,\"#fde0ef\"],[0.5,\"#f7f7f7\"],[0.6,\"#e6f5d0\"],[0.7,\"#b8e186\"],[0.8,\"#7fbc41\"],[0.9,\"#4d9221\"],[1,\"#276419\"]]},\"xaxis\":{\"gridcolor\":\"white\",\"linecolor\":\"white\",\"ticks\":\"\",\"title\":{\"standoff\":15},\"zerolinecolor\":\"white\",\"automargin\":true,\"zerolinewidth\":2},\"yaxis\":{\"gridcolor\":\"white\",\"linecolor\":\"white\",\"ticks\":\"\",\"title\":{\"standoff\":15},\"zerolinecolor\":\"white\",\"automargin\":true,\"zerolinewidth\":2},\"scene\":{\"xaxis\":{\"backgroundcolor\":\"#E5ECF6\",\"gridcolor\":\"white\",\"linecolor\":\"white\",\"showbackground\":true,\"ticks\":\"\",\"zerolinecolor\":\"white\",\"gridwidth\":2},\"yaxis\":{\"backgroundcolor\":\"#E5ECF6\",\"gridcolor\":\"white\",\"linecolor\":\"white\",\"showbackground\":true,\"ticks\":\"\",\"zerolinecolor\":\"white\",\"gridwidth\":2},\"zaxis\":{\"backgroundcolor\":\"#E5ECF6\",\"gridcolor\":\"white\",\"linecolor\":\"white\",\"showbackground\":true,\"ticks\":\"\",\"zerolinecolor\":\"white\",\"gridwidth\":2}},\"shapedefaults\":{\"line\":{\"color\":\"#2a3f5f\"}},\"annotationdefaults\":{\"arrowcolor\":\"#2a3f5f\",\"arrowhead\":0,\"arrowwidth\":1},\"geo\":{\"bgcolor\":\"white\",\"landcolor\":\"#E5ECF6\",\"subunitcolor\":\"white\",\"showland\":true,\"showlakes\":true,\"lakecolor\":\"white\"},\"title\":{\"x\":0.05},\"mapbox\":{\"style\":\"light\"}}},\"xaxis\":{\"anchor\":\"y\",\"domain\":[0.0,1.0],\"title\":{\"text\":\"index\"}},\"yaxis\":{\"anchor\":\"x\",\"domain\":[0.0,1.0],\"title\":{\"text\":\"y\"}},\"legend\":{\"tracegroupgap\":0},\"margin\":{\"t\":60},\"barmode\":\"relative\"},                        {\"responsive\": true}                    ).then(function(){\n",
       "                            \n",
       "var gd = document.getElementById('60f96692-8416-4216-9041-100b758c8bd8');\n",
       "var x = new MutationObserver(function (mutations, observer) {{\n",
       "        var display = window.getComputedStyle(gd).display;\n",
       "        if (!display || display === 'none') {{\n",
       "            console.log([gd, 'removed!']);\n",
       "            Plotly.purge(gd);\n",
       "            observer.disconnect();\n",
       "        }}\n",
       "}});\n",
       "\n",
       "// Listen for the removal of the full notebook cells\n",
       "var notebookContainer = gd.closest('#notebook-container');\n",
       "if (notebookContainer) {{\n",
       "    x.observe(notebookContainer, {childList: true});\n",
       "}}\n",
       "\n",
       "// Listen for the clearing of the current output cell\n",
       "var outputEl = gd.closest('.output');\n",
       "if (outputEl) {{\n",
       "    x.observe(outputEl, {childList: true});\n",
       "}}\n",
       "\n",
       "                        })                };                });            </script>        </div>"
      ]
     },
     "metadata": {},
     "output_type": "display_data"
    }
   ],
   "source": [
    "fig = px.bar(top_10_skills, x=top_10_skills.index, y=top_10_skills.values)\n",
    "fig.show()"
   ]
  },
  {
   "cell_type": "code",
   "execution_count": null,
   "id": "34277d00-6099-4708-a861-7b1832c9678d",
   "metadata": {},
   "outputs": [],
   "source": []
  }
 ],
 "metadata": {
  "kernelspec": {
   "display_name": "Python 3 (ipykernel)",
   "language": "python",
   "name": "python3"
  },
  "language_info": {
   "codemirror_mode": {
    "name": "ipython",
    "version": 3
   },
   "file_extension": ".py",
   "mimetype": "text/x-python",
   "name": "python",
   "nbconvert_exporter": "python",
   "pygments_lexer": "ipython3",
   "version": "3.10.8"
  }
 },
 "nbformat": 4,
 "nbformat_minor": 5
}
