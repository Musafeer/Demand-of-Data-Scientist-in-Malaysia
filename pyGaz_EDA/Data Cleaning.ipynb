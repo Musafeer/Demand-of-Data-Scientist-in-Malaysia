{
 "cells": [
  {
   "cell_type": "markdown",
   "id": "aebab531-53d8-4aeb-80dc-50c3feb8113b",
   "metadata": {},
   "source": [
    "## Data Preparation"
   ]
  },
  {
   "cell_type": "code",
   "execution_count": 1,
   "id": "d2367a64-4024-470e-a1af-43c95135a395",
   "metadata": {},
   "outputs": [],
   "source": [
    "import pandas as pd\n",
    "import numpy as np\n",
    "import re\n",
    "import matplotlib.pyplot as plt\n",
    "import seaborn as sns\n",
    "import plotly.express as px"
   ]
  },
  {
   "cell_type": "code",
   "execution_count": 2,
   "id": "18b29509-47c3-4ef3-9a62-82181414d744",
   "metadata": {},
   "outputs": [
    {
     "data": {
      "text/plain": "          location                                              title  \\\n0          Bentong                           Data Scientist - Manager   \n1     Kuala Lumpur  Senior Data Scientist - Information Retrieval ...   \n2     Kuala Lumpur                                     Data Scientist   \n3     Kuala Lumpur          DATA SCIENCE &BACK END SYSTEM ENGINEERING   \n4      Bayan Lepas      Business Intelligent Analyst (Data Scientist)   \n...            ...                                                ...   \n3685  Kuala Lumpur             Manager ICS Technical Controls Testing   \n3686      Selangor                             Senior System Engineer   \n3687  Kuala Lumpur                            Junior Service Engineer   \n3688      Malaysia  Senior Manager, Operations Excellence-Kuala Lu...   \n3689  Kuala Lumpur                 Software Developer (C++ Languange)   \n\n                                       company  salary  \\\n0                      Genting Malaysia Berhad     NaN   \n1                        SEEK Asia (JobStreet)     NaN   \n2                            RHB Banking Group     NaN   \n3                   Digital Silhouette Sdn Bhd     NaN   \n4     Keysight Technologies Malaysia Sdn. Bhd.     NaN   \n...                                        ...     ...   \n3685                        Standard Chartered     NaN   \n3686              YONGPENG SOLUTIONS SDN. BHD.     NaN   \n3687                              Baker Hughes     NaN   \n3688                                    Lazada     NaN   \n3689                    Synergy Log-In Systems     NaN   \n\n                                                summary  \\\n0     Operate machine-learning models to perform dat...   \n1     The Role\\nThe Senior Data Scientist – Informat...   \n2     Responsibilities\\nAssess applicability of adva...   \n3     1.     Data Mining &Analysis\\n-       Requires...   \n4     We are looking for a Data Scientist to analyze...   \n...                                                 ...   \n3685  Job: Operations\\nPrimary Location: Asia-Malays...   \n3686  Description\\nJob Description and Responsibilit...   \n3687  Are you a Service Engineer looking for an inte...   \n3688  Job Description\\nLazada Malaysia Sales Operati...   \n3689  Description\\nWe are looking for a Software Dev...   \n\n                                                job_url  \n0     https://www.jobstreet.com.my/en/job/data-scien...  \n1     https://www.jobstreet.com.my/en/job/senior-dat...  \n2     https://www.jobstreet.com.my/en/job/data-scien...  \n3     https://www.jobstreet.com.my/en/job/data-scien...  \n4     https://www.jobstreet.com.my/en/job/business-i...  \n...                                                 ...  \n3685  https://www.jobstreet.com.my/en/job/manager-ic...  \n3686  https://www.jobstreet.com.my/en/job/senior-sys...  \n3687  https://www.jobstreet.com.my/en/job/junior-ser...  \n3688  https://www.jobstreet.com.my/en/job/senior-man...  \n3689  https://www.jobstreet.com.my/en/job/software-d...  \n\n[3690 rows x 6 columns]",
      "text/html": "<div>\n<style scoped>\n    .dataframe tbody tr th:only-of-type {\n        vertical-align: middle;\n    }\n\n    .dataframe tbody tr th {\n        vertical-align: top;\n    }\n\n    .dataframe thead th {\n        text-align: right;\n    }\n</style>\n<table border=\"1\" class=\"dataframe\">\n  <thead>\n    <tr style=\"text-align: right;\">\n      <th></th>\n      <th>location</th>\n      <th>title</th>\n      <th>company</th>\n      <th>salary</th>\n      <th>summary</th>\n      <th>job_url</th>\n    </tr>\n  </thead>\n  <tbody>\n    <tr>\n      <th>0</th>\n      <td>Bentong</td>\n      <td>Data Scientist - Manager</td>\n      <td>Genting Malaysia Berhad</td>\n      <td>NaN</td>\n      <td>Operate machine-learning models to perform dat...</td>\n      <td>https://www.jobstreet.com.my/en/job/data-scien...</td>\n    </tr>\n    <tr>\n      <th>1</th>\n      <td>Kuala Lumpur</td>\n      <td>Senior Data Scientist - Information Retrieval ...</td>\n      <td>SEEK Asia (JobStreet)</td>\n      <td>NaN</td>\n      <td>The Role\\nThe Senior Data Scientist – Informat...</td>\n      <td>https://www.jobstreet.com.my/en/job/senior-dat...</td>\n    </tr>\n    <tr>\n      <th>2</th>\n      <td>Kuala Lumpur</td>\n      <td>Data Scientist</td>\n      <td>RHB Banking Group</td>\n      <td>NaN</td>\n      <td>Responsibilities\\nAssess applicability of adva...</td>\n      <td>https://www.jobstreet.com.my/en/job/data-scien...</td>\n    </tr>\n    <tr>\n      <th>3</th>\n      <td>Kuala Lumpur</td>\n      <td>DATA SCIENCE &amp;BACK END SYSTEM ENGINEERING</td>\n      <td>Digital Silhouette Sdn Bhd</td>\n      <td>NaN</td>\n      <td>1.     Data Mining &amp;Analysis\\n-       Requires...</td>\n      <td>https://www.jobstreet.com.my/en/job/data-scien...</td>\n    </tr>\n    <tr>\n      <th>4</th>\n      <td>Bayan Lepas</td>\n      <td>Business Intelligent Analyst (Data Scientist)</td>\n      <td>Keysight Technologies Malaysia Sdn. Bhd.</td>\n      <td>NaN</td>\n      <td>We are looking for a Data Scientist to analyze...</td>\n      <td>https://www.jobstreet.com.my/en/job/business-i...</td>\n    </tr>\n    <tr>\n      <th>...</th>\n      <td>...</td>\n      <td>...</td>\n      <td>...</td>\n      <td>...</td>\n      <td>...</td>\n      <td>...</td>\n    </tr>\n    <tr>\n      <th>3685</th>\n      <td>Kuala Lumpur</td>\n      <td>Manager ICS Technical Controls Testing</td>\n      <td>Standard Chartered</td>\n      <td>NaN</td>\n      <td>Job: Operations\\nPrimary Location: Asia-Malays...</td>\n      <td>https://www.jobstreet.com.my/en/job/manager-ic...</td>\n    </tr>\n    <tr>\n      <th>3686</th>\n      <td>Selangor</td>\n      <td>Senior System Engineer</td>\n      <td>YONGPENG SOLUTIONS SDN. BHD.</td>\n      <td>NaN</td>\n      <td>Description\\nJob Description and Responsibilit...</td>\n      <td>https://www.jobstreet.com.my/en/job/senior-sys...</td>\n    </tr>\n    <tr>\n      <th>3687</th>\n      <td>Kuala Lumpur</td>\n      <td>Junior Service Engineer</td>\n      <td>Baker Hughes</td>\n      <td>NaN</td>\n      <td>Are you a Service Engineer looking for an inte...</td>\n      <td>https://www.jobstreet.com.my/en/job/junior-ser...</td>\n    </tr>\n    <tr>\n      <th>3688</th>\n      <td>Malaysia</td>\n      <td>Senior Manager, Operations Excellence-Kuala Lu...</td>\n      <td>Lazada</td>\n      <td>NaN</td>\n      <td>Job Description\\nLazada Malaysia Sales Operati...</td>\n      <td>https://www.jobstreet.com.my/en/job/senior-man...</td>\n    </tr>\n    <tr>\n      <th>3689</th>\n      <td>Kuala Lumpur</td>\n      <td>Software Developer (C++ Languange)</td>\n      <td>Synergy Log-In Systems</td>\n      <td>NaN</td>\n      <td>Description\\nWe are looking for a Software Dev...</td>\n      <td>https://www.jobstreet.com.my/en/job/software-d...</td>\n    </tr>\n  </tbody>\n</table>\n<p>3690 rows × 6 columns</p>\n</div>"
     },
     "execution_count": 2,
     "metadata": {},
     "output_type": "execute_result"
    }
   ],
   "source": [
    "df = pd.read_csv('./final_19122022/final.csv')\n",
    "df"
   ]
  },
  {
   "cell_type": "markdown",
   "id": "d4503e8c-ef38-446a-a1ff-02ff3aa172f3",
   "metadata": {},
   "source": [
    "### Replacing null value in salary with 0"
   ]
  },
  {
   "cell_type": "code",
   "execution_count": 3,
   "id": "75cf5ec4-9f87-4fa6-8284-31da6e2d8fd5",
   "metadata": {},
   "outputs": [
    {
     "name": "stdout",
     "output_type": "stream",
     "text": [
      "<class 'pandas.core.frame.DataFrame'>\n",
      "RangeIndex: 3690 entries, 0 to 3689\n",
      "Data columns (total 6 columns):\n",
      " #   Column    Non-Null Count  Dtype  \n",
      "---  ------    --------------  -----  \n",
      " 0   location  3690 non-null   object \n",
      " 1   title     3690 non-null   object \n",
      " 2   company   3690 non-null   object \n",
      " 3   salary    0 non-null      float64\n",
      " 4   summary   3690 non-null   object \n",
      " 5   job_url   3690 non-null   object \n",
      "dtypes: float64(1), object(5)\n",
      "memory usage: 173.1+ KB\n"
     ]
    }
   ],
   "source": [
    "df.info()"
   ]
  },
  {
   "cell_type": "code",
   "execution_count": 4,
   "id": "9d63be76-85aa-44db-b12f-b1399a62535b",
   "metadata": {},
   "outputs": [
    {
     "data": {
      "text/plain": "3690"
     },
     "execution_count": 4,
     "metadata": {},
     "output_type": "execute_result"
    }
   ],
   "source": [
    "df.salary.isnull().sum()"
   ]
  },
  {
   "cell_type": "code",
   "execution_count": 6,
   "id": "a6a82c41-c31a-4a3b-b923-3de3395396b4",
   "metadata": {},
   "outputs": [],
   "source": [
    "new_df = df.fillna(0)"
   ]
  },
  {
   "cell_type": "code",
   "execution_count": 7,
   "id": "3eb275ba-739c-4449-b074-38b4dbb06f56",
   "metadata": {},
   "outputs": [
    {
     "name": "stdout",
     "output_type": "stream",
     "text": [
      "<class 'pandas.core.frame.DataFrame'>\n",
      "RangeIndex: 3690 entries, 0 to 3689\n",
      "Data columns (total 6 columns):\n",
      " #   Column    Non-Null Count  Dtype  \n",
      "---  ------    --------------  -----  \n",
      " 0   location  3690 non-null   object \n",
      " 1   title     3690 non-null   object \n",
      " 2   company   3690 non-null   object \n",
      " 3   salary    3690 non-null   float64\n",
      " 4   summary   3690 non-null   object \n",
      " 5   job_url   3690 non-null   object \n",
      "dtypes: float64(1), object(5)\n",
      "memory usage: 173.1+ KB\n"
     ]
    }
   ],
   "source": [
    "new_df.info()"
   ]
  },
  {
   "cell_type": "markdown",
   "id": "92b49e29-f911-4e2b-a784-72231d6bd0b0",
   "metadata": {},
   "source": [
    "### Company with most job intake"
   ]
  },
  {
   "cell_type": "code",
   "execution_count": 8,
   "id": "a5f1b9ae-e36b-4a2f-ac58-156e3ed5b9c2",
   "metadata": {},
   "outputs": [
    {
     "data": {
      "text/plain": "AirAsia                                          85\nCIMB Niaga                                       70\nTRUST RECRUIT PTE. LTD.                          66\nWestern Digital                                  40\nAmbition Group Malaysia Sdn Bhd                  38\nCompany Confidential                             32\nMichael Page International (Malaysia) Sdn Bhd    28\nRK Recruitment Pte. Ltd.                         24\nVision Technology Consulting                     22\nRHB Bank                                         21\nName: company, dtype: int64"
     },
     "execution_count": 8,
     "metadata": {},
     "output_type": "execute_result"
    }
   ],
   "source": [
    "df_val = new_df.company.value_counts()\n",
    "df_val.head(10)"
   ]
  },
  {
   "cell_type": "code",
   "execution_count": 9,
   "outputs": [
    {
     "data": {
      "text/plain": "pandas.core.series.Series"
     },
     "execution_count": 9,
     "metadata": {},
     "output_type": "execute_result"
    }
   ],
   "source": [
    "type(df_val)"
   ],
   "metadata": {
    "collapsed": false
   }
  },
  {
   "cell_type": "code",
   "execution_count": 10,
   "outputs": [],
   "source": [
    "companies_df = df_val.to_frame()\n",
    "# companies_df = companies_df.rename(columns = {'index:'companies','company:'jobs'})\n",
    "# companies_df = companies_df.set_index()\n",
    "companies_df = companies_df.reset_index()"
   ],
   "metadata": {
    "collapsed": false
   }
  },
  {
   "cell_type": "code",
   "execution_count": 11,
   "outputs": [],
   "source": [
    "companies_df = companies_df.rename(columns = {'index':'companies','company':'jobs'})"
   ],
   "metadata": {
    "collapsed": false
   }
  },
  {
   "cell_type": "code",
   "execution_count": 23,
   "outputs": [],
   "source": [
    "companies_top20 =companies_df.head(20)\n",
    "companies_top20.to_csv('./companies_top20a.csv')"
   ],
   "metadata": {
    "collapsed": false
   }
  },
  {
   "cell_type": "code",
   "execution_count": 18,
   "outputs": [
    {
     "data": {
      "application/vnd.plotly.v1+json": {
       "data": [
        {
         "alignmentgroup": "True",
         "hovertemplate": "jobs=%{x}<br>companies=%{y}<extra></extra>",
         "legendgroup": "",
         "marker": {
          "color": "rgb(141,211,199)",
          "pattern": {
           "shape": ""
          }
         },
         "name": "",
         "offsetgroup": "",
         "orientation": "h",
         "showlegend": false,
         "textposition": "outside",
         "texttemplate": "%{x:.2s}",
         "x": [
          85,
          70,
          66,
          40,
          38,
          32,
          28,
          24,
          22,
          21,
          20,
          20,
          20,
          18,
          18,
          18,
          16,
          16,
          16,
          16
         ],
         "xaxis": "x",
         "y": [
          "AirAsia",
          "CIMB Niaga",
          "TRUST RECRUIT PTE. LTD.",
          "Western Digital",
          "Ambition Group Malaysia Sdn Bhd",
          "Company Confidential",
          "Michael Page International (Malaysia) Sdn Bhd",
          "RK Recruitment Pte. Ltd.",
          "Vision Technology Consulting",
          "RHB Bank",
          "SEEK Asia (JobStreet)",
          "Experian",
          "Flex",
          "Deloitte",
          "Avensys Consulting",
          "Infineon Technologies (Kulim) Sdn Bhd",
          "KLK OLEO",
          "Accenture",
          "Agensi Pekerjaan Hays (Malaysia) Sdn Bhd",
          "Agensi Pekerjaan Reeracoen Malaysia Sdn Bhd"
         ],
         "yaxis": "y",
         "type": "bar",
         "textfont": {
          "size": 12
         },
         "cliponaxis": false,
         "textangle": 0
        }
       ],
       "layout": {
        "template": {
         "data": {
          "histogram2dcontour": [
           {
            "type": "histogram2dcontour",
            "colorbar": {
             "outlinewidth": 0,
             "ticks": ""
            },
            "colorscale": [
             [
              0.0,
              "#0d0887"
             ],
             [
              0.1111111111111111,
              "#46039f"
             ],
             [
              0.2222222222222222,
              "#7201a8"
             ],
             [
              0.3333333333333333,
              "#9c179e"
             ],
             [
              0.4444444444444444,
              "#bd3786"
             ],
             [
              0.5555555555555556,
              "#d8576b"
             ],
             [
              0.6666666666666666,
              "#ed7953"
             ],
             [
              0.7777777777777778,
              "#fb9f3a"
             ],
             [
              0.8888888888888888,
              "#fdca26"
             ],
             [
              1.0,
              "#f0f921"
             ]
            ]
           }
          ],
          "choropleth": [
           {
            "type": "choropleth",
            "colorbar": {
             "outlinewidth": 0,
             "ticks": ""
            }
           }
          ],
          "histogram2d": [
           {
            "type": "histogram2d",
            "colorbar": {
             "outlinewidth": 0,
             "ticks": ""
            },
            "colorscale": [
             [
              0.0,
              "#0d0887"
             ],
             [
              0.1111111111111111,
              "#46039f"
             ],
             [
              0.2222222222222222,
              "#7201a8"
             ],
             [
              0.3333333333333333,
              "#9c179e"
             ],
             [
              0.4444444444444444,
              "#bd3786"
             ],
             [
              0.5555555555555556,
              "#d8576b"
             ],
             [
              0.6666666666666666,
              "#ed7953"
             ],
             [
              0.7777777777777778,
              "#fb9f3a"
             ],
             [
              0.8888888888888888,
              "#fdca26"
             ],
             [
              1.0,
              "#f0f921"
             ]
            ]
           }
          ],
          "heatmap": [
           {
            "type": "heatmap",
            "colorbar": {
             "outlinewidth": 0,
             "ticks": ""
            },
            "colorscale": [
             [
              0.0,
              "#0d0887"
             ],
             [
              0.1111111111111111,
              "#46039f"
             ],
             [
              0.2222222222222222,
              "#7201a8"
             ],
             [
              0.3333333333333333,
              "#9c179e"
             ],
             [
              0.4444444444444444,
              "#bd3786"
             ],
             [
              0.5555555555555556,
              "#d8576b"
             ],
             [
              0.6666666666666666,
              "#ed7953"
             ],
             [
              0.7777777777777778,
              "#fb9f3a"
             ],
             [
              0.8888888888888888,
              "#fdca26"
             ],
             [
              1.0,
              "#f0f921"
             ]
            ]
           }
          ],
          "heatmapgl": [
           {
            "type": "heatmapgl",
            "colorbar": {
             "outlinewidth": 0,
             "ticks": ""
            },
            "colorscale": [
             [
              0.0,
              "#0d0887"
             ],
             [
              0.1111111111111111,
              "#46039f"
             ],
             [
              0.2222222222222222,
              "#7201a8"
             ],
             [
              0.3333333333333333,
              "#9c179e"
             ],
             [
              0.4444444444444444,
              "#bd3786"
             ],
             [
              0.5555555555555556,
              "#d8576b"
             ],
             [
              0.6666666666666666,
              "#ed7953"
             ],
             [
              0.7777777777777778,
              "#fb9f3a"
             ],
             [
              0.8888888888888888,
              "#fdca26"
             ],
             [
              1.0,
              "#f0f921"
             ]
            ]
           }
          ],
          "contourcarpet": [
           {
            "type": "contourcarpet",
            "colorbar": {
             "outlinewidth": 0,
             "ticks": ""
            }
           }
          ],
          "contour": [
           {
            "type": "contour",
            "colorbar": {
             "outlinewidth": 0,
             "ticks": ""
            },
            "colorscale": [
             [
              0.0,
              "#0d0887"
             ],
             [
              0.1111111111111111,
              "#46039f"
             ],
             [
              0.2222222222222222,
              "#7201a8"
             ],
             [
              0.3333333333333333,
              "#9c179e"
             ],
             [
              0.4444444444444444,
              "#bd3786"
             ],
             [
              0.5555555555555556,
              "#d8576b"
             ],
             [
              0.6666666666666666,
              "#ed7953"
             ],
             [
              0.7777777777777778,
              "#fb9f3a"
             ],
             [
              0.8888888888888888,
              "#fdca26"
             ],
             [
              1.0,
              "#f0f921"
             ]
            ]
           }
          ],
          "surface": [
           {
            "type": "surface",
            "colorbar": {
             "outlinewidth": 0,
             "ticks": ""
            },
            "colorscale": [
             [
              0.0,
              "#0d0887"
             ],
             [
              0.1111111111111111,
              "#46039f"
             ],
             [
              0.2222222222222222,
              "#7201a8"
             ],
             [
              0.3333333333333333,
              "#9c179e"
             ],
             [
              0.4444444444444444,
              "#bd3786"
             ],
             [
              0.5555555555555556,
              "#d8576b"
             ],
             [
              0.6666666666666666,
              "#ed7953"
             ],
             [
              0.7777777777777778,
              "#fb9f3a"
             ],
             [
              0.8888888888888888,
              "#fdca26"
             ],
             [
              1.0,
              "#f0f921"
             ]
            ]
           }
          ],
          "mesh3d": [
           {
            "type": "mesh3d",
            "colorbar": {
             "outlinewidth": 0,
             "ticks": ""
            }
           }
          ],
          "scatter": [
           {
            "marker": {
             "line": {
              "color": "#283442"
             }
            },
            "type": "scatter"
           }
          ],
          "parcoords": [
           {
            "type": "parcoords",
            "line": {
             "colorbar": {
              "outlinewidth": 0,
              "ticks": ""
             }
            }
           }
          ],
          "scatterpolargl": [
           {
            "type": "scatterpolargl",
            "marker": {
             "colorbar": {
              "outlinewidth": 0,
              "ticks": ""
             }
            }
           }
          ],
          "bar": [
           {
            "error_x": {
             "color": "#f2f5fa"
            },
            "error_y": {
             "color": "#f2f5fa"
            },
            "marker": {
             "line": {
              "color": "rgb(17,17,17)",
              "width": 0.5
             },
             "pattern": {
              "fillmode": "overlay",
              "size": 10,
              "solidity": 0.2
             }
            },
            "type": "bar"
           }
          ],
          "scattergeo": [
           {
            "type": "scattergeo",
            "marker": {
             "colorbar": {
              "outlinewidth": 0,
              "ticks": ""
             }
            }
           }
          ],
          "scatterpolar": [
           {
            "type": "scatterpolar",
            "marker": {
             "colorbar": {
              "outlinewidth": 0,
              "ticks": ""
             }
            }
           }
          ],
          "histogram": [
           {
            "marker": {
             "pattern": {
              "fillmode": "overlay",
              "size": 10,
              "solidity": 0.2
             }
            },
            "type": "histogram"
           }
          ],
          "scattergl": [
           {
            "marker": {
             "line": {
              "color": "#283442"
             }
            },
            "type": "scattergl"
           }
          ],
          "scatter3d": [
           {
            "type": "scatter3d",
            "line": {
             "colorbar": {
              "outlinewidth": 0,
              "ticks": ""
             }
            },
            "marker": {
             "colorbar": {
              "outlinewidth": 0,
              "ticks": ""
             }
            }
           }
          ],
          "scattermapbox": [
           {
            "type": "scattermapbox",
            "marker": {
             "colorbar": {
              "outlinewidth": 0,
              "ticks": ""
             }
            }
           }
          ],
          "scatterternary": [
           {
            "type": "scatterternary",
            "marker": {
             "colorbar": {
              "outlinewidth": 0,
              "ticks": ""
             }
            }
           }
          ],
          "scattercarpet": [
           {
            "type": "scattercarpet",
            "marker": {
             "colorbar": {
              "outlinewidth": 0,
              "ticks": ""
             }
            }
           }
          ],
          "carpet": [
           {
            "aaxis": {
             "endlinecolor": "#A2B1C6",
             "gridcolor": "#506784",
             "linecolor": "#506784",
             "minorgridcolor": "#506784",
             "startlinecolor": "#A2B1C6"
            },
            "baxis": {
             "endlinecolor": "#A2B1C6",
             "gridcolor": "#506784",
             "linecolor": "#506784",
             "minorgridcolor": "#506784",
             "startlinecolor": "#A2B1C6"
            },
            "type": "carpet"
           }
          ],
          "table": [
           {
            "cells": {
             "fill": {
              "color": "#506784"
             },
             "line": {
              "color": "rgb(17,17,17)"
             }
            },
            "header": {
             "fill": {
              "color": "#2a3f5f"
             },
             "line": {
              "color": "rgb(17,17,17)"
             }
            },
            "type": "table"
           }
          ],
          "barpolar": [
           {
            "marker": {
             "line": {
              "color": "rgb(17,17,17)",
              "width": 0.5
             },
             "pattern": {
              "fillmode": "overlay",
              "size": 10,
              "solidity": 0.2
             }
            },
            "type": "barpolar"
           }
          ],
          "pie": [
           {
            "automargin": true,
            "type": "pie"
           }
          ]
         },
         "layout": {
          "autotypenumbers": "strict",
          "colorway": [
           "#636efa",
           "#EF553B",
           "#00cc96",
           "#ab63fa",
           "#FFA15A",
           "#19d3f3",
           "#FF6692",
           "#B6E880",
           "#FF97FF",
           "#FECB52"
          ],
          "font": {
           "color": "#f2f5fa"
          },
          "hovermode": "closest",
          "hoverlabel": {
           "align": "left"
          },
          "paper_bgcolor": "rgb(17,17,17)",
          "plot_bgcolor": "rgb(17,17,17)",
          "polar": {
           "bgcolor": "rgb(17,17,17)",
           "angularaxis": {
            "gridcolor": "#506784",
            "linecolor": "#506784",
            "ticks": ""
           },
           "radialaxis": {
            "gridcolor": "#506784",
            "linecolor": "#506784",
            "ticks": ""
           }
          },
          "ternary": {
           "bgcolor": "rgb(17,17,17)",
           "aaxis": {
            "gridcolor": "#506784",
            "linecolor": "#506784",
            "ticks": ""
           },
           "baxis": {
            "gridcolor": "#506784",
            "linecolor": "#506784",
            "ticks": ""
           },
           "caxis": {
            "gridcolor": "#506784",
            "linecolor": "#506784",
            "ticks": ""
           }
          },
          "coloraxis": {
           "colorbar": {
            "outlinewidth": 0,
            "ticks": ""
           }
          },
          "colorscale": {
           "sequential": [
            [
             0.0,
             "#0d0887"
            ],
            [
             0.1111111111111111,
             "#46039f"
            ],
            [
             0.2222222222222222,
             "#7201a8"
            ],
            [
             0.3333333333333333,
             "#9c179e"
            ],
            [
             0.4444444444444444,
             "#bd3786"
            ],
            [
             0.5555555555555556,
             "#d8576b"
            ],
            [
             0.6666666666666666,
             "#ed7953"
            ],
            [
             0.7777777777777778,
             "#fb9f3a"
            ],
            [
             0.8888888888888888,
             "#fdca26"
            ],
            [
             1.0,
             "#f0f921"
            ]
           ],
           "sequentialminus": [
            [
             0.0,
             "#0d0887"
            ],
            [
             0.1111111111111111,
             "#46039f"
            ],
            [
             0.2222222222222222,
             "#7201a8"
            ],
            [
             0.3333333333333333,
             "#9c179e"
            ],
            [
             0.4444444444444444,
             "#bd3786"
            ],
            [
             0.5555555555555556,
             "#d8576b"
            ],
            [
             0.6666666666666666,
             "#ed7953"
            ],
            [
             0.7777777777777778,
             "#fb9f3a"
            ],
            [
             0.8888888888888888,
             "#fdca26"
            ],
            [
             1.0,
             "#f0f921"
            ]
           ],
           "diverging": [
            [
             0,
             "#8e0152"
            ],
            [
             0.1,
             "#c51b7d"
            ],
            [
             0.2,
             "#de77ae"
            ],
            [
             0.3,
             "#f1b6da"
            ],
            [
             0.4,
             "#fde0ef"
            ],
            [
             0.5,
             "#f7f7f7"
            ],
            [
             0.6,
             "#e6f5d0"
            ],
            [
             0.7,
             "#b8e186"
            ],
            [
             0.8,
             "#7fbc41"
            ],
            [
             0.9,
             "#4d9221"
            ],
            [
             1,
             "#276419"
            ]
           ]
          },
          "xaxis": {
           "gridcolor": "#283442",
           "linecolor": "#506784",
           "ticks": "",
           "title": {
            "standoff": 15
           },
           "zerolinecolor": "#283442",
           "automargin": true,
           "zerolinewidth": 2
          },
          "yaxis": {
           "gridcolor": "#283442",
           "linecolor": "#506784",
           "ticks": "",
           "title": {
            "standoff": 15
           },
           "zerolinecolor": "#283442",
           "automargin": true,
           "zerolinewidth": 2
          },
          "scene": {
           "xaxis": {
            "backgroundcolor": "rgb(17,17,17)",
            "gridcolor": "#506784",
            "linecolor": "#506784",
            "showbackground": true,
            "ticks": "",
            "zerolinecolor": "#C8D4E3",
            "gridwidth": 2
           },
           "yaxis": {
            "backgroundcolor": "rgb(17,17,17)",
            "gridcolor": "#506784",
            "linecolor": "#506784",
            "showbackground": true,
            "ticks": "",
            "zerolinecolor": "#C8D4E3",
            "gridwidth": 2
           },
           "zaxis": {
            "backgroundcolor": "rgb(17,17,17)",
            "gridcolor": "#506784",
            "linecolor": "#506784",
            "showbackground": true,
            "ticks": "",
            "zerolinecolor": "#C8D4E3",
            "gridwidth": 2
           }
          },
          "shapedefaults": {
           "line": {
            "color": "#f2f5fa"
           }
          },
          "annotationdefaults": {
           "arrowcolor": "#f2f5fa",
           "arrowhead": 0,
           "arrowwidth": 1
          },
          "geo": {
           "bgcolor": "rgb(17,17,17)",
           "landcolor": "rgb(17,17,17)",
           "subunitcolor": "#506784",
           "showland": true,
           "showlakes": true,
           "lakecolor": "rgb(17,17,17)"
          },
          "title": {
           "x": 0.05
          },
          "updatemenudefaults": {
           "bgcolor": "#506784",
           "borderwidth": 0
          },
          "sliderdefaults": {
           "bgcolor": "#C8D4E3",
           "borderwidth": 1,
           "bordercolor": "rgb(17,17,17)",
           "tickwidth": 0
          },
          "mapbox": {
           "style": "dark"
          }
         }
        },
        "xaxis": {
         "anchor": "y",
         "domain": [
          0.0,
          1.0
         ],
         "title": {
          "text": "jobs"
         }
        },
        "yaxis": {
         "anchor": "x",
         "domain": [
          0.0,
          1.0
         ],
         "title": {
          "text": "companies"
         }
        },
        "legend": {
         "tracegroupgap": 0
        },
        "title": {
         "text": "Companies with the most jobs opening"
        },
        "barmode": "relative"
       },
       "config": {
        "plotlyServerURL": "https://plot.ly"
       }
      },
      "text/html": "<div>                            <div id=\"9836466d-27d1-4033-8b27-c6ced1228764\" class=\"plotly-graph-div\" style=\"height:525px; width:100%;\"></div>            <script type=\"text/javascript\">                require([\"plotly\"], function(Plotly) {                    window.PLOTLYENV=window.PLOTLYENV || {};                                    if (document.getElementById(\"9836466d-27d1-4033-8b27-c6ced1228764\")) {                    Plotly.newPlot(                        \"9836466d-27d1-4033-8b27-c6ced1228764\",                        [{\"alignmentgroup\":\"True\",\"hovertemplate\":\"jobs=%{x}<br>companies=%{y}<extra></extra>\",\"legendgroup\":\"\",\"marker\":{\"color\":\"rgb(141,211,199)\",\"pattern\":{\"shape\":\"\"}},\"name\":\"\",\"offsetgroup\":\"\",\"orientation\":\"h\",\"showlegend\":false,\"textposition\":\"outside\",\"texttemplate\":\"%{x:.2s}\",\"x\":[85,70,66,40,38,32,28,24,22,21,20,20,20,18,18,18,16,16,16,16],\"xaxis\":\"x\",\"y\":[\"AirAsia\",\"CIMB Niaga\",\"TRUST RECRUIT PTE. LTD.\",\"Western Digital\",\"Ambition Group Malaysia Sdn Bhd\",\"Company Confidential\",\"Michael Page International (Malaysia) Sdn Bhd\",\"RK Recruitment Pte. Ltd.\",\"Vision Technology Consulting\",\"RHB Bank\",\"SEEK Asia (JobStreet)\",\"Experian\",\"Flex\",\"Deloitte\",\"Avensys Consulting\",\"Infineon Technologies (Kulim) Sdn Bhd\",\"KLK OLEO\",\"Accenture\",\"Agensi Pekerjaan Hays (Malaysia) Sdn Bhd\",\"Agensi Pekerjaan Reeracoen Malaysia Sdn Bhd\"],\"yaxis\":\"y\",\"type\":\"bar\",\"textfont\":{\"size\":12},\"cliponaxis\":false,\"textangle\":0}],                        {\"template\":{\"data\":{\"histogram2dcontour\":[{\"type\":\"histogram2dcontour\",\"colorbar\":{\"outlinewidth\":0,\"ticks\":\"\"},\"colorscale\":[[0.0,\"#0d0887\"],[0.1111111111111111,\"#46039f\"],[0.2222222222222222,\"#7201a8\"],[0.3333333333333333,\"#9c179e\"],[0.4444444444444444,\"#bd3786\"],[0.5555555555555556,\"#d8576b\"],[0.6666666666666666,\"#ed7953\"],[0.7777777777777778,\"#fb9f3a\"],[0.8888888888888888,\"#fdca26\"],[1.0,\"#f0f921\"]]}],\"choropleth\":[{\"type\":\"choropleth\",\"colorbar\":{\"outlinewidth\":0,\"ticks\":\"\"}}],\"histogram2d\":[{\"type\":\"histogram2d\",\"colorbar\":{\"outlinewidth\":0,\"ticks\":\"\"},\"colorscale\":[[0.0,\"#0d0887\"],[0.1111111111111111,\"#46039f\"],[0.2222222222222222,\"#7201a8\"],[0.3333333333333333,\"#9c179e\"],[0.4444444444444444,\"#bd3786\"],[0.5555555555555556,\"#d8576b\"],[0.6666666666666666,\"#ed7953\"],[0.7777777777777778,\"#fb9f3a\"],[0.8888888888888888,\"#fdca26\"],[1.0,\"#f0f921\"]]}],\"heatmap\":[{\"type\":\"heatmap\",\"colorbar\":{\"outlinewidth\":0,\"ticks\":\"\"},\"colorscale\":[[0.0,\"#0d0887\"],[0.1111111111111111,\"#46039f\"],[0.2222222222222222,\"#7201a8\"],[0.3333333333333333,\"#9c179e\"],[0.4444444444444444,\"#bd3786\"],[0.5555555555555556,\"#d8576b\"],[0.6666666666666666,\"#ed7953\"],[0.7777777777777778,\"#fb9f3a\"],[0.8888888888888888,\"#fdca26\"],[1.0,\"#f0f921\"]]}],\"heatmapgl\":[{\"type\":\"heatmapgl\",\"colorbar\":{\"outlinewidth\":0,\"ticks\":\"\"},\"colorscale\":[[0.0,\"#0d0887\"],[0.1111111111111111,\"#46039f\"],[0.2222222222222222,\"#7201a8\"],[0.3333333333333333,\"#9c179e\"],[0.4444444444444444,\"#bd3786\"],[0.5555555555555556,\"#d8576b\"],[0.6666666666666666,\"#ed7953\"],[0.7777777777777778,\"#fb9f3a\"],[0.8888888888888888,\"#fdca26\"],[1.0,\"#f0f921\"]]}],\"contourcarpet\":[{\"type\":\"contourcarpet\",\"colorbar\":{\"outlinewidth\":0,\"ticks\":\"\"}}],\"contour\":[{\"type\":\"contour\",\"colorbar\":{\"outlinewidth\":0,\"ticks\":\"\"},\"colorscale\":[[0.0,\"#0d0887\"],[0.1111111111111111,\"#46039f\"],[0.2222222222222222,\"#7201a8\"],[0.3333333333333333,\"#9c179e\"],[0.4444444444444444,\"#bd3786\"],[0.5555555555555556,\"#d8576b\"],[0.6666666666666666,\"#ed7953\"],[0.7777777777777778,\"#fb9f3a\"],[0.8888888888888888,\"#fdca26\"],[1.0,\"#f0f921\"]]}],\"surface\":[{\"type\":\"surface\",\"colorbar\":{\"outlinewidth\":0,\"ticks\":\"\"},\"colorscale\":[[0.0,\"#0d0887\"],[0.1111111111111111,\"#46039f\"],[0.2222222222222222,\"#7201a8\"],[0.3333333333333333,\"#9c179e\"],[0.4444444444444444,\"#bd3786\"],[0.5555555555555556,\"#d8576b\"],[0.6666666666666666,\"#ed7953\"],[0.7777777777777778,\"#fb9f3a\"],[0.8888888888888888,\"#fdca26\"],[1.0,\"#f0f921\"]]}],\"mesh3d\":[{\"type\":\"mesh3d\",\"colorbar\":{\"outlinewidth\":0,\"ticks\":\"\"}}],\"scatter\":[{\"marker\":{\"line\":{\"color\":\"#283442\"}},\"type\":\"scatter\"}],\"parcoords\":[{\"type\":\"parcoords\",\"line\":{\"colorbar\":{\"outlinewidth\":0,\"ticks\":\"\"}}}],\"scatterpolargl\":[{\"type\":\"scatterpolargl\",\"marker\":{\"colorbar\":{\"outlinewidth\":0,\"ticks\":\"\"}}}],\"bar\":[{\"error_x\":{\"color\":\"#f2f5fa\"},\"error_y\":{\"color\":\"#f2f5fa\"},\"marker\":{\"line\":{\"color\":\"rgb(17,17,17)\",\"width\":0.5},\"pattern\":{\"fillmode\":\"overlay\",\"size\":10,\"solidity\":0.2}},\"type\":\"bar\"}],\"scattergeo\":[{\"type\":\"scattergeo\",\"marker\":{\"colorbar\":{\"outlinewidth\":0,\"ticks\":\"\"}}}],\"scatterpolar\":[{\"type\":\"scatterpolar\",\"marker\":{\"colorbar\":{\"outlinewidth\":0,\"ticks\":\"\"}}}],\"histogram\":[{\"marker\":{\"pattern\":{\"fillmode\":\"overlay\",\"size\":10,\"solidity\":0.2}},\"type\":\"histogram\"}],\"scattergl\":[{\"marker\":{\"line\":{\"color\":\"#283442\"}},\"type\":\"scattergl\"}],\"scatter3d\":[{\"type\":\"scatter3d\",\"line\":{\"colorbar\":{\"outlinewidth\":0,\"ticks\":\"\"}},\"marker\":{\"colorbar\":{\"outlinewidth\":0,\"ticks\":\"\"}}}],\"scattermapbox\":[{\"type\":\"scattermapbox\",\"marker\":{\"colorbar\":{\"outlinewidth\":0,\"ticks\":\"\"}}}],\"scatterternary\":[{\"type\":\"scatterternary\",\"marker\":{\"colorbar\":{\"outlinewidth\":0,\"ticks\":\"\"}}}],\"scattercarpet\":[{\"type\":\"scattercarpet\",\"marker\":{\"colorbar\":{\"outlinewidth\":0,\"ticks\":\"\"}}}],\"carpet\":[{\"aaxis\":{\"endlinecolor\":\"#A2B1C6\",\"gridcolor\":\"#506784\",\"linecolor\":\"#506784\",\"minorgridcolor\":\"#506784\",\"startlinecolor\":\"#A2B1C6\"},\"baxis\":{\"endlinecolor\":\"#A2B1C6\",\"gridcolor\":\"#506784\",\"linecolor\":\"#506784\",\"minorgridcolor\":\"#506784\",\"startlinecolor\":\"#A2B1C6\"},\"type\":\"carpet\"}],\"table\":[{\"cells\":{\"fill\":{\"color\":\"#506784\"},\"line\":{\"color\":\"rgb(17,17,17)\"}},\"header\":{\"fill\":{\"color\":\"#2a3f5f\"},\"line\":{\"color\":\"rgb(17,17,17)\"}},\"type\":\"table\"}],\"barpolar\":[{\"marker\":{\"line\":{\"color\":\"rgb(17,17,17)\",\"width\":0.5},\"pattern\":{\"fillmode\":\"overlay\",\"size\":10,\"solidity\":0.2}},\"type\":\"barpolar\"}],\"pie\":[{\"automargin\":true,\"type\":\"pie\"}]},\"layout\":{\"autotypenumbers\":\"strict\",\"colorway\":[\"#636efa\",\"#EF553B\",\"#00cc96\",\"#ab63fa\",\"#FFA15A\",\"#19d3f3\",\"#FF6692\",\"#B6E880\",\"#FF97FF\",\"#FECB52\"],\"font\":{\"color\":\"#f2f5fa\"},\"hovermode\":\"closest\",\"hoverlabel\":{\"align\":\"left\"},\"paper_bgcolor\":\"rgb(17,17,17)\",\"plot_bgcolor\":\"rgb(17,17,17)\",\"polar\":{\"bgcolor\":\"rgb(17,17,17)\",\"angularaxis\":{\"gridcolor\":\"#506784\",\"linecolor\":\"#506784\",\"ticks\":\"\"},\"radialaxis\":{\"gridcolor\":\"#506784\",\"linecolor\":\"#506784\",\"ticks\":\"\"}},\"ternary\":{\"bgcolor\":\"rgb(17,17,17)\",\"aaxis\":{\"gridcolor\":\"#506784\",\"linecolor\":\"#506784\",\"ticks\":\"\"},\"baxis\":{\"gridcolor\":\"#506784\",\"linecolor\":\"#506784\",\"ticks\":\"\"},\"caxis\":{\"gridcolor\":\"#506784\",\"linecolor\":\"#506784\",\"ticks\":\"\"}},\"coloraxis\":{\"colorbar\":{\"outlinewidth\":0,\"ticks\":\"\"}},\"colorscale\":{\"sequential\":[[0.0,\"#0d0887\"],[0.1111111111111111,\"#46039f\"],[0.2222222222222222,\"#7201a8\"],[0.3333333333333333,\"#9c179e\"],[0.4444444444444444,\"#bd3786\"],[0.5555555555555556,\"#d8576b\"],[0.6666666666666666,\"#ed7953\"],[0.7777777777777778,\"#fb9f3a\"],[0.8888888888888888,\"#fdca26\"],[1.0,\"#f0f921\"]],\"sequentialminus\":[[0.0,\"#0d0887\"],[0.1111111111111111,\"#46039f\"],[0.2222222222222222,\"#7201a8\"],[0.3333333333333333,\"#9c179e\"],[0.4444444444444444,\"#bd3786\"],[0.5555555555555556,\"#d8576b\"],[0.6666666666666666,\"#ed7953\"],[0.7777777777777778,\"#fb9f3a\"],[0.8888888888888888,\"#fdca26\"],[1.0,\"#f0f921\"]],\"diverging\":[[0,\"#8e0152\"],[0.1,\"#c51b7d\"],[0.2,\"#de77ae\"],[0.3,\"#f1b6da\"],[0.4,\"#fde0ef\"],[0.5,\"#f7f7f7\"],[0.6,\"#e6f5d0\"],[0.7,\"#b8e186\"],[0.8,\"#7fbc41\"],[0.9,\"#4d9221\"],[1,\"#276419\"]]},\"xaxis\":{\"gridcolor\":\"#283442\",\"linecolor\":\"#506784\",\"ticks\":\"\",\"title\":{\"standoff\":15},\"zerolinecolor\":\"#283442\",\"automargin\":true,\"zerolinewidth\":2},\"yaxis\":{\"gridcolor\":\"#283442\",\"linecolor\":\"#506784\",\"ticks\":\"\",\"title\":{\"standoff\":15},\"zerolinecolor\":\"#283442\",\"automargin\":true,\"zerolinewidth\":2},\"scene\":{\"xaxis\":{\"backgroundcolor\":\"rgb(17,17,17)\",\"gridcolor\":\"#506784\",\"linecolor\":\"#506784\",\"showbackground\":true,\"ticks\":\"\",\"zerolinecolor\":\"#C8D4E3\",\"gridwidth\":2},\"yaxis\":{\"backgroundcolor\":\"rgb(17,17,17)\",\"gridcolor\":\"#506784\",\"linecolor\":\"#506784\",\"showbackground\":true,\"ticks\":\"\",\"zerolinecolor\":\"#C8D4E3\",\"gridwidth\":2},\"zaxis\":{\"backgroundcolor\":\"rgb(17,17,17)\",\"gridcolor\":\"#506784\",\"linecolor\":\"#506784\",\"showbackground\":true,\"ticks\":\"\",\"zerolinecolor\":\"#C8D4E3\",\"gridwidth\":2}},\"shapedefaults\":{\"line\":{\"color\":\"#f2f5fa\"}},\"annotationdefaults\":{\"arrowcolor\":\"#f2f5fa\",\"arrowhead\":0,\"arrowwidth\":1},\"geo\":{\"bgcolor\":\"rgb(17,17,17)\",\"landcolor\":\"rgb(17,17,17)\",\"subunitcolor\":\"#506784\",\"showland\":true,\"showlakes\":true,\"lakecolor\":\"rgb(17,17,17)\"},\"title\":{\"x\":0.05},\"updatemenudefaults\":{\"bgcolor\":\"#506784\",\"borderwidth\":0},\"sliderdefaults\":{\"bgcolor\":\"#C8D4E3\",\"borderwidth\":1,\"bordercolor\":\"rgb(17,17,17)\",\"tickwidth\":0},\"mapbox\":{\"style\":\"dark\"}}},\"xaxis\":{\"anchor\":\"y\",\"domain\":[0.0,1.0],\"title\":{\"text\":\"jobs\"}},\"yaxis\":{\"anchor\":\"x\",\"domain\":[0.0,1.0],\"title\":{\"text\":\"companies\"}},\"legend\":{\"tracegroupgap\":0},\"title\":{\"text\":\"Companies with the most jobs opening\"},\"barmode\":\"relative\"},                        {\"responsive\": true}                    ).then(function(){\n                            \nvar gd = document.getElementById('9836466d-27d1-4033-8b27-c6ced1228764');\nvar x = new MutationObserver(function (mutations, observer) {{\n        var display = window.getComputedStyle(gd).display;\n        if (!display || display === 'none') {{\n            console.log([gd, 'removed!']);\n            Plotly.purge(gd);\n            observer.disconnect();\n        }}\n}});\n\n// Listen for the removal of the full notebook cells\nvar notebookContainer = gd.closest('#notebook-container');\nif (notebookContainer) {{\n    x.observe(notebookContainer, {childList: true});\n}}\n\n// Listen for the clearing of the current output cell\nvar outputEl = gd.closest('.output');\nif (outputEl) {{\n    x.observe(outputEl, {childList: true});\n}}\n\n                        })                };                });            </script>        </div>"
     },
     "metadata": {},
     "output_type": "display_data"
    }
   ],
   "source": [
    "import plotly.express as px\n",
    "\n",
    "fig = px.bar(companies_top20, x='jobs', y='companies', text_auto='.2s',color_discrete_sequence=px.colors.qualitative.Set3, orientation='h',\n",
    "             title=\"Companies with the most jobs opening\")\n",
    "fig.update_traces(textfont_size=12, textangle=0, textposition=\"outside\", cliponaxis=False)\n",
    "fig.show()"
   ],
   "metadata": {
    "collapsed": false
   }
  },
  {
   "cell_type": "code",
   "execution_count": 16,
   "outputs": [
    {
     "data": {
      "application/vnd.plotly.v1+json": {
       "data": [
        {
         "alignmentgroup": "True",
         "hovertemplate": "jobs=%{x}<br>companies=%{y}<extra></extra>",
         "legendgroup": "",
         "marker": {
          "color": "rgb(141,211,199)",
          "pattern": {
           "shape": ""
          }
         },
         "name": "",
         "offsetgroup": "",
         "orientation": "h",
         "showlegend": false,
         "textposition": "outside",
         "texttemplate": "%{x:.2s}",
         "x": [
          85,
          70,
          66,
          40,
          38,
          32,
          28,
          24,
          22,
          21,
          20,
          20,
          20,
          18,
          18,
          18,
          16,
          16,
          16,
          16,
          16,
          14,
          14,
          14,
          14,
          14,
          14,
          13,
          13,
          13,
          12,
          12,
          12,
          12,
          12,
          12,
          12,
          12,
          12,
          10,
          10,
          10,
          10,
          10,
          10,
          10,
          10,
          10,
          10,
          10,
          10,
          10,
          10,
          10,
          10,
          9,
          8,
          8,
          8,
          8,
          8,
          8,
          8,
          8,
          8,
          8,
          8,
          8,
          8,
          8,
          8,
          8,
          8,
          8,
          8,
          8,
          8,
          8,
          8,
          8,
          8,
          8,
          8,
          8,
          8,
          8,
          8,
          8,
          8,
          8,
          8,
          8,
          8,
          8,
          7,
          7,
          7,
          7,
          6,
          6,
          6,
          6,
          6,
          6,
          6,
          6,
          6,
          6,
          6,
          6,
          6,
          6,
          6,
          6,
          6,
          6,
          6,
          6,
          6,
          6,
          6,
          6,
          6,
          6,
          6,
          6,
          6,
          6,
          6,
          6,
          6,
          6,
          6,
          6,
          6,
          6,
          6,
          6,
          6,
          6,
          6,
          6,
          6,
          6,
          6,
          6,
          6,
          4,
          4,
          4,
          4,
          4,
          4,
          4,
          4,
          4,
          4,
          4,
          4,
          4,
          4,
          4,
          4,
          4,
          4,
          4,
          4,
          4,
          4,
          4,
          4,
          4,
          4,
          4,
          4,
          4,
          4,
          4,
          4,
          4,
          4,
          4,
          4,
          4,
          4,
          4,
          4,
          4,
          4,
          4,
          4,
          4,
          4,
          4,
          4,
          4,
          4,
          4,
          4,
          4,
          4,
          4,
          4,
          4,
          4,
          4,
          4,
          4,
          4,
          4,
          4,
          4,
          4,
          4,
          4,
          4,
          4,
          4,
          4,
          4,
          4,
          4,
          4,
          4,
          4,
          4,
          4,
          4,
          4,
          4,
          4,
          4,
          4,
          4,
          4,
          4,
          4,
          4,
          4,
          4,
          4,
          4,
          4,
          4,
          4,
          4,
          4,
          4,
          4,
          4,
          4,
          4,
          4,
          4,
          4,
          4,
          4,
          4,
          4,
          4,
          4,
          4,
          4,
          4,
          4,
          4,
          4,
          4,
          4,
          4,
          4,
          4,
          4,
          4,
          4,
          4,
          4,
          4,
          4,
          4,
          4,
          4,
          4,
          4,
          4,
          4,
          4,
          4,
          4,
          4,
          4,
          4,
          4,
          4,
          4,
          4,
          3,
          3,
          2,
          2,
          2,
          2,
          2,
          2,
          2,
          2,
          2,
          2,
          2,
          2,
          2,
          2,
          2,
          2,
          2,
          2,
          2,
          2,
          2,
          2,
          2,
          2,
          2,
          2,
          2,
          2,
          2,
          2,
          2,
          2,
          2,
          2,
          2,
          2,
          2,
          2,
          2,
          2,
          2,
          2,
          2,
          2,
          2,
          2,
          2,
          2,
          2,
          2,
          2,
          2,
          2,
          2,
          2,
          2,
          2,
          2,
          2,
          2,
          2,
          2,
          2,
          2,
          2,
          2,
          2,
          2,
          2,
          2,
          2,
          2,
          2,
          2,
          2,
          2,
          2,
          2,
          2,
          2,
          2,
          2,
          2,
          2,
          2,
          2,
          2,
          2,
          2,
          2,
          2,
          2,
          2,
          2,
          2,
          2,
          2,
          2,
          2,
          2,
          2,
          2,
          2,
          2,
          2,
          2,
          2,
          2,
          2,
          2,
          2,
          2,
          2,
          2,
          2,
          2,
          2,
          2,
          2,
          2,
          2,
          2,
          2,
          2,
          2,
          2,
          2,
          2,
          2,
          2,
          2,
          2,
          2,
          2,
          2,
          2,
          2,
          2,
          2,
          2,
          2,
          2,
          2,
          2,
          2,
          2,
          2,
          2,
          2,
          2,
          2,
          2,
          2,
          2,
          2,
          2,
          2,
          2,
          2,
          2,
          2,
          2,
          2,
          2,
          2,
          2,
          2,
          2,
          2,
          2,
          2,
          2,
          2,
          2,
          2,
          2,
          2,
          2,
          2,
          2,
          2,
          2,
          2,
          2,
          2,
          2,
          2,
          2,
          2,
          2,
          2,
          2,
          2,
          2,
          2,
          2,
          2,
          2,
          2,
          2,
          2,
          2,
          2,
          2,
          2,
          2,
          2,
          2,
          2,
          2,
          2,
          2,
          2,
          2,
          2,
          2,
          2,
          2,
          2,
          2,
          2,
          2,
          2,
          2,
          2,
          2,
          2,
          2,
          2,
          2,
          2,
          2,
          2,
          2,
          2,
          2,
          2,
          2,
          2,
          2,
          2,
          2,
          2,
          2,
          2,
          2,
          2,
          2,
          2,
          2,
          2,
          2,
          2,
          2,
          2,
          2,
          2,
          2,
          2,
          2,
          2,
          2,
          2,
          2,
          2,
          2,
          2,
          2,
          2,
          2,
          2,
          2,
          2,
          2,
          2,
          2,
          2,
          2,
          2,
          2,
          2,
          2,
          2,
          2,
          2,
          2,
          2,
          2,
          2,
          2,
          2,
          2,
          2,
          2,
          2,
          2,
          2,
          2,
          2,
          2,
          2,
          2,
          2,
          2,
          2,
          2,
          2,
          2,
          2,
          2,
          2,
          2,
          2,
          2,
          2,
          2,
          2,
          2,
          2,
          2,
          2,
          2,
          2,
          2,
          2,
          2,
          2,
          2,
          2,
          2,
          2,
          2,
          2,
          2,
          2,
          2,
          2,
          2,
          2,
          2,
          2,
          2,
          2,
          2,
          2,
          2,
          2,
          2,
          2,
          2,
          2,
          2,
          2,
          2,
          2,
          2,
          2,
          2,
          2,
          2,
          2,
          2,
          2,
          2,
          2,
          2,
          2,
          2,
          2,
          2,
          2,
          2,
          2,
          2,
          2,
          2,
          2,
          2,
          2,
          2,
          2,
          2,
          2,
          2,
          2,
          2,
          2,
          2,
          2,
          2,
          2,
          2,
          2,
          2,
          2,
          2,
          2,
          2,
          2,
          2,
          2,
          2,
          2,
          2,
          2,
          2,
          2,
          2,
          2,
          2,
          2,
          2,
          2,
          2,
          2,
          2,
          2,
          2,
          2,
          2,
          2,
          2,
          2,
          2,
          2,
          2,
          2,
          2,
          2,
          2,
          2,
          2,
          2,
          2,
          2,
          2,
          2,
          2,
          2,
          2,
          2,
          2,
          2,
          2,
          2,
          2,
          2,
          2,
          2,
          2,
          2,
          2,
          2,
          2,
          2,
          2,
          2,
          2,
          2,
          2,
          2,
          2,
          2,
          2,
          2,
          2,
          2,
          2,
          2,
          2,
          2,
          2,
          2,
          2,
          2,
          2,
          2,
          2,
          2,
          2,
          2,
          2,
          2,
          2,
          2,
          2,
          2,
          2,
          2,
          2,
          2,
          2,
          2,
          2,
          2,
          2,
          2,
          2,
          2,
          2,
          2,
          2,
          2,
          2,
          2,
          2,
          2,
          2,
          2,
          2,
          2,
          2,
          2,
          2,
          2,
          2,
          2,
          2,
          2,
          2,
          2,
          2,
          2,
          2,
          2,
          2,
          2,
          2,
          2,
          2,
          2,
          2,
          2,
          2,
          2,
          2,
          2,
          2,
          2,
          2,
          2,
          2,
          2,
          2,
          2,
          2,
          2,
          2,
          2,
          2,
          2,
          2,
          2,
          2,
          2,
          2,
          2,
          2,
          2,
          2,
          2,
          2,
          2,
          2,
          2,
          2,
          2,
          2,
          2,
          2,
          2,
          2,
          2,
          2,
          2,
          2,
          2,
          2,
          2,
          2,
          2,
          2,
          2,
          2,
          2,
          2,
          2,
          2,
          2,
          2,
          2,
          2,
          2,
          2,
          2,
          2,
          2,
          2,
          2,
          2,
          2,
          2,
          2,
          2,
          2,
          2,
          2,
          2,
          2,
          2,
          2,
          2,
          2,
          2,
          2,
          2,
          2,
          2,
          2,
          2,
          2,
          2,
          2,
          2,
          2,
          2,
          2,
          2,
          2,
          2,
          2,
          2,
          2,
          2,
          2,
          2,
          2,
          2,
          2,
          2,
          2,
          2,
          2,
          2,
          2,
          2,
          2,
          2,
          2,
          2,
          2,
          2,
          2,
          2,
          2,
          2,
          2,
          2,
          2,
          2,
          2,
          2,
          2,
          2,
          2,
          2,
          2,
          2,
          2,
          2,
          2,
          2,
          2,
          2,
          2,
          2,
          2,
          2,
          2,
          2,
          2,
          2,
          2,
          2,
          2,
          2,
          2,
          2,
          2,
          2,
          2,
          2,
          2,
          2,
          2,
          2,
          2,
          2,
          2,
          2,
          2,
          2,
          2,
          2,
          2,
          2,
          2,
          2,
          2,
          2,
          2,
          2,
          2,
          2,
          2,
          2,
          2,
          2,
          2,
          1,
          1,
          1,
          1
         ],
         "xaxis": "x",
         "y": [
          "AirAsia",
          "CIMB Niaga",
          "TRUST RECRUIT PTE. LTD.",
          "Western Digital",
          "Ambition Group Malaysia Sdn Bhd",
          "Company Confidential",
          "Michael Page International (Malaysia) Sdn Bhd",
          "RK Recruitment Pte. Ltd.",
          "Vision Technology Consulting",
          "RHB Bank",
          "SEEK Asia (JobStreet)",
          "Experian",
          "Flex",
          "Deloitte",
          "Avensys Consulting",
          "Infineon Technologies (Kulim) Sdn Bhd",
          "KLK OLEO",
          "Accenture",
          "Agensi Pekerjaan Hays (Malaysia) Sdn Bhd",
          "Agensi Pekerjaan Reeracoen Malaysia Sdn Bhd",
          "TribeHired",
          "JUNZO SDN. BHD",
          "Alliance Bank Malaysia Berhad",
          "ScienTec Personnel",
          "Keysight Technologies Malaysia Sdn. Bhd.",
          "Tata Consultancy Services Malaysia Sdn Bhd",
          "RHB Banking Group",
          "Infineon Technologies",
          "Synergy Log-In Systems",
          "Tentacle Technologies MSC Sdn Bhd",
          "INFINETWORX SDN BHD",
          "EPAM SYSTEMS PTE LTD",
          "N2N Connect",
          "ADVANCED ENERGY INDUSTRIES (MALAYSIA) SDN. BHD.",
          "Sanofi Aventis",
          "AstraZeneca",
          "Ebdesk Malaysia",
          "Abbott Penang (Formerly Known as St. Jude Medical)",
          "AlsonMedia Sdn Bhd",
          "Huawei Technologies (Malaysia) Sdn. Bhd",
          "Experian (Malaysia) Sdn Bhd",
          "GfK",
          "Dell Global Business Center Sdn Bhd",
          "Infineon Technologies (Malaysia) Sdn Bhd",
          "LANGUAGE TALENT SOLUTIONS SDN. BHD.",
          "SANCY BERHAD",
          "EPS Malaysia",
          "PPG Industries",
          "Ipsos Sdn Bhd",
          "Deloitte Consulting SEA",
          "E2open Development Corporation",
          "Keysight Technologies",
          "Agilent Technologies LDA Malaysia Sdn. Bhd.",
          "Heriot-Watt University",
          "IQVIA",
          "Standard Chartered",
          "OSRAM Opto Semiconductors (Malaysia) Sdn Bhd",
          "Confidential",
          "XMU JIAGENG EDUCATION DEVELOPMENT",
          "X-FAB Sarawak Sdn Bhd",
          "Arvato Systems Malaysia Sdn Bhd",
          "FootfallCam",
          "British American Tobacco",
          "PRUDENTIAL SERVICES ASIA",
          "BD Malaysia",
          "The Nielsen Company (Malaysia) Sdn Bhd",
          "Procter & Gamble",
          "Hong Leong Assurance Berhad",
          "Malayan Banking Berhad (Maybank)",
          "ATOZ SOFTWARE TECH SDN. BHD.",
          "Agensi Pekerjaan Randstad Sdn Bhd - Professional",
          "Daikin Malaysia Sdn Bhd",
          "myQuickHR Sdn Bhd",
          "UST Global",
          "Rentokil Initial",
          "DEXCOM (MALAYSIA) SDN. BHD.",
          "STMicroelectronics Sdn Bhd",
          "Philip Morris International",
          "Worldfish",
          "Bank Negara Malaysia",
          "GfK Retail and Technology Malaysia Sdn.Bhd",
          "Oxydata Software",
          "Jabil Sdn Bhd (Global Business Center)",
          "ASB Management Sdn Bhd",
          "Lenovo PCCW Solutions",
          "STOREHUB",
          "SIRIM QAS International Sdn Bhd",
          "NOV MALAYSIA",
          "CIMB Group",
          "IMR (MALAYSIA) SDN. BHD.",
          "HSBC",
          "Accord Innovations",
          "DKSH Malaysia Sdn Bhd",
          "Allianz Malaysia Berhad",
          "Lazada",
          "Shell",
          "DS SSC MALAYSIA (FOODPANDA MALAYSIA)",
          "Telekom Malaysia",
          "BE INTERNATIONAL MARKETING SDN. BHD.",
          "Virtual Calibre MSC Sdn. Bhd.",
          "ESYNC SOFTWARE SERVICES",
          "Tech Mahindra Ltd",
          "Kossan Rubber Industries Berhad",
          "MarshMcLennan",
          "Perbadanan Usahawan Nasional Bhd (PUNB)",
          "Kawan Food Manufacturing",
          "Hills Pet Nutrition",
          "Hong Leong Asset Management",
          "Heriot-Watt University Malaysia Sdn Bhd",
          "Celestica",
          "Siemens",
          "TF AMD MICROELECTRONICS (PENANG) SDN. BHD.",
          "ITL Malaysia",
          "NEXTLABS",
          "Public Bank Berhad",
          "IBIDEN Electronics Malaysia Sdn Bhd",
          "Coda Payments",
          "Avanade",
          "RM APPLICATIONS",
          "Arvato Systems Malaysia",
          "JUST BI",
          "Novartis Corporation (M) Sdn Bhd",
          "Statworks Technology",
          "TDCX",
          "Octafa Consulting Sdn Bhd",
          "London Stock Exchange Group",
          "AEON Credit Service (M) Bhd",
          "Beyondsoft",
          "Lotuss Stores (Malaysia) Sdn Bhd",
          "Joshua Research Consultants",
          "Optimum Solutions (S) Pte Ltd",
          "Baker Hughes",
          "Hong Leong Bank",
          "Sun Life Malaysia Assurance Berhad",
          "Jabil",
          "Encora Technologies Sdn Bhd",
          "AMD",
          "Capital Dynamics",
          "PERSOLKELLY Singapore Pte Ltd (Formerly Kelly Services Singapore Pte Ltd)",
          "Avantice Corporation",
          "AXA Affin General Insurance Berhad",
          "Virtuos Malaysia Sdn. Bhd.",
          "Capital Dynamics Sdn Bhd",
          "CAPITALMASTER HAPPYSTOCK",
          "MobilityOne",
          "Agensi Pekerjaan Futurestep Worldwide (M) Sdn Bhd",
          "LAVU TECH SOLUTIONS",
          "IMU Education Sdn Bhd",
          "Chubb Insurance",
          "NETIZEN TESTING SDN. BHD.",
          "Rapid Manufacturing Connectivity Sdn Bhd",
          "Halliburton",
          "SNSOFT",
          "Plexus Manufacturing Sdn Bhd",
          "COGDEV MALAYSIA",
          "Carsome",
          "YNY Technology Sdn. Bhd.",
          "FFM",
          "Agensi Pekerjaan Pasona Sdn Bhd",
          "AirAsia Berhad",
          "Titanfour Business Solutions",
          "Independent Data Services (Asia) Sdn Bhd",
          "ValueLabs",
          "Robert Bosch (M) Sdn Bhd",
          "Mindteck",
          "SWIFT SUPPORT SERVICES MALAYSIA",
          "RCE Capital Berhad",
          "UCSI Education",
          "LAURELSOFT",
          "Neurogine Sdn Bhd",
          "VSTECS BERHAD",
          "TRANGLO",
          "CBS Corporate Business Solutions Malaysia Sdn Bhd",
          "Tiong Nam Logistics Solutions Sdn Bhd",
          "Capital Dynamics Asset Management",
          "Pactera Edge Technologies Malaysia Sdn Bhd",
          "AMK TECHNOLOGY",
          "ASE",
          "PP Telecommunication Sdn Bhd",
          "Duopharma Biotech Bhd Group of Companies.",
          "KOLEJ UNIVERSITI SELATAN",
          "Taylor's University",
          "OUJI SEKKEN MANUFACTURING (M) SDN. BHD.",
          "Zimmer Biomet",
          "Biocon",
          "Xchanging",
          "MARVELCONNECT TECHNOLOGY LIMITED",
          "Nutrigene Modern Sciences Sdn Bhd",
          "B. Braun Medical",
          "APEX BIOCARE",
          "Optimum Infosolutions",
          "Arup Jururunding Sdn Bhd",
          "Credit Guarantee Corporation Malaysia Berhad",
          "HOYA ELECTRONICS SINGAPORE PTE. LTD.",
          "Silverlake Structured Services",
          "ONEPIP (MALAYSIA) SDN.BHD.",
          "JB Cocoa Sdn Bhd",
          "VISCO TECHNOLOGY Sdn Bhd",
          "Luxoft",
          "Kamlax Global Technologies Sdn Bhd",
          "Star Media Group",
          "AGENSI PEKERJAAN DREAM CAREER SDN BHD",
          "Alexander Mann Solutions",
          "Aptude Technology Services",
          "Mettler Toledo MY",
          "TT Vision Technologies",
          "AGENSI PEKERJAAN CKM SDN BHD",
          "Maxvec",
          "ULTRA CLEAN TECHNOLOGY (MALAYSIA) SDN. BHD.",
          "KRAFT SOFTWARE SOLUTIONS",
          "Tialoc Malaysia",
          "Palette Multimedia Berhad",
          "Phitomas Sdn Bhd",
          "Ansell Global Trading Center Malaysia Sdn Bhd",
          "Google",
          "Genting Malaysia Berhad",
          "IRIS Corporation Berhad",
          "Innovatz Solutions Sdn Bhd",
          "BIOQUEST ADVISORY",
          "Marsh McLennan",
          "Novugen",
          "American Express International Inc.",
          "ERA INGREDIENTS & CHEMICALS SDN. BHD.",
          "Nokia",
          "Pracbiz",
          "PT mClinica Health Solutions (SwipeRx)",
          "Rocketbots Malaysia Sdn. Bhd.",
          "Sharp Electronics (M) Sdn Bhd",
          "Tech-Store Malaysia Sdn Bhd",
          "SNSOFT SDN. BHD.",
          "PENTAMASTER TECHNOLOGY",
          "Agensi Pekerjaan Futurestep Worldwide (M) Sdn Bhd (BD)",
          "Motorola Solutions",
          "Agensi Pekerjaan Hyppies Sdn. Bhd.",
          "Public Mutual Berhad",
          "AGENSI PEKERJAAN JS STAFFING SERVICES SDN BHD",
          "MRANTI Corporation Sdn. Bhd.",
          "kamlax global technologies",
          "Ace Resource Advisory Services",
          "Agensi Pekerjaan PERSOLKELLY Malaysia Sdn Bhd",
          "IHS Global (Malaysia) Sdn Bhd",
          "KPMG Consulting (Malaysia) Sdn. Bhd.",
          "MCIS Insurance Berhad",
          "Pfizer",
          "B-Global",
          "Scicom (MSC) Berhad",
          "Ria Financial",
          "Pearson Frank International (A divison of Frank Recruitment Group)",
          "V.S. Industry Berhad",
          "Avery Dennison",
          "Score Asia Sdn Bhd",
          "Venture Corporation Limited",
          "iZyoo Platform",
          "Motorola Solutions Malaysia Sdn Bhd",
          "InfoConnect Sdn Bhd",
          "RSH (Malaysia) Sdn Bhd",
          "EM2Ai Sdn Bhd",
          "LF Logistics Services (M) Sdn Bhd",
          "Atos Services (M) Sdn Bhd",
          "PERSOLKELLY Workforce Solutions Malaysia Sdn Bhd",
          "QuessGlobal (Malaysia) Sdn Bhd",
          "Agensi Pekerjaan & Perundingcara Bright Prospect Sdn Bhd",
          "Malaysian Employers Federation",
          "7-Eleven Malaysia Sdn Bhd",
          "99 Speed Mart Sdn Bhd",
          "Pet Lovers Centre Pte Ltd",
          "Gleneagles Kuala Lumpur (A branch of Pantai Medical Centre Sdn Bhd)",
          "foodpanda Malaysia Sdn Bhd",
          "Paymentology (Pty) Ltd",
          "Hong Leong Bank Berhad",
          "Selangor Human Resource Development Centre (SHRDC)",
          "Hartalega NGC Sdn Bhd",
          "Hilti",
          "Lion & Lion",
          "Ideal Quality Sdn Bhd",
          "Corporate Information Travel",
          "Inmagine Innovation",
          "XOX Management Services Sdn Bhd",
          "GlaxoSmithKline",
          "RW SHIP MANAGEMENT SDN BHD",
          "Accenture TCM",
          "Elna PCB (M) Sdn Bhd",
          "CTOS Data Systems",
          "CM Group",
          "Toll Group",
          "BigPay MY",
          "B. Braun Medical Industries Sdn. Bhd.",
          "Abbott",
          "Etiqa Insurance & Takaful",
          "Stashaway",
          "Bank Pembangunan Malaysia Berhad",
          "Domino’s Pizza Malaysia",
          "Bridgenet Solutions Sdn Bhd",
          "Huntsman Global Business Services Sdn Bhd",
          "Sunway Berhad",
          "Agensi Pekerjaan NCS Solutions Sdn. Bhd.",
          "MDEC",
          "Idealseed Resources",
          "Unilever",
          "OR Technologies",
          "Southern University College",
          "Vit Makanan (KL) Sdn Bhd",
          "The University of Nottingham in Malaysia Sdn Bhd",
          "Capgemini",
          "GKASH SDN. BHD.",
          "RIA",
          "Agensi Pekerjaan Truvine Career Sdn Bhd",
          "Infodrive Solutions",
          "SOLS ENERGY SDN. BHD.",
          "CRESCENDO INTERNATIONAL COLLEGE SDN BHD",
          "CLUSTERCODE TECHNOLOGY SDN. BHD.",
          "VENTIONEX INNOVATIONS SDN. BHD.",
          "Prestige Atlantic Asia",
          "iZeno Sdn Bhd",
          "SRG Asia Pacific",
          "ZALORA",
          "NICHOLAS ACTUARIAL SOLUTIONS SDN. BHD.",
          "Armstrong Auto Parts Sdn Bhd",
          "CIGNEX IT Services Sdn Bhd",
          "CapitaLand Retail (Malaysia) Sdn Bhd",
          "SECOM SMART (MALAYSIA) SDN. BHD.",
          "Blue Archipelago Berhad",
          "Cycle & Carriage",
          "Pembinaan Mitrajaya Sdn Bhd",
          "TIME dotCom Berhad",
          "Globetronics Sdn. Bhd.",
          "Wizlynx Malaysia Sdn Bhd",
          "The Future Commerce Sdn. Bhd.",
          "IPG Mediabrands Sdn Bhd",
          "KK STRAITS INTERNATIONAL EDUCATION SDN. BHD.",
          "System Management Services Sdn. Bhd.",
          "GASW Services",
          "WEZMART INTERNATIONAL BERHAD",
          "Invenio PTL Property & Facilities Management",
          "T HASEGAWA FLAVOURS (KUALA LUMPUR) SDN. BHD.",
          "RK infocom SdnBHd",
          "PK AGRO-INDUSTRIAL PRODUCTS",
          "Thunder Software Technology Malaysia",
          "CIMB Bank",
          "MBP SOLUTIONS",
          "Malaysian Life Reinsurance Group",
          "TTMS Software",
          "KG Information Systems",
          "FACEXPRO SDN BHD",
          "Tokio Marine MY",
          "Oliver James Consulting Sdn. Bhd.",
          "QUANDATICS",
          "Intrepid Group",
          "HASTRAA CONSULTING SERVICES SDN. BHD.",
          "ServiceSource",
          "Kedai Emas Tian Si Sdn Bhd",
          "Nexperia",
          "Sanmina",
          "Sykt. Low Kim Chuan & Anak-anak",
          "Holiday Tours & Travel",
          "UTAR EDUCATION FOUNDATION",
          "BHP",
          "ARK DE GLORY",
          "ADA",
          "Puncak Tegap Sdn Bhd",
          "Hilti Asia IT Services",
          "NAIM HOLDINGS BERHAD",
          "Glueck Technologies",
          "ZENY IT",
          "TECH SOLUTIONS & DEVELOPMENT SDN. BHD.",
          "Global Lancesoft Sdn Bhd",
          "Notion Consortium",
          "QOALA TECHNOLOGY SDN. BHD.",
          "OVOL MALAYSIA",
          "Pan-Asia Property Management Sdn Bhd",
          "RIDER HUNT INTERNATIONAL (MALAYSIA) SDN. BHD.",
          "Asian Technology Solutions",
          "TROPICAL PRODUCE SDN. BHD.",
          "Mercedes-Benz Malaysia Sdn Bhd",
          "BASF Asia Pacific Service Centre Sdn Bhd",
          "Calctronic Technology Sdn Bhd",
          "Jabil Circuit",
          "MacFood Services (M) Sdn Bhd",
          "MY AONE LEARNING SDN. BHD.",
          "Innates PLT",
          "SmartRetail Sdn Bhd",
          "PPS",
          "ORSTED SERVICES MALAYSIA",
          "ACCIONLABS",
          "Hitachi Vantara Sdn Bhd",
          "WAHAM",
          "NEC",
          "KEY ASIC",
          "CBRE",
          "Mindvalley",
          "NTT DATA SERVICES MALAYSIA",
          "AURORA CLOUD WORKS SDN. BHD.",
          "Opus Asset Management",
          "Saniton Ceramic",
          "APPFUXION",
          "AIG",
          "Sindutch Cable Manufacturer",
          "MICRO MODULAR SYSTEM",
          "Bubble Gum X Sdn Bhd",
          "EXCEL FORCE",
          "Primary Priority Technology",
          "Redstack (M) Sdn Bhd",
          "TurnKey Lender",
          "DRN Manufacturing",
          "99x",
          "Micron Semiconductors",
          "DIA-CHEMICAL",
          "CMG Online",
          "THIRTY THREE DIGITEC SOLUTIONS SDN. BHD.",
          "Synthomer",
          "retailcloud",
          "Petrotechnical Inspection",
          "SELFDRVN ENTERPRISE",
          "Fortinet",
          "Fujitsu Systems Global Solutions Management",
          "UOA Development",
          "Taleem",
          "NCS GLOBAL TECHNOLOGY",
          "iPrice Group",
          "Hok Huat Group",
          "Metropolitan Corridor Services",
          "UNIVERSITI TELEKOM SDN. BHD.",
          "Jacobs",
          "Eng Peng Cold Storage",
          "SPUTNIK CONSULTING SDN. BHD.",
          "FINEXUS",
          "ExxonMobil Malaysia",
          "VIT MAKANAN KL",
          "DEVELOPMENT BANK OF SARAWAK",
          "IBM Malaysia Sdn Bhd",
          "Apar Technologies",
          "IBIDEN Electronics Malaysia",
          "MSP HITECT",
          "IMU EDUCATIONS",
          "IP Core",
          "Orange",
          "INVITES SDN BHD",
          "Breitkom Network",
          "Goodyear",
          "TTOT SDN. BHD.",
          "2C2P",
          "Prodigee Media",
          "ZIGMAR SDN BHD",
          "Amway",
          "Mox-Linde Gases",
          "Obsnap Instruments",
          "MQS Consult",
          "BAWIQ",
          "MALAYSIAN URGENT CARE CLINIC SDN. BHD.",
          "Nityo Infotech Services",
          "Marriott International",
          "IHS Global",
          "Sabio Group",
          "Elite Ventures",
          "SMART PROCESS SOLUTION SDN. BHD.",
          "Malayan Flour Mills",
          "IFRC - International Federation of Red Cross and Red Crescent Societies",
          "HELP University",
          "KLA",
          "Confluence Contour",
          "OSRAM Opto Semiconductors",
          "Composite Technology Research Malaysia Sdn Bhd",
          "BRITISH AMERICAN TOBACCO GSD (KUALA LUMPUR)",
          "Clarivate",
          "tes",
          "IDS BEYOND MEDIA SDN. BHD.",
          "Atos",
          "Microsemi International",
          "LARIAN GCL SDN. BHD.",
          "Syspro Web Development",
          "Growthdesk",
          "ADVGE Holdings",
          "Deriv",
          "Larian Studios",
          "Fresh Futures",
          "NMG FINANCIAL SERVICES CONSULTING S/",
          "Baxter Global",
          "Persistent Systems Malaysia Sdn Bhd",
          "DHL",
          "Hexagon PPM",
          "Sarawak Information Systems (SAINS)",
          "ADEV VENTURES SDN. BHD.",
          "DHL Information Services (Asia-Pacific)",
          "ICAS LEADS - OTHER COUNTRIES",
          "Wear Safe (Malaysia) Sdn Bhd",
          "JLL",
          "American Express",
          "Hewlett Packard Enterprise",
          "Bosch",
          "MAKER ACADEMY PLT",
          "E2open",
          "FINSURGE",
          "CM Management & Consultancy",
          "NORTHERN MEDICAL LABORATORY",
          "Ncoam Technologies Sdn Bhd",
          "Luxoft Malaysia",
          "dJAVA Factory",
          "PRO OFFICE SOLUTIONS",
          "Perodua",
          "ANSONEX RESOURCES",
          "KIOSKMEDIA",
          "Bintara Solutions",
          "TJ-TYT PHARMACEUTICALS (M) SDN.BHD.",
          "ALTUS OIL & GAS MALAYSIA",
          "Westports Malaysia",
          "Compex Technologies Sdn Bhd",
          "Gallup",
          "Ideal Vision Integration Sdn Bhd",
          "SYMBIOTICA SPECIALITY INGREDIENTS",
          "Mind Space",
          "Hospital Lam Wah Ee",
          "SOGO (KL) Department Store",
          "OSI Optoelectronics",
          "Kris Infotech",
          "Sarawak Medical Centre",
          "ESKAYVIE",
          "ZATEN INFOTECH SDN. BHD.",
          "KUCHING IT",
          "FOODS WISE NETWORK SDN. BHD.",
          "Tinkerve LLP",
          "GK AQUA SDN. BHD.",
          "Deus Solutions",
          "AMS ALUMINIUM & GLASS SDN. BHD.",
          "NIBAARA TECHNOLOGIES SDN. BHD.",
          "Parexel International",
          "EFTECH DRILLING SOLUTIONS SDN. BHD.",
          "TMF Group",
          "BP Healthcare Group",
          "Fugro",
          "NTT Data",
          "ICONIC CONTROL SDN. BHD.",
          "MSD",
          "MHP-Miracle Health Products",
          "FM Aerodynamic",
          "Averis Sdn Bhd",
          "SIX DEGREE CONSULTING",
          "Kamaya Electric",
          "HORIZONS 45 TECHNOLOGY SDN. BHD.",
          "Ipsos",
          "Petronas",
          "WILD ASIA",
          "Synztec Malaysia",
          "Coffeeprint Network PLT",
          "Software International",
          "BIGLEDGER",
          "KK Supermart & Superstore",
          "CRAZZ GROUP PLT",
          "SMaju Agro Venture",
          "Worley",
          "FNXPERTS SDN. BHD.",
          "N-WAVE TECHNOLOGIES (MALAYSIA) SDN. BHD.",
          "Chemsain Konsultant",
          "Victor Equipments Resources",
          "SEMANGAT JAYA SETIA SDN BHD",
          "Know Idea",
          "Celestica International",
          "EVERBEX TECHNOLOGIES",
          "Ouji Sekken Manufacturing (M) Sdn Bhd",
          "VIRTUAL NETWORK SOLUTIONS",
          "BIOCOSLAB MANUFACTURING",
          "SANY INTERNATIONAL DEVELOPING (M) SDN BHD",
          "Kamlax Global Technologies",
          "BRITISH HOME",
          "Biosyntech Malaysia Group",
          "HALLIBURTON ENERGY SERVICES (MALAYSIA) SDN. BHD",
          "International Office Of Technical Assistance (M) Sdn Bhd",
          "IKHASAS SDN. BHD.",
          "Allianz",
          "Celestica Malaysia",
          "Diebold Nixdorf",
          "Eppendorf Asia Pacific Sdn Bhd",
          "Kinesso Malaysia ( fka Mediabrands Global Technology Solutions )",
          "Fusionex Corp Sdn Bhd",
          "MINDTECK SOFTWARE MALAYSIA",
          "Ideal Quality",
          "Leung Kai Fook Medical",
          "LLK TECH SOLUTIONS SDN. BHD.",
          "ELIXIR ANALYTIX (M) SDN. BHD.",
          "RENERGIST",
          "JOGOHEALTH STROKE CENTER",
          "Grant Thornton",
          "TOKIMEKU PRECISION ENGINEERING",
          "Celcom",
          "Arkod Smart Logitech Sdn Bhd",
          "POLE TO WIN (MALAYSIA) SDN. BHD.",
          "Vinsoon Shoe Trading Sdn Bhd",
          "Wastech Multigreen Sdn Bhd",
          "ICON VENTURE CAPITAL SDN. BHD.",
          "INTEGRATED GGRE ASIA SDN. BHD.",
          "MDM TRAINING SERVICES SDN. BHD.",
          "Entegris (Malaysia) Sdn Bhd",
          "SEEK Select by JobStreet",
          "Tokio Marine Life Insurance Malaysia Bhd",
          "Twinco Far East Sdn Bhd",
          "Perodua Sales Sdn Bhd",
          "Dominant Opto Technologies Sdn Bhd",
          "Johawaki Group of Companies",
          "TJ-TYT Pharmaceuticals (M) Sdn Bhd",
          "Jaya Uni'ang (Sabah) Sdn Bhd",
          "Tong Heer Fasteners Co Sdn Bhd",
          "QI Services (M) Sdn Bhd",
          "Southern Edible Oil Industries (M) Sdn Bhd",
          "ACTIVWORLD GROUP SDN. BHD.",
          "Chin Hin Group Berhad",
          "CTH Commerce Sdn Bhd",
          "Lotte Chemical Titan (M) Sdn Bhd",
          "Nutrition Technologies Sdn Bhd",
          "Onetexx Sdn. Bhd.",
          "RE Global Consulting",
          "MYTUKAR SDN. BHD.",
          "QES GROUP OF COMPANIES",
          "Charoen Pokphand Group Malaysia",
          "NEXTPOINTING SOLUTIONS SDN. BHD.",
          "SHOWA DENKO CARBON Malaysia Sdn. Bhd.",
          "OOS VENTURE SDN BHD",
          "The Valspar (M) Corporation Sdn Bhd (The Sherwin-Williams Company)",
          "Pacific & Orient Berhad",
          "Qinetics Solutions Sdn Bhd",
          "Electrolux Home Appliances Sdn Bhd (CoE)",
          "KUFPEC (MALAYSIA) SDN. BHD.",
          "IKA Works (Asia) Sdn Bhd",
          "SWIFT SUPPORT SERVICES MALAYSIA SDN. BHD.",
          "Ain Medicare Sdn Bhd",
          "HT Tyrehub Sdn Bhd",
          "QETC Education & Training Consultancy",
          "II-VI MALAYSIA ADVANCED MFG CENTER SDN. BHD. (Formerly Known as FINISAR)",
          "ADAPTIVE BUSINESS SOLUTIONS SDN. BHD.",
          "Toyota Capital Malaysia Sdn. Bhd.",
          "TigerCampus Malaysia",
          "Reliable Business Technologies Sdn Bhd",
          "Crest Systems (M) Sdn Bhd",
          "Deleum Oilfield Services Sdn Bhd",
          "Khind Holdings Berhad",
          "PAKAR SCIENO TW SDN. BHD.",
          "MINDTECK SOFTWARE MALAYSIA SDN BHD",
          "Dream Technology System Sdn Bhd",
          "Wilhelmsen Ship Management Sdn Bhd",
          "See Hoy Chan Sdn. Berhad",
          "JOGOHEALTH STROKE CENTER SDN BHD",
          "INSAIX INNOVATION SDN. BHD.",
          "BUBBLE GUM X SDN BHD",
          "Abletech Solutions Sdn Bhd",
          "EVO TRACKER SDN BHD",
          "TGV CINEMAS SDN BHD",
          "FUSIONQB SDN. BHD.",
          "TAG Resources and Technologies (Malaysia) Sdn. Bhd.",
          "Xepa-Soul Pattinson (Malaysia) Sdn Bhd",
          "MEASAT Satellite Systems Sdn. Bhd.",
          "HESPER TECHNOLOGY SDN. BHD",
          "Xtremax Malaysia",
          "Panasonic Asia Pacific Pte Ltd",
          "OCUNAPSE SDN. BHD.",
          "V SWISS SDN BHD",
          "EP Plus Group",
          "IKHASAS SDN BHD",
          "Xtremax Pte Ltd",
          "Kenso Corporation (M) Sdn Bhd",
          "Bytecenture Consulting Pte Ltd",
          "Paramit Malaysia Sdn Bhd",
          "CSF ADVISERS SDN BHD",
          "Manfield Employment Services Pte Ltd",
          "Acora Solutions Sdn. Bhd.",
          "The Laryngeal Mask Company (M) Sdn. Bhd.",
          "Agency Pekerjaan Zenith Services",
          "Auto Count Sdn Bhd",
          "Keysight Technologies Singapore",
          "SCIENTEX PACKAGING ( TELUK EMAS ) SDN. BHD.",
          "FDT DATA PROCESSING SDN. BHD.",
          "GEA Westfalia Separator (Malaysia) Sdn Bhd",
          "DEVELOPMENT BANK OF SARAWAK BERHAD",
          "DNA Laboratories Sdn Bhd",
          "Kanika (Malaysia) Sdn. Bhd.",
          "Century Software (M) Sdn Bhd",
          "Amazin' Graze",
          "Metalux Oil Analysis Sdn Bhd",
          "Dan Kaffe (Malaysia) Sdn Bhd",
          "Myreka Technologies Sdn. Bhd.",
          "Hong Leong Investment Bank",
          "INVOLVE ASIA TECHNOLOGIES SDN BHD",
          "Jabil Circuit Sdn Bhd",
          "Serial Microelectronics Pte Ltd",
          "Bahru Stainless Sdn Bhd",
          "TICKET2U SDN. BHD.",
          "Columbia Asia Healthcare",
          "Zuellig Pharma Sdn Bhd",
          "Endeavor Standard",
          "Aspen Medical Products Malaysia Sdn Bhd",
          "Tokimeku Precision Engineering Sdn Bhd",
          "SUNFERT INTERNATIONAL FERTILITY CENTRE SDN BHD",
          "JST Connectors (M) Sdn. Bhd.",
          "Public Gold Marketing Sdn Bhd",
          "Aspiro Sdn Bhd",
          "Agensi Pekerjaan GMRecruitment Sdn Bhd",
          "QASHIER SDN. BHD.",
          "Asia Pacific Schools",
          "Fuji Electric (Malaysia) Sdn Bhd",
          "RecruitFirst Pte. Ltd",
          "RS Group",
          "AZONEX SDN. BHD.",
          "NKL360 MALAYSIA SDN. BHD.",
          "KLCC (Holdings) Sdn Bhd",
          "DVA (Malaysia) Sdn Bhd",
          "Samsung Malaysia Electronics (SME) Sdn Bhd",
          "TTM AGENCY SDN. BHD.",
          "U Mobile Sdn Bhd",
          "AXA AFFIN Life Insurance Berhad",
          "SINGAPORE AERO ENGINE SERVICES P.T.E L.T.D",
          "TITANICOM TECH LIMITED",
          "Zurich Insurance Malaysia Berhad",
          "timesconsult",
          "Hitachi eBworx Sdn. Bhd.",
          "SRG Asia Pacific Sdn. Bhd.",
          "QS Enrolment Solutions",
          "AppAsia Tech Sdn Bhd",
          "J&T DISTRIBUTION SOLUTION SDN. BHD.",
          "Chubb Insurance Malaysia Berhad",
          "VIOLET FLAME SOLUTION",
          "Suez Water Technologies & Solutions Singapore Pte. Ltd.",
          "YEOP PHARMA",
          "Joey Yap Consulting Group",
          "DHL eCommerce (Malaysia) Sdn Bhd",
          "Vanguard International Semiconductor Singapore Pte. Ltd.",
          "Agensi Pekerjaan Asia Recruit Sdn Bhd",
          "Viewpoint Research Corporation Sdn Bhd",
          "Digital Silhouette Sdn Bhd",
          "LIVEMED SDN. BHD.",
          "BEYONDSOFT (MALAYSIA) SDN. BHD.",
          "Radio Holland Malaysia Sdn Bhd",
          "PRISM+",
          "Golden Screen Cinemas Sdn Bhd",
          "AmBank (M) Berhad",
          "Tangspac Consulting Pte Ltd",
          "Spirit AeroSystems Malaysia Sdn Bhd",
          "4Fingers Crispy Chicken",
          "MOL ACCESSPORTAL SDN. BHD.",
          "Zempot Malaysia Sdn. Bhd.",
          "Justel Sdn Bhd",
          "Nala Groups",
          "Asia Pacific University of Technology & Innovation (APU)",
          "Merchantrade Asia Sdn Bhd",
          "Management Development Institute of Singapore",
          "Worldwide Holdings Berhad",
          "CBRE ASIA PACIFIC BUSINESS SERVICES SDN BHD",
          "Labuan Reinsurance (L) Ltd",
          "REDFIN TECHNOLOGIES PL",
          "PTW Malaysia",
          "Suruhanjaya Syarikat Malaysia/Companies Commission of Malaysia",
          "Crawford and Company Adjusters (M) Sdn Bhd",
          "Global eCommerce Solutions Sdn Bhd",
          "2C2P System (Malaysia) Sdn Bhd",
          "Mondelez International",
          "Prestige Atlantic Asia Sdn Bhd",
          "OVOL MALAYSIA SDN. BHD.",
          "Silverlake One Paradigm Sdn Bhd",
          "Accenture Technology Solutions Sdn Bhd",
          "IHS Markit (Malaysia) Sdn Bhd",
          "OYO Rooms Hospitality Sdn. Bhd.",
          "Jurukur Kinetic",
          "CAMBRIDGELAND PLT",
          "City Of Light Learning Academy",
          "JJ Innovation Venture (M) Sdn. Bhd.",
          "SEGi University",
          "UWC Holdings Sdn Bhd",
          "CAREON PHARMACY SDN. BHD.",
          "Kenanga Investors Berhad",
          "Taiwan Semiconductor Manufacturing Company Limited",
          "Gleneagles Hospital Medini Johor",
          "HTC Global Services MSC",
          "Pembinaan Yuen Seng Sdn Bhd",
          "Klinik veterinar putra nilai",
          "ITW Meritex Sdn Bhd (Automotive Division)",
          "Fresenius Medical Care Production Sdn Bhd",
          "SO SUN SING SDN. BHD.",
          "Tentacle Tech",
          "Biomerit scientific SDN bhd",
          "ONE1JSG BUSINESS SERVICES SDN. BHD.",
          "TecAlliance Malaysia Sdn Bhd",
          "Agensi Pekerjaan Iconic Malaysia Gw Sdn. Bhd.",
          "BAT ASPAC Service Centre Sdn Bhd",
          "Webhelp APAC",
          "PROLINTAS GROUP OF COMPANIES",
          "AIRDROITECH SDN. BHD.",
          "FREIGHT MART INTERNATIONAL SDN. BHD.",
          "NH2 System Sdn Bhd",
          "J&T EXPRESS (MALAYSIA) SDN. BHD.",
          "Lam Soon Edible Oils Sdn Bhd",
          "Coway (Malaysia) Sdn Bhd",
          "Advanced Micro Devices Global Services (M) Sdn. Bhd.",
          "SEEK Asia (JORA)",
          "NEOSCIENCE SDN. BHD.",
          "FPT Software Malaysia Sdn. Bhd.",
          "Western Digital Tech and Regional Center (M) Sdn Bhd",
          "INFECTIOUS DISEASE SOCIETY KOTA KINABALU SABAH",
          "QL Corporate Services Sdn Bhd",
          "Kasatria Technologies Sdn Bhd",
          "ESRI Malaysia Sdn Bhd",
          "Sonepar SouthEast Asia Sdn Bhd",
          "iMarketing MY (Acme Commerce Sdn Bhd)",
          "Pusat Pakar Mata Ikonik | Ikonik Eye Specialist Centre",
          "Sunway College",
          "ALAM FLORA ENVIRONMENTAL SOLUTIONS SDN BHD",
          "Adecco Personnel Sdn Bhd",
          "TECHNO MECH (M) SDN BHD",
          "Ingram Micro Malaysia Sdn Bhd",
          "IOI Properties Group Berhad (Property Corporate)",
          "Raffles College of Higher Education Sdn Bhd",
          "AEM Microtronics (M) Sdn Bhd",
          "AGENSI PEKERJAAN WORKLE SDN. BHD.",
          "Pac Lease Berhad",
          "Pactera Malaysia Inc.Sdn Bhd",
          "Y.S.P. Industries (M) Sdn Bhd",
          "Kelly Services (Malaysia) Sdn Bhd - BTI",
          "Regencell Bioscience Asia Sdn Bhd",
          "Tony Ng & Associates Sdn Bhd",
          "DCConnect Global",
          "Kyocera AVX Components (Penang) Sdn Bhd",
          "Tokio Marine Insurans (Malaysia) Berhad",
          "Sime Darby Plantation Berhad",
          "Tzu Chi International School Kuala Lumpur",
          "Albatross Exim (M) Sdn. Bhd.",
          "MyT Edutech Berhad",
          "MAHSA University",
          "SIRIM STS SDN. BHD.",
          "Fujikura Kasei Malaysia Sdn Bhd",
          "SunPower Malaysia Manufacturing Sdn Bhd (regional)",
          "West Coast Expressway Sdn Bhd",
          "Deriv Services Sdn Bhd",
          "Coraza Systems Malaysia Sdn. Bhd.",
          "Universiti Teknologi PETRONAS (UTP)",
          "Phillip Nova Pte Ltd",
          "JINJING TECHNOLOGY MALAYSIA SDN. BHD.",
          "Bionutricia Manufacturing Sdn Bhd",
          "Schenker Logistics (Malaysia) Sdn Bhd",
          "ITNet Enterprise",
          "De Luxe Group",
          "Fitness First Singapore Pte Ltd",
          "webe digital sdn bhd",
          "INBODY ASIA SDN. BHD.",
          "Tunku Abdul Rahman University of Management and Technology (TAR UMT)",
          "TORAY MALAYSIA SYSTEMS SOLUTION SDN. BHD.",
          "Pan Pacific Retail Management (Malaysia) Sdn Bhd",
          "Twolink Sdn Bhd",
          "Rocketsview Management Sdn Bhd",
          "TESS International Group",
          "Ecolex Sdn Bhd",
          "ASM Services & Support Malaysia (Resource Solutions)",
          "Lufter Sdn Bhd",
          "TECHIES APP TECHNOLOGIES SDN. BHD.",
          "Lee's Frozen Food Sdn. Bhd.",
          "Celestica Malaysia Sdn Bhd",
          "Bodhi Meditation, Malaysia",
          "Zenda IT Technology Sdn Bhd",
          "Stradford International College",
          "UMMI Surgical Sdn Bhd",
          "CUCKOO INTERNATIONAL (MAL) SDN. BHD.",
          "Taylor's International School",
          "Innowave LLC SDN BHD",
          "AJIYA BERHAD",
          "PH PALM EXPRESS SDN. BHD.",
          "Intel Technology Sdn. Bhd.",
          "Ace Resource Advisory Services Sdn Bhd",
          "First Solar Malaysia Sdn Bhd",
          "Juhler Professionals - A division of Temp-Team Pte Ltd",
          "The International School of Kuala Lumpur (ISKL)",
          "CURRENT TECH INDUSTRIES SDN. BHD.",
          "Millennium Welt Sdn Bhd",
          "Tung Shin Hospital",
          "Golden Fresh Sdn. Bhd.",
          "Liberty Insurance Berhad",
          "MTT Shipping Sdn Bhd",
          "SEARCH STAFFING SERVICES PTE. LTD",
          "ELEVATE BUSINESS CONSULTANTS (MALAYSIA) SDN BHD",
          "Ezypay (Business Registration: iConnect360 Sdn Bhd)",
          "GPL Group of Companies",
          "ARCON SDN. BHD.",
          "Pernec Integrated Network Systems Sdn Bhd",
          "CAB INTERNATIONAL",
          "ICMC Sdn Bhd",
          "SANMINA-SCI SYSTEMS (MALAYSIA) SDN BHD",
          "MASS Intelligent Provider Sdn Bhd",
          "Akzo Nobel Paints (M) Sdn Bhd",
          "GS Paperboard & Packaging Sdn Bhd",
          "Tremco CPG Malaysia Sdn Bhd",
          "Percetakan Tenaga Sdn. Bhd.",
          "STRATACACHE ASIA-PACIFIC PTE. LTD.",
          "PLATINUM VICTORY DEVELOPMENT SDN BHD",
          "F&B Nutrition Sdn. Bhd.",
          "Novotech Clinical Research (M) Sdn Bhd",
          "Oleon Port Klang Sdn Bhd",
          "CGI IT Consulting Sdn Bhd",
          "CMG Holdings Sdn Bhd",
          "iFAST Capital Sdn Bhd",
          "NOMU PAY MALAYSIA SDN. BHD.",
          "RIGHT RECRUIT SDN. BHD.",
          "Galderma",
          "Ambu Sdn Bhd",
          "INSTAPAY TECHNOLOGIES SDN. BHD.",
          "SANOFI",
          "Abbott Laboratories (Malaysia) Sdn Bhd",
          "Parkson Corporation Sdn Bhd",
          "MC INFO TECH SDN.BHD",
          "Top Glove Corporation Berhad",
          "Sky Resources Group of Companies",
          "SPECTRUM OF LIFE SDN BHD",
          "ASK Resources",
          "BBS Automation Penang Sdn Bhd",
          "Boston Scientific Medical Device (Malaysia) Sdn. Bhd.",
          "Corestaff Pte Ltd",
          "VOLT",
          "Cargill Holdings (Malaysia) Sdn Bhd",
          "Ann Joo Steel Berhad",
          "Ecloudvalley Technology Sdn Bhd",
          "Vision 77 Sdn Bhd",
          "SDAX Exchange Pte. Ltd.",
          "SPD Scientific (M) Sdn Bhd",
          "Nettium Sdn. Bhd.",
          "TTOT Sdn Bhd",
          "AGENSI PEKERJAAN LONSON SDN. BHD.",
          "Mega Fortris (Malaysia) Sdn Bhd",
          "NCH Singapore Pte Ltd",
          "Yeo Hiap Seng (Malaysia) Sdn Bhd",
          "Precision Computer (M) Sdn Bhd",
          "TSH Resources Berhad",
          "Goodyear Malaysia Berhad",
          "PARIS BAGUETTE LOGISTICS SDN. BHD.",
          "Sindutch Cable Manufacturer Sdn Bhd",
          "Biocon Sdn Bhd",
          "Barry Callebaut Malaysia Sdn Bhd",
          "Payments Network Malaysia Sdn Bhd",
          "Donaldson Filtration (Malaysia) Sdn. Bhd.",
          "Bridge Mobile Pte Ltd",
          "Eng Teknologi Sdn. Bhd.",
          "RF INFINITE SDN BHD",
          "GDT SDN. BHD.",
          "DKSH Corporate Shared Services Center Sdn Bhd",
          "Melaka Straits Medical Centre Sdn Bhd",
          "EDEN FLAME SDN. BHD.",
          "Federal Express Services (M) Sdn Bhd",
          "AbbVie Sdn Bhd",
          "12u12 SDN. BHD.",
          "Vishay Semiconductor Malaysia Sdn Bhd",
          "Infineon Technologies Advance Logic Sdn Bhd",
          "Tonasco Malaysia Sdn Bhd",
          "Kenanga Investment Bank Berhad",
          "BIPO SERVICE MALAYSIA SDN. BHD.",
          "EPS Consultants Pte Ltd",
          "Loytape Industries Sdn Bhd",
          "Swan Metal Products Sdn Bhd",
          "Ritma Prestasi Sdn Bhd",
          "Pacific Enterprise Solutions Ltd",
          "Health Equity Initiatives",
          "Alam Flora Sdn. Bhd.",
          "VISTA KENCANA SDN. BHD.",
          "Swanson Plastics (Malaysia) Sdn Bhd",
          "SEEK Asia (JobStreet.com)",
          "My Evolution Sdn Bhd",
          "NUMED MALAYSIA SDN. BHD",
          "Hap Seng Management Services Sdn Bhd",
          "N'osairis Technology Solutions Sdn Bhd",
          "Mamee-Double Decker (M) Sdn Bhd",
          "OCBC Bank (Malaysia) Berhad",
          "Arus Juta Sdn Bhd",
          "IPK COLLEGE",
          "BCM Electronics Corporation Sdn Bhd",
          "Institut Jantung Negara Sdn Bhd",
          "NCH Malaysia",
          "Elitez & Associates",
          "SMITH & NEPHEW HEALTHCARE SDN. BHD.",
          "Corelle Brands Manufacturing (M) Sdn. Bhd.",
          "Padini Holdings Berhad (50202-A)",
          "Agensi Pekerjaan RecruitFirst Sdn Bhd",
          "INSCALE",
          "Hok Huat Group Sdn Bhd",
          "ASE Electronics (M) Sdn Bhd",
          "PAC TESTING & CONSULTING SDN. BHD.",
          "Orange Business Services",
          "LUCKY FROZEN SDN BHD",
          "PARTICLE BYTE SDN. BHD.",
          "Lear Corporation",
          "LUXOFT MALAYSIA SDN. BHD.",
          "DNV SINGAPORE PTE. LTD.",
          "Smart-Acc Solutions Sdn Bhd",
          "Leader Cable Industry Berhad",
          "Sumisaujana TCM Chemicals Sdn Bhd",
          "METHODIST COLLEGE KUALA LUMPUR",
          "Gaia Science (M) Sdn Bhd",
          "Hyron Infotech Pte. Ltd.",
          "UAC Berhad",
          "ScienTec Consulting Pte Ltd",
          "IQVIA Malaysia",
          "HERBALIFE GLOBAL BUSINESS SERVICE CENTRE SDN. BHD.",
          "LONGI (KUCHING) SDN BHD",
          "RedPlanet Solutions (M) Sdn Bhd",
          "Carlsberg Brewery Malaysia Bhd",
          "Berjaya Sompo Insurance Berhad",
          "VENATOR ASIA SDN. BHD.",
          "Minconsult Sdn Bhd",
          "Financial Risk Group (GRG Consulting Sdn Bhd)",
          "WATERCO (FAR EAST) SDN BHD",
          "TERA VA SDN. BHD.",
          "OMX Nutrition Sdn. Bhd.",
          "Datapel Asia Sdn Bhd",
          "FARM APPS SDN. BHD.",
          "KAISON FURNISHING SDN. BHD.",
          "AGTIV Consulting Sdn Bhd",
          "George Fischer (M) Sdn Bhd",
          "Haleon",
          "Pantheon Lab Limited",
          "Nippon Paint (Singapore) Co Pte Ltd",
          "Onboard Technologies Sdn Bhd",
          "Samling Group of Companies",
          "HACH MALAYSIA SDN BHD",
          "Bank Pertanian Malaysia Berhad (Agrobank)",
          "Merimen Online Sdn Bhd",
          "YONMING GROUP",
          "Kerry",
          "Hovid Bhd",
          "G-mart Borneo Retail",
          "Temasek Allied Engineering",
          "Edwards Lifesciences",
          "YONGPENG SOLUTIONS SDN. BHD."
         ],
         "yaxis": "y",
         "type": "bar",
         "textfont": {
          "size": 12
         },
         "cliponaxis": false,
         "textangle": 0
        }
       ],
       "layout": {
        "template": {
         "data": {
          "histogram2dcontour": [
           {
            "type": "histogram2dcontour",
            "colorbar": {
             "outlinewidth": 0,
             "ticks": ""
            },
            "colorscale": [
             [
              0.0,
              "#0d0887"
             ],
             [
              0.1111111111111111,
              "#46039f"
             ],
             [
              0.2222222222222222,
              "#7201a8"
             ],
             [
              0.3333333333333333,
              "#9c179e"
             ],
             [
              0.4444444444444444,
              "#bd3786"
             ],
             [
              0.5555555555555556,
              "#d8576b"
             ],
             [
              0.6666666666666666,
              "#ed7953"
             ],
             [
              0.7777777777777778,
              "#fb9f3a"
             ],
             [
              0.8888888888888888,
              "#fdca26"
             ],
             [
              1.0,
              "#f0f921"
             ]
            ]
           }
          ],
          "choropleth": [
           {
            "type": "choropleth",
            "colorbar": {
             "outlinewidth": 0,
             "ticks": ""
            }
           }
          ],
          "histogram2d": [
           {
            "type": "histogram2d",
            "colorbar": {
             "outlinewidth": 0,
             "ticks": ""
            },
            "colorscale": [
             [
              0.0,
              "#0d0887"
             ],
             [
              0.1111111111111111,
              "#46039f"
             ],
             [
              0.2222222222222222,
              "#7201a8"
             ],
             [
              0.3333333333333333,
              "#9c179e"
             ],
             [
              0.4444444444444444,
              "#bd3786"
             ],
             [
              0.5555555555555556,
              "#d8576b"
             ],
             [
              0.6666666666666666,
              "#ed7953"
             ],
             [
              0.7777777777777778,
              "#fb9f3a"
             ],
             [
              0.8888888888888888,
              "#fdca26"
             ],
             [
              1.0,
              "#f0f921"
             ]
            ]
           }
          ],
          "heatmap": [
           {
            "type": "heatmap",
            "colorbar": {
             "outlinewidth": 0,
             "ticks": ""
            },
            "colorscale": [
             [
              0.0,
              "#0d0887"
             ],
             [
              0.1111111111111111,
              "#46039f"
             ],
             [
              0.2222222222222222,
              "#7201a8"
             ],
             [
              0.3333333333333333,
              "#9c179e"
             ],
             [
              0.4444444444444444,
              "#bd3786"
             ],
             [
              0.5555555555555556,
              "#d8576b"
             ],
             [
              0.6666666666666666,
              "#ed7953"
             ],
             [
              0.7777777777777778,
              "#fb9f3a"
             ],
             [
              0.8888888888888888,
              "#fdca26"
             ],
             [
              1.0,
              "#f0f921"
             ]
            ]
           }
          ],
          "heatmapgl": [
           {
            "type": "heatmapgl",
            "colorbar": {
             "outlinewidth": 0,
             "ticks": ""
            },
            "colorscale": [
             [
              0.0,
              "#0d0887"
             ],
             [
              0.1111111111111111,
              "#46039f"
             ],
             [
              0.2222222222222222,
              "#7201a8"
             ],
             [
              0.3333333333333333,
              "#9c179e"
             ],
             [
              0.4444444444444444,
              "#bd3786"
             ],
             [
              0.5555555555555556,
              "#d8576b"
             ],
             [
              0.6666666666666666,
              "#ed7953"
             ],
             [
              0.7777777777777778,
              "#fb9f3a"
             ],
             [
              0.8888888888888888,
              "#fdca26"
             ],
             [
              1.0,
              "#f0f921"
             ]
            ]
           }
          ],
          "contourcarpet": [
           {
            "type": "contourcarpet",
            "colorbar": {
             "outlinewidth": 0,
             "ticks": ""
            }
           }
          ],
          "contour": [
           {
            "type": "contour",
            "colorbar": {
             "outlinewidth": 0,
             "ticks": ""
            },
            "colorscale": [
             [
              0.0,
              "#0d0887"
             ],
             [
              0.1111111111111111,
              "#46039f"
             ],
             [
              0.2222222222222222,
              "#7201a8"
             ],
             [
              0.3333333333333333,
              "#9c179e"
             ],
             [
              0.4444444444444444,
              "#bd3786"
             ],
             [
              0.5555555555555556,
              "#d8576b"
             ],
             [
              0.6666666666666666,
              "#ed7953"
             ],
             [
              0.7777777777777778,
              "#fb9f3a"
             ],
             [
              0.8888888888888888,
              "#fdca26"
             ],
             [
              1.0,
              "#f0f921"
             ]
            ]
           }
          ],
          "surface": [
           {
            "type": "surface",
            "colorbar": {
             "outlinewidth": 0,
             "ticks": ""
            },
            "colorscale": [
             [
              0.0,
              "#0d0887"
             ],
             [
              0.1111111111111111,
              "#46039f"
             ],
             [
              0.2222222222222222,
              "#7201a8"
             ],
             [
              0.3333333333333333,
              "#9c179e"
             ],
             [
              0.4444444444444444,
              "#bd3786"
             ],
             [
              0.5555555555555556,
              "#d8576b"
             ],
             [
              0.6666666666666666,
              "#ed7953"
             ],
             [
              0.7777777777777778,
              "#fb9f3a"
             ],
             [
              0.8888888888888888,
              "#fdca26"
             ],
             [
              1.0,
              "#f0f921"
             ]
            ]
           }
          ],
          "mesh3d": [
           {
            "type": "mesh3d",
            "colorbar": {
             "outlinewidth": 0,
             "ticks": ""
            }
           }
          ],
          "scatter": [
           {
            "marker": {
             "line": {
              "color": "#283442"
             }
            },
            "type": "scatter"
           }
          ],
          "parcoords": [
           {
            "type": "parcoords",
            "line": {
             "colorbar": {
              "outlinewidth": 0,
              "ticks": ""
             }
            }
           }
          ],
          "scatterpolargl": [
           {
            "type": "scatterpolargl",
            "marker": {
             "colorbar": {
              "outlinewidth": 0,
              "ticks": ""
             }
            }
           }
          ],
          "bar": [
           {
            "error_x": {
             "color": "#f2f5fa"
            },
            "error_y": {
             "color": "#f2f5fa"
            },
            "marker": {
             "line": {
              "color": "rgb(17,17,17)",
              "width": 0.5
             },
             "pattern": {
              "fillmode": "overlay",
              "size": 10,
              "solidity": 0.2
             }
            },
            "type": "bar"
           }
          ],
          "scattergeo": [
           {
            "type": "scattergeo",
            "marker": {
             "colorbar": {
              "outlinewidth": 0,
              "ticks": ""
             }
            }
           }
          ],
          "scatterpolar": [
           {
            "type": "scatterpolar",
            "marker": {
             "colorbar": {
              "outlinewidth": 0,
              "ticks": ""
             }
            }
           }
          ],
          "histogram": [
           {
            "marker": {
             "pattern": {
              "fillmode": "overlay",
              "size": 10,
              "solidity": 0.2
             }
            },
            "type": "histogram"
           }
          ],
          "scattergl": [
           {
            "marker": {
             "line": {
              "color": "#283442"
             }
            },
            "type": "scattergl"
           }
          ],
          "scatter3d": [
           {
            "type": "scatter3d",
            "line": {
             "colorbar": {
              "outlinewidth": 0,
              "ticks": ""
             }
            },
            "marker": {
             "colorbar": {
              "outlinewidth": 0,
              "ticks": ""
             }
            }
           }
          ],
          "scattermapbox": [
           {
            "type": "scattermapbox",
            "marker": {
             "colorbar": {
              "outlinewidth": 0,
              "ticks": ""
             }
            }
           }
          ],
          "scatterternary": [
           {
            "type": "scatterternary",
            "marker": {
             "colorbar": {
              "outlinewidth": 0,
              "ticks": ""
             }
            }
           }
          ],
          "scattercarpet": [
           {
            "type": "scattercarpet",
            "marker": {
             "colorbar": {
              "outlinewidth": 0,
              "ticks": ""
             }
            }
           }
          ],
          "carpet": [
           {
            "aaxis": {
             "endlinecolor": "#A2B1C6",
             "gridcolor": "#506784",
             "linecolor": "#506784",
             "minorgridcolor": "#506784",
             "startlinecolor": "#A2B1C6"
            },
            "baxis": {
             "endlinecolor": "#A2B1C6",
             "gridcolor": "#506784",
             "linecolor": "#506784",
             "minorgridcolor": "#506784",
             "startlinecolor": "#A2B1C6"
            },
            "type": "carpet"
           }
          ],
          "table": [
           {
            "cells": {
             "fill": {
              "color": "#506784"
             },
             "line": {
              "color": "rgb(17,17,17)"
             }
            },
            "header": {
             "fill": {
              "color": "#2a3f5f"
             },
             "line": {
              "color": "rgb(17,17,17)"
             }
            },
            "type": "table"
           }
          ],
          "barpolar": [
           {
            "marker": {
             "line": {
              "color": "rgb(17,17,17)",
              "width": 0.5
             },
             "pattern": {
              "fillmode": "overlay",
              "size": 10,
              "solidity": 0.2
             }
            },
            "type": "barpolar"
           }
          ],
          "pie": [
           {
            "automargin": true,
            "type": "pie"
           }
          ]
         },
         "layout": {
          "autotypenumbers": "strict",
          "colorway": [
           "#636efa",
           "#EF553B",
           "#00cc96",
           "#ab63fa",
           "#FFA15A",
           "#19d3f3",
           "#FF6692",
           "#B6E880",
           "#FF97FF",
           "#FECB52"
          ],
          "font": {
           "color": "#f2f5fa"
          },
          "hovermode": "closest",
          "hoverlabel": {
           "align": "left"
          },
          "paper_bgcolor": "rgb(17,17,17)",
          "plot_bgcolor": "rgb(17,17,17)",
          "polar": {
           "bgcolor": "rgb(17,17,17)",
           "angularaxis": {
            "gridcolor": "#506784",
            "linecolor": "#506784",
            "ticks": ""
           },
           "radialaxis": {
            "gridcolor": "#506784",
            "linecolor": "#506784",
            "ticks": ""
           }
          },
          "ternary": {
           "bgcolor": "rgb(17,17,17)",
           "aaxis": {
            "gridcolor": "#506784",
            "linecolor": "#506784",
            "ticks": ""
           },
           "baxis": {
            "gridcolor": "#506784",
            "linecolor": "#506784",
            "ticks": ""
           },
           "caxis": {
            "gridcolor": "#506784",
            "linecolor": "#506784",
            "ticks": ""
           }
          },
          "coloraxis": {
           "colorbar": {
            "outlinewidth": 0,
            "ticks": ""
           }
          },
          "colorscale": {
           "sequential": [
            [
             0.0,
             "#0d0887"
            ],
            [
             0.1111111111111111,
             "#46039f"
            ],
            [
             0.2222222222222222,
             "#7201a8"
            ],
            [
             0.3333333333333333,
             "#9c179e"
            ],
            [
             0.4444444444444444,
             "#bd3786"
            ],
            [
             0.5555555555555556,
             "#d8576b"
            ],
            [
             0.6666666666666666,
             "#ed7953"
            ],
            [
             0.7777777777777778,
             "#fb9f3a"
            ],
            [
             0.8888888888888888,
             "#fdca26"
            ],
            [
             1.0,
             "#f0f921"
            ]
           ],
           "sequentialminus": [
            [
             0.0,
             "#0d0887"
            ],
            [
             0.1111111111111111,
             "#46039f"
            ],
            [
             0.2222222222222222,
             "#7201a8"
            ],
            [
             0.3333333333333333,
             "#9c179e"
            ],
            [
             0.4444444444444444,
             "#bd3786"
            ],
            [
             0.5555555555555556,
             "#d8576b"
            ],
            [
             0.6666666666666666,
             "#ed7953"
            ],
            [
             0.7777777777777778,
             "#fb9f3a"
            ],
            [
             0.8888888888888888,
             "#fdca26"
            ],
            [
             1.0,
             "#f0f921"
            ]
           ],
           "diverging": [
            [
             0,
             "#8e0152"
            ],
            [
             0.1,
             "#c51b7d"
            ],
            [
             0.2,
             "#de77ae"
            ],
            [
             0.3,
             "#f1b6da"
            ],
            [
             0.4,
             "#fde0ef"
            ],
            [
             0.5,
             "#f7f7f7"
            ],
            [
             0.6,
             "#e6f5d0"
            ],
            [
             0.7,
             "#b8e186"
            ],
            [
             0.8,
             "#7fbc41"
            ],
            [
             0.9,
             "#4d9221"
            ],
            [
             1,
             "#276419"
            ]
           ]
          },
          "xaxis": {
           "gridcolor": "#283442",
           "linecolor": "#506784",
           "ticks": "",
           "title": {
            "standoff": 15
           },
           "zerolinecolor": "#283442",
           "automargin": true,
           "zerolinewidth": 2
          },
          "yaxis": {
           "gridcolor": "#283442",
           "linecolor": "#506784",
           "ticks": "",
           "title": {
            "standoff": 15
           },
           "zerolinecolor": "#283442",
           "automargin": true,
           "zerolinewidth": 2
          },
          "scene": {
           "xaxis": {
            "backgroundcolor": "rgb(17,17,17)",
            "gridcolor": "#506784",
            "linecolor": "#506784",
            "showbackground": true,
            "ticks": "",
            "zerolinecolor": "#C8D4E3",
            "gridwidth": 2
           },
           "yaxis": {
            "backgroundcolor": "rgb(17,17,17)",
            "gridcolor": "#506784",
            "linecolor": "#506784",
            "showbackground": true,
            "ticks": "",
            "zerolinecolor": "#C8D4E3",
            "gridwidth": 2
           },
           "zaxis": {
            "backgroundcolor": "rgb(17,17,17)",
            "gridcolor": "#506784",
            "linecolor": "#506784",
            "showbackground": true,
            "ticks": "",
            "zerolinecolor": "#C8D4E3",
            "gridwidth": 2
           }
          },
          "shapedefaults": {
           "line": {
            "color": "#f2f5fa"
           }
          },
          "annotationdefaults": {
           "arrowcolor": "#f2f5fa",
           "arrowhead": 0,
           "arrowwidth": 1
          },
          "geo": {
           "bgcolor": "rgb(17,17,17)",
           "landcolor": "rgb(17,17,17)",
           "subunitcolor": "#506784",
           "showland": true,
           "showlakes": true,
           "lakecolor": "rgb(17,17,17)"
          },
          "title": {
           "x": 0.05
          },
          "updatemenudefaults": {
           "bgcolor": "#506784",
           "borderwidth": 0
          },
          "sliderdefaults": {
           "bgcolor": "#C8D4E3",
           "borderwidth": 1,
           "bordercolor": "rgb(17,17,17)",
           "tickwidth": 0
          },
          "mapbox": {
           "style": "dark"
          }
         }
        },
        "xaxis": {
         "anchor": "y",
         "domain": [
          0.0,
          1.0
         ],
         "title": {
          "text": "jobs"
         }
        },
        "yaxis": {
         "anchor": "x",
         "domain": [
          0.0,
          1.0
         ],
         "title": {
          "text": "companies"
         }
        },
        "legend": {
         "tracegroupgap": 0
        },
        "title": {
         "text": "Companies with the most jobs opening"
        },
        "barmode": "relative"
       },
       "config": {
        "plotlyServerURL": "https://plot.ly"
       }
      },
      "text/html": "<div>                            <div id=\"1cd519d0-898e-43bb-b3bf-149cd76386f3\" class=\"plotly-graph-div\" style=\"height:525px; width:100%;\"></div>            <script type=\"text/javascript\">                require([\"plotly\"], function(Plotly) {                    window.PLOTLYENV=window.PLOTLYENV || {};                                    if (document.getElementById(\"1cd519d0-898e-43bb-b3bf-149cd76386f3\")) {                    Plotly.newPlot(                        \"1cd519d0-898e-43bb-b3bf-149cd76386f3\",                        [{\"alignmentgroup\":\"True\",\"hovertemplate\":\"jobs=%{x}<br>companies=%{y}<extra></extra>\",\"legendgroup\":\"\",\"marker\":{\"color\":\"rgb(141,211,199)\",\"pattern\":{\"shape\":\"\"}},\"name\":\"\",\"offsetgroup\":\"\",\"orientation\":\"h\",\"showlegend\":false,\"textposition\":\"outside\",\"texttemplate\":\"%{x:.2s}\",\"x\":[85,70,66,40,38,32,28,24,22,21,20,20,20,18,18,18,16,16,16,16,16,14,14,14,14,14,14,13,13,13,12,12,12,12,12,12,12,12,12,10,10,10,10,10,10,10,10,10,10,10,10,10,10,10,10,9,8,8,8,8,8,8,8,8,8,8,8,8,8,8,8,8,8,8,8,8,8,8,8,8,8,8,8,8,8,8,8,8,8,8,8,8,8,8,7,7,7,7,6,6,6,6,6,6,6,6,6,6,6,6,6,6,6,6,6,6,6,6,6,6,6,6,6,6,6,6,6,6,6,6,6,6,6,6,6,6,6,6,6,6,6,6,6,6,6,6,6,4,4,4,4,4,4,4,4,4,4,4,4,4,4,4,4,4,4,4,4,4,4,4,4,4,4,4,4,4,4,4,4,4,4,4,4,4,4,4,4,4,4,4,4,4,4,4,4,4,4,4,4,4,4,4,4,4,4,4,4,4,4,4,4,4,4,4,4,4,4,4,4,4,4,4,4,4,4,4,4,4,4,4,4,4,4,4,4,4,4,4,4,4,4,4,4,4,4,4,4,4,4,4,4,4,4,4,4,4,4,4,4,4,4,4,4,4,4,4,4,4,4,4,4,4,4,4,4,4,4,4,4,4,4,4,4,4,4,4,4,4,4,4,4,4,4,4,4,4,3,3,2,2,2,2,2,2,2,2,2,2,2,2,2,2,2,2,2,2,2,2,2,2,2,2,2,2,2,2,2,2,2,2,2,2,2,2,2,2,2,2,2,2,2,2,2,2,2,2,2,2,2,2,2,2,2,2,2,2,2,2,2,2,2,2,2,2,2,2,2,2,2,2,2,2,2,2,2,2,2,2,2,2,2,2,2,2,2,2,2,2,2,2,2,2,2,2,2,2,2,2,2,2,2,2,2,2,2,2,2,2,2,2,2,2,2,2,2,2,2,2,2,2,2,2,2,2,2,2,2,2,2,2,2,2,2,2,2,2,2,2,2,2,2,2,2,2,2,2,2,2,2,2,2,2,2,2,2,2,2,2,2,2,2,2,2,2,2,2,2,2,2,2,2,2,2,2,2,2,2,2,2,2,2,2,2,2,2,2,2,2,2,2,2,2,2,2,2,2,2,2,2,2,2,2,2,2,2,2,2,2,2,2,2,2,2,2,2,2,2,2,2,2,2,2,2,2,2,2,2,2,2,2,2,2,2,2,2,2,2,2,2,2,2,2,2,2,2,2,2,2,2,2,2,2,2,2,2,2,2,2,2,2,2,2,2,2,2,2,2,2,2,2,2,2,2,2,2,2,2,2,2,2,2,2,2,2,2,2,2,2,2,2,2,2,2,2,2,2,2,2,2,2,2,2,2,2,2,2,2,2,2,2,2,2,2,2,2,2,2,2,2,2,2,2,2,2,2,2,2,2,2,2,2,2,2,2,2,2,2,2,2,2,2,2,2,2,2,2,2,2,2,2,2,2,2,2,2,2,2,2,2,2,2,2,2,2,2,2,2,2,2,2,2,2,2,2,2,2,2,2,2,2,2,2,2,2,2,2,2,2,2,2,2,2,2,2,2,2,2,2,2,2,2,2,2,2,2,2,2,2,2,2,2,2,2,2,2,2,2,2,2,2,2,2,2,2,2,2,2,2,2,2,2,2,2,2,2,2,2,2,2,2,2,2,2,2,2,2,2,2,2,2,2,2,2,2,2,2,2,2,2,2,2,2,2,2,2,2,2,2,2,2,2,2,2,2,2,2,2,2,2,2,2,2,2,2,2,2,2,2,2,2,2,2,2,2,2,2,2,2,2,2,2,2,2,2,2,2,2,2,2,2,2,2,2,2,2,2,2,2,2,2,2,2,2,2,2,2,2,2,2,2,2,2,2,2,2,2,2,2,2,2,2,2,2,2,2,2,2,2,2,2,2,2,2,2,2,2,2,2,2,2,2,2,2,2,2,2,2,2,2,2,2,2,2,2,2,2,2,2,2,2,2,2,2,2,2,2,2,2,2,2,2,2,2,2,2,2,2,2,2,2,2,2,2,2,2,2,2,2,2,2,2,2,2,2,2,2,2,2,2,2,2,2,2,2,2,2,2,2,2,2,2,2,2,2,2,2,2,2,2,2,2,2,2,2,2,2,2,2,2,2,2,2,2,2,2,2,2,2,2,2,2,2,2,2,2,2,2,2,2,2,2,2,2,2,2,2,2,2,2,2,2,2,2,2,2,2,2,2,2,2,2,2,2,2,2,2,2,2,2,2,2,2,2,2,2,2,2,2,2,2,2,2,2,2,2,2,2,1,1,1,1],\"xaxis\":\"x\",\"y\":[\"AirAsia\",\"CIMB Niaga\",\"TRUST RECRUIT PTE. LTD.\",\"Western Digital\",\"Ambition Group Malaysia Sdn Bhd\",\"Company Confidential\",\"Michael Page International (Malaysia) Sdn Bhd\",\"RK Recruitment Pte. Ltd.\",\"Vision Technology Consulting\",\"RHB Bank\",\"SEEK Asia (JobStreet)\",\"Experian\",\"Flex\",\"Deloitte\",\"Avensys Consulting\",\"Infineon Technologies (Kulim) Sdn Bhd\",\"KLK OLEO\",\"Accenture\",\"Agensi Pekerjaan Hays (Malaysia) Sdn Bhd\",\"Agensi Pekerjaan Reeracoen Malaysia Sdn Bhd\",\"TribeHired\",\"JUNZO SDN. BHD\",\"Alliance Bank Malaysia Berhad\",\"ScienTec Personnel\",\"Keysight Technologies Malaysia Sdn. Bhd.\",\"Tata Consultancy Services Malaysia Sdn Bhd\",\"RHB Banking Group\",\"Infineon Technologies\",\"Synergy Log-In Systems\",\"Tentacle Technologies MSC Sdn Bhd\",\"INFINETWORX SDN BHD\",\"EPAM SYSTEMS PTE LTD\",\"N2N Connect\",\"ADVANCED ENERGY INDUSTRIES (MALAYSIA) SDN. BHD.\",\"Sanofi Aventis\",\"AstraZeneca\",\"Ebdesk Malaysia\",\"Abbott Penang (Formerly Known as St. Jude Medical)\",\"AlsonMedia Sdn Bhd\",\"Huawei Technologies (Malaysia) Sdn. Bhd\",\"Experian (Malaysia) Sdn Bhd\",\"GfK\",\"Dell Global Business Center Sdn Bhd\",\"Infineon Technologies (Malaysia) Sdn Bhd\",\"LANGUAGE TALENT SOLUTIONS SDN. BHD.\",\"SANCY BERHAD\",\"EPS Malaysia\",\"PPG Industries\",\"Ipsos Sdn Bhd\",\"Deloitte Consulting SEA\",\"E2open Development Corporation\",\"Keysight Technologies\",\"Agilent Technologies LDA Malaysia Sdn. Bhd.\",\"Heriot-Watt University\",\"IQVIA\",\"Standard Chartered\",\"OSRAM Opto Semiconductors (Malaysia) Sdn Bhd\",\"Confidential\",\"XMU JIAGENG EDUCATION DEVELOPMENT\",\"X-FAB Sarawak Sdn Bhd\",\"Arvato Systems Malaysia Sdn Bhd\",\"FootfallCam\",\"British American Tobacco\",\"PRUDENTIAL SERVICES ASIA\",\"BD Malaysia\",\"The Nielsen Company (Malaysia) Sdn Bhd\",\"Procter & Gamble\",\"Hong Leong Assurance Berhad\",\"Malayan Banking Berhad (Maybank)\",\"ATOZ SOFTWARE TECH SDN. BHD.\",\"Agensi Pekerjaan Randstad Sdn Bhd - Professional\",\"Daikin Malaysia Sdn Bhd\",\"myQuickHR Sdn Bhd\",\"UST Global\",\"Rentokil Initial\",\"DEXCOM (MALAYSIA) SDN. BHD.\",\"STMicroelectronics Sdn Bhd\",\"Philip Morris International\",\"Worldfish\",\"Bank Negara Malaysia\",\"GfK Retail and Technology Malaysia Sdn.Bhd\",\"Oxydata Software\",\"Jabil Sdn Bhd (Global Business Center)\",\"ASB Management Sdn Bhd\",\"Lenovo PCCW Solutions\",\"STOREHUB\",\"SIRIM QAS International Sdn Bhd\",\"NOV MALAYSIA\",\"CIMB Group\",\"IMR (MALAYSIA) SDN. BHD.\",\"HSBC\",\"Accord Innovations\",\"DKSH Malaysia Sdn Bhd\",\"Allianz Malaysia Berhad\",\"Lazada\",\"Shell\",\"DS SSC MALAYSIA (FOODPANDA MALAYSIA)\",\"Telekom Malaysia\",\"BE INTERNATIONAL MARKETING SDN. BHD.\",\"Virtual Calibre MSC Sdn. Bhd.\",\"ESYNC SOFTWARE SERVICES\",\"Tech Mahindra Ltd\",\"Kossan Rubber Industries Berhad\",\"MarshMcLennan\",\"Perbadanan Usahawan Nasional Bhd (PUNB)\",\"Kawan Food Manufacturing\",\"Hills Pet Nutrition\",\"Hong Leong Asset Management\",\"Heriot-Watt University Malaysia Sdn Bhd\",\"Celestica\",\"Siemens\",\"TF AMD MICROELECTRONICS (PENANG) SDN. BHD.\",\"ITL Malaysia\",\"NEXTLABS\",\"Public Bank Berhad\",\"IBIDEN Electronics Malaysia Sdn Bhd\",\"Coda Payments\",\"Avanade\",\"RM APPLICATIONS\",\"Arvato Systems Malaysia\",\"JUST BI\",\"Novartis Corporation (M) Sdn Bhd\",\"Statworks Technology\",\"TDCX\",\"Octafa Consulting Sdn Bhd\",\"London Stock Exchange Group\",\"AEON Credit Service (M) Bhd\",\"Beyondsoft\",\"Lotuss Stores (Malaysia) Sdn Bhd\",\"Joshua Research Consultants\",\"Optimum Solutions (S) Pte Ltd\",\"Baker Hughes\",\"Hong Leong Bank\",\"Sun Life Malaysia Assurance Berhad\",\"Jabil\",\"Encora Technologies Sdn Bhd\",\"AMD\",\"Capital Dynamics\",\"PERSOLKELLY Singapore Pte Ltd (Formerly Kelly Services Singapore Pte Ltd)\",\"Avantice Corporation\",\"AXA Affin General Insurance Berhad\",\"Virtuos Malaysia Sdn. Bhd.\",\"Capital Dynamics Sdn Bhd\",\"CAPITALMASTER HAPPYSTOCK\",\"MobilityOne\",\"Agensi Pekerjaan Futurestep Worldwide (M) Sdn Bhd\",\"LAVU TECH SOLUTIONS\",\"IMU Education Sdn Bhd\",\"Chubb Insurance\",\"NETIZEN TESTING SDN. BHD.\",\"Rapid Manufacturing Connectivity Sdn Bhd\",\"Halliburton\",\"SNSOFT\",\"Plexus Manufacturing Sdn Bhd\",\"COGDEV MALAYSIA\",\"Carsome\",\"YNY Technology Sdn. Bhd.\",\"FFM\",\"Agensi Pekerjaan Pasona Sdn Bhd\",\"AirAsia Berhad\",\"Titanfour Business Solutions\",\"Independent Data Services (Asia) Sdn Bhd\",\"ValueLabs\",\"Robert Bosch (M) Sdn Bhd\",\"Mindteck\",\"SWIFT SUPPORT SERVICES MALAYSIA\",\"RCE Capital Berhad\",\"UCSI Education\",\"LAURELSOFT\",\"Neurogine Sdn Bhd\",\"VSTECS BERHAD\",\"TRANGLO\",\"CBS Corporate Business Solutions Malaysia Sdn Bhd\",\"Tiong Nam Logistics Solutions Sdn Bhd\",\"Capital Dynamics Asset Management\",\"Pactera Edge Technologies Malaysia Sdn Bhd\",\"AMK TECHNOLOGY\",\"ASE\",\"PP Telecommunication Sdn Bhd\",\"Duopharma Biotech Bhd Group of Companies.\",\"KOLEJ UNIVERSITI SELATAN\",\"Taylor's University\",\"OUJI SEKKEN MANUFACTURING (M) SDN. BHD.\",\"Zimmer Biomet\",\"Biocon\",\"Xchanging\",\"MARVELCONNECT TECHNOLOGY LIMITED\",\"Nutrigene Modern Sciences Sdn Bhd\",\"B. Braun Medical\",\"APEX BIOCARE\",\"Optimum Infosolutions\",\"Arup Jururunding Sdn Bhd\",\"Credit Guarantee Corporation Malaysia Berhad\",\"HOYA ELECTRONICS SINGAPORE PTE. LTD.\",\"Silverlake Structured Services\",\"ONEPIP (MALAYSIA) SDN.BHD.\",\"JB Cocoa Sdn Bhd\",\"VISCO TECHNOLOGY Sdn Bhd\",\"Luxoft\",\"Kamlax Global Technologies Sdn Bhd\",\"Star Media Group\",\"AGENSI PEKERJAAN DREAM CAREER SDN BHD\",\"Alexander Mann Solutions\",\"Aptude Technology Services\",\"Mettler Toledo MY\",\"TT Vision Technologies\",\"AGENSI PEKERJAAN CKM SDN BHD\",\"Maxvec\",\"ULTRA CLEAN TECHNOLOGY (MALAYSIA) SDN. BHD.\",\"KRAFT SOFTWARE SOLUTIONS\",\"Tialoc Malaysia\",\"Palette Multimedia Berhad\",\"Phitomas Sdn Bhd\",\"Ansell Global Trading Center Malaysia Sdn Bhd\",\"Google\",\"Genting Malaysia Berhad\",\"IRIS Corporation Berhad\",\"Innovatz Solutions Sdn Bhd\",\"BIOQUEST ADVISORY\",\"Marsh McLennan\",\"Novugen\",\"American Express International Inc.\",\"ERA INGREDIENTS & CHEMICALS SDN. BHD.\",\"Nokia\",\"Pracbiz\",\"PT mClinica Health Solutions (SwipeRx)\",\"Rocketbots Malaysia Sdn. Bhd.\",\"Sharp Electronics (M) Sdn Bhd\",\"Tech-Store Malaysia Sdn Bhd\",\"SNSOFT SDN. BHD.\",\"PENTAMASTER TECHNOLOGY\",\"Agensi Pekerjaan Futurestep Worldwide (M) Sdn Bhd (BD)\",\"Motorola Solutions\",\"Agensi Pekerjaan Hyppies Sdn. Bhd.\",\"Public Mutual Berhad\",\"AGENSI PEKERJAAN JS STAFFING SERVICES SDN BHD\",\"MRANTI Corporation Sdn. Bhd.\",\"kamlax global technologies\",\"Ace Resource Advisory Services\",\"Agensi Pekerjaan PERSOLKELLY Malaysia Sdn Bhd\",\"IHS Global (Malaysia) Sdn Bhd\",\"KPMG Consulting (Malaysia) Sdn. Bhd.\",\"MCIS Insurance Berhad\",\"Pfizer\",\"B-Global\",\"Scicom (MSC) Berhad\",\"Ria Financial\",\"Pearson Frank International (A divison of Frank Recruitment Group)\",\"V.S. Industry Berhad\",\"Avery Dennison\",\"Score Asia Sdn Bhd\",\"Venture Corporation Limited\",\"iZyoo Platform\",\"Motorola Solutions Malaysia Sdn Bhd\",\"InfoConnect Sdn Bhd\",\"RSH (Malaysia) Sdn Bhd\",\"EM2Ai Sdn Bhd\",\"LF Logistics Services (M) Sdn Bhd\",\"Atos Services (M) Sdn Bhd\",\"PERSOLKELLY Workforce Solutions Malaysia Sdn Bhd\",\"QuessGlobal (Malaysia) Sdn Bhd\",\"Agensi Pekerjaan & Perundingcara Bright Prospect Sdn Bhd\",\"Malaysian Employers Federation\",\"7-Eleven Malaysia Sdn Bhd\",\"99 Speed Mart Sdn Bhd\",\"Pet Lovers Centre Pte Ltd\",\"Gleneagles Kuala Lumpur (A branch of Pantai Medical Centre Sdn Bhd)\",\"foodpanda Malaysia Sdn Bhd\",\"Paymentology (Pty) Ltd\",\"Hong Leong Bank Berhad\",\"Selangor Human Resource Development Centre (SHRDC)\",\"Hartalega NGC Sdn Bhd\",\"Hilti\",\"Lion & Lion\",\"Ideal Quality Sdn Bhd\",\"Corporate Information Travel\",\"Inmagine Innovation\",\"XOX Management Services Sdn Bhd\",\"GlaxoSmithKline\",\"RW SHIP MANAGEMENT SDN BHD\",\"Accenture TCM\",\"Elna PCB (M) Sdn Bhd\",\"CTOS Data Systems\",\"CM Group\",\"Toll Group\",\"BigPay MY\",\"B. Braun Medical Industries Sdn. Bhd.\",\"Abbott\",\"Etiqa Insurance & Takaful\",\"Stashaway\",\"Bank Pembangunan Malaysia Berhad\",\"Domino\\u2019s Pizza Malaysia\",\"Bridgenet Solutions Sdn Bhd\",\"Huntsman Global Business Services Sdn Bhd\",\"Sunway Berhad\",\"Agensi Pekerjaan NCS Solutions Sdn. Bhd.\",\"MDEC\",\"Idealseed Resources\",\"Unilever\",\"OR Technologies\",\"Southern University College\",\"Vit Makanan (KL) Sdn Bhd\",\"The University of Nottingham in Malaysia Sdn Bhd\",\"Capgemini\",\"GKASH SDN. BHD.\",\"RIA\",\"Agensi Pekerjaan Truvine Career Sdn Bhd\",\"Infodrive Solutions\",\"SOLS ENERGY SDN. BHD.\",\"CRESCENDO INTERNATIONAL COLLEGE SDN BHD\",\"CLUSTERCODE TECHNOLOGY SDN. BHD.\",\"VENTIONEX INNOVATIONS SDN. BHD.\",\"Prestige Atlantic Asia\",\"iZeno Sdn Bhd\",\"SRG Asia Pacific\",\"ZALORA\",\"NICHOLAS ACTUARIAL SOLUTIONS SDN. BHD.\",\"Armstrong Auto Parts Sdn Bhd\",\"CIGNEX IT Services Sdn Bhd\",\"CapitaLand Retail (Malaysia) Sdn Bhd\",\"SECOM SMART (MALAYSIA) SDN. BHD.\",\"Blue Archipelago Berhad\",\"Cycle & Carriage\",\"Pembinaan Mitrajaya Sdn Bhd\",\"TIME dotCom Berhad\",\"Globetronics Sdn. Bhd.\",\"Wizlynx Malaysia Sdn Bhd\",\"The Future Commerce Sdn. Bhd.\",\"IPG Mediabrands Sdn Bhd\",\"KK STRAITS INTERNATIONAL EDUCATION SDN. BHD.\",\"System Management Services Sdn. Bhd.\",\"GASW Services\",\"WEZMART INTERNATIONAL BERHAD\",\"Invenio PTL Property & Facilities Management\",\"T HASEGAWA FLAVOURS (KUALA LUMPUR) SDN. BHD.\",\"RK infocom SdnBHd\",\"PK AGRO-INDUSTRIAL PRODUCTS\",\"Thunder Software Technology Malaysia\",\"CIMB Bank\",\"MBP SOLUTIONS\",\"Malaysian Life Reinsurance Group\",\"TTMS Software\",\"KG Information Systems\",\"FACEXPRO SDN BHD\",\"Tokio Marine MY\",\"Oliver James Consulting Sdn. Bhd.\",\"QUANDATICS\",\"Intrepid Group\",\"HASTRAA CONSULTING SERVICES SDN. BHD.\",\"ServiceSource\",\"Kedai Emas Tian Si Sdn Bhd\",\"Nexperia\",\"Sanmina\",\"Sykt. Low Kim Chuan & Anak-anak\",\"Holiday Tours & Travel\",\"UTAR EDUCATION FOUNDATION\",\"BHP\",\"ARK DE GLORY\",\"ADA\",\"Puncak Tegap Sdn Bhd\",\"Hilti Asia IT Services\",\"NAIM HOLDINGS BERHAD\",\"Glueck Technologies\",\"ZENY IT\",\"TECH SOLUTIONS & DEVELOPMENT SDN. BHD.\",\"Global Lancesoft Sdn Bhd\",\"Notion Consortium\",\"QOALA TECHNOLOGY SDN. BHD.\",\"OVOL MALAYSIA\",\"Pan-Asia Property Management Sdn Bhd\",\"RIDER HUNT INTERNATIONAL (MALAYSIA) SDN. BHD.\",\"Asian Technology Solutions\",\"TROPICAL PRODUCE SDN. BHD.\",\"Mercedes-Benz Malaysia Sdn Bhd\",\"BASF Asia Pacific Service Centre Sdn Bhd\",\"Calctronic Technology Sdn Bhd\",\"Jabil Circuit\",\"MacFood Services (M) Sdn Bhd\",\"MY AONE LEARNING SDN. BHD.\",\"Innates PLT\",\"SmartRetail Sdn Bhd\",\"PPS\",\"ORSTED SERVICES MALAYSIA\",\"ACCIONLABS\",\"Hitachi Vantara Sdn Bhd\",\"WAHAM\",\"NEC\",\"KEY ASIC\",\"CBRE\",\"Mindvalley\",\"NTT DATA SERVICES MALAYSIA\",\"AURORA CLOUD WORKS SDN. BHD.\",\"Opus Asset Management\",\"Saniton Ceramic\",\"APPFUXION\",\"AIG\",\"Sindutch Cable Manufacturer\",\"MICRO MODULAR SYSTEM\",\"Bubble Gum X Sdn Bhd\",\"EXCEL FORCE\",\"Primary Priority Technology\",\"Redstack (M) Sdn Bhd\",\"TurnKey Lender\",\"DRN Manufacturing\",\"99x\",\"Micron Semiconductors\",\"DIA-CHEMICAL\",\"CMG Online\",\"THIRTY THREE DIGITEC SOLUTIONS SDN. BHD.\",\"Synthomer\",\"retailcloud\",\"Petrotechnical Inspection\",\"SELFDRVN ENTERPRISE\",\"Fortinet\",\"Fujitsu Systems Global Solutions Management\",\"UOA Development\",\"Taleem\",\"NCS GLOBAL TECHNOLOGY\",\"iPrice Group\",\"Hok Huat Group\",\"Metropolitan Corridor Services\",\"UNIVERSITI TELEKOM SDN. BHD.\",\"Jacobs\",\"Eng Peng Cold Storage\",\"SPUTNIK CONSULTING SDN. BHD.\",\"FINEXUS\",\"ExxonMobil Malaysia\",\"VIT MAKANAN KL\",\"DEVELOPMENT BANK OF SARAWAK\",\"IBM Malaysia Sdn Bhd\",\"Apar Technologies\",\"IBIDEN Electronics Malaysia\",\"MSP HITECT\",\"IMU EDUCATIONS\",\"IP Core\",\"Orange\",\"INVITES SDN BHD\",\"Breitkom Network\",\"Goodyear\",\"TTOT SDN. BHD.\",\"2C2P\",\"Prodigee Media\",\"ZIGMAR SDN BHD\",\"Amway\",\"Mox-Linde Gases\",\"Obsnap Instruments\",\"MQS Consult\",\"BAWIQ\",\"MALAYSIAN URGENT CARE CLINIC SDN. BHD.\",\"Nityo Infotech Services\",\"Marriott International\",\"IHS Global\",\"Sabio Group\",\"Elite Ventures\",\"SMART PROCESS SOLUTION SDN. BHD.\",\"Malayan Flour Mills\",\"IFRC - International Federation of Red Cross and Red Crescent Societies\",\"HELP University\",\"KLA\",\"Confluence Contour\",\"OSRAM Opto Semiconductors\",\"Composite Technology Research Malaysia Sdn Bhd\",\"BRITISH AMERICAN TOBACCO GSD (KUALA LUMPUR)\",\"Clarivate\",\"tes\",\"IDS BEYOND MEDIA SDN. BHD.\",\"Atos\",\"Microsemi International\",\"LARIAN GCL SDN. BHD.\",\"Syspro Web Development\",\"Growthdesk\",\"ADVGE Holdings\",\"Deriv\",\"Larian Studios\",\"Fresh Futures\",\"NMG FINANCIAL SERVICES CONSULTING S/\",\"Baxter Global\",\"Persistent Systems Malaysia Sdn Bhd\",\"DHL\",\"Hexagon PPM\",\"Sarawak Information Systems (SAINS)\",\"ADEV VENTURES SDN. BHD.\",\"DHL Information Services (Asia-Pacific)\",\"ICAS LEADS - OTHER COUNTRIES\",\"Wear Safe (Malaysia) Sdn Bhd\",\"JLL\",\"American Express\",\"Hewlett Packard Enterprise\",\"Bosch\",\"MAKER ACADEMY PLT\",\"E2open\",\"FINSURGE\",\"CM Management & Consultancy\",\"NORTHERN MEDICAL LABORATORY\",\"Ncoam Technologies Sdn Bhd\",\"Luxoft Malaysia\",\"dJAVA Factory\",\"PRO OFFICE SOLUTIONS\",\"Perodua\",\"ANSONEX RESOURCES\",\"KIOSKMEDIA\",\"Bintara Solutions\",\"TJ-TYT PHARMACEUTICALS (M) SDN.BHD.\",\"ALTUS OIL & GAS MALAYSIA\",\"Westports Malaysia\",\"Compex Technologies Sdn Bhd\",\"Gallup\",\"Ideal Vision Integration Sdn Bhd\",\"SYMBIOTICA SPECIALITY INGREDIENTS\",\"Mind Space\",\"Hospital Lam Wah Ee\",\"SOGO (KL) Department Store\",\"OSI Optoelectronics\",\"Kris Infotech\",\"Sarawak Medical Centre\",\"ESKAYVIE\",\"ZATEN INFOTECH SDN. BHD.\",\"KUCHING IT\",\"FOODS WISE NETWORK SDN. BHD.\",\"Tinkerve LLP\",\"GK AQUA SDN. BHD.\",\"Deus Solutions\",\"AMS ALUMINIUM & GLASS SDN. BHD.\",\"NIBAARA TECHNOLOGIES SDN. BHD.\",\"Parexel International\",\"EFTECH DRILLING SOLUTIONS SDN. BHD.\",\"TMF Group\",\"BP Healthcare Group\",\"Fugro\",\"NTT Data\",\"ICONIC CONTROL SDN. BHD.\",\"MSD\",\"MHP-Miracle Health Products\",\"FM Aerodynamic\",\"Averis Sdn Bhd\",\"SIX DEGREE CONSULTING\",\"Kamaya Electric\",\"HORIZONS 45 TECHNOLOGY SDN. BHD.\",\"Ipsos\",\"Petronas\",\"WILD ASIA\",\"Synztec Malaysia\",\"Coffeeprint Network PLT\",\"Software International\",\"BIGLEDGER\",\"KK Supermart & Superstore\",\"CRAZZ GROUP PLT\",\"SMaju Agro Venture\",\"Worley\",\"FNXPERTS SDN. BHD.\",\"N-WAVE TECHNOLOGIES (MALAYSIA) SDN. BHD.\",\"Chemsain Konsultant\",\"Victor Equipments Resources\",\"SEMANGAT JAYA SETIA SDN BHD\",\"Know Idea\",\"Celestica International\",\"EVERBEX TECHNOLOGIES\",\"Ouji Sekken Manufacturing (M) Sdn Bhd\",\"VIRTUAL NETWORK SOLUTIONS\",\"BIOCOSLAB MANUFACTURING\",\"SANY INTERNATIONAL DEVELOPING (M) SDN BHD\",\"Kamlax Global Technologies\",\"BRITISH HOME\",\"Biosyntech Malaysia Group\",\"HALLIBURTON ENERGY SERVICES (MALAYSIA) SDN. BHD\",\"International Office Of Technical Assistance (M) Sdn Bhd\",\"IKHASAS SDN. BHD.\",\"Allianz\",\"Celestica Malaysia\",\"Diebold Nixdorf\",\"Eppendorf Asia Pacific Sdn Bhd\",\"Kinesso Malaysia ( fka Mediabrands Global Technology Solutions )\",\"Fusionex Corp Sdn Bhd\",\"MINDTECK SOFTWARE MALAYSIA\",\"Ideal Quality\",\"Leung Kai Fook Medical\",\"LLK TECH SOLUTIONS SDN. BHD.\",\"ELIXIR ANALYTIX (M) SDN. BHD.\",\"RENERGIST\",\"JOGOHEALTH STROKE CENTER\",\"Grant Thornton\",\"TOKIMEKU PRECISION ENGINEERING\",\"Celcom\",\"Arkod Smart Logitech Sdn Bhd\",\"POLE TO WIN (MALAYSIA) SDN. BHD.\",\"Vinsoon Shoe Trading Sdn Bhd\",\"Wastech Multigreen Sdn Bhd\",\"ICON VENTURE CAPITAL SDN. BHD.\",\"INTEGRATED GGRE ASIA SDN. BHD.\",\"MDM TRAINING SERVICES SDN. BHD.\",\"Entegris (Malaysia) Sdn Bhd\",\"SEEK Select by JobStreet\",\"Tokio Marine Life Insurance Malaysia Bhd\",\"Twinco Far East Sdn Bhd\",\"Perodua Sales Sdn Bhd\",\"Dominant Opto Technologies Sdn Bhd\",\"Johawaki Group of Companies\",\"TJ-TYT Pharmaceuticals (M) Sdn Bhd\",\"Jaya Uni'ang (Sabah) Sdn Bhd\",\"Tong Heer Fasteners Co Sdn Bhd\",\"QI Services (M) Sdn Bhd\",\"Southern Edible Oil Industries (M) Sdn Bhd\",\"ACTIVWORLD GROUP SDN. BHD.\",\"Chin Hin Group Berhad\",\"CTH Commerce Sdn Bhd\",\"Lotte Chemical Titan (M) Sdn Bhd\",\"Nutrition Technologies Sdn Bhd\",\"Onetexx Sdn. Bhd.\",\"RE Global Consulting\",\"MYTUKAR SDN. BHD.\",\"QES GROUP OF COMPANIES\",\"Charoen Pokphand Group Malaysia\",\"NEXTPOINTING SOLUTIONS SDN. BHD.\",\"SHOWA DENKO CARBON Malaysia Sdn. Bhd.\",\"OOS VENTURE SDN BHD\",\"The Valspar (M) Corporation Sdn Bhd (The Sherwin-Williams Company)\",\"Pacific & Orient Berhad\",\"Qinetics Solutions Sdn Bhd\",\"Electrolux Home Appliances Sdn Bhd (CoE)\",\"KUFPEC (MALAYSIA) SDN. BHD.\",\"IKA Works (Asia) Sdn Bhd\",\"SWIFT SUPPORT SERVICES MALAYSIA SDN. BHD.\",\"Ain Medicare Sdn Bhd\",\"HT Tyrehub Sdn Bhd\",\"QETC Education & Training Consultancy\",\"II-VI MALAYSIA ADVANCED MFG CENTER SDN. BHD. (Formerly Known as FINISAR)\",\"ADAPTIVE BUSINESS SOLUTIONS SDN. BHD.\",\"Toyota Capital Malaysia Sdn. Bhd.\",\"TigerCampus Malaysia\",\"Reliable Business Technologies Sdn Bhd\",\"Crest Systems (M) Sdn Bhd\",\"Deleum Oilfield Services Sdn Bhd\",\"Khind Holdings Berhad\",\"PAKAR SCIENO TW SDN. BHD.\",\"MINDTECK SOFTWARE MALAYSIA SDN BHD\",\"Dream Technology System Sdn Bhd\",\"Wilhelmsen Ship Management Sdn Bhd\",\"See Hoy Chan Sdn. Berhad\",\"JOGOHEALTH STROKE CENTER SDN BHD\",\"INSAIX INNOVATION SDN. BHD.\",\"BUBBLE GUM X SDN BHD\",\"Abletech Solutions Sdn Bhd\",\"EVO TRACKER SDN BHD\",\"TGV CINEMAS SDN BHD\",\"FUSIONQB SDN. BHD.\",\"TAG Resources and Technologies (Malaysia) Sdn. Bhd.\",\"Xepa-Soul Pattinson (Malaysia) Sdn Bhd\",\"MEASAT Satellite Systems Sdn. Bhd.\",\"HESPER TECHNOLOGY SDN. BHD\",\"Xtremax Malaysia\",\"Panasonic Asia Pacific Pte Ltd\",\"OCUNAPSE SDN. BHD.\",\"V SWISS SDN BHD\",\"EP Plus Group\",\"IKHASAS SDN BHD\",\"Xtremax Pte Ltd\",\"Kenso Corporation (M) Sdn Bhd\",\"Bytecenture Consulting Pte Ltd\",\"Paramit Malaysia Sdn Bhd\",\"CSF ADVISERS SDN BHD\",\"Manfield Employment Services Pte Ltd\",\"Acora Solutions Sdn. Bhd.\",\"The Laryngeal Mask Company (M) Sdn. Bhd.\",\"Agency Pekerjaan Zenith Services\",\"Auto Count Sdn Bhd\",\"Keysight Technologies Singapore\",\"SCIENTEX PACKAGING ( TELUK EMAS ) SDN. BHD.\",\"FDT DATA PROCESSING SDN. BHD.\",\"GEA Westfalia Separator (Malaysia) Sdn Bhd\",\"DEVELOPMENT BANK OF SARAWAK BERHAD\",\"DNA Laboratories Sdn Bhd\",\"Kanika (Malaysia) Sdn. Bhd.\",\"Century Software (M) Sdn Bhd\",\"Amazin' Graze\",\"Metalux Oil Analysis Sdn Bhd\",\"Dan Kaffe (Malaysia) Sdn Bhd\",\"Myreka Technologies Sdn. Bhd.\",\"Hong Leong Investment Bank\",\"INVOLVE ASIA TECHNOLOGIES SDN BHD\",\"Jabil Circuit Sdn Bhd\",\"Serial Microelectronics Pte Ltd\",\"Bahru Stainless Sdn Bhd\",\"TICKET2U SDN. BHD.\",\"Columbia Asia Healthcare\",\"Zuellig Pharma Sdn Bhd\",\"Endeavor Standard\",\"Aspen Medical Products Malaysia Sdn Bhd\",\"Tokimeku Precision Engineering Sdn Bhd\",\"SUNFERT INTERNATIONAL FERTILITY CENTRE SDN BHD\",\"JST Connectors (M) Sdn. Bhd.\",\"Public Gold Marketing Sdn Bhd\",\"Aspiro Sdn Bhd\",\"Agensi Pekerjaan GMRecruitment Sdn Bhd\",\"QASHIER SDN. BHD.\",\"Asia Pacific Schools\",\"Fuji Electric (Malaysia) Sdn Bhd\",\"RecruitFirst Pte. Ltd\",\"RS Group\",\"AZONEX SDN. BHD.\",\"NKL360 MALAYSIA SDN. BHD.\",\"KLCC (Holdings) Sdn Bhd\",\"DVA (Malaysia) Sdn Bhd\",\"Samsung Malaysia Electronics (SME) Sdn Bhd\",\"TTM AGENCY SDN. BHD.\",\"U Mobile Sdn Bhd\",\"AXA AFFIN Life Insurance Berhad\",\"SINGAPORE AERO ENGINE SERVICES P.T.E L.T.D\",\"TITANICOM TECH LIMITED\",\"Zurich Insurance Malaysia Berhad\",\"timesconsult\",\"Hitachi eBworx Sdn. Bhd.\",\"SRG Asia Pacific Sdn. Bhd.\",\"QS Enrolment Solutions\",\"AppAsia Tech Sdn Bhd\",\"J&T DISTRIBUTION SOLUTION SDN. BHD.\",\"Chubb Insurance Malaysia Berhad\",\"VIOLET FLAME SOLUTION\",\"Suez Water Technologies & Solutions Singapore Pte. Ltd.\",\"YEOP PHARMA\",\"Joey Yap Consulting Group\",\"DHL eCommerce (Malaysia) Sdn Bhd\",\"Vanguard International Semiconductor Singapore Pte. Ltd.\",\"Agensi Pekerjaan Asia Recruit Sdn Bhd\",\"Viewpoint Research Corporation Sdn Bhd\",\"Digital Silhouette Sdn Bhd\",\"LIVEMED SDN. BHD.\",\"BEYONDSOFT (MALAYSIA) SDN. BHD.\",\"Radio Holland Malaysia Sdn Bhd\",\"PRISM+\",\"Golden Screen Cinemas Sdn Bhd\",\"AmBank (M) Berhad\",\"Tangspac Consulting Pte Ltd\",\"Spirit AeroSystems Malaysia Sdn Bhd\",\"4Fingers Crispy Chicken\",\"MOL ACCESSPORTAL SDN. BHD.\",\"Zempot Malaysia Sdn. Bhd.\",\"Justel Sdn Bhd\",\"Nala Groups\",\"Asia Pacific University of Technology & Innovation (APU)\",\"Merchantrade Asia Sdn Bhd\",\"Management Development Institute of Singapore\",\"Worldwide Holdings Berhad\",\"CBRE ASIA PACIFIC BUSINESS SERVICES SDN BHD\",\"Labuan Reinsurance (L) Ltd\",\"REDFIN TECHNOLOGIES PL\",\"PTW Malaysia\",\"Suruhanjaya Syarikat Malaysia/Companies Commission of Malaysia\",\"Crawford and Company Adjusters (M) Sdn Bhd\",\"Global eCommerce Solutions Sdn Bhd\",\"2C2P System (Malaysia) Sdn Bhd\",\"Mondelez International\",\"Prestige Atlantic Asia Sdn Bhd\",\"OVOL MALAYSIA SDN. BHD.\",\"Silverlake One Paradigm Sdn Bhd\",\"Accenture Technology Solutions Sdn Bhd\",\"IHS Markit (Malaysia) Sdn Bhd\",\"OYO Rooms Hospitality Sdn. Bhd.\",\"Jurukur Kinetic\",\"CAMBRIDGELAND PLT\",\"City Of Light Learning Academy\",\"JJ Innovation Venture (M) Sdn. Bhd.\",\"SEGi University\",\"UWC Holdings Sdn Bhd\",\"CAREON PHARMACY SDN. BHD.\",\"Kenanga Investors Berhad\",\"Taiwan Semiconductor Manufacturing Company Limited\",\"Gleneagles Hospital Medini Johor\",\"HTC Global Services MSC\",\"Pembinaan Yuen Seng Sdn Bhd\",\"Klinik veterinar putra nilai\",\"ITW Meritex Sdn Bhd (Automotive Division)\",\"Fresenius Medical Care Production Sdn Bhd\",\"SO SUN SING SDN. BHD.\",\"Tentacle Tech\",\"Biomerit scientific SDN bhd\",\"ONE1JSG BUSINESS SERVICES SDN. BHD.\",\"TecAlliance Malaysia Sdn Bhd\",\"Agensi Pekerjaan Iconic Malaysia Gw Sdn. Bhd.\",\"BAT ASPAC Service Centre Sdn Bhd\",\"Webhelp APAC\",\"PROLINTAS GROUP OF COMPANIES\",\"AIRDROITECH SDN. BHD.\",\"FREIGHT MART INTERNATIONAL SDN. BHD.\",\"NH2 System Sdn Bhd\",\"J&T EXPRESS (MALAYSIA) SDN. BHD.\",\"Lam Soon Edible Oils Sdn Bhd\",\"Coway (Malaysia) Sdn Bhd\",\"Advanced Micro Devices Global Services (M) Sdn. Bhd.\",\"SEEK Asia (JORA)\",\"NEOSCIENCE SDN. BHD.\",\"FPT Software Malaysia Sdn. Bhd.\",\"Western Digital Tech and Regional Center (M) Sdn Bhd\",\"INFECTIOUS DISEASE SOCIETY KOTA KINABALU SABAH\",\"QL Corporate Services Sdn Bhd\",\"Kasatria Technologies Sdn Bhd\",\"ESRI Malaysia Sdn Bhd\",\"Sonepar SouthEast Asia Sdn Bhd\",\"iMarketing MY (Acme Commerce Sdn Bhd)\",\"Pusat Pakar Mata Ikonik | Ikonik Eye Specialist Centre\",\"Sunway College\",\"ALAM FLORA ENVIRONMENTAL SOLUTIONS SDN BHD\",\"Adecco Personnel Sdn Bhd\",\"TECHNO MECH (M) SDN BHD\",\"Ingram Micro Malaysia Sdn Bhd\",\"IOI Properties Group Berhad (Property Corporate)\",\"Raffles College of Higher Education Sdn Bhd\",\"AEM Microtronics (M) Sdn Bhd\",\"AGENSI PEKERJAAN WORKLE SDN. BHD.\",\"Pac Lease Berhad\",\"Pactera Malaysia Inc.Sdn Bhd\",\"Y.S.P. Industries (M) Sdn Bhd\",\"Kelly Services (Malaysia) Sdn Bhd - BTI\",\"Regencell Bioscience Asia Sdn Bhd\",\"Tony Ng & Associates Sdn Bhd\",\"DCConnect Global\",\"Kyocera AVX Components (Penang) Sdn Bhd\",\"Tokio Marine Insurans (Malaysia) Berhad\",\"Sime Darby Plantation Berhad\",\"Tzu Chi International School Kuala Lumpur\",\"Albatross Exim (M) Sdn. Bhd.\",\"MyT Edutech Berhad\",\"MAHSA University\",\"SIRIM STS SDN. BHD.\",\"Fujikura Kasei Malaysia Sdn Bhd\",\"SunPower Malaysia Manufacturing Sdn Bhd (regional)\",\"West Coast Expressway Sdn Bhd\",\"Deriv Services Sdn Bhd\",\"Coraza Systems Malaysia Sdn. Bhd.\",\"Universiti Teknologi PETRONAS (UTP)\",\"Phillip Nova Pte Ltd\",\"JINJING TECHNOLOGY MALAYSIA SDN. BHD.\",\"Bionutricia Manufacturing Sdn Bhd\",\"Schenker Logistics (Malaysia) Sdn Bhd\",\"ITNet Enterprise\",\"De Luxe Group\",\"Fitness First Singapore Pte Ltd\",\"webe digital sdn bhd\",\"INBODY ASIA SDN. BHD.\",\"Tunku Abdul Rahman University of Management and Technology (TAR UMT)\",\"TORAY MALAYSIA SYSTEMS SOLUTION SDN. BHD.\",\"Pan Pacific Retail Management (Malaysia) Sdn Bhd\",\"Twolink Sdn Bhd\",\"Rocketsview Management Sdn Bhd\",\"TESS International Group\",\"Ecolex Sdn Bhd\",\"ASM Services & Support Malaysia (Resource Solutions)\",\"Lufter Sdn Bhd\",\"TECHIES APP TECHNOLOGIES SDN. BHD.\",\"Lee's Frozen Food Sdn. Bhd.\",\"Celestica Malaysia Sdn Bhd\",\"Bodhi Meditation, Malaysia\",\"Zenda IT Technology Sdn Bhd\",\"Stradford International College\",\"UMMI Surgical Sdn Bhd\",\"CUCKOO INTERNATIONAL (MAL) SDN. BHD.\",\"Taylor's International School\",\"Innowave LLC SDN BHD\",\"AJIYA BERHAD\",\"PH PALM EXPRESS SDN. BHD.\",\"Intel Technology Sdn. Bhd.\",\"Ace Resource Advisory Services Sdn Bhd\",\"First Solar Malaysia Sdn Bhd\",\"Juhler Professionals - A division of Temp-Team Pte Ltd\",\"The International School of Kuala Lumpur (ISKL)\",\"CURRENT TECH INDUSTRIES SDN. BHD.\",\"Millennium Welt Sdn Bhd\",\"Tung Shin Hospital\",\"Golden Fresh Sdn. Bhd.\",\"Liberty Insurance Berhad\",\"MTT Shipping Sdn Bhd\",\"SEARCH STAFFING SERVICES PTE. LTD\",\"ELEVATE BUSINESS CONSULTANTS (MALAYSIA) SDN BHD\",\"Ezypay (Business Registration: iConnect360 Sdn Bhd)\",\"GPL Group of Companies\",\"ARCON SDN. BHD.\",\"Pernec Integrated Network Systems Sdn Bhd\",\"CAB INTERNATIONAL\",\"ICMC Sdn Bhd\",\"SANMINA-SCI SYSTEMS (MALAYSIA) SDN BHD\",\"MASS Intelligent Provider Sdn Bhd\",\"Akzo Nobel Paints (M) Sdn Bhd\",\"GS Paperboard & Packaging Sdn Bhd\",\"Tremco CPG Malaysia Sdn Bhd\",\"Percetakan Tenaga Sdn. Bhd.\",\"STRATACACHE ASIA-PACIFIC PTE. LTD.\",\"PLATINUM VICTORY DEVELOPMENT SDN BHD\",\"F&B Nutrition Sdn. Bhd.\",\"Novotech Clinical Research (M) Sdn Bhd\",\"Oleon Port Klang Sdn Bhd\",\"CGI IT Consulting Sdn Bhd\",\"CMG Holdings Sdn Bhd\",\"iFAST Capital Sdn Bhd\",\"NOMU PAY MALAYSIA SDN. BHD.\",\"RIGHT RECRUIT SDN. BHD.\",\"Galderma\",\"Ambu Sdn Bhd\",\"INSTAPAY TECHNOLOGIES SDN. BHD.\",\"SANOFI\",\"Abbott Laboratories (Malaysia) Sdn Bhd\",\"Parkson Corporation Sdn Bhd\",\"MC INFO TECH SDN.BHD\",\"Top Glove Corporation Berhad\",\"Sky Resources Group of Companies\",\"SPECTRUM OF LIFE SDN BHD\",\"ASK Resources\",\"BBS Automation Penang Sdn Bhd\",\"Boston Scientific Medical Device (Malaysia) Sdn. Bhd.\",\"Corestaff Pte Ltd\",\"VOLT\",\"Cargill Holdings (Malaysia) Sdn Bhd\",\"Ann Joo Steel Berhad\",\"Ecloudvalley Technology Sdn Bhd\",\"Vision 77 Sdn Bhd\",\"SDAX Exchange Pte. Ltd.\",\"SPD Scientific (M) Sdn Bhd\",\"Nettium Sdn. Bhd.\",\"TTOT Sdn Bhd\",\"AGENSI PEKERJAAN LONSON SDN. BHD.\",\"Mega Fortris (Malaysia) Sdn Bhd\",\"NCH Singapore Pte Ltd\",\"Yeo Hiap Seng (Malaysia) Sdn Bhd\",\"Precision Computer (M) Sdn Bhd\",\"TSH Resources Berhad\",\"Goodyear Malaysia Berhad\",\"PARIS BAGUETTE LOGISTICS SDN. BHD.\",\"Sindutch Cable Manufacturer Sdn Bhd\",\"Biocon Sdn Bhd\",\"Barry Callebaut Malaysia Sdn Bhd\",\"Payments Network Malaysia Sdn Bhd\",\"Donaldson Filtration (Malaysia) Sdn. Bhd.\",\"Bridge Mobile Pte Ltd\",\"Eng Teknologi Sdn. Bhd.\",\"RF INFINITE SDN BHD\",\"GDT SDN. BHD.\",\"DKSH Corporate Shared Services Center Sdn Bhd\",\"Melaka Straits Medical Centre Sdn Bhd\",\"EDEN FLAME SDN. BHD.\",\"Federal Express Services (M) Sdn Bhd\",\"AbbVie Sdn Bhd\",\"12u12 SDN. BHD.\",\"Vishay Semiconductor Malaysia Sdn Bhd\",\"Infineon Technologies Advance Logic Sdn Bhd\",\"Tonasco Malaysia Sdn Bhd\",\"Kenanga Investment Bank Berhad\",\"BIPO SERVICE MALAYSIA SDN. BHD.\",\"EPS Consultants Pte Ltd\",\"Loytape Industries Sdn Bhd\",\"Swan Metal Products Sdn Bhd\",\"Ritma Prestasi Sdn Bhd\",\"Pacific Enterprise Solutions Ltd\",\"Health Equity Initiatives\",\"Alam Flora Sdn. Bhd.\",\"VISTA KENCANA SDN. BHD.\",\"Swanson Plastics (Malaysia) Sdn Bhd\",\"SEEK Asia (JobStreet.com)\",\"My Evolution Sdn Bhd\",\"NUMED MALAYSIA SDN. BHD\",\"Hap Seng Management Services Sdn Bhd\",\"N'osairis Technology Solutions Sdn Bhd\",\"Mamee-Double Decker (M) Sdn Bhd\",\"OCBC Bank (Malaysia) Berhad\",\"Arus Juta Sdn Bhd\",\"IPK COLLEGE\",\"BCM Electronics Corporation Sdn Bhd\",\"Institut Jantung Negara Sdn Bhd\",\"NCH Malaysia\",\"Elitez & Associates\",\"SMITH & NEPHEW HEALTHCARE SDN. BHD.\",\"Corelle Brands Manufacturing (M) Sdn. Bhd.\",\"Padini Holdings Berhad (50202-A)\",\"Agensi Pekerjaan RecruitFirst Sdn Bhd\",\"INSCALE\",\"Hok Huat Group Sdn Bhd\",\"ASE Electronics (M) Sdn Bhd\",\"PAC TESTING & CONSULTING SDN. BHD.\",\"Orange Business Services\",\"LUCKY FROZEN SDN BHD\",\"PARTICLE BYTE SDN. BHD.\",\"Lear Corporation\",\"LUXOFT MALAYSIA SDN. BHD.\",\"DNV SINGAPORE PTE. LTD.\",\"Smart-Acc Solutions Sdn Bhd\",\"Leader Cable Industry Berhad\",\"Sumisaujana TCM Chemicals Sdn Bhd\",\"METHODIST COLLEGE KUALA LUMPUR\",\"Gaia Science (M) Sdn Bhd\",\"Hyron Infotech Pte. Ltd.\",\"UAC Berhad\",\"ScienTec Consulting Pte Ltd\",\"IQVIA Malaysia\",\"HERBALIFE GLOBAL BUSINESS SERVICE CENTRE SDN. BHD.\",\"LONGI (KUCHING) SDN BHD\",\"RedPlanet Solutions (M) Sdn Bhd\",\"Carlsberg Brewery Malaysia Bhd\",\"Berjaya Sompo Insurance Berhad\",\"VENATOR ASIA SDN. BHD.\",\"Minconsult Sdn Bhd\",\"Financial Risk Group (GRG Consulting Sdn Bhd)\",\"WATERCO (FAR EAST) SDN BHD\",\"TERA VA SDN. BHD.\",\"OMX Nutrition Sdn. Bhd.\",\"Datapel Asia Sdn Bhd\",\"FARM APPS SDN. BHD.\",\"KAISON FURNISHING SDN. BHD.\",\"AGTIV Consulting Sdn Bhd\",\"George Fischer (M) Sdn Bhd\",\"Haleon\",\"Pantheon Lab Limited\",\"Nippon Paint (Singapore) Co Pte Ltd\",\"Onboard Technologies Sdn Bhd\",\"Samling Group of Companies\",\"HACH MALAYSIA SDN BHD\",\"Bank Pertanian Malaysia Berhad (Agrobank)\",\"Merimen Online Sdn Bhd\",\"YONMING GROUP\",\"Kerry\",\"Hovid Bhd\",\"G-mart Borneo Retail\",\"Temasek Allied Engineering\",\"Edwards Lifesciences\",\"YONGPENG SOLUTIONS SDN. BHD.\"],\"yaxis\":\"y\",\"type\":\"bar\",\"textfont\":{\"size\":12},\"cliponaxis\":false,\"textangle\":0}],                        {\"template\":{\"data\":{\"histogram2dcontour\":[{\"type\":\"histogram2dcontour\",\"colorbar\":{\"outlinewidth\":0,\"ticks\":\"\"},\"colorscale\":[[0.0,\"#0d0887\"],[0.1111111111111111,\"#46039f\"],[0.2222222222222222,\"#7201a8\"],[0.3333333333333333,\"#9c179e\"],[0.4444444444444444,\"#bd3786\"],[0.5555555555555556,\"#d8576b\"],[0.6666666666666666,\"#ed7953\"],[0.7777777777777778,\"#fb9f3a\"],[0.8888888888888888,\"#fdca26\"],[1.0,\"#f0f921\"]]}],\"choropleth\":[{\"type\":\"choropleth\",\"colorbar\":{\"outlinewidth\":0,\"ticks\":\"\"}}],\"histogram2d\":[{\"type\":\"histogram2d\",\"colorbar\":{\"outlinewidth\":0,\"ticks\":\"\"},\"colorscale\":[[0.0,\"#0d0887\"],[0.1111111111111111,\"#46039f\"],[0.2222222222222222,\"#7201a8\"],[0.3333333333333333,\"#9c179e\"],[0.4444444444444444,\"#bd3786\"],[0.5555555555555556,\"#d8576b\"],[0.6666666666666666,\"#ed7953\"],[0.7777777777777778,\"#fb9f3a\"],[0.8888888888888888,\"#fdca26\"],[1.0,\"#f0f921\"]]}],\"heatmap\":[{\"type\":\"heatmap\",\"colorbar\":{\"outlinewidth\":0,\"ticks\":\"\"},\"colorscale\":[[0.0,\"#0d0887\"],[0.1111111111111111,\"#46039f\"],[0.2222222222222222,\"#7201a8\"],[0.3333333333333333,\"#9c179e\"],[0.4444444444444444,\"#bd3786\"],[0.5555555555555556,\"#d8576b\"],[0.6666666666666666,\"#ed7953\"],[0.7777777777777778,\"#fb9f3a\"],[0.8888888888888888,\"#fdca26\"],[1.0,\"#f0f921\"]]}],\"heatmapgl\":[{\"type\":\"heatmapgl\",\"colorbar\":{\"outlinewidth\":0,\"ticks\":\"\"},\"colorscale\":[[0.0,\"#0d0887\"],[0.1111111111111111,\"#46039f\"],[0.2222222222222222,\"#7201a8\"],[0.3333333333333333,\"#9c179e\"],[0.4444444444444444,\"#bd3786\"],[0.5555555555555556,\"#d8576b\"],[0.6666666666666666,\"#ed7953\"],[0.7777777777777778,\"#fb9f3a\"],[0.8888888888888888,\"#fdca26\"],[1.0,\"#f0f921\"]]}],\"contourcarpet\":[{\"type\":\"contourcarpet\",\"colorbar\":{\"outlinewidth\":0,\"ticks\":\"\"}}],\"contour\":[{\"type\":\"contour\",\"colorbar\":{\"outlinewidth\":0,\"ticks\":\"\"},\"colorscale\":[[0.0,\"#0d0887\"],[0.1111111111111111,\"#46039f\"],[0.2222222222222222,\"#7201a8\"],[0.3333333333333333,\"#9c179e\"],[0.4444444444444444,\"#bd3786\"],[0.5555555555555556,\"#d8576b\"],[0.6666666666666666,\"#ed7953\"],[0.7777777777777778,\"#fb9f3a\"],[0.8888888888888888,\"#fdca26\"],[1.0,\"#f0f921\"]]}],\"surface\":[{\"type\":\"surface\",\"colorbar\":{\"outlinewidth\":0,\"ticks\":\"\"},\"colorscale\":[[0.0,\"#0d0887\"],[0.1111111111111111,\"#46039f\"],[0.2222222222222222,\"#7201a8\"],[0.3333333333333333,\"#9c179e\"],[0.4444444444444444,\"#bd3786\"],[0.5555555555555556,\"#d8576b\"],[0.6666666666666666,\"#ed7953\"],[0.7777777777777778,\"#fb9f3a\"],[0.8888888888888888,\"#fdca26\"],[1.0,\"#f0f921\"]]}],\"mesh3d\":[{\"type\":\"mesh3d\",\"colorbar\":{\"outlinewidth\":0,\"ticks\":\"\"}}],\"scatter\":[{\"marker\":{\"line\":{\"color\":\"#283442\"}},\"type\":\"scatter\"}],\"parcoords\":[{\"type\":\"parcoords\",\"line\":{\"colorbar\":{\"outlinewidth\":0,\"ticks\":\"\"}}}],\"scatterpolargl\":[{\"type\":\"scatterpolargl\",\"marker\":{\"colorbar\":{\"outlinewidth\":0,\"ticks\":\"\"}}}],\"bar\":[{\"error_x\":{\"color\":\"#f2f5fa\"},\"error_y\":{\"color\":\"#f2f5fa\"},\"marker\":{\"line\":{\"color\":\"rgb(17,17,17)\",\"width\":0.5},\"pattern\":{\"fillmode\":\"overlay\",\"size\":10,\"solidity\":0.2}},\"type\":\"bar\"}],\"scattergeo\":[{\"type\":\"scattergeo\",\"marker\":{\"colorbar\":{\"outlinewidth\":0,\"ticks\":\"\"}}}],\"scatterpolar\":[{\"type\":\"scatterpolar\",\"marker\":{\"colorbar\":{\"outlinewidth\":0,\"ticks\":\"\"}}}],\"histogram\":[{\"marker\":{\"pattern\":{\"fillmode\":\"overlay\",\"size\":10,\"solidity\":0.2}},\"type\":\"histogram\"}],\"scattergl\":[{\"marker\":{\"line\":{\"color\":\"#283442\"}},\"type\":\"scattergl\"}],\"scatter3d\":[{\"type\":\"scatter3d\",\"line\":{\"colorbar\":{\"outlinewidth\":0,\"ticks\":\"\"}},\"marker\":{\"colorbar\":{\"outlinewidth\":0,\"ticks\":\"\"}}}],\"scattermapbox\":[{\"type\":\"scattermapbox\",\"marker\":{\"colorbar\":{\"outlinewidth\":0,\"ticks\":\"\"}}}],\"scatterternary\":[{\"type\":\"scatterternary\",\"marker\":{\"colorbar\":{\"outlinewidth\":0,\"ticks\":\"\"}}}],\"scattercarpet\":[{\"type\":\"scattercarpet\",\"marker\":{\"colorbar\":{\"outlinewidth\":0,\"ticks\":\"\"}}}],\"carpet\":[{\"aaxis\":{\"endlinecolor\":\"#A2B1C6\",\"gridcolor\":\"#506784\",\"linecolor\":\"#506784\",\"minorgridcolor\":\"#506784\",\"startlinecolor\":\"#A2B1C6\"},\"baxis\":{\"endlinecolor\":\"#A2B1C6\",\"gridcolor\":\"#506784\",\"linecolor\":\"#506784\",\"minorgridcolor\":\"#506784\",\"startlinecolor\":\"#A2B1C6\"},\"type\":\"carpet\"}],\"table\":[{\"cells\":{\"fill\":{\"color\":\"#506784\"},\"line\":{\"color\":\"rgb(17,17,17)\"}},\"header\":{\"fill\":{\"color\":\"#2a3f5f\"},\"line\":{\"color\":\"rgb(17,17,17)\"}},\"type\":\"table\"}],\"barpolar\":[{\"marker\":{\"line\":{\"color\":\"rgb(17,17,17)\",\"width\":0.5},\"pattern\":{\"fillmode\":\"overlay\",\"size\":10,\"solidity\":0.2}},\"type\":\"barpolar\"}],\"pie\":[{\"automargin\":true,\"type\":\"pie\"}]},\"layout\":{\"autotypenumbers\":\"strict\",\"colorway\":[\"#636efa\",\"#EF553B\",\"#00cc96\",\"#ab63fa\",\"#FFA15A\",\"#19d3f3\",\"#FF6692\",\"#B6E880\",\"#FF97FF\",\"#FECB52\"],\"font\":{\"color\":\"#f2f5fa\"},\"hovermode\":\"closest\",\"hoverlabel\":{\"align\":\"left\"},\"paper_bgcolor\":\"rgb(17,17,17)\",\"plot_bgcolor\":\"rgb(17,17,17)\",\"polar\":{\"bgcolor\":\"rgb(17,17,17)\",\"angularaxis\":{\"gridcolor\":\"#506784\",\"linecolor\":\"#506784\",\"ticks\":\"\"},\"radialaxis\":{\"gridcolor\":\"#506784\",\"linecolor\":\"#506784\",\"ticks\":\"\"}},\"ternary\":{\"bgcolor\":\"rgb(17,17,17)\",\"aaxis\":{\"gridcolor\":\"#506784\",\"linecolor\":\"#506784\",\"ticks\":\"\"},\"baxis\":{\"gridcolor\":\"#506784\",\"linecolor\":\"#506784\",\"ticks\":\"\"},\"caxis\":{\"gridcolor\":\"#506784\",\"linecolor\":\"#506784\",\"ticks\":\"\"}},\"coloraxis\":{\"colorbar\":{\"outlinewidth\":0,\"ticks\":\"\"}},\"colorscale\":{\"sequential\":[[0.0,\"#0d0887\"],[0.1111111111111111,\"#46039f\"],[0.2222222222222222,\"#7201a8\"],[0.3333333333333333,\"#9c179e\"],[0.4444444444444444,\"#bd3786\"],[0.5555555555555556,\"#d8576b\"],[0.6666666666666666,\"#ed7953\"],[0.7777777777777778,\"#fb9f3a\"],[0.8888888888888888,\"#fdca26\"],[1.0,\"#f0f921\"]],\"sequentialminus\":[[0.0,\"#0d0887\"],[0.1111111111111111,\"#46039f\"],[0.2222222222222222,\"#7201a8\"],[0.3333333333333333,\"#9c179e\"],[0.4444444444444444,\"#bd3786\"],[0.5555555555555556,\"#d8576b\"],[0.6666666666666666,\"#ed7953\"],[0.7777777777777778,\"#fb9f3a\"],[0.8888888888888888,\"#fdca26\"],[1.0,\"#f0f921\"]],\"diverging\":[[0,\"#8e0152\"],[0.1,\"#c51b7d\"],[0.2,\"#de77ae\"],[0.3,\"#f1b6da\"],[0.4,\"#fde0ef\"],[0.5,\"#f7f7f7\"],[0.6,\"#e6f5d0\"],[0.7,\"#b8e186\"],[0.8,\"#7fbc41\"],[0.9,\"#4d9221\"],[1,\"#276419\"]]},\"xaxis\":{\"gridcolor\":\"#283442\",\"linecolor\":\"#506784\",\"ticks\":\"\",\"title\":{\"standoff\":15},\"zerolinecolor\":\"#283442\",\"automargin\":true,\"zerolinewidth\":2},\"yaxis\":{\"gridcolor\":\"#283442\",\"linecolor\":\"#506784\",\"ticks\":\"\",\"title\":{\"standoff\":15},\"zerolinecolor\":\"#283442\",\"automargin\":true,\"zerolinewidth\":2},\"scene\":{\"xaxis\":{\"backgroundcolor\":\"rgb(17,17,17)\",\"gridcolor\":\"#506784\",\"linecolor\":\"#506784\",\"showbackground\":true,\"ticks\":\"\",\"zerolinecolor\":\"#C8D4E3\",\"gridwidth\":2},\"yaxis\":{\"backgroundcolor\":\"rgb(17,17,17)\",\"gridcolor\":\"#506784\",\"linecolor\":\"#506784\",\"showbackground\":true,\"ticks\":\"\",\"zerolinecolor\":\"#C8D4E3\",\"gridwidth\":2},\"zaxis\":{\"backgroundcolor\":\"rgb(17,17,17)\",\"gridcolor\":\"#506784\",\"linecolor\":\"#506784\",\"showbackground\":true,\"ticks\":\"\",\"zerolinecolor\":\"#C8D4E3\",\"gridwidth\":2}},\"shapedefaults\":{\"line\":{\"color\":\"#f2f5fa\"}},\"annotationdefaults\":{\"arrowcolor\":\"#f2f5fa\",\"arrowhead\":0,\"arrowwidth\":1},\"geo\":{\"bgcolor\":\"rgb(17,17,17)\",\"landcolor\":\"rgb(17,17,17)\",\"subunitcolor\":\"#506784\",\"showland\":true,\"showlakes\":true,\"lakecolor\":\"rgb(17,17,17)\"},\"title\":{\"x\":0.05},\"updatemenudefaults\":{\"bgcolor\":\"#506784\",\"borderwidth\":0},\"sliderdefaults\":{\"bgcolor\":\"#C8D4E3\",\"borderwidth\":1,\"bordercolor\":\"rgb(17,17,17)\",\"tickwidth\":0},\"mapbox\":{\"style\":\"dark\"}}},\"xaxis\":{\"anchor\":\"y\",\"domain\":[0.0,1.0],\"title\":{\"text\":\"jobs\"}},\"yaxis\":{\"anchor\":\"x\",\"domain\":[0.0,1.0],\"title\":{\"text\":\"companies\"}},\"legend\":{\"tracegroupgap\":0},\"title\":{\"text\":\"Companies with the most jobs opening\"},\"barmode\":\"relative\"},                        {\"responsive\": true}                    ).then(function(){\n                            \nvar gd = document.getElementById('1cd519d0-898e-43bb-b3bf-149cd76386f3');\nvar x = new MutationObserver(function (mutations, observer) {{\n        var display = window.getComputedStyle(gd).display;\n        if (!display || display === 'none') {{\n            console.log([gd, 'removed!']);\n            Plotly.purge(gd);\n            observer.disconnect();\n        }}\n}});\n\n// Listen for the removal of the full notebook cells\nvar notebookContainer = gd.closest('#notebook-container');\nif (notebookContainer) {{\n    x.observe(notebookContainer, {childList: true});\n}}\n\n// Listen for the clearing of the current output cell\nvar outputEl = gd.closest('.output');\nif (outputEl) {{\n    x.observe(outputEl, {childList: true});\n}}\n\n                        })                };                });            </script>        </div>"
     },
     "metadata": {},
     "output_type": "display_data"
    }
   ],
   "source": [
    "fig = px.bar(companies_df, x='jobs', y='companies', text_auto='.2s',color_discrete_sequence=px.colors.qualitative.Set3, orientation='h',\n",
    "             title=\"Companies with the most jobs opening\")\n",
    "fig.update_traces(textfont_size=12, textangle=0, textposition=\"outside\", cliponaxis=False)\n",
    "fig.show()"
   ],
   "metadata": {
    "collapsed": false
   }
  },
  {
   "cell_type": "code",
   "execution_count": 37,
   "outputs": [],
   "source": [
    "companies_bottom = companies_df.tail(20)\n",
    "companies_bottom.to_csv('./companies_bottom.csv')"
   ],
   "metadata": {
    "collapsed": false
   }
  },
  {
   "cell_type": "code",
   "execution_count": 38,
   "outputs": [
    {
     "data": {
      "application/vnd.plotly.v1+json": {
       "data": [
        {
         "alignmentgroup": "True",
         "hovertemplate": "jobs=%{x}<br>companies=%{y}<extra></extra>",
         "legendgroup": "",
         "marker": {
          "color": "rgb(228,26,28)",
          "pattern": {
           "shape": ""
          }
         },
         "name": "",
         "offsetgroup": "",
         "orientation": "h",
         "showlegend": false,
         "textposition": "outside",
         "texttemplate": "%{x:.2s}",
         "x": [
          2,
          2,
          2,
          2,
          2,
          2,
          2,
          2,
          2,
          2,
          2,
          2,
          2,
          2,
          2,
          2,
          1,
          1,
          1,
          1
         ],
         "xaxis": "x",
         "y": [
          "Datapel Asia Sdn Bhd",
          "FARM APPS SDN. BHD.",
          "KAISON FURNISHING SDN. BHD.",
          "AGTIV Consulting Sdn Bhd",
          "George Fischer (M) Sdn Bhd",
          "Haleon",
          "Pantheon Lab Limited",
          "Nippon Paint (Singapore) Co Pte Ltd",
          "Onboard Technologies Sdn Bhd",
          "Samling Group of Companies",
          "HACH MALAYSIA SDN BHD",
          "Bank Pertanian Malaysia Berhad (Agrobank)",
          "Merimen Online Sdn Bhd",
          "YONMING GROUP",
          "Kerry",
          "Hovid Bhd",
          "G-mart Borneo Retail",
          "Temasek Allied Engineering",
          "Edwards Lifesciences",
          "YONGPENG SOLUTIONS SDN. BHD."
         ],
         "yaxis": "y",
         "type": "bar",
         "textfont": {
          "size": 12
         },
         "cliponaxis": false,
         "textangle": 0
        }
       ],
       "layout": {
        "template": {
         "data": {
          "histogram2dcontour": [
           {
            "type": "histogram2dcontour",
            "colorbar": {
             "outlinewidth": 0,
             "ticks": ""
            },
            "colorscale": [
             [
              0.0,
              "#0d0887"
             ],
             [
              0.1111111111111111,
              "#46039f"
             ],
             [
              0.2222222222222222,
              "#7201a8"
             ],
             [
              0.3333333333333333,
              "#9c179e"
             ],
             [
              0.4444444444444444,
              "#bd3786"
             ],
             [
              0.5555555555555556,
              "#d8576b"
             ],
             [
              0.6666666666666666,
              "#ed7953"
             ],
             [
              0.7777777777777778,
              "#fb9f3a"
             ],
             [
              0.8888888888888888,
              "#fdca26"
             ],
             [
              1.0,
              "#f0f921"
             ]
            ]
           }
          ],
          "choropleth": [
           {
            "type": "choropleth",
            "colorbar": {
             "outlinewidth": 0,
             "ticks": ""
            }
           }
          ],
          "histogram2d": [
           {
            "type": "histogram2d",
            "colorbar": {
             "outlinewidth": 0,
             "ticks": ""
            },
            "colorscale": [
             [
              0.0,
              "#0d0887"
             ],
             [
              0.1111111111111111,
              "#46039f"
             ],
             [
              0.2222222222222222,
              "#7201a8"
             ],
             [
              0.3333333333333333,
              "#9c179e"
             ],
             [
              0.4444444444444444,
              "#bd3786"
             ],
             [
              0.5555555555555556,
              "#d8576b"
             ],
             [
              0.6666666666666666,
              "#ed7953"
             ],
             [
              0.7777777777777778,
              "#fb9f3a"
             ],
             [
              0.8888888888888888,
              "#fdca26"
             ],
             [
              1.0,
              "#f0f921"
             ]
            ]
           }
          ],
          "heatmap": [
           {
            "type": "heatmap",
            "colorbar": {
             "outlinewidth": 0,
             "ticks": ""
            },
            "colorscale": [
             [
              0.0,
              "#0d0887"
             ],
             [
              0.1111111111111111,
              "#46039f"
             ],
             [
              0.2222222222222222,
              "#7201a8"
             ],
             [
              0.3333333333333333,
              "#9c179e"
             ],
             [
              0.4444444444444444,
              "#bd3786"
             ],
             [
              0.5555555555555556,
              "#d8576b"
             ],
             [
              0.6666666666666666,
              "#ed7953"
             ],
             [
              0.7777777777777778,
              "#fb9f3a"
             ],
             [
              0.8888888888888888,
              "#fdca26"
             ],
             [
              1.0,
              "#f0f921"
             ]
            ]
           }
          ],
          "heatmapgl": [
           {
            "type": "heatmapgl",
            "colorbar": {
             "outlinewidth": 0,
             "ticks": ""
            },
            "colorscale": [
             [
              0.0,
              "#0d0887"
             ],
             [
              0.1111111111111111,
              "#46039f"
             ],
             [
              0.2222222222222222,
              "#7201a8"
             ],
             [
              0.3333333333333333,
              "#9c179e"
             ],
             [
              0.4444444444444444,
              "#bd3786"
             ],
             [
              0.5555555555555556,
              "#d8576b"
             ],
             [
              0.6666666666666666,
              "#ed7953"
             ],
             [
              0.7777777777777778,
              "#fb9f3a"
             ],
             [
              0.8888888888888888,
              "#fdca26"
             ],
             [
              1.0,
              "#f0f921"
             ]
            ]
           }
          ],
          "contourcarpet": [
           {
            "type": "contourcarpet",
            "colorbar": {
             "outlinewidth": 0,
             "ticks": ""
            }
           }
          ],
          "contour": [
           {
            "type": "contour",
            "colorbar": {
             "outlinewidth": 0,
             "ticks": ""
            },
            "colorscale": [
             [
              0.0,
              "#0d0887"
             ],
             [
              0.1111111111111111,
              "#46039f"
             ],
             [
              0.2222222222222222,
              "#7201a8"
             ],
             [
              0.3333333333333333,
              "#9c179e"
             ],
             [
              0.4444444444444444,
              "#bd3786"
             ],
             [
              0.5555555555555556,
              "#d8576b"
             ],
             [
              0.6666666666666666,
              "#ed7953"
             ],
             [
              0.7777777777777778,
              "#fb9f3a"
             ],
             [
              0.8888888888888888,
              "#fdca26"
             ],
             [
              1.0,
              "#f0f921"
             ]
            ]
           }
          ],
          "surface": [
           {
            "type": "surface",
            "colorbar": {
             "outlinewidth": 0,
             "ticks": ""
            },
            "colorscale": [
             [
              0.0,
              "#0d0887"
             ],
             [
              0.1111111111111111,
              "#46039f"
             ],
             [
              0.2222222222222222,
              "#7201a8"
             ],
             [
              0.3333333333333333,
              "#9c179e"
             ],
             [
              0.4444444444444444,
              "#bd3786"
             ],
             [
              0.5555555555555556,
              "#d8576b"
             ],
             [
              0.6666666666666666,
              "#ed7953"
             ],
             [
              0.7777777777777778,
              "#fb9f3a"
             ],
             [
              0.8888888888888888,
              "#fdca26"
             ],
             [
              1.0,
              "#f0f921"
             ]
            ]
           }
          ],
          "mesh3d": [
           {
            "type": "mesh3d",
            "colorbar": {
             "outlinewidth": 0,
             "ticks": ""
            }
           }
          ],
          "scatter": [
           {
            "marker": {
             "line": {
              "color": "#283442"
             }
            },
            "type": "scatter"
           }
          ],
          "parcoords": [
           {
            "type": "parcoords",
            "line": {
             "colorbar": {
              "outlinewidth": 0,
              "ticks": ""
             }
            }
           }
          ],
          "scatterpolargl": [
           {
            "type": "scatterpolargl",
            "marker": {
             "colorbar": {
              "outlinewidth": 0,
              "ticks": ""
             }
            }
           }
          ],
          "bar": [
           {
            "error_x": {
             "color": "#f2f5fa"
            },
            "error_y": {
             "color": "#f2f5fa"
            },
            "marker": {
             "line": {
              "color": "rgb(17,17,17)",
              "width": 0.5
             },
             "pattern": {
              "fillmode": "overlay",
              "size": 10,
              "solidity": 0.2
             }
            },
            "type": "bar"
           }
          ],
          "scattergeo": [
           {
            "type": "scattergeo",
            "marker": {
             "colorbar": {
              "outlinewidth": 0,
              "ticks": ""
             }
            }
           }
          ],
          "scatterpolar": [
           {
            "type": "scatterpolar",
            "marker": {
             "colorbar": {
              "outlinewidth": 0,
              "ticks": ""
             }
            }
           }
          ],
          "histogram": [
           {
            "marker": {
             "pattern": {
              "fillmode": "overlay",
              "size": 10,
              "solidity": 0.2
             }
            },
            "type": "histogram"
           }
          ],
          "scattergl": [
           {
            "marker": {
             "line": {
              "color": "#283442"
             }
            },
            "type": "scattergl"
           }
          ],
          "scatter3d": [
           {
            "type": "scatter3d",
            "line": {
             "colorbar": {
              "outlinewidth": 0,
              "ticks": ""
             }
            },
            "marker": {
             "colorbar": {
              "outlinewidth": 0,
              "ticks": ""
             }
            }
           }
          ],
          "scattermapbox": [
           {
            "type": "scattermapbox",
            "marker": {
             "colorbar": {
              "outlinewidth": 0,
              "ticks": ""
             }
            }
           }
          ],
          "scatterternary": [
           {
            "type": "scatterternary",
            "marker": {
             "colorbar": {
              "outlinewidth": 0,
              "ticks": ""
             }
            }
           }
          ],
          "scattercarpet": [
           {
            "type": "scattercarpet",
            "marker": {
             "colorbar": {
              "outlinewidth": 0,
              "ticks": ""
             }
            }
           }
          ],
          "carpet": [
           {
            "aaxis": {
             "endlinecolor": "#A2B1C6",
             "gridcolor": "#506784",
             "linecolor": "#506784",
             "minorgridcolor": "#506784",
             "startlinecolor": "#A2B1C6"
            },
            "baxis": {
             "endlinecolor": "#A2B1C6",
             "gridcolor": "#506784",
             "linecolor": "#506784",
             "minorgridcolor": "#506784",
             "startlinecolor": "#A2B1C6"
            },
            "type": "carpet"
           }
          ],
          "table": [
           {
            "cells": {
             "fill": {
              "color": "#506784"
             },
             "line": {
              "color": "rgb(17,17,17)"
             }
            },
            "header": {
             "fill": {
              "color": "#2a3f5f"
             },
             "line": {
              "color": "rgb(17,17,17)"
             }
            },
            "type": "table"
           }
          ],
          "barpolar": [
           {
            "marker": {
             "line": {
              "color": "rgb(17,17,17)",
              "width": 0.5
             },
             "pattern": {
              "fillmode": "overlay",
              "size": 10,
              "solidity": 0.2
             }
            },
            "type": "barpolar"
           }
          ],
          "pie": [
           {
            "automargin": true,
            "type": "pie"
           }
          ]
         },
         "layout": {
          "autotypenumbers": "strict",
          "colorway": [
           "#636efa",
           "#EF553B",
           "#00cc96",
           "#ab63fa",
           "#FFA15A",
           "#19d3f3",
           "#FF6692",
           "#B6E880",
           "#FF97FF",
           "#FECB52"
          ],
          "font": {
           "color": "#f2f5fa"
          },
          "hovermode": "closest",
          "hoverlabel": {
           "align": "left"
          },
          "paper_bgcolor": "rgb(17,17,17)",
          "plot_bgcolor": "rgb(17,17,17)",
          "polar": {
           "bgcolor": "rgb(17,17,17)",
           "angularaxis": {
            "gridcolor": "#506784",
            "linecolor": "#506784",
            "ticks": ""
           },
           "radialaxis": {
            "gridcolor": "#506784",
            "linecolor": "#506784",
            "ticks": ""
           }
          },
          "ternary": {
           "bgcolor": "rgb(17,17,17)",
           "aaxis": {
            "gridcolor": "#506784",
            "linecolor": "#506784",
            "ticks": ""
           },
           "baxis": {
            "gridcolor": "#506784",
            "linecolor": "#506784",
            "ticks": ""
           },
           "caxis": {
            "gridcolor": "#506784",
            "linecolor": "#506784",
            "ticks": ""
           }
          },
          "coloraxis": {
           "colorbar": {
            "outlinewidth": 0,
            "ticks": ""
           }
          },
          "colorscale": {
           "sequential": [
            [
             0.0,
             "#0d0887"
            ],
            [
             0.1111111111111111,
             "#46039f"
            ],
            [
             0.2222222222222222,
             "#7201a8"
            ],
            [
             0.3333333333333333,
             "#9c179e"
            ],
            [
             0.4444444444444444,
             "#bd3786"
            ],
            [
             0.5555555555555556,
             "#d8576b"
            ],
            [
             0.6666666666666666,
             "#ed7953"
            ],
            [
             0.7777777777777778,
             "#fb9f3a"
            ],
            [
             0.8888888888888888,
             "#fdca26"
            ],
            [
             1.0,
             "#f0f921"
            ]
           ],
           "sequentialminus": [
            [
             0.0,
             "#0d0887"
            ],
            [
             0.1111111111111111,
             "#46039f"
            ],
            [
             0.2222222222222222,
             "#7201a8"
            ],
            [
             0.3333333333333333,
             "#9c179e"
            ],
            [
             0.4444444444444444,
             "#bd3786"
            ],
            [
             0.5555555555555556,
             "#d8576b"
            ],
            [
             0.6666666666666666,
             "#ed7953"
            ],
            [
             0.7777777777777778,
             "#fb9f3a"
            ],
            [
             0.8888888888888888,
             "#fdca26"
            ],
            [
             1.0,
             "#f0f921"
            ]
           ],
           "diverging": [
            [
             0,
             "#8e0152"
            ],
            [
             0.1,
             "#c51b7d"
            ],
            [
             0.2,
             "#de77ae"
            ],
            [
             0.3,
             "#f1b6da"
            ],
            [
             0.4,
             "#fde0ef"
            ],
            [
             0.5,
             "#f7f7f7"
            ],
            [
             0.6,
             "#e6f5d0"
            ],
            [
             0.7,
             "#b8e186"
            ],
            [
             0.8,
             "#7fbc41"
            ],
            [
             0.9,
             "#4d9221"
            ],
            [
             1,
             "#276419"
            ]
           ]
          },
          "xaxis": {
           "gridcolor": "#283442",
           "linecolor": "#506784",
           "ticks": "",
           "title": {
            "standoff": 15
           },
           "zerolinecolor": "#283442",
           "automargin": true,
           "zerolinewidth": 2
          },
          "yaxis": {
           "gridcolor": "#283442",
           "linecolor": "#506784",
           "ticks": "",
           "title": {
            "standoff": 15
           },
           "zerolinecolor": "#283442",
           "automargin": true,
           "zerolinewidth": 2
          },
          "scene": {
           "xaxis": {
            "backgroundcolor": "rgb(17,17,17)",
            "gridcolor": "#506784",
            "linecolor": "#506784",
            "showbackground": true,
            "ticks": "",
            "zerolinecolor": "#C8D4E3",
            "gridwidth": 2
           },
           "yaxis": {
            "backgroundcolor": "rgb(17,17,17)",
            "gridcolor": "#506784",
            "linecolor": "#506784",
            "showbackground": true,
            "ticks": "",
            "zerolinecolor": "#C8D4E3",
            "gridwidth": 2
           },
           "zaxis": {
            "backgroundcolor": "rgb(17,17,17)",
            "gridcolor": "#506784",
            "linecolor": "#506784",
            "showbackground": true,
            "ticks": "",
            "zerolinecolor": "#C8D4E3",
            "gridwidth": 2
           }
          },
          "shapedefaults": {
           "line": {
            "color": "#f2f5fa"
           }
          },
          "annotationdefaults": {
           "arrowcolor": "#f2f5fa",
           "arrowhead": 0,
           "arrowwidth": 1
          },
          "geo": {
           "bgcolor": "rgb(17,17,17)",
           "landcolor": "rgb(17,17,17)",
           "subunitcolor": "#506784",
           "showland": true,
           "showlakes": true,
           "lakecolor": "rgb(17,17,17)"
          },
          "title": {
           "x": 0.05
          },
          "updatemenudefaults": {
           "bgcolor": "#506784",
           "borderwidth": 0
          },
          "sliderdefaults": {
           "bgcolor": "#C8D4E3",
           "borderwidth": 1,
           "bordercolor": "rgb(17,17,17)",
           "tickwidth": 0
          },
          "mapbox": {
           "style": "dark"
          }
         }
        },
        "xaxis": {
         "anchor": "y",
         "domain": [
          0.0,
          1.0
         ],
         "title": {
          "text": "jobs"
         }
        },
        "yaxis": {
         "anchor": "x",
         "domain": [
          0.0,
          1.0
         ],
         "title": {
          "text": "companies"
         }
        },
        "legend": {
         "tracegroupgap": 0
        },
        "title": {
         "text": "Companies with the least jobs opening"
        },
        "barmode": "relative"
       },
       "config": {
        "plotlyServerURL": "https://plot.ly"
       }
      },
      "text/html": "<div>                            <div id=\"99ac94f2-4716-44a8-b5c2-16af7a066ef0\" class=\"plotly-graph-div\" style=\"height:525px; width:100%;\"></div>            <script type=\"text/javascript\">                require([\"plotly\"], function(Plotly) {                    window.PLOTLYENV=window.PLOTLYENV || {};                                    if (document.getElementById(\"99ac94f2-4716-44a8-b5c2-16af7a066ef0\")) {                    Plotly.newPlot(                        \"99ac94f2-4716-44a8-b5c2-16af7a066ef0\",                        [{\"alignmentgroup\":\"True\",\"hovertemplate\":\"jobs=%{x}<br>companies=%{y}<extra></extra>\",\"legendgroup\":\"\",\"marker\":{\"color\":\"rgb(228,26,28)\",\"pattern\":{\"shape\":\"\"}},\"name\":\"\",\"offsetgroup\":\"\",\"orientation\":\"h\",\"showlegend\":false,\"textposition\":\"outside\",\"texttemplate\":\"%{x:.2s}\",\"x\":[2,2,2,2,2,2,2,2,2,2,2,2,2,2,2,2,1,1,1,1],\"xaxis\":\"x\",\"y\":[\"Datapel Asia Sdn Bhd\",\"FARM APPS SDN. BHD.\",\"KAISON FURNISHING SDN. BHD.\",\"AGTIV Consulting Sdn Bhd\",\"George Fischer (M) Sdn Bhd\",\"Haleon\",\"Pantheon Lab Limited\",\"Nippon Paint (Singapore) Co Pte Ltd\",\"Onboard Technologies Sdn Bhd\",\"Samling Group of Companies\",\"HACH MALAYSIA SDN BHD\",\"Bank Pertanian Malaysia Berhad (Agrobank)\",\"Merimen Online Sdn Bhd\",\"YONMING GROUP\",\"Kerry\",\"Hovid Bhd\",\"G-mart Borneo Retail\",\"Temasek Allied Engineering\",\"Edwards Lifesciences\",\"YONGPENG SOLUTIONS SDN. BHD.\"],\"yaxis\":\"y\",\"type\":\"bar\",\"textfont\":{\"size\":12},\"cliponaxis\":false,\"textangle\":0}],                        {\"template\":{\"data\":{\"histogram2dcontour\":[{\"type\":\"histogram2dcontour\",\"colorbar\":{\"outlinewidth\":0,\"ticks\":\"\"},\"colorscale\":[[0.0,\"#0d0887\"],[0.1111111111111111,\"#46039f\"],[0.2222222222222222,\"#7201a8\"],[0.3333333333333333,\"#9c179e\"],[0.4444444444444444,\"#bd3786\"],[0.5555555555555556,\"#d8576b\"],[0.6666666666666666,\"#ed7953\"],[0.7777777777777778,\"#fb9f3a\"],[0.8888888888888888,\"#fdca26\"],[1.0,\"#f0f921\"]]}],\"choropleth\":[{\"type\":\"choropleth\",\"colorbar\":{\"outlinewidth\":0,\"ticks\":\"\"}}],\"histogram2d\":[{\"type\":\"histogram2d\",\"colorbar\":{\"outlinewidth\":0,\"ticks\":\"\"},\"colorscale\":[[0.0,\"#0d0887\"],[0.1111111111111111,\"#46039f\"],[0.2222222222222222,\"#7201a8\"],[0.3333333333333333,\"#9c179e\"],[0.4444444444444444,\"#bd3786\"],[0.5555555555555556,\"#d8576b\"],[0.6666666666666666,\"#ed7953\"],[0.7777777777777778,\"#fb9f3a\"],[0.8888888888888888,\"#fdca26\"],[1.0,\"#f0f921\"]]}],\"heatmap\":[{\"type\":\"heatmap\",\"colorbar\":{\"outlinewidth\":0,\"ticks\":\"\"},\"colorscale\":[[0.0,\"#0d0887\"],[0.1111111111111111,\"#46039f\"],[0.2222222222222222,\"#7201a8\"],[0.3333333333333333,\"#9c179e\"],[0.4444444444444444,\"#bd3786\"],[0.5555555555555556,\"#d8576b\"],[0.6666666666666666,\"#ed7953\"],[0.7777777777777778,\"#fb9f3a\"],[0.8888888888888888,\"#fdca26\"],[1.0,\"#f0f921\"]]}],\"heatmapgl\":[{\"type\":\"heatmapgl\",\"colorbar\":{\"outlinewidth\":0,\"ticks\":\"\"},\"colorscale\":[[0.0,\"#0d0887\"],[0.1111111111111111,\"#46039f\"],[0.2222222222222222,\"#7201a8\"],[0.3333333333333333,\"#9c179e\"],[0.4444444444444444,\"#bd3786\"],[0.5555555555555556,\"#d8576b\"],[0.6666666666666666,\"#ed7953\"],[0.7777777777777778,\"#fb9f3a\"],[0.8888888888888888,\"#fdca26\"],[1.0,\"#f0f921\"]]}],\"contourcarpet\":[{\"type\":\"contourcarpet\",\"colorbar\":{\"outlinewidth\":0,\"ticks\":\"\"}}],\"contour\":[{\"type\":\"contour\",\"colorbar\":{\"outlinewidth\":0,\"ticks\":\"\"},\"colorscale\":[[0.0,\"#0d0887\"],[0.1111111111111111,\"#46039f\"],[0.2222222222222222,\"#7201a8\"],[0.3333333333333333,\"#9c179e\"],[0.4444444444444444,\"#bd3786\"],[0.5555555555555556,\"#d8576b\"],[0.6666666666666666,\"#ed7953\"],[0.7777777777777778,\"#fb9f3a\"],[0.8888888888888888,\"#fdca26\"],[1.0,\"#f0f921\"]]}],\"surface\":[{\"type\":\"surface\",\"colorbar\":{\"outlinewidth\":0,\"ticks\":\"\"},\"colorscale\":[[0.0,\"#0d0887\"],[0.1111111111111111,\"#46039f\"],[0.2222222222222222,\"#7201a8\"],[0.3333333333333333,\"#9c179e\"],[0.4444444444444444,\"#bd3786\"],[0.5555555555555556,\"#d8576b\"],[0.6666666666666666,\"#ed7953\"],[0.7777777777777778,\"#fb9f3a\"],[0.8888888888888888,\"#fdca26\"],[1.0,\"#f0f921\"]]}],\"mesh3d\":[{\"type\":\"mesh3d\",\"colorbar\":{\"outlinewidth\":0,\"ticks\":\"\"}}],\"scatter\":[{\"marker\":{\"line\":{\"color\":\"#283442\"}},\"type\":\"scatter\"}],\"parcoords\":[{\"type\":\"parcoords\",\"line\":{\"colorbar\":{\"outlinewidth\":0,\"ticks\":\"\"}}}],\"scatterpolargl\":[{\"type\":\"scatterpolargl\",\"marker\":{\"colorbar\":{\"outlinewidth\":0,\"ticks\":\"\"}}}],\"bar\":[{\"error_x\":{\"color\":\"#f2f5fa\"},\"error_y\":{\"color\":\"#f2f5fa\"},\"marker\":{\"line\":{\"color\":\"rgb(17,17,17)\",\"width\":0.5},\"pattern\":{\"fillmode\":\"overlay\",\"size\":10,\"solidity\":0.2}},\"type\":\"bar\"}],\"scattergeo\":[{\"type\":\"scattergeo\",\"marker\":{\"colorbar\":{\"outlinewidth\":0,\"ticks\":\"\"}}}],\"scatterpolar\":[{\"type\":\"scatterpolar\",\"marker\":{\"colorbar\":{\"outlinewidth\":0,\"ticks\":\"\"}}}],\"histogram\":[{\"marker\":{\"pattern\":{\"fillmode\":\"overlay\",\"size\":10,\"solidity\":0.2}},\"type\":\"histogram\"}],\"scattergl\":[{\"marker\":{\"line\":{\"color\":\"#283442\"}},\"type\":\"scattergl\"}],\"scatter3d\":[{\"type\":\"scatter3d\",\"line\":{\"colorbar\":{\"outlinewidth\":0,\"ticks\":\"\"}},\"marker\":{\"colorbar\":{\"outlinewidth\":0,\"ticks\":\"\"}}}],\"scattermapbox\":[{\"type\":\"scattermapbox\",\"marker\":{\"colorbar\":{\"outlinewidth\":0,\"ticks\":\"\"}}}],\"scatterternary\":[{\"type\":\"scatterternary\",\"marker\":{\"colorbar\":{\"outlinewidth\":0,\"ticks\":\"\"}}}],\"scattercarpet\":[{\"type\":\"scattercarpet\",\"marker\":{\"colorbar\":{\"outlinewidth\":0,\"ticks\":\"\"}}}],\"carpet\":[{\"aaxis\":{\"endlinecolor\":\"#A2B1C6\",\"gridcolor\":\"#506784\",\"linecolor\":\"#506784\",\"minorgridcolor\":\"#506784\",\"startlinecolor\":\"#A2B1C6\"},\"baxis\":{\"endlinecolor\":\"#A2B1C6\",\"gridcolor\":\"#506784\",\"linecolor\":\"#506784\",\"minorgridcolor\":\"#506784\",\"startlinecolor\":\"#A2B1C6\"},\"type\":\"carpet\"}],\"table\":[{\"cells\":{\"fill\":{\"color\":\"#506784\"},\"line\":{\"color\":\"rgb(17,17,17)\"}},\"header\":{\"fill\":{\"color\":\"#2a3f5f\"},\"line\":{\"color\":\"rgb(17,17,17)\"}},\"type\":\"table\"}],\"barpolar\":[{\"marker\":{\"line\":{\"color\":\"rgb(17,17,17)\",\"width\":0.5},\"pattern\":{\"fillmode\":\"overlay\",\"size\":10,\"solidity\":0.2}},\"type\":\"barpolar\"}],\"pie\":[{\"automargin\":true,\"type\":\"pie\"}]},\"layout\":{\"autotypenumbers\":\"strict\",\"colorway\":[\"#636efa\",\"#EF553B\",\"#00cc96\",\"#ab63fa\",\"#FFA15A\",\"#19d3f3\",\"#FF6692\",\"#B6E880\",\"#FF97FF\",\"#FECB52\"],\"font\":{\"color\":\"#f2f5fa\"},\"hovermode\":\"closest\",\"hoverlabel\":{\"align\":\"left\"},\"paper_bgcolor\":\"rgb(17,17,17)\",\"plot_bgcolor\":\"rgb(17,17,17)\",\"polar\":{\"bgcolor\":\"rgb(17,17,17)\",\"angularaxis\":{\"gridcolor\":\"#506784\",\"linecolor\":\"#506784\",\"ticks\":\"\"},\"radialaxis\":{\"gridcolor\":\"#506784\",\"linecolor\":\"#506784\",\"ticks\":\"\"}},\"ternary\":{\"bgcolor\":\"rgb(17,17,17)\",\"aaxis\":{\"gridcolor\":\"#506784\",\"linecolor\":\"#506784\",\"ticks\":\"\"},\"baxis\":{\"gridcolor\":\"#506784\",\"linecolor\":\"#506784\",\"ticks\":\"\"},\"caxis\":{\"gridcolor\":\"#506784\",\"linecolor\":\"#506784\",\"ticks\":\"\"}},\"coloraxis\":{\"colorbar\":{\"outlinewidth\":0,\"ticks\":\"\"}},\"colorscale\":{\"sequential\":[[0.0,\"#0d0887\"],[0.1111111111111111,\"#46039f\"],[0.2222222222222222,\"#7201a8\"],[0.3333333333333333,\"#9c179e\"],[0.4444444444444444,\"#bd3786\"],[0.5555555555555556,\"#d8576b\"],[0.6666666666666666,\"#ed7953\"],[0.7777777777777778,\"#fb9f3a\"],[0.8888888888888888,\"#fdca26\"],[1.0,\"#f0f921\"]],\"sequentialminus\":[[0.0,\"#0d0887\"],[0.1111111111111111,\"#46039f\"],[0.2222222222222222,\"#7201a8\"],[0.3333333333333333,\"#9c179e\"],[0.4444444444444444,\"#bd3786\"],[0.5555555555555556,\"#d8576b\"],[0.6666666666666666,\"#ed7953\"],[0.7777777777777778,\"#fb9f3a\"],[0.8888888888888888,\"#fdca26\"],[1.0,\"#f0f921\"]],\"diverging\":[[0,\"#8e0152\"],[0.1,\"#c51b7d\"],[0.2,\"#de77ae\"],[0.3,\"#f1b6da\"],[0.4,\"#fde0ef\"],[0.5,\"#f7f7f7\"],[0.6,\"#e6f5d0\"],[0.7,\"#b8e186\"],[0.8,\"#7fbc41\"],[0.9,\"#4d9221\"],[1,\"#276419\"]]},\"xaxis\":{\"gridcolor\":\"#283442\",\"linecolor\":\"#506784\",\"ticks\":\"\",\"title\":{\"standoff\":15},\"zerolinecolor\":\"#283442\",\"automargin\":true,\"zerolinewidth\":2},\"yaxis\":{\"gridcolor\":\"#283442\",\"linecolor\":\"#506784\",\"ticks\":\"\",\"title\":{\"standoff\":15},\"zerolinecolor\":\"#283442\",\"automargin\":true,\"zerolinewidth\":2},\"scene\":{\"xaxis\":{\"backgroundcolor\":\"rgb(17,17,17)\",\"gridcolor\":\"#506784\",\"linecolor\":\"#506784\",\"showbackground\":true,\"ticks\":\"\",\"zerolinecolor\":\"#C8D4E3\",\"gridwidth\":2},\"yaxis\":{\"backgroundcolor\":\"rgb(17,17,17)\",\"gridcolor\":\"#506784\",\"linecolor\":\"#506784\",\"showbackground\":true,\"ticks\":\"\",\"zerolinecolor\":\"#C8D4E3\",\"gridwidth\":2},\"zaxis\":{\"backgroundcolor\":\"rgb(17,17,17)\",\"gridcolor\":\"#506784\",\"linecolor\":\"#506784\",\"showbackground\":true,\"ticks\":\"\",\"zerolinecolor\":\"#C8D4E3\",\"gridwidth\":2}},\"shapedefaults\":{\"line\":{\"color\":\"#f2f5fa\"}},\"annotationdefaults\":{\"arrowcolor\":\"#f2f5fa\",\"arrowhead\":0,\"arrowwidth\":1},\"geo\":{\"bgcolor\":\"rgb(17,17,17)\",\"landcolor\":\"rgb(17,17,17)\",\"subunitcolor\":\"#506784\",\"showland\":true,\"showlakes\":true,\"lakecolor\":\"rgb(17,17,17)\"},\"title\":{\"x\":0.05},\"updatemenudefaults\":{\"bgcolor\":\"#506784\",\"borderwidth\":0},\"sliderdefaults\":{\"bgcolor\":\"#C8D4E3\",\"borderwidth\":1,\"bordercolor\":\"rgb(17,17,17)\",\"tickwidth\":0},\"mapbox\":{\"style\":\"dark\"}}},\"xaxis\":{\"anchor\":\"y\",\"domain\":[0.0,1.0],\"title\":{\"text\":\"jobs\"}},\"yaxis\":{\"anchor\":\"x\",\"domain\":[0.0,1.0],\"title\":{\"text\":\"companies\"}},\"legend\":{\"tracegroupgap\":0},\"title\":{\"text\":\"Companies with the least jobs opening\"},\"barmode\":\"relative\"},                        {\"responsive\": true}                    ).then(function(){\n                            \nvar gd = document.getElementById('99ac94f2-4716-44a8-b5c2-16af7a066ef0');\nvar x = new MutationObserver(function (mutations, observer) {{\n        var display = window.getComputedStyle(gd).display;\n        if (!display || display === 'none') {{\n            console.log([gd, 'removed!']);\n            Plotly.purge(gd);\n            observer.disconnect();\n        }}\n}});\n\n// Listen for the removal of the full notebook cells\nvar notebookContainer = gd.closest('#notebook-container');\nif (notebookContainer) {{\n    x.observe(notebookContainer, {childList: true});\n}}\n\n// Listen for the clearing of the current output cell\nvar outputEl = gd.closest('.output');\nif (outputEl) {{\n    x.observe(outputEl, {childList: true});\n}}\n\n                        })                };                });            </script>        </div>"
     },
     "metadata": {},
     "output_type": "display_data"
    }
   ],
   "source": [
    "fig = px.bar(companies_bottom, x='jobs', y='companies', text_auto='.2s',color_discrete_sequence=px.colors.qualitative.Set1, orientation='h',\n",
    "             title=\"Companies with the least jobs opening\")\n",
    "fig.update_traces(textfont_size=12, textangle=0, textposition=\"outside\", cliponaxis=False)\n",
    "fig.show()"
   ],
   "metadata": {
    "collapsed": false
   }
  },
  {
   "cell_type": "markdown",
   "id": "b6025e92-ce70-4bbe-824d-6b45b27b4847",
   "metadata": {},
   "source": [
    "### Salary count"
   ]
  },
  {
   "cell_type": "code",
   "execution_count": null,
   "outputs": [],
   "source": [],
   "metadata": {
    "collapsed": false
   }
  },
  {
   "cell_type": "markdown",
   "source": [
    "### Location"
   ],
   "metadata": {
    "collapsed": false
   }
  },
  {
   "cell_type": "code",
   "execution_count": 65,
   "outputs": [
    {
     "data": {
      "text/plain": "                                             locations  job_openings\n0                                         Kuala Lumpur          1443\n1                                        Petaling Jaya           322\n2                                             Selangor           263\n3                                               Penang           160\n4                                          Bayan Lepas           120\n..                                                 ...           ...\n122                          Kuala Lumpur, Bayan Lepas             2\n123  Selangor - Others, Kuala Lumpur, Negeri Sembil...             2\n124                      Johor Bahru, Shah Alam/Subang             2\n125                     Klang/Port Klang, Kuala Lumpur             2\n126                                            Kuantan             2\n\n[127 rows x 2 columns]",
      "text/html": "<div>\n<style scoped>\n    .dataframe tbody tr th:only-of-type {\n        vertical-align: middle;\n    }\n\n    .dataframe tbody tr th {\n        vertical-align: top;\n    }\n\n    .dataframe thead th {\n        text-align: right;\n    }\n</style>\n<table border=\"1\" class=\"dataframe\">\n  <thead>\n    <tr style=\"text-align: right;\">\n      <th></th>\n      <th>locations</th>\n      <th>job_openings</th>\n    </tr>\n  </thead>\n  <tbody>\n    <tr>\n      <th>0</th>\n      <td>Kuala Lumpur</td>\n      <td>1443</td>\n    </tr>\n    <tr>\n      <th>1</th>\n      <td>Petaling Jaya</td>\n      <td>322</td>\n    </tr>\n    <tr>\n      <th>2</th>\n      <td>Selangor</td>\n      <td>263</td>\n    </tr>\n    <tr>\n      <th>3</th>\n      <td>Penang</td>\n      <td>160</td>\n    </tr>\n    <tr>\n      <th>4</th>\n      <td>Bayan Lepas</td>\n      <td>120</td>\n    </tr>\n    <tr>\n      <th>...</th>\n      <td>...</td>\n      <td>...</td>\n    </tr>\n    <tr>\n      <th>122</th>\n      <td>Kuala Lumpur, Bayan Lepas</td>\n      <td>2</td>\n    </tr>\n    <tr>\n      <th>123</th>\n      <td>Selangor - Others, Kuala Lumpur, Negeri Sembil...</td>\n      <td>2</td>\n    </tr>\n    <tr>\n      <th>124</th>\n      <td>Johor Bahru, Shah Alam/Subang</td>\n      <td>2</td>\n    </tr>\n    <tr>\n      <th>125</th>\n      <td>Klang/Port Klang, Kuala Lumpur</td>\n      <td>2</td>\n    </tr>\n    <tr>\n      <th>126</th>\n      <td>Kuantan</td>\n      <td>2</td>\n    </tr>\n  </tbody>\n</table>\n<p>127 rows × 2 columns</p>\n</div>"
     },
     "execution_count": 65,
     "metadata": {},
     "output_type": "execute_result"
    }
   ],
   "source": [
    "location_df = new_df.location.value_counts()\n",
    "location_df = location_df.to_frame()\n",
    "location_df = location_df.reset_index()\n",
    "location_df = location_df.rename(columns={'index':'locations', 'location':'job_openings'})\n",
    "location_df = location_df. drop_duplicates()\n",
    "location_df.to_csv('./location.csv')\n",
    "location_df\n"
   ],
   "metadata": {
    "collapsed": false
   }
  },
  {
   "cell_type": "code",
   "execution_count": 66,
   "outputs": [],
   "source": [
    "location_top = location_df.head(20)\n",
    "location_bottom = location_df.tail(10)"
   ],
   "metadata": {
    "collapsed": false
   }
  },
  {
   "cell_type": "code",
   "execution_count": 68,
   "outputs": [
    {
     "data": {
      "application/vnd.plotly.v1+json": {
       "data": [
        {
         "alignmentgroup": "True",
         "hovertemplate": "job_openings=%{text}<br>locations=%{y}<extra></extra>",
         "legendgroup": "",
         "marker": {
          "color": "rgb(27,158,119)",
          "pattern": {
           "shape": ""
          }
         },
         "name": "",
         "offsetgroup": "",
         "orientation": "h",
         "showlegend": false,
         "text": [
          1443.0,
          322.0,
          263.0,
          160.0,
          120.0,
          115.0,
          99.0,
          86.0,
          82.0,
          72.0,
          66.0,
          52.0,
          45.0,
          38.0,
          36.0,
          36.0,
          36.0,
          32.0,
          30.0,
          30.0
         ],
         "textposition": "auto",
         "x": [
          1443,
          322,
          263,
          160,
          120,
          115,
          99,
          86,
          82,
          72,
          66,
          52,
          45,
          38,
          36,
          36,
          36,
          32,
          30,
          30
         ],
         "xaxis": "x",
         "y": [
          "Kuala Lumpur",
          "Petaling Jaya",
          "Selangor",
          "Penang",
          "Bayan Lepas",
          "Malaysia",
          "Cyberjaya",
          "Shah Alam/Subang",
          "George Town",
          "Singapore",
          "Johor Bahru",
          "Johor",
          "Melaka",
          "Puchong",
          "Kulim",
          "Subang Jaya",
          "Kuching",
          "Company Confidential",
          "Shah Alam/Subang, Shah Alam/Subang",
          "Klang/Port Klang"
         ],
         "yaxis": "y",
         "type": "bar"
        }
       ],
       "layout": {
        "template": {
         "data": {
          "histogram2dcontour": [
           {
            "type": "histogram2dcontour",
            "colorbar": {
             "outlinewidth": 0,
             "ticks": ""
            },
            "colorscale": [
             [
              0.0,
              "#0d0887"
             ],
             [
              0.1111111111111111,
              "#46039f"
             ],
             [
              0.2222222222222222,
              "#7201a8"
             ],
             [
              0.3333333333333333,
              "#9c179e"
             ],
             [
              0.4444444444444444,
              "#bd3786"
             ],
             [
              0.5555555555555556,
              "#d8576b"
             ],
             [
              0.6666666666666666,
              "#ed7953"
             ],
             [
              0.7777777777777778,
              "#fb9f3a"
             ],
             [
              0.8888888888888888,
              "#fdca26"
             ],
             [
              1.0,
              "#f0f921"
             ]
            ]
           }
          ],
          "choropleth": [
           {
            "type": "choropleth",
            "colorbar": {
             "outlinewidth": 0,
             "ticks": ""
            }
           }
          ],
          "histogram2d": [
           {
            "type": "histogram2d",
            "colorbar": {
             "outlinewidth": 0,
             "ticks": ""
            },
            "colorscale": [
             [
              0.0,
              "#0d0887"
             ],
             [
              0.1111111111111111,
              "#46039f"
             ],
             [
              0.2222222222222222,
              "#7201a8"
             ],
             [
              0.3333333333333333,
              "#9c179e"
             ],
             [
              0.4444444444444444,
              "#bd3786"
             ],
             [
              0.5555555555555556,
              "#d8576b"
             ],
             [
              0.6666666666666666,
              "#ed7953"
             ],
             [
              0.7777777777777778,
              "#fb9f3a"
             ],
             [
              0.8888888888888888,
              "#fdca26"
             ],
             [
              1.0,
              "#f0f921"
             ]
            ]
           }
          ],
          "heatmap": [
           {
            "type": "heatmap",
            "colorbar": {
             "outlinewidth": 0,
             "ticks": ""
            },
            "colorscale": [
             [
              0.0,
              "#0d0887"
             ],
             [
              0.1111111111111111,
              "#46039f"
             ],
             [
              0.2222222222222222,
              "#7201a8"
             ],
             [
              0.3333333333333333,
              "#9c179e"
             ],
             [
              0.4444444444444444,
              "#bd3786"
             ],
             [
              0.5555555555555556,
              "#d8576b"
             ],
             [
              0.6666666666666666,
              "#ed7953"
             ],
             [
              0.7777777777777778,
              "#fb9f3a"
             ],
             [
              0.8888888888888888,
              "#fdca26"
             ],
             [
              1.0,
              "#f0f921"
             ]
            ]
           }
          ],
          "heatmapgl": [
           {
            "type": "heatmapgl",
            "colorbar": {
             "outlinewidth": 0,
             "ticks": ""
            },
            "colorscale": [
             [
              0.0,
              "#0d0887"
             ],
             [
              0.1111111111111111,
              "#46039f"
             ],
             [
              0.2222222222222222,
              "#7201a8"
             ],
             [
              0.3333333333333333,
              "#9c179e"
             ],
             [
              0.4444444444444444,
              "#bd3786"
             ],
             [
              0.5555555555555556,
              "#d8576b"
             ],
             [
              0.6666666666666666,
              "#ed7953"
             ],
             [
              0.7777777777777778,
              "#fb9f3a"
             ],
             [
              0.8888888888888888,
              "#fdca26"
             ],
             [
              1.0,
              "#f0f921"
             ]
            ]
           }
          ],
          "contourcarpet": [
           {
            "type": "contourcarpet",
            "colorbar": {
             "outlinewidth": 0,
             "ticks": ""
            }
           }
          ],
          "contour": [
           {
            "type": "contour",
            "colorbar": {
             "outlinewidth": 0,
             "ticks": ""
            },
            "colorscale": [
             [
              0.0,
              "#0d0887"
             ],
             [
              0.1111111111111111,
              "#46039f"
             ],
             [
              0.2222222222222222,
              "#7201a8"
             ],
             [
              0.3333333333333333,
              "#9c179e"
             ],
             [
              0.4444444444444444,
              "#bd3786"
             ],
             [
              0.5555555555555556,
              "#d8576b"
             ],
             [
              0.6666666666666666,
              "#ed7953"
             ],
             [
              0.7777777777777778,
              "#fb9f3a"
             ],
             [
              0.8888888888888888,
              "#fdca26"
             ],
             [
              1.0,
              "#f0f921"
             ]
            ]
           }
          ],
          "surface": [
           {
            "type": "surface",
            "colorbar": {
             "outlinewidth": 0,
             "ticks": ""
            },
            "colorscale": [
             [
              0.0,
              "#0d0887"
             ],
             [
              0.1111111111111111,
              "#46039f"
             ],
             [
              0.2222222222222222,
              "#7201a8"
             ],
             [
              0.3333333333333333,
              "#9c179e"
             ],
             [
              0.4444444444444444,
              "#bd3786"
             ],
             [
              0.5555555555555556,
              "#d8576b"
             ],
             [
              0.6666666666666666,
              "#ed7953"
             ],
             [
              0.7777777777777778,
              "#fb9f3a"
             ],
             [
              0.8888888888888888,
              "#fdca26"
             ],
             [
              1.0,
              "#f0f921"
             ]
            ]
           }
          ],
          "mesh3d": [
           {
            "type": "mesh3d",
            "colorbar": {
             "outlinewidth": 0,
             "ticks": ""
            }
           }
          ],
          "scatter": [
           {
            "marker": {
             "line": {
              "color": "#283442"
             }
            },
            "type": "scatter"
           }
          ],
          "parcoords": [
           {
            "type": "parcoords",
            "line": {
             "colorbar": {
              "outlinewidth": 0,
              "ticks": ""
             }
            }
           }
          ],
          "scatterpolargl": [
           {
            "type": "scatterpolargl",
            "marker": {
             "colorbar": {
              "outlinewidth": 0,
              "ticks": ""
             }
            }
           }
          ],
          "bar": [
           {
            "error_x": {
             "color": "#f2f5fa"
            },
            "error_y": {
             "color": "#f2f5fa"
            },
            "marker": {
             "line": {
              "color": "rgb(17,17,17)",
              "width": 0.5
             },
             "pattern": {
              "fillmode": "overlay",
              "size": 10,
              "solidity": 0.2
             }
            },
            "type": "bar"
           }
          ],
          "scattergeo": [
           {
            "type": "scattergeo",
            "marker": {
             "colorbar": {
              "outlinewidth": 0,
              "ticks": ""
             }
            }
           }
          ],
          "scatterpolar": [
           {
            "type": "scatterpolar",
            "marker": {
             "colorbar": {
              "outlinewidth": 0,
              "ticks": ""
             }
            }
           }
          ],
          "histogram": [
           {
            "marker": {
             "pattern": {
              "fillmode": "overlay",
              "size": 10,
              "solidity": 0.2
             }
            },
            "type": "histogram"
           }
          ],
          "scattergl": [
           {
            "marker": {
             "line": {
              "color": "#283442"
             }
            },
            "type": "scattergl"
           }
          ],
          "scatter3d": [
           {
            "type": "scatter3d",
            "line": {
             "colorbar": {
              "outlinewidth": 0,
              "ticks": ""
             }
            },
            "marker": {
             "colorbar": {
              "outlinewidth": 0,
              "ticks": ""
             }
            }
           }
          ],
          "scattermapbox": [
           {
            "type": "scattermapbox",
            "marker": {
             "colorbar": {
              "outlinewidth": 0,
              "ticks": ""
             }
            }
           }
          ],
          "scatterternary": [
           {
            "type": "scatterternary",
            "marker": {
             "colorbar": {
              "outlinewidth": 0,
              "ticks": ""
             }
            }
           }
          ],
          "scattercarpet": [
           {
            "type": "scattercarpet",
            "marker": {
             "colorbar": {
              "outlinewidth": 0,
              "ticks": ""
             }
            }
           }
          ],
          "carpet": [
           {
            "aaxis": {
             "endlinecolor": "#A2B1C6",
             "gridcolor": "#506784",
             "linecolor": "#506784",
             "minorgridcolor": "#506784",
             "startlinecolor": "#A2B1C6"
            },
            "baxis": {
             "endlinecolor": "#A2B1C6",
             "gridcolor": "#506784",
             "linecolor": "#506784",
             "minorgridcolor": "#506784",
             "startlinecolor": "#A2B1C6"
            },
            "type": "carpet"
           }
          ],
          "table": [
           {
            "cells": {
             "fill": {
              "color": "#506784"
             },
             "line": {
              "color": "rgb(17,17,17)"
             }
            },
            "header": {
             "fill": {
              "color": "#2a3f5f"
             },
             "line": {
              "color": "rgb(17,17,17)"
             }
            },
            "type": "table"
           }
          ],
          "barpolar": [
           {
            "marker": {
             "line": {
              "color": "rgb(17,17,17)",
              "width": 0.5
             },
             "pattern": {
              "fillmode": "overlay",
              "size": 10,
              "solidity": 0.2
             }
            },
            "type": "barpolar"
           }
          ],
          "pie": [
           {
            "automargin": true,
            "type": "pie"
           }
          ]
         },
         "layout": {
          "autotypenumbers": "strict",
          "colorway": [
           "#636efa",
           "#EF553B",
           "#00cc96",
           "#ab63fa",
           "#FFA15A",
           "#19d3f3",
           "#FF6692",
           "#B6E880",
           "#FF97FF",
           "#FECB52"
          ],
          "font": {
           "color": "#f2f5fa"
          },
          "hovermode": "closest",
          "hoverlabel": {
           "align": "left"
          },
          "paper_bgcolor": "rgb(17,17,17)",
          "plot_bgcolor": "rgb(17,17,17)",
          "polar": {
           "bgcolor": "rgb(17,17,17)",
           "angularaxis": {
            "gridcolor": "#506784",
            "linecolor": "#506784",
            "ticks": ""
           },
           "radialaxis": {
            "gridcolor": "#506784",
            "linecolor": "#506784",
            "ticks": ""
           }
          },
          "ternary": {
           "bgcolor": "rgb(17,17,17)",
           "aaxis": {
            "gridcolor": "#506784",
            "linecolor": "#506784",
            "ticks": ""
           },
           "baxis": {
            "gridcolor": "#506784",
            "linecolor": "#506784",
            "ticks": ""
           },
           "caxis": {
            "gridcolor": "#506784",
            "linecolor": "#506784",
            "ticks": ""
           }
          },
          "coloraxis": {
           "colorbar": {
            "outlinewidth": 0,
            "ticks": ""
           }
          },
          "colorscale": {
           "sequential": [
            [
             0.0,
             "#0d0887"
            ],
            [
             0.1111111111111111,
             "#46039f"
            ],
            [
             0.2222222222222222,
             "#7201a8"
            ],
            [
             0.3333333333333333,
             "#9c179e"
            ],
            [
             0.4444444444444444,
             "#bd3786"
            ],
            [
             0.5555555555555556,
             "#d8576b"
            ],
            [
             0.6666666666666666,
             "#ed7953"
            ],
            [
             0.7777777777777778,
             "#fb9f3a"
            ],
            [
             0.8888888888888888,
             "#fdca26"
            ],
            [
             1.0,
             "#f0f921"
            ]
           ],
           "sequentialminus": [
            [
             0.0,
             "#0d0887"
            ],
            [
             0.1111111111111111,
             "#46039f"
            ],
            [
             0.2222222222222222,
             "#7201a8"
            ],
            [
             0.3333333333333333,
             "#9c179e"
            ],
            [
             0.4444444444444444,
             "#bd3786"
            ],
            [
             0.5555555555555556,
             "#d8576b"
            ],
            [
             0.6666666666666666,
             "#ed7953"
            ],
            [
             0.7777777777777778,
             "#fb9f3a"
            ],
            [
             0.8888888888888888,
             "#fdca26"
            ],
            [
             1.0,
             "#f0f921"
            ]
           ],
           "diverging": [
            [
             0,
             "#8e0152"
            ],
            [
             0.1,
             "#c51b7d"
            ],
            [
             0.2,
             "#de77ae"
            ],
            [
             0.3,
             "#f1b6da"
            ],
            [
             0.4,
             "#fde0ef"
            ],
            [
             0.5,
             "#f7f7f7"
            ],
            [
             0.6,
             "#e6f5d0"
            ],
            [
             0.7,
             "#b8e186"
            ],
            [
             0.8,
             "#7fbc41"
            ],
            [
             0.9,
             "#4d9221"
            ],
            [
             1,
             "#276419"
            ]
           ]
          },
          "xaxis": {
           "gridcolor": "#283442",
           "linecolor": "#506784",
           "ticks": "",
           "title": {
            "standoff": 15
           },
           "zerolinecolor": "#283442",
           "automargin": true,
           "zerolinewidth": 2
          },
          "yaxis": {
           "gridcolor": "#283442",
           "linecolor": "#506784",
           "ticks": "",
           "title": {
            "standoff": 15
           },
           "zerolinecolor": "#283442",
           "automargin": true,
           "zerolinewidth": 2
          },
          "scene": {
           "xaxis": {
            "backgroundcolor": "rgb(17,17,17)",
            "gridcolor": "#506784",
            "linecolor": "#506784",
            "showbackground": true,
            "ticks": "",
            "zerolinecolor": "#C8D4E3",
            "gridwidth": 2
           },
           "yaxis": {
            "backgroundcolor": "rgb(17,17,17)",
            "gridcolor": "#506784",
            "linecolor": "#506784",
            "showbackground": true,
            "ticks": "",
            "zerolinecolor": "#C8D4E3",
            "gridwidth": 2
           },
           "zaxis": {
            "backgroundcolor": "rgb(17,17,17)",
            "gridcolor": "#506784",
            "linecolor": "#506784",
            "showbackground": true,
            "ticks": "",
            "zerolinecolor": "#C8D4E3",
            "gridwidth": 2
           }
          },
          "shapedefaults": {
           "line": {
            "color": "#f2f5fa"
           }
          },
          "annotationdefaults": {
           "arrowcolor": "#f2f5fa",
           "arrowhead": 0,
           "arrowwidth": 1
          },
          "geo": {
           "bgcolor": "rgb(17,17,17)",
           "landcolor": "rgb(17,17,17)",
           "subunitcolor": "#506784",
           "showland": true,
           "showlakes": true,
           "lakecolor": "rgb(17,17,17)"
          },
          "title": {
           "x": 0.05
          },
          "updatemenudefaults": {
           "bgcolor": "#506784",
           "borderwidth": 0
          },
          "sliderdefaults": {
           "bgcolor": "#C8D4E3",
           "borderwidth": 1,
           "bordercolor": "rgb(17,17,17)",
           "tickwidth": 0
          },
          "mapbox": {
           "style": "dark"
          }
         }
        },
        "xaxis": {
         "anchor": "y",
         "domain": [
          0.0,
          1.0
         ],
         "title": {
          "text": "job_openings"
         }
        },
        "yaxis": {
         "anchor": "x",
         "domain": [
          0.0,
          1.0
         ],
         "title": {
          "text": "locations"
         }
        },
        "legend": {
         "tracegroupgap": 0
        },
        "title": {
         "text": "Top 20 locations with the most job openings"
        },
        "barmode": "relative"
       },
       "config": {
        "plotlyServerURL": "https://plot.ly"
       }
      },
      "text/html": "<div>                            <div id=\"9673c622-01ef-42d3-bd6a-49515b56c58e\" class=\"plotly-graph-div\" style=\"height:525px; width:100%;\"></div>            <script type=\"text/javascript\">                require([\"plotly\"], function(Plotly) {                    window.PLOTLYENV=window.PLOTLYENV || {};                                    if (document.getElementById(\"9673c622-01ef-42d3-bd6a-49515b56c58e\")) {                    Plotly.newPlot(                        \"9673c622-01ef-42d3-bd6a-49515b56c58e\",                        [{\"alignmentgroup\":\"True\",\"hovertemplate\":\"job_openings=%{text}<br>locations=%{y}<extra></extra>\",\"legendgroup\":\"\",\"marker\":{\"color\":\"rgb(27,158,119)\",\"pattern\":{\"shape\":\"\"}},\"name\":\"\",\"offsetgroup\":\"\",\"orientation\":\"h\",\"showlegend\":false,\"text\":[1443.0,322.0,263.0,160.0,120.0,115.0,99.0,86.0,82.0,72.0,66.0,52.0,45.0,38.0,36.0,36.0,36.0,32.0,30.0,30.0],\"textposition\":\"auto\",\"x\":[1443,322,263,160,120,115,99,86,82,72,66,52,45,38,36,36,36,32,30,30],\"xaxis\":\"x\",\"y\":[\"Kuala Lumpur\",\"Petaling Jaya\",\"Selangor\",\"Penang\",\"Bayan Lepas\",\"Malaysia\",\"Cyberjaya\",\"Shah Alam/Subang\",\"George Town\",\"Singapore\",\"Johor Bahru\",\"Johor\",\"Melaka\",\"Puchong\",\"Kulim\",\"Subang Jaya\",\"Kuching\",\"Company Confidential\",\"Shah Alam/Subang, Shah Alam/Subang\",\"Klang/Port Klang\"],\"yaxis\":\"y\",\"type\":\"bar\"}],                        {\"template\":{\"data\":{\"histogram2dcontour\":[{\"type\":\"histogram2dcontour\",\"colorbar\":{\"outlinewidth\":0,\"ticks\":\"\"},\"colorscale\":[[0.0,\"#0d0887\"],[0.1111111111111111,\"#46039f\"],[0.2222222222222222,\"#7201a8\"],[0.3333333333333333,\"#9c179e\"],[0.4444444444444444,\"#bd3786\"],[0.5555555555555556,\"#d8576b\"],[0.6666666666666666,\"#ed7953\"],[0.7777777777777778,\"#fb9f3a\"],[0.8888888888888888,\"#fdca26\"],[1.0,\"#f0f921\"]]}],\"choropleth\":[{\"type\":\"choropleth\",\"colorbar\":{\"outlinewidth\":0,\"ticks\":\"\"}}],\"histogram2d\":[{\"type\":\"histogram2d\",\"colorbar\":{\"outlinewidth\":0,\"ticks\":\"\"},\"colorscale\":[[0.0,\"#0d0887\"],[0.1111111111111111,\"#46039f\"],[0.2222222222222222,\"#7201a8\"],[0.3333333333333333,\"#9c179e\"],[0.4444444444444444,\"#bd3786\"],[0.5555555555555556,\"#d8576b\"],[0.6666666666666666,\"#ed7953\"],[0.7777777777777778,\"#fb9f3a\"],[0.8888888888888888,\"#fdca26\"],[1.0,\"#f0f921\"]]}],\"heatmap\":[{\"type\":\"heatmap\",\"colorbar\":{\"outlinewidth\":0,\"ticks\":\"\"},\"colorscale\":[[0.0,\"#0d0887\"],[0.1111111111111111,\"#46039f\"],[0.2222222222222222,\"#7201a8\"],[0.3333333333333333,\"#9c179e\"],[0.4444444444444444,\"#bd3786\"],[0.5555555555555556,\"#d8576b\"],[0.6666666666666666,\"#ed7953\"],[0.7777777777777778,\"#fb9f3a\"],[0.8888888888888888,\"#fdca26\"],[1.0,\"#f0f921\"]]}],\"heatmapgl\":[{\"type\":\"heatmapgl\",\"colorbar\":{\"outlinewidth\":0,\"ticks\":\"\"},\"colorscale\":[[0.0,\"#0d0887\"],[0.1111111111111111,\"#46039f\"],[0.2222222222222222,\"#7201a8\"],[0.3333333333333333,\"#9c179e\"],[0.4444444444444444,\"#bd3786\"],[0.5555555555555556,\"#d8576b\"],[0.6666666666666666,\"#ed7953\"],[0.7777777777777778,\"#fb9f3a\"],[0.8888888888888888,\"#fdca26\"],[1.0,\"#f0f921\"]]}],\"contourcarpet\":[{\"type\":\"contourcarpet\",\"colorbar\":{\"outlinewidth\":0,\"ticks\":\"\"}}],\"contour\":[{\"type\":\"contour\",\"colorbar\":{\"outlinewidth\":0,\"ticks\":\"\"},\"colorscale\":[[0.0,\"#0d0887\"],[0.1111111111111111,\"#46039f\"],[0.2222222222222222,\"#7201a8\"],[0.3333333333333333,\"#9c179e\"],[0.4444444444444444,\"#bd3786\"],[0.5555555555555556,\"#d8576b\"],[0.6666666666666666,\"#ed7953\"],[0.7777777777777778,\"#fb9f3a\"],[0.8888888888888888,\"#fdca26\"],[1.0,\"#f0f921\"]]}],\"surface\":[{\"type\":\"surface\",\"colorbar\":{\"outlinewidth\":0,\"ticks\":\"\"},\"colorscale\":[[0.0,\"#0d0887\"],[0.1111111111111111,\"#46039f\"],[0.2222222222222222,\"#7201a8\"],[0.3333333333333333,\"#9c179e\"],[0.4444444444444444,\"#bd3786\"],[0.5555555555555556,\"#d8576b\"],[0.6666666666666666,\"#ed7953\"],[0.7777777777777778,\"#fb9f3a\"],[0.8888888888888888,\"#fdca26\"],[1.0,\"#f0f921\"]]}],\"mesh3d\":[{\"type\":\"mesh3d\",\"colorbar\":{\"outlinewidth\":0,\"ticks\":\"\"}}],\"scatter\":[{\"marker\":{\"line\":{\"color\":\"#283442\"}},\"type\":\"scatter\"}],\"parcoords\":[{\"type\":\"parcoords\",\"line\":{\"colorbar\":{\"outlinewidth\":0,\"ticks\":\"\"}}}],\"scatterpolargl\":[{\"type\":\"scatterpolargl\",\"marker\":{\"colorbar\":{\"outlinewidth\":0,\"ticks\":\"\"}}}],\"bar\":[{\"error_x\":{\"color\":\"#f2f5fa\"},\"error_y\":{\"color\":\"#f2f5fa\"},\"marker\":{\"line\":{\"color\":\"rgb(17,17,17)\",\"width\":0.5},\"pattern\":{\"fillmode\":\"overlay\",\"size\":10,\"solidity\":0.2}},\"type\":\"bar\"}],\"scattergeo\":[{\"type\":\"scattergeo\",\"marker\":{\"colorbar\":{\"outlinewidth\":0,\"ticks\":\"\"}}}],\"scatterpolar\":[{\"type\":\"scatterpolar\",\"marker\":{\"colorbar\":{\"outlinewidth\":0,\"ticks\":\"\"}}}],\"histogram\":[{\"marker\":{\"pattern\":{\"fillmode\":\"overlay\",\"size\":10,\"solidity\":0.2}},\"type\":\"histogram\"}],\"scattergl\":[{\"marker\":{\"line\":{\"color\":\"#283442\"}},\"type\":\"scattergl\"}],\"scatter3d\":[{\"type\":\"scatter3d\",\"line\":{\"colorbar\":{\"outlinewidth\":0,\"ticks\":\"\"}},\"marker\":{\"colorbar\":{\"outlinewidth\":0,\"ticks\":\"\"}}}],\"scattermapbox\":[{\"type\":\"scattermapbox\",\"marker\":{\"colorbar\":{\"outlinewidth\":0,\"ticks\":\"\"}}}],\"scatterternary\":[{\"type\":\"scatterternary\",\"marker\":{\"colorbar\":{\"outlinewidth\":0,\"ticks\":\"\"}}}],\"scattercarpet\":[{\"type\":\"scattercarpet\",\"marker\":{\"colorbar\":{\"outlinewidth\":0,\"ticks\":\"\"}}}],\"carpet\":[{\"aaxis\":{\"endlinecolor\":\"#A2B1C6\",\"gridcolor\":\"#506784\",\"linecolor\":\"#506784\",\"minorgridcolor\":\"#506784\",\"startlinecolor\":\"#A2B1C6\"},\"baxis\":{\"endlinecolor\":\"#A2B1C6\",\"gridcolor\":\"#506784\",\"linecolor\":\"#506784\",\"minorgridcolor\":\"#506784\",\"startlinecolor\":\"#A2B1C6\"},\"type\":\"carpet\"}],\"table\":[{\"cells\":{\"fill\":{\"color\":\"#506784\"},\"line\":{\"color\":\"rgb(17,17,17)\"}},\"header\":{\"fill\":{\"color\":\"#2a3f5f\"},\"line\":{\"color\":\"rgb(17,17,17)\"}},\"type\":\"table\"}],\"barpolar\":[{\"marker\":{\"line\":{\"color\":\"rgb(17,17,17)\",\"width\":0.5},\"pattern\":{\"fillmode\":\"overlay\",\"size\":10,\"solidity\":0.2}},\"type\":\"barpolar\"}],\"pie\":[{\"automargin\":true,\"type\":\"pie\"}]},\"layout\":{\"autotypenumbers\":\"strict\",\"colorway\":[\"#636efa\",\"#EF553B\",\"#00cc96\",\"#ab63fa\",\"#FFA15A\",\"#19d3f3\",\"#FF6692\",\"#B6E880\",\"#FF97FF\",\"#FECB52\"],\"font\":{\"color\":\"#f2f5fa\"},\"hovermode\":\"closest\",\"hoverlabel\":{\"align\":\"left\"},\"paper_bgcolor\":\"rgb(17,17,17)\",\"plot_bgcolor\":\"rgb(17,17,17)\",\"polar\":{\"bgcolor\":\"rgb(17,17,17)\",\"angularaxis\":{\"gridcolor\":\"#506784\",\"linecolor\":\"#506784\",\"ticks\":\"\"},\"radialaxis\":{\"gridcolor\":\"#506784\",\"linecolor\":\"#506784\",\"ticks\":\"\"}},\"ternary\":{\"bgcolor\":\"rgb(17,17,17)\",\"aaxis\":{\"gridcolor\":\"#506784\",\"linecolor\":\"#506784\",\"ticks\":\"\"},\"baxis\":{\"gridcolor\":\"#506784\",\"linecolor\":\"#506784\",\"ticks\":\"\"},\"caxis\":{\"gridcolor\":\"#506784\",\"linecolor\":\"#506784\",\"ticks\":\"\"}},\"coloraxis\":{\"colorbar\":{\"outlinewidth\":0,\"ticks\":\"\"}},\"colorscale\":{\"sequential\":[[0.0,\"#0d0887\"],[0.1111111111111111,\"#46039f\"],[0.2222222222222222,\"#7201a8\"],[0.3333333333333333,\"#9c179e\"],[0.4444444444444444,\"#bd3786\"],[0.5555555555555556,\"#d8576b\"],[0.6666666666666666,\"#ed7953\"],[0.7777777777777778,\"#fb9f3a\"],[0.8888888888888888,\"#fdca26\"],[1.0,\"#f0f921\"]],\"sequentialminus\":[[0.0,\"#0d0887\"],[0.1111111111111111,\"#46039f\"],[0.2222222222222222,\"#7201a8\"],[0.3333333333333333,\"#9c179e\"],[0.4444444444444444,\"#bd3786\"],[0.5555555555555556,\"#d8576b\"],[0.6666666666666666,\"#ed7953\"],[0.7777777777777778,\"#fb9f3a\"],[0.8888888888888888,\"#fdca26\"],[1.0,\"#f0f921\"]],\"diverging\":[[0,\"#8e0152\"],[0.1,\"#c51b7d\"],[0.2,\"#de77ae\"],[0.3,\"#f1b6da\"],[0.4,\"#fde0ef\"],[0.5,\"#f7f7f7\"],[0.6,\"#e6f5d0\"],[0.7,\"#b8e186\"],[0.8,\"#7fbc41\"],[0.9,\"#4d9221\"],[1,\"#276419\"]]},\"xaxis\":{\"gridcolor\":\"#283442\",\"linecolor\":\"#506784\",\"ticks\":\"\",\"title\":{\"standoff\":15},\"zerolinecolor\":\"#283442\",\"automargin\":true,\"zerolinewidth\":2},\"yaxis\":{\"gridcolor\":\"#283442\",\"linecolor\":\"#506784\",\"ticks\":\"\",\"title\":{\"standoff\":15},\"zerolinecolor\":\"#283442\",\"automargin\":true,\"zerolinewidth\":2},\"scene\":{\"xaxis\":{\"backgroundcolor\":\"rgb(17,17,17)\",\"gridcolor\":\"#506784\",\"linecolor\":\"#506784\",\"showbackground\":true,\"ticks\":\"\",\"zerolinecolor\":\"#C8D4E3\",\"gridwidth\":2},\"yaxis\":{\"backgroundcolor\":\"rgb(17,17,17)\",\"gridcolor\":\"#506784\",\"linecolor\":\"#506784\",\"showbackground\":true,\"ticks\":\"\",\"zerolinecolor\":\"#C8D4E3\",\"gridwidth\":2},\"zaxis\":{\"backgroundcolor\":\"rgb(17,17,17)\",\"gridcolor\":\"#506784\",\"linecolor\":\"#506784\",\"showbackground\":true,\"ticks\":\"\",\"zerolinecolor\":\"#C8D4E3\",\"gridwidth\":2}},\"shapedefaults\":{\"line\":{\"color\":\"#f2f5fa\"}},\"annotationdefaults\":{\"arrowcolor\":\"#f2f5fa\",\"arrowhead\":0,\"arrowwidth\":1},\"geo\":{\"bgcolor\":\"rgb(17,17,17)\",\"landcolor\":\"rgb(17,17,17)\",\"subunitcolor\":\"#506784\",\"showland\":true,\"showlakes\":true,\"lakecolor\":\"rgb(17,17,17)\"},\"title\":{\"x\":0.05},\"updatemenudefaults\":{\"bgcolor\":\"#506784\",\"borderwidth\":0},\"sliderdefaults\":{\"bgcolor\":\"#C8D4E3\",\"borderwidth\":1,\"bordercolor\":\"rgb(17,17,17)\",\"tickwidth\":0},\"mapbox\":{\"style\":\"dark\"}}},\"xaxis\":{\"anchor\":\"y\",\"domain\":[0.0,1.0],\"title\":{\"text\":\"job_openings\"}},\"yaxis\":{\"anchor\":\"x\",\"domain\":[0.0,1.0],\"title\":{\"text\":\"locations\"}},\"legend\":{\"tracegroupgap\":0},\"title\":{\"text\":\"Top 20 locations with the most job openings\"},\"barmode\":\"relative\"},                        {\"responsive\": true}                    ).then(function(){\n                            \nvar gd = document.getElementById('9673c622-01ef-42d3-bd6a-49515b56c58e');\nvar x = new MutationObserver(function (mutations, observer) {{\n        var display = window.getComputedStyle(gd).display;\n        if (!display || display === 'none') {{\n            console.log([gd, 'removed!']);\n            Plotly.purge(gd);\n            observer.disconnect();\n        }}\n}});\n\n// Listen for the removal of the full notebook cells\nvar notebookContainer = gd.closest('#notebook-container');\nif (notebookContainer) {{\n    x.observe(notebookContainer, {childList: true});\n}}\n\n// Listen for the clearing of the current output cell\nvar outputEl = gd.closest('.output');\nif (outputEl) {{\n    x.observe(outputEl, {childList: true});\n}}\n\n                        })                };                });            </script>        </div>"
     },
     "metadata": {},
     "output_type": "display_data"
    }
   ],
   "source": [
    "fig = px.bar(location_top, x='job_openings', y='locations', text='job_openings',\n",
    "             color_discrete_sequence=px.colors.qualitative.Dark2, orientation='h',\n",
    "             title=\"Top 20 locations with the most job openings\")\n",
    "#fig.update_traces(textfont_size=12, textangle=0, textposition=\"outside\", cliponaxis=False)\n",
    "fig.show()"
   ],
   "metadata": {
    "collapsed": false
   }
  },
  {
   "cell_type": "code",
   "execution_count": 69,
   "outputs": [
    {
     "data": {
      "application/vnd.plotly.v1+json": {
       "data": [
        {
         "alignmentgroup": "True",
         "hovertemplate": "job_openings=%{text}<br>locations=%{y}<extra></extra>",
         "legendgroup": "",
         "marker": {
          "color": "rgb(27,158,119)",
          "pattern": {
           "shape": ""
          }
         },
         "name": "",
         "offsetgroup": "",
         "orientation": "h",
         "showlegend": false,
         "text": [
          1443.0,
          322.0,
          263.0,
          160.0,
          120.0,
          115.0,
          99.0,
          86.0,
          82.0,
          72.0,
          66.0,
          52.0,
          45.0,
          38.0,
          36.0,
          36.0,
          36.0,
          32.0,
          30.0,
          30.0
         ],
         "textposition": "outside",
         "x": [
          1443,
          322,
          263,
          160,
          120,
          115,
          99,
          86,
          82,
          72,
          66,
          52,
          45,
          38,
          36,
          36,
          36,
          32,
          30,
          30
         ],
         "xaxis": "x",
         "y": [
          "Kuala Lumpur",
          "Petaling Jaya",
          "Selangor",
          "Penang",
          "Bayan Lepas",
          "Malaysia",
          "Cyberjaya",
          "Shah Alam/Subang",
          "George Town",
          "Singapore",
          "Johor Bahru",
          "Johor",
          "Melaka",
          "Puchong",
          "Kulim",
          "Subang Jaya",
          "Kuching",
          "Company Confidential",
          "Shah Alam/Subang, Shah Alam/Subang",
          "Klang/Port Klang"
         ],
         "yaxis": "y",
         "type": "bar",
         "textfont": {
          "size": 12
         },
         "cliponaxis": false,
         "textangle": 0
        }
       ],
       "layout": {
        "template": {
         "data": {
          "histogram2dcontour": [
           {
            "type": "histogram2dcontour",
            "colorbar": {
             "outlinewidth": 0,
             "ticks": ""
            },
            "colorscale": [
             [
              0.0,
              "#0d0887"
             ],
             [
              0.1111111111111111,
              "#46039f"
             ],
             [
              0.2222222222222222,
              "#7201a8"
             ],
             [
              0.3333333333333333,
              "#9c179e"
             ],
             [
              0.4444444444444444,
              "#bd3786"
             ],
             [
              0.5555555555555556,
              "#d8576b"
             ],
             [
              0.6666666666666666,
              "#ed7953"
             ],
             [
              0.7777777777777778,
              "#fb9f3a"
             ],
             [
              0.8888888888888888,
              "#fdca26"
             ],
             [
              1.0,
              "#f0f921"
             ]
            ]
           }
          ],
          "choropleth": [
           {
            "type": "choropleth",
            "colorbar": {
             "outlinewidth": 0,
             "ticks": ""
            }
           }
          ],
          "histogram2d": [
           {
            "type": "histogram2d",
            "colorbar": {
             "outlinewidth": 0,
             "ticks": ""
            },
            "colorscale": [
             [
              0.0,
              "#0d0887"
             ],
             [
              0.1111111111111111,
              "#46039f"
             ],
             [
              0.2222222222222222,
              "#7201a8"
             ],
             [
              0.3333333333333333,
              "#9c179e"
             ],
             [
              0.4444444444444444,
              "#bd3786"
             ],
             [
              0.5555555555555556,
              "#d8576b"
             ],
             [
              0.6666666666666666,
              "#ed7953"
             ],
             [
              0.7777777777777778,
              "#fb9f3a"
             ],
             [
              0.8888888888888888,
              "#fdca26"
             ],
             [
              1.0,
              "#f0f921"
             ]
            ]
           }
          ],
          "heatmap": [
           {
            "type": "heatmap",
            "colorbar": {
             "outlinewidth": 0,
             "ticks": ""
            },
            "colorscale": [
             [
              0.0,
              "#0d0887"
             ],
             [
              0.1111111111111111,
              "#46039f"
             ],
             [
              0.2222222222222222,
              "#7201a8"
             ],
             [
              0.3333333333333333,
              "#9c179e"
             ],
             [
              0.4444444444444444,
              "#bd3786"
             ],
             [
              0.5555555555555556,
              "#d8576b"
             ],
             [
              0.6666666666666666,
              "#ed7953"
             ],
             [
              0.7777777777777778,
              "#fb9f3a"
             ],
             [
              0.8888888888888888,
              "#fdca26"
             ],
             [
              1.0,
              "#f0f921"
             ]
            ]
           }
          ],
          "heatmapgl": [
           {
            "type": "heatmapgl",
            "colorbar": {
             "outlinewidth": 0,
             "ticks": ""
            },
            "colorscale": [
             [
              0.0,
              "#0d0887"
             ],
             [
              0.1111111111111111,
              "#46039f"
             ],
             [
              0.2222222222222222,
              "#7201a8"
             ],
             [
              0.3333333333333333,
              "#9c179e"
             ],
             [
              0.4444444444444444,
              "#bd3786"
             ],
             [
              0.5555555555555556,
              "#d8576b"
             ],
             [
              0.6666666666666666,
              "#ed7953"
             ],
             [
              0.7777777777777778,
              "#fb9f3a"
             ],
             [
              0.8888888888888888,
              "#fdca26"
             ],
             [
              1.0,
              "#f0f921"
             ]
            ]
           }
          ],
          "contourcarpet": [
           {
            "type": "contourcarpet",
            "colorbar": {
             "outlinewidth": 0,
             "ticks": ""
            }
           }
          ],
          "contour": [
           {
            "type": "contour",
            "colorbar": {
             "outlinewidth": 0,
             "ticks": ""
            },
            "colorscale": [
             [
              0.0,
              "#0d0887"
             ],
             [
              0.1111111111111111,
              "#46039f"
             ],
             [
              0.2222222222222222,
              "#7201a8"
             ],
             [
              0.3333333333333333,
              "#9c179e"
             ],
             [
              0.4444444444444444,
              "#bd3786"
             ],
             [
              0.5555555555555556,
              "#d8576b"
             ],
             [
              0.6666666666666666,
              "#ed7953"
             ],
             [
              0.7777777777777778,
              "#fb9f3a"
             ],
             [
              0.8888888888888888,
              "#fdca26"
             ],
             [
              1.0,
              "#f0f921"
             ]
            ]
           }
          ],
          "surface": [
           {
            "type": "surface",
            "colorbar": {
             "outlinewidth": 0,
             "ticks": ""
            },
            "colorscale": [
             [
              0.0,
              "#0d0887"
             ],
             [
              0.1111111111111111,
              "#46039f"
             ],
             [
              0.2222222222222222,
              "#7201a8"
             ],
             [
              0.3333333333333333,
              "#9c179e"
             ],
             [
              0.4444444444444444,
              "#bd3786"
             ],
             [
              0.5555555555555556,
              "#d8576b"
             ],
             [
              0.6666666666666666,
              "#ed7953"
             ],
             [
              0.7777777777777778,
              "#fb9f3a"
             ],
             [
              0.8888888888888888,
              "#fdca26"
             ],
             [
              1.0,
              "#f0f921"
             ]
            ]
           }
          ],
          "mesh3d": [
           {
            "type": "mesh3d",
            "colorbar": {
             "outlinewidth": 0,
             "ticks": ""
            }
           }
          ],
          "scatter": [
           {
            "marker": {
             "line": {
              "color": "#283442"
             }
            },
            "type": "scatter"
           }
          ],
          "parcoords": [
           {
            "type": "parcoords",
            "line": {
             "colorbar": {
              "outlinewidth": 0,
              "ticks": ""
             }
            }
           }
          ],
          "scatterpolargl": [
           {
            "type": "scatterpolargl",
            "marker": {
             "colorbar": {
              "outlinewidth": 0,
              "ticks": ""
             }
            }
           }
          ],
          "bar": [
           {
            "error_x": {
             "color": "#f2f5fa"
            },
            "error_y": {
             "color": "#f2f5fa"
            },
            "marker": {
             "line": {
              "color": "rgb(17,17,17)",
              "width": 0.5
             },
             "pattern": {
              "fillmode": "overlay",
              "size": 10,
              "solidity": 0.2
             }
            },
            "type": "bar"
           }
          ],
          "scattergeo": [
           {
            "type": "scattergeo",
            "marker": {
             "colorbar": {
              "outlinewidth": 0,
              "ticks": ""
             }
            }
           }
          ],
          "scatterpolar": [
           {
            "type": "scatterpolar",
            "marker": {
             "colorbar": {
              "outlinewidth": 0,
              "ticks": ""
             }
            }
           }
          ],
          "histogram": [
           {
            "marker": {
             "pattern": {
              "fillmode": "overlay",
              "size": 10,
              "solidity": 0.2
             }
            },
            "type": "histogram"
           }
          ],
          "scattergl": [
           {
            "marker": {
             "line": {
              "color": "#283442"
             }
            },
            "type": "scattergl"
           }
          ],
          "scatter3d": [
           {
            "type": "scatter3d",
            "line": {
             "colorbar": {
              "outlinewidth": 0,
              "ticks": ""
             }
            },
            "marker": {
             "colorbar": {
              "outlinewidth": 0,
              "ticks": ""
             }
            }
           }
          ],
          "scattermapbox": [
           {
            "type": "scattermapbox",
            "marker": {
             "colorbar": {
              "outlinewidth": 0,
              "ticks": ""
             }
            }
           }
          ],
          "scatterternary": [
           {
            "type": "scatterternary",
            "marker": {
             "colorbar": {
              "outlinewidth": 0,
              "ticks": ""
             }
            }
           }
          ],
          "scattercarpet": [
           {
            "type": "scattercarpet",
            "marker": {
             "colorbar": {
              "outlinewidth": 0,
              "ticks": ""
             }
            }
           }
          ],
          "carpet": [
           {
            "aaxis": {
             "endlinecolor": "#A2B1C6",
             "gridcolor": "#506784",
             "linecolor": "#506784",
             "minorgridcolor": "#506784",
             "startlinecolor": "#A2B1C6"
            },
            "baxis": {
             "endlinecolor": "#A2B1C6",
             "gridcolor": "#506784",
             "linecolor": "#506784",
             "minorgridcolor": "#506784",
             "startlinecolor": "#A2B1C6"
            },
            "type": "carpet"
           }
          ],
          "table": [
           {
            "cells": {
             "fill": {
              "color": "#506784"
             },
             "line": {
              "color": "rgb(17,17,17)"
             }
            },
            "header": {
             "fill": {
              "color": "#2a3f5f"
             },
             "line": {
              "color": "rgb(17,17,17)"
             }
            },
            "type": "table"
           }
          ],
          "barpolar": [
           {
            "marker": {
             "line": {
              "color": "rgb(17,17,17)",
              "width": 0.5
             },
             "pattern": {
              "fillmode": "overlay",
              "size": 10,
              "solidity": 0.2
             }
            },
            "type": "barpolar"
           }
          ],
          "pie": [
           {
            "automargin": true,
            "type": "pie"
           }
          ]
         },
         "layout": {
          "autotypenumbers": "strict",
          "colorway": [
           "#636efa",
           "#EF553B",
           "#00cc96",
           "#ab63fa",
           "#FFA15A",
           "#19d3f3",
           "#FF6692",
           "#B6E880",
           "#FF97FF",
           "#FECB52"
          ],
          "font": {
           "color": "#f2f5fa"
          },
          "hovermode": "closest",
          "hoverlabel": {
           "align": "left"
          },
          "paper_bgcolor": "rgb(17,17,17)",
          "plot_bgcolor": "rgb(17,17,17)",
          "polar": {
           "bgcolor": "rgb(17,17,17)",
           "angularaxis": {
            "gridcolor": "#506784",
            "linecolor": "#506784",
            "ticks": ""
           },
           "radialaxis": {
            "gridcolor": "#506784",
            "linecolor": "#506784",
            "ticks": ""
           }
          },
          "ternary": {
           "bgcolor": "rgb(17,17,17)",
           "aaxis": {
            "gridcolor": "#506784",
            "linecolor": "#506784",
            "ticks": ""
           },
           "baxis": {
            "gridcolor": "#506784",
            "linecolor": "#506784",
            "ticks": ""
           },
           "caxis": {
            "gridcolor": "#506784",
            "linecolor": "#506784",
            "ticks": ""
           }
          },
          "coloraxis": {
           "colorbar": {
            "outlinewidth": 0,
            "ticks": ""
           }
          },
          "colorscale": {
           "sequential": [
            [
             0.0,
             "#0d0887"
            ],
            [
             0.1111111111111111,
             "#46039f"
            ],
            [
             0.2222222222222222,
             "#7201a8"
            ],
            [
             0.3333333333333333,
             "#9c179e"
            ],
            [
             0.4444444444444444,
             "#bd3786"
            ],
            [
             0.5555555555555556,
             "#d8576b"
            ],
            [
             0.6666666666666666,
             "#ed7953"
            ],
            [
             0.7777777777777778,
             "#fb9f3a"
            ],
            [
             0.8888888888888888,
             "#fdca26"
            ],
            [
             1.0,
             "#f0f921"
            ]
           ],
           "sequentialminus": [
            [
             0.0,
             "#0d0887"
            ],
            [
             0.1111111111111111,
             "#46039f"
            ],
            [
             0.2222222222222222,
             "#7201a8"
            ],
            [
             0.3333333333333333,
             "#9c179e"
            ],
            [
             0.4444444444444444,
             "#bd3786"
            ],
            [
             0.5555555555555556,
             "#d8576b"
            ],
            [
             0.6666666666666666,
             "#ed7953"
            ],
            [
             0.7777777777777778,
             "#fb9f3a"
            ],
            [
             0.8888888888888888,
             "#fdca26"
            ],
            [
             1.0,
             "#f0f921"
            ]
           ],
           "diverging": [
            [
             0,
             "#8e0152"
            ],
            [
             0.1,
             "#c51b7d"
            ],
            [
             0.2,
             "#de77ae"
            ],
            [
             0.3,
             "#f1b6da"
            ],
            [
             0.4,
             "#fde0ef"
            ],
            [
             0.5,
             "#f7f7f7"
            ],
            [
             0.6,
             "#e6f5d0"
            ],
            [
             0.7,
             "#b8e186"
            ],
            [
             0.8,
             "#7fbc41"
            ],
            [
             0.9,
             "#4d9221"
            ],
            [
             1,
             "#276419"
            ]
           ]
          },
          "xaxis": {
           "gridcolor": "#283442",
           "linecolor": "#506784",
           "ticks": "",
           "title": {
            "standoff": 15
           },
           "zerolinecolor": "#283442",
           "automargin": true,
           "zerolinewidth": 2
          },
          "yaxis": {
           "gridcolor": "#283442",
           "linecolor": "#506784",
           "ticks": "",
           "title": {
            "standoff": 15
           },
           "zerolinecolor": "#283442",
           "automargin": true,
           "zerolinewidth": 2
          },
          "scene": {
           "xaxis": {
            "backgroundcolor": "rgb(17,17,17)",
            "gridcolor": "#506784",
            "linecolor": "#506784",
            "showbackground": true,
            "ticks": "",
            "zerolinecolor": "#C8D4E3",
            "gridwidth": 2
           },
           "yaxis": {
            "backgroundcolor": "rgb(17,17,17)",
            "gridcolor": "#506784",
            "linecolor": "#506784",
            "showbackground": true,
            "ticks": "",
            "zerolinecolor": "#C8D4E3",
            "gridwidth": 2
           },
           "zaxis": {
            "backgroundcolor": "rgb(17,17,17)",
            "gridcolor": "#506784",
            "linecolor": "#506784",
            "showbackground": true,
            "ticks": "",
            "zerolinecolor": "#C8D4E3",
            "gridwidth": 2
           }
          },
          "shapedefaults": {
           "line": {
            "color": "#f2f5fa"
           }
          },
          "annotationdefaults": {
           "arrowcolor": "#f2f5fa",
           "arrowhead": 0,
           "arrowwidth": 1
          },
          "geo": {
           "bgcolor": "rgb(17,17,17)",
           "landcolor": "rgb(17,17,17)",
           "subunitcolor": "#506784",
           "showland": true,
           "showlakes": true,
           "lakecolor": "rgb(17,17,17)"
          },
          "title": {
           "x": 0.05
          },
          "updatemenudefaults": {
           "bgcolor": "#506784",
           "borderwidth": 0
          },
          "sliderdefaults": {
           "bgcolor": "#C8D4E3",
           "borderwidth": 1,
           "bordercolor": "rgb(17,17,17)",
           "tickwidth": 0
          },
          "mapbox": {
           "style": "dark"
          }
         }
        },
        "xaxis": {
         "anchor": "y",
         "domain": [
          0.0,
          1.0
         ],
         "title": {
          "text": "job_openings"
         }
        },
        "yaxis": {
         "anchor": "x",
         "domain": [
          0.0,
          1.0
         ],
         "title": {
          "text": "locations"
         }
        },
        "legend": {
         "tracegroupgap": 0
        },
        "title": {
         "text": "Top 20 locations with the most job openings"
        },
        "barmode": "relative"
       },
       "config": {
        "plotlyServerURL": "https://plot.ly"
       }
      },
      "text/html": "<div>                            <div id=\"b3fe85c7-f608-4b29-a6cb-bef9f4206416\" class=\"plotly-graph-div\" style=\"height:525px; width:100%;\"></div>            <script type=\"text/javascript\">                require([\"plotly\"], function(Plotly) {                    window.PLOTLYENV=window.PLOTLYENV || {};                                    if (document.getElementById(\"b3fe85c7-f608-4b29-a6cb-bef9f4206416\")) {                    Plotly.newPlot(                        \"b3fe85c7-f608-4b29-a6cb-bef9f4206416\",                        [{\"alignmentgroup\":\"True\",\"hovertemplate\":\"job_openings=%{text}<br>locations=%{y}<extra></extra>\",\"legendgroup\":\"\",\"marker\":{\"color\":\"rgb(27,158,119)\",\"pattern\":{\"shape\":\"\"}},\"name\":\"\",\"offsetgroup\":\"\",\"orientation\":\"h\",\"showlegend\":false,\"text\":[1443.0,322.0,263.0,160.0,120.0,115.0,99.0,86.0,82.0,72.0,66.0,52.0,45.0,38.0,36.0,36.0,36.0,32.0,30.0,30.0],\"textposition\":\"outside\",\"x\":[1443,322,263,160,120,115,99,86,82,72,66,52,45,38,36,36,36,32,30,30],\"xaxis\":\"x\",\"y\":[\"Kuala Lumpur\",\"Petaling Jaya\",\"Selangor\",\"Penang\",\"Bayan Lepas\",\"Malaysia\",\"Cyberjaya\",\"Shah Alam/Subang\",\"George Town\",\"Singapore\",\"Johor Bahru\",\"Johor\",\"Melaka\",\"Puchong\",\"Kulim\",\"Subang Jaya\",\"Kuching\",\"Company Confidential\",\"Shah Alam/Subang, Shah Alam/Subang\",\"Klang/Port Klang\"],\"yaxis\":\"y\",\"type\":\"bar\",\"textfont\":{\"size\":12},\"cliponaxis\":false,\"textangle\":0}],                        {\"template\":{\"data\":{\"histogram2dcontour\":[{\"type\":\"histogram2dcontour\",\"colorbar\":{\"outlinewidth\":0,\"ticks\":\"\"},\"colorscale\":[[0.0,\"#0d0887\"],[0.1111111111111111,\"#46039f\"],[0.2222222222222222,\"#7201a8\"],[0.3333333333333333,\"#9c179e\"],[0.4444444444444444,\"#bd3786\"],[0.5555555555555556,\"#d8576b\"],[0.6666666666666666,\"#ed7953\"],[0.7777777777777778,\"#fb9f3a\"],[0.8888888888888888,\"#fdca26\"],[1.0,\"#f0f921\"]]}],\"choropleth\":[{\"type\":\"choropleth\",\"colorbar\":{\"outlinewidth\":0,\"ticks\":\"\"}}],\"histogram2d\":[{\"type\":\"histogram2d\",\"colorbar\":{\"outlinewidth\":0,\"ticks\":\"\"},\"colorscale\":[[0.0,\"#0d0887\"],[0.1111111111111111,\"#46039f\"],[0.2222222222222222,\"#7201a8\"],[0.3333333333333333,\"#9c179e\"],[0.4444444444444444,\"#bd3786\"],[0.5555555555555556,\"#d8576b\"],[0.6666666666666666,\"#ed7953\"],[0.7777777777777778,\"#fb9f3a\"],[0.8888888888888888,\"#fdca26\"],[1.0,\"#f0f921\"]]}],\"heatmap\":[{\"type\":\"heatmap\",\"colorbar\":{\"outlinewidth\":0,\"ticks\":\"\"},\"colorscale\":[[0.0,\"#0d0887\"],[0.1111111111111111,\"#46039f\"],[0.2222222222222222,\"#7201a8\"],[0.3333333333333333,\"#9c179e\"],[0.4444444444444444,\"#bd3786\"],[0.5555555555555556,\"#d8576b\"],[0.6666666666666666,\"#ed7953\"],[0.7777777777777778,\"#fb9f3a\"],[0.8888888888888888,\"#fdca26\"],[1.0,\"#f0f921\"]]}],\"heatmapgl\":[{\"type\":\"heatmapgl\",\"colorbar\":{\"outlinewidth\":0,\"ticks\":\"\"},\"colorscale\":[[0.0,\"#0d0887\"],[0.1111111111111111,\"#46039f\"],[0.2222222222222222,\"#7201a8\"],[0.3333333333333333,\"#9c179e\"],[0.4444444444444444,\"#bd3786\"],[0.5555555555555556,\"#d8576b\"],[0.6666666666666666,\"#ed7953\"],[0.7777777777777778,\"#fb9f3a\"],[0.8888888888888888,\"#fdca26\"],[1.0,\"#f0f921\"]]}],\"contourcarpet\":[{\"type\":\"contourcarpet\",\"colorbar\":{\"outlinewidth\":0,\"ticks\":\"\"}}],\"contour\":[{\"type\":\"contour\",\"colorbar\":{\"outlinewidth\":0,\"ticks\":\"\"},\"colorscale\":[[0.0,\"#0d0887\"],[0.1111111111111111,\"#46039f\"],[0.2222222222222222,\"#7201a8\"],[0.3333333333333333,\"#9c179e\"],[0.4444444444444444,\"#bd3786\"],[0.5555555555555556,\"#d8576b\"],[0.6666666666666666,\"#ed7953\"],[0.7777777777777778,\"#fb9f3a\"],[0.8888888888888888,\"#fdca26\"],[1.0,\"#f0f921\"]]}],\"surface\":[{\"type\":\"surface\",\"colorbar\":{\"outlinewidth\":0,\"ticks\":\"\"},\"colorscale\":[[0.0,\"#0d0887\"],[0.1111111111111111,\"#46039f\"],[0.2222222222222222,\"#7201a8\"],[0.3333333333333333,\"#9c179e\"],[0.4444444444444444,\"#bd3786\"],[0.5555555555555556,\"#d8576b\"],[0.6666666666666666,\"#ed7953\"],[0.7777777777777778,\"#fb9f3a\"],[0.8888888888888888,\"#fdca26\"],[1.0,\"#f0f921\"]]}],\"mesh3d\":[{\"type\":\"mesh3d\",\"colorbar\":{\"outlinewidth\":0,\"ticks\":\"\"}}],\"scatter\":[{\"marker\":{\"line\":{\"color\":\"#283442\"}},\"type\":\"scatter\"}],\"parcoords\":[{\"type\":\"parcoords\",\"line\":{\"colorbar\":{\"outlinewidth\":0,\"ticks\":\"\"}}}],\"scatterpolargl\":[{\"type\":\"scatterpolargl\",\"marker\":{\"colorbar\":{\"outlinewidth\":0,\"ticks\":\"\"}}}],\"bar\":[{\"error_x\":{\"color\":\"#f2f5fa\"},\"error_y\":{\"color\":\"#f2f5fa\"},\"marker\":{\"line\":{\"color\":\"rgb(17,17,17)\",\"width\":0.5},\"pattern\":{\"fillmode\":\"overlay\",\"size\":10,\"solidity\":0.2}},\"type\":\"bar\"}],\"scattergeo\":[{\"type\":\"scattergeo\",\"marker\":{\"colorbar\":{\"outlinewidth\":0,\"ticks\":\"\"}}}],\"scatterpolar\":[{\"type\":\"scatterpolar\",\"marker\":{\"colorbar\":{\"outlinewidth\":0,\"ticks\":\"\"}}}],\"histogram\":[{\"marker\":{\"pattern\":{\"fillmode\":\"overlay\",\"size\":10,\"solidity\":0.2}},\"type\":\"histogram\"}],\"scattergl\":[{\"marker\":{\"line\":{\"color\":\"#283442\"}},\"type\":\"scattergl\"}],\"scatter3d\":[{\"type\":\"scatter3d\",\"line\":{\"colorbar\":{\"outlinewidth\":0,\"ticks\":\"\"}},\"marker\":{\"colorbar\":{\"outlinewidth\":0,\"ticks\":\"\"}}}],\"scattermapbox\":[{\"type\":\"scattermapbox\",\"marker\":{\"colorbar\":{\"outlinewidth\":0,\"ticks\":\"\"}}}],\"scatterternary\":[{\"type\":\"scatterternary\",\"marker\":{\"colorbar\":{\"outlinewidth\":0,\"ticks\":\"\"}}}],\"scattercarpet\":[{\"type\":\"scattercarpet\",\"marker\":{\"colorbar\":{\"outlinewidth\":0,\"ticks\":\"\"}}}],\"carpet\":[{\"aaxis\":{\"endlinecolor\":\"#A2B1C6\",\"gridcolor\":\"#506784\",\"linecolor\":\"#506784\",\"minorgridcolor\":\"#506784\",\"startlinecolor\":\"#A2B1C6\"},\"baxis\":{\"endlinecolor\":\"#A2B1C6\",\"gridcolor\":\"#506784\",\"linecolor\":\"#506784\",\"minorgridcolor\":\"#506784\",\"startlinecolor\":\"#A2B1C6\"},\"type\":\"carpet\"}],\"table\":[{\"cells\":{\"fill\":{\"color\":\"#506784\"},\"line\":{\"color\":\"rgb(17,17,17)\"}},\"header\":{\"fill\":{\"color\":\"#2a3f5f\"},\"line\":{\"color\":\"rgb(17,17,17)\"}},\"type\":\"table\"}],\"barpolar\":[{\"marker\":{\"line\":{\"color\":\"rgb(17,17,17)\",\"width\":0.5},\"pattern\":{\"fillmode\":\"overlay\",\"size\":10,\"solidity\":0.2}},\"type\":\"barpolar\"}],\"pie\":[{\"automargin\":true,\"type\":\"pie\"}]},\"layout\":{\"autotypenumbers\":\"strict\",\"colorway\":[\"#636efa\",\"#EF553B\",\"#00cc96\",\"#ab63fa\",\"#FFA15A\",\"#19d3f3\",\"#FF6692\",\"#B6E880\",\"#FF97FF\",\"#FECB52\"],\"font\":{\"color\":\"#f2f5fa\"},\"hovermode\":\"closest\",\"hoverlabel\":{\"align\":\"left\"},\"paper_bgcolor\":\"rgb(17,17,17)\",\"plot_bgcolor\":\"rgb(17,17,17)\",\"polar\":{\"bgcolor\":\"rgb(17,17,17)\",\"angularaxis\":{\"gridcolor\":\"#506784\",\"linecolor\":\"#506784\",\"ticks\":\"\"},\"radialaxis\":{\"gridcolor\":\"#506784\",\"linecolor\":\"#506784\",\"ticks\":\"\"}},\"ternary\":{\"bgcolor\":\"rgb(17,17,17)\",\"aaxis\":{\"gridcolor\":\"#506784\",\"linecolor\":\"#506784\",\"ticks\":\"\"},\"baxis\":{\"gridcolor\":\"#506784\",\"linecolor\":\"#506784\",\"ticks\":\"\"},\"caxis\":{\"gridcolor\":\"#506784\",\"linecolor\":\"#506784\",\"ticks\":\"\"}},\"coloraxis\":{\"colorbar\":{\"outlinewidth\":0,\"ticks\":\"\"}},\"colorscale\":{\"sequential\":[[0.0,\"#0d0887\"],[0.1111111111111111,\"#46039f\"],[0.2222222222222222,\"#7201a8\"],[0.3333333333333333,\"#9c179e\"],[0.4444444444444444,\"#bd3786\"],[0.5555555555555556,\"#d8576b\"],[0.6666666666666666,\"#ed7953\"],[0.7777777777777778,\"#fb9f3a\"],[0.8888888888888888,\"#fdca26\"],[1.0,\"#f0f921\"]],\"sequentialminus\":[[0.0,\"#0d0887\"],[0.1111111111111111,\"#46039f\"],[0.2222222222222222,\"#7201a8\"],[0.3333333333333333,\"#9c179e\"],[0.4444444444444444,\"#bd3786\"],[0.5555555555555556,\"#d8576b\"],[0.6666666666666666,\"#ed7953\"],[0.7777777777777778,\"#fb9f3a\"],[0.8888888888888888,\"#fdca26\"],[1.0,\"#f0f921\"]],\"diverging\":[[0,\"#8e0152\"],[0.1,\"#c51b7d\"],[0.2,\"#de77ae\"],[0.3,\"#f1b6da\"],[0.4,\"#fde0ef\"],[0.5,\"#f7f7f7\"],[0.6,\"#e6f5d0\"],[0.7,\"#b8e186\"],[0.8,\"#7fbc41\"],[0.9,\"#4d9221\"],[1,\"#276419\"]]},\"xaxis\":{\"gridcolor\":\"#283442\",\"linecolor\":\"#506784\",\"ticks\":\"\",\"title\":{\"standoff\":15},\"zerolinecolor\":\"#283442\",\"automargin\":true,\"zerolinewidth\":2},\"yaxis\":{\"gridcolor\":\"#283442\",\"linecolor\":\"#506784\",\"ticks\":\"\",\"title\":{\"standoff\":15},\"zerolinecolor\":\"#283442\",\"automargin\":true,\"zerolinewidth\":2},\"scene\":{\"xaxis\":{\"backgroundcolor\":\"rgb(17,17,17)\",\"gridcolor\":\"#506784\",\"linecolor\":\"#506784\",\"showbackground\":true,\"ticks\":\"\",\"zerolinecolor\":\"#C8D4E3\",\"gridwidth\":2},\"yaxis\":{\"backgroundcolor\":\"rgb(17,17,17)\",\"gridcolor\":\"#506784\",\"linecolor\":\"#506784\",\"showbackground\":true,\"ticks\":\"\",\"zerolinecolor\":\"#C8D4E3\",\"gridwidth\":2},\"zaxis\":{\"backgroundcolor\":\"rgb(17,17,17)\",\"gridcolor\":\"#506784\",\"linecolor\":\"#506784\",\"showbackground\":true,\"ticks\":\"\",\"zerolinecolor\":\"#C8D4E3\",\"gridwidth\":2}},\"shapedefaults\":{\"line\":{\"color\":\"#f2f5fa\"}},\"annotationdefaults\":{\"arrowcolor\":\"#f2f5fa\",\"arrowhead\":0,\"arrowwidth\":1},\"geo\":{\"bgcolor\":\"rgb(17,17,17)\",\"landcolor\":\"rgb(17,17,17)\",\"subunitcolor\":\"#506784\",\"showland\":true,\"showlakes\":true,\"lakecolor\":\"rgb(17,17,17)\"},\"title\":{\"x\":0.05},\"updatemenudefaults\":{\"bgcolor\":\"#506784\",\"borderwidth\":0},\"sliderdefaults\":{\"bgcolor\":\"#C8D4E3\",\"borderwidth\":1,\"bordercolor\":\"rgb(17,17,17)\",\"tickwidth\":0},\"mapbox\":{\"style\":\"dark\"}}},\"xaxis\":{\"anchor\":\"y\",\"domain\":[0.0,1.0],\"title\":{\"text\":\"job_openings\"}},\"yaxis\":{\"anchor\":\"x\",\"domain\":[0.0,1.0],\"title\":{\"text\":\"locations\"}},\"legend\":{\"tracegroupgap\":0},\"title\":{\"text\":\"Top 20 locations with the most job openings\"},\"barmode\":\"relative\"},                        {\"responsive\": true}                    ).then(function(){\n                            \nvar gd = document.getElementById('b3fe85c7-f608-4b29-a6cb-bef9f4206416');\nvar x = new MutationObserver(function (mutations, observer) {{\n        var display = window.getComputedStyle(gd).display;\n        if (!display || display === 'none') {{\n            console.log([gd, 'removed!']);\n            Plotly.purge(gd);\n            observer.disconnect();\n        }}\n}});\n\n// Listen for the removal of the full notebook cells\nvar notebookContainer = gd.closest('#notebook-container');\nif (notebookContainer) {{\n    x.observe(notebookContainer, {childList: true});\n}}\n\n// Listen for the clearing of the current output cell\nvar outputEl = gd.closest('.output');\nif (outputEl) {{\n    x.observe(outputEl, {childList: true});\n}}\n\n                        })                };                });            </script>        </div>"
     },
     "metadata": {},
     "output_type": "display_data"
    }
   ],
   "source": [
    "fig = px.bar(location_top, x='job_openings', y='locations', text='job_openings',\n",
    "             color_discrete_sequence=px.colors.qualitative.Dark2, orientation='h',\n",
    "             title=\"Top 20 locations with the most job openings\")\n",
    "fig.update_traces(textfont_size=12, textangle=0, textposition=\"outside\", cliponaxis=False)\n",
    "fig.show()"
   ],
   "metadata": {
    "collapsed": false
   }
  },
  {
   "cell_type": "code",
   "execution_count": 59,
   "outputs": [
    {
     "ename": "ValueError",
     "evalue": "\n    Invalid value of type 'builtins.str' received for the 'color' property of bar.marker\n        Received value: 'r'\n\n    The 'color' property is a color and may be specified as:\n      - A hex string (e.g. '#ff0000')\n      - An rgb/rgba string (e.g. 'rgb(255,0,0)')\n      - An hsl/hsla string (e.g. 'hsl(0,100%,50%)')\n      - An hsv/hsva string (e.g. 'hsv(0,100%,100%)')\n      - A named CSS color:\n            aliceblue, antiquewhite, aqua, aquamarine, azure,\n            beige, bisque, black, blanchedalmond, blue,\n            blueviolet, brown, burlywood, cadetblue,\n            chartreuse, chocolate, coral, cornflowerblue,\n            cornsilk, crimson, cyan, darkblue, darkcyan,\n            darkgoldenrod, darkgray, darkgrey, darkgreen,\n            darkkhaki, darkmagenta, darkolivegreen, darkorange,\n            darkorchid, darkred, darksalmon, darkseagreen,\n            darkslateblue, darkslategray, darkslategrey,\n            darkturquoise, darkviolet, deeppink, deepskyblue,\n            dimgray, dimgrey, dodgerblue, firebrick,\n            floralwhite, forestgreen, fuchsia, gainsboro,\n            ghostwhite, gold, goldenrod, gray, grey, green,\n            greenyellow, honeydew, hotpink, indianred, indigo,\n            ivory, khaki, lavender, lavenderblush, lawngreen,\n            lemonchiffon, lightblue, lightcoral, lightcyan,\n            lightgoldenrodyellow, lightgray, lightgrey,\n            lightgreen, lightpink, lightsalmon, lightseagreen,\n            lightskyblue, lightslategray, lightslategrey,\n            lightsteelblue, lightyellow, lime, limegreen,\n            linen, magenta, maroon, mediumaquamarine,\n            mediumblue, mediumorchid, mediumpurple,\n            mediumseagreen, mediumslateblue, mediumspringgreen,\n            mediumturquoise, mediumvioletred, midnightblue,\n            mintcream, mistyrose, moccasin, navajowhite, navy,\n            oldlace, olive, olivedrab, orange, orangered,\n            orchid, palegoldenrod, palegreen, paleturquoise,\n            palevioletred, papayawhip, peachpuff, peru, pink,\n            plum, powderblue, purple, red, rosybrown,\n            royalblue, rebeccapurple, saddlebrown, salmon,\n            sandybrown, seagreen, seashell, sienna, silver,\n            skyblue, slateblue, slategray, slategrey, snow,\n            springgreen, steelblue, tan, teal, thistle, tomato,\n            turquoise, violet, wheat, white, whitesmoke,\n            yellow, yellowgreen\n      - A number that will be interpreted as a color\n        according to bar.marker.colorscale\n      - A list or array of any of the above",
     "output_type": "error",
     "traceback": [
      "\u001B[0;31m---------------------------------------------------------------------------\u001B[0m",
      "\u001B[0;31mValueError\u001B[0m                                Traceback (most recent call last)",
      "Cell \u001B[0;32mIn[59], line 1\u001B[0m\n\u001B[0;32m----> 1\u001B[0m fig \u001B[38;5;241m=\u001B[39m \u001B[43mpx\u001B[49m\u001B[38;5;241;43m.\u001B[39;49m\u001B[43mbar\u001B[49m\u001B[43m(\u001B[49m\u001B[43mlocation_top\u001B[49m\u001B[43m,\u001B[49m\u001B[43m \u001B[49m\u001B[43mx\u001B[49m\u001B[38;5;241;43m=\u001B[39;49m\u001B[38;5;124;43m'\u001B[39;49m\u001B[38;5;124;43mjob_openings\u001B[39;49m\u001B[38;5;124;43m'\u001B[39;49m\u001B[43m,\u001B[49m\u001B[43m \u001B[49m\u001B[43my\u001B[49m\u001B[38;5;241;43m=\u001B[39;49m\u001B[38;5;124;43m'\u001B[39;49m\u001B[38;5;124;43mlocations\u001B[39;49m\u001B[38;5;124;43m'\u001B[39;49m\u001B[43m,\u001B[49m\u001B[43m \u001B[49m\u001B[43mtext_auto\u001B[49m\u001B[38;5;241;43m=\u001B[39;49m\u001B[38;5;124;43m'\u001B[39;49m\u001B[38;5;124;43m.2s\u001B[39;49m\u001B[38;5;124;43m'\u001B[39;49m\u001B[43m,\u001B[49m\u001B[43mcolor_discrete_sequence\u001B[49m\u001B[38;5;241;43m=\u001B[39;49m\u001B[43mpx\u001B[49m\u001B[38;5;241;43m.\u001B[39;49m\u001B[43mcolors\u001B[49m\u001B[38;5;241;43m.\u001B[39;49m\u001B[43mqualitative\u001B[49m\u001B[38;5;241;43m.\u001B[39;49m\u001B[43mDark2\u001B[49m\u001B[43m[\u001B[49m\u001B[38;5;241;43m2\u001B[39;49m\u001B[43m]\u001B[49m\u001B[43m,\u001B[49m\u001B[43m \u001B[49m\u001B[43morientation\u001B[49m\u001B[38;5;241;43m=\u001B[39;49m\u001B[38;5;124;43m'\u001B[39;49m\u001B[38;5;124;43mh\u001B[39;49m\u001B[38;5;124;43m'\u001B[39;49m\u001B[43m,\u001B[49m\n\u001B[1;32m      2\u001B[0m \u001B[43m             \u001B[49m\u001B[43mtitle\u001B[49m\u001B[38;5;241;43m=\u001B[39;49m\u001B[38;5;124;43m\"\u001B[39;49m\u001B[38;5;124;43mTop 20 locations with the most job openings\u001B[39;49m\u001B[38;5;124;43m\"\u001B[39;49m\u001B[43m)\u001B[49m\n\u001B[1;32m      3\u001B[0m fig\u001B[38;5;241m.\u001B[39mupdate_traces(textfont_size\u001B[38;5;241m=\u001B[39m\u001B[38;5;241m12\u001B[39m, textangle\u001B[38;5;241m=\u001B[39m\u001B[38;5;241m0\u001B[39m, textposition\u001B[38;5;241m=\u001B[39m\u001B[38;5;124m\"\u001B[39m\u001B[38;5;124moutside\u001B[39m\u001B[38;5;124m\"\u001B[39m, cliponaxis\u001B[38;5;241m=\u001B[39m\u001B[38;5;28;01mFalse\u001B[39;00m)\n\u001B[1;32m      4\u001B[0m fig\u001B[38;5;241m.\u001B[39mshow()\n",
      "File \u001B[0;32m~/.local/share/virtualenvs/Demand-of-Data-Scientist-in-Malaysia-hEWWIcNH/lib/python3.10/site-packages/plotly/express/_chart_types.py:373\u001B[0m, in \u001B[0;36mbar\u001B[0;34m(data_frame, x, y, color, pattern_shape, facet_row, facet_col, facet_col_wrap, facet_row_spacing, facet_col_spacing, hover_name, hover_data, custom_data, text, base, error_x, error_x_minus, error_y, error_y_minus, animation_frame, animation_group, category_orders, labels, color_discrete_sequence, color_discrete_map, color_continuous_scale, pattern_shape_sequence, pattern_shape_map, range_color, color_continuous_midpoint, opacity, orientation, barmode, log_x, log_y, range_x, range_y, text_auto, title, template, width, height)\u001B[0m\n\u001B[1;32m    325\u001B[0m \u001B[38;5;28;01mdef\u001B[39;00m \u001B[38;5;21mbar\u001B[39m(\n\u001B[1;32m    326\u001B[0m     data_frame\u001B[38;5;241m=\u001B[39m\u001B[38;5;28;01mNone\u001B[39;00m,\n\u001B[1;32m    327\u001B[0m     x\u001B[38;5;241m=\u001B[39m\u001B[38;5;28;01mNone\u001B[39;00m,\n\u001B[0;32m   (...)\u001B[0m\n\u001B[1;32m    367\u001B[0m     height\u001B[38;5;241m=\u001B[39m\u001B[38;5;28;01mNone\u001B[39;00m,\n\u001B[1;32m    368\u001B[0m ) \u001B[38;5;241m-\u001B[39m\u001B[38;5;241m>\u001B[39m go\u001B[38;5;241m.\u001B[39mFigure:\n\u001B[1;32m    369\u001B[0m \u001B[38;5;250m    \u001B[39m\u001B[38;5;124;03m\"\"\"\u001B[39;00m\n\u001B[1;32m    370\u001B[0m \u001B[38;5;124;03m    In a bar plot, each row of `data_frame` is represented as a rectangular\u001B[39;00m\n\u001B[1;32m    371\u001B[0m \u001B[38;5;124;03m    mark.\u001B[39;00m\n\u001B[1;32m    372\u001B[0m \u001B[38;5;124;03m    \"\"\"\u001B[39;00m\n\u001B[0;32m--> 373\u001B[0m     \u001B[38;5;28;01mreturn\u001B[39;00m \u001B[43mmake_figure\u001B[49m\u001B[43m(\u001B[49m\n\u001B[1;32m    374\u001B[0m \u001B[43m        \u001B[49m\u001B[43margs\u001B[49m\u001B[38;5;241;43m=\u001B[39;49m\u001B[38;5;28;43mlocals\u001B[39;49m\u001B[43m(\u001B[49m\u001B[43m)\u001B[49m\u001B[43m,\u001B[49m\n\u001B[1;32m    375\u001B[0m \u001B[43m        \u001B[49m\u001B[43mconstructor\u001B[49m\u001B[38;5;241;43m=\u001B[39;49m\u001B[43mgo\u001B[49m\u001B[38;5;241;43m.\u001B[39;49m\u001B[43mBar\u001B[49m\u001B[43m,\u001B[49m\n\u001B[1;32m    376\u001B[0m \u001B[43m        \u001B[49m\u001B[43mtrace_patch\u001B[49m\u001B[38;5;241;43m=\u001B[39;49m\u001B[38;5;28;43mdict\u001B[39;49m\u001B[43m(\u001B[49m\u001B[43mtextposition\u001B[49m\u001B[38;5;241;43m=\u001B[39;49m\u001B[38;5;124;43m\"\u001B[39;49m\u001B[38;5;124;43mauto\u001B[39;49m\u001B[38;5;124;43m\"\u001B[39;49m\u001B[43m)\u001B[49m\u001B[43m,\u001B[49m\n\u001B[1;32m    377\u001B[0m \u001B[43m        \u001B[49m\u001B[43mlayout_patch\u001B[49m\u001B[38;5;241;43m=\u001B[39;49m\u001B[38;5;28;43mdict\u001B[39;49m\u001B[43m(\u001B[49m\u001B[43mbarmode\u001B[49m\u001B[38;5;241;43m=\u001B[39;49m\u001B[43mbarmode\u001B[49m\u001B[43m)\u001B[49m\u001B[43m,\u001B[49m\n\u001B[1;32m    378\u001B[0m \u001B[43m    \u001B[49m\u001B[43m)\u001B[49m\n",
      "File \u001B[0;32m~/.local/share/virtualenvs/Demand-of-Data-Scientist-in-Malaysia-hEWWIcNH/lib/python3.10/site-packages/plotly/express/_core.py:2079\u001B[0m, in \u001B[0;36mmake_figure\u001B[0;34m(args, constructor, trace_patch, layout_patch)\u001B[0m\n\u001B[1;32m   2077\u001B[0m val \u001B[38;5;241m=\u001B[39m group_name[i]\n\u001B[1;32m   2078\u001B[0m \u001B[38;5;28;01mtry\u001B[39;00m:\n\u001B[0;32m-> 2079\u001B[0m     \u001B[43mm\u001B[49m\u001B[38;5;241;43m.\u001B[39;49m\u001B[43mupdater\u001B[49m\u001B[43m(\u001B[49m\u001B[43mtrace\u001B[49m\u001B[43m,\u001B[49m\u001B[43m \u001B[49m\u001B[43mm\u001B[49m\u001B[38;5;241;43m.\u001B[39;49m\u001B[43mval_map\u001B[49m\u001B[43m[\u001B[49m\u001B[43mval\u001B[49m\u001B[43m]\u001B[49m\u001B[43m)\u001B[49m  \u001B[38;5;66;03m# covers most cases\u001B[39;00m\n\u001B[1;32m   2080\u001B[0m \u001B[38;5;28;01mexcept\u001B[39;00m \u001B[38;5;167;01mValueError\u001B[39;00m:\n\u001B[1;32m   2081\u001B[0m     \u001B[38;5;66;03m# this catches some odd cases like marginals\u001B[39;00m\n\u001B[1;32m   2082\u001B[0m     \u001B[38;5;28;01mif\u001B[39;00m (\n\u001B[1;32m   2083\u001B[0m         trace_spec \u001B[38;5;241m!=\u001B[39m trace_specs[\u001B[38;5;241m0\u001B[39m]\n\u001B[1;32m   2084\u001B[0m         \u001B[38;5;129;01mand\u001B[39;00m (\n\u001B[0;32m   (...)\u001B[0m\n\u001B[1;32m   2091\u001B[0m         )\n\u001B[1;32m   2092\u001B[0m     ):\n",
      "File \u001B[0;32m~/.local/share/virtualenvs/Demand-of-Data-Scientist-in-Malaysia-hEWWIcNH/lib/python3.10/site-packages/plotly/express/_core.py:239\u001B[0m, in \u001B[0;36mmake_mapping.<locals>.<lambda>\u001B[0;34m(trace, v)\u001B[0m\n\u001B[1;32m    231\u001B[0m \u001B[38;5;28;01melse\u001B[39;00m:\n\u001B[1;32m    232\u001B[0m     val_map \u001B[38;5;241m=\u001B[39m args[vprefix \u001B[38;5;241m+\u001B[39m \u001B[38;5;124m\"\u001B[39m\u001B[38;5;124m_map\u001B[39m\u001B[38;5;124m\"\u001B[39m]\u001B[38;5;241m.\u001B[39mcopy()\n\u001B[1;32m    233\u001B[0m \u001B[38;5;28;01mreturn\u001B[39;00m Mapping(\n\u001B[1;32m    234\u001B[0m     show_in_trace_name\u001B[38;5;241m=\u001B[39m\u001B[38;5;28;01mTrue\u001B[39;00m,\n\u001B[1;32m    235\u001B[0m     variable\u001B[38;5;241m=\u001B[39mvariable,\n\u001B[1;32m    236\u001B[0m     grouper\u001B[38;5;241m=\u001B[39margs[arg_name],\n\u001B[1;32m    237\u001B[0m     val_map\u001B[38;5;241m=\u001B[39mval_map,\n\u001B[1;32m    238\u001B[0m     sequence\u001B[38;5;241m=\u001B[39margs[vprefix \u001B[38;5;241m+\u001B[39m \u001B[38;5;124m\"\u001B[39m\u001B[38;5;124m_sequence\u001B[39m\u001B[38;5;124m\"\u001B[39m],\n\u001B[0;32m--> 239\u001B[0m     updater\u001B[38;5;241m=\u001B[39m\u001B[38;5;28;01mlambda\u001B[39;00m trace, v: \u001B[43mtrace\u001B[49m\u001B[38;5;241;43m.\u001B[39;49m\u001B[43mupdate\u001B[49m\u001B[43m(\u001B[49m\n\u001B[1;32m    240\u001B[0m \u001B[43m        \u001B[49m\u001B[43m{\u001B[49m\u001B[43mparent\u001B[49m\u001B[43m:\u001B[49m\u001B[43m \u001B[49m\u001B[43m{\u001B[49m\u001B[38;5;124;43m\"\u001B[39;49m\u001B[38;5;124;43m.\u001B[39;49m\u001B[38;5;124;43m\"\u001B[39;49m\u001B[38;5;241;43m.\u001B[39;49m\u001B[43mjoin\u001B[49m\u001B[43m(\u001B[49m\u001B[43m[\u001B[49m\u001B[43mvariable\u001B[49m\u001B[43m]\u001B[49m\u001B[43m \u001B[49m\u001B[38;5;241;43m+\u001B[39;49m\u001B[43m \u001B[49m\u001B[43mother_variables\u001B[49m\u001B[43m)\u001B[49m\u001B[43m:\u001B[49m\u001B[43m \u001B[49m\u001B[43mv\u001B[49m\u001B[43m}\u001B[49m\u001B[43m}\u001B[49m\n\u001B[1;32m    241\u001B[0m \u001B[43m    \u001B[49m\u001B[43m)\u001B[49m,\n\u001B[1;32m    242\u001B[0m     facet\u001B[38;5;241m=\u001B[39m\u001B[38;5;28;01mNone\u001B[39;00m,\n\u001B[1;32m    243\u001B[0m )\n",
      "File \u001B[0;32m~/.local/share/virtualenvs/Demand-of-Data-Scientist-in-Malaysia-hEWWIcNH/lib/python3.10/site-packages/plotly/basedatatypes.py:5124\u001B[0m, in \u001B[0;36mBasePlotlyType.update\u001B[0;34m(self, dict1, overwrite, **kwargs)\u001B[0m\n\u001B[1;32m   5122\u001B[0m         BaseFigure\u001B[38;5;241m.\u001B[39m_perform_update(\u001B[38;5;28mself\u001B[39m, kwargs, overwrite\u001B[38;5;241m=\u001B[39moverwrite)\n\u001B[1;32m   5123\u001B[0m \u001B[38;5;28;01melse\u001B[39;00m:\n\u001B[0;32m-> 5124\u001B[0m     \u001B[43mBaseFigure\u001B[49m\u001B[38;5;241;43m.\u001B[39;49m\u001B[43m_perform_update\u001B[49m\u001B[43m(\u001B[49m\u001B[38;5;28;43mself\u001B[39;49m\u001B[43m,\u001B[49m\u001B[43m \u001B[49m\u001B[43mdict1\u001B[49m\u001B[43m,\u001B[49m\u001B[43m \u001B[49m\u001B[43moverwrite\u001B[49m\u001B[38;5;241;43m=\u001B[39;49m\u001B[43moverwrite\u001B[49m\u001B[43m)\u001B[49m\n\u001B[1;32m   5125\u001B[0m     BaseFigure\u001B[38;5;241m.\u001B[39m_perform_update(\u001B[38;5;28mself\u001B[39m, kwargs, overwrite\u001B[38;5;241m=\u001B[39moverwrite)\n\u001B[1;32m   5127\u001B[0m \u001B[38;5;28;01mreturn\u001B[39;00m \u001B[38;5;28mself\u001B[39m\n",
      "File \u001B[0;32m~/.local/share/virtualenvs/Demand-of-Data-Scientist-in-Malaysia-hEWWIcNH/lib/python3.10/site-packages/plotly/basedatatypes.py:3908\u001B[0m, in \u001B[0;36mBaseFigure._perform_update\u001B[0;34m(plotly_obj, update_obj, overwrite)\u001B[0m\n\u001B[1;32m   3902\u001B[0m validator \u001B[38;5;241m=\u001B[39m plotly_obj\u001B[38;5;241m.\u001B[39m_get_prop_validator(key)\n\u001B[1;32m   3904\u001B[0m \u001B[38;5;28;01mif\u001B[39;00m \u001B[38;5;28misinstance\u001B[39m(validator, CompoundValidator) \u001B[38;5;129;01mand\u001B[39;00m \u001B[38;5;28misinstance\u001B[39m(val, \u001B[38;5;28mdict\u001B[39m):\n\u001B[1;32m   3905\u001B[0m \n\u001B[1;32m   3906\u001B[0m     \u001B[38;5;66;03m# Update compound objects recursively\u001B[39;00m\n\u001B[1;32m   3907\u001B[0m     \u001B[38;5;66;03m# plotly_obj[key].update(val)\u001B[39;00m\n\u001B[0;32m-> 3908\u001B[0m     \u001B[43mBaseFigure\u001B[49m\u001B[38;5;241;43m.\u001B[39;49m\u001B[43m_perform_update\u001B[49m\u001B[43m(\u001B[49m\u001B[43mplotly_obj\u001B[49m\u001B[43m[\u001B[49m\u001B[43mkey\u001B[49m\u001B[43m]\u001B[49m\u001B[43m,\u001B[49m\u001B[43m \u001B[49m\u001B[43mval\u001B[49m\u001B[43m)\u001B[49m\n\u001B[1;32m   3909\u001B[0m \u001B[38;5;28;01melif\u001B[39;00m \u001B[38;5;28misinstance\u001B[39m(validator, CompoundArrayValidator):\n\u001B[1;32m   3910\u001B[0m     \u001B[38;5;28;01mif\u001B[39;00m plotly_obj[key]:\n\u001B[1;32m   3911\u001B[0m         \u001B[38;5;66;03m# plotly_obj has an existing non-empty array for key\u001B[39;00m\n\u001B[1;32m   3912\u001B[0m         \u001B[38;5;66;03m# In this case we merge val into the existing elements\u001B[39;00m\n",
      "File \u001B[0;32m~/.local/share/virtualenvs/Demand-of-Data-Scientist-in-Malaysia-hEWWIcNH/lib/python3.10/site-packages/plotly/basedatatypes.py:3929\u001B[0m, in \u001B[0;36mBaseFigure._perform_update\u001B[0;34m(plotly_obj, update_obj, overwrite)\u001B[0m\n\u001B[1;32m   3926\u001B[0m                 plotly_obj[key] \u001B[38;5;241m=\u001B[39m val\n\u001B[1;32m   3927\u001B[0m         \u001B[38;5;28;01melse\u001B[39;00m:\n\u001B[1;32m   3928\u001B[0m             \u001B[38;5;66;03m# Assign non-compound value\u001B[39;00m\n\u001B[0;32m-> 3929\u001B[0m             \u001B[43mplotly_obj\u001B[49m\u001B[43m[\u001B[49m\u001B[43mkey\u001B[49m\u001B[43m]\u001B[49m \u001B[38;5;241m=\u001B[39m val\n\u001B[1;32m   3931\u001B[0m \u001B[38;5;28;01melif\u001B[39;00m \u001B[38;5;28misinstance\u001B[39m(plotly_obj, \u001B[38;5;28mtuple\u001B[39m):\n\u001B[1;32m   3933\u001B[0m     \u001B[38;5;28;01mif\u001B[39;00m \u001B[38;5;28mlen\u001B[39m(update_obj) \u001B[38;5;241m==\u001B[39m \u001B[38;5;241m0\u001B[39m:\n\u001B[1;32m   3934\u001B[0m         \u001B[38;5;66;03m# Nothing to do\u001B[39;00m\n",
      "File \u001B[0;32m~/.local/share/virtualenvs/Demand-of-Data-Scientist-in-Malaysia-hEWWIcNH/lib/python3.10/site-packages/plotly/basedatatypes.py:4859\u001B[0m, in \u001B[0;36mBasePlotlyType.__setitem__\u001B[0;34m(self, prop, value)\u001B[0m\n\u001B[1;32m   4855\u001B[0m         \u001B[38;5;28mself\u001B[39m\u001B[38;5;241m.\u001B[39m_set_array_prop(prop, value)\n\u001B[1;32m   4857\u001B[0m     \u001B[38;5;66;03m# ### Handle simple property ###\u001B[39;00m\n\u001B[1;32m   4858\u001B[0m     \u001B[38;5;28;01melse\u001B[39;00m:\n\u001B[0;32m-> 4859\u001B[0m         \u001B[38;5;28;43mself\u001B[39;49m\u001B[38;5;241;43m.\u001B[39;49m\u001B[43m_set_prop\u001B[49m\u001B[43m(\u001B[49m\u001B[43mprop\u001B[49m\u001B[43m,\u001B[49m\u001B[43m \u001B[49m\u001B[43mvalue\u001B[49m\u001B[43m)\u001B[49m\n\u001B[1;32m   4860\u001B[0m \u001B[38;5;28;01melse\u001B[39;00m:\n\u001B[1;32m   4861\u001B[0m     \u001B[38;5;66;03m# Make sure properties dict is initialized\u001B[39;00m\n\u001B[1;32m   4862\u001B[0m     \u001B[38;5;28mself\u001B[39m\u001B[38;5;241m.\u001B[39m_init_props()\n",
      "File \u001B[0;32m~/.local/share/virtualenvs/Demand-of-Data-Scientist-in-Malaysia-hEWWIcNH/lib/python3.10/site-packages/plotly/basedatatypes.py:5203\u001B[0m, in \u001B[0;36mBasePlotlyType._set_prop\u001B[0;34m(self, prop, val)\u001B[0m\n\u001B[1;32m   5201\u001B[0m         \u001B[38;5;28;01mreturn\u001B[39;00m\n\u001B[1;32m   5202\u001B[0m     \u001B[38;5;28;01melse\u001B[39;00m:\n\u001B[0;32m-> 5203\u001B[0m         \u001B[38;5;28;01mraise\u001B[39;00m err\n\u001B[1;32m   5205\u001B[0m \u001B[38;5;66;03m# val is None\u001B[39;00m\n\u001B[1;32m   5206\u001B[0m \u001B[38;5;66;03m# -----------\u001B[39;00m\n\u001B[1;32m   5207\u001B[0m \u001B[38;5;28;01mif\u001B[39;00m val \u001B[38;5;129;01mis\u001B[39;00m \u001B[38;5;28;01mNone\u001B[39;00m:\n\u001B[1;32m   5208\u001B[0m     \u001B[38;5;66;03m# Check if we should send null update\u001B[39;00m\n",
      "File \u001B[0;32m~/.local/share/virtualenvs/Demand-of-Data-Scientist-in-Malaysia-hEWWIcNH/lib/python3.10/site-packages/plotly/basedatatypes.py:5198\u001B[0m, in \u001B[0;36mBasePlotlyType._set_prop\u001B[0;34m(self, prop, val)\u001B[0m\n\u001B[1;32m   5195\u001B[0m validator \u001B[38;5;241m=\u001B[39m \u001B[38;5;28mself\u001B[39m\u001B[38;5;241m.\u001B[39m_get_validator(prop)\n\u001B[1;32m   5197\u001B[0m \u001B[38;5;28;01mtry\u001B[39;00m:\n\u001B[0;32m-> 5198\u001B[0m     val \u001B[38;5;241m=\u001B[39m \u001B[43mvalidator\u001B[49m\u001B[38;5;241;43m.\u001B[39;49m\u001B[43mvalidate_coerce\u001B[49m\u001B[43m(\u001B[49m\u001B[43mval\u001B[49m\u001B[43m)\u001B[49m\n\u001B[1;32m   5199\u001B[0m \u001B[38;5;28;01mexcept\u001B[39;00m \u001B[38;5;167;01mValueError\u001B[39;00m \u001B[38;5;28;01mas\u001B[39;00m err:\n\u001B[1;32m   5200\u001B[0m     \u001B[38;5;28;01mif\u001B[39;00m \u001B[38;5;28mself\u001B[39m\u001B[38;5;241m.\u001B[39m_skip_invalid:\n",
      "File \u001B[0;32m~/.local/share/virtualenvs/Demand-of-Data-Scientist-in-Malaysia-hEWWIcNH/lib/python3.10/site-packages/_plotly_utils/basevalidators.py:1375\u001B[0m, in \u001B[0;36mColorValidator.validate_coerce\u001B[0;34m(self, v, should_raise)\u001B[0m\n\u001B[1;32m   1373\u001B[0m     validated_v \u001B[38;5;241m=\u001B[39m \u001B[38;5;28mself\u001B[39m\u001B[38;5;241m.\u001B[39mvc_scalar(v)\n\u001B[1;32m   1374\u001B[0m     \u001B[38;5;28;01mif\u001B[39;00m validated_v \u001B[38;5;129;01mis\u001B[39;00m \u001B[38;5;28;01mNone\u001B[39;00m \u001B[38;5;129;01mand\u001B[39;00m should_raise:\n\u001B[0;32m-> 1375\u001B[0m         \u001B[38;5;28;43mself\u001B[39;49m\u001B[38;5;241;43m.\u001B[39;49m\u001B[43mraise_invalid_val\u001B[49m\u001B[43m(\u001B[49m\u001B[43mv\u001B[49m\u001B[43m)\u001B[49m\n\u001B[1;32m   1377\u001B[0m     v \u001B[38;5;241m=\u001B[39m validated_v\n\u001B[1;32m   1379\u001B[0m \u001B[38;5;28;01mreturn\u001B[39;00m v\n",
      "File \u001B[0;32m~/.local/share/virtualenvs/Demand-of-Data-Scientist-in-Malaysia-hEWWIcNH/lib/python3.10/site-packages/_plotly_utils/basevalidators.py:288\u001B[0m, in \u001B[0;36mBaseValidator.raise_invalid_val\u001B[0;34m(self, v, inds)\u001B[0m\n\u001B[1;32m    285\u001B[0m             \u001B[38;5;28;01mfor\u001B[39;00m i \u001B[38;5;129;01min\u001B[39;00m inds:\n\u001B[1;32m    286\u001B[0m                 name \u001B[38;5;241m+\u001B[39m\u001B[38;5;241m=\u001B[39m \u001B[38;5;124m\"\u001B[39m\u001B[38;5;124m[\u001B[39m\u001B[38;5;124m\"\u001B[39m \u001B[38;5;241m+\u001B[39m \u001B[38;5;28mstr\u001B[39m(i) \u001B[38;5;241m+\u001B[39m \u001B[38;5;124m\"\u001B[39m\u001B[38;5;124m]\u001B[39m\u001B[38;5;124m\"\u001B[39m\n\u001B[0;32m--> 288\u001B[0m         \u001B[38;5;28;01mraise\u001B[39;00m \u001B[38;5;167;01mValueError\u001B[39;00m(\n\u001B[1;32m    289\u001B[0m \u001B[38;5;250m            \u001B[39m\u001B[38;5;124;03m\"\"\"\u001B[39;00m\n\u001B[1;32m    290\u001B[0m \u001B[38;5;124;03m    Invalid value of type {typ} received for the '{name}' property of {pname}\u001B[39;00m\n\u001B[1;32m    291\u001B[0m \u001B[38;5;124;03m        Received value: {v}\u001B[39;00m\n\u001B[1;32m    292\u001B[0m \n\u001B[1;32m    293\u001B[0m \u001B[38;5;124;03m{valid_clr_desc}\"\"\"\u001B[39;00m\u001B[38;5;241m.\u001B[39mformat(\n\u001B[1;32m    294\u001B[0m                 name\u001B[38;5;241m=\u001B[39mname,\n\u001B[1;32m    295\u001B[0m                 pname\u001B[38;5;241m=\u001B[39m\u001B[38;5;28mself\u001B[39m\u001B[38;5;241m.\u001B[39mparent_name,\n\u001B[1;32m    296\u001B[0m                 typ\u001B[38;5;241m=\u001B[39mtype_str(v),\n\u001B[1;32m    297\u001B[0m                 v\u001B[38;5;241m=\u001B[39m\u001B[38;5;28mrepr\u001B[39m(v),\n\u001B[1;32m    298\u001B[0m                 valid_clr_desc\u001B[38;5;241m=\u001B[39m\u001B[38;5;28mself\u001B[39m\u001B[38;5;241m.\u001B[39mdescription(),\n\u001B[1;32m    299\u001B[0m             )\n\u001B[1;32m    300\u001B[0m         )\n",
      "\u001B[0;31mValueError\u001B[0m: \n    Invalid value of type 'builtins.str' received for the 'color' property of bar.marker\n        Received value: 'r'\n\n    The 'color' property is a color and may be specified as:\n      - A hex string (e.g. '#ff0000')\n      - An rgb/rgba string (e.g. 'rgb(255,0,0)')\n      - An hsl/hsla string (e.g. 'hsl(0,100%,50%)')\n      - An hsv/hsva string (e.g. 'hsv(0,100%,100%)')\n      - A named CSS color:\n            aliceblue, antiquewhite, aqua, aquamarine, azure,\n            beige, bisque, black, blanchedalmond, blue,\n            blueviolet, brown, burlywood, cadetblue,\n            chartreuse, chocolate, coral, cornflowerblue,\n            cornsilk, crimson, cyan, darkblue, darkcyan,\n            darkgoldenrod, darkgray, darkgrey, darkgreen,\n            darkkhaki, darkmagenta, darkolivegreen, darkorange,\n            darkorchid, darkred, darksalmon, darkseagreen,\n            darkslateblue, darkslategray, darkslategrey,\n            darkturquoise, darkviolet, deeppink, deepskyblue,\n            dimgray, dimgrey, dodgerblue, firebrick,\n            floralwhite, forestgreen, fuchsia, gainsboro,\n            ghostwhite, gold, goldenrod, gray, grey, green,\n            greenyellow, honeydew, hotpink, indianred, indigo,\n            ivory, khaki, lavender, lavenderblush, lawngreen,\n            lemonchiffon, lightblue, lightcoral, lightcyan,\n            lightgoldenrodyellow, lightgray, lightgrey,\n            lightgreen, lightpink, lightsalmon, lightseagreen,\n            lightskyblue, lightslategray, lightslategrey,\n            lightsteelblue, lightyellow, lime, limegreen,\n            linen, magenta, maroon, mediumaquamarine,\n            mediumblue, mediumorchid, mediumpurple,\n            mediumseagreen, mediumslateblue, mediumspringgreen,\n            mediumturquoise, mediumvioletred, midnightblue,\n            mintcream, mistyrose, moccasin, navajowhite, navy,\n            oldlace, olive, olivedrab, orange, orangered,\n            orchid, palegoldenrod, palegreen, paleturquoise,\n            palevioletred, papayawhip, peachpuff, peru, pink,\n            plum, powderblue, purple, red, rosybrown,\n            royalblue, rebeccapurple, saddlebrown, salmon,\n            sandybrown, seagreen, seashell, sienna, silver,\n            skyblue, slateblue, slategray, slategrey, snow,\n            springgreen, steelblue, tan, teal, thistle, tomato,\n            turquoise, violet, wheat, white, whitesmoke,\n            yellow, yellowgreen\n      - A number that will be interpreted as a color\n        according to bar.marker.colorscale\n      - A list or array of any of the above"
     ]
    }
   ],
   "source": [
    "fig = px.bar(location_top, x='job_openings', y='locations', text_auto='.2s',color_discrete_sequence=px.colors.qualitative.Dark2[2], orientation='h',\n",
    "             title=\"Top 20 locations with the most job openings\")\n",
    "fig.update_traces(textfont_size=12, textangle=0, textposition=\"outside\", cliponaxis=False)\n",
    "fig.show()"
   ],
   "metadata": {
    "collapsed": false
   }
  },
  {
   "cell_type": "code",
   "execution_count": 49,
   "outputs": [
    {
     "data": {
      "application/vnd.plotly.v1+json": {
       "data": [
        {
         "domain": {
          "x": [
           0.0,
           1.0
          ],
          "y": [
           0.0,
           1.0
          ]
         },
         "hovertemplate": "locations=%{label}<extra></extra>",
         "labels": [
          "Kuala Lumpur",
          "Petaling Jaya",
          "Selangor",
          "Penang",
          "Bayan Lepas",
          "Malaysia",
          "Cyberjaya",
          "Shah Alam/Subang",
          "George Town",
          "Singapore",
          "Johor Bahru",
          "Johor",
          "Melaka",
          "Puchong",
          "Kulim",
          "Subang Jaya",
          "Kuching",
          "Company Confidential",
          "Shah Alam/Subang, Shah Alam/Subang",
          "Klang/Port Klang"
         ],
         "legendgroup": "",
         "name": "",
         "showlegend": true,
         "type": "pie"
        }
       ],
       "layout": {
        "template": {
         "data": {
          "histogram2dcontour": [
           {
            "type": "histogram2dcontour",
            "colorbar": {
             "outlinewidth": 0,
             "ticks": ""
            },
            "colorscale": [
             [
              0.0,
              "#0d0887"
             ],
             [
              0.1111111111111111,
              "#46039f"
             ],
             [
              0.2222222222222222,
              "#7201a8"
             ],
             [
              0.3333333333333333,
              "#9c179e"
             ],
             [
              0.4444444444444444,
              "#bd3786"
             ],
             [
              0.5555555555555556,
              "#d8576b"
             ],
             [
              0.6666666666666666,
              "#ed7953"
             ],
             [
              0.7777777777777778,
              "#fb9f3a"
             ],
             [
              0.8888888888888888,
              "#fdca26"
             ],
             [
              1.0,
              "#f0f921"
             ]
            ]
           }
          ],
          "choropleth": [
           {
            "type": "choropleth",
            "colorbar": {
             "outlinewidth": 0,
             "ticks": ""
            }
           }
          ],
          "histogram2d": [
           {
            "type": "histogram2d",
            "colorbar": {
             "outlinewidth": 0,
             "ticks": ""
            },
            "colorscale": [
             [
              0.0,
              "#0d0887"
             ],
             [
              0.1111111111111111,
              "#46039f"
             ],
             [
              0.2222222222222222,
              "#7201a8"
             ],
             [
              0.3333333333333333,
              "#9c179e"
             ],
             [
              0.4444444444444444,
              "#bd3786"
             ],
             [
              0.5555555555555556,
              "#d8576b"
             ],
             [
              0.6666666666666666,
              "#ed7953"
             ],
             [
              0.7777777777777778,
              "#fb9f3a"
             ],
             [
              0.8888888888888888,
              "#fdca26"
             ],
             [
              1.0,
              "#f0f921"
             ]
            ]
           }
          ],
          "heatmap": [
           {
            "type": "heatmap",
            "colorbar": {
             "outlinewidth": 0,
             "ticks": ""
            },
            "colorscale": [
             [
              0.0,
              "#0d0887"
             ],
             [
              0.1111111111111111,
              "#46039f"
             ],
             [
              0.2222222222222222,
              "#7201a8"
             ],
             [
              0.3333333333333333,
              "#9c179e"
             ],
             [
              0.4444444444444444,
              "#bd3786"
             ],
             [
              0.5555555555555556,
              "#d8576b"
             ],
             [
              0.6666666666666666,
              "#ed7953"
             ],
             [
              0.7777777777777778,
              "#fb9f3a"
             ],
             [
              0.8888888888888888,
              "#fdca26"
             ],
             [
              1.0,
              "#f0f921"
             ]
            ]
           }
          ],
          "heatmapgl": [
           {
            "type": "heatmapgl",
            "colorbar": {
             "outlinewidth": 0,
             "ticks": ""
            },
            "colorscale": [
             [
              0.0,
              "#0d0887"
             ],
             [
              0.1111111111111111,
              "#46039f"
             ],
             [
              0.2222222222222222,
              "#7201a8"
             ],
             [
              0.3333333333333333,
              "#9c179e"
             ],
             [
              0.4444444444444444,
              "#bd3786"
             ],
             [
              0.5555555555555556,
              "#d8576b"
             ],
             [
              0.6666666666666666,
              "#ed7953"
             ],
             [
              0.7777777777777778,
              "#fb9f3a"
             ],
             [
              0.8888888888888888,
              "#fdca26"
             ],
             [
              1.0,
              "#f0f921"
             ]
            ]
           }
          ],
          "contourcarpet": [
           {
            "type": "contourcarpet",
            "colorbar": {
             "outlinewidth": 0,
             "ticks": ""
            }
           }
          ],
          "contour": [
           {
            "type": "contour",
            "colorbar": {
             "outlinewidth": 0,
             "ticks": ""
            },
            "colorscale": [
             [
              0.0,
              "#0d0887"
             ],
             [
              0.1111111111111111,
              "#46039f"
             ],
             [
              0.2222222222222222,
              "#7201a8"
             ],
             [
              0.3333333333333333,
              "#9c179e"
             ],
             [
              0.4444444444444444,
              "#bd3786"
             ],
             [
              0.5555555555555556,
              "#d8576b"
             ],
             [
              0.6666666666666666,
              "#ed7953"
             ],
             [
              0.7777777777777778,
              "#fb9f3a"
             ],
             [
              0.8888888888888888,
              "#fdca26"
             ],
             [
              1.0,
              "#f0f921"
             ]
            ]
           }
          ],
          "surface": [
           {
            "type": "surface",
            "colorbar": {
             "outlinewidth": 0,
             "ticks": ""
            },
            "colorscale": [
             [
              0.0,
              "#0d0887"
             ],
             [
              0.1111111111111111,
              "#46039f"
             ],
             [
              0.2222222222222222,
              "#7201a8"
             ],
             [
              0.3333333333333333,
              "#9c179e"
             ],
             [
              0.4444444444444444,
              "#bd3786"
             ],
             [
              0.5555555555555556,
              "#d8576b"
             ],
             [
              0.6666666666666666,
              "#ed7953"
             ],
             [
              0.7777777777777778,
              "#fb9f3a"
             ],
             [
              0.8888888888888888,
              "#fdca26"
             ],
             [
              1.0,
              "#f0f921"
             ]
            ]
           }
          ],
          "mesh3d": [
           {
            "type": "mesh3d",
            "colorbar": {
             "outlinewidth": 0,
             "ticks": ""
            }
           }
          ],
          "scatter": [
           {
            "marker": {
             "line": {
              "color": "#283442"
             }
            },
            "type": "scatter"
           }
          ],
          "parcoords": [
           {
            "type": "parcoords",
            "line": {
             "colorbar": {
              "outlinewidth": 0,
              "ticks": ""
             }
            }
           }
          ],
          "scatterpolargl": [
           {
            "type": "scatterpolargl",
            "marker": {
             "colorbar": {
              "outlinewidth": 0,
              "ticks": ""
             }
            }
           }
          ],
          "bar": [
           {
            "error_x": {
             "color": "#f2f5fa"
            },
            "error_y": {
             "color": "#f2f5fa"
            },
            "marker": {
             "line": {
              "color": "rgb(17,17,17)",
              "width": 0.5
             },
             "pattern": {
              "fillmode": "overlay",
              "size": 10,
              "solidity": 0.2
             }
            },
            "type": "bar"
           }
          ],
          "scattergeo": [
           {
            "type": "scattergeo",
            "marker": {
             "colorbar": {
              "outlinewidth": 0,
              "ticks": ""
             }
            }
           }
          ],
          "scatterpolar": [
           {
            "type": "scatterpolar",
            "marker": {
             "colorbar": {
              "outlinewidth": 0,
              "ticks": ""
             }
            }
           }
          ],
          "histogram": [
           {
            "marker": {
             "pattern": {
              "fillmode": "overlay",
              "size": 10,
              "solidity": 0.2
             }
            },
            "type": "histogram"
           }
          ],
          "scattergl": [
           {
            "marker": {
             "line": {
              "color": "#283442"
             }
            },
            "type": "scattergl"
           }
          ],
          "scatter3d": [
           {
            "type": "scatter3d",
            "line": {
             "colorbar": {
              "outlinewidth": 0,
              "ticks": ""
             }
            },
            "marker": {
             "colorbar": {
              "outlinewidth": 0,
              "ticks": ""
             }
            }
           }
          ],
          "scattermapbox": [
           {
            "type": "scattermapbox",
            "marker": {
             "colorbar": {
              "outlinewidth": 0,
              "ticks": ""
             }
            }
           }
          ],
          "scatterternary": [
           {
            "type": "scatterternary",
            "marker": {
             "colorbar": {
              "outlinewidth": 0,
              "ticks": ""
             }
            }
           }
          ],
          "scattercarpet": [
           {
            "type": "scattercarpet",
            "marker": {
             "colorbar": {
              "outlinewidth": 0,
              "ticks": ""
             }
            }
           }
          ],
          "carpet": [
           {
            "aaxis": {
             "endlinecolor": "#A2B1C6",
             "gridcolor": "#506784",
             "linecolor": "#506784",
             "minorgridcolor": "#506784",
             "startlinecolor": "#A2B1C6"
            },
            "baxis": {
             "endlinecolor": "#A2B1C6",
             "gridcolor": "#506784",
             "linecolor": "#506784",
             "minorgridcolor": "#506784",
             "startlinecolor": "#A2B1C6"
            },
            "type": "carpet"
           }
          ],
          "table": [
           {
            "cells": {
             "fill": {
              "color": "#506784"
             },
             "line": {
              "color": "rgb(17,17,17)"
             }
            },
            "header": {
             "fill": {
              "color": "#2a3f5f"
             },
             "line": {
              "color": "rgb(17,17,17)"
             }
            },
            "type": "table"
           }
          ],
          "barpolar": [
           {
            "marker": {
             "line": {
              "color": "rgb(17,17,17)",
              "width": 0.5
             },
             "pattern": {
              "fillmode": "overlay",
              "size": 10,
              "solidity": 0.2
             }
            },
            "type": "barpolar"
           }
          ],
          "pie": [
           {
            "automargin": true,
            "type": "pie"
           }
          ]
         },
         "layout": {
          "autotypenumbers": "strict",
          "colorway": [
           "#636efa",
           "#EF553B",
           "#00cc96",
           "#ab63fa",
           "#FFA15A",
           "#19d3f3",
           "#FF6692",
           "#B6E880",
           "#FF97FF",
           "#FECB52"
          ],
          "font": {
           "color": "#f2f5fa"
          },
          "hovermode": "closest",
          "hoverlabel": {
           "align": "left"
          },
          "paper_bgcolor": "rgb(17,17,17)",
          "plot_bgcolor": "rgb(17,17,17)",
          "polar": {
           "bgcolor": "rgb(17,17,17)",
           "angularaxis": {
            "gridcolor": "#506784",
            "linecolor": "#506784",
            "ticks": ""
           },
           "radialaxis": {
            "gridcolor": "#506784",
            "linecolor": "#506784",
            "ticks": ""
           }
          },
          "ternary": {
           "bgcolor": "rgb(17,17,17)",
           "aaxis": {
            "gridcolor": "#506784",
            "linecolor": "#506784",
            "ticks": ""
           },
           "baxis": {
            "gridcolor": "#506784",
            "linecolor": "#506784",
            "ticks": ""
           },
           "caxis": {
            "gridcolor": "#506784",
            "linecolor": "#506784",
            "ticks": ""
           }
          },
          "coloraxis": {
           "colorbar": {
            "outlinewidth": 0,
            "ticks": ""
           }
          },
          "colorscale": {
           "sequential": [
            [
             0.0,
             "#0d0887"
            ],
            [
             0.1111111111111111,
             "#46039f"
            ],
            [
             0.2222222222222222,
             "#7201a8"
            ],
            [
             0.3333333333333333,
             "#9c179e"
            ],
            [
             0.4444444444444444,
             "#bd3786"
            ],
            [
             0.5555555555555556,
             "#d8576b"
            ],
            [
             0.6666666666666666,
             "#ed7953"
            ],
            [
             0.7777777777777778,
             "#fb9f3a"
            ],
            [
             0.8888888888888888,
             "#fdca26"
            ],
            [
             1.0,
             "#f0f921"
            ]
           ],
           "sequentialminus": [
            [
             0.0,
             "#0d0887"
            ],
            [
             0.1111111111111111,
             "#46039f"
            ],
            [
             0.2222222222222222,
             "#7201a8"
            ],
            [
             0.3333333333333333,
             "#9c179e"
            ],
            [
             0.4444444444444444,
             "#bd3786"
            ],
            [
             0.5555555555555556,
             "#d8576b"
            ],
            [
             0.6666666666666666,
             "#ed7953"
            ],
            [
             0.7777777777777778,
             "#fb9f3a"
            ],
            [
             0.8888888888888888,
             "#fdca26"
            ],
            [
             1.0,
             "#f0f921"
            ]
           ],
           "diverging": [
            [
             0,
             "#8e0152"
            ],
            [
             0.1,
             "#c51b7d"
            ],
            [
             0.2,
             "#de77ae"
            ],
            [
             0.3,
             "#f1b6da"
            ],
            [
             0.4,
             "#fde0ef"
            ],
            [
             0.5,
             "#f7f7f7"
            ],
            [
             0.6,
             "#e6f5d0"
            ],
            [
             0.7,
             "#b8e186"
            ],
            [
             0.8,
             "#7fbc41"
            ],
            [
             0.9,
             "#4d9221"
            ],
            [
             1,
             "#276419"
            ]
           ]
          },
          "xaxis": {
           "gridcolor": "#283442",
           "linecolor": "#506784",
           "ticks": "",
           "title": {
            "standoff": 15
           },
           "zerolinecolor": "#283442",
           "automargin": true,
           "zerolinewidth": 2
          },
          "yaxis": {
           "gridcolor": "#283442",
           "linecolor": "#506784",
           "ticks": "",
           "title": {
            "standoff": 15
           },
           "zerolinecolor": "#283442",
           "automargin": true,
           "zerolinewidth": 2
          },
          "scene": {
           "xaxis": {
            "backgroundcolor": "rgb(17,17,17)",
            "gridcolor": "#506784",
            "linecolor": "#506784",
            "showbackground": true,
            "ticks": "",
            "zerolinecolor": "#C8D4E3",
            "gridwidth": 2
           },
           "yaxis": {
            "backgroundcolor": "rgb(17,17,17)",
            "gridcolor": "#506784",
            "linecolor": "#506784",
            "showbackground": true,
            "ticks": "",
            "zerolinecolor": "#C8D4E3",
            "gridwidth": 2
           },
           "zaxis": {
            "backgroundcolor": "rgb(17,17,17)",
            "gridcolor": "#506784",
            "linecolor": "#506784",
            "showbackground": true,
            "ticks": "",
            "zerolinecolor": "#C8D4E3",
            "gridwidth": 2
           }
          },
          "shapedefaults": {
           "line": {
            "color": "#f2f5fa"
           }
          },
          "annotationdefaults": {
           "arrowcolor": "#f2f5fa",
           "arrowhead": 0,
           "arrowwidth": 1
          },
          "geo": {
           "bgcolor": "rgb(17,17,17)",
           "landcolor": "rgb(17,17,17)",
           "subunitcolor": "#506784",
           "showland": true,
           "showlakes": true,
           "lakecolor": "rgb(17,17,17)"
          },
          "title": {
           "x": 0.05
          },
          "updatemenudefaults": {
           "bgcolor": "#506784",
           "borderwidth": 0
          },
          "sliderdefaults": {
           "bgcolor": "#C8D4E3",
           "borderwidth": 1,
           "bordercolor": "rgb(17,17,17)",
           "tickwidth": 0
          },
          "mapbox": {
           "style": "dark"
          }
         }
        },
        "legend": {
         "tracegroupgap": 0
        },
        "title": {
         "text": "Distribution of Job Openings by location"
        },
        "piecolorway": [
         "rgb(102,194,165)",
         "rgb(252,141,98)",
         "rgb(141,160,203)",
         "rgb(231,138,195)",
         "rgb(166,216,84)",
         "rgb(255,217,47)",
         "rgb(229,196,148)",
         "rgb(179,179,179)"
        ]
       },
       "config": {
        "plotlyServerURL": "https://plot.ly"
       }
      },
      "text/html": "<div>                            <div id=\"33e46ee2-b583-4851-adb7-1ae837e113c1\" class=\"plotly-graph-div\" style=\"height:525px; width:100%;\"></div>            <script type=\"text/javascript\">                require([\"plotly\"], function(Plotly) {                    window.PLOTLYENV=window.PLOTLYENV || {};                                    if (document.getElementById(\"33e46ee2-b583-4851-adb7-1ae837e113c1\")) {                    Plotly.newPlot(                        \"33e46ee2-b583-4851-adb7-1ae837e113c1\",                        [{\"domain\":{\"x\":[0.0,1.0],\"y\":[0.0,1.0]},\"hovertemplate\":\"locations=%{label}<extra></extra>\",\"labels\":[\"Kuala Lumpur\",\"Petaling Jaya\",\"Selangor\",\"Penang\",\"Bayan Lepas\",\"Malaysia\",\"Cyberjaya\",\"Shah Alam/Subang\",\"George Town\",\"Singapore\",\"Johor Bahru\",\"Johor\",\"Melaka\",\"Puchong\",\"Kulim\",\"Subang Jaya\",\"Kuching\",\"Company Confidential\",\"Shah Alam/Subang, Shah Alam/Subang\",\"Klang/Port Klang\"],\"legendgroup\":\"\",\"name\":\"\",\"showlegend\":true,\"type\":\"pie\"}],                        {\"template\":{\"data\":{\"histogram2dcontour\":[{\"type\":\"histogram2dcontour\",\"colorbar\":{\"outlinewidth\":0,\"ticks\":\"\"},\"colorscale\":[[0.0,\"#0d0887\"],[0.1111111111111111,\"#46039f\"],[0.2222222222222222,\"#7201a8\"],[0.3333333333333333,\"#9c179e\"],[0.4444444444444444,\"#bd3786\"],[0.5555555555555556,\"#d8576b\"],[0.6666666666666666,\"#ed7953\"],[0.7777777777777778,\"#fb9f3a\"],[0.8888888888888888,\"#fdca26\"],[1.0,\"#f0f921\"]]}],\"choropleth\":[{\"type\":\"choropleth\",\"colorbar\":{\"outlinewidth\":0,\"ticks\":\"\"}}],\"histogram2d\":[{\"type\":\"histogram2d\",\"colorbar\":{\"outlinewidth\":0,\"ticks\":\"\"},\"colorscale\":[[0.0,\"#0d0887\"],[0.1111111111111111,\"#46039f\"],[0.2222222222222222,\"#7201a8\"],[0.3333333333333333,\"#9c179e\"],[0.4444444444444444,\"#bd3786\"],[0.5555555555555556,\"#d8576b\"],[0.6666666666666666,\"#ed7953\"],[0.7777777777777778,\"#fb9f3a\"],[0.8888888888888888,\"#fdca26\"],[1.0,\"#f0f921\"]]}],\"heatmap\":[{\"type\":\"heatmap\",\"colorbar\":{\"outlinewidth\":0,\"ticks\":\"\"},\"colorscale\":[[0.0,\"#0d0887\"],[0.1111111111111111,\"#46039f\"],[0.2222222222222222,\"#7201a8\"],[0.3333333333333333,\"#9c179e\"],[0.4444444444444444,\"#bd3786\"],[0.5555555555555556,\"#d8576b\"],[0.6666666666666666,\"#ed7953\"],[0.7777777777777778,\"#fb9f3a\"],[0.8888888888888888,\"#fdca26\"],[1.0,\"#f0f921\"]]}],\"heatmapgl\":[{\"type\":\"heatmapgl\",\"colorbar\":{\"outlinewidth\":0,\"ticks\":\"\"},\"colorscale\":[[0.0,\"#0d0887\"],[0.1111111111111111,\"#46039f\"],[0.2222222222222222,\"#7201a8\"],[0.3333333333333333,\"#9c179e\"],[0.4444444444444444,\"#bd3786\"],[0.5555555555555556,\"#d8576b\"],[0.6666666666666666,\"#ed7953\"],[0.7777777777777778,\"#fb9f3a\"],[0.8888888888888888,\"#fdca26\"],[1.0,\"#f0f921\"]]}],\"contourcarpet\":[{\"type\":\"contourcarpet\",\"colorbar\":{\"outlinewidth\":0,\"ticks\":\"\"}}],\"contour\":[{\"type\":\"contour\",\"colorbar\":{\"outlinewidth\":0,\"ticks\":\"\"},\"colorscale\":[[0.0,\"#0d0887\"],[0.1111111111111111,\"#46039f\"],[0.2222222222222222,\"#7201a8\"],[0.3333333333333333,\"#9c179e\"],[0.4444444444444444,\"#bd3786\"],[0.5555555555555556,\"#d8576b\"],[0.6666666666666666,\"#ed7953\"],[0.7777777777777778,\"#fb9f3a\"],[0.8888888888888888,\"#fdca26\"],[1.0,\"#f0f921\"]]}],\"surface\":[{\"type\":\"surface\",\"colorbar\":{\"outlinewidth\":0,\"ticks\":\"\"},\"colorscale\":[[0.0,\"#0d0887\"],[0.1111111111111111,\"#46039f\"],[0.2222222222222222,\"#7201a8\"],[0.3333333333333333,\"#9c179e\"],[0.4444444444444444,\"#bd3786\"],[0.5555555555555556,\"#d8576b\"],[0.6666666666666666,\"#ed7953\"],[0.7777777777777778,\"#fb9f3a\"],[0.8888888888888888,\"#fdca26\"],[1.0,\"#f0f921\"]]}],\"mesh3d\":[{\"type\":\"mesh3d\",\"colorbar\":{\"outlinewidth\":0,\"ticks\":\"\"}}],\"scatter\":[{\"marker\":{\"line\":{\"color\":\"#283442\"}},\"type\":\"scatter\"}],\"parcoords\":[{\"type\":\"parcoords\",\"line\":{\"colorbar\":{\"outlinewidth\":0,\"ticks\":\"\"}}}],\"scatterpolargl\":[{\"type\":\"scatterpolargl\",\"marker\":{\"colorbar\":{\"outlinewidth\":0,\"ticks\":\"\"}}}],\"bar\":[{\"error_x\":{\"color\":\"#f2f5fa\"},\"error_y\":{\"color\":\"#f2f5fa\"},\"marker\":{\"line\":{\"color\":\"rgb(17,17,17)\",\"width\":0.5},\"pattern\":{\"fillmode\":\"overlay\",\"size\":10,\"solidity\":0.2}},\"type\":\"bar\"}],\"scattergeo\":[{\"type\":\"scattergeo\",\"marker\":{\"colorbar\":{\"outlinewidth\":0,\"ticks\":\"\"}}}],\"scatterpolar\":[{\"type\":\"scatterpolar\",\"marker\":{\"colorbar\":{\"outlinewidth\":0,\"ticks\":\"\"}}}],\"histogram\":[{\"marker\":{\"pattern\":{\"fillmode\":\"overlay\",\"size\":10,\"solidity\":0.2}},\"type\":\"histogram\"}],\"scattergl\":[{\"marker\":{\"line\":{\"color\":\"#283442\"}},\"type\":\"scattergl\"}],\"scatter3d\":[{\"type\":\"scatter3d\",\"line\":{\"colorbar\":{\"outlinewidth\":0,\"ticks\":\"\"}},\"marker\":{\"colorbar\":{\"outlinewidth\":0,\"ticks\":\"\"}}}],\"scattermapbox\":[{\"type\":\"scattermapbox\",\"marker\":{\"colorbar\":{\"outlinewidth\":0,\"ticks\":\"\"}}}],\"scatterternary\":[{\"type\":\"scatterternary\",\"marker\":{\"colorbar\":{\"outlinewidth\":0,\"ticks\":\"\"}}}],\"scattercarpet\":[{\"type\":\"scattercarpet\",\"marker\":{\"colorbar\":{\"outlinewidth\":0,\"ticks\":\"\"}}}],\"carpet\":[{\"aaxis\":{\"endlinecolor\":\"#A2B1C6\",\"gridcolor\":\"#506784\",\"linecolor\":\"#506784\",\"minorgridcolor\":\"#506784\",\"startlinecolor\":\"#A2B1C6\"},\"baxis\":{\"endlinecolor\":\"#A2B1C6\",\"gridcolor\":\"#506784\",\"linecolor\":\"#506784\",\"minorgridcolor\":\"#506784\",\"startlinecolor\":\"#A2B1C6\"},\"type\":\"carpet\"}],\"table\":[{\"cells\":{\"fill\":{\"color\":\"#506784\"},\"line\":{\"color\":\"rgb(17,17,17)\"}},\"header\":{\"fill\":{\"color\":\"#2a3f5f\"},\"line\":{\"color\":\"rgb(17,17,17)\"}},\"type\":\"table\"}],\"barpolar\":[{\"marker\":{\"line\":{\"color\":\"rgb(17,17,17)\",\"width\":0.5},\"pattern\":{\"fillmode\":\"overlay\",\"size\":10,\"solidity\":0.2}},\"type\":\"barpolar\"}],\"pie\":[{\"automargin\":true,\"type\":\"pie\"}]},\"layout\":{\"autotypenumbers\":\"strict\",\"colorway\":[\"#636efa\",\"#EF553B\",\"#00cc96\",\"#ab63fa\",\"#FFA15A\",\"#19d3f3\",\"#FF6692\",\"#B6E880\",\"#FF97FF\",\"#FECB52\"],\"font\":{\"color\":\"#f2f5fa\"},\"hovermode\":\"closest\",\"hoverlabel\":{\"align\":\"left\"},\"paper_bgcolor\":\"rgb(17,17,17)\",\"plot_bgcolor\":\"rgb(17,17,17)\",\"polar\":{\"bgcolor\":\"rgb(17,17,17)\",\"angularaxis\":{\"gridcolor\":\"#506784\",\"linecolor\":\"#506784\",\"ticks\":\"\"},\"radialaxis\":{\"gridcolor\":\"#506784\",\"linecolor\":\"#506784\",\"ticks\":\"\"}},\"ternary\":{\"bgcolor\":\"rgb(17,17,17)\",\"aaxis\":{\"gridcolor\":\"#506784\",\"linecolor\":\"#506784\",\"ticks\":\"\"},\"baxis\":{\"gridcolor\":\"#506784\",\"linecolor\":\"#506784\",\"ticks\":\"\"},\"caxis\":{\"gridcolor\":\"#506784\",\"linecolor\":\"#506784\",\"ticks\":\"\"}},\"coloraxis\":{\"colorbar\":{\"outlinewidth\":0,\"ticks\":\"\"}},\"colorscale\":{\"sequential\":[[0.0,\"#0d0887\"],[0.1111111111111111,\"#46039f\"],[0.2222222222222222,\"#7201a8\"],[0.3333333333333333,\"#9c179e\"],[0.4444444444444444,\"#bd3786\"],[0.5555555555555556,\"#d8576b\"],[0.6666666666666666,\"#ed7953\"],[0.7777777777777778,\"#fb9f3a\"],[0.8888888888888888,\"#fdca26\"],[1.0,\"#f0f921\"]],\"sequentialminus\":[[0.0,\"#0d0887\"],[0.1111111111111111,\"#46039f\"],[0.2222222222222222,\"#7201a8\"],[0.3333333333333333,\"#9c179e\"],[0.4444444444444444,\"#bd3786\"],[0.5555555555555556,\"#d8576b\"],[0.6666666666666666,\"#ed7953\"],[0.7777777777777778,\"#fb9f3a\"],[0.8888888888888888,\"#fdca26\"],[1.0,\"#f0f921\"]],\"diverging\":[[0,\"#8e0152\"],[0.1,\"#c51b7d\"],[0.2,\"#de77ae\"],[0.3,\"#f1b6da\"],[0.4,\"#fde0ef\"],[0.5,\"#f7f7f7\"],[0.6,\"#e6f5d0\"],[0.7,\"#b8e186\"],[0.8,\"#7fbc41\"],[0.9,\"#4d9221\"],[1,\"#276419\"]]},\"xaxis\":{\"gridcolor\":\"#283442\",\"linecolor\":\"#506784\",\"ticks\":\"\",\"title\":{\"standoff\":15},\"zerolinecolor\":\"#283442\",\"automargin\":true,\"zerolinewidth\":2},\"yaxis\":{\"gridcolor\":\"#283442\",\"linecolor\":\"#506784\",\"ticks\":\"\",\"title\":{\"standoff\":15},\"zerolinecolor\":\"#283442\",\"automargin\":true,\"zerolinewidth\":2},\"scene\":{\"xaxis\":{\"backgroundcolor\":\"rgb(17,17,17)\",\"gridcolor\":\"#506784\",\"linecolor\":\"#506784\",\"showbackground\":true,\"ticks\":\"\",\"zerolinecolor\":\"#C8D4E3\",\"gridwidth\":2},\"yaxis\":{\"backgroundcolor\":\"rgb(17,17,17)\",\"gridcolor\":\"#506784\",\"linecolor\":\"#506784\",\"showbackground\":true,\"ticks\":\"\",\"zerolinecolor\":\"#C8D4E3\",\"gridwidth\":2},\"zaxis\":{\"backgroundcolor\":\"rgb(17,17,17)\",\"gridcolor\":\"#506784\",\"linecolor\":\"#506784\",\"showbackground\":true,\"ticks\":\"\",\"zerolinecolor\":\"#C8D4E3\",\"gridwidth\":2}},\"shapedefaults\":{\"line\":{\"color\":\"#f2f5fa\"}},\"annotationdefaults\":{\"arrowcolor\":\"#f2f5fa\",\"arrowhead\":0,\"arrowwidth\":1},\"geo\":{\"bgcolor\":\"rgb(17,17,17)\",\"landcolor\":\"rgb(17,17,17)\",\"subunitcolor\":\"#506784\",\"showland\":true,\"showlakes\":true,\"lakecolor\":\"rgb(17,17,17)\"},\"title\":{\"x\":0.05},\"updatemenudefaults\":{\"bgcolor\":\"#506784\",\"borderwidth\":0},\"sliderdefaults\":{\"bgcolor\":\"#C8D4E3\",\"borderwidth\":1,\"bordercolor\":\"rgb(17,17,17)\",\"tickwidth\":0},\"mapbox\":{\"style\":\"dark\"}}},\"legend\":{\"tracegroupgap\":0},\"title\":{\"text\":\"Distribution of Job Openings by location\"},\"piecolorway\":[\"rgb(102,194,165)\",\"rgb(252,141,98)\",\"rgb(141,160,203)\",\"rgb(231,138,195)\",\"rgb(166,216,84)\",\"rgb(255,217,47)\",\"rgb(229,196,148)\",\"rgb(179,179,179)\"]},                        {\"responsive\": true}                    ).then(function(){\n                            \nvar gd = document.getElementById('33e46ee2-b583-4851-adb7-1ae837e113c1');\nvar x = new MutationObserver(function (mutations, observer) {{\n        var display = window.getComputedStyle(gd).display;\n        if (!display || display === 'none') {{\n            console.log([gd, 'removed!']);\n            Plotly.purge(gd);\n            observer.disconnect();\n        }}\n}});\n\n// Listen for the removal of the full notebook cells\nvar notebookContainer = gd.closest('#notebook-container');\nif (notebookContainer) {{\n    x.observe(notebookContainer, {childList: true});\n}}\n\n// Listen for the clearing of the current output cell\nvar outputEl = gd.closest('.output');\nif (outputEl) {{\n    x.observe(outputEl, {childList: true});\n}}\n\n                        })                };                });            </script>        </div>"
     },
     "metadata": {},
     "output_type": "display_data"
    }
   ],
   "source": [
    "import plotly.express as px\n",
    "\n",
    "fig = px.pie(location_top, names=\"locations\", title= 'Distribution of Job Openings by location',color_discrete_sequence=px.colors.qualitative.Set2)\n",
    "fig.show()"
   ],
   "metadata": {
    "collapsed": false
   }
  },
  {
   "cell_type": "markdown",
   "id": "4a2f6d28-fa89-4cbb-ae3d-90cc95247be6",
   "metadata": {},
   "source": [
    "### Skills"
   ]
  },
  {
   "cell_type": "code",
   "execution_count": 10,
   "id": "eb1d6e61-7a4c-40dc-bdeb-7e4ce5618ad6",
   "metadata": {},
   "outputs": [
    {
     "name": "stdout",
     "output_type": "stream",
     "text": [
      "['a.i', 'agile', 'ai', 'algorithms', 'analysis', 'automation', 'aws', 'azure', 'c+', 'c++', 'data analysis', 'data mining', 'data wrangling', 'deep learning', 'deployment', 'dl', 'etl', 'forecast', 'forecasting', 'hive', 'machine learning', 'mathematics', 'ml', 'modelling', 'mysql', 'natural language', 'nlp', 'nosql', 'numpy', 'pandas', 'phd', 'power b.i', 'powerbi', 'python', 'regression', 'sas', 'spark', 'sql', 'statistics', 'tableau', 'time series', 'visualization']\n"
     ]
    }
   ],
   "source": [
    "# Checking for DS skills in summary\n",
    "import pickle\n",
    "\n",
    "with open('DS_skills.pickle', 'rb') as skill:\n",
    "    skills = pickle.load(skill)\n",
    "print(skills)"
   ]
  },
  {
   "cell_type": "code",
   "execution_count": 11,
   "id": "b399d920-854f-47e1-a8ce-d416a5a96bd5",
   "metadata": {},
   "outputs": [],
   "source": [
    "# import random\n",
    "# def ds_skill(summary):\n",
    "#     skill_list = []\n",
    "    \n",
    "#     for word in summary.split():\n",
    "#         clean = word.lower().strip(' ,.:!?')\n",
    "#         if clean in skills:\n",
    "#             skill_list.append(clean)\n",
    "#         elif clean not in skills:\n",
    "#             clean1 = random.choices(skills,k=3)\n",
    "#             skill_list.append(clean1)\n",
    "#     skill_list = list(dict.fromkeys(skill_list))\n",
    "#     return skill_list\n",
    "                           "
   ]
  },
  {
   "cell_type": "code",
   "execution_count": 12,
   "id": "377198ff-0ff2-46bd-b64c-a5fe7db51e75",
   "metadata": {},
   "outputs": [],
   "source": [
    "import random\n",
    "def ds_skill(summary):\n",
    "    skill_list = []\n",
    "    \n",
    "    for word in summary.split():\n",
    "        clean = word.lower().strip(' ,.:!?')\n",
    "        if clean in skills:\n",
    "            skill_list.append(clean)\n",
    "        elif clean not in skills:\n",
    "            clean1 = random.choices(skills,k=3)\n",
    "            skill_list.extend(clean1)\n",
    "    skill_list = list(dict.fromkeys(skill_list))\n",
    "    return skill_list\n"
   ]
  },
  {
   "cell_type": "code",
   "execution_count": 13,
   "id": "585ae69f-65b3-44dd-b96c-8ec2653413ba",
   "metadata": {},
   "outputs": [
    {
     "data": {
      "text/html": [
       "<div>\n",
       "<style scoped>\n",
       "    .dataframe tbody tr th:only-of-type {\n",
       "        vertical-align: middle;\n",
       "    }\n",
       "\n",
       "    .dataframe tbody tr th {\n",
       "        vertical-align: top;\n",
       "    }\n",
       "\n",
       "    .dataframe thead th {\n",
       "        text-align: right;\n",
       "    }\n",
       "</style>\n",
       "<table border=\"1\" class=\"dataframe\">\n",
       "  <thead>\n",
       "    <tr style=\"text-align: right;\">\n",
       "      <th></th>\n",
       "      <th>location</th>\n",
       "      <th>title</th>\n",
       "      <th>company</th>\n",
       "      <th>salary</th>\n",
       "      <th>summary</th>\n",
       "      <th>job_url</th>\n",
       "      <th>required_skills</th>\n",
       "    </tr>\n",
       "  </thead>\n",
       "  <tbody>\n",
       "    <tr>\n",
       "      <th>0</th>\n",
       "      <td>Bentong</td>\n",
       "      <td>Data Scientist - Manager</td>\n",
       "      <td>Genting Malaysia Berhad</td>\n",
       "      <td>0.0</td>\n",
       "      <td>Operate machine-learning models to perform dat...</td>\n",
       "      <td>https://www.jobstreet.com.my/en/job/data-scien...</td>\n",
       "      <td>[agile, machine learning, data mining, ml, dep...</td>\n",
       "    </tr>\n",
       "    <tr>\n",
       "      <th>1</th>\n",
       "      <td>Kuala Lumpur</td>\n",
       "      <td>Senior Data Scientist - Information Retrieval ...</td>\n",
       "      <td>SEEK Asia (JobStreet)</td>\n",
       "      <td>0.0</td>\n",
       "      <td>The Role\\nThe Senior Data Scientist – Informat...</td>\n",
       "      <td>https://www.jobstreet.com.my/en/job/senior-dat...</td>\n",
       "      <td>[etl, forecasting, algorithms, sql, data wrang...</td>\n",
       "    </tr>\n",
       "    <tr>\n",
       "      <th>2</th>\n",
       "      <td>Kuala Lumpur</td>\n",
       "      <td>Data Scientist</td>\n",
       "      <td>RHB Banking Group</td>\n",
       "      <td>0.0</td>\n",
       "      <td>Responsibilities\\nAssess applicability of adva...</td>\n",
       "      <td>https://www.jobstreet.com.my/en/job/data-scien...</td>\n",
       "      <td>[deployment, forecast, azure, forecasting, aut...</td>\n",
       "    </tr>\n",
       "    <tr>\n",
       "      <th>3</th>\n",
       "      <td>Kuala Lumpur</td>\n",
       "      <td>DATA SCIENCE &amp;BACK END SYSTEM ENGINEERING</td>\n",
       "      <td>Digital Silhouette Sdn Bhd</td>\n",
       "      <td>0.0</td>\n",
       "      <td>1.     Data Mining &amp;Analysis\\n-       Requires...</td>\n",
       "      <td>https://www.jobstreet.com.my/en/job/data-scien...</td>\n",
       "      <td>[powerbi, agile, azure, phd, deployment, c++, ...</td>\n",
       "    </tr>\n",
       "    <tr>\n",
       "      <th>4</th>\n",
       "      <td>Bayan Lepas</td>\n",
       "      <td>Business Intelligent Analyst (Data Scientist)</td>\n",
       "      <td>Keysight Technologies Malaysia Sdn. Bhd.</td>\n",
       "      <td>0.0</td>\n",
       "      <td>We are looking for a Data Scientist to analyze...</td>\n",
       "      <td>https://www.jobstreet.com.my/en/job/business-i...</td>\n",
       "      <td>[tableau, mysql, analysis, data mining, visual...</td>\n",
       "    </tr>\n",
       "    <tr>\n",
       "      <th>5</th>\n",
       "      <td>Kuala Lumpur</td>\n",
       "      <td>Business Intelligence Analyst</td>\n",
       "      <td>Ria Financial</td>\n",
       "      <td>0.0</td>\n",
       "      <td>As a Business Intelligence Analyst, you will b...</td>\n",
       "      <td>https://www.jobstreet.com.my/en/job/business-i...</td>\n",
       "      <td>[ai, spark, numpy, c+, regression, data wrangl...</td>\n",
       "    </tr>\n",
       "    <tr>\n",
       "      <th>6</th>\n",
       "      <td>Muar</td>\n",
       "      <td>Data Science Project Manager</td>\n",
       "      <td>STMicroelectronics Sdn Bhd</td>\n",
       "      <td>0.0</td>\n",
       "      <td>Responsibilities:\\nDiscuss with technical doma...</td>\n",
       "      <td>https://www.jobstreet.com.my/en/job/data-scien...</td>\n",
       "      <td>[python, agile, deep learning, pandas, time se...</td>\n",
       "    </tr>\n",
       "    <tr>\n",
       "      <th>7</th>\n",
       "      <td>East - Others</td>\n",
       "      <td>Cloud Data Engineer</td>\n",
       "      <td>Pearson Frank International (A divison of Fran...</td>\n",
       "      <td>0.0</td>\n",
       "      <td>Responsibilities:\\n- Run Data Ingestion and Ad...</td>\n",
       "      <td>https://www.jobstreet.com.my/en/job/cloud-data...</td>\n",
       "      <td>[mathematics, data mining, forecasting, etl, s...</td>\n",
       "    </tr>\n",
       "    <tr>\n",
       "      <th>8</th>\n",
       "      <td>Kuala Lumpur</td>\n",
       "      <td>Regional Data Analyst</td>\n",
       "      <td>LIVEMED SDN. BHD.</td>\n",
       "      <td>0.0</td>\n",
       "      <td>About this role\\nWe are looking for an experie...</td>\n",
       "      <td>https://www.jobstreet.com.my/en/job/regional-d...</td>\n",
       "      <td>[visualization, data mining, sas, python, math...</td>\n",
       "    </tr>\n",
       "    <tr>\n",
       "      <th>9</th>\n",
       "      <td>Makati City</td>\n",
       "      <td>Machine Learning Scientist (SQL, Python, R)</td>\n",
       "      <td>Avantice Corporation</td>\n",
       "      <td>0.0</td>\n",
       "      <td>Job Description: \\nThis role is open to Machin...</td>\n",
       "      <td>https://www.jobstreet.com.my/en/job/machine-le...</td>\n",
       "      <td>[dl, tableau, mathematics, numpy, phd, nosql, ...</td>\n",
       "    </tr>\n",
       "  </tbody>\n",
       "</table>\n",
       "</div>"
      ],
      "text/plain": [
       "        location                                              title  \\\n",
       "0        Bentong                           Data Scientist - Manager   \n",
       "1   Kuala Lumpur  Senior Data Scientist - Information Retrieval ...   \n",
       "2   Kuala Lumpur                                     Data Scientist   \n",
       "3   Kuala Lumpur          DATA SCIENCE &BACK END SYSTEM ENGINEERING   \n",
       "4    Bayan Lepas      Business Intelligent Analyst (Data Scientist)   \n",
       "5   Kuala Lumpur                      Business Intelligence Analyst   \n",
       "6           Muar                       Data Science Project Manager   \n",
       "7  East - Others                                Cloud Data Engineer   \n",
       "8   Kuala Lumpur                              Regional Data Analyst   \n",
       "9    Makati City        Machine Learning Scientist (SQL, Python, R)   \n",
       "\n",
       "                                             company  salary  \\\n",
       "0                            Genting Malaysia Berhad     0.0   \n",
       "1                              SEEK Asia (JobStreet)     0.0   \n",
       "2                                  RHB Banking Group     0.0   \n",
       "3                         Digital Silhouette Sdn Bhd     0.0   \n",
       "4           Keysight Technologies Malaysia Sdn. Bhd.     0.0   \n",
       "5                                      Ria Financial     0.0   \n",
       "6                         STMicroelectronics Sdn Bhd     0.0   \n",
       "7  Pearson Frank International (A divison of Fran...     0.0   \n",
       "8                                  LIVEMED SDN. BHD.     0.0   \n",
       "9                               Avantice Corporation     0.0   \n",
       "\n",
       "                                             summary  \\\n",
       "0  Operate machine-learning models to perform dat...   \n",
       "1  The Role\\nThe Senior Data Scientist – Informat...   \n",
       "2  Responsibilities\\nAssess applicability of adva...   \n",
       "3  1.     Data Mining &Analysis\\n-       Requires...   \n",
       "4  We are looking for a Data Scientist to analyze...   \n",
       "5  As a Business Intelligence Analyst, you will b...   \n",
       "6  Responsibilities:\\nDiscuss with technical doma...   \n",
       "7  Responsibilities:\\n- Run Data Ingestion and Ad...   \n",
       "8  About this role\\nWe are looking for an experie...   \n",
       "9  Job Description: \\nThis role is open to Machin...   \n",
       "\n",
       "                                             job_url  \\\n",
       "0  https://www.jobstreet.com.my/en/job/data-scien...   \n",
       "1  https://www.jobstreet.com.my/en/job/senior-dat...   \n",
       "2  https://www.jobstreet.com.my/en/job/data-scien...   \n",
       "3  https://www.jobstreet.com.my/en/job/data-scien...   \n",
       "4  https://www.jobstreet.com.my/en/job/business-i...   \n",
       "5  https://www.jobstreet.com.my/en/job/business-i...   \n",
       "6  https://www.jobstreet.com.my/en/job/data-scien...   \n",
       "7  https://www.jobstreet.com.my/en/job/cloud-data...   \n",
       "8  https://www.jobstreet.com.my/en/job/regional-d...   \n",
       "9  https://www.jobstreet.com.my/en/job/machine-le...   \n",
       "\n",
       "                                     required_skills  \n",
       "0  [agile, machine learning, data mining, ml, dep...  \n",
       "1  [etl, forecasting, algorithms, sql, data wrang...  \n",
       "2  [deployment, forecast, azure, forecasting, aut...  \n",
       "3  [powerbi, agile, azure, phd, deployment, c++, ...  \n",
       "4  [tableau, mysql, analysis, data mining, visual...  \n",
       "5  [ai, spark, numpy, c+, regression, data wrangl...  \n",
       "6  [python, agile, deep learning, pandas, time se...  \n",
       "7  [mathematics, data mining, forecasting, etl, s...  \n",
       "8  [visualization, data mining, sas, python, math...  \n",
       "9  [dl, tableau, mathematics, numpy, phd, nosql, ...  "
      ]
     },
     "execution_count": 13,
     "metadata": {},
     "output_type": "execute_result"
    }
   ],
   "source": [
    "new_df['required_skills'] = new_df.summary.apply(ds_skill)\n",
    "new_df.head(10)"
   ]
  },
  {
   "cell_type": "markdown",
   "id": "6eecd684-978e-4aea-8567-2a16493e5dd9",
   "metadata": {},
   "source": [
    "### remote work"
   ]
  },
  {
   "cell_type": "code",
   "execution_count": 14,
   "id": "2f01201b-023c-4c9c-bbc4-eb837ecdc900",
   "metadata": {},
   "outputs": [],
   "source": [
    "# def ds_remote(summary):\n",
    "#     r_list = []\n",
    "#     remote1 = ['remote']\n",
    "#     remote2 = [ 'hybrid',  'onsite']\n",
    "    \n",
    "#     for word in summary.split():\n",
    "#         clean = word.lower().strip(' ,.:!?')\n",
    "#         if clean in remote1:\n",
    "#             r_list.append(clean)\n",
    "#         elif clean not in remote2:\n",
    "#             clean1 = random.choices(remote2)\n",
    "#             r_list.extend(clean1)\n",
    "#     r_list = list(dict.fromkeys(r_list))\n",
    "#     return r_list\n",
    "\n",
    "\n",
    "                "
   ]
  },
  {
   "cell_type": "code",
   "execution_count": 15,
   "id": "5461b2ee-17d8-4dc3-88d1-76f65032be11",
   "metadata": {},
   "outputs": [],
   "source": [
    "# new_df['work flexibility'] = new_df.summary.apply(ds_remote)\n",
    "# new_df.head(10)"
   ]
  },
  {
   "cell_type": "code",
   "execution_count": 71,
   "id": "0f9d0536-373a-48a3-8e33-9c9050540da7",
   "metadata": {},
   "outputs": [
    {
     "data": {
      "text/plain": "is_remote\nFalse    3469\nTrue      221\ndtype: int64"
     },
     "execution_count": 71,
     "metadata": {},
     "output_type": "execute_result"
    }
   ],
   "source": [
    "import re\n",
    "\n",
    "import pandas as pd\n",
    "\n",
    "new_df = new_df.assign(is_remote=False)\n",
    "\n",
    "\n",
    "for i in range(1, len(new_df)):\n",
    "    for series in ['summary', 'location', 'title']:\n",
    "        if new_df.at[i, 'is_remote'] != True:\n",
    "            if re.search(\"remote\", new_df.at[i, series].lower()):\n",
    "                new_df.at[i, 'is_remote'] = True\n",
    "\n",
    "new_df.groupby('is_remote').size()\n",
    "\n",
    "\n",
    "\n"
   ]
  },
  {
   "cell_type": "code",
   "execution_count": 72,
   "id": "7e655504-4962-4a5c-9453-93a4f425b500",
   "metadata": {},
   "outputs": [
    {
     "data": {
      "text/plain": "          location                                              title  \\\n0          Bentong                           Data Scientist - Manager   \n1     Kuala Lumpur  Senior Data Scientist - Information Retrieval ...   \n2     Kuala Lumpur                                     Data Scientist   \n3     Kuala Lumpur          DATA SCIENCE &BACK END SYSTEM ENGINEERING   \n4      Bayan Lepas      Business Intelligent Analyst (Data Scientist)   \n...            ...                                                ...   \n3685  Kuala Lumpur             Manager ICS Technical Controls Testing   \n3686      Selangor                             Senior System Engineer   \n3687  Kuala Lumpur                            Junior Service Engineer   \n3688      Malaysia  Senior Manager, Operations Excellence-Kuala Lu...   \n3689  Kuala Lumpur                 Software Developer (C++ Languange)   \n\n                                       company  salary  \\\n0                      Genting Malaysia Berhad     0.0   \n1                        SEEK Asia (JobStreet)     0.0   \n2                            RHB Banking Group     0.0   \n3                   Digital Silhouette Sdn Bhd     0.0   \n4     Keysight Technologies Malaysia Sdn. Bhd.     0.0   \n...                                        ...     ...   \n3685                        Standard Chartered     0.0   \n3686              YONGPENG SOLUTIONS SDN. BHD.     0.0   \n3687                              Baker Hughes     0.0   \n3688                                    Lazada     0.0   \n3689                    Synergy Log-In Systems     0.0   \n\n                                                summary  \\\n0     Operate machine-learning models to perform dat...   \n1     The Role\\nThe Senior Data Scientist – Informat...   \n2     Responsibilities\\nAssess applicability of adva...   \n3     1.     Data Mining &Analysis\\n-       Requires...   \n4     We are looking for a Data Scientist to analyze...   \n...                                                 ...   \n3685  Job: Operations\\nPrimary Location: Asia-Malays...   \n3686  Description\\nJob Description and Responsibilit...   \n3687  Are you a Service Engineer looking for an inte...   \n3688  Job Description\\nLazada Malaysia Sales Operati...   \n3689  Description\\nWe are looking for a Software Dev...   \n\n                                                job_url  is_remote  \n0     https://www.jobstreet.com.my/en/job/data-scien...      False  \n1     https://www.jobstreet.com.my/en/job/senior-dat...      False  \n2     https://www.jobstreet.com.my/en/job/data-scien...      False  \n3     https://www.jobstreet.com.my/en/job/data-scien...      False  \n4     https://www.jobstreet.com.my/en/job/business-i...      False  \n...                                                 ...        ...  \n3685  https://www.jobstreet.com.my/en/job/manager-ic...      False  \n3686  https://www.jobstreet.com.my/en/job/senior-sys...      False  \n3687  https://www.jobstreet.com.my/en/job/junior-ser...      False  \n3688  https://www.jobstreet.com.my/en/job/senior-man...      False  \n3689  https://www.jobstreet.com.my/en/job/software-d...      False  \n\n[3690 rows x 7 columns]",
      "text/html": "<div>\n<style scoped>\n    .dataframe tbody tr th:only-of-type {\n        vertical-align: middle;\n    }\n\n    .dataframe tbody tr th {\n        vertical-align: top;\n    }\n\n    .dataframe thead th {\n        text-align: right;\n    }\n</style>\n<table border=\"1\" class=\"dataframe\">\n  <thead>\n    <tr style=\"text-align: right;\">\n      <th></th>\n      <th>location</th>\n      <th>title</th>\n      <th>company</th>\n      <th>salary</th>\n      <th>summary</th>\n      <th>job_url</th>\n      <th>is_remote</th>\n    </tr>\n  </thead>\n  <tbody>\n    <tr>\n      <th>0</th>\n      <td>Bentong</td>\n      <td>Data Scientist - Manager</td>\n      <td>Genting Malaysia Berhad</td>\n      <td>0.0</td>\n      <td>Operate machine-learning models to perform dat...</td>\n      <td>https://www.jobstreet.com.my/en/job/data-scien...</td>\n      <td>False</td>\n    </tr>\n    <tr>\n      <th>1</th>\n      <td>Kuala Lumpur</td>\n      <td>Senior Data Scientist - Information Retrieval ...</td>\n      <td>SEEK Asia (JobStreet)</td>\n      <td>0.0</td>\n      <td>The Role\\nThe Senior Data Scientist – Informat...</td>\n      <td>https://www.jobstreet.com.my/en/job/senior-dat...</td>\n      <td>False</td>\n    </tr>\n    <tr>\n      <th>2</th>\n      <td>Kuala Lumpur</td>\n      <td>Data Scientist</td>\n      <td>RHB Banking Group</td>\n      <td>0.0</td>\n      <td>Responsibilities\\nAssess applicability of adva...</td>\n      <td>https://www.jobstreet.com.my/en/job/data-scien...</td>\n      <td>False</td>\n    </tr>\n    <tr>\n      <th>3</th>\n      <td>Kuala Lumpur</td>\n      <td>DATA SCIENCE &amp;BACK END SYSTEM ENGINEERING</td>\n      <td>Digital Silhouette Sdn Bhd</td>\n      <td>0.0</td>\n      <td>1.     Data Mining &amp;Analysis\\n-       Requires...</td>\n      <td>https://www.jobstreet.com.my/en/job/data-scien...</td>\n      <td>False</td>\n    </tr>\n    <tr>\n      <th>4</th>\n      <td>Bayan Lepas</td>\n      <td>Business Intelligent Analyst (Data Scientist)</td>\n      <td>Keysight Technologies Malaysia Sdn. Bhd.</td>\n      <td>0.0</td>\n      <td>We are looking for a Data Scientist to analyze...</td>\n      <td>https://www.jobstreet.com.my/en/job/business-i...</td>\n      <td>False</td>\n    </tr>\n    <tr>\n      <th>...</th>\n      <td>...</td>\n      <td>...</td>\n      <td>...</td>\n      <td>...</td>\n      <td>...</td>\n      <td>...</td>\n      <td>...</td>\n    </tr>\n    <tr>\n      <th>3685</th>\n      <td>Kuala Lumpur</td>\n      <td>Manager ICS Technical Controls Testing</td>\n      <td>Standard Chartered</td>\n      <td>0.0</td>\n      <td>Job: Operations\\nPrimary Location: Asia-Malays...</td>\n      <td>https://www.jobstreet.com.my/en/job/manager-ic...</td>\n      <td>False</td>\n    </tr>\n    <tr>\n      <th>3686</th>\n      <td>Selangor</td>\n      <td>Senior System Engineer</td>\n      <td>YONGPENG SOLUTIONS SDN. BHD.</td>\n      <td>0.0</td>\n      <td>Description\\nJob Description and Responsibilit...</td>\n      <td>https://www.jobstreet.com.my/en/job/senior-sys...</td>\n      <td>False</td>\n    </tr>\n    <tr>\n      <th>3687</th>\n      <td>Kuala Lumpur</td>\n      <td>Junior Service Engineer</td>\n      <td>Baker Hughes</td>\n      <td>0.0</td>\n      <td>Are you a Service Engineer looking for an inte...</td>\n      <td>https://www.jobstreet.com.my/en/job/junior-ser...</td>\n      <td>False</td>\n    </tr>\n    <tr>\n      <th>3688</th>\n      <td>Malaysia</td>\n      <td>Senior Manager, Operations Excellence-Kuala Lu...</td>\n      <td>Lazada</td>\n      <td>0.0</td>\n      <td>Job Description\\nLazada Malaysia Sales Operati...</td>\n      <td>https://www.jobstreet.com.my/en/job/senior-man...</td>\n      <td>False</td>\n    </tr>\n    <tr>\n      <th>3689</th>\n      <td>Kuala Lumpur</td>\n      <td>Software Developer (C++ Languange)</td>\n      <td>Synergy Log-In Systems</td>\n      <td>0.0</td>\n      <td>Description\\nWe are looking for a Software Dev...</td>\n      <td>https://www.jobstreet.com.my/en/job/software-d...</td>\n      <td>False</td>\n    </tr>\n  </tbody>\n</table>\n<p>3690 rows × 7 columns</p>\n</div>"
     },
     "execution_count": 72,
     "metadata": {},
     "output_type": "execute_result"
    }
   ],
   "source": [
    "new_df"
   ]
  },
  {
   "cell_type": "code",
   "execution_count": 163,
   "outputs": [],
   "source": [
    "wordcloud_df = new_df.to_csv('./final_dataset/wordcloud_df.csv')"
   ],
   "metadata": {
    "collapsed": false
   }
  },
  {
   "cell_type": "code",
   "execution_count": 73,
   "id": "ff2bed13-5084-4971-bb36-5ebd0389137b",
   "metadata": {},
   "outputs": [],
   "source": [
    "# import random\n",
    "# def ds_remote(summary):\n",
    "#     r_list = []\n",
    "#     remote_list= ['hybrid', 'onsite']\n",
    "    \n",
    "#     for word in summary.split():\n",
    "#         clean = word.lower().strip(' ,.:!?')\n",
    "#         if clean not in remote_list:\n",
    "#             clean1 = random.choices(remote_list, k=1)\n",
    "#             r_list.extend(clean1)\n",
    "#         else:\n",
    "#             r_list.append(clean)\n",
    "            \n",
    "#     r_list = list(dict.fromkeys(r_list))\n",
    "#     return r_list\n"
   ]
  },
  {
   "cell_type": "markdown",
   "id": "9fa8da35-a961-48b3-ac3b-e64504392a9f",
   "metadata": {},
   "source": [
    "### Location with the most onsite or hybrid job"
   ]
  },
  {
   "cell_type": "code",
   "execution_count": 94,
   "id": "639ad47e-0e4f-42ac-9e4a-c27dab3ac2d8",
   "metadata": {},
   "outputs": [
    {
     "data": {
      "text/plain": "location          is_remote\nKuala Lumpur      False        1345\nPetaling Jaya     False         304\nSelangor          False         257\nPenang            False         154\nBayan Lepas       False         116\nMalaysia          False         109\nKuala Lumpur      True           98\nCyberjaya         False          87\nGeorge Town       False          76\nShah Alam/Subang  False          76\ndtype: int64"
     },
     "execution_count": 94,
     "metadata": {},
     "output_type": "execute_result"
    }
   ],
   "source": [
    "remote_job_df = new_df[['location','is_remote']].value_counts()\n",
    "remote_job_df.head(10)"
   ]
  },
  {
   "cell_type": "code",
   "execution_count": 95,
   "outputs": [
    {
     "data": {
      "text/plain": "                                             0\nlocation                       is_remote      \nKuala Lumpur                   False      1345\nPetaling Jaya                  False       304\nSelangor                       False       257\nPenang                         False       154\nBayan Lepas                    False       116\n...                                        ...\nKlang/Port Klang, Kuala Lumpur False         2\nKajang/Bangi/Serdang           True          2\nJurong West                    False         2\nJohor, Selangor                True          2\nKuala Lumpur, Manila City      False         2\n\n[148 rows x 1 columns]",
      "text/html": "<div>\n<style scoped>\n    .dataframe tbody tr th:only-of-type {\n        vertical-align: middle;\n    }\n\n    .dataframe tbody tr th {\n        vertical-align: top;\n    }\n\n    .dataframe thead th {\n        text-align: right;\n    }\n</style>\n<table border=\"1\" class=\"dataframe\">\n  <thead>\n    <tr style=\"text-align: right;\">\n      <th></th>\n      <th></th>\n      <th>0</th>\n    </tr>\n    <tr>\n      <th>location</th>\n      <th>is_remote</th>\n      <th></th>\n    </tr>\n  </thead>\n  <tbody>\n    <tr>\n      <th>Kuala Lumpur</th>\n      <th>False</th>\n      <td>1345</td>\n    </tr>\n    <tr>\n      <th>Petaling Jaya</th>\n      <th>False</th>\n      <td>304</td>\n    </tr>\n    <tr>\n      <th>Selangor</th>\n      <th>False</th>\n      <td>257</td>\n    </tr>\n    <tr>\n      <th>Penang</th>\n      <th>False</th>\n      <td>154</td>\n    </tr>\n    <tr>\n      <th>Bayan Lepas</th>\n      <th>False</th>\n      <td>116</td>\n    </tr>\n    <tr>\n      <th>...</th>\n      <th>...</th>\n      <td>...</td>\n    </tr>\n    <tr>\n      <th>Klang/Port Klang, Kuala Lumpur</th>\n      <th>False</th>\n      <td>2</td>\n    </tr>\n    <tr>\n      <th>Kajang/Bangi/Serdang</th>\n      <th>True</th>\n      <td>2</td>\n    </tr>\n    <tr>\n      <th>Jurong West</th>\n      <th>False</th>\n      <td>2</td>\n    </tr>\n    <tr>\n      <th>Johor, Selangor</th>\n      <th>True</th>\n      <td>2</td>\n    </tr>\n    <tr>\n      <th>Kuala Lumpur, Manila City</th>\n      <th>False</th>\n      <td>2</td>\n    </tr>\n  </tbody>\n</table>\n<p>148 rows × 1 columns</p>\n</div>"
     },
     "execution_count": 95,
     "metadata": {},
     "output_type": "execute_result"
    }
   ],
   "source": [
    "remote_job_df.to_frame()"
   ],
   "metadata": {
    "collapsed": false
   }
  },
  {
   "cell_type": "code",
   "execution_count": 97,
   "outputs": [],
   "source": [
    "remote_job_df = remote_job_df.to_frame()\n",
    "remote_job_df = remote_job_df.reset_index()\n",
    "remote_job_df = remote_job_df.rename(columns={'index':'locations', 'is_remote':'is_remote','data':'num_is_remote'})\n",
    "remote_job_df = remote_job_df. drop_duplicates()\n",
    "#remote_job_df.to_csv('./is_remote.csv')\n"
   ],
   "metadata": {
    "collapsed": false
   }
  },
  {
   "cell_type": "code",
   "execution_count": null,
   "outputs": [],
   "source": [],
   "metadata": {
    "collapsed": false
   }
  },
  {
   "cell_type": "code",
   "execution_count": 109,
   "outputs": [
    {
     "data": {
      "text/plain": "                           location  is_remote  num_is_remote\n0                      Kuala Lumpur      False           1345\n1                     Petaling Jaya      False            304\n2                          Selangor      False            257\n3                            Penang      False            154\n4                       Bayan Lepas      False            116\n..                              ...        ...            ...\n143  Klang/Port Klang, Kuala Lumpur      False              2\n144            Kajang/Bangi/Serdang       True              2\n145                     Jurong West      False              2\n146                 Johor, Selangor       True              2\n147       Kuala Lumpur, Manila City      False              2\n\n[148 rows x 3 columns]",
      "text/html": "<div>\n<style scoped>\n    .dataframe tbody tr th:only-of-type {\n        vertical-align: middle;\n    }\n\n    .dataframe tbody tr th {\n        vertical-align: top;\n    }\n\n    .dataframe thead th {\n        text-align: right;\n    }\n</style>\n<table border=\"1\" class=\"dataframe\">\n  <thead>\n    <tr style=\"text-align: right;\">\n      <th></th>\n      <th>location</th>\n      <th>is_remote</th>\n      <th>num_is_remote</th>\n    </tr>\n  </thead>\n  <tbody>\n    <tr>\n      <th>0</th>\n      <td>Kuala Lumpur</td>\n      <td>False</td>\n      <td>1345</td>\n    </tr>\n    <tr>\n      <th>1</th>\n      <td>Petaling Jaya</td>\n      <td>False</td>\n      <td>304</td>\n    </tr>\n    <tr>\n      <th>2</th>\n      <td>Selangor</td>\n      <td>False</td>\n      <td>257</td>\n    </tr>\n    <tr>\n      <th>3</th>\n      <td>Penang</td>\n      <td>False</td>\n      <td>154</td>\n    </tr>\n    <tr>\n      <th>4</th>\n      <td>Bayan Lepas</td>\n      <td>False</td>\n      <td>116</td>\n    </tr>\n    <tr>\n      <th>...</th>\n      <td>...</td>\n      <td>...</td>\n      <td>...</td>\n    </tr>\n    <tr>\n      <th>143</th>\n      <td>Klang/Port Klang, Kuala Lumpur</td>\n      <td>False</td>\n      <td>2</td>\n    </tr>\n    <tr>\n      <th>144</th>\n      <td>Kajang/Bangi/Serdang</td>\n      <td>True</td>\n      <td>2</td>\n    </tr>\n    <tr>\n      <th>145</th>\n      <td>Jurong West</td>\n      <td>False</td>\n      <td>2</td>\n    </tr>\n    <tr>\n      <th>146</th>\n      <td>Johor, Selangor</td>\n      <td>True</td>\n      <td>2</td>\n    </tr>\n    <tr>\n      <th>147</th>\n      <td>Kuala Lumpur, Manila City</td>\n      <td>False</td>\n      <td>2</td>\n    </tr>\n  </tbody>\n</table>\n<p>148 rows × 3 columns</p>\n</div>"
     },
     "execution_count": 109,
     "metadata": {},
     "output_type": "execute_result"
    }
   ],
   "source": [
    "remote_job_df = remote_job_df.rename(columns={'locations':'locations', 'is_remote':'is_remote',0:'num_is_remote'})\n",
    "#remote_job_df.to_csv('./is_remote.csv')\n",
    "#remote_job_df\n",
    "remote_job_df"
   ],
   "metadata": {
    "collapsed": false
   }
  },
  {
   "cell_type": "code",
   "execution_count": 111,
   "outputs": [
    {
     "ename": "KeyError",
     "evalue": "'[5] not found in axis'",
     "output_type": "error",
     "traceback": [
      "\u001B[0;31m---------------------------------------------------------------------------\u001B[0m",
      "\u001B[0;31mKeyError\u001B[0m                                  Traceback (most recent call last)",
      "Cell \u001B[0;32mIn[111], line 1\u001B[0m\n\u001B[0;32m----> 1\u001B[0m remote_job_df \u001B[38;5;241m=\u001B[39m \u001B[43mremote_job_df\u001B[49m\u001B[38;5;241;43m.\u001B[39;49m\u001B[43mdrop\u001B[49m\u001B[43m(\u001B[49m\u001B[43m[\u001B[49m\u001B[38;5;241;43m5\u001B[39;49m\u001B[43m]\u001B[49m\u001B[43m,\u001B[49m\u001B[43maxis\u001B[49m\u001B[38;5;241;43m=\u001B[39;49m\u001B[38;5;241;43m0\u001B[39;49m\u001B[43m,\u001B[49m\u001B[43minplace\u001B[49m\u001B[38;5;241;43m=\u001B[39;49m\u001B[38;5;28;43;01mTrue\u001B[39;49;00m\u001B[43m)\u001B[49m\n\u001B[1;32m      2\u001B[0m remote_job_df\n",
      "File \u001B[0;32m~/.local/share/virtualenvs/Demand-of-Data-Scientist-in-Malaysia-hEWWIcNH/lib/python3.10/site-packages/pandas/util/_decorators.py:331\u001B[0m, in \u001B[0;36mdeprecate_nonkeyword_arguments.<locals>.decorate.<locals>.wrapper\u001B[0;34m(*args, **kwargs)\u001B[0m\n\u001B[1;32m    325\u001B[0m \u001B[38;5;28;01mif\u001B[39;00m \u001B[38;5;28mlen\u001B[39m(args) \u001B[38;5;241m>\u001B[39m num_allow_args:\n\u001B[1;32m    326\u001B[0m     warnings\u001B[38;5;241m.\u001B[39mwarn(\n\u001B[1;32m    327\u001B[0m         msg\u001B[38;5;241m.\u001B[39mformat(arguments\u001B[38;5;241m=\u001B[39m_format_argument_list(allow_args)),\n\u001B[1;32m    328\u001B[0m         \u001B[38;5;167;01mFutureWarning\u001B[39;00m,\n\u001B[1;32m    329\u001B[0m         stacklevel\u001B[38;5;241m=\u001B[39mfind_stack_level(),\n\u001B[1;32m    330\u001B[0m     )\n\u001B[0;32m--> 331\u001B[0m \u001B[38;5;28;01mreturn\u001B[39;00m \u001B[43mfunc\u001B[49m\u001B[43m(\u001B[49m\u001B[38;5;241;43m*\u001B[39;49m\u001B[43margs\u001B[49m\u001B[43m,\u001B[49m\u001B[43m \u001B[49m\u001B[38;5;241;43m*\u001B[39;49m\u001B[38;5;241;43m*\u001B[39;49m\u001B[43mkwargs\u001B[49m\u001B[43m)\u001B[49m\n",
      "File \u001B[0;32m~/.local/share/virtualenvs/Demand-of-Data-Scientist-in-Malaysia-hEWWIcNH/lib/python3.10/site-packages/pandas/core/frame.py:5396\u001B[0m, in \u001B[0;36mDataFrame.drop\u001B[0;34m(self, labels, axis, index, columns, level, inplace, errors)\u001B[0m\n\u001B[1;32m   5248\u001B[0m \u001B[38;5;129m@deprecate_nonkeyword_arguments\u001B[39m(version\u001B[38;5;241m=\u001B[39m\u001B[38;5;28;01mNone\u001B[39;00m, allowed_args\u001B[38;5;241m=\u001B[39m[\u001B[38;5;124m\"\u001B[39m\u001B[38;5;124mself\u001B[39m\u001B[38;5;124m\"\u001B[39m, \u001B[38;5;124m\"\u001B[39m\u001B[38;5;124mlabels\u001B[39m\u001B[38;5;124m\"\u001B[39m])\n\u001B[1;32m   5249\u001B[0m \u001B[38;5;28;01mdef\u001B[39;00m \u001B[38;5;21mdrop\u001B[39m(  \u001B[38;5;66;03m# type: ignore[override]\u001B[39;00m\n\u001B[1;32m   5250\u001B[0m     \u001B[38;5;28mself\u001B[39m,\n\u001B[0;32m   (...)\u001B[0m\n\u001B[1;32m   5257\u001B[0m     errors: IgnoreRaise \u001B[38;5;241m=\u001B[39m \u001B[38;5;124m\"\u001B[39m\u001B[38;5;124mraise\u001B[39m\u001B[38;5;124m\"\u001B[39m,\n\u001B[1;32m   5258\u001B[0m ) \u001B[38;5;241m-\u001B[39m\u001B[38;5;241m>\u001B[39m DataFrame \u001B[38;5;241m|\u001B[39m \u001B[38;5;28;01mNone\u001B[39;00m:\n\u001B[1;32m   5259\u001B[0m \u001B[38;5;250m    \u001B[39m\u001B[38;5;124;03m\"\"\"\u001B[39;00m\n\u001B[1;32m   5260\u001B[0m \u001B[38;5;124;03m    Drop specified labels from rows or columns.\u001B[39;00m\n\u001B[1;32m   5261\u001B[0m \n\u001B[0;32m   (...)\u001B[0m\n\u001B[1;32m   5394\u001B[0m \u001B[38;5;124;03m            weight  1.0     0.8\u001B[39;00m\n\u001B[1;32m   5395\u001B[0m \u001B[38;5;124;03m    \"\"\"\u001B[39;00m\n\u001B[0;32m-> 5396\u001B[0m     \u001B[38;5;28;01mreturn\u001B[39;00m \u001B[38;5;28;43msuper\u001B[39;49m\u001B[43m(\u001B[49m\u001B[43m)\u001B[49m\u001B[38;5;241;43m.\u001B[39;49m\u001B[43mdrop\u001B[49m\u001B[43m(\u001B[49m\n\u001B[1;32m   5397\u001B[0m \u001B[43m        \u001B[49m\u001B[43mlabels\u001B[49m\u001B[38;5;241;43m=\u001B[39;49m\u001B[43mlabels\u001B[49m\u001B[43m,\u001B[49m\n\u001B[1;32m   5398\u001B[0m \u001B[43m        \u001B[49m\u001B[43maxis\u001B[49m\u001B[38;5;241;43m=\u001B[39;49m\u001B[43maxis\u001B[49m\u001B[43m,\u001B[49m\n\u001B[1;32m   5399\u001B[0m \u001B[43m        \u001B[49m\u001B[43mindex\u001B[49m\u001B[38;5;241;43m=\u001B[39;49m\u001B[43mindex\u001B[49m\u001B[43m,\u001B[49m\n\u001B[1;32m   5400\u001B[0m \u001B[43m        \u001B[49m\u001B[43mcolumns\u001B[49m\u001B[38;5;241;43m=\u001B[39;49m\u001B[43mcolumns\u001B[49m\u001B[43m,\u001B[49m\n\u001B[1;32m   5401\u001B[0m \u001B[43m        \u001B[49m\u001B[43mlevel\u001B[49m\u001B[38;5;241;43m=\u001B[39;49m\u001B[43mlevel\u001B[49m\u001B[43m,\u001B[49m\n\u001B[1;32m   5402\u001B[0m \u001B[43m        \u001B[49m\u001B[43minplace\u001B[49m\u001B[38;5;241;43m=\u001B[39;49m\u001B[43minplace\u001B[49m\u001B[43m,\u001B[49m\n\u001B[1;32m   5403\u001B[0m \u001B[43m        \u001B[49m\u001B[43merrors\u001B[49m\u001B[38;5;241;43m=\u001B[39;49m\u001B[43merrors\u001B[49m\u001B[43m,\u001B[49m\n\u001B[1;32m   5404\u001B[0m \u001B[43m    \u001B[49m\u001B[43m)\u001B[49m\n",
      "File \u001B[0;32m~/.local/share/virtualenvs/Demand-of-Data-Scientist-in-Malaysia-hEWWIcNH/lib/python3.10/site-packages/pandas/util/_decorators.py:331\u001B[0m, in \u001B[0;36mdeprecate_nonkeyword_arguments.<locals>.decorate.<locals>.wrapper\u001B[0;34m(*args, **kwargs)\u001B[0m\n\u001B[1;32m    325\u001B[0m \u001B[38;5;28;01mif\u001B[39;00m \u001B[38;5;28mlen\u001B[39m(args) \u001B[38;5;241m>\u001B[39m num_allow_args:\n\u001B[1;32m    326\u001B[0m     warnings\u001B[38;5;241m.\u001B[39mwarn(\n\u001B[1;32m    327\u001B[0m         msg\u001B[38;5;241m.\u001B[39mformat(arguments\u001B[38;5;241m=\u001B[39m_format_argument_list(allow_args)),\n\u001B[1;32m    328\u001B[0m         \u001B[38;5;167;01mFutureWarning\u001B[39;00m,\n\u001B[1;32m    329\u001B[0m         stacklevel\u001B[38;5;241m=\u001B[39mfind_stack_level(),\n\u001B[1;32m    330\u001B[0m     )\n\u001B[0;32m--> 331\u001B[0m \u001B[38;5;28;01mreturn\u001B[39;00m \u001B[43mfunc\u001B[49m\u001B[43m(\u001B[49m\u001B[38;5;241;43m*\u001B[39;49m\u001B[43margs\u001B[49m\u001B[43m,\u001B[49m\u001B[43m \u001B[49m\u001B[38;5;241;43m*\u001B[39;49m\u001B[38;5;241;43m*\u001B[39;49m\u001B[43mkwargs\u001B[49m\u001B[43m)\u001B[49m\n",
      "File \u001B[0;32m~/.local/share/virtualenvs/Demand-of-Data-Scientist-in-Malaysia-hEWWIcNH/lib/python3.10/site-packages/pandas/core/generic.py:4505\u001B[0m, in \u001B[0;36mNDFrame.drop\u001B[0;34m(self, labels, axis, index, columns, level, inplace, errors)\u001B[0m\n\u001B[1;32m   4503\u001B[0m \u001B[38;5;28;01mfor\u001B[39;00m axis, labels \u001B[38;5;129;01min\u001B[39;00m axes\u001B[38;5;241m.\u001B[39mitems():\n\u001B[1;32m   4504\u001B[0m     \u001B[38;5;28;01mif\u001B[39;00m labels \u001B[38;5;129;01mis\u001B[39;00m \u001B[38;5;129;01mnot\u001B[39;00m \u001B[38;5;28;01mNone\u001B[39;00m:\n\u001B[0;32m-> 4505\u001B[0m         obj \u001B[38;5;241m=\u001B[39m \u001B[43mobj\u001B[49m\u001B[38;5;241;43m.\u001B[39;49m\u001B[43m_drop_axis\u001B[49m\u001B[43m(\u001B[49m\u001B[43mlabels\u001B[49m\u001B[43m,\u001B[49m\u001B[43m \u001B[49m\u001B[43maxis\u001B[49m\u001B[43m,\u001B[49m\u001B[43m \u001B[49m\u001B[43mlevel\u001B[49m\u001B[38;5;241;43m=\u001B[39;49m\u001B[43mlevel\u001B[49m\u001B[43m,\u001B[49m\u001B[43m \u001B[49m\u001B[43merrors\u001B[49m\u001B[38;5;241;43m=\u001B[39;49m\u001B[43merrors\u001B[49m\u001B[43m)\u001B[49m\n\u001B[1;32m   4507\u001B[0m \u001B[38;5;28;01mif\u001B[39;00m inplace:\n\u001B[1;32m   4508\u001B[0m     \u001B[38;5;28mself\u001B[39m\u001B[38;5;241m.\u001B[39m_update_inplace(obj)\n",
      "File \u001B[0;32m~/.local/share/virtualenvs/Demand-of-Data-Scientist-in-Malaysia-hEWWIcNH/lib/python3.10/site-packages/pandas/core/generic.py:4546\u001B[0m, in \u001B[0;36mNDFrame._drop_axis\u001B[0;34m(self, labels, axis, level, errors, only_slice)\u001B[0m\n\u001B[1;32m   4544\u001B[0m         new_axis \u001B[38;5;241m=\u001B[39m axis\u001B[38;5;241m.\u001B[39mdrop(labels, level\u001B[38;5;241m=\u001B[39mlevel, errors\u001B[38;5;241m=\u001B[39merrors)\n\u001B[1;32m   4545\u001B[0m     \u001B[38;5;28;01melse\u001B[39;00m:\n\u001B[0;32m-> 4546\u001B[0m         new_axis \u001B[38;5;241m=\u001B[39m \u001B[43maxis\u001B[49m\u001B[38;5;241;43m.\u001B[39;49m\u001B[43mdrop\u001B[49m\u001B[43m(\u001B[49m\u001B[43mlabels\u001B[49m\u001B[43m,\u001B[49m\u001B[43m \u001B[49m\u001B[43merrors\u001B[49m\u001B[38;5;241;43m=\u001B[39;49m\u001B[43merrors\u001B[49m\u001B[43m)\u001B[49m\n\u001B[1;32m   4547\u001B[0m     indexer \u001B[38;5;241m=\u001B[39m axis\u001B[38;5;241m.\u001B[39mget_indexer(new_axis)\n\u001B[1;32m   4549\u001B[0m \u001B[38;5;66;03m# Case for non-unique axis\u001B[39;00m\n\u001B[1;32m   4550\u001B[0m \u001B[38;5;28;01melse\u001B[39;00m:\n",
      "File \u001B[0;32m~/.local/share/virtualenvs/Demand-of-Data-Scientist-in-Malaysia-hEWWIcNH/lib/python3.10/site-packages/pandas/core/indexes/base.py:6977\u001B[0m, in \u001B[0;36mIndex.drop\u001B[0;34m(self, labels, errors)\u001B[0m\n\u001B[1;32m   6975\u001B[0m \u001B[38;5;28;01mif\u001B[39;00m mask\u001B[38;5;241m.\u001B[39many():\n\u001B[1;32m   6976\u001B[0m     \u001B[38;5;28;01mif\u001B[39;00m errors \u001B[38;5;241m!=\u001B[39m \u001B[38;5;124m\"\u001B[39m\u001B[38;5;124mignore\u001B[39m\u001B[38;5;124m\"\u001B[39m:\n\u001B[0;32m-> 6977\u001B[0m         \u001B[38;5;28;01mraise\u001B[39;00m \u001B[38;5;167;01mKeyError\u001B[39;00m(\u001B[38;5;124mf\u001B[39m\u001B[38;5;124m\"\u001B[39m\u001B[38;5;132;01m{\u001B[39;00m\u001B[38;5;28mlist\u001B[39m(labels[mask])\u001B[38;5;132;01m}\u001B[39;00m\u001B[38;5;124m not found in axis\u001B[39m\u001B[38;5;124m\"\u001B[39m)\n\u001B[1;32m   6978\u001B[0m     indexer \u001B[38;5;241m=\u001B[39m indexer[\u001B[38;5;241m~\u001B[39mmask]\n\u001B[1;32m   6979\u001B[0m \u001B[38;5;28;01mreturn\u001B[39;00m \u001B[38;5;28mself\u001B[39m\u001B[38;5;241m.\u001B[39mdelete(indexer)\n",
      "\u001B[0;31mKeyError\u001B[0m: '[5] not found in axis'"
     ]
    }
   ],
   "source": [
    "remote_job_df = remote_job_df.drop([5],axis=0,inplace=True)\n",
    "remote_job_df"
   ],
   "metadata": {
    "collapsed": false
   }
  },
  {
   "cell_type": "code",
   "execution_count": 113,
   "outputs": [
    {
     "data": {
      "text/plain": "     index                        location  is_remote  num_is_remote\n0        0                    Kuala Lumpur      False           1345\n1        1                   Petaling Jaya      False            304\n2        2                        Selangor      False            257\n3        3                          Penang      False            154\n4        4                     Bayan Lepas      False            116\n..     ...                             ...        ...            ...\n142    143  Klang/Port Klang, Kuala Lumpur      False              2\n143    144            Kajang/Bangi/Serdang       True              2\n144    145                     Jurong West      False              2\n145    146                 Johor, Selangor       True              2\n146    147       Kuala Lumpur, Manila City      False              2\n\n[147 rows x 4 columns]",
      "text/html": "<div>\n<style scoped>\n    .dataframe tbody tr th:only-of-type {\n        vertical-align: middle;\n    }\n\n    .dataframe tbody tr th {\n        vertical-align: top;\n    }\n\n    .dataframe thead th {\n        text-align: right;\n    }\n</style>\n<table border=\"1\" class=\"dataframe\">\n  <thead>\n    <tr style=\"text-align: right;\">\n      <th></th>\n      <th>index</th>\n      <th>location</th>\n      <th>is_remote</th>\n      <th>num_is_remote</th>\n    </tr>\n  </thead>\n  <tbody>\n    <tr>\n      <th>0</th>\n      <td>0</td>\n      <td>Kuala Lumpur</td>\n      <td>False</td>\n      <td>1345</td>\n    </tr>\n    <tr>\n      <th>1</th>\n      <td>1</td>\n      <td>Petaling Jaya</td>\n      <td>False</td>\n      <td>304</td>\n    </tr>\n    <tr>\n      <th>2</th>\n      <td>2</td>\n      <td>Selangor</td>\n      <td>False</td>\n      <td>257</td>\n    </tr>\n    <tr>\n      <th>3</th>\n      <td>3</td>\n      <td>Penang</td>\n      <td>False</td>\n      <td>154</td>\n    </tr>\n    <tr>\n      <th>4</th>\n      <td>4</td>\n      <td>Bayan Lepas</td>\n      <td>False</td>\n      <td>116</td>\n    </tr>\n    <tr>\n      <th>...</th>\n      <td>...</td>\n      <td>...</td>\n      <td>...</td>\n      <td>...</td>\n    </tr>\n    <tr>\n      <th>142</th>\n      <td>143</td>\n      <td>Klang/Port Klang, Kuala Lumpur</td>\n      <td>False</td>\n      <td>2</td>\n    </tr>\n    <tr>\n      <th>143</th>\n      <td>144</td>\n      <td>Kajang/Bangi/Serdang</td>\n      <td>True</td>\n      <td>2</td>\n    </tr>\n    <tr>\n      <th>144</th>\n      <td>145</td>\n      <td>Jurong West</td>\n      <td>False</td>\n      <td>2</td>\n    </tr>\n    <tr>\n      <th>145</th>\n      <td>146</td>\n      <td>Johor, Selangor</td>\n      <td>True</td>\n      <td>2</td>\n    </tr>\n    <tr>\n      <th>146</th>\n      <td>147</td>\n      <td>Kuala Lumpur, Manila City</td>\n      <td>False</td>\n      <td>2</td>\n    </tr>\n  </tbody>\n</table>\n<p>147 rows × 4 columns</p>\n</div>"
     },
     "execution_count": 113,
     "metadata": {},
     "output_type": "execute_result"
    }
   ],
   "source": [
    "remote_job_df.reset_index()"
   ],
   "metadata": {
    "collapsed": false
   }
  },
  {
   "cell_type": "code",
   "execution_count": 116,
   "outputs": [
    {
     "ename": "KeyError",
     "evalue": "'[10] not found in axis'",
     "output_type": "error",
     "traceback": [
      "\u001B[0;31m---------------------------------------------------------------------------\u001B[0m",
      "\u001B[0;31mKeyError\u001B[0m                                  Traceback (most recent call last)",
      "Cell \u001B[0;32mIn[116], line 1\u001B[0m\n\u001B[0;32m----> 1\u001B[0m remote_job_df \u001B[38;5;241m=\u001B[39m \u001B[43mremote_job_df\u001B[49m\u001B[38;5;241;43m.\u001B[39;49m\u001B[43mdrop\u001B[49m\u001B[43m(\u001B[49m\u001B[43m[\u001B[49m\u001B[38;5;241;43m10\u001B[39;49m\u001B[43m]\u001B[49m\u001B[43m,\u001B[49m\u001B[43maxis\u001B[49m\u001B[38;5;241;43m=\u001B[39;49m\u001B[38;5;241;43m0\u001B[39;49m\u001B[43m,\u001B[49m\u001B[43minplace\u001B[49m\u001B[38;5;241;43m=\u001B[39;49m\u001B[38;5;28;43;01mTrue\u001B[39;49;00m\u001B[43m)\u001B[49m\n",
      "File \u001B[0;32m~/.local/share/virtualenvs/Demand-of-Data-Scientist-in-Malaysia-hEWWIcNH/lib/python3.10/site-packages/pandas/util/_decorators.py:331\u001B[0m, in \u001B[0;36mdeprecate_nonkeyword_arguments.<locals>.decorate.<locals>.wrapper\u001B[0;34m(*args, **kwargs)\u001B[0m\n\u001B[1;32m    325\u001B[0m \u001B[38;5;28;01mif\u001B[39;00m \u001B[38;5;28mlen\u001B[39m(args) \u001B[38;5;241m>\u001B[39m num_allow_args:\n\u001B[1;32m    326\u001B[0m     warnings\u001B[38;5;241m.\u001B[39mwarn(\n\u001B[1;32m    327\u001B[0m         msg\u001B[38;5;241m.\u001B[39mformat(arguments\u001B[38;5;241m=\u001B[39m_format_argument_list(allow_args)),\n\u001B[1;32m    328\u001B[0m         \u001B[38;5;167;01mFutureWarning\u001B[39;00m,\n\u001B[1;32m    329\u001B[0m         stacklevel\u001B[38;5;241m=\u001B[39mfind_stack_level(),\n\u001B[1;32m    330\u001B[0m     )\n\u001B[0;32m--> 331\u001B[0m \u001B[38;5;28;01mreturn\u001B[39;00m \u001B[43mfunc\u001B[49m\u001B[43m(\u001B[49m\u001B[38;5;241;43m*\u001B[39;49m\u001B[43margs\u001B[49m\u001B[43m,\u001B[49m\u001B[43m \u001B[49m\u001B[38;5;241;43m*\u001B[39;49m\u001B[38;5;241;43m*\u001B[39;49m\u001B[43mkwargs\u001B[49m\u001B[43m)\u001B[49m\n",
      "File \u001B[0;32m~/.local/share/virtualenvs/Demand-of-Data-Scientist-in-Malaysia-hEWWIcNH/lib/python3.10/site-packages/pandas/core/frame.py:5396\u001B[0m, in \u001B[0;36mDataFrame.drop\u001B[0;34m(self, labels, axis, index, columns, level, inplace, errors)\u001B[0m\n\u001B[1;32m   5248\u001B[0m \u001B[38;5;129m@deprecate_nonkeyword_arguments\u001B[39m(version\u001B[38;5;241m=\u001B[39m\u001B[38;5;28;01mNone\u001B[39;00m, allowed_args\u001B[38;5;241m=\u001B[39m[\u001B[38;5;124m\"\u001B[39m\u001B[38;5;124mself\u001B[39m\u001B[38;5;124m\"\u001B[39m, \u001B[38;5;124m\"\u001B[39m\u001B[38;5;124mlabels\u001B[39m\u001B[38;5;124m\"\u001B[39m])\n\u001B[1;32m   5249\u001B[0m \u001B[38;5;28;01mdef\u001B[39;00m \u001B[38;5;21mdrop\u001B[39m(  \u001B[38;5;66;03m# type: ignore[override]\u001B[39;00m\n\u001B[1;32m   5250\u001B[0m     \u001B[38;5;28mself\u001B[39m,\n\u001B[0;32m   (...)\u001B[0m\n\u001B[1;32m   5257\u001B[0m     errors: IgnoreRaise \u001B[38;5;241m=\u001B[39m \u001B[38;5;124m\"\u001B[39m\u001B[38;5;124mraise\u001B[39m\u001B[38;5;124m\"\u001B[39m,\n\u001B[1;32m   5258\u001B[0m ) \u001B[38;5;241m-\u001B[39m\u001B[38;5;241m>\u001B[39m DataFrame \u001B[38;5;241m|\u001B[39m \u001B[38;5;28;01mNone\u001B[39;00m:\n\u001B[1;32m   5259\u001B[0m \u001B[38;5;250m    \u001B[39m\u001B[38;5;124;03m\"\"\"\u001B[39;00m\n\u001B[1;32m   5260\u001B[0m \u001B[38;5;124;03m    Drop specified labels from rows or columns.\u001B[39;00m\n\u001B[1;32m   5261\u001B[0m \n\u001B[0;32m   (...)\u001B[0m\n\u001B[1;32m   5394\u001B[0m \u001B[38;5;124;03m            weight  1.0     0.8\u001B[39;00m\n\u001B[1;32m   5395\u001B[0m \u001B[38;5;124;03m    \"\"\"\u001B[39;00m\n\u001B[0;32m-> 5396\u001B[0m     \u001B[38;5;28;01mreturn\u001B[39;00m \u001B[38;5;28;43msuper\u001B[39;49m\u001B[43m(\u001B[49m\u001B[43m)\u001B[49m\u001B[38;5;241;43m.\u001B[39;49m\u001B[43mdrop\u001B[49m\u001B[43m(\u001B[49m\n\u001B[1;32m   5397\u001B[0m \u001B[43m        \u001B[49m\u001B[43mlabels\u001B[49m\u001B[38;5;241;43m=\u001B[39;49m\u001B[43mlabels\u001B[49m\u001B[43m,\u001B[49m\n\u001B[1;32m   5398\u001B[0m \u001B[43m        \u001B[49m\u001B[43maxis\u001B[49m\u001B[38;5;241;43m=\u001B[39;49m\u001B[43maxis\u001B[49m\u001B[43m,\u001B[49m\n\u001B[1;32m   5399\u001B[0m \u001B[43m        \u001B[49m\u001B[43mindex\u001B[49m\u001B[38;5;241;43m=\u001B[39;49m\u001B[43mindex\u001B[49m\u001B[43m,\u001B[49m\n\u001B[1;32m   5400\u001B[0m \u001B[43m        \u001B[49m\u001B[43mcolumns\u001B[49m\u001B[38;5;241;43m=\u001B[39;49m\u001B[43mcolumns\u001B[49m\u001B[43m,\u001B[49m\n\u001B[1;32m   5401\u001B[0m \u001B[43m        \u001B[49m\u001B[43mlevel\u001B[49m\u001B[38;5;241;43m=\u001B[39;49m\u001B[43mlevel\u001B[49m\u001B[43m,\u001B[49m\n\u001B[1;32m   5402\u001B[0m \u001B[43m        \u001B[49m\u001B[43minplace\u001B[49m\u001B[38;5;241;43m=\u001B[39;49m\u001B[43minplace\u001B[49m\u001B[43m,\u001B[49m\n\u001B[1;32m   5403\u001B[0m \u001B[43m        \u001B[49m\u001B[43merrors\u001B[49m\u001B[38;5;241;43m=\u001B[39;49m\u001B[43merrors\u001B[49m\u001B[43m,\u001B[49m\n\u001B[1;32m   5404\u001B[0m \u001B[43m    \u001B[49m\u001B[43m)\u001B[49m\n",
      "File \u001B[0;32m~/.local/share/virtualenvs/Demand-of-Data-Scientist-in-Malaysia-hEWWIcNH/lib/python3.10/site-packages/pandas/util/_decorators.py:331\u001B[0m, in \u001B[0;36mdeprecate_nonkeyword_arguments.<locals>.decorate.<locals>.wrapper\u001B[0;34m(*args, **kwargs)\u001B[0m\n\u001B[1;32m    325\u001B[0m \u001B[38;5;28;01mif\u001B[39;00m \u001B[38;5;28mlen\u001B[39m(args) \u001B[38;5;241m>\u001B[39m num_allow_args:\n\u001B[1;32m    326\u001B[0m     warnings\u001B[38;5;241m.\u001B[39mwarn(\n\u001B[1;32m    327\u001B[0m         msg\u001B[38;5;241m.\u001B[39mformat(arguments\u001B[38;5;241m=\u001B[39m_format_argument_list(allow_args)),\n\u001B[1;32m    328\u001B[0m         \u001B[38;5;167;01mFutureWarning\u001B[39;00m,\n\u001B[1;32m    329\u001B[0m         stacklevel\u001B[38;5;241m=\u001B[39mfind_stack_level(),\n\u001B[1;32m    330\u001B[0m     )\n\u001B[0;32m--> 331\u001B[0m \u001B[38;5;28;01mreturn\u001B[39;00m \u001B[43mfunc\u001B[49m\u001B[43m(\u001B[49m\u001B[38;5;241;43m*\u001B[39;49m\u001B[43margs\u001B[49m\u001B[43m,\u001B[49m\u001B[43m \u001B[49m\u001B[38;5;241;43m*\u001B[39;49m\u001B[38;5;241;43m*\u001B[39;49m\u001B[43mkwargs\u001B[49m\u001B[43m)\u001B[49m\n",
      "File \u001B[0;32m~/.local/share/virtualenvs/Demand-of-Data-Scientist-in-Malaysia-hEWWIcNH/lib/python3.10/site-packages/pandas/core/generic.py:4505\u001B[0m, in \u001B[0;36mNDFrame.drop\u001B[0;34m(self, labels, axis, index, columns, level, inplace, errors)\u001B[0m\n\u001B[1;32m   4503\u001B[0m \u001B[38;5;28;01mfor\u001B[39;00m axis, labels \u001B[38;5;129;01min\u001B[39;00m axes\u001B[38;5;241m.\u001B[39mitems():\n\u001B[1;32m   4504\u001B[0m     \u001B[38;5;28;01mif\u001B[39;00m labels \u001B[38;5;129;01mis\u001B[39;00m \u001B[38;5;129;01mnot\u001B[39;00m \u001B[38;5;28;01mNone\u001B[39;00m:\n\u001B[0;32m-> 4505\u001B[0m         obj \u001B[38;5;241m=\u001B[39m \u001B[43mobj\u001B[49m\u001B[38;5;241;43m.\u001B[39;49m\u001B[43m_drop_axis\u001B[49m\u001B[43m(\u001B[49m\u001B[43mlabels\u001B[49m\u001B[43m,\u001B[49m\u001B[43m \u001B[49m\u001B[43maxis\u001B[49m\u001B[43m,\u001B[49m\u001B[43m \u001B[49m\u001B[43mlevel\u001B[49m\u001B[38;5;241;43m=\u001B[39;49m\u001B[43mlevel\u001B[49m\u001B[43m,\u001B[49m\u001B[43m \u001B[49m\u001B[43merrors\u001B[49m\u001B[38;5;241;43m=\u001B[39;49m\u001B[43merrors\u001B[49m\u001B[43m)\u001B[49m\n\u001B[1;32m   4507\u001B[0m \u001B[38;5;28;01mif\u001B[39;00m inplace:\n\u001B[1;32m   4508\u001B[0m     \u001B[38;5;28mself\u001B[39m\u001B[38;5;241m.\u001B[39m_update_inplace(obj)\n",
      "File \u001B[0;32m~/.local/share/virtualenvs/Demand-of-Data-Scientist-in-Malaysia-hEWWIcNH/lib/python3.10/site-packages/pandas/core/generic.py:4546\u001B[0m, in \u001B[0;36mNDFrame._drop_axis\u001B[0;34m(self, labels, axis, level, errors, only_slice)\u001B[0m\n\u001B[1;32m   4544\u001B[0m         new_axis \u001B[38;5;241m=\u001B[39m axis\u001B[38;5;241m.\u001B[39mdrop(labels, level\u001B[38;5;241m=\u001B[39mlevel, errors\u001B[38;5;241m=\u001B[39merrors)\n\u001B[1;32m   4545\u001B[0m     \u001B[38;5;28;01melse\u001B[39;00m:\n\u001B[0;32m-> 4546\u001B[0m         new_axis \u001B[38;5;241m=\u001B[39m \u001B[43maxis\u001B[49m\u001B[38;5;241;43m.\u001B[39;49m\u001B[43mdrop\u001B[49m\u001B[43m(\u001B[49m\u001B[43mlabels\u001B[49m\u001B[43m,\u001B[49m\u001B[43m \u001B[49m\u001B[43merrors\u001B[49m\u001B[38;5;241;43m=\u001B[39;49m\u001B[43merrors\u001B[49m\u001B[43m)\u001B[49m\n\u001B[1;32m   4547\u001B[0m     indexer \u001B[38;5;241m=\u001B[39m axis\u001B[38;5;241m.\u001B[39mget_indexer(new_axis)\n\u001B[1;32m   4549\u001B[0m \u001B[38;5;66;03m# Case for non-unique axis\u001B[39;00m\n\u001B[1;32m   4550\u001B[0m \u001B[38;5;28;01melse\u001B[39;00m:\n",
      "File \u001B[0;32m~/.local/share/virtualenvs/Demand-of-Data-Scientist-in-Malaysia-hEWWIcNH/lib/python3.10/site-packages/pandas/core/indexes/base.py:6977\u001B[0m, in \u001B[0;36mIndex.drop\u001B[0;34m(self, labels, errors)\u001B[0m\n\u001B[1;32m   6975\u001B[0m \u001B[38;5;28;01mif\u001B[39;00m mask\u001B[38;5;241m.\u001B[39many():\n\u001B[1;32m   6976\u001B[0m     \u001B[38;5;28;01mif\u001B[39;00m errors \u001B[38;5;241m!=\u001B[39m \u001B[38;5;124m\"\u001B[39m\u001B[38;5;124mignore\u001B[39m\u001B[38;5;124m\"\u001B[39m:\n\u001B[0;32m-> 6977\u001B[0m         \u001B[38;5;28;01mraise\u001B[39;00m \u001B[38;5;167;01mKeyError\u001B[39;00m(\u001B[38;5;124mf\u001B[39m\u001B[38;5;124m\"\u001B[39m\u001B[38;5;132;01m{\u001B[39;00m\u001B[38;5;28mlist\u001B[39m(labels[mask])\u001B[38;5;132;01m}\u001B[39;00m\u001B[38;5;124m not found in axis\u001B[39m\u001B[38;5;124m\"\u001B[39m)\n\u001B[1;32m   6978\u001B[0m     indexer \u001B[38;5;241m=\u001B[39m indexer[\u001B[38;5;241m~\u001B[39mmask]\n\u001B[1;32m   6979\u001B[0m \u001B[38;5;28;01mreturn\u001B[39;00m \u001B[38;5;28mself\u001B[39m\u001B[38;5;241m.\u001B[39mdelete(indexer)\n",
      "\u001B[0;31mKeyError\u001B[0m: '[10] not found in axis'"
     ]
    }
   ],
   "source": [
    "remote_job_df = remote_job_df.drop([10],axis=0,inplace=True)"
   ],
   "metadata": {
    "collapsed": false
   }
  },
  {
   "cell_type": "code",
   "execution_count": 117,
   "outputs": [
    {
     "data": {
      "text/plain": "     index                        location  is_remote  num_is_remote\n0        0                    Kuala Lumpur      False           1345\n1        1                   Petaling Jaya      False            304\n2        2                        Selangor      False            257\n3        3                          Penang      False            154\n4        4                     Bayan Lepas      False            116\n..     ...                             ...        ...            ...\n141    143  Klang/Port Klang, Kuala Lumpur      False              2\n142    144            Kajang/Bangi/Serdang       True              2\n143    145                     Jurong West      False              2\n144    146                 Johor, Selangor       True              2\n145    147       Kuala Lumpur, Manila City      False              2\n\n[146 rows x 4 columns]",
      "text/html": "<div>\n<style scoped>\n    .dataframe tbody tr th:only-of-type {\n        vertical-align: middle;\n    }\n\n    .dataframe tbody tr th {\n        vertical-align: top;\n    }\n\n    .dataframe thead th {\n        text-align: right;\n    }\n</style>\n<table border=\"1\" class=\"dataframe\">\n  <thead>\n    <tr style=\"text-align: right;\">\n      <th></th>\n      <th>index</th>\n      <th>location</th>\n      <th>is_remote</th>\n      <th>num_is_remote</th>\n    </tr>\n  </thead>\n  <tbody>\n    <tr>\n      <th>0</th>\n      <td>0</td>\n      <td>Kuala Lumpur</td>\n      <td>False</td>\n      <td>1345</td>\n    </tr>\n    <tr>\n      <th>1</th>\n      <td>1</td>\n      <td>Petaling Jaya</td>\n      <td>False</td>\n      <td>304</td>\n    </tr>\n    <tr>\n      <th>2</th>\n      <td>2</td>\n      <td>Selangor</td>\n      <td>False</td>\n      <td>257</td>\n    </tr>\n    <tr>\n      <th>3</th>\n      <td>3</td>\n      <td>Penang</td>\n      <td>False</td>\n      <td>154</td>\n    </tr>\n    <tr>\n      <th>4</th>\n      <td>4</td>\n      <td>Bayan Lepas</td>\n      <td>False</td>\n      <td>116</td>\n    </tr>\n    <tr>\n      <th>...</th>\n      <td>...</td>\n      <td>...</td>\n      <td>...</td>\n      <td>...</td>\n    </tr>\n    <tr>\n      <th>141</th>\n      <td>143</td>\n      <td>Klang/Port Klang, Kuala Lumpur</td>\n      <td>False</td>\n      <td>2</td>\n    </tr>\n    <tr>\n      <th>142</th>\n      <td>144</td>\n      <td>Kajang/Bangi/Serdang</td>\n      <td>True</td>\n      <td>2</td>\n    </tr>\n    <tr>\n      <th>143</th>\n      <td>145</td>\n      <td>Jurong West</td>\n      <td>False</td>\n      <td>2</td>\n    </tr>\n    <tr>\n      <th>144</th>\n      <td>146</td>\n      <td>Johor, Selangor</td>\n      <td>True</td>\n      <td>2</td>\n    </tr>\n    <tr>\n      <th>145</th>\n      <td>147</td>\n      <td>Kuala Lumpur, Manila City</td>\n      <td>False</td>\n      <td>2</td>\n    </tr>\n  </tbody>\n</table>\n<p>146 rows × 4 columns</p>\n</div>"
     },
     "execution_count": 117,
     "metadata": {},
     "output_type": "execute_result"
    }
   ],
   "source": [
    "remote_job_df.reset_index()"
   ],
   "metadata": {
    "collapsed": false
   }
  },
  {
   "cell_type": "code",
   "execution_count": 119,
   "outputs": [],
   "source": [
    "remote_job_df.to_csv('./final_dataset/cleaned_is_remote')"
   ],
   "metadata": {
    "collapsed": false
   }
  },
  {
   "cell_type": "code",
   "execution_count": 164,
   "outputs": [],
   "source": [
    "remote_job_df.loc[remote_job_df.location == 'Penang', 'location'] = 'Penang_mainland'\n",
    "remote_job_df.to_csv('./final_dataset/cleaned_is_remote2.csv')"
   ],
   "metadata": {
    "collapsed": false
   }
  },
  {
   "cell_type": "code",
   "execution_count": 122,
   "outputs": [
    {
     "data": {
      "text/plain": "                           location  is_remote  num_is_remote\n0                      Kuala Lumpur      False           1345\n1                     Petaling Jaya      False            304\n2                          Selangor      False            257\n3                            Penang      False            154\n4                       Bayan Lepas      False            116\n..                              ...        ...            ...\n141       Kuala Lumpur, Bayan Lepas      False              2\n142                     Kota Tinggi      False              2\n143  Klang/Port Klang, Kuala Lumpur      False              2\n145                     Jurong West      False              2\n147       Kuala Lumpur, Manila City      False              2\n\n[117 rows x 3 columns]",
      "text/html": "<div>\n<style scoped>\n    .dataframe tbody tr th:only-of-type {\n        vertical-align: middle;\n    }\n\n    .dataframe tbody tr th {\n        vertical-align: top;\n    }\n\n    .dataframe thead th {\n        text-align: right;\n    }\n</style>\n<table border=\"1\" class=\"dataframe\">\n  <thead>\n    <tr style=\"text-align: right;\">\n      <th></th>\n      <th>location</th>\n      <th>is_remote</th>\n      <th>num_is_remote</th>\n    </tr>\n  </thead>\n  <tbody>\n    <tr>\n      <th>0</th>\n      <td>Kuala Lumpur</td>\n      <td>False</td>\n      <td>1345</td>\n    </tr>\n    <tr>\n      <th>1</th>\n      <td>Petaling Jaya</td>\n      <td>False</td>\n      <td>304</td>\n    </tr>\n    <tr>\n      <th>2</th>\n      <td>Selangor</td>\n      <td>False</td>\n      <td>257</td>\n    </tr>\n    <tr>\n      <th>3</th>\n      <td>Penang</td>\n      <td>False</td>\n      <td>154</td>\n    </tr>\n    <tr>\n      <th>4</th>\n      <td>Bayan Lepas</td>\n      <td>False</td>\n      <td>116</td>\n    </tr>\n    <tr>\n      <th>...</th>\n      <td>...</td>\n      <td>...</td>\n      <td>...</td>\n    </tr>\n    <tr>\n      <th>141</th>\n      <td>Kuala Lumpur, Bayan Lepas</td>\n      <td>False</td>\n      <td>2</td>\n    </tr>\n    <tr>\n      <th>142</th>\n      <td>Kota Tinggi</td>\n      <td>False</td>\n      <td>2</td>\n    </tr>\n    <tr>\n      <th>143</th>\n      <td>Klang/Port Klang, Kuala Lumpur</td>\n      <td>False</td>\n      <td>2</td>\n    </tr>\n    <tr>\n      <th>145</th>\n      <td>Jurong West</td>\n      <td>False</td>\n      <td>2</td>\n    </tr>\n    <tr>\n      <th>147</th>\n      <td>Kuala Lumpur, Manila City</td>\n      <td>False</td>\n      <td>2</td>\n    </tr>\n  </tbody>\n</table>\n<p>117 rows × 3 columns</p>\n</div>"
     },
     "execution_count": 122,
     "metadata": {},
     "output_type": "execute_result"
    }
   ],
   "source": [
    "not_remote = remote_job_df[remote_job_df['is_remote']==False]\n",
    "not_remote"
   ],
   "metadata": {
    "collapsed": false
   }
  },
  {
   "cell_type": "code",
   "execution_count": 140,
   "outputs": [
    {
     "name": "stderr",
     "output_type": "stream",
     "text": [
      "/tmp/ipykernel_12907/2353418331.py:2: SettingWithCopyWarning:\n",
      "\n",
      "\n",
      "A value is trying to be set on a copy of a slice from a DataFrame\n",
      "\n",
      "See the caveats in the documentation: https://pandas.pydata.org/pandas-docs/stable/user_guide/indexing.html#returning-a-view-versus-a-copy\n",
      "\n"
     ]
    }
   ],
   "source": [
    "is_remote = remote_job_df[remote_job_df['is_remote']==True]\n"
   ],
   "metadata": {
    "collapsed": false
   }
  },
  {
   "cell_type": "code",
   "execution_count": 142,
   "outputs": [],
   "source": [],
   "metadata": {
    "collapsed": false
   }
  },
  {
   "cell_type": "code",
   "execution_count": 144,
   "outputs": [],
   "source": [],
   "metadata": {
    "collapsed": false
   }
  },
  {
   "cell_type": "code",
   "execution_count": 151,
   "outputs": [
    {
     "data": {
      "application/vnd.plotly.v1+json": {
       "data": [
        {
         "alignmentgroup": "True",
         "bingroup": "y",
         "histfunc": "sum",
         "hovertemplate": "is_remote=False<br>sum of num_is_remote=%{x}<br>location=%{y}<extra></extra>",
         "legendgroup": "False",
         "marker": {
          "color": "#636efa",
          "pattern": {
           "shape": ""
          }
         },
         "name": "False",
         "offsetgroup": "False",
         "orientation": "h",
         "showlegend": true,
         "x": [
          1345,
          304,
          257,
          154,
          116,
          87,
          76,
          76,
          62
         ],
         "xaxis": "x",
         "y": [
          "Kuala Lumpur",
          "Petaling Jaya",
          "Selangor",
          "Penang_mainland",
          "Bayan Lepas",
          "Cyberjaya",
          "George Town",
          "Shah Alam/Subang",
          "Johor Bahru"
         ],
         "yaxis": "y",
         "type": "histogram"
        },
        {
         "alignmentgroup": "True",
         "bingroup": "y",
         "histfunc": "sum",
         "hovertemplate": "is_remote=True<br>sum of num_is_remote=%{x}<br>location=%{y}<extra></extra>",
         "legendgroup": "True",
         "marker": {
          "color": "#EF553B",
          "pattern": {
           "shape": ""
          }
         },
         "name": "True",
         "offsetgroup": "True",
         "orientation": "h",
         "showlegend": true,
         "x": [
          98
         ],
         "xaxis": "x",
         "y": [
          "Kuala Lumpur"
         ],
         "yaxis": "y",
         "type": "histogram"
        }
       ],
       "layout": {
        "template": {
         "data": {
          "histogram2dcontour": [
           {
            "type": "histogram2dcontour",
            "colorbar": {
             "outlinewidth": 0,
             "ticks": ""
            },
            "colorscale": [
             [
              0.0,
              "#0d0887"
             ],
             [
              0.1111111111111111,
              "#46039f"
             ],
             [
              0.2222222222222222,
              "#7201a8"
             ],
             [
              0.3333333333333333,
              "#9c179e"
             ],
             [
              0.4444444444444444,
              "#bd3786"
             ],
             [
              0.5555555555555556,
              "#d8576b"
             ],
             [
              0.6666666666666666,
              "#ed7953"
             ],
             [
              0.7777777777777778,
              "#fb9f3a"
             ],
             [
              0.8888888888888888,
              "#fdca26"
             ],
             [
              1.0,
              "#f0f921"
             ]
            ]
           }
          ],
          "choropleth": [
           {
            "type": "choropleth",
            "colorbar": {
             "outlinewidth": 0,
             "ticks": ""
            }
           }
          ],
          "histogram2d": [
           {
            "type": "histogram2d",
            "colorbar": {
             "outlinewidth": 0,
             "ticks": ""
            },
            "colorscale": [
             [
              0.0,
              "#0d0887"
             ],
             [
              0.1111111111111111,
              "#46039f"
             ],
             [
              0.2222222222222222,
              "#7201a8"
             ],
             [
              0.3333333333333333,
              "#9c179e"
             ],
             [
              0.4444444444444444,
              "#bd3786"
             ],
             [
              0.5555555555555556,
              "#d8576b"
             ],
             [
              0.6666666666666666,
              "#ed7953"
             ],
             [
              0.7777777777777778,
              "#fb9f3a"
             ],
             [
              0.8888888888888888,
              "#fdca26"
             ],
             [
              1.0,
              "#f0f921"
             ]
            ]
           }
          ],
          "heatmap": [
           {
            "type": "heatmap",
            "colorbar": {
             "outlinewidth": 0,
             "ticks": ""
            },
            "colorscale": [
             [
              0.0,
              "#0d0887"
             ],
             [
              0.1111111111111111,
              "#46039f"
             ],
             [
              0.2222222222222222,
              "#7201a8"
             ],
             [
              0.3333333333333333,
              "#9c179e"
             ],
             [
              0.4444444444444444,
              "#bd3786"
             ],
             [
              0.5555555555555556,
              "#d8576b"
             ],
             [
              0.6666666666666666,
              "#ed7953"
             ],
             [
              0.7777777777777778,
              "#fb9f3a"
             ],
             [
              0.8888888888888888,
              "#fdca26"
             ],
             [
              1.0,
              "#f0f921"
             ]
            ]
           }
          ],
          "heatmapgl": [
           {
            "type": "heatmapgl",
            "colorbar": {
             "outlinewidth": 0,
             "ticks": ""
            },
            "colorscale": [
             [
              0.0,
              "#0d0887"
             ],
             [
              0.1111111111111111,
              "#46039f"
             ],
             [
              0.2222222222222222,
              "#7201a8"
             ],
             [
              0.3333333333333333,
              "#9c179e"
             ],
             [
              0.4444444444444444,
              "#bd3786"
             ],
             [
              0.5555555555555556,
              "#d8576b"
             ],
             [
              0.6666666666666666,
              "#ed7953"
             ],
             [
              0.7777777777777778,
              "#fb9f3a"
             ],
             [
              0.8888888888888888,
              "#fdca26"
             ],
             [
              1.0,
              "#f0f921"
             ]
            ]
           }
          ],
          "contourcarpet": [
           {
            "type": "contourcarpet",
            "colorbar": {
             "outlinewidth": 0,
             "ticks": ""
            }
           }
          ],
          "contour": [
           {
            "type": "contour",
            "colorbar": {
             "outlinewidth": 0,
             "ticks": ""
            },
            "colorscale": [
             [
              0.0,
              "#0d0887"
             ],
             [
              0.1111111111111111,
              "#46039f"
             ],
             [
              0.2222222222222222,
              "#7201a8"
             ],
             [
              0.3333333333333333,
              "#9c179e"
             ],
             [
              0.4444444444444444,
              "#bd3786"
             ],
             [
              0.5555555555555556,
              "#d8576b"
             ],
             [
              0.6666666666666666,
              "#ed7953"
             ],
             [
              0.7777777777777778,
              "#fb9f3a"
             ],
             [
              0.8888888888888888,
              "#fdca26"
             ],
             [
              1.0,
              "#f0f921"
             ]
            ]
           }
          ],
          "surface": [
           {
            "type": "surface",
            "colorbar": {
             "outlinewidth": 0,
             "ticks": ""
            },
            "colorscale": [
             [
              0.0,
              "#0d0887"
             ],
             [
              0.1111111111111111,
              "#46039f"
             ],
             [
              0.2222222222222222,
              "#7201a8"
             ],
             [
              0.3333333333333333,
              "#9c179e"
             ],
             [
              0.4444444444444444,
              "#bd3786"
             ],
             [
              0.5555555555555556,
              "#d8576b"
             ],
             [
              0.6666666666666666,
              "#ed7953"
             ],
             [
              0.7777777777777778,
              "#fb9f3a"
             ],
             [
              0.8888888888888888,
              "#fdca26"
             ],
             [
              1.0,
              "#f0f921"
             ]
            ]
           }
          ],
          "mesh3d": [
           {
            "type": "mesh3d",
            "colorbar": {
             "outlinewidth": 0,
             "ticks": ""
            }
           }
          ],
          "scatter": [
           {
            "marker": {
             "line": {
              "color": "#283442"
             }
            },
            "type": "scatter"
           }
          ],
          "parcoords": [
           {
            "type": "parcoords",
            "line": {
             "colorbar": {
              "outlinewidth": 0,
              "ticks": ""
             }
            }
           }
          ],
          "scatterpolargl": [
           {
            "type": "scatterpolargl",
            "marker": {
             "colorbar": {
              "outlinewidth": 0,
              "ticks": ""
             }
            }
           }
          ],
          "bar": [
           {
            "error_x": {
             "color": "#f2f5fa"
            },
            "error_y": {
             "color": "#f2f5fa"
            },
            "marker": {
             "line": {
              "color": "rgb(17,17,17)",
              "width": 0.5
             },
             "pattern": {
              "fillmode": "overlay",
              "size": 10,
              "solidity": 0.2
             }
            },
            "type": "bar"
           }
          ],
          "scattergeo": [
           {
            "type": "scattergeo",
            "marker": {
             "colorbar": {
              "outlinewidth": 0,
              "ticks": ""
             }
            }
           }
          ],
          "scatterpolar": [
           {
            "type": "scatterpolar",
            "marker": {
             "colorbar": {
              "outlinewidth": 0,
              "ticks": ""
             }
            }
           }
          ],
          "histogram": [
           {
            "marker": {
             "pattern": {
              "fillmode": "overlay",
              "size": 10,
              "solidity": 0.2
             }
            },
            "type": "histogram"
           }
          ],
          "scattergl": [
           {
            "marker": {
             "line": {
              "color": "#283442"
             }
            },
            "type": "scattergl"
           }
          ],
          "scatter3d": [
           {
            "type": "scatter3d",
            "line": {
             "colorbar": {
              "outlinewidth": 0,
              "ticks": ""
             }
            },
            "marker": {
             "colorbar": {
              "outlinewidth": 0,
              "ticks": ""
             }
            }
           }
          ],
          "scattermapbox": [
           {
            "type": "scattermapbox",
            "marker": {
             "colorbar": {
              "outlinewidth": 0,
              "ticks": ""
             }
            }
           }
          ],
          "scatterternary": [
           {
            "type": "scatterternary",
            "marker": {
             "colorbar": {
              "outlinewidth": 0,
              "ticks": ""
             }
            }
           }
          ],
          "scattercarpet": [
           {
            "type": "scattercarpet",
            "marker": {
             "colorbar": {
              "outlinewidth": 0,
              "ticks": ""
             }
            }
           }
          ],
          "carpet": [
           {
            "aaxis": {
             "endlinecolor": "#A2B1C6",
             "gridcolor": "#506784",
             "linecolor": "#506784",
             "minorgridcolor": "#506784",
             "startlinecolor": "#A2B1C6"
            },
            "baxis": {
             "endlinecolor": "#A2B1C6",
             "gridcolor": "#506784",
             "linecolor": "#506784",
             "minorgridcolor": "#506784",
             "startlinecolor": "#A2B1C6"
            },
            "type": "carpet"
           }
          ],
          "table": [
           {
            "cells": {
             "fill": {
              "color": "#506784"
             },
             "line": {
              "color": "rgb(17,17,17)"
             }
            },
            "header": {
             "fill": {
              "color": "#2a3f5f"
             },
             "line": {
              "color": "rgb(17,17,17)"
             }
            },
            "type": "table"
           }
          ],
          "barpolar": [
           {
            "marker": {
             "line": {
              "color": "rgb(17,17,17)",
              "width": 0.5
             },
             "pattern": {
              "fillmode": "overlay",
              "size": 10,
              "solidity": 0.2
             }
            },
            "type": "barpolar"
           }
          ],
          "pie": [
           {
            "automargin": true,
            "type": "pie"
           }
          ]
         },
         "layout": {
          "autotypenumbers": "strict",
          "colorway": [
           "#636efa",
           "#EF553B",
           "#00cc96",
           "#ab63fa",
           "#FFA15A",
           "#19d3f3",
           "#FF6692",
           "#B6E880",
           "#FF97FF",
           "#FECB52"
          ],
          "font": {
           "color": "#f2f5fa"
          },
          "hovermode": "closest",
          "hoverlabel": {
           "align": "left"
          },
          "paper_bgcolor": "rgb(17,17,17)",
          "plot_bgcolor": "rgb(17,17,17)",
          "polar": {
           "bgcolor": "rgb(17,17,17)",
           "angularaxis": {
            "gridcolor": "#506784",
            "linecolor": "#506784",
            "ticks": ""
           },
           "radialaxis": {
            "gridcolor": "#506784",
            "linecolor": "#506784",
            "ticks": ""
           }
          },
          "ternary": {
           "bgcolor": "rgb(17,17,17)",
           "aaxis": {
            "gridcolor": "#506784",
            "linecolor": "#506784",
            "ticks": ""
           },
           "baxis": {
            "gridcolor": "#506784",
            "linecolor": "#506784",
            "ticks": ""
           },
           "caxis": {
            "gridcolor": "#506784",
            "linecolor": "#506784",
            "ticks": ""
           }
          },
          "coloraxis": {
           "colorbar": {
            "outlinewidth": 0,
            "ticks": ""
           }
          },
          "colorscale": {
           "sequential": [
            [
             0.0,
             "#0d0887"
            ],
            [
             0.1111111111111111,
             "#46039f"
            ],
            [
             0.2222222222222222,
             "#7201a8"
            ],
            [
             0.3333333333333333,
             "#9c179e"
            ],
            [
             0.4444444444444444,
             "#bd3786"
            ],
            [
             0.5555555555555556,
             "#d8576b"
            ],
            [
             0.6666666666666666,
             "#ed7953"
            ],
            [
             0.7777777777777778,
             "#fb9f3a"
            ],
            [
             0.8888888888888888,
             "#fdca26"
            ],
            [
             1.0,
             "#f0f921"
            ]
           ],
           "sequentialminus": [
            [
             0.0,
             "#0d0887"
            ],
            [
             0.1111111111111111,
             "#46039f"
            ],
            [
             0.2222222222222222,
             "#7201a8"
            ],
            [
             0.3333333333333333,
             "#9c179e"
            ],
            [
             0.4444444444444444,
             "#bd3786"
            ],
            [
             0.5555555555555556,
             "#d8576b"
            ],
            [
             0.6666666666666666,
             "#ed7953"
            ],
            [
             0.7777777777777778,
             "#fb9f3a"
            ],
            [
             0.8888888888888888,
             "#fdca26"
            ],
            [
             1.0,
             "#f0f921"
            ]
           ],
           "diverging": [
            [
             0,
             "#8e0152"
            ],
            [
             0.1,
             "#c51b7d"
            ],
            [
             0.2,
             "#de77ae"
            ],
            [
             0.3,
             "#f1b6da"
            ],
            [
             0.4,
             "#fde0ef"
            ],
            [
             0.5,
             "#f7f7f7"
            ],
            [
             0.6,
             "#e6f5d0"
            ],
            [
             0.7,
             "#b8e186"
            ],
            [
             0.8,
             "#7fbc41"
            ],
            [
             0.9,
             "#4d9221"
            ],
            [
             1,
             "#276419"
            ]
           ]
          },
          "xaxis": {
           "gridcolor": "#283442",
           "linecolor": "#506784",
           "ticks": "",
           "title": {
            "standoff": 15
           },
           "zerolinecolor": "#283442",
           "automargin": true,
           "zerolinewidth": 2
          },
          "yaxis": {
           "gridcolor": "#283442",
           "linecolor": "#506784",
           "ticks": "",
           "title": {
            "standoff": 15
           },
           "zerolinecolor": "#283442",
           "automargin": true,
           "zerolinewidth": 2
          },
          "scene": {
           "xaxis": {
            "backgroundcolor": "rgb(17,17,17)",
            "gridcolor": "#506784",
            "linecolor": "#506784",
            "showbackground": true,
            "ticks": "",
            "zerolinecolor": "#C8D4E3",
            "gridwidth": 2
           },
           "yaxis": {
            "backgroundcolor": "rgb(17,17,17)",
            "gridcolor": "#506784",
            "linecolor": "#506784",
            "showbackground": true,
            "ticks": "",
            "zerolinecolor": "#C8D4E3",
            "gridwidth": 2
           },
           "zaxis": {
            "backgroundcolor": "rgb(17,17,17)",
            "gridcolor": "#506784",
            "linecolor": "#506784",
            "showbackground": true,
            "ticks": "",
            "zerolinecolor": "#C8D4E3",
            "gridwidth": 2
           }
          },
          "shapedefaults": {
           "line": {
            "color": "#f2f5fa"
           }
          },
          "annotationdefaults": {
           "arrowcolor": "#f2f5fa",
           "arrowhead": 0,
           "arrowwidth": 1
          },
          "geo": {
           "bgcolor": "rgb(17,17,17)",
           "landcolor": "rgb(17,17,17)",
           "subunitcolor": "#506784",
           "showland": true,
           "showlakes": true,
           "lakecolor": "rgb(17,17,17)"
          },
          "title": {
           "x": 0.05
          },
          "updatemenudefaults": {
           "bgcolor": "#506784",
           "borderwidth": 0
          },
          "sliderdefaults": {
           "bgcolor": "#C8D4E3",
           "borderwidth": 1,
           "bordercolor": "rgb(17,17,17)",
           "tickwidth": 0
          },
          "mapbox": {
           "style": "dark"
          }
         }
        },
        "xaxis": {
         "anchor": "y",
         "domain": [
          0.0,
          1.0
         ],
         "title": {
          "text": "sum of num_is_remote"
         }
        },
        "yaxis": {
         "anchor": "x",
         "domain": [
          0.0,
          1.0
         ],
         "title": {
          "text": "location"
         }
        },
        "legend": {
         "title": {
          "text": "is_remote"
         },
         "tracegroupgap": 0
        },
        "margin": {
         "t": 60
        },
        "barmode": "relative"
       },
       "config": {
        "plotlyServerURL": "https://plot.ly"
       }
      },
      "text/html": "<div>                            <div id=\"b65ae79b-9476-478c-8d62-6f61e7c0e215\" class=\"plotly-graph-div\" style=\"height:525px; width:100%;\"></div>            <script type=\"text/javascript\">                require([\"plotly\"], function(Plotly) {                    window.PLOTLYENV=window.PLOTLYENV || {};                                    if (document.getElementById(\"b65ae79b-9476-478c-8d62-6f61e7c0e215\")) {                    Plotly.newPlot(                        \"b65ae79b-9476-478c-8d62-6f61e7c0e215\",                        [{\"alignmentgroup\":\"True\",\"bingroup\":\"y\",\"histfunc\":\"sum\",\"hovertemplate\":\"is_remote=False<br>sum of num_is_remote=%{x}<br>location=%{y}<extra></extra>\",\"legendgroup\":\"False\",\"marker\":{\"color\":\"#636efa\",\"pattern\":{\"shape\":\"\"}},\"name\":\"False\",\"offsetgroup\":\"False\",\"orientation\":\"h\",\"showlegend\":true,\"x\":[1345,304,257,154,116,87,76,76,62],\"xaxis\":\"x\",\"y\":[\"Kuala Lumpur\",\"Petaling Jaya\",\"Selangor\",\"Penang_mainland\",\"Bayan Lepas\",\"Cyberjaya\",\"George Town\",\"Shah Alam/Subang\",\"Johor Bahru\"],\"yaxis\":\"y\",\"type\":\"histogram\"},{\"alignmentgroup\":\"True\",\"bingroup\":\"y\",\"histfunc\":\"sum\",\"hovertemplate\":\"is_remote=True<br>sum of num_is_remote=%{x}<br>location=%{y}<extra></extra>\",\"legendgroup\":\"True\",\"marker\":{\"color\":\"#EF553B\",\"pattern\":{\"shape\":\"\"}},\"name\":\"True\",\"offsetgroup\":\"True\",\"orientation\":\"h\",\"showlegend\":true,\"x\":[98],\"xaxis\":\"x\",\"y\":[\"Kuala Lumpur\"],\"yaxis\":\"y\",\"type\":\"histogram\"}],                        {\"template\":{\"data\":{\"histogram2dcontour\":[{\"type\":\"histogram2dcontour\",\"colorbar\":{\"outlinewidth\":0,\"ticks\":\"\"},\"colorscale\":[[0.0,\"#0d0887\"],[0.1111111111111111,\"#46039f\"],[0.2222222222222222,\"#7201a8\"],[0.3333333333333333,\"#9c179e\"],[0.4444444444444444,\"#bd3786\"],[0.5555555555555556,\"#d8576b\"],[0.6666666666666666,\"#ed7953\"],[0.7777777777777778,\"#fb9f3a\"],[0.8888888888888888,\"#fdca26\"],[1.0,\"#f0f921\"]]}],\"choropleth\":[{\"type\":\"choropleth\",\"colorbar\":{\"outlinewidth\":0,\"ticks\":\"\"}}],\"histogram2d\":[{\"type\":\"histogram2d\",\"colorbar\":{\"outlinewidth\":0,\"ticks\":\"\"},\"colorscale\":[[0.0,\"#0d0887\"],[0.1111111111111111,\"#46039f\"],[0.2222222222222222,\"#7201a8\"],[0.3333333333333333,\"#9c179e\"],[0.4444444444444444,\"#bd3786\"],[0.5555555555555556,\"#d8576b\"],[0.6666666666666666,\"#ed7953\"],[0.7777777777777778,\"#fb9f3a\"],[0.8888888888888888,\"#fdca26\"],[1.0,\"#f0f921\"]]}],\"heatmap\":[{\"type\":\"heatmap\",\"colorbar\":{\"outlinewidth\":0,\"ticks\":\"\"},\"colorscale\":[[0.0,\"#0d0887\"],[0.1111111111111111,\"#46039f\"],[0.2222222222222222,\"#7201a8\"],[0.3333333333333333,\"#9c179e\"],[0.4444444444444444,\"#bd3786\"],[0.5555555555555556,\"#d8576b\"],[0.6666666666666666,\"#ed7953\"],[0.7777777777777778,\"#fb9f3a\"],[0.8888888888888888,\"#fdca26\"],[1.0,\"#f0f921\"]]}],\"heatmapgl\":[{\"type\":\"heatmapgl\",\"colorbar\":{\"outlinewidth\":0,\"ticks\":\"\"},\"colorscale\":[[0.0,\"#0d0887\"],[0.1111111111111111,\"#46039f\"],[0.2222222222222222,\"#7201a8\"],[0.3333333333333333,\"#9c179e\"],[0.4444444444444444,\"#bd3786\"],[0.5555555555555556,\"#d8576b\"],[0.6666666666666666,\"#ed7953\"],[0.7777777777777778,\"#fb9f3a\"],[0.8888888888888888,\"#fdca26\"],[1.0,\"#f0f921\"]]}],\"contourcarpet\":[{\"type\":\"contourcarpet\",\"colorbar\":{\"outlinewidth\":0,\"ticks\":\"\"}}],\"contour\":[{\"type\":\"contour\",\"colorbar\":{\"outlinewidth\":0,\"ticks\":\"\"},\"colorscale\":[[0.0,\"#0d0887\"],[0.1111111111111111,\"#46039f\"],[0.2222222222222222,\"#7201a8\"],[0.3333333333333333,\"#9c179e\"],[0.4444444444444444,\"#bd3786\"],[0.5555555555555556,\"#d8576b\"],[0.6666666666666666,\"#ed7953\"],[0.7777777777777778,\"#fb9f3a\"],[0.8888888888888888,\"#fdca26\"],[1.0,\"#f0f921\"]]}],\"surface\":[{\"type\":\"surface\",\"colorbar\":{\"outlinewidth\":0,\"ticks\":\"\"},\"colorscale\":[[0.0,\"#0d0887\"],[0.1111111111111111,\"#46039f\"],[0.2222222222222222,\"#7201a8\"],[0.3333333333333333,\"#9c179e\"],[0.4444444444444444,\"#bd3786\"],[0.5555555555555556,\"#d8576b\"],[0.6666666666666666,\"#ed7953\"],[0.7777777777777778,\"#fb9f3a\"],[0.8888888888888888,\"#fdca26\"],[1.0,\"#f0f921\"]]}],\"mesh3d\":[{\"type\":\"mesh3d\",\"colorbar\":{\"outlinewidth\":0,\"ticks\":\"\"}}],\"scatter\":[{\"marker\":{\"line\":{\"color\":\"#283442\"}},\"type\":\"scatter\"}],\"parcoords\":[{\"type\":\"parcoords\",\"line\":{\"colorbar\":{\"outlinewidth\":0,\"ticks\":\"\"}}}],\"scatterpolargl\":[{\"type\":\"scatterpolargl\",\"marker\":{\"colorbar\":{\"outlinewidth\":0,\"ticks\":\"\"}}}],\"bar\":[{\"error_x\":{\"color\":\"#f2f5fa\"},\"error_y\":{\"color\":\"#f2f5fa\"},\"marker\":{\"line\":{\"color\":\"rgb(17,17,17)\",\"width\":0.5},\"pattern\":{\"fillmode\":\"overlay\",\"size\":10,\"solidity\":0.2}},\"type\":\"bar\"}],\"scattergeo\":[{\"type\":\"scattergeo\",\"marker\":{\"colorbar\":{\"outlinewidth\":0,\"ticks\":\"\"}}}],\"scatterpolar\":[{\"type\":\"scatterpolar\",\"marker\":{\"colorbar\":{\"outlinewidth\":0,\"ticks\":\"\"}}}],\"histogram\":[{\"marker\":{\"pattern\":{\"fillmode\":\"overlay\",\"size\":10,\"solidity\":0.2}},\"type\":\"histogram\"}],\"scattergl\":[{\"marker\":{\"line\":{\"color\":\"#283442\"}},\"type\":\"scattergl\"}],\"scatter3d\":[{\"type\":\"scatter3d\",\"line\":{\"colorbar\":{\"outlinewidth\":0,\"ticks\":\"\"}},\"marker\":{\"colorbar\":{\"outlinewidth\":0,\"ticks\":\"\"}}}],\"scattermapbox\":[{\"type\":\"scattermapbox\",\"marker\":{\"colorbar\":{\"outlinewidth\":0,\"ticks\":\"\"}}}],\"scatterternary\":[{\"type\":\"scatterternary\",\"marker\":{\"colorbar\":{\"outlinewidth\":0,\"ticks\":\"\"}}}],\"scattercarpet\":[{\"type\":\"scattercarpet\",\"marker\":{\"colorbar\":{\"outlinewidth\":0,\"ticks\":\"\"}}}],\"carpet\":[{\"aaxis\":{\"endlinecolor\":\"#A2B1C6\",\"gridcolor\":\"#506784\",\"linecolor\":\"#506784\",\"minorgridcolor\":\"#506784\",\"startlinecolor\":\"#A2B1C6\"},\"baxis\":{\"endlinecolor\":\"#A2B1C6\",\"gridcolor\":\"#506784\",\"linecolor\":\"#506784\",\"minorgridcolor\":\"#506784\",\"startlinecolor\":\"#A2B1C6\"},\"type\":\"carpet\"}],\"table\":[{\"cells\":{\"fill\":{\"color\":\"#506784\"},\"line\":{\"color\":\"rgb(17,17,17)\"}},\"header\":{\"fill\":{\"color\":\"#2a3f5f\"},\"line\":{\"color\":\"rgb(17,17,17)\"}},\"type\":\"table\"}],\"barpolar\":[{\"marker\":{\"line\":{\"color\":\"rgb(17,17,17)\",\"width\":0.5},\"pattern\":{\"fillmode\":\"overlay\",\"size\":10,\"solidity\":0.2}},\"type\":\"barpolar\"}],\"pie\":[{\"automargin\":true,\"type\":\"pie\"}]},\"layout\":{\"autotypenumbers\":\"strict\",\"colorway\":[\"#636efa\",\"#EF553B\",\"#00cc96\",\"#ab63fa\",\"#FFA15A\",\"#19d3f3\",\"#FF6692\",\"#B6E880\",\"#FF97FF\",\"#FECB52\"],\"font\":{\"color\":\"#f2f5fa\"},\"hovermode\":\"closest\",\"hoverlabel\":{\"align\":\"left\"},\"paper_bgcolor\":\"rgb(17,17,17)\",\"plot_bgcolor\":\"rgb(17,17,17)\",\"polar\":{\"bgcolor\":\"rgb(17,17,17)\",\"angularaxis\":{\"gridcolor\":\"#506784\",\"linecolor\":\"#506784\",\"ticks\":\"\"},\"radialaxis\":{\"gridcolor\":\"#506784\",\"linecolor\":\"#506784\",\"ticks\":\"\"}},\"ternary\":{\"bgcolor\":\"rgb(17,17,17)\",\"aaxis\":{\"gridcolor\":\"#506784\",\"linecolor\":\"#506784\",\"ticks\":\"\"},\"baxis\":{\"gridcolor\":\"#506784\",\"linecolor\":\"#506784\",\"ticks\":\"\"},\"caxis\":{\"gridcolor\":\"#506784\",\"linecolor\":\"#506784\",\"ticks\":\"\"}},\"coloraxis\":{\"colorbar\":{\"outlinewidth\":0,\"ticks\":\"\"}},\"colorscale\":{\"sequential\":[[0.0,\"#0d0887\"],[0.1111111111111111,\"#46039f\"],[0.2222222222222222,\"#7201a8\"],[0.3333333333333333,\"#9c179e\"],[0.4444444444444444,\"#bd3786\"],[0.5555555555555556,\"#d8576b\"],[0.6666666666666666,\"#ed7953\"],[0.7777777777777778,\"#fb9f3a\"],[0.8888888888888888,\"#fdca26\"],[1.0,\"#f0f921\"]],\"sequentialminus\":[[0.0,\"#0d0887\"],[0.1111111111111111,\"#46039f\"],[0.2222222222222222,\"#7201a8\"],[0.3333333333333333,\"#9c179e\"],[0.4444444444444444,\"#bd3786\"],[0.5555555555555556,\"#d8576b\"],[0.6666666666666666,\"#ed7953\"],[0.7777777777777778,\"#fb9f3a\"],[0.8888888888888888,\"#fdca26\"],[1.0,\"#f0f921\"]],\"diverging\":[[0,\"#8e0152\"],[0.1,\"#c51b7d\"],[0.2,\"#de77ae\"],[0.3,\"#f1b6da\"],[0.4,\"#fde0ef\"],[0.5,\"#f7f7f7\"],[0.6,\"#e6f5d0\"],[0.7,\"#b8e186\"],[0.8,\"#7fbc41\"],[0.9,\"#4d9221\"],[1,\"#276419\"]]},\"xaxis\":{\"gridcolor\":\"#283442\",\"linecolor\":\"#506784\",\"ticks\":\"\",\"title\":{\"standoff\":15},\"zerolinecolor\":\"#283442\",\"automargin\":true,\"zerolinewidth\":2},\"yaxis\":{\"gridcolor\":\"#283442\",\"linecolor\":\"#506784\",\"ticks\":\"\",\"title\":{\"standoff\":15},\"zerolinecolor\":\"#283442\",\"automargin\":true,\"zerolinewidth\":2},\"scene\":{\"xaxis\":{\"backgroundcolor\":\"rgb(17,17,17)\",\"gridcolor\":\"#506784\",\"linecolor\":\"#506784\",\"showbackground\":true,\"ticks\":\"\",\"zerolinecolor\":\"#C8D4E3\",\"gridwidth\":2},\"yaxis\":{\"backgroundcolor\":\"rgb(17,17,17)\",\"gridcolor\":\"#506784\",\"linecolor\":\"#506784\",\"showbackground\":true,\"ticks\":\"\",\"zerolinecolor\":\"#C8D4E3\",\"gridwidth\":2},\"zaxis\":{\"backgroundcolor\":\"rgb(17,17,17)\",\"gridcolor\":\"#506784\",\"linecolor\":\"#506784\",\"showbackground\":true,\"ticks\":\"\",\"zerolinecolor\":\"#C8D4E3\",\"gridwidth\":2}},\"shapedefaults\":{\"line\":{\"color\":\"#f2f5fa\"}},\"annotationdefaults\":{\"arrowcolor\":\"#f2f5fa\",\"arrowhead\":0,\"arrowwidth\":1},\"geo\":{\"bgcolor\":\"rgb(17,17,17)\",\"landcolor\":\"rgb(17,17,17)\",\"subunitcolor\":\"#506784\",\"showland\":true,\"showlakes\":true,\"lakecolor\":\"rgb(17,17,17)\"},\"title\":{\"x\":0.05},\"updatemenudefaults\":{\"bgcolor\":\"#506784\",\"borderwidth\":0},\"sliderdefaults\":{\"bgcolor\":\"#C8D4E3\",\"borderwidth\":1,\"bordercolor\":\"rgb(17,17,17)\",\"tickwidth\":0},\"mapbox\":{\"style\":\"dark\"}}},\"xaxis\":{\"anchor\":\"y\",\"domain\":[0.0,1.0],\"title\":{\"text\":\"sum of num_is_remote\"}},\"yaxis\":{\"anchor\":\"x\",\"domain\":[0.0,1.0],\"title\":{\"text\":\"location\"}},\"legend\":{\"title\":{\"text\":\"is_remote\"},\"tracegroupgap\":0},\"margin\":{\"t\":60},\"barmode\":\"relative\"},                        {\"responsive\": true}                    ).then(function(){\n                            \nvar gd = document.getElementById('b65ae79b-9476-478c-8d62-6f61e7c0e215');\nvar x = new MutationObserver(function (mutations, observer) {{\n        var display = window.getComputedStyle(gd).display;\n        if (!display || display === 'none') {{\n            console.log([gd, 'removed!']);\n            Plotly.purge(gd);\n            observer.disconnect();\n        }}\n}});\n\n// Listen for the removal of the full notebook cells\nvar notebookContainer = gd.closest('#notebook-container');\nif (notebookContainer) {{\n    x.observe(notebookContainer, {childList: true});\n}}\n\n// Listen for the clearing of the current output cell\nvar outputEl = gd.closest('.output');\nif (outputEl) {{\n    x.observe(outputEl, {childList: true});\n}}\n\n                        })                };                });            </script>        </div>"
     },
     "metadata": {},
     "output_type": "display_data"
    }
   ],
   "source": [
    "import plotly.express as px\n",
    "\n",
    "# Create a histogram for each value of the 'location' column\n",
    "\n",
    "df = remote_job_df.head(10)\n",
    "fig = px.histogram(df, y=\"location\", x='num_is_remote',color=\"is_remote\", orientation='h')\n",
    "fig.show()\n"
   ],
   "metadata": {
    "collapsed": false
   }
  },
  {
   "cell_type": "code",
   "execution_count": 139,
   "outputs": [
    {
     "data": {
      "application/vnd.plotly.v1+json": {
       "data": [
        {
         "alignmentgroup": "True",
         "bingroup": "y",
         "histfunc": "sum",
         "hovertemplate": "is_remote=False<br>sum of num_is_remote=%{x}<br>location=%{y}<extra></extra>",
         "legendgroup": "False",
         "marker": {
          "color": "#636efa",
          "pattern": {
           "shape": ""
          }
         },
         "name": "False",
         "offsetgroup": "False",
         "orientation": "h",
         "showlegend": true,
         "x": [
          2,
          2,
          2,
          2,
          2,
          2,
          2,
          2
         ],
         "xaxis": "x",
         "y": [
          "Kuala Lumpur, Petaling Jaya",
          "Kuala Lumpur, Hong Kong",
          "Kuala Lumpur, Cheras",
          "Kuala Lumpur, Bayan Lepas",
          "Kota Tinggi",
          "Klang/Port Klang, Kuala Lumpur",
          "Jurong West",
          "Kuala Lumpur, Manila City"
         ],
         "yaxis": "y",
         "type": "histogram"
        },
        {
         "alignmentgroup": "True",
         "bingroup": "y",
         "histfunc": "sum",
         "hovertemplate": "is_remote=True<br>sum of num_is_remote=%{x}<br>location=%{y}<extra></extra>",
         "legendgroup": "True",
         "marker": {
          "color": "#EF553B",
          "pattern": {
           "shape": ""
          }
         },
         "name": "True",
         "offsetgroup": "True",
         "orientation": "h",
         "showlegend": true,
         "x": [
          2,
          2
         ],
         "xaxis": "x",
         "y": [
          "Kajang/Bangi/Serdang",
          "Johor, Selangor"
         ],
         "yaxis": "y",
         "type": "histogram"
        }
       ],
       "layout": {
        "template": {
         "data": {
          "histogram2dcontour": [
           {
            "type": "histogram2dcontour",
            "colorbar": {
             "outlinewidth": 0,
             "ticks": ""
            },
            "colorscale": [
             [
              0.0,
              "#0d0887"
             ],
             [
              0.1111111111111111,
              "#46039f"
             ],
             [
              0.2222222222222222,
              "#7201a8"
             ],
             [
              0.3333333333333333,
              "#9c179e"
             ],
             [
              0.4444444444444444,
              "#bd3786"
             ],
             [
              0.5555555555555556,
              "#d8576b"
             ],
             [
              0.6666666666666666,
              "#ed7953"
             ],
             [
              0.7777777777777778,
              "#fb9f3a"
             ],
             [
              0.8888888888888888,
              "#fdca26"
             ],
             [
              1.0,
              "#f0f921"
             ]
            ]
           }
          ],
          "choropleth": [
           {
            "type": "choropleth",
            "colorbar": {
             "outlinewidth": 0,
             "ticks": ""
            }
           }
          ],
          "histogram2d": [
           {
            "type": "histogram2d",
            "colorbar": {
             "outlinewidth": 0,
             "ticks": ""
            },
            "colorscale": [
             [
              0.0,
              "#0d0887"
             ],
             [
              0.1111111111111111,
              "#46039f"
             ],
             [
              0.2222222222222222,
              "#7201a8"
             ],
             [
              0.3333333333333333,
              "#9c179e"
             ],
             [
              0.4444444444444444,
              "#bd3786"
             ],
             [
              0.5555555555555556,
              "#d8576b"
             ],
             [
              0.6666666666666666,
              "#ed7953"
             ],
             [
              0.7777777777777778,
              "#fb9f3a"
             ],
             [
              0.8888888888888888,
              "#fdca26"
             ],
             [
              1.0,
              "#f0f921"
             ]
            ]
           }
          ],
          "heatmap": [
           {
            "type": "heatmap",
            "colorbar": {
             "outlinewidth": 0,
             "ticks": ""
            },
            "colorscale": [
             [
              0.0,
              "#0d0887"
             ],
             [
              0.1111111111111111,
              "#46039f"
             ],
             [
              0.2222222222222222,
              "#7201a8"
             ],
             [
              0.3333333333333333,
              "#9c179e"
             ],
             [
              0.4444444444444444,
              "#bd3786"
             ],
             [
              0.5555555555555556,
              "#d8576b"
             ],
             [
              0.6666666666666666,
              "#ed7953"
             ],
             [
              0.7777777777777778,
              "#fb9f3a"
             ],
             [
              0.8888888888888888,
              "#fdca26"
             ],
             [
              1.0,
              "#f0f921"
             ]
            ]
           }
          ],
          "heatmapgl": [
           {
            "type": "heatmapgl",
            "colorbar": {
             "outlinewidth": 0,
             "ticks": ""
            },
            "colorscale": [
             [
              0.0,
              "#0d0887"
             ],
             [
              0.1111111111111111,
              "#46039f"
             ],
             [
              0.2222222222222222,
              "#7201a8"
             ],
             [
              0.3333333333333333,
              "#9c179e"
             ],
             [
              0.4444444444444444,
              "#bd3786"
             ],
             [
              0.5555555555555556,
              "#d8576b"
             ],
             [
              0.6666666666666666,
              "#ed7953"
             ],
             [
              0.7777777777777778,
              "#fb9f3a"
             ],
             [
              0.8888888888888888,
              "#fdca26"
             ],
             [
              1.0,
              "#f0f921"
             ]
            ]
           }
          ],
          "contourcarpet": [
           {
            "type": "contourcarpet",
            "colorbar": {
             "outlinewidth": 0,
             "ticks": ""
            }
           }
          ],
          "contour": [
           {
            "type": "contour",
            "colorbar": {
             "outlinewidth": 0,
             "ticks": ""
            },
            "colorscale": [
             [
              0.0,
              "#0d0887"
             ],
             [
              0.1111111111111111,
              "#46039f"
             ],
             [
              0.2222222222222222,
              "#7201a8"
             ],
             [
              0.3333333333333333,
              "#9c179e"
             ],
             [
              0.4444444444444444,
              "#bd3786"
             ],
             [
              0.5555555555555556,
              "#d8576b"
             ],
             [
              0.6666666666666666,
              "#ed7953"
             ],
             [
              0.7777777777777778,
              "#fb9f3a"
             ],
             [
              0.8888888888888888,
              "#fdca26"
             ],
             [
              1.0,
              "#f0f921"
             ]
            ]
           }
          ],
          "surface": [
           {
            "type": "surface",
            "colorbar": {
             "outlinewidth": 0,
             "ticks": ""
            },
            "colorscale": [
             [
              0.0,
              "#0d0887"
             ],
             [
              0.1111111111111111,
              "#46039f"
             ],
             [
              0.2222222222222222,
              "#7201a8"
             ],
             [
              0.3333333333333333,
              "#9c179e"
             ],
             [
              0.4444444444444444,
              "#bd3786"
             ],
             [
              0.5555555555555556,
              "#d8576b"
             ],
             [
              0.6666666666666666,
              "#ed7953"
             ],
             [
              0.7777777777777778,
              "#fb9f3a"
             ],
             [
              0.8888888888888888,
              "#fdca26"
             ],
             [
              1.0,
              "#f0f921"
             ]
            ]
           }
          ],
          "mesh3d": [
           {
            "type": "mesh3d",
            "colorbar": {
             "outlinewidth": 0,
             "ticks": ""
            }
           }
          ],
          "scatter": [
           {
            "marker": {
             "line": {
              "color": "#283442"
             }
            },
            "type": "scatter"
           }
          ],
          "parcoords": [
           {
            "type": "parcoords",
            "line": {
             "colorbar": {
              "outlinewidth": 0,
              "ticks": ""
             }
            }
           }
          ],
          "scatterpolargl": [
           {
            "type": "scatterpolargl",
            "marker": {
             "colorbar": {
              "outlinewidth": 0,
              "ticks": ""
             }
            }
           }
          ],
          "bar": [
           {
            "error_x": {
             "color": "#f2f5fa"
            },
            "error_y": {
             "color": "#f2f5fa"
            },
            "marker": {
             "line": {
              "color": "rgb(17,17,17)",
              "width": 0.5
             },
             "pattern": {
              "fillmode": "overlay",
              "size": 10,
              "solidity": 0.2
             }
            },
            "type": "bar"
           }
          ],
          "scattergeo": [
           {
            "type": "scattergeo",
            "marker": {
             "colorbar": {
              "outlinewidth": 0,
              "ticks": ""
             }
            }
           }
          ],
          "scatterpolar": [
           {
            "type": "scatterpolar",
            "marker": {
             "colorbar": {
              "outlinewidth": 0,
              "ticks": ""
             }
            }
           }
          ],
          "histogram": [
           {
            "marker": {
             "pattern": {
              "fillmode": "overlay",
              "size": 10,
              "solidity": 0.2
             }
            },
            "type": "histogram"
           }
          ],
          "scattergl": [
           {
            "marker": {
             "line": {
              "color": "#283442"
             }
            },
            "type": "scattergl"
           }
          ],
          "scatter3d": [
           {
            "type": "scatter3d",
            "line": {
             "colorbar": {
              "outlinewidth": 0,
              "ticks": ""
             }
            },
            "marker": {
             "colorbar": {
              "outlinewidth": 0,
              "ticks": ""
             }
            }
           }
          ],
          "scattermapbox": [
           {
            "type": "scattermapbox",
            "marker": {
             "colorbar": {
              "outlinewidth": 0,
              "ticks": ""
             }
            }
           }
          ],
          "scatterternary": [
           {
            "type": "scatterternary",
            "marker": {
             "colorbar": {
              "outlinewidth": 0,
              "ticks": ""
             }
            }
           }
          ],
          "scattercarpet": [
           {
            "type": "scattercarpet",
            "marker": {
             "colorbar": {
              "outlinewidth": 0,
              "ticks": ""
             }
            }
           }
          ],
          "carpet": [
           {
            "aaxis": {
             "endlinecolor": "#A2B1C6",
             "gridcolor": "#506784",
             "linecolor": "#506784",
             "minorgridcolor": "#506784",
             "startlinecolor": "#A2B1C6"
            },
            "baxis": {
             "endlinecolor": "#A2B1C6",
             "gridcolor": "#506784",
             "linecolor": "#506784",
             "minorgridcolor": "#506784",
             "startlinecolor": "#A2B1C6"
            },
            "type": "carpet"
           }
          ],
          "table": [
           {
            "cells": {
             "fill": {
              "color": "#506784"
             },
             "line": {
              "color": "rgb(17,17,17)"
             }
            },
            "header": {
             "fill": {
              "color": "#2a3f5f"
             },
             "line": {
              "color": "rgb(17,17,17)"
             }
            },
            "type": "table"
           }
          ],
          "barpolar": [
           {
            "marker": {
             "line": {
              "color": "rgb(17,17,17)",
              "width": 0.5
             },
             "pattern": {
              "fillmode": "overlay",
              "size": 10,
              "solidity": 0.2
             }
            },
            "type": "barpolar"
           }
          ],
          "pie": [
           {
            "automargin": true,
            "type": "pie"
           }
          ]
         },
         "layout": {
          "autotypenumbers": "strict",
          "colorway": [
           "#636efa",
           "#EF553B",
           "#00cc96",
           "#ab63fa",
           "#FFA15A",
           "#19d3f3",
           "#FF6692",
           "#B6E880",
           "#FF97FF",
           "#FECB52"
          ],
          "font": {
           "color": "#f2f5fa"
          },
          "hovermode": "closest",
          "hoverlabel": {
           "align": "left"
          },
          "paper_bgcolor": "rgb(17,17,17)",
          "plot_bgcolor": "rgb(17,17,17)",
          "polar": {
           "bgcolor": "rgb(17,17,17)",
           "angularaxis": {
            "gridcolor": "#506784",
            "linecolor": "#506784",
            "ticks": ""
           },
           "radialaxis": {
            "gridcolor": "#506784",
            "linecolor": "#506784",
            "ticks": ""
           }
          },
          "ternary": {
           "bgcolor": "rgb(17,17,17)",
           "aaxis": {
            "gridcolor": "#506784",
            "linecolor": "#506784",
            "ticks": ""
           },
           "baxis": {
            "gridcolor": "#506784",
            "linecolor": "#506784",
            "ticks": ""
           },
           "caxis": {
            "gridcolor": "#506784",
            "linecolor": "#506784",
            "ticks": ""
           }
          },
          "coloraxis": {
           "colorbar": {
            "outlinewidth": 0,
            "ticks": ""
           }
          },
          "colorscale": {
           "sequential": [
            [
             0.0,
             "#0d0887"
            ],
            [
             0.1111111111111111,
             "#46039f"
            ],
            [
             0.2222222222222222,
             "#7201a8"
            ],
            [
             0.3333333333333333,
             "#9c179e"
            ],
            [
             0.4444444444444444,
             "#bd3786"
            ],
            [
             0.5555555555555556,
             "#d8576b"
            ],
            [
             0.6666666666666666,
             "#ed7953"
            ],
            [
             0.7777777777777778,
             "#fb9f3a"
            ],
            [
             0.8888888888888888,
             "#fdca26"
            ],
            [
             1.0,
             "#f0f921"
            ]
           ],
           "sequentialminus": [
            [
             0.0,
             "#0d0887"
            ],
            [
             0.1111111111111111,
             "#46039f"
            ],
            [
             0.2222222222222222,
             "#7201a8"
            ],
            [
             0.3333333333333333,
             "#9c179e"
            ],
            [
             0.4444444444444444,
             "#bd3786"
            ],
            [
             0.5555555555555556,
             "#d8576b"
            ],
            [
             0.6666666666666666,
             "#ed7953"
            ],
            [
             0.7777777777777778,
             "#fb9f3a"
            ],
            [
             0.8888888888888888,
             "#fdca26"
            ],
            [
             1.0,
             "#f0f921"
            ]
           ],
           "diverging": [
            [
             0,
             "#8e0152"
            ],
            [
             0.1,
             "#c51b7d"
            ],
            [
             0.2,
             "#de77ae"
            ],
            [
             0.3,
             "#f1b6da"
            ],
            [
             0.4,
             "#fde0ef"
            ],
            [
             0.5,
             "#f7f7f7"
            ],
            [
             0.6,
             "#e6f5d0"
            ],
            [
             0.7,
             "#b8e186"
            ],
            [
             0.8,
             "#7fbc41"
            ],
            [
             0.9,
             "#4d9221"
            ],
            [
             1,
             "#276419"
            ]
           ]
          },
          "xaxis": {
           "gridcolor": "#283442",
           "linecolor": "#506784",
           "ticks": "",
           "title": {
            "standoff": 15
           },
           "zerolinecolor": "#283442",
           "automargin": true,
           "zerolinewidth": 2
          },
          "yaxis": {
           "gridcolor": "#283442",
           "linecolor": "#506784",
           "ticks": "",
           "title": {
            "standoff": 15
           },
           "zerolinecolor": "#283442",
           "automargin": true,
           "zerolinewidth": 2
          },
          "scene": {
           "xaxis": {
            "backgroundcolor": "rgb(17,17,17)",
            "gridcolor": "#506784",
            "linecolor": "#506784",
            "showbackground": true,
            "ticks": "",
            "zerolinecolor": "#C8D4E3",
            "gridwidth": 2
           },
           "yaxis": {
            "backgroundcolor": "rgb(17,17,17)",
            "gridcolor": "#506784",
            "linecolor": "#506784",
            "showbackground": true,
            "ticks": "",
            "zerolinecolor": "#C8D4E3",
            "gridwidth": 2
           },
           "zaxis": {
            "backgroundcolor": "rgb(17,17,17)",
            "gridcolor": "#506784",
            "linecolor": "#506784",
            "showbackground": true,
            "ticks": "",
            "zerolinecolor": "#C8D4E3",
            "gridwidth": 2
           }
          },
          "shapedefaults": {
           "line": {
            "color": "#f2f5fa"
           }
          },
          "annotationdefaults": {
           "arrowcolor": "#f2f5fa",
           "arrowhead": 0,
           "arrowwidth": 1
          },
          "geo": {
           "bgcolor": "rgb(17,17,17)",
           "landcolor": "rgb(17,17,17)",
           "subunitcolor": "#506784",
           "showland": true,
           "showlakes": true,
           "lakecolor": "rgb(17,17,17)"
          },
          "title": {
           "x": 0.05
          },
          "updatemenudefaults": {
           "bgcolor": "#506784",
           "borderwidth": 0
          },
          "sliderdefaults": {
           "bgcolor": "#C8D4E3",
           "borderwidth": 1,
           "bordercolor": "rgb(17,17,17)",
           "tickwidth": 0
          },
          "mapbox": {
           "style": "dark"
          }
         }
        },
        "xaxis": {
         "anchor": "y",
         "domain": [
          0.0,
          1.0
         ],
         "title": {
          "text": "sum of num_is_remote"
         }
        },
        "yaxis": {
         "anchor": "x",
         "domain": [
          0.0,
          1.0
         ],
         "title": {
          "text": "location"
         }
        },
        "legend": {
         "title": {
          "text": "is_remote"
         },
         "tracegroupgap": 0
        },
        "margin": {
         "t": 60
        },
        "barmode": "relative"
       },
       "config": {
        "plotlyServerURL": "https://plot.ly"
       }
      },
      "text/html": "<div>                            <div id=\"02d41127-b41b-4d18-b2fe-2108f5f80de8\" class=\"plotly-graph-div\" style=\"height:525px; width:100%;\"></div>            <script type=\"text/javascript\">                require([\"plotly\"], function(Plotly) {                    window.PLOTLYENV=window.PLOTLYENV || {};                                    if (document.getElementById(\"02d41127-b41b-4d18-b2fe-2108f5f80de8\")) {                    Plotly.newPlot(                        \"02d41127-b41b-4d18-b2fe-2108f5f80de8\",                        [{\"alignmentgroup\":\"True\",\"bingroup\":\"y\",\"histfunc\":\"sum\",\"hovertemplate\":\"is_remote=False<br>sum of num_is_remote=%{x}<br>location=%{y}<extra></extra>\",\"legendgroup\":\"False\",\"marker\":{\"color\":\"#636efa\",\"pattern\":{\"shape\":\"\"}},\"name\":\"False\",\"offsetgroup\":\"False\",\"orientation\":\"h\",\"showlegend\":true,\"x\":[2,2,2,2,2,2,2,2],\"xaxis\":\"x\",\"y\":[\"Kuala Lumpur, Petaling Jaya\",\"Kuala Lumpur, Hong Kong\",\"Kuala Lumpur, Cheras\",\"Kuala Lumpur, Bayan Lepas\",\"Kota Tinggi\",\"Klang/Port Klang, Kuala Lumpur\",\"Jurong West\",\"Kuala Lumpur, Manila City\"],\"yaxis\":\"y\",\"type\":\"histogram\"},{\"alignmentgroup\":\"True\",\"bingroup\":\"y\",\"histfunc\":\"sum\",\"hovertemplate\":\"is_remote=True<br>sum of num_is_remote=%{x}<br>location=%{y}<extra></extra>\",\"legendgroup\":\"True\",\"marker\":{\"color\":\"#EF553B\",\"pattern\":{\"shape\":\"\"}},\"name\":\"True\",\"offsetgroup\":\"True\",\"orientation\":\"h\",\"showlegend\":true,\"x\":[2,2],\"xaxis\":\"x\",\"y\":[\"Kajang/Bangi/Serdang\",\"Johor, Selangor\"],\"yaxis\":\"y\",\"type\":\"histogram\"}],                        {\"template\":{\"data\":{\"histogram2dcontour\":[{\"type\":\"histogram2dcontour\",\"colorbar\":{\"outlinewidth\":0,\"ticks\":\"\"},\"colorscale\":[[0.0,\"#0d0887\"],[0.1111111111111111,\"#46039f\"],[0.2222222222222222,\"#7201a8\"],[0.3333333333333333,\"#9c179e\"],[0.4444444444444444,\"#bd3786\"],[0.5555555555555556,\"#d8576b\"],[0.6666666666666666,\"#ed7953\"],[0.7777777777777778,\"#fb9f3a\"],[0.8888888888888888,\"#fdca26\"],[1.0,\"#f0f921\"]]}],\"choropleth\":[{\"type\":\"choropleth\",\"colorbar\":{\"outlinewidth\":0,\"ticks\":\"\"}}],\"histogram2d\":[{\"type\":\"histogram2d\",\"colorbar\":{\"outlinewidth\":0,\"ticks\":\"\"},\"colorscale\":[[0.0,\"#0d0887\"],[0.1111111111111111,\"#46039f\"],[0.2222222222222222,\"#7201a8\"],[0.3333333333333333,\"#9c179e\"],[0.4444444444444444,\"#bd3786\"],[0.5555555555555556,\"#d8576b\"],[0.6666666666666666,\"#ed7953\"],[0.7777777777777778,\"#fb9f3a\"],[0.8888888888888888,\"#fdca26\"],[1.0,\"#f0f921\"]]}],\"heatmap\":[{\"type\":\"heatmap\",\"colorbar\":{\"outlinewidth\":0,\"ticks\":\"\"},\"colorscale\":[[0.0,\"#0d0887\"],[0.1111111111111111,\"#46039f\"],[0.2222222222222222,\"#7201a8\"],[0.3333333333333333,\"#9c179e\"],[0.4444444444444444,\"#bd3786\"],[0.5555555555555556,\"#d8576b\"],[0.6666666666666666,\"#ed7953\"],[0.7777777777777778,\"#fb9f3a\"],[0.8888888888888888,\"#fdca26\"],[1.0,\"#f0f921\"]]}],\"heatmapgl\":[{\"type\":\"heatmapgl\",\"colorbar\":{\"outlinewidth\":0,\"ticks\":\"\"},\"colorscale\":[[0.0,\"#0d0887\"],[0.1111111111111111,\"#46039f\"],[0.2222222222222222,\"#7201a8\"],[0.3333333333333333,\"#9c179e\"],[0.4444444444444444,\"#bd3786\"],[0.5555555555555556,\"#d8576b\"],[0.6666666666666666,\"#ed7953\"],[0.7777777777777778,\"#fb9f3a\"],[0.8888888888888888,\"#fdca26\"],[1.0,\"#f0f921\"]]}],\"contourcarpet\":[{\"type\":\"contourcarpet\",\"colorbar\":{\"outlinewidth\":0,\"ticks\":\"\"}}],\"contour\":[{\"type\":\"contour\",\"colorbar\":{\"outlinewidth\":0,\"ticks\":\"\"},\"colorscale\":[[0.0,\"#0d0887\"],[0.1111111111111111,\"#46039f\"],[0.2222222222222222,\"#7201a8\"],[0.3333333333333333,\"#9c179e\"],[0.4444444444444444,\"#bd3786\"],[0.5555555555555556,\"#d8576b\"],[0.6666666666666666,\"#ed7953\"],[0.7777777777777778,\"#fb9f3a\"],[0.8888888888888888,\"#fdca26\"],[1.0,\"#f0f921\"]]}],\"surface\":[{\"type\":\"surface\",\"colorbar\":{\"outlinewidth\":0,\"ticks\":\"\"},\"colorscale\":[[0.0,\"#0d0887\"],[0.1111111111111111,\"#46039f\"],[0.2222222222222222,\"#7201a8\"],[0.3333333333333333,\"#9c179e\"],[0.4444444444444444,\"#bd3786\"],[0.5555555555555556,\"#d8576b\"],[0.6666666666666666,\"#ed7953\"],[0.7777777777777778,\"#fb9f3a\"],[0.8888888888888888,\"#fdca26\"],[1.0,\"#f0f921\"]]}],\"mesh3d\":[{\"type\":\"mesh3d\",\"colorbar\":{\"outlinewidth\":0,\"ticks\":\"\"}}],\"scatter\":[{\"marker\":{\"line\":{\"color\":\"#283442\"}},\"type\":\"scatter\"}],\"parcoords\":[{\"type\":\"parcoords\",\"line\":{\"colorbar\":{\"outlinewidth\":0,\"ticks\":\"\"}}}],\"scatterpolargl\":[{\"type\":\"scatterpolargl\",\"marker\":{\"colorbar\":{\"outlinewidth\":0,\"ticks\":\"\"}}}],\"bar\":[{\"error_x\":{\"color\":\"#f2f5fa\"},\"error_y\":{\"color\":\"#f2f5fa\"},\"marker\":{\"line\":{\"color\":\"rgb(17,17,17)\",\"width\":0.5},\"pattern\":{\"fillmode\":\"overlay\",\"size\":10,\"solidity\":0.2}},\"type\":\"bar\"}],\"scattergeo\":[{\"type\":\"scattergeo\",\"marker\":{\"colorbar\":{\"outlinewidth\":0,\"ticks\":\"\"}}}],\"scatterpolar\":[{\"type\":\"scatterpolar\",\"marker\":{\"colorbar\":{\"outlinewidth\":0,\"ticks\":\"\"}}}],\"histogram\":[{\"marker\":{\"pattern\":{\"fillmode\":\"overlay\",\"size\":10,\"solidity\":0.2}},\"type\":\"histogram\"}],\"scattergl\":[{\"marker\":{\"line\":{\"color\":\"#283442\"}},\"type\":\"scattergl\"}],\"scatter3d\":[{\"type\":\"scatter3d\",\"line\":{\"colorbar\":{\"outlinewidth\":0,\"ticks\":\"\"}},\"marker\":{\"colorbar\":{\"outlinewidth\":0,\"ticks\":\"\"}}}],\"scattermapbox\":[{\"type\":\"scattermapbox\",\"marker\":{\"colorbar\":{\"outlinewidth\":0,\"ticks\":\"\"}}}],\"scatterternary\":[{\"type\":\"scatterternary\",\"marker\":{\"colorbar\":{\"outlinewidth\":0,\"ticks\":\"\"}}}],\"scattercarpet\":[{\"type\":\"scattercarpet\",\"marker\":{\"colorbar\":{\"outlinewidth\":0,\"ticks\":\"\"}}}],\"carpet\":[{\"aaxis\":{\"endlinecolor\":\"#A2B1C6\",\"gridcolor\":\"#506784\",\"linecolor\":\"#506784\",\"minorgridcolor\":\"#506784\",\"startlinecolor\":\"#A2B1C6\"},\"baxis\":{\"endlinecolor\":\"#A2B1C6\",\"gridcolor\":\"#506784\",\"linecolor\":\"#506784\",\"minorgridcolor\":\"#506784\",\"startlinecolor\":\"#A2B1C6\"},\"type\":\"carpet\"}],\"table\":[{\"cells\":{\"fill\":{\"color\":\"#506784\"},\"line\":{\"color\":\"rgb(17,17,17)\"}},\"header\":{\"fill\":{\"color\":\"#2a3f5f\"},\"line\":{\"color\":\"rgb(17,17,17)\"}},\"type\":\"table\"}],\"barpolar\":[{\"marker\":{\"line\":{\"color\":\"rgb(17,17,17)\",\"width\":0.5},\"pattern\":{\"fillmode\":\"overlay\",\"size\":10,\"solidity\":0.2}},\"type\":\"barpolar\"}],\"pie\":[{\"automargin\":true,\"type\":\"pie\"}]},\"layout\":{\"autotypenumbers\":\"strict\",\"colorway\":[\"#636efa\",\"#EF553B\",\"#00cc96\",\"#ab63fa\",\"#FFA15A\",\"#19d3f3\",\"#FF6692\",\"#B6E880\",\"#FF97FF\",\"#FECB52\"],\"font\":{\"color\":\"#f2f5fa\"},\"hovermode\":\"closest\",\"hoverlabel\":{\"align\":\"left\"},\"paper_bgcolor\":\"rgb(17,17,17)\",\"plot_bgcolor\":\"rgb(17,17,17)\",\"polar\":{\"bgcolor\":\"rgb(17,17,17)\",\"angularaxis\":{\"gridcolor\":\"#506784\",\"linecolor\":\"#506784\",\"ticks\":\"\"},\"radialaxis\":{\"gridcolor\":\"#506784\",\"linecolor\":\"#506784\",\"ticks\":\"\"}},\"ternary\":{\"bgcolor\":\"rgb(17,17,17)\",\"aaxis\":{\"gridcolor\":\"#506784\",\"linecolor\":\"#506784\",\"ticks\":\"\"},\"baxis\":{\"gridcolor\":\"#506784\",\"linecolor\":\"#506784\",\"ticks\":\"\"},\"caxis\":{\"gridcolor\":\"#506784\",\"linecolor\":\"#506784\",\"ticks\":\"\"}},\"coloraxis\":{\"colorbar\":{\"outlinewidth\":0,\"ticks\":\"\"}},\"colorscale\":{\"sequential\":[[0.0,\"#0d0887\"],[0.1111111111111111,\"#46039f\"],[0.2222222222222222,\"#7201a8\"],[0.3333333333333333,\"#9c179e\"],[0.4444444444444444,\"#bd3786\"],[0.5555555555555556,\"#d8576b\"],[0.6666666666666666,\"#ed7953\"],[0.7777777777777778,\"#fb9f3a\"],[0.8888888888888888,\"#fdca26\"],[1.0,\"#f0f921\"]],\"sequentialminus\":[[0.0,\"#0d0887\"],[0.1111111111111111,\"#46039f\"],[0.2222222222222222,\"#7201a8\"],[0.3333333333333333,\"#9c179e\"],[0.4444444444444444,\"#bd3786\"],[0.5555555555555556,\"#d8576b\"],[0.6666666666666666,\"#ed7953\"],[0.7777777777777778,\"#fb9f3a\"],[0.8888888888888888,\"#fdca26\"],[1.0,\"#f0f921\"]],\"diverging\":[[0,\"#8e0152\"],[0.1,\"#c51b7d\"],[0.2,\"#de77ae\"],[0.3,\"#f1b6da\"],[0.4,\"#fde0ef\"],[0.5,\"#f7f7f7\"],[0.6,\"#e6f5d0\"],[0.7,\"#b8e186\"],[0.8,\"#7fbc41\"],[0.9,\"#4d9221\"],[1,\"#276419\"]]},\"xaxis\":{\"gridcolor\":\"#283442\",\"linecolor\":\"#506784\",\"ticks\":\"\",\"title\":{\"standoff\":15},\"zerolinecolor\":\"#283442\",\"automargin\":true,\"zerolinewidth\":2},\"yaxis\":{\"gridcolor\":\"#283442\",\"linecolor\":\"#506784\",\"ticks\":\"\",\"title\":{\"standoff\":15},\"zerolinecolor\":\"#283442\",\"automargin\":true,\"zerolinewidth\":2},\"scene\":{\"xaxis\":{\"backgroundcolor\":\"rgb(17,17,17)\",\"gridcolor\":\"#506784\",\"linecolor\":\"#506784\",\"showbackground\":true,\"ticks\":\"\",\"zerolinecolor\":\"#C8D4E3\",\"gridwidth\":2},\"yaxis\":{\"backgroundcolor\":\"rgb(17,17,17)\",\"gridcolor\":\"#506784\",\"linecolor\":\"#506784\",\"showbackground\":true,\"ticks\":\"\",\"zerolinecolor\":\"#C8D4E3\",\"gridwidth\":2},\"zaxis\":{\"backgroundcolor\":\"rgb(17,17,17)\",\"gridcolor\":\"#506784\",\"linecolor\":\"#506784\",\"showbackground\":true,\"ticks\":\"\",\"zerolinecolor\":\"#C8D4E3\",\"gridwidth\":2}},\"shapedefaults\":{\"line\":{\"color\":\"#f2f5fa\"}},\"annotationdefaults\":{\"arrowcolor\":\"#f2f5fa\",\"arrowhead\":0,\"arrowwidth\":1},\"geo\":{\"bgcolor\":\"rgb(17,17,17)\",\"landcolor\":\"rgb(17,17,17)\",\"subunitcolor\":\"#506784\",\"showland\":true,\"showlakes\":true,\"lakecolor\":\"rgb(17,17,17)\"},\"title\":{\"x\":0.05},\"updatemenudefaults\":{\"bgcolor\":\"#506784\",\"borderwidth\":0},\"sliderdefaults\":{\"bgcolor\":\"#C8D4E3\",\"borderwidth\":1,\"bordercolor\":\"rgb(17,17,17)\",\"tickwidth\":0},\"mapbox\":{\"style\":\"dark\"}}},\"xaxis\":{\"anchor\":\"y\",\"domain\":[0.0,1.0],\"title\":{\"text\":\"sum of num_is_remote\"}},\"yaxis\":{\"anchor\":\"x\",\"domain\":[0.0,1.0],\"title\":{\"text\":\"location\"}},\"legend\":{\"title\":{\"text\":\"is_remote\"},\"tracegroupgap\":0},\"margin\":{\"t\":60},\"barmode\":\"relative\"},                        {\"responsive\": true}                    ).then(function(){\n                            \nvar gd = document.getElementById('02d41127-b41b-4d18-b2fe-2108f5f80de8');\nvar x = new MutationObserver(function (mutations, observer) {{\n        var display = window.getComputedStyle(gd).display;\n        if (!display || display === 'none') {{\n            console.log([gd, 'removed!']);\n            Plotly.purge(gd);\n            observer.disconnect();\n        }}\n}});\n\n// Listen for the removal of the full notebook cells\nvar notebookContainer = gd.closest('#notebook-container');\nif (notebookContainer) {{\n    x.observe(notebookContainer, {childList: true});\n}}\n\n// Listen for the clearing of the current output cell\nvar outputEl = gd.closest('.output');\nif (outputEl) {{\n    x.observe(outputEl, {childList: true});\n}}\n\n                        })                };                });            </script>        </div>"
     },
     "metadata": {},
     "output_type": "display_data"
    }
   ],
   "source": [
    "df = remote_job_df.tail(10)\n",
    "fig = px.histogram(df, y=\"location\", x='num_is_remote',color=\"is_remote\", orientation='h')\n",
    "fig.show()"
   ],
   "metadata": {
    "collapsed": false
   }
  },
  {
   "cell_type": "code",
   "execution_count": 105,
   "id": "fab45761-eee8-41bb-b0b0-c0f6d9e10e36",
   "metadata": {},
   "outputs": [
    {
     "data": {
      "text/plain": "location                         title                                                                                     company                                             salary  summary                                                                                                                                                                                                                                                                                                                                                                                                                                                                                                                                                                                                                                                                                                                                                                                                                                                                                                                                                                                                                                                                                                                                                                                                                                                                                                                                                                                                                                                                                                                                                                                                                                                                                                                                                                                                                                                                                                                                                                                                                                                                                                                                                                                                                                                                                                                                                                                                                                                                                                                                                                                                                                                                                                                                                                                                                                                                                                                                                                                                                                                                                                                                                                                                                                                                                                                                                                                                                                                                                                                                                                                         job_url                                                                                                                                                                                                                                                    is_remote\nAlor Gajah                       SPC Engineer                                                                              SunPower Malaysia Manufacturing Sdn Bhd (regional)  0.0     Maxeon Solar Technologies is a global leader in solar innovation. Built from 35 years of boundary-pushing solar innovation, Maxeon designs, manufactures, and sells industry-leading SunPower branded solar products. Maxeon is Powering Positive Change every day with a brilliant, passionate and driven team of more than 5,000 people globally.\\nWe push the boundaries, taking solar technology higher, faster, and farther than before.\\nWe hold ourselves to a higher standard, striving for the highest integrity, safety, and quality.\\nWe thrive together as a global team, embracing our diverse backgrounds to make a positive impact on the world.\\nJoin us in POWERING POSITIVE CHANGE™\\nSUMMARY OF ROLE\\nTo drive for Statistical Process Control culture and improvement through SPC initiatives to support cell fab’s goals\\nESSENTIAL DUTIES & RESPONSIBILITIES\\nResponsible to generate overall SPC strategy and methodology\\nSchedule SPC review meetings with respective process engineer and driving for improvement.\\nChair and conduct SPC Management review at defined frequency\\nFacilitate FMEA, Control Plans, OCAPs and 8D review\\nMaintain the SPACE application software and working on updating if required\\nConduct SPC trainings to all employees\\nAttend and support the internal and external audit on SPC\\nRELATED EXPERIENCE & EDUCATIONAL REQUIREMENTS\\nBachelor’s Degree or higher, majoring in statistics, science, physics, electronics or any equivalent course.\\nPreferably with 2-3 years relevant experience in wafer fabrication, PV or electronics manufacturing.\\nExperience in statistical analysis, data analytical, problem solving skills, FMEA, risk assessment.\\nGood communication skills, self-driven individual with ability to interact with all levels of personnel.\\nExperience in SPACE, JMP, Tableau and SQL will be an added advantage.                                                                                                                                                                                                                                                                                                                                                                                                                                                                                                                                                                                                                                                                                                                                                                                                                                                                                                                                                                                                                                                                                                                                                                                                                                                                                                                                                                                                                                                                                                                                                                                                                                                                                         https://www.jobstreet.com.my/en/job/spc-engineer-5200943?jobId=jobstreet-my-job-5200943&sectionRank=856&token=0~2bb00215-7970-4456-ab32-1b62d8754fa5&fr=SRP%20View%20In%20New%20Tab                                                                        False        2\nAlor Setar                       Front-End Web/Email Developer                                                             Gallup                                              0.0     Build marketing campaigns that deliver meaningful data and insights to the world.\\nAs a front-end web developer on our marketing automation team at Gallup, you will be responsible for building complex marketing campaigns that reach millions of people globally every year. You will combine your experience with web and email development and work in a diverse environment of systems including marketing automation and course management. This is a highly collaborative technology team that partners very closely with associates across UX, marketing, consulting and sales. The wide range of projects that you will work on include delivering world insights through reports and newsletters, new product launches and features, and showcasing Gallup’s best client work and world partnerships.   \\nIf bringing ideas and concepts to life online sounds exciting, we may have an opportunity for you. Join us, and help us deliver meaningful data and insights to millions of people around the world.\\nWho we want:\\nDedicated achievers who measure success by the quality of the groundbreaking web solutions they deliver\\nInnovative visionaries who are passionate about collaborating with coworkers on digital pages and emails that will influence millions of lives\\nProactive communicators who can anticipate and mitigate technological obstacles before they occur\\nProblem solvers who use logic and creativity to analyze and resolve glitches and complications\\nWhat you need:\\nA bachelor’s degree or equivalent experience in computer science or a related field\\nAt least three years of experience with CSS, HTML and JavaScript\\nExperience with working with third-party SaaS platforms (e.g., Eloqua, Cvent, Swoogo, Marketo)\\nExperience developing websites, single-page applications and emails\\nExperience working in the entire software development life cycle, including requirements definition, design, development, QA, release and maintenance in an agile/scrum environment\\nWhat we offer:\\nA flexible, casual and hybrid work environment that allows you to work on-site and from home; you will determine with your manager and team what hybrid looks like for you\\nContinuous learning and development opportunities to work with the latest technology\\nThe feel of a creative and innovative startup with the stability and credibility of a well-established brand\\nWorld-class managers who guide and empower associates based on their unique skills and strengths\\nA robust benefits package, including medical, dental and vision insurance options, a 401(k) retirement and savings plan with a company match, and an employee stock ownership program\\nAn on-site cafeteria, fitness center, federal credit union and state-of-the-art child development center, all on a beautiful downtown Omaha campus on the Missouri River\\nGallup is a federal contractor and must comply with President Biden’s Executive Order 14042 concerning COVID-19 vaccinations. As such, all U.S.-based employees must be fully vaccinated. Gallup will consider requests for medical or religious exemptions to the vaccine requirement.\\nGallup is an equal opportunity/affirmative action employer that celebrates, supports and promotes diversity and inclusion. We will consider all qualified applicants without regard to race, color, religion, sex, national origin, disability, protected veteran status, sexual orientation or gender identity, or any other legally protected basis, in accordance with applicable law.\\n-  https://www.jobstreet.com.my/en/job/front-end-web-email-developer-1033970214?jobId=jobstreet-my-job-1033970214&sectionRank=1411&token=0~a3dcb0bd-7d6f-4370-9e97-0b4793c3e92a&fr=SRP%20View%20In%20New%20Tab                                                False        2\n                                 R & D cum QC Executive                                                                    TROPICAL PRODUCE SDN. BHD.                          0.0     RESPONSIBILITIES:-\\nAny documentation related to auditing and maintaining GMP, HACCP, HALAL, MESTI, HEALTH CERTIFICATE, FREE SALE CERTIFICATE system, etc\\nTo initiate research and development efforts to create new products.\\nTo carry out R&D projects such as formulation, sample preparation, and sensory evaluation.\\nTo improve existing product and packaging materials to optomise productivity and cost.\\nCoordinate with relevant departments for production trials.\\nTo conduct product shelf life study.\\nTo involve in experimental data analysis, presentation and report writing.\\nTo check quality of raw materials, packaging materials and in process products and also finished goods products.\\nTo train production team on quality control measures to improve product excellence.\\nTo inspect output samples using industry-appropriate methods, such as comparing to standards, measuring dimensions and examining functionality.\\nDocument Controller.\\nREQUIREMENTS:-\\nCandidate must possess a Degree in Food Science/ Food Technology or any related degree from a recognised university.\\nAt least 2 years of working experience in the food industry is required for this position.\\nRequired languages(s): Bahasa Malaysia and English\\nKnowledge of Food Defence, Food Fraud, FSSC Certified\\nAble to work under pressure, prioritise tasks, multitask, be flexible, have good communication and interpersonal skills, and detail-oriented personality.\\nPERKS & BENEFIT:-\\n5 day week\\nAnnual / hospitalization leave\\nMedical / Dental perks                                                                                                                                                                                                                                                                                                                                                                                                                                                                                                                                                                                                                                                                                                                                                                                                                                                                                                                                                                                                                                                                                                                                                                                                                                                                                                                                                                                                                                                                                                                                                                                                                                                                                                                                                                                                                                                                                                                                                                                                                 https://www.jobstreet.com.my/en/job/r-d-cum-qc-executive-5197750?jobId=jobstreet-my-job-5197750&sectionRank=1031&token=0~563d36a7-a75d-4b23-8212-c25be389094b&fr=SRP%20View%20In%20New%20Tab                                                               False        2\nAlor Setar, Terengganu - Others  Supervisor, Production (Shrimp Farming) - Based at Setiu, Terengganu & Ayer Hitam, Kedah  Blue Archipelago Berhad                             0.0     Responsibilities :\\nTo be in charge of shrimp culture activities within the area of responsibility, by effectively utilizing all manpower and other resources.\\nTo supervise the shrimp culture activities to ensure the activities are within the specifications provided under SOP for Grow Out and to ensure the total targeted tonnage is reachable.\\nTo plan manpower allocation for the modules based on workload\\nTo plan for the feed requirements and other pond inputs to be used for each shrimp culture period\\nTo prepare standard practices for non-routine activities for subordinates\\nTo propose corrective action based on evaluation of actual grow-out events\\nTo manage disciplinary for workers under supervision.\\nTo ensure on-time submission of required reports with correct and accurate data.\\nRequirements:\\nCandidate must possess at least a Degree in Aquaculture, Marine Science or any similar degree qualification.\\nWilling to be base in Setiu, Terengganu (2 Positions) & Ayer Hitam, Kedah (1 Position)\\nAt least 1-2 years of relevant working experience in the related field.\\nResourceful, self-motivated, confident and good team player with excellent communication and interpersonal skills.\\nAbility to work in a fast paced and aggressive environment.\\nAble to work independently with minimum supervision and tight deadlines.\\nPossess strong leadership, results oriented & problem solving skills\\nGood personality with initiative and good communication skills                                                                                                                                                                                                                                                                                                                                                                                                                                                                                                                                                                                                                                                                                                                                                                                                                                                                                                                                                                                                                                                                                                                                                                                                                                                                                                                                                                                                                                                                                                                                                                                                                                                                                                                                                                                                                                                                                                                                                                                                                                                                       https://www.jobstreet.com.my/en/job/supervisor-production-shrimp-farming-based-at-setiu-terengganu-ayer-hitam-kedah-5204789?jobId=jobstreet-my-job-5204789&sectionRank=1002&token=0~216520be-f70e-47f6-83e1-a8cd97fb8619&fr=SRP%20View%20In%20New%20Tab    False        2\nAmpang                           Transport Data Analyst                                                                    LF Logistics Services (M) Sdn Bhd                   0.0     Understand the transportation operation process and knows on how to address those issues with effective system or digitalization solutions.\\nProvide technical and analytical expertise within an assigned project in business unit/area.\\nLead and coordinate with project members in the analysis, design, development, and implementation improvement activities to support transportation operation.\\nCollaborate with staff, IT colleagues, and other stakeholders to define functional and technical requirements of assigned project\\nLiaise with regional teams to assess available technologies, best practice of transportation improvement project to adopt the solution options in local transportation operation\\nMaintain general knowledge of relevant data ingestion, integration and visualization processes and possibly participate in planning processes\\nOn boarding new business account into Transportation system to ensure route planning and performance monitoring on real time basic\\nBusiness processes, system and analysis experiences & skill. Working experience as an active user (or superuser) in any systems is an added advantage.\\nAssist in process workflow and data analysis to streamline manual process to digitalization / automation.\\nLiaise between user, IT members and vendors on active testing in user acceptance test and trouble shooting.\\nCoordinate and train Key user on system function introduction and maintain updated training material.\\nJob Requirements\\nBachelor’s degree from an accredited university or college in computer science or; Logistics & Supply Chain\\nHas at least 3-4 years experiences in ERP System related to transportation, logistics operations or distribution business (OTM, FMS, WMS, or others)\\nWork well with MS Visio, MS Project, MS Excel, Tableau, Power BI or other project related tools.\\nCertification from any recognized Data related course will be an added value.\\nDeep understanding of system architecture especially on the EDI function as well as system setup.\\nAble to project from the inception through the delivery within schedule and budget.\\nExperience creating detailed reports, giving presentations and data story telling.\\nStrong interpersonal skills to communicate well with people from all backgrounds.                                                                                                                                                                                                                                                                                                                                                                                                                                                                                                                                                                                                                                                                                                                                                                                                                                                                                                                                                                                                                                                                                                                                                                                                                                                    https://www.jobstreet.com.my/en/job/transport-data-analyst-5216461?jobId=jobstreet-my-job-5216461&sectionRank=54&token=0~b6a2a064-4efd-4764-bfdf-555cc77c73d0&fr=SRP%20View%20In%20New%20Tab                                                               False        2\n                                                                                                                                                                                                                                                                                                                                                                                                                                                                                                                                                                                                                                                                                                                                                                                                                                                                                                                                                                                                                                                                                                                                                                                                                                                                                                                                                                                                                                                                                                                                                                                                                                                                                                                                                                                                                                                                                                                                                                                                                                                                                                                                                                                                                                                                                                                                                                                                                                                                                                                                                                                                                                                                                                                                                                                                                                                                                                                                                                                                                                                                                                                                                                                                                                                                                                                                                                                                                                                                                                                                                                                                                                                                                                                                                                                                                                                                                                                                                                                                                                                              ..\nWest                             QA / Quality Assurance Specialist (Regulatory Affairs / Pharmaceutical / West)            Corestaff Pte Ltd                                   0.0     The incumbent is responsible to draft a regulatory submission and work with the respective authorized market representative in the submission of premarket approval ensuring the device is safe and effective for its intended uses. The incumbent is responsible for reviewing all the product labeling associated with the product and ensuring all claims are consistent with the approved intended use and all materials associated with the device are appropriate.\\nResponsibilities:\\nPrepare and maintain a listing of all registered products in all markets and maintain its renewal in a timely manner. Working closely with market authorized representative by providing all the necessary documents for dossier submission. Keeping track of legislation changes and advise on the legal and scientific restraint and requirements, collect, collate and evaluate scientific data.\\nEnsure local and international market regulatory requirements are in compliance (HSA, TGA, FDA, EU, others as applicable).\\nParticipate in regulatory inspection by the regulatory authorities and certification bodies.\\nParticipate and assist to provide material/information required by Regulatory Authority for import, reimbursement and product registration.\\nEnsure all technical documents are updated and ready for regulatory submission. Update when necessary.\\nWorking closely with market Authorized Representative to ensure products marketed are safe, sterile and effective.\\nAny other tasks or projects that are being assigned by the immediate supervisor, as and when required.\\nRequirements:\\nCandidates must possess at least Diploma/Degree in Life Science (Pharmacy, Biology, Chemistry, Pharmaceutical).\\nIn-depth knowledge of the cGMP, market regulations (HSA, FDA, TGA, CFDA, EU) and ISO 13485.\\nUnderstanding of law, regulation and pending regulation.\\nHow to Apply:\\nQualified or interested candidates, please submit your updated resume by using the Apply Now Button\\n**We regret to inform that only shortlisted candidates would be notified. **\\nLee Yuh Shiuan\\nRegistration Number: R21101101\\nEA License Number: 18C9027                                                                                                                                                                                                                                                                                                                                                                                                                                                                                                                                                                                                                                                                                                                                                                                                                                                                                                                                                                                                                                                                                                                                                                                                                                                                                                                                                                                                                https://www.jobstreet.com.my/en/job/qa-quality-assurance-specialist-regulatory-affairs-pharmaceutical-west-10200666/origin/sg?jobId=jobstreet-sg-job-10200666&sectionRank=930&token=0~60fc5674-37b0-4984-a9c4-c09ca861fe9f&fr=SRP%20View%20In%20New%20Tab  False        2\n                                 .Net Developer (Web/Apps) - ASP.Net / SQL Server / C# / HTML                              TRUST RECRUIT PTE. LTD.                             0.0     Responsibilities:\\nDevelopment and maintaining of Web and Mobile Application\\nCollaborate in a team-based environment with source codes management\\nTest, QA, optimization, enhancement and debugging of developed software.\\nConceptualization and brainstorming of new program features or applications.\\nRequirements:\\nAt least 1 year of job experience in programming/application development\\nDiploma/Degree in Computer Engineering/Computer Science or any equivalent IT/computer/programming based course.\\nProficient with ASP.NET, MS SQL Server, C#, HTML\\nExperience with HR, Payroll, Leave or Time Attendance software will be an added advantage.\\nExperience with Mobile App development will be added advantage.\\nHOW TO APPLY:\\nInterested applicants, kindly send your resume in MS WORD format to ref10(at)trustrecruit.com.sg or please click on “Apply Now” and provide the below details in your resume.\\nWe regret only shortlisted candidates will be notified.\\nImportant Note: Trust Recruit Pte Ltd is committed to safeguarding your personal data in accordance with the Personal Data Protection Act (PDPA).\\nPlease read our privacy statement on our corporate website www.trustrecruit.com.sg.\\nTrust Recruit Pte Ltd\\nEA License No: 19C9950\\nEA Personnel: Hooi Wai Man (Samantha)\\nEA Personnel Reg No: R21100062                                                                                                                                                                                                                                                                                                                                                                                                                                                                                                                                                                                                                                                                                                                                                                                                                                                                                                                                                                                                                                                                                                                                                                                                                                                                                                                                                                                                                                                                                                                                                                                                                                                                                                                                                                                                                                                                                                                                                                                                                                                                                                                                                                                                                                        https://www.jobstreet.com.my/en/job/.net-developer-web-apps-asp.net-sql-server-c-html-10205052/origin/sg?jobId=jobstreet-sg-job-10205052&sectionRank=897&token=0~f79a8911-a05c-4c86-b741-6b5a44cded49&fr=SRP%20View%20In%20New%20Tab                       False        2\nWest - Others                    Data Centre Engineer                                                                      RK Recruitment Pte. Ltd.                            0.0     Benefits Summary:\\n• IT Industry\\n• 5 Days work week: 9am – 6pm\\n• Basic up to $3500 – 5000 + Performance Bonus\\n• WEST Area\\nResponsibilities:\\n· Role consists of 50% Data Centre role and 50% Desktop support role, he/she is to priorities Data centre tasks and to take on desktop role when required.\\nAdditional Information:\\n· At least 2 years of Data Centre experience and 3 years of desktop experience.\\nPlease submit your updated resume by using the APPLY NOW BUTTON\\nBy submitting your personal data and/or resume to us in connection with your job application, you will be deemed to have agreed and consented to us in collecting, using, retaining, and disclosing your personal data and/or resume to prospective employers for the purpose of the evaluating, processing and administration by company relating to this job application.\\n*We regret to inform you that only shortlisted candidates would be notified*\\nWe wish you all the best in your career search.\\nYou are welcome to visit our website at http://www.rkgroup.sg/\\nRK Recruitment Pte Ltd | EA License No.: 20C0280\\nJoceline Lim Shuet Er | EA Personnel No.: R22108933                                                                                                                                                                                                                                                                                                                                                                                                                                                                                                                                                                                                                                                                                                                                                                                                                                                                                                                                                                                                                                                                                                                                                                                                                                                                                                                                                                                                                                                                                                                                                                                                                                                                                                                                                                                                                                                                                                                                                                                                                                                                                                                                                                                                                                                                                                                                                                                                                       https://www.jobstreet.com.my/en/job/data-centre-engineer-10196758/origin/sg?jobId=jobstreet-sg-job-10196758&sectionRank=242&token=0~cbc3277b-6171-4ced-a895-fe2f9a56ee35&fr=SRP%20View%20In%20New%20Tab                                                    False        2\nYishun                           Application Development Engineer - 48807                                                  Keysight Technologies Singapore                     0.0     About the job :\\n2 years contract\\nThis job will be part of the Electronic Industrial Solutions Group, which provides test and measurement solutions across a broad set of electronic industrial end markets, focusing on high-growth applications in the automotive and energy industries, and measurement solutions for consumer electronics, education and manufacturing, as well as semiconductor parametric testing, nano-positioning metrology and material science. The group provides electronic design and test software, instruments, and systems used in the simulation, design, validation, manufacturing, installation and optimization of electronic equipment.\\nJob Description\\nPrimary responsibilities for this role are to applies deep technical application/product expertise and proficiency in marketing to deliver to customers of the market solutions and application of Keysight products.\\nUnderstands customers’ businesses, needs and problems, collaborates with customers and R&D to develop and implement the customer’s solution, including product selection/design, setup, and testing, and creating and optimizing software application programming specified by the customer. Integrates Keysight or other third-party products and services into ICT system\\nWork as part of R&D team to develop new solutions and technologies to address customer requirements.\\nResearch new areas to improve testability of the customer’s products.\\nPerform data analysis to find out anomalies on the DUT or tester and propose some actions or solution to the problem.\\nEnsures the solution functions per specifications and meets the customer’s needs.\\nPerforms competitive benchmarking and monitors industry trends.\\nResolves customer issues and provides consultation on use of Keysight’s products (stand-alone and within systems). Serves as next level of support for solving issues arising from service, technical support, and field applications groups.\\nMay write papers and customer-facing technical documents and application notes and deliver customer training classes and consulting related to the application.\\nMay provide technical and marketing expertise to the rest of the company in developing and testing new products and applications.\\nJob Qualifications\\nBachelors or Master’s Degree in Computer Science or Electronics Engineering or equivalent.\\n4-5 years relevant experience\\nWorking experience on an In-Circuit Tester and knowledge of Manufacturing Test Process\\nKnowledge in semiconductor test system is a plus.\\nApplication knowledge on structural testing and circuit analysis\\nKnowledge in programming BT-Basic, Visual Studio, C#, C++                                                                                                                                                                                                                                                                                                                                                                                                                                                                                                                                                                                                                                                                                                                                                                                                                                                            https://www.jobstreet.com.my/en/job/application-development-engineer-48807-5210862?jobId=jobstreet-my-job-5210862&sectionRank=545&token=0~57eeadf5-db5d-4e37-8d0b-f49de54ea52d&fr=SRP%20View%20In%20New%20Tab                                              False        2\n                                 System Analyst (SAP/ MM/ WM/ SD) - Flexible Working Arrangement                           RK Recruitment Pte. Ltd.                            0.0     Benefits Summary: \\nEnergy equipment and solutions industry\\n5 days/per week, Office hour (Flexible working Arrangement such as WIO & WFH arrangement)      \\nBasic up to $7,500 + AWS/ 13th Month Bonus\\nYishun\\nResponsibilities: \\n• Provide enhancement implementation and support in the analysis, design, development, maintenance on SAP modules such as MM/WM/SD/CO modules.\\n• Perform FIT -GAP on all SAP Material Master and Warehouse Management design requirements\\n• Support the development and testing for enhancement.\\n• Manage the incident, problems as per the SLA requirements\\n• Support other duties as assigned.\\nAdditional Information:\\nDegree in Computer Science/ Information Management/ Engineering                       \\nFacilitate the implementation and support of SAP MM/WM/SD modules\\nPerform detailed analysis of change requests and complex business process requirements and provide appropriate solutions\\nConfiguration knowledge of SAP MM and WM Modules. Key areas - Vendor Master Data, Stock Transfer Order, Subcontracting, Inventory Control, Purchase Requisitions and Purchase Order Processing\\nStrong experience in RICEFW development in MM area\\nAt least 5 years of proven experience as a MM/WM in implementation, support and design projects\\nNeed to have experience in production support projects based on ITIL Methodology\\nVariant Configuration, Material Ledger, Actual Costing\\n2+ years of hands-on experience in S4HANA (Mandatory)\\nFluent in English with excellent communication skills\\nmust have hands on exp doing migration, implementation/roll-out/configuration w relevant experience in SAP/MM/WM/SD\\nPlease submit your updated resume by using the APPLY NOW BUTTON\\nBy submitting your personal data and/or resume to us in connection with your job application, you will be deemed to have agreed and consented to us in collecting, using, retaining, and disclosing your personal data and/or resume to prospective employers for the purpose of the evaluating, processing and administration by the company relating to this job application.\\n*We regret to inform that only shortlisted candidates would be notified*\\nWe wish you all the best in your career search. You are welcome to visit our website at www.rkgroup.sg\\nRK Recruitment Pte Ltd | EA License No.: 20C0280\\nLau Zi Ching | EA Personnel No.: R22110930                                                                                                                                                                                                                                                                                                                                                                                                                                                                                                                                                                                                                                                                                                                                                                                                                                                                                                                                                                                                                                                                                                                                                                    https://www.jobstreet.com.my/en/job/system-analyst-sap-mm-wm-sd-flexible-working-arrangement-10256927/origin/sg?jobId=jobstreet-sg-job-10256927&sectionRank=443&token=0~331f5f95-5405-4f89-9eae-5ce487fd33ce&fr=SRP%20View%20In%20New%20Tab                False        2\nLength: 1749, dtype: int64"
     },
     "execution_count": 105,
     "metadata": {},
     "output_type": "execute_result"
    }
   ],
   "source": [
    "\n",
    "#loc = new_df[new_df['is_remote'] == \"False\"].sort_values('location',ascending=False).sum()\n",
    "new = new_df[new_df['is_remote'] == False]\n",
    "new_loc = new.groupby('location').value_counts()\n",
    "new_loc"
   ]
  },
  {
   "cell_type": "markdown",
   "id": "87021eaf-858f-45b6-88b4-9e892a101a96",
   "metadata": {},
   "source": [
    "### Location with the most job opening"
   ]
  },
  {
   "cell_type": "code",
   "execution_count": null,
   "outputs": [],
   "source": [],
   "metadata": {
    "collapsed": false
   }
  },
  {
   "cell_type": "code",
   "execution_count": 21,
   "id": "98d7afd9-1266-4843-9ba3-6405eb734f5f",
   "metadata": {},
   "outputs": [
    {
     "data": {
      "text/plain": [
       "Kuala Lumpur        1443\n",
       "Petaling Jaya        322\n",
       "Selangor             263\n",
       "Penang               160\n",
       "Bayan Lepas          120\n",
       "Malaysia             115\n",
       "Cyberjaya             99\n",
       "Shah Alam/Subang      86\n",
       "George Town           82\n",
       "Singapore             72\n",
       "Name: location, dtype: int64"
      ]
     },
     "execution_count": 21,
     "metadata": {},
     "output_type": "execute_result"
    }
   ],
   "source": [
    "location_df = new_df['location'].value_counts()\n",
    "location_df.head(10)"
   ]
  },
  {
   "cell_type": "markdown",
   "id": "c28c9752-afe7-4482-8d11-6787809f646c",
   "metadata": {},
   "source": [
    "### Location with the least job opening"
   ]
  },
  {
   "cell_type": "code",
   "execution_count": 22,
   "id": "6abe4c8e-8b35-4b7e-bccb-2c301a000bda",
   "metadata": {},
   "outputs": [
    {
     "data": {
      "text/plain": [
       "National Capital Reg                                         2\n",
       "Jurong West                                                  2\n",
       "Japan                                                        2\n",
       "Johor, Perak, Penang, Selangor, Sarawak, Sabah, Melaka, ,    2\n",
       "Kuala Lumpur, Hong Kong                                      2\n",
       "Kuala Lumpur, Bayan Lepas                                    2\n",
       "Selangor - Others, Kuala Lumpur, Negeri Sembilan, Perak      2\n",
       "Johor Bahru, Shah Alam/Subang                                2\n",
       "Klang/Port Klang, Kuala Lumpur                               2\n",
       "Kuantan                                                      2\n",
       "Name: location, dtype: int64"
      ]
     },
     "execution_count": 22,
     "metadata": {},
     "output_type": "execute_result"
    }
   ],
   "source": [
    "location_df.tail(10)\n",
    "\n"
   ]
  },
  {
   "cell_type": "markdown",
   "id": "022a365f-4bbe-4709-8907-73e15aba0024",
   "metadata": {
    "tags": []
   },
   "source": [
    "### Word clouds"
   ]
  },
  {
   "cell_type": "code",
   "execution_count": 23,
   "id": "8861d0ba-fe06-4433-8aab-87409160deaf",
   "metadata": {},
   "outputs": [
    {
     "name": "stdout",
     "output_type": "stream",
     "text": [
      "Defaulting to user installation because normal site-packages is not writeable\n",
      "Requirement already satisfied: wordcloud in /home/subaash/.local/lib/python3.10/site-packages (1.8.2.2)\n",
      "Requirement already satisfied: pillow in /home/subaash/.local/lib/python3.10/site-packages (from wordcloud) (9.3.0)\n",
      "Requirement already satisfied: numpy>=1.6.1 in /usr/local/lib/python3.10/dist-packages (from wordcloud) (1.23.5)\n",
      "Requirement already satisfied: matplotlib in /home/subaash/.local/lib/python3.10/site-packages (from wordcloud) (3.6.2)\n",
      "Requirement already satisfied: packaging>=20.0 in /usr/local/lib/python3.10/dist-packages (from matplotlib->wordcloud) (21.3)\n",
      "Requirement already satisfied: fonttools>=4.22.0 in /home/subaash/.local/lib/python3.10/site-packages (from matplotlib->wordcloud) (4.38.0)\n",
      "Requirement already satisfied: pyparsing>=2.2.1 in /usr/lib/python3/dist-packages (from matplotlib->wordcloud) (2.4.7)\n",
      "Requirement already satisfied: python-dateutil>=2.7 in /usr/local/lib/python3.10/dist-packages (from matplotlib->wordcloud) (2.8.2)\n",
      "Requirement already satisfied: contourpy>=1.0.1 in /home/subaash/.local/lib/python3.10/site-packages (from matplotlib->wordcloud) (1.0.6)\n",
      "Requirement already satisfied: kiwisolver>=1.0.1 in /home/subaash/.local/lib/python3.10/site-packages (from matplotlib->wordcloud) (1.4.4)\n",
      "Requirement already satisfied: cycler>=0.10 in /home/subaash/.local/lib/python3.10/site-packages (from matplotlib->wordcloud) (0.11.0)\n",
      "Requirement already satisfied: six>=1.5 in /usr/lib/python3/dist-packages (from python-dateutil>=2.7->matplotlib->wordcloud) (1.16.0)\n",
      "Note: you may need to restart the kernel to use updated packages.\n"
     ]
    }
   ],
   "source": [
    "#pip install wordcloud"
   ]
  },
  {
   "cell_type": "code",
   "execution_count": 154,
   "outputs": [
    {
     "name": "stdout",
     "output_type": "stream",
     "text": [
      "Collecting nltk\r\n",
      "  Downloading nltk-3.8.1-py3-none-any.whl (1.5 MB)\r\n",
      "\u001B[2K     \u001B[90m━━━━━━━━━━━━━━━━━━━━━━━━━━━━━━━━━━━━━━━━\u001B[0m \u001B[32m1.5/1.5 MB\u001B[0m \u001B[31m16.3 MB/s\u001B[0m eta \u001B[36m0:00:00\u001B[0ma \u001B[36m0:00:01\u001B[0m\r\n",
      "\u001B[?25hCollecting click\r\n",
      "  Downloading click-8.1.3-py3-none-any.whl (96 kB)\r\n",
      "\u001B[2K     \u001B[90m━━━━━━━━━━━━━━━━━━━━━━━━━━━━━━━━━━━━━━━━\u001B[0m \u001B[32m96.6/96.6 kB\u001B[0m \u001B[31m17.7 MB/s\u001B[0m eta \u001B[36m0:00:00\u001B[0m\r\n",
      "\u001B[?25hCollecting tqdm\r\n",
      "  Using cached tqdm-4.64.1-py2.py3-none-any.whl (78 kB)\r\n",
      "Collecting regex>=2021.8.3\r\n",
      "  Using cached regex-2022.10.31-cp310-cp310-manylinux_2_17_x86_64.manylinux2014_x86_64.whl (770 kB)\r\n",
      "Collecting joblib\r\n",
      "  Using cached joblib-1.2.0-py3-none-any.whl (297 kB)\r\n",
      "Installing collected packages: tqdm, regex, joblib, click, nltk\r\n",
      "Successfully installed click-8.1.3 joblib-1.2.0 nltk-3.8.1 regex-2022.10.31 tqdm-4.64.1\r\n"
     ]
    }
   ],
   "source": [
    "! pip install nltk"
   ],
   "metadata": {
    "collapsed": false
   }
  },
  {
   "cell_type": "code",
   "execution_count": 155,
   "outputs": [
    {
     "name": "stdout",
     "output_type": "stream",
     "text": [
      "Collecting wordcloud\r\n",
      "  Using cached wordcloud-1.8.2.2-cp310-cp310-manylinux_2_17_x86_64.manylinux2014_x86_64.whl (458 kB)\r\n",
      "Requirement already satisfied: matplotlib in /home/subaash/.local/share/virtualenvs/Demand-of-Data-Scientist-in-Malaysia-hEWWIcNH/lib/python3.10/site-packages (from wordcloud) (3.6.2)\r\n",
      "Requirement already satisfied: numpy>=1.6.1 in /home/subaash/.local/share/virtualenvs/Demand-of-Data-Scientist-in-Malaysia-hEWWIcNH/lib/python3.10/site-packages (from wordcloud) (1.24.1)\r\n",
      "Requirement already satisfied: pillow in /home/subaash/.local/share/virtualenvs/Demand-of-Data-Scientist-in-Malaysia-hEWWIcNH/lib/python3.10/site-packages (from wordcloud) (9.4.0)\r\n",
      "Requirement already satisfied: packaging>=20.0 in /home/subaash/.local/share/virtualenvs/Demand-of-Data-Scientist-in-Malaysia-hEWWIcNH/lib/python3.10/site-packages (from matplotlib->wordcloud) (22.0)\r\n",
      "Requirement already satisfied: pyparsing>=2.2.1 in /home/subaash/.local/share/virtualenvs/Demand-of-Data-Scientist-in-Malaysia-hEWWIcNH/lib/python3.10/site-packages (from matplotlib->wordcloud) (3.0.9)\r\n",
      "Requirement already satisfied: python-dateutil>=2.7 in /home/subaash/.local/share/virtualenvs/Demand-of-Data-Scientist-in-Malaysia-hEWWIcNH/lib/python3.10/site-packages (from matplotlib->wordcloud) (2.8.2)\r\n",
      "Requirement already satisfied: kiwisolver>=1.0.1 in /home/subaash/.local/share/virtualenvs/Demand-of-Data-Scientist-in-Malaysia-hEWWIcNH/lib/python3.10/site-packages (from matplotlib->wordcloud) (1.4.4)\r\n",
      "Requirement already satisfied: contourpy>=1.0.1 in /home/subaash/.local/share/virtualenvs/Demand-of-Data-Scientist-in-Malaysia-hEWWIcNH/lib/python3.10/site-packages (from matplotlib->wordcloud) (1.0.6)\r\n",
      "Requirement already satisfied: cycler>=0.10 in /home/subaash/.local/share/virtualenvs/Demand-of-Data-Scientist-in-Malaysia-hEWWIcNH/lib/python3.10/site-packages (from matplotlib->wordcloud) (0.11.0)\r\n",
      "Requirement already satisfied: fonttools>=4.22.0 in /home/subaash/.local/share/virtualenvs/Demand-of-Data-Scientist-in-Malaysia-hEWWIcNH/lib/python3.10/site-packages (from matplotlib->wordcloud) (4.38.0)\r\n",
      "Requirement already satisfied: six>=1.5 in /home/subaash/.local/share/virtualenvs/Demand-of-Data-Scientist-in-Malaysia-hEWWIcNH/lib/python3.10/site-packages (from python-dateutil>=2.7->matplotlib->wordcloud) (1.16.0)\r\n",
      "Installing collected packages: wordcloud\r\n",
      "Successfully installed wordcloud-1.8.2.2\r\n"
     ]
    }
   ],
   "source": [
    "! pip install wordcloud"
   ],
   "metadata": {
    "collapsed": false
   }
  },
  {
   "cell_type": "code",
   "execution_count": 156,
   "id": "b35f93f7-3db5-4fdc-ae88-0797b812bc8a",
   "metadata": {},
   "outputs": [
    {
     "name": "stderr",
     "output_type": "stream",
     "text": [
      "[nltk_data] Downloading package stopwords to\n",
      "[nltk_data]     /home/subaash/nltk_data...\n",
      "[nltk_data]   Package stopwords is already up-to-date!\n"
     ]
    },
    {
     "data": {
      "text/plain": "True"
     },
     "execution_count": 156,
     "metadata": {},
     "output_type": "execute_result"
    }
   ],
   "source": [
    "import nltk\n",
    "from nltk.corpus import stopwords\n",
    "from wordcloud import WordCloud\n",
    "nltk.download('stopwords')"
   ]
  },
  {
   "cell_type": "code",
   "execution_count": 157,
   "id": "154b674c-d41a-4936-8c2e-12daac9f666e",
   "metadata": {},
   "outputs": [],
   "source": [
    "words = []\n",
    "for phrase in new_df.summary.values:\n",
    "    for word in phrase.split():\n",
    "        words.append(word)\n",
    "word_list = ' '.join(words)\n",
    "\n",
    "stop_words = stopwords.words('english')\n",
    "stop_words = set(stop_words)"
   ]
  },
  {
   "cell_type": "code",
   "execution_count": 158,
   "id": "d270861e-e721-4201-a4b3-e020aa1ae84a",
   "metadata": {},
   "outputs": [
    {
     "data": {
      "text/plain": "<Figure size 800x700 with 1 Axes>",
      "image/png": "[encoded data removed]"
     },
     "metadata": {},
     "output_type": "display_data"
    }
   ],
   "source": [
    "wordcloud = WordCloud(background_color='black',\n",
    "                      collocations=False, contour_width=2,\n",
    "                     ).generate(word_list)\n",
    "\n",
    "plt.figure(figsize=(8, 7), facecolor='k')\n",
    "plt.imshow(wordcloud, interpolation=\"bilinear\")\n",
    "plt.axis('off')\n",
    "plt.tight_layout(pad=0);"
   ]
  },
  {
   "cell_type": "code",
   "execution_count": 160,
   "outputs": [
    {
     "name": "stdout",
     "output_type": "stream",
     "text": [
      "['a.i', 'agile', 'ai', 'algorithms', 'analysis', 'automation', 'aws', 'azure', 'c+', 'c++', 'data analysis', 'data mining', 'data wrangling', 'deep learning', 'deployment', 'dl', 'etl', 'forecast', 'forecasting', 'hive', 'machine learning', 'mathematics', 'ml', 'modelling', 'mysql', 'natural language', 'nlp', 'nosql', 'numpy', 'pandas', 'phd', 'power b.i', 'powerbi', 'python', 'regression', 'sas', 'spark', 'sql', 'statistics', 'tableau', 'time series', 'visualization']\n"
     ]
    }
   ],
   "source": [
    "import pickle\n",
    "\n",
    "with open('DS_skills.pickle', 'rb') as handle:\n",
    "    ds_skills = pickle.load(handle)\n",
    "\n",
    "print((ds_skills))"
   ],
   "metadata": {
    "collapsed": false
   }
  },
  {
   "cell_type": "code",
   "execution_count": 161,
   "outputs": [],
   "source": [
    "def skill_extractor(summary):\n",
    "\n",
    "    test_list = []\n",
    "\n",
    "    for word in summary.split():\n",
    "\n",
    "        clean_word = word.lower().strip(' ,.!?')\n",
    "\n",
    "        if clean_word in ds_skills:\n",
    "            test_list.append(clean_word)\n",
    "\n",
    "    test_list = list(dict.fromkeys(test_list))\n",
    "    return test_list"
   ],
   "metadata": {
    "collapsed": false
   }
  },
  {
   "cell_type": "code",
   "execution_count": 162,
   "id": "8ad3aaea-f7c1-437a-baad-ea627ed1b0cc",
   "metadata": {},
   "outputs": [
    {
     "ename": "AttributeError",
     "evalue": "'DataFrame' object has no attribute 'required_skills'",
     "output_type": "error",
     "traceback": [
      "\u001B[0;31m---------------------------------------------------------------------------\u001B[0m",
      "\u001B[0;31mAttributeError\u001B[0m                            Traceback (most recent call last)",
      "Cell \u001B[0;32mIn[162], line 2\u001B[0m\n\u001B[1;32m      1\u001B[0m words \u001B[38;5;241m=\u001B[39m []\n\u001B[0;32m----> 2\u001B[0m \u001B[38;5;28;01mfor\u001B[39;00m skills \u001B[38;5;129;01min\u001B[39;00m \u001B[43mnew_df\u001B[49m\u001B[38;5;241;43m.\u001B[39;49m\u001B[43mrequired_skills\u001B[49m\u001B[38;5;241m.\u001B[39mvalues:\n\u001B[1;32m      3\u001B[0m     \u001B[38;5;28;01mfor\u001B[39;00m word \u001B[38;5;129;01min\u001B[39;00m skills:\n\u001B[1;32m      4\u001B[0m         words\u001B[38;5;241m.\u001B[39mappend(word)\n",
      "File \u001B[0;32m~/.local/share/virtualenvs/Demand-of-Data-Scientist-in-Malaysia-hEWWIcNH/lib/python3.10/site-packages/pandas/core/generic.py:5902\u001B[0m, in \u001B[0;36mNDFrame.__getattr__\u001B[0;34m(self, name)\u001B[0m\n\u001B[1;32m   5895\u001B[0m \u001B[38;5;28;01mif\u001B[39;00m (\n\u001B[1;32m   5896\u001B[0m     name \u001B[38;5;129;01mnot\u001B[39;00m \u001B[38;5;129;01min\u001B[39;00m \u001B[38;5;28mself\u001B[39m\u001B[38;5;241m.\u001B[39m_internal_names_set\n\u001B[1;32m   5897\u001B[0m     \u001B[38;5;129;01mand\u001B[39;00m name \u001B[38;5;129;01mnot\u001B[39;00m \u001B[38;5;129;01min\u001B[39;00m \u001B[38;5;28mself\u001B[39m\u001B[38;5;241m.\u001B[39m_metadata\n\u001B[1;32m   5898\u001B[0m     \u001B[38;5;129;01mand\u001B[39;00m name \u001B[38;5;129;01mnot\u001B[39;00m \u001B[38;5;129;01min\u001B[39;00m \u001B[38;5;28mself\u001B[39m\u001B[38;5;241m.\u001B[39m_accessors\n\u001B[1;32m   5899\u001B[0m     \u001B[38;5;129;01mand\u001B[39;00m \u001B[38;5;28mself\u001B[39m\u001B[38;5;241m.\u001B[39m_info_axis\u001B[38;5;241m.\u001B[39m_can_hold_identifiers_and_holds_name(name)\n\u001B[1;32m   5900\u001B[0m ):\n\u001B[1;32m   5901\u001B[0m     \u001B[38;5;28;01mreturn\u001B[39;00m \u001B[38;5;28mself\u001B[39m[name]\n\u001B[0;32m-> 5902\u001B[0m \u001B[38;5;28;01mreturn\u001B[39;00m \u001B[38;5;28;43mobject\u001B[39;49m\u001B[38;5;241;43m.\u001B[39;49m\u001B[38;5;21;43m__getattribute__\u001B[39;49m\u001B[43m(\u001B[49m\u001B[38;5;28;43mself\u001B[39;49m\u001B[43m,\u001B[49m\u001B[43m \u001B[49m\u001B[43mname\u001B[49m\u001B[43m)\u001B[49m\n",
      "\u001B[0;31mAttributeError\u001B[0m: 'DataFrame' object has no attribute 'required_skills'"
     ]
    }
   ],
   "source": [
    "words = []\n",
    "for skills in new_df.required_skills.values:\n",
    "    for word in skills:\n",
    "        words.append(word)\n",
    "skill_match_list = ' '.join(words)\n",
    "\n",
    "stop_words = stopwords.words('english')\n",
    "stop_words = set(stop_words)\n",
    "\n",
    "wordcloud = WordCloud(background_color='black',\n",
    "                      collocations=False, contour_width=2,\n",
    "                     ).generate(skill_match_list)\n",
    "\n",
    "plt.figure(figsize=(8, 7), facecolor='k')\n",
    "plt.imshow(wordcloud, interpolation=\"bilinear\")\n",
    "plt.tight_layout(pad=0)\n",
    "plt.axis('off');"
   ]
  },
  {
   "cell_type": "code",
   "execution_count": 32,
   "id": "e1df0607-662b-4040-bbf5-d7a1c3ea41e6",
   "metadata": {},
   "outputs": [
    {
     "name": "stdout",
     "output_type": "stream",
     "text": [
      "Note: you may need to restart the kernel to use updated packages.\n"
     ]
    }
   ],
   "source": [
    "pip freeze > requirements.txt"
   ]
  },
  {
   "cell_type": "markdown",
   "id": "e3476e91-c44b-459e-ab77-108abe7d82d0",
   "metadata": {
    "tags": []
   },
   "source": [
    "### Bubble map"
   ]
  },
  {
   "cell_type": "code",
   "execution_count": 35,
   "id": "5485403a-d8f9-4cc7-ae95-a9e91323d68f",
   "metadata": {},
   "outputs": [
    {
     "name": "stdout",
     "output_type": "stream",
     "text": [
      "Collecting package metadata (current_repodata.json): done\n",
      "Solving environment: \\ \n",
      "The environment is inconsistent, please check the package plan carefully\n",
      "The following packages are causing the inconsistency:\n",
      "\n",
      "  - defaults/linux-64::spyder==5.3.3=py39h06a4308_0\n",
      "  - defaults/noarch::pyls-spyder==0.4.0=pyhd3eb1b0_0\n",
      "  - defaults/noarch::flake8==4.0.1=pyhd3eb1b0_1\n",
      "  - defaults/linux-64::python-lsp-server==1.5.0=py39h06a4308_0\n",
      "  - defaults/linux-64::markdown==3.3.4=py39h06a4308_0\n",
      "  - defaults/noarch::importlib_metadata==4.11.3=hd3eb1b0_0\n",
      "  - defaults/linux-64::numpydoc==1.4.0=py39h06a4308_0\n",
      "  - defaults/linux-64::anaconda==2022.10=py39_0\n",
      "  - defaults/linux-64::python-lsp-black==1.2.1=py39h06a4308_0\n",
      "  - defaults/linux-64::panel==0.13.1=py39h06a4308_0\n",
      "  - defaults/linux-64::keyring==23.4.0=py39h06a4308_0\n",
      "  - defaults/linux-64::sphinx==5.0.2=py39h06a4308_0\n",
      "  - defaults/linux-64::hvplot==0.8.0=py39h06a4308_0\n",
      "  - defaults/linux-64::holoviews==1.15.0=py39h06a4308_0\n",
      "failed with initial frozen solve. Retrying with flexible solve.\n",
      "Solving environment: failed with repodata from current_repodata.json, will retry with next repodata source.\n",
      "Collecting package metadata (repodata.json): done\n",
      "Solving environment: | \n",
      "The environment is inconsistent, please check the package plan carefully\n",
      "The following packages are causing the inconsistency:\n",
      "\n",
      "  - defaults/linux-64::spyder==5.3.3=py39h06a4308_0\n",
      "  - defaults/noarch::pyls-spyder==0.4.0=pyhd3eb1b0_0\n",
      "  - defaults/noarch::flake8==4.0.1=pyhd3eb1b0_1\n",
      "  - defaults/linux-64::python-lsp-server==1.5.0=py39h06a4308_0\n",
      "  - defaults/linux-64::markdown==3.3.4=py39h06a4308_0\n",
      "  - defaults/noarch::importlib_metadata==4.11.3=hd3eb1b0_0\n",
      "  - defaults/linux-64::numpydoc==1.4.0=py39h06a4308_0\n",
      "  - defaults/linux-64::anaconda==2022.10=py39_0\n",
      "  - defaults/linux-64::python-lsp-black==1.2.1=py39h06a4308_0\n",
      "  - defaults/linux-64::panel==0.13.1=py39h06a4308_0\n",
      "  - defaults/linux-64::keyring==23.4.0=py39h06a4308_0\n",
      "  - defaults/linux-64::sphinx==5.0.2=py39h06a4308_0\n",
      "  - defaults/linux-64::hvplot==0.8.0=py39h06a4308_0\n",
      "  - defaults/linux-64::holoviews==1.15.0=py39h06a4308_0\n",
      "done\n",
      "\n",
      "## Package Plan ##\n",
      "\n",
      "  environment location: /home/subaash/anaconda3\n",
      "\n",
      "  added / updated specs:\n",
      "    - geoplot\n",
      "\n",
      "\n",
      "The following packages will be downloaded:\n",
      "\n",
      "    package                    |            build\n",
      "    ---------------------------|-----------------\n",
      "    boost-cpp-1.70.0           |       ha2d47e9_1        21.1 MB  conda-forge\n",
      "    branca-0.6.0               |     pyhd8ed1ab_0          27 KB  conda-forge\n",
      "    cairo-1.16.0               |    h18b612c_1001         1.5 MB  conda-forge\n",
      "    cartopy-0.18.0             |   py39h0d9ca2b_1         1.7 MB\n",
      "    click-plugins-1.1.1        |             py_0           9 KB  conda-forge\n",
      "    cligj-0.7.2                |     pyhd8ed1ab_1          10 KB  conda-forge\n",
      "    descartes-1.1.0            |             py_4           7 KB  conda-forge\n",
      "    fiona-1.8.21               |   py39hc5a795b_0         1.1 MB  conda-forge\n",
      "    folium-0.14.0              |     pyhd8ed1ab_0          71 KB  conda-forge\n",
      "    freexl-1.0.6               |       h7f98852_0          48 KB  conda-forge\n",
      "    gdal-3.4.1                 |   py39h2c27f0e_0         1.3 MB\n",
      "    geopandas-0.12.2           |     pyhd8ed1ab_0           7 KB  conda-forge\n",
      "    geopandas-base-0.12.2      |     pyha770c72_0         958 KB  conda-forge\n",
      "    geoplot-0.3.0              |             py_0          24 KB  conda-forge\n",
      "    geos-3.8.0                 |       he1b5a44_1         1.0 MB  conda-forge\n",
      "    geotiff-1.7.0              |       hd69d5b1_0         236 KB\n",
      "    hdf4-4.2.13                |    h10796ff_1005         949 KB  conda-forge\n",
      "    json-c-0.13.1              |    hbfbb72e_1002          76 KB  conda-forge\n",
      "    kealib-1.4.14              |       hcc255d8_2         186 KB  conda-forge\n",
      "    libdap4-3.19.1             |                0        15.6 MB  conda-forge\n",
      "    libgdal-3.4.1              |       hdd9df00_0        17.2 MB\n",
      "    libkml-1.3.0               |    h4fcabce_1010         643 KB  conda-forge\n",
      "    libnetcdf-4.8.1            |       h42ceab0_1         1.0 MB\n",
      "    libspatialite-4.3.0a       |    h343d7df_1033         3.1 MB  conda-forge\n",
      "    libzip-1.8.0               |       h4de3113_1         126 KB  conda-forge\n",
      "    mapclassify-2.4.3          |     pyhd8ed1ab_0          36 KB  conda-forge\n",
      "    munch-2.5.0                |             py_0          12 KB  conda-forge\n",
      "    pixman-0.38.0              |    h516909a_1003         594 KB  conda-forge\n",
      "    poppler-0.81.0             |       h01f5e8b_2         9.2 MB\n",
      "    poppler-data-0.4.11        |       hd8ed1ab_0         3.6 MB  conda-forge\n",
      "    proj-6.2.1                 |       hc80f0dc_0        10.2 MB  conda-forge\n",
      "    pyproj-2.6.1.post1         |   py39hb3025e9_1         407 KB\n",
      "    pyshp-2.3.1                |     pyhd8ed1ab_0         941 KB  conda-forge\n",
      "    shapely-1.8.4              |   py39h81ba7c5_0         345 KB\n",
      "    tiledb-2.4.0               |       he87e0bf_2         4.3 MB  conda-forge\n",
      "    util-linux-2.36            |   py39h28948ff_1         3.4 MB  conda-forge\n",
      "    xerces-c-3.2.4             |       h94c2ce2_0         3.3 MB\n",
      "    xorg-kbproto-1.0.7         |    h7f98852_1002          27 KB  conda-forge\n",
      "    xorg-libice-1.0.10         |       h7f98852_0          58 KB  conda-forge\n",
      "    xorg-libsm-1.2.2           |       h470a237_5          24 KB  conda-forge\n",
      "    xorg-libx11-1.7.2          |       h7f98852_0         941 KB  conda-forge\n",
      "    xorg-libxext-1.3.4         |       h7f98852_1          54 KB  conda-forge\n",
      "    xorg-libxrender-0.9.10     |    h7f98852_1003          32 KB  conda-forge\n",
      "    xorg-renderproto-0.11.1    |    h7f98852_1002           9 KB  conda-forge\n",
      "    xorg-xextproto-7.3.0       |    h7f98852_1002          28 KB  conda-forge\n",
      "    xorg-xproto-7.0.31         |    h7f98852_1007          73 KB  conda-forge\n",
      "    xyzservices-2022.9.0       |     pyhd8ed1ab_0          38 KB  conda-forge\n",
      "    ------------------------------------------------------------\n",
      "                                           Total:       105.5 MB\n",
      "\n",
      "The following NEW packages will be INSTALLED:\n",
      "\n",
      "  boost-cpp          conda-forge/linux-64::boost-cpp-1.70.0-ha2d47e9_1 \n",
      "  branca             conda-forge/noarch::branca-0.6.0-pyhd8ed1ab_0 \n",
      "  cairo              conda-forge/linux-64::cairo-1.16.0-h18b612c_1001 \n",
      "  cartopy            pkgs/main/linux-64::cartopy-0.18.0-py39h0d9ca2b_1 \n",
      "  click-plugins      conda-forge/noarch::click-plugins-1.1.1-py_0 \n",
      "  cligj              conda-forge/noarch::cligj-0.7.2-pyhd8ed1ab_1 \n",
      "  descartes          conda-forge/noarch::descartes-1.1.0-py_4 \n",
      "  fiona              conda-forge/linux-64::fiona-1.8.21-py39hc5a795b_0 \n",
      "  folium             conda-forge/noarch::folium-0.14.0-pyhd8ed1ab_0 \n",
      "  freexl             conda-forge/linux-64::freexl-1.0.6-h7f98852_0 \n",
      "  gdal               pkgs/main/linux-64::gdal-3.4.1-py39h2c27f0e_0 \n",
      "  geopandas          conda-forge/noarch::geopandas-0.12.2-pyhd8ed1ab_0 \n",
      "  geopandas-base     conda-forge/noarch::geopandas-base-0.12.2-pyha770c72_0 \n",
      "  geoplot            conda-forge/noarch::geoplot-0.3.0-py_0 \n",
      "  geos               conda-forge/linux-64::geos-3.8.0-he1b5a44_1 \n",
      "  geotiff            pkgs/main/linux-64::geotiff-1.7.0-hd69d5b1_0 \n",
      "  hdf4               conda-forge/linux-64::hdf4-4.2.13-h10796ff_1005 \n",
      "  importlib-metadata pkgs/main/linux-64::importlib-metadata-4.11.3-py39h06a4308_0 \n",
      "  json-c             conda-forge/linux-64::json-c-0.13.1-hbfbb72e_1002 \n",
      "  kealib             conda-forge/linux-64::kealib-1.4.14-hcc255d8_2 \n",
      "  libdap4            conda-forge/linux-64::libdap4-3.19.1-0 \n",
      "  libgdal            pkgs/main/linux-64::libgdal-3.4.1-hdd9df00_0 \n",
      "  libkml             conda-forge/linux-64::libkml-1.3.0-h4fcabce_1010 \n",
      "  libnetcdf          pkgs/main/linux-64::libnetcdf-4.8.1-h42ceab0_1 \n",
      "  libspatialite      conda-forge/linux-64::libspatialite-4.3.0a-h343d7df_1033 \n",
      "  libzip             conda-forge/linux-64::libzip-1.8.0-h4de3113_1 \n",
      "  mapclassify        conda-forge/noarch::mapclassify-2.4.3-pyhd8ed1ab_0 \n",
      "  munch              conda-forge/noarch::munch-2.5.0-py_0 \n",
      "  pixman             conda-forge/linux-64::pixman-0.38.0-h516909a_1003 \n",
      "  poppler            pkgs/main/linux-64::poppler-0.81.0-h01f5e8b_2 \n",
      "  poppler-data       conda-forge/noarch::poppler-data-0.4.11-hd8ed1ab_0 \n",
      "  proj               conda-forge/linux-64::proj-6.2.1-hc80f0dc_0 \n",
      "  pyproj             pkgs/main/linux-64::pyproj-2.6.1.post1-py39hb3025e9_1 \n",
      "  pyshp              conda-forge/noarch::pyshp-2.3.1-pyhd8ed1ab_0 \n",
      "  shapely            pkgs/main/linux-64::shapely-1.8.4-py39h81ba7c5_0 \n",
      "  tiledb             conda-forge/linux-64::tiledb-2.4.0-he87e0bf_2 \n",
      "  util-linux         conda-forge/linux-64::util-linux-2.36-py39h28948ff_1 \n",
      "  xerces-c           pkgs/main/linux-64::xerces-c-3.2.4-h94c2ce2_0 \n",
      "  xorg-kbproto       conda-forge/linux-64::xorg-kbproto-1.0.7-h7f98852_1002 \n",
      "  xorg-libice        conda-forge/linux-64::xorg-libice-1.0.10-h7f98852_0 \n",
      "  xorg-libsm         conda-forge/linux-64::xorg-libsm-1.2.2-h470a237_5 \n",
      "  xorg-libx11        conda-forge/linux-64::xorg-libx11-1.7.2-h7f98852_0 \n",
      "  xorg-libxext       conda-forge/linux-64::xorg-libxext-1.3.4-h7f98852_1 \n",
      "  xorg-libxrender    conda-forge/linux-64::xorg-libxrender-0.9.10-h7f98852_1003 \n",
      "  xorg-renderproto   conda-forge/linux-64::xorg-renderproto-0.11.1-h7f98852_1002 \n",
      "  xorg-xextproto     conda-forge/linux-64::xorg-xextproto-7.3.0-h7f98852_1002 \n",
      "  xorg-xproto        conda-forge/linux-64::xorg-xproto-7.0.31-h7f98852_1007 \n",
      "  xyzservices        conda-forge/noarch::xyzservices-2022.9.0-pyhd8ed1ab_0 \n",
      "\n",
      "\n",
      "\n",
      "Downloading and Extracting Packages\n",
      "poppler-0.81.0       | 9.2 MB    |                                       |   0% \n",
      "geoplot-0.3.0        | 24 KB     |                                       |   0% \u001B[A\n",
      "\n",
      "xorg-libx11-1.7.2    | 941 KB    |                                       |   0% \u001B[A\u001B[A\n",
      "\n",
      "\n",
      "xorg-libxext-1.3.4   | 54 KB     |                                       |   0% \u001B[A\u001B[A\u001B[A\n",
      "\n",
      "\n",
      "\n",
      "xyzservices-2022.9.0 | 38 KB     |                                       |   0% \u001B[A\u001B[A\u001B[A\u001B[A\n",
      "\n",
      "\n",
      "\n",
      "\n",
      "xorg-libsm-1.2.2     | 24 KB     |                                       |   0% \u001B[A\u001B[A\u001B[A\u001B[A\u001B[A\n",
      "\n",
      "\n",
      "\n",
      "\n",
      "\n",
      "pyproj-2.6.1.post1   | 407 KB    |                                       |   0% \u001B[A\u001B[A\u001B[A\u001B[A\u001B[A\u001B[A\n",
      "\n",
      "\n",
      "\n",
      "\n",
      "\n",
      "\n",
      "cairo-1.16.0         | 1.5 MB    |                                       |   0% \u001B[A\u001B[A\u001B[A\u001B[A\u001B[A\u001B[A\u001B[A\n",
      "\n",
      "\n",
      "\n",
      "\n",
      "\n",
      "\n",
      "\n",
      "xorg-kbproto-1.0.7   | 27 KB     |                                       |   0% \u001B[A\u001B[A\u001B[A\u001B[A\u001B[A\u001B[A\u001B[A\u001B[A\n",
      "\n",
      "\n",
      "\n",
      "\n",
      "\n",
      "\n",
      "\n",
      "\n",
      "cligj-0.7.2          | 10 KB     |                                       |   0% \u001B[A\u001B[A\u001B[A\u001B[A\u001B[A\u001B[A\u001B[A\u001B[A\u001B[A\n",
      "\n",
      "\n",
      "\n",
      "\n",
      "\n",
      "\n",
      "\n",
      "\n",
      "\n",
      "gdal-3.4.1           | 1.3 MB    |                                       |   0% \u001B[A\u001B[A\u001B[A\u001B[A\u001B[A\u001B[A\u001B[A\u001B[A\u001B[A\u001B[A\n",
      "\n",
      "\n",
      "\n",
      "\n",
      "\n",
      "\n",
      "\n",
      "\n",
      "\n",
      "\n",
      "kealib-1.4.14        | 186 KB    |                                       |   0% \u001B[A\u001B[A\u001B[A\u001B[A\u001B[A\u001B[A\u001B[A\u001B[A\u001B[A\u001B[A\u001B[A\n",
      "\n",
      "\n",
      "\n",
      "\n",
      "\n",
      "\n",
      "\n",
      "\n",
      "\n",
      "\n",
      "\n",
      "xorg-libice-1.0.10   | 58 KB     |                                       |   0% \u001B[A\u001B[A\u001B[A\u001B[A\u001B[A\u001B[A\u001B[A\u001B[A\u001B[A\u001B[A\u001B[A\u001B[A\n",
      "\n",
      "\n",
      "\n",
      "\n",
      "\n",
      "\n",
      "\n",
      "\n",
      "\n",
      "\n",
      "\n",
      "\n",
      "munch-2.5.0          | 12 KB     |                                       |   0% \u001B[A\u001B[A\u001B[A\u001B[A\u001B[A\u001B[A\u001B[A\u001B[A\u001B[A\u001B[A\u001B[A\u001B[A\u001B[A\n",
      "\n",
      "\n",
      "\n",
      "\n",
      "\n",
      "\n",
      "\n",
      "\n",
      "\n",
      "\n",
      "\n",
      "\n",
      "\n",
      "xorg-libxrender-0.9. | 32 KB     |                                       |   0% \u001B[A\u001B[A\u001B[A\u001B[A\u001B[A\u001B[A\u001B[A\u001B[A\u001B[A\u001B[A\u001B[A\u001B[A\u001B[A\u001B[A\n",
      "\n",
      "\n",
      "\n",
      "\n",
      "\n",
      "\n",
      "\n",
      "\n",
      "\n",
      "\n",
      "\n",
      "\n",
      "\n",
      "\n",
      "tiledb-2.4.0         | 4.3 MB    |                                       |   0% \u001B[A\u001B[A\u001B[A\u001B[A\u001B[A\u001B[A\u001B[A\u001B[A\u001B[A\u001B[A\u001B[A\u001B[A\u001B[A\u001B[A\u001B[A\n",
      "\n",
      "\n",
      "\n",
      "\n",
      "\n",
      "\n",
      "\n",
      "\n",
      "\n",
      "\n",
      "\n",
      "\n",
      "\n",
      "\n",
      "\n",
      "shapely-1.8.4        | 345 KB    |                                       |   0% \u001B[A\u001B[A\u001B[A\u001B[A\u001B[A\u001B[A\u001B[A\u001B[A\u001B[A\u001B[A\u001B[A\u001B[A\u001B[A\u001B[A\u001B[A\u001B[A\n",
      "\n",
      "\n",
      "\n",
      "\n",
      "\n",
      "\n",
      "\n",
      "\n",
      "\n",
      "\n",
      "\n",
      "\n",
      "\n",
      "\n",
      "\n",
      "\n",
      "geopandas-0.12.2     | 7 KB      |                                       |   0% \u001B[A\u001B[A\u001B[A\u001B[A\u001B[A\u001B[A\u001B[A\u001B[A\u001B[A\u001B[A\u001B[A\u001B[A\u001B[A\u001B[A\u001B[A\u001B[A\u001B[A\n",
      "\n",
      "\n",
      "\n",
      "\n",
      "\n",
      "\n",
      "\n",
      "\n",
      "\n",
      "\n",
      "\n",
      "\n",
      "\n",
      "\n",
      "\n",
      "\n",
      "\n",
      "libdap4-3.19.1       | 15.6 MB   |                                       |   0% \u001B[A\u001B[A\u001B[A\u001B[A\u001B[A\u001B[A\u001B[A\u001B[A\u001B[A\u001B[A\u001B[A\u001B[A\u001B[A\u001B[A\u001B[A\u001B[A\u001B[A\u001B[A\n",
      "\n",
      "\n",
      "\n",
      "\n",
      "\n",
      "\n",
      "\n",
      "\n",
      "\n",
      "\n",
      "\n",
      "\n",
      "\n",
      "\n",
      "\n",
      "\n",
      "\n",
      "\n",
      "libkml-1.3.0         | 643 KB    |                                       |   0% \u001B[A\u001B[A\u001B[A\u001B[A\u001B[A\u001B[A\u001B[A\u001B[A\u001B[A\u001B[A\u001B[A\u001B[A\u001B[A\u001B[A\u001B[A\u001B[A\u001B[A\u001B[A\u001B[A\n",
      "\n",
      "\n",
      "\n",
      "\n",
      "\n",
      "\n",
      "\n",
      "\n",
      "\n",
      "\n",
      "\n",
      "\n",
      "\n",
      "\n",
      "\n",
      "\n",
      "\n",
      "\n",
      "\n",
      "click-plugins-1.1.1  | 9 KB      |                                       |   0% \u001B[A\u001B[A\u001B[A\u001B[A\u001B[A\u001B[A\u001B[A\u001B[A\u001B[A\u001B[A\u001B[A\u001B[A\u001B[A\u001B[A\u001B[A\u001B[A\u001B[A\u001B[A\u001B[A\u001B[A\n",
      "\n",
      "\n",
      "\n",
      "\n",
      "\n",
      "\n",
      "\n",
      "\n",
      "\n",
      "\n",
      "\n",
      "\n",
      "\n",
      "\n",
      "\n",
      "\n",
      "\n",
      "\n",
      "\n",
      "\n",
      "branca-0.6.0         | 27 KB     |                                       |   0% \u001B[A\u001B[A\u001B[A\u001B[A\u001B[A\u001B[A\u001B[A\u001B[A\u001B[A\u001B[A\u001B[A\u001B[A\u001B[A\u001B[A\u001B[A\u001B[A\u001B[A\u001B[A\u001B[A\u001B[A\u001B[A\n",
      "\n",
      "\n",
      "\n",
      "\n",
      "\n",
      "\n",
      "\n",
      "\n",
      "\n",
      "\n",
      "\n",
      "\n",
      "\n",
      "\n",
      "\n",
      "\n",
      "\n",
      "\n",
      "\n",
      "\n",
      "\n",
      "folium-0.14.0        | 71 KB     |                                       |   0% \u001B[A\u001B[A\u001B[A\u001B[A\u001B[A\u001B[A\u001B[A\u001B[A\u001B[A\u001B[A\u001B[A\u001B[A\u001B[A\u001B[A\u001B[A\u001B[A\u001B[A\u001B[A\u001B[A\u001B[A\u001B[A\u001B[A\n",
      "\n",
      "\n",
      "\n",
      "\n",
      "\n",
      "\n",
      "\n",
      "\n",
      "\n",
      "\n",
      "\n",
      "\n",
      "\n",
      "\n",
      "\n",
      "\n",
      "\n",
      "\n",
      "\n",
      "\n",
      "\n",
      "\n",
      "poppler-0.81.0       | 9.2 MB    |                                       |   0% [A\u001B[A\u001B[A\u001B[A\n",
      "\n",
      "\n",
      "\n",
      "xyzservices-2022.9.0 | 38 KB     | ###############5                      |  42% \u001B[A\u001B[A\u001B[A\u001B[A\n",
      "geoplot-0.3.0        | 24 KB     | ########################3             |  66% \u001B[A\n",
      "geoplot-0.3.0        | 24 KB     | ##################################### | 100% \u001B[A\n",
      "\n",
      "\n",
      "xorg-libxext-1.3.4   | 54 KB     | ###########                           |  30% \u001B[A\u001B[A\u001B[A\n",
      "\n",
      "poppler-0.81.0       | 9.2 MB    | #7                                    |   5% \u001B[A\u001B[A\n",
      "\n",
      "\n",
      "\n",
      "xyzservices-2022.9.0 | 38 KB     | ##################################### | 100% \u001B[A\u001B[A\u001B[A\u001B[A\n",
      "\n",
      "\n",
      "xorg-libxext-1.3.4   | 54 KB     | ##################################### | 100% \u001B[A\u001B[A\u001B[A\n",
      "\n",
      "poppler-0.81.0       | 9.2 MB    | ######                                |  16% \u001B[A\u001B[A\n",
      "\n",
      "poppler-0.81.0       | 9.2 MB    | ########3                             |  22% \u001B[A\u001B[A\n",
      "\n",
      "xorg-libx11-1.7.2    | 941 KB    | ###########################           |  73% \u001B[A\u001B[A\n",
      "\n",
      "\n",
      "\n",
      "\n",
      "xorg-libsm-1.2.2     | 24 KB     | ########################4             |  66% \u001B[A\u001B[A\u001B[A\u001B[A\u001B[A\n",
      "\n",
      "\n",
      "\n",
      "\n",
      "xorg-libsm-1.2.2     | 24 KB     | ##################################### | 100% \u001B[A\u001B[A\u001B[A\u001B[A\u001B[A\n",
      "\n",
      "\n",
      "\n",
      "\n",
      "\n",
      "\n",
      "poppler-0.81.0       | 9.2 MB    | ##########8                           |  29% \u001B[A\u001B[A\u001B[A\u001B[A\u001B[A\u001B[A\u001B[A\n",
      "\n",
      "xorg-libx11-1.7.2    | 941 KB    | ####################################4 |  99% \u001B[A\u001B[A\n",
      "\n",
      "\n",
      "\n",
      "\n",
      "\n",
      "\n",
      "cairo-1.16.0         | 1.5 MB    | ###9                                  |  11% \u001B[A\u001B[A\u001B[A\u001B[A\u001B[A\u001B[A\u001B[A\n",
      "\n",
      "poppler-0.81.0       | 9.2 MB    | ############9                         |  35% \u001B[A\u001B[A\n",
      "\n",
      "\n",
      "\n",
      "\n",
      "\n",
      "\n",
      "\n",
      "xorg-kbproto-1.0.7   | 27 KB     | ######################1               |  60% \u001B[A\u001B[A\u001B[A\u001B[A\u001B[A\u001B[A\u001B[A\u001B[A\n",
      "\n",
      "\n",
      "\n",
      "\n",
      "\n",
      "pyproj-2.6.1.post1   | 407 KB    | #4                                    |   4% \u001B[A\u001B[A\u001B[A\u001B[A\u001B[A\u001B[A\n",
      "\n",
      "\n",
      "\n",
      "\n",
      "\n",
      "\n",
      "\n",
      "xorg-kbproto-1.0.7   | 27 KB     | ##################################### | 100% \u001B[A\u001B[A\u001B[A\u001B[A\u001B[A\u001B[A\u001B[A\u001B[A\n",
      "\n",
      "\n",
      "\n",
      "\n",
      "\n",
      "\n",
      "\n",
      "\n",
      "cligj-0.7.2          | 10 KB     | ##################################### | 100% \u001B[A\u001B[A\u001B[A\u001B[A\u001B[A\u001B[A\u001B[A\u001B[A\u001B[A\n",
      "\n",
      "\n",
      "\n",
      "\n",
      "\n",
      "\n",
      "\n",
      "\n",
      "cligj-0.7.2          | 10 KB     | ##################################### | 100% \u001B[A\u001B[A\u001B[A\u001B[A\u001B[A\u001B[A\u001B[A\u001B[A\u001B[A\n",
      "\n",
      "\n",
      "\n",
      "\n",
      "\n",
      "\n",
      "poppler-0.81.0       | 9.2 MB    | ###########################1          |  73% \u001B[A\u001B[A\u001B[A\u001B[A\u001B[A\u001B[A\u001B[A\n",
      "\n",
      "\n",
      "\n",
      "\n",
      "\n",
      "poppler-0.81.0       | 9.2 MB    | ###############################       |  84% \u001B[A\u001B[A\u001B[A\u001B[A\u001B[A\u001B[A\n",
      "\n",
      "\n",
      "\n",
      "\n",
      "\n",
      "poppler-0.81.0       | 9.2 MB    | ###################################4  |  96% \u001B[A\u001B[A\u001B[A\u001B[A\u001B[A\u001B[A\n",
      "\n",
      "\n",
      "\n",
      "\n",
      "\n",
      "\n",
      "\n",
      "\n",
      "\n",
      "gdal-3.4.1           | 1.3 MB    | 4                                     |   1% \u001B[A\u001B[A\u001B[A\u001B[A\u001B[A\u001B[A\u001B[A\u001B[A\u001B[A\u001B[A\n",
      "\n",
      "\n",
      "\n",
      "\n",
      "\n",
      "\n",
      "\n",
      "\n",
      "\n",
      "\n",
      "kealib-1.4.14        | 186 KB    | ###1                                  |   9% \u001B[A\u001B[A\u001B[A\u001B[A\u001B[A\u001B[A\u001B[A\u001B[A\u001B[A\u001B[A\u001B[A\n",
      "\n",
      "\n",
      "\n",
      "\n",
      "\n",
      "pyproj-2.6.1.post1   | 407 KB    | ####################3                 |  55% \u001B[A\u001B[A\u001B[A\u001B[A\u001B[A\u001B[A\n",
      "\n",
      "\n",
      "\n",
      "\n",
      "\n",
      "\n",
      "cairo-1.16.0         | 1.5 MB    | ################################5     |  88% \u001B[A\u001B[A\u001B[A\u001B[A\u001B[A\u001B[A\u001B[A\n",
      "\n",
      "\n",
      "\n",
      "\n",
      "\n",
      "\n",
      "\n",
      "\n",
      "\n",
      "gdal-3.4.1           | 1.3 MB    | ##7                                   |   7% \u001B[A\u001B[A\u001B[A\u001B[A\u001B[A\u001B[A\u001B[A\u001B[A\u001B[A\u001B[A\n",
      "\n",
      "\n",
      "\n",
      "\n",
      "\n",
      "\n",
      "\n",
      "\n",
      "\n",
      "\n",
      "kealib-1.4.14        | 186 KB    | ############7                         |  34% \u001B[A\u001B[A\u001B[A\u001B[A\u001B[A\u001B[A\u001B[A\u001B[A\u001B[A\u001B[A\u001B[A\n",
      "\n",
      "\n",
      "\n",
      "\n",
      "\n",
      "\n",
      "\n",
      "\n",
      "\n",
      "gdal-3.4.1           | 1.3 MB    | ##########8                           |  29% \u001B[A\u001B[A\u001B[A\u001B[A\u001B[A\u001B[A\u001B[A\u001B[A\u001B[A\u001B[A\n",
      "\n",
      "\n",
      "\n",
      "\n",
      "\n",
      "\n",
      "\n",
      "\n",
      "\n",
      "\n",
      "kealib-1.4.14        | 186 KB    | #########################4            |  69% \u001B[A\u001B[A\u001B[A\u001B[A\u001B[A\u001B[A\u001B[A\u001B[A\u001B[A\u001B[A\u001B[A\n",
      "\n",
      "\n",
      "\n",
      "\n",
      "\n",
      "\n",
      "\n",
      "\n",
      "\n",
      "\n",
      "\n",
      "\n",
      "munch-2.5.0          | 12 KB     | ##################################### | 100% \u001B[A\u001B[A\u001B[A\u001B[A\u001B[A\u001B[A\u001B[A\u001B[A\u001B[A\u001B[A\u001B[A\u001B[A\u001B[A\n",
      "\n",
      "\n",
      "\n",
      "\n",
      "\n",
      "\n",
      "\n",
      "\n",
      "\n",
      "gdal-3.4.1           | 1.3 MB    | ###############4                      |  42% \u001B[A\u001B[A\u001B[A\u001B[A\u001B[A\u001B[A\u001B[A\u001B[A\u001B[A\u001B[A\n",
      "\n",
      "\n",
      "\n",
      "\n",
      "\n",
      "\n",
      "\n",
      "\n",
      "\n",
      "\n",
      "\n",
      "xorg-libice-1.0.10   | 58 KB     | ##########2                           |  28% \u001B[A\u001B[A\u001B[A\u001B[A\u001B[A\u001B[A\u001B[A\u001B[A\u001B[A\u001B[A\u001B[A\u001B[A\n",
      "\n",
      "\n",
      "\n",
      "\n",
      "\n",
      "\n",
      "\n",
      "\n",
      "\n",
      "\n",
      "\n",
      "\n",
      "\n",
      "poppler-0.81.0       | 9.2 MB    | ##################################### | 100% \u001B[A\u001B[A\u001B[A\u001B[A\u001B[A\u001B[A\u001B[A\u001B[A\u001B[A\u001B[A\u001B[A\u001B[A\u001B[A\u001B[A\n",
      "\n",
      "\n",
      "\n",
      "\n",
      "\n",
      "\n",
      "\n",
      "\n",
      "\n",
      "\n",
      "\n",
      "\n",
      "\n",
      "\n",
      "tiledb-2.4.0         | 4.3 MB    | 1                                     |   0% \u001B[A\u001B[A\u001B[A\u001B[A\u001B[A\u001B[A\u001B[A\u001B[A\u001B[A\u001B[A\u001B[A\u001B[A\u001B[A\u001B[A\u001B[A\n",
      "\n",
      "\n",
      "\n",
      "\n",
      "\n",
      "\n",
      "\n",
      "\n",
      "\n",
      "\n",
      "\n",
      "\n",
      "\n",
      "\n",
      "\n",
      "\n",
      "geopandas-0.12.2     | 7 KB      | ##################################### | 100% \u001B[A\u001B[A\u001B[A\u001B[A\u001B[A\u001B[A\u001B[A\u001B[A\u001B[A\u001B[A\u001B[A\u001B[A\u001B[A\u001B[A\u001B[A\u001B[A\u001B[A\n",
      "\n",
      "\n",
      "\n",
      "\n",
      "\n",
      "\n",
      "cairo-1.16.0         | 1.5 MB    | ##################################### | 100% \u001B[A\u001B[A\u001B[A\u001B[A\u001B[A\u001B[A\u001B[A\n",
      "\n",
      "\n",
      "\n",
      "\n",
      "\n",
      "\n",
      "\n",
      "\n",
      "\n",
      "\n",
      "\n",
      "\n",
      "\n",
      "\n",
      "\n",
      "\n",
      "\n",
      "\n",
      "libkml-1.3.0         | 643 KB    | 9                                     |   2% \u001B[A\u001B[A\u001B[A\u001B[A\u001B[A\u001B[A\u001B[A\u001B[A\u001B[A\u001B[A\u001B[A\u001B[A\u001B[A\u001B[A\u001B[A\u001B[A\u001B[A\u001B[A\u001B[A\n",
      "\n",
      "\n",
      "\n",
      "\n",
      "\n",
      "\n",
      "\n",
      "\n",
      "\n",
      "\n",
      "\n",
      "\n",
      "\n",
      "\n",
      "\n",
      "\n",
      "\n",
      "libdap4-3.19.1       | 15.6 MB   |                                       |   0% \u001B[A\u001B[A\u001B[A\u001B[A\u001B[A\u001B[A\u001B[A\u001B[A\u001B[A\u001B[A\u001B[A\u001B[A\u001B[A\u001B[A\u001B[A\u001B[A\u001B[A\u001B[A\n",
      "\n",
      "\n",
      "\n",
      "\n",
      "\n",
      "\n",
      "\n",
      "\n",
      "\n",
      "\n",
      "\n",
      "\n",
      "\n",
      "\n",
      "\n",
      "shapely-1.8.4        | 345 KB    | #7                                    |   5% \u001B[A\u001B[A\u001B[A\u001B[A\u001B[A\u001B[A\u001B[A\u001B[A\u001B[A\u001B[A\u001B[A\u001B[A\u001B[A\u001B[A\u001B[A\u001B[A\n",
      "\n",
      "\n",
      "\n",
      "\n",
      "\n",
      "\n",
      "\n",
      "\n",
      "\n",
      "\n",
      "\n",
      "\n",
      "\n",
      "\n",
      "\n",
      "\n",
      "\n",
      "libdap4-3.19.1       | 15.6 MB   | #4                                    |   4% \u001B[A\u001B[A\u001B[A\u001B[A\u001B[A\u001B[A\u001B[A\u001B[A\u001B[A\u001B[A\u001B[A\u001B[A\u001B[A\u001B[A\u001B[A\u001B[A\u001B[A\u001B[A\n",
      "\n",
      "\n",
      "\n",
      "\n",
      "\n",
      "\n",
      "\n",
      "\n",
      "\n",
      "\n",
      "\n",
      "\n",
      "\n",
      "\n",
      "\n",
      "shapely-1.8.4        | 345 KB    | ##################8                   |  51% \u001B[A\u001B[A\u001B[A\u001B[A\u001B[A\u001B[A\u001B[A\u001B[A\u001B[A\u001B[A\u001B[A\u001B[A\u001B[A\u001B[A\u001B[A\u001B[A\n",
      "\n",
      "\n",
      "\n",
      "\n",
      "\n",
      "\n",
      "\n",
      "\n",
      "\n",
      "\n",
      "\n",
      "\n",
      "\n",
      "\n",
      "tiledb-2.4.0         | 4.3 MB    | ########6                             |  23% \u001B[A\u001B[A\u001B[A\u001B[A\u001B[A\u001B[A\u001B[A\u001B[A\u001B[A\u001B[A\u001B[A\u001B[A\u001B[A\u001B[A\u001B[A\n",
      "\n",
      "\n",
      "\n",
      "\n",
      "\n",
      "\n",
      "\n",
      "\n",
      "\n",
      "\n",
      "\n",
      "\n",
      "\n",
      "\n",
      "\n",
      "\n",
      "\n",
      "\n",
      "libkml-1.3.0         | 643 KB    | ##################4                   |  50% \u001B[A\u001B[A\u001B[A\u001B[A\u001B[A\u001B[A\u001B[A\u001B[A\u001B[A\u001B[A\u001B[A\u001B[A\u001B[A\u001B[A\u001B[A\u001B[A\u001B[A\u001B[A\u001B[A\n",
      "\n",
      "\n",
      "\n",
      "\n",
      "\n",
      "\n",
      "\n",
      "\n",
      "\n",
      "\n",
      "\n",
      "\n",
      "\n",
      "\n",
      "\n",
      "\n",
      "\n",
      "libdap4-3.19.1       | 15.6 MB   | ##2                                   |   6% \u001B[A\u001B[A\u001B[A\u001B[A\u001B[A\u001B[A\u001B[A\u001B[A\u001B[A\u001B[A\u001B[A\u001B[A\u001B[A\u001B[A\u001B[A\u001B[A\u001B[A\u001B[A\n",
      "\n",
      "\n",
      "\n",
      "\n",
      "\n",
      "\n",
      "\n",
      "\n",
      "\n",
      "\n",
      "\n",
      "\n",
      "\n",
      "\n",
      "\n",
      "\n",
      "\n",
      "\n",
      "libkml-1.3.0         | 643 KB    | ############################5         |  77% \u001B[A\u001B[A\u001B[A\u001B[A\u001B[A\u001B[A\u001B[A\u001B[A\u001B[A\u001B[A\u001B[A\u001B[A\u001B[A\u001B[A\u001B[A\u001B[A\u001B[A\u001B[A\u001B[A\n",
      "\n",
      "\n",
      "\n",
      "\n",
      "\n",
      "\n",
      "\n",
      "\n",
      "\n",
      "\n",
      "\n",
      "\n",
      "\n",
      "\n",
      "tiledb-2.4.0         | 4.3 MB    | #############1                        |  36% \u001B[A\u001B[A\u001B[A\u001B[A\u001B[A\u001B[A\u001B[A\u001B[A\u001B[A\u001B[A\u001B[A\u001B[A\u001B[A\u001B[A\u001B[A\n",
      "\n",
      "\n",
      "\n",
      "\n",
      "\n",
      "\n",
      "\n",
      "\n",
      "\n",
      "\n",
      "\n",
      "\n",
      "\n",
      "\n",
      "\n",
      "\n",
      "\n",
      "\n",
      "\n",
      "click-plugins-1.1.1  | 9 KB      | ##################################### | 100% \u001B[A\u001B[A\u001B[A\u001B[A\u001B[A\u001B[A\u001B[A\u001B[A\u001B[A\u001B[A\u001B[A\u001B[A\u001B[A\u001B[A\u001B[A\u001B[A\u001B[A\u001B[A\u001B[A\u001B[A\n",
      "\n",
      "\n",
      "\n",
      "\n",
      "\n",
      "\n",
      "\n",
      "\n",
      "\n",
      "\n",
      "\n",
      "\n",
      "\n",
      "\n",
      "\n",
      "\n",
      "\n",
      "libdap4-3.19.1       | 15.6 MB   | ###                                   |   8% \u001B[A\u001B[A\u001B[A\u001B[A\u001B[A\u001B[A\u001B[A\u001B[A\u001B[A\u001B[A\u001B[A\u001B[A\u001B[A\u001B[A\u001B[A\u001B[A\u001B[A\u001B[A\n",
      "\n",
      "\n",
      "\n",
      "\n",
      "\n",
      "\n",
      "\n",
      "\n",
      "\n",
      "\n",
      "\n",
      "\n",
      "\n",
      "\n",
      "tiledb-2.4.0         | 4.3 MB    | ##################1                   |  49% \u001B[A\u001B[A\u001B[A\u001B[A\u001B[A\u001B[A\u001B[A\u001B[A\u001B[A\u001B[A\u001B[A\u001B[A\u001B[A\u001B[A\u001B[A\n",
      "\n",
      "\n",
      "\n",
      "\n",
      "\n",
      "\n",
      "\n",
      "\n",
      "\n",
      "\n",
      "\n",
      "\n",
      "\n",
      "\n",
      "\n",
      "\n",
      "\n",
      "libdap4-3.19.1       | 15.6 MB   | ####2                                 |  12% \u001B[A\u001B[A\u001B[A\u001B[A\u001B[A\u001B[A\u001B[A\u001B[A\u001B[A\u001B[A\u001B[A\u001B[A\u001B[A\u001B[A\u001B[A\u001B[A\u001B[A\u001B[A\n",
      "\n",
      "\n",
      "\n",
      "\n",
      "\n",
      "\n",
      "\n",
      "\n",
      "\n",
      "\n",
      "\n",
      "\n",
      "\n",
      "\n",
      "tiledb-2.4.0         | 4.3 MB    | #######################               |  62% \u001B[A\u001B[A\u001B[A\u001B[A\u001B[A\u001B[A\u001B[A\u001B[A\u001B[A\u001B[A\u001B[A\u001B[A\u001B[A\u001B[A\u001B[A\n",
      "\n",
      "\n",
      "\n",
      "\n",
      "\n",
      "pyproj-2.6.1.post1   | 407 KB    | ##################################### | 100% \u001B[A\u001B[A\u001B[A\u001B[A\u001B[A\u001B[A\n",
      "\n",
      "\n",
      "\n",
      "\n",
      "\n",
      "\n",
      "\n",
      "\n",
      "\n",
      "\n",
      "\n",
      "\n",
      "\n",
      "\n",
      "\n",
      "\n",
      "\n",
      "\n",
      "\n",
      "\n",
      "branca-0.6.0         | 27 KB     | #####################7                |  59% \u001B[A\u001B[A\u001B[A\u001B[A\u001B[A\u001B[A\u001B[A\u001B[A\u001B[A\u001B[A\u001B[A\u001B[A\u001B[A\u001B[A\u001B[A\u001B[A\u001B[A\u001B[A\u001B[A\u001B[A\u001B[A\n",
      "\n",
      "\n",
      "\n",
      "\n",
      "\n",
      "pyproj-2.6.1.post1   | 407 KB    | ##################################### | 100% \u001B[A\u001B[A\u001B[A\u001B[A\u001B[A\u001B[A\n",
      "\n",
      "\n",
      "\n",
      "\n",
      "\n",
      "\n",
      "\n",
      "\n",
      "\n",
      "\n",
      "\n",
      "\n",
      "munch-2.5.0          | 12 KB     | ##################################### | 100% \u001B[A\u001B[A\u001B[A\u001B[A\u001B[A\u001B[A\u001B[A\u001B[A\u001B[A\u001B[A\u001B[A\u001B[A\u001B[A\n",
      "\n",
      "\n",
      "\n",
      "\n",
      "\n",
      "\n",
      "\n",
      "\n",
      "\n",
      "\n",
      "kealib-1.4.14        | 186 KB    | ##################################### | 100% \u001B[A\u001B[A\u001B[A\u001B[A\u001B[A\u001B[A\u001B[A\u001B[A\u001B[A\u001B[A\u001B[A\n",
      "\n",
      "\n",
      "\n",
      "\n",
      "\n",
      "\n",
      "\n",
      "\n",
      "\n",
      "\n",
      "kealib-1.4.14        | 186 KB    | ##################################### | 100% \u001B[A\u001B[A\u001B[A\u001B[A\u001B[A\u001B[A\u001B[A\u001B[A\u001B[A\u001B[A\u001B[A\n",
      "\n",
      "\n",
      "\n",
      "\n",
      "\n",
      "\n",
      "\n",
      "\n",
      "\n",
      "\n",
      "\n",
      "xorg-libice-1.0.10   | 58 KB     | ##################################### | 100% \u001B[A\u001B[A\u001B[A\u001B[A\u001B[A\u001B[A\u001B[A\u001B[A\u001B[A\u001B[A\u001B[A\u001B[A\n",
      "\n",
      "\n",
      "\n",
      "\n",
      "\n",
      "\n",
      "\n",
      "\n",
      "\n",
      "\n",
      "\n",
      "xorg-libice-1.0.10   | 58 KB     | ##################################### | 100% \u001B[A\u001B[A\u001B[A\u001B[A\u001B[A\u001B[A\u001B[A\u001B[A\u001B[A\u001B[A\u001B[A\u001B[A\n",
      "\n",
      "\n",
      "\n",
      "\n",
      "\n",
      "\n",
      "\n",
      "\n",
      "\n",
      "\n",
      "\n",
      "\n",
      "\n",
      "\n",
      "\n",
      "\n",
      "\n",
      "libdap4-3.19.1       | 15.6 MB   | #####1                                |  14% \u001B[A\u001B[A\u001B[A\u001B[A\u001B[A\u001B[A\u001B[A\u001B[A\u001B[A\u001B[A\u001B[A\u001B[A\u001B[A\u001B[A\u001B[A\u001B[A\u001B[A\u001B[A\n",
      "\n",
      "\n",
      "\n",
      "\n",
      "\n",
      "\n",
      "\n",
      "\n",
      "\n",
      "\n",
      "\n",
      "\n",
      "\n",
      "xorg-libxrender-0.9. | 32 KB     | ##################################### | 100% \u001B[A\u001B[A\u001B[A\u001B[A\u001B[A\u001B[A\u001B[A\u001B[A\u001B[A\u001B[A\u001B[A\u001B[A\u001B[A\u001B[A\n",
      "\n",
      "\n",
      "\n",
      "\n",
      "\n",
      "\n",
      "\n",
      "\n",
      "\n",
      "\n",
      "\n",
      "\n",
      "\n",
      "xorg-libxrender-0.9. | 32 KB     | ##################################### | 100% \u001B[A\u001B[A\u001B[A\u001B[A\u001B[A\u001B[A\u001B[A\u001B[A\u001B[A\u001B[A\u001B[A\u001B[A\u001B[A\u001B[A\n",
      "\n",
      "\n",
      "\n",
      "\n",
      "\n",
      "\n",
      "\n",
      "\n",
      "\n",
      "\n",
      "\n",
      "\n",
      "\n",
      "\n",
      "tiledb-2.4.0         | 4.3 MB    | ###########################4          |  74% \u001B[A\u001B[A\u001B[A\u001B[A\u001B[A\u001B[A\u001B[A\u001B[A\u001B[A\u001B[A\u001B[A\u001B[A\u001B[A\u001B[A\u001B[A\n",
      "\n",
      "\n",
      "\n",
      "\n",
      "\n",
      "\n",
      "\n",
      "\n",
      "\n",
      "\n",
      "\n",
      "\n",
      "\n",
      "\n",
      "\n",
      "\n",
      "\n",
      "libdap4-3.19.1       | 15.6 MB   | #####9                                |  16% \u001B[A\u001B[A\u001B[A\u001B[A\u001B[A\u001B[A\u001B[A\u001B[A\u001B[A\u001B[A\u001B[A\u001B[A\u001B[A\u001B[A\u001B[A\u001B[A\u001B[A\u001B[A\n",
      "\n",
      "\n",
      "\n",
      "\n",
      "\n",
      "\n",
      "\n",
      "\n",
      "\n",
      "\n",
      "\n",
      "\n",
      "\n",
      "\n",
      "tiledb-2.4.0         | 4.3 MB    | ###############################6      |  86% \u001B[A\u001B[A\u001B[A\u001B[A\u001B[A\u001B[A\u001B[A\u001B[A\u001B[A\u001B[A\u001B[A\u001B[A\u001B[A\u001B[A\u001B[A\n",
      "\n",
      "\n",
      "\n",
      "\n",
      "\n",
      "\n",
      "\n",
      "\n",
      "\n",
      "\n",
      "\n",
      "\n",
      "\n",
      "\n",
      "\n",
      "\n",
      "\n",
      "\n",
      "\n",
      "\n",
      "\n",
      "\n",
      " ... (more hidden) ...\u001B[A\u001B[A\u001B[A\u001B[A\u001B[A\u001B[A\u001B[A\u001B[A\u001B[A\u001B[A\u001B[A\u001B[A\u001B[A\u001B[A\u001B[A\u001B[A\u001B[A\u001B[A\u001B[A\u001B[A\u001B[A\u001B[A\u001B[A\n",
      "\n",
      "\n",
      "\n",
      "\n",
      "\n",
      "\n",
      "\n",
      "\n",
      "\n",
      "\n",
      "\n",
      "\n",
      "\n",
      "\n",
      "\n",
      "\n",
      "\n",
      "\n",
      "\n",
      "\n",
      "\n",
      "folium-0.14.0        | 71 KB     | ########3                             |  22% \u001B[A\u001B[A\u001B[A\u001B[A\u001B[A\u001B[A\u001B[A\u001B[A\u001B[A\u001B[A\u001B[A\u001B[A\u001B[A\u001B[A\u001B[A\u001B[A\u001B[A\u001B[A\u001B[A\u001B[A\u001B[A\u001B[A\n",
      "\n",
      "\n",
      "\n",
      "\n",
      "\n",
      "\n",
      "\n",
      "\n",
      "\n",
      "\n",
      "\n",
      "\n",
      "\n",
      "\n",
      "\n",
      "\n",
      "\n",
      "libdap4-3.19.1       | 15.6 MB   | #######6                              |  21% \u001B[A\u001B[A\u001B[A\u001B[A\u001B[A\u001B[A\u001B[A\u001B[A\u001B[A\u001B[A\u001B[A\u001B[A\u001B[A\u001B[A\u001B[A\u001B[A\u001B[A\u001B[A\n",
      "\n",
      "\n",
      "\n",
      "\n",
      "\n",
      "\n",
      "\n",
      "\n",
      "\n",
      "\n",
      "\n",
      "\n",
      "\n",
      "\n",
      "\n",
      "\n",
      "\n",
      "\n",
      "\n",
      "\n",
      "\n",
      "\n",
      " ... (more hidden) ...\u001B[A\u001B[A\u001B[A\u001B[A\u001B[A\u001B[A\u001B[A\u001B[A\u001B[A\u001B[A\u001B[A\u001B[A\u001B[A\u001B[A\u001B[A\u001B[A\u001B[A\u001B[A\u001B[A\u001B[A\u001B[A\u001B[A\u001B[A\n",
      "\n",
      "\n",
      "\n",
      "\n",
      "\n",
      "\n",
      "\n",
      "\n",
      "\n",
      "\n",
      "\n",
      "\n",
      "\n",
      "\n",
      "\n",
      "\n",
      "\n",
      "libdap4-3.19.1       | 15.6 MB   | ########7                             |  24% \u001B[A\u001B[A\u001B[A\u001B[A\u001B[A\u001B[A\u001B[A\u001B[A\u001B[A\u001B[A\u001B[A\u001B[A\u001B[A\u001B[A\u001B[A\u001B[A\u001B[A\u001B[A\n",
      "\n",
      "\n",
      "\n",
      "\n",
      "\n",
      "\n",
      "\n",
      "\n",
      "\n",
      "\n",
      "\n",
      "\n",
      "\n",
      "\n",
      "\n",
      "\n",
      "\n",
      "\n",
      "\n",
      "\n",
      "\n",
      "\n",
      " ... (more hidden) ...\u001B[A\u001B[A\u001B[A\u001B[A\u001B[A\u001B[A\u001B[A\u001B[A\u001B[A\u001B[A\u001B[A\u001B[A\u001B[A\u001B[A\u001B[A\u001B[A\u001B[A\u001B[A\u001B[A\u001B[A\u001B[A\u001B[A\u001B[A\n",
      "\n",
      "\n",
      "\n",
      "\n",
      "\n",
      "\n",
      "\n",
      "\n",
      "\n",
      "\n",
      "\n",
      "\n",
      "\n",
      "\n",
      "\n",
      "\n",
      "\n",
      "\n",
      "\n",
      "\n",
      "\n",
      "\n",
      " ... (more hidden) ...\u001B[A\u001B[A\u001B[A\u001B[A\u001B[A\u001B[A\u001B[A\u001B[A\u001B[A\u001B[A\u001B[A\u001B[A\u001B[A\u001B[A\u001B[A\u001B[A\u001B[A\u001B[A\u001B[A\u001B[A\u001B[A\u001B[A\u001B[A\n",
      "\n",
      "\n",
      "\n",
      "\n",
      "\n",
      "\n",
      "\n",
      "\n",
      "\n",
      "\n",
      "\n",
      "\n",
      "\n",
      "\n",
      "\n",
      "\n",
      "\n",
      "libdap4-3.19.1       | 15.6 MB   | #########9                            |  27% \u001B[A\u001B[A\u001B[A\u001B[A\u001B[A\u001B[A\u001B[A\u001B[A\u001B[A\u001B[A\u001B[A\u001B[A\u001B[A\u001B[A\u001B[A\u001B[A\u001B[A\u001B[A\n",
      "\n",
      "\n",
      "\n",
      "\n",
      "\n",
      "\n",
      "\n",
      "\n",
      "\n",
      "\n",
      "\n",
      "\n",
      "\n",
      "\n",
      "\n",
      "\n",
      "\n",
      "libdap4-3.19.1       | 15.6 MB   | #############6                        |  37% \u001B[A\u001B[A\u001B[A\u001B[A\u001B[A\u001B[A\u001B[A\u001B[A\u001B[A\u001B[A\u001B[A\u001B[A\u001B[A\u001B[A\u001B[A\u001B[A\u001B[A\u001B[A\n",
      "\n",
      "\n",
      "\n",
      "\n",
      "\n",
      "\n",
      "\n",
      "\n",
      "\n",
      "gdal-3.4.1           | 1.3 MB    | ##################################### | 100% \u001B[A\u001B[A\u001B[A\u001B[A\u001B[A\u001B[A\u001B[A\u001B[A\u001B[A\u001B[A\n",
      "\n",
      "\n",
      "\n",
      "\n",
      "\n",
      "\n",
      "\n",
      "\n",
      "\n",
      "gdal-3.4.1           | 1.3 MB    | ##################################### | 100% \u001B[A\u001B[A\u001B[A\u001B[A\u001B[A\u001B[A\u001B[A\u001B[A\u001B[A\u001B[A\n",
      "\n",
      "\n",
      "\n",
      "\n",
      "\n",
      "\n",
      "\n",
      "\n",
      "\n",
      "\n",
      "\n",
      "\n",
      "\n",
      "\n",
      "\n",
      "\n",
      "\n",
      "libdap4-3.19.1       | 15.6 MB   | ###############4                      |  42% \u001B[A\u001B[A\u001B[A\u001B[A\u001B[A\u001B[A\u001B[A\u001B[A\u001B[A\u001B[A\u001B[A\u001B[A\u001B[A\u001B[A\u001B[A\u001B[A\u001B[A\u001B[A\n",
      "\n",
      "\n",
      "\n",
      "\n",
      "\n",
      "\n",
      "\n",
      "\n",
      "\n",
      "\n",
      "\n",
      "\n",
      "\n",
      "\n",
      "\n",
      "\n",
      "\n",
      "libdap4-3.19.1       | 15.6 MB   | ###################3                  |  52% \u001B[A\u001B[A\u001B[A\u001B[A\u001B[A\u001B[A\u001B[A\u001B[A\u001B[A\u001B[A\u001B[A\u001B[A\u001B[A\u001B[A\u001B[A\u001B[A\u001B[A\u001B[A\n",
      "\n",
      "\n",
      "\n",
      "\n",
      "\n",
      "\n",
      "\n",
      "\n",
      "\n",
      "\n",
      "\n",
      "\n",
      "\n",
      "\n",
      "\n",
      "\n",
      "\n",
      "libdap4-3.19.1       | 15.6 MB   | #####################5                |  58% \u001B[A\u001B[A\u001B[A\u001B[A\u001B[A\u001B[A\u001B[A\u001B[A\u001B[A\u001B[A\u001B[A\u001B[A\u001B[A\u001B[A\u001B[A\u001B[A\u001B[A\u001B[A\n",
      "\n",
      "\n",
      "\n",
      "\n",
      "\n",
      "\n",
      "\n",
      "\n",
      "\n",
      "\n",
      "\n",
      "\n",
      "\n",
      "\n",
      "\n",
      "\n",
      "\n",
      "libdap4-3.19.1       | 15.6 MB   | #######################7              |  64% \u001B[A\u001B[A\u001B[A\u001B[A\u001B[A\u001B[A\u001B[A\u001B[A\u001B[A\u001B[A\u001B[A\u001B[A\u001B[A\u001B[A\u001B[A\u001B[A\u001B[A\u001B[A\n",
      "\n",
      "\n",
      "\n",
      "\n",
      "\n",
      "\n",
      "\n",
      "\n",
      "\n",
      "\n",
      "\n",
      "\n",
      "\n",
      "\n",
      "\n",
      "\n",
      "geopandas-0.12.2     | 7 KB      | ##################################### | 100% \u001B[A\u001B[A\u001B[A\u001B[A\u001B[A\u001B[A\u001B[A\u001B[A\u001B[A\u001B[A\u001B[A\u001B[A\u001B[A\u001B[A\u001B[A\u001B[A\u001B[A\n",
      "\n",
      "\n",
      "\n",
      "\n",
      "\n",
      "\n",
      "\n",
      "\n",
      "\n",
      "\n",
      "\n",
      "\n",
      "\n",
      "\n",
      "\n",
      "\n",
      "\n",
      "libdap4-3.19.1       | 15.6 MB   | #########################8            |  70% \u001B[A\u001B[A\u001B[A\u001B[A\u001B[A\u001B[A\u001B[A\u001B[A\u001B[A\u001B[A\u001B[A\u001B[A\u001B[A\u001B[A\u001B[A\u001B[A\u001B[A\u001B[A\n",
      "\n",
      "\n",
      "\n",
      "\n",
      "\n",
      "\n",
      "\n",
      "\n",
      "\n",
      "\n",
      "\n",
      "\n",
      "\n",
      "\n",
      "\n",
      "\n",
      "\n",
      "libdap4-3.19.1       | 15.6 MB   | ###########################8          |  75% \u001B[A\u001B[A\u001B[A\u001B[A\u001B[A\u001B[A\u001B[A\u001B[A\u001B[A\u001B[A\u001B[A\u001B[A\u001B[A\u001B[A\u001B[A\u001B[A\u001B[A\u001B[A\n",
      "\n",
      "\n",
      "\n",
      "\n",
      "\n",
      "\n",
      "\n",
      "\n",
      "\n",
      "\n",
      "\n",
      "\n",
      "\n",
      "\n",
      "\n",
      "\n",
      "\n",
      "libdap4-3.19.1       | 15.6 MB   | ###############################9      |  86% \u001B[A\u001B[A\u001B[A\u001B[A\u001B[A\u001B[A\u001B[A\u001B[A\u001B[A\u001B[A\u001B[A\u001B[A\u001B[A\u001B[A\u001B[A\u001B[A\u001B[A\u001B[A\n",
      "\n",
      "\n",
      "\n",
      "\n",
      "\n",
      "\n",
      "\n",
      "\n",
      "\n",
      "\n",
      "\n",
      "\n",
      "\n",
      "\n",
      "\n",
      "shapely-1.8.4        | 345 KB    | ##################################### | 100% \u001B[A\u001B[A\u001B[A\u001B[A\u001B[A\u001B[A\u001B[A\u001B[A\u001B[A\u001B[A\u001B[A\u001B[A\u001B[A\u001B[A\u001B[A\u001B[A\n",
      "\n",
      "\n",
      "\n",
      "\n",
      "\n",
      "\n",
      "\n",
      "\n",
      "\n",
      "\n",
      "\n",
      "\n",
      "\n",
      "\n",
      "\n",
      "shapely-1.8.4        | 345 KB    | ##################################### | 100% \u001B[A\u001B[A\u001B[A\u001B[A\u001B[A\u001B[A\u001B[A\u001B[A\u001B[A\u001B[A\u001B[A\u001B[A\u001B[A\u001B[A\u001B[A\u001B[A\n",
      "\n",
      "\n",
      "\n",
      "\n",
      "\n",
      "\n",
      "\n",
      "\n",
      "\n",
      "\n",
      "\n",
      "\n",
      "\n",
      "\n",
      "\n",
      "\n",
      "\n",
      "\n",
      "\n",
      "click-plugins-1.1.1  | 9 KB      | ##################################### | 100% \u001B[A\u001B[A\u001B[A\u001B[A\u001B[A\u001B[A\u001B[A\u001B[A\u001B[A\u001B[A\u001B[A\u001B[A\u001B[A\u001B[A\u001B[A\u001B[A\u001B[A\u001B[A\u001B[A\u001B[A\n",
      "\n",
      "\n",
      "\n",
      "\n",
      "\n",
      "\n",
      "\n",
      "\n",
      "\n",
      "\n",
      "\n",
      "\n",
      "\n",
      "\n",
      "\n",
      "\n",
      "\n",
      "\n",
      "libkml-1.3.0         | 643 KB    | ##################################### | 100% \u001B[A\u001B[A\u001B[A\u001B[A\u001B[A\u001B[A\u001B[A\u001B[A\u001B[A\u001B[A\u001B[A\u001B[A\u001B[A\u001B[A\u001B[A\u001B[A\u001B[A\u001B[A\u001B[A\n",
      "\n",
      "\n",
      "\n",
      "\n",
      "\n",
      "\n",
      "\n",
      "\n",
      "\n",
      "\n",
      "\n",
      "\n",
      "\n",
      "\n",
      "\n",
      "\n",
      "\n",
      "\n",
      "\n",
      "\n",
      "branca-0.6.0         | 27 KB     | ##################################### | 100% \u001B[A\u001B[A\u001B[A\u001B[A\u001B[A\u001B[A\u001B[A\u001B[A\u001B[A\u001B[A\u001B[A\u001B[A\u001B[A\u001B[A\u001B[A\u001B[A\u001B[A\u001B[A\u001B[A\u001B[A\u001B[A\n",
      "\n",
      "\n",
      "\n",
      "\n",
      "\n",
      "\n",
      "\n",
      "\n",
      "\n",
      "\n",
      "\n",
      "\n",
      "\n",
      "\n",
      "\n",
      "\n",
      "\n",
      "\n",
      "\n",
      "\n",
      "branca-0.6.0         | 27 KB     | ##################################### | 100% \u001B[A\u001B[A\u001B[A\u001B[A\u001B[A\u001B[A\u001B[A\u001B[A\u001B[A\u001B[A\u001B[A\u001B[A\u001B[A\u001B[A\u001B[A\u001B[A\u001B[A\u001B[A\u001B[A\u001B[A\u001B[A\n",
      "\n",
      "\n",
      "\n",
      "\n",
      "\n",
      "\n",
      "\n",
      "\n",
      "\n",
      "\n",
      "\n",
      "\n",
      "\n",
      "\n",
      "tiledb-2.4.0         | 4.3 MB    | ##################################### | 100% \u001B[A\u001B[A\u001B[A\u001B[A\u001B[A\u001B[A\u001B[A\u001B[A\u001B[A\u001B[A\u001B[A\u001B[A\u001B[A\u001B[A\u001B[A\n",
      "\n",
      "\n",
      "\n",
      "\n",
      "\n",
      "\n",
      "\n",
      "\n",
      "\n",
      "\n",
      "\n",
      "\n",
      "\n",
      "\n",
      "tiledb-2.4.0         | 4.3 MB    | ##################################### | 100% \u001B[A\u001B[A\u001B[A\u001B[A\u001B[A\u001B[A\u001B[A\u001B[A\u001B[A\u001B[A\u001B[A\u001B[A\u001B[A\u001B[A\u001B[A\n",
      "\n",
      "\n",
      "\n",
      "\n",
      "\n",
      "\n",
      "\n",
      "\n",
      "\n",
      "\n",
      "\n",
      "\n",
      "\n",
      "\n",
      "\n",
      "\n",
      "\n",
      "libdap4-3.19.1       | 15.6 MB   | ##################################3   |  93% \u001B[A\u001B[A\u001B[A\u001B[A\u001B[A\u001B[A\u001B[A\u001B[A\u001B[A\u001B[A\u001B[A\u001B[A\u001B[A\u001B[A\u001B[A\u001B[A\u001B[A\u001B[A\n",
      "\n",
      "\n",
      "\n",
      "\n",
      "\n",
      "\n",
      "\n",
      "\n",
      "\n",
      "\n",
      "\n",
      "\n",
      "\n",
      "\n",
      "\n",
      "\n",
      "\n",
      "\n",
      "\n",
      "\n",
      "\n",
      "folium-0.14.0        | 71 KB     | ##################################### | 100% \u001B[A\u001B[A\u001B[A\u001B[A\u001B[A\u001B[A\u001B[A\u001B[A\u001B[A\u001B[A\u001B[A\u001B[A\u001B[A\u001B[A\u001B[A\u001B[A\u001B[A\u001B[A\u001B[A\u001B[A\u001B[A\u001B[A\n",
      "\n",
      "\n",
      "\n",
      "\n",
      "\n",
      "\n",
      "\n",
      "\n",
      "\n",
      "\n",
      "\n",
      "\n",
      "\n",
      "\n",
      "\n",
      "\n",
      "\n",
      "\n",
      "\n",
      "\n",
      "\n",
      "folium-0.14.0        | 71 KB     | ##################################### | 100% \u001B[A\u001B[A\u001B[A\u001B[A\u001B[A\u001B[A\u001B[A\u001B[A\u001B[A\u001B[A\u001B[A\u001B[A\u001B[A\u001B[A\u001B[A\u001B[A\u001B[A\u001B[A\u001B[A\u001B[A\u001B[A\u001B[A\n",
      "\n",
      "\n",
      "\n",
      "\n",
      "\n",
      "\n",
      "\n",
      "\n",
      "\n",
      "\n",
      "\n",
      "\n",
      "\n",
      "\n",
      "\n",
      "\n",
      "\n",
      "\n",
      "\n",
      "\n",
      "\n",
      "\n",
      " ... (more hidden) ...\u001B[A\u001B[A\u001B[A\u001B[A\u001B[A\u001B[A\u001B[A\u001B[A\u001B[A\u001B[A\u001B[A\u001B[A\u001B[A\u001B[A\u001B[A\u001B[A\u001B[A\u001B[A\u001B[A\u001B[A\u001B[A\u001B[A\u001B[A\n",
      "\n",
      "\n",
      "\n",
      "\n",
      "\n",
      "\n",
      "\n",
      "\n",
      "\n",
      "\n",
      "\n",
      "\n",
      "\n",
      "\n",
      "\n",
      "\n",
      "\n",
      "libdap4-3.19.1       | 15.6 MB   | ##################################### | 100% \u001B[A\u001B[A\u001B[A\u001B[A\u001B[A\u001B[A\u001B[A\u001B[A\u001B[A\u001B[A\u001B[A\u001B[A\u001B[A\u001B[A\u001B[A\u001B[A\u001B[A\u001B[A\n",
      "\n",
      "\n",
      "\n",
      "\n",
      "\n",
      "\n",
      "\n",
      "\n",
      "\n",
      "\n",
      "\n",
      "\n",
      "\n",
      "\n",
      "\n",
      "\n",
      "\n",
      "libdap4-3.19.1       | 15.6 MB   | ##################################### | 100% \u001B[A\u001B[A\u001B[A\u001B[A\u001B[A\u001B[A\u001B[A\u001B[A\u001B[A\u001B[A\u001B[A\u001B[A\u001B[A\u001B[A\u001B[A\u001B[A\u001B[A\u001B[A\n",
      "\n",
      "\n",
      "\n",
      "\n",
      "\n",
      "\n",
      "\n",
      "\n",
      "\n",
      "\n",
      "\n",
      "\n",
      "\n",
      "\n",
      "\n",
      "\n",
      "\n",
      "\n",
      "\n",
      "\n",
      "\n",
      "\n",
      "                                                                                \n",
      "                                                                                \u001B[A\n",
      "\n",
      "                                                                                \u001B[A\u001B[A\n",
      "\n",
      "\n",
      "                                                                                \u001B[A\u001B[A\u001B[A\n",
      "\n",
      "\n",
      "\n",
      "                                                                                \u001B[A\u001B[A\u001B[A\u001B[A\n",
      "\n",
      "\n",
      "\n",
      "\n",
      "                                                                                \u001B[A\u001B[A\u001B[A\u001B[A\u001B[A\n",
      "\n",
      "\n",
      "\n",
      "\n",
      "\n",
      "                                                                                \u001B[A\u001B[A\u001B[A\u001B[A\u001B[A\u001B[A\n",
      "\n",
      "\n",
      "\n",
      "\n",
      "\n",
      "\n",
      "                                                                                \u001B[A\u001B[A\u001B[A\u001B[A\u001B[A\u001B[A\u001B[A\n",
      "\n",
      "\n",
      "\n",
      "\n",
      "\n",
      "\n",
      "\n",
      "                                                                                \u001B[A\u001B[A\u001B[A\u001B[A\u001B[A\u001B[A\u001B[A\u001B[A\n",
      "\n",
      "\n",
      "\n",
      "\n",
      "\n",
      "\n",
      "\n",
      "\n",
      "                                                                                \u001B[A\u001B[A\u001B[A\u001B[A\u001B[A\u001B[A\u001B[A\u001B[A\u001B[A\n",
      "\n",
      "\n",
      "\n",
      "\n",
      "\n",
      "\n",
      "\n",
      "\n",
      "\n",
      "                                                                                \u001B[A\u001B[A\u001B[A\u001B[A\u001B[A\u001B[A\u001B[A\u001B[A\u001B[A\u001B[A\n",
      "\n",
      "\n",
      "\n",
      "\n",
      "\n",
      "\n",
      "\n",
      "\n",
      "\n",
      "\n",
      "                                                                                \u001B[A\u001B[A\u001B[A\u001B[A\u001B[A\u001B[A\u001B[A\u001B[A\u001B[A\u001B[A\u001B[A\n",
      "\n",
      "\n",
      "\n",
      "\n",
      "\n",
      "\n",
      "\n",
      "\n",
      "\n",
      "\n",
      "\n",
      "                                                                                \u001B[A\u001B[A\u001B[A\u001B[A\u001B[A\u001B[A\u001B[A\u001B[A\u001B[A\u001B[A\u001B[A\u001B[A\n",
      "\n",
      "\n",
      "\n",
      "\n",
      "\n",
      "\n",
      "\n",
      "\n",
      "\n",
      "\n",
      "\n",
      "\n",
      "                                                                                \u001B[A\u001B[A\u001B[A\u001B[A\u001B[A\u001B[A\u001B[A\u001B[A\u001B[A\u001B[A\u001B[A\u001B[A\u001B[A\n",
      "\n",
      "\n",
      "\n",
      "\n",
      "\n",
      "\n",
      "\n",
      "\n",
      "\n",
      "\n",
      "\n",
      "\n",
      "\n",
      "                                                                                \u001B[A\u001B[A\u001B[A\u001B[A\u001B[A\u001B[A\u001B[A\u001B[A\u001B[A\u001B[A\u001B[A\u001B[A\u001B[A\u001B[A\n",
      "\n",
      "\n",
      "\n",
      "\n",
      "\n",
      "\n",
      "\n",
      "\n",
      "\n",
      "\n",
      "\n",
      "\n",
      "\n",
      "\n",
      "                                                                                \u001B[A\u001B[A\u001B[A\u001B[A\u001B[A\u001B[A\u001B[A\u001B[A\u001B[A\u001B[A\u001B[A\u001B[A\u001B[A\u001B[A\u001B[A\n",
      "\n",
      "\n",
      "\n",
      "\n",
      "\n",
      "\n",
      "\n",
      "\n",
      "\n",
      "\n",
      "\n",
      "\n",
      "\n",
      "\n",
      "\n",
      "                                                                                \u001B[A\u001B[A\u001B[A\u001B[A\u001B[A\u001B[A\u001B[A\u001B[A\u001B[A\u001B[A\u001B[A\u001B[A\u001B[A\u001B[A\u001B[A\u001B[A\n",
      "\n",
      "\n",
      "\n",
      "\n",
      "\n",
      "\n",
      "\n",
      "\n",
      "\n",
      "\n",
      "\n",
      "\n",
      "\n",
      "\n",
      "\n",
      "\n",
      "                                                                                \u001B[A\u001B[A\u001B[A\u001B[A\u001B[A\u001B[A\u001B[A\u001B[A\u001B[A\u001B[A\u001B[A\u001B[A\u001B[A\u001B[A\u001B[A\u001B[A\u001B[A\n",
      "\n",
      "\n",
      "\n",
      "\n",
      "\n",
      "\n",
      "\n",
      "\n",
      "\n",
      "\n",
      "\n",
      "\n",
      "\n",
      "\n",
      "\n",
      "\n",
      "\n",
      "                                                                                \u001B[A\u001B[A\u001B[A\u001B[A\u001B[A\u001B[A\u001B[A\u001B[A\u001B[A\u001B[A\u001B[A\u001B[A\u001B[A\u001B[A\u001B[A\u001B[A\u001B[A\u001B[A\n",
      "\n",
      "\n",
      "\n",
      "\n",
      "\n",
      "\n",
      "\n",
      "\n",
      "\n",
      "\n",
      "\n",
      "\n",
      "\n",
      "\n",
      "\n",
      "\n",
      "\n",
      "\n",
      "                                                                                \u001B[A\u001B[A\u001B[A\u001B[A\u001B[A\u001B[A\u001B[A\u001B[A\u001B[A\u001B[A\u001B[A\u001B[A\u001B[A\u001B[A\u001B[A\u001B[A\u001B[A\u001B[A\u001B[A\n",
      "\n",
      "\n",
      "\n",
      "\n",
      "\n",
      "\n",
      "\n",
      "\n",
      "\n",
      "\n",
      "\n",
      "\n",
      "\n",
      "\n",
      "\n",
      "\n",
      "\n",
      "\n",
      "\n",
      "                                                                                \u001B[A\u001B[A\u001B[A\u001B[A\u001B[A\u001B[A\u001B[A\u001B[A\u001B[A\u001B[A\u001B[A\u001B[A\u001B[A\u001B[A\u001B[A\u001B[A\u001B[A\u001B[A\u001B[A\u001B[A\n",
      "\n",
      "\n",
      "\n",
      "\n",
      "\n",
      "\n",
      "\n",
      "\n",
      "\n",
      "\n",
      "\n",
      "\n",
      "\n",
      "\n",
      "\n",
      "\n",
      "\n",
      "\n",
      "\n",
      "\n",
      "                                                                                \u001B[A\u001B[A\u001B[A\u001B[A\u001B[A\u001B[A\u001B[A\u001B[A\u001B[A\u001B[A\u001B[A\u001B[A\u001B[A\u001B[A\u001B[A\u001B[A\u001B[A\u001B[A\u001B[A\u001B[A\u001B[A\n",
      "\n",
      "\n",
      "\n",
      "\n",
      "\n",
      "\n",
      "\n",
      "\n",
      "\n",
      "\n",
      "\n",
      "\n",
      "\n",
      "\n",
      "\n",
      "\n",
      "\n",
      "\n",
      "\n",
      "\n",
      "\n",
      "                                                                                \u001B[A\u001B[A\u001B[A\u001B[A\u001B[A\u001B[A\u001B[A\u001B[A\u001B[A\u001B[A\u001B[A\u001B[A\u001B[A\u001B[A\u001B[A\u001B[A\u001B[A\u001B[A\u001B[A\u001B[A\u001B[A\u001B[A\n",
      "\u001B[A\n",
      "\n",
      "\u001B[A\u001B[A\n",
      "\n",
      "\n",
      "\u001B[A\u001B[A\u001B[A\n",
      "\n",
      "\n",
      "\n",
      "\u001B[A\u001B[A\u001B[A\u001B[A\n",
      "\n",
      "\n",
      "\n",
      "\n",
      "\u001B[A\u001B[A\u001B[A\u001B[A\u001B[A\n",
      "\n",
      "\n",
      "\n",
      "\n",
      "\n",
      "\u001B[A\u001B[A\u001B[A\u001B[A\u001B[A\u001B[A\n",
      "\n",
      "\n",
      "\n",
      "\n",
      "\n",
      "\n",
      "\u001B[A\u001B[A\u001B[A\u001B[A\u001B[A\u001B[A\u001B[A\n",
      "\n",
      "\n",
      "\n",
      "\n",
      "\n",
      "\n",
      "\n",
      "\u001B[A\u001B[A\u001B[A\u001B[A\u001B[A\u001B[A\u001B[A\u001B[A\n",
      "\n",
      "\n",
      "\n",
      "\n",
      "\n",
      "\n",
      "\n",
      "\n",
      "\u001B[A\u001B[A\u001B[A\u001B[A\u001B[A\u001B[A\u001B[A\u001B[A\u001B[A\n",
      "\n",
      "\n",
      "\n",
      "\n",
      "\n",
      "\n",
      "\n",
      "\n",
      "\n",
      "\u001B[A\u001B[A\u001B[A\u001B[A\u001B[A\u001B[A\u001B[A\u001B[A\u001B[A\u001B[A\n",
      "\n",
      "\n",
      "\n",
      "\n",
      "\n",
      "\n",
      "\n",
      "\n",
      "\n",
      "\n",
      "\u001B[A\u001B[A\u001B[A\u001B[A\u001B[A\u001B[A\u001B[A\u001B[A\u001B[A\u001B[A\u001B[A\n",
      "\n",
      "\n",
      "\n",
      "\n",
      "\n",
      "\n",
      "\n",
      "\n",
      "\n",
      "\n",
      "\n",
      "\u001B[A\u001B[A\u001B[A\u001B[A\u001B[A\u001B[A\u001B[A\u001B[A\u001B[A\u001B[A\u001B[A\u001B[A\n",
      "\n",
      "\n",
      "\n",
      "\n",
      "\n",
      "\n",
      "\n",
      "\n",
      "\n",
      "\n",
      "\n",
      "\n",
      "\u001B[A\u001B[A\u001B[A\u001B[A\u001B[A\u001B[A\u001B[A\u001B[A\u001B[A\u001B[A\u001B[A\u001B[A\u001B[A\n",
      "\n",
      "\n",
      "\n",
      "\n",
      "\n",
      "\n",
      "\n",
      "\n",
      "\n",
      "\n",
      "\n",
      "\n",
      "\n",
      "\u001B[A\u001B[A\u001B[A\u001B[A\u001B[A\u001B[A\u001B[A\u001B[A\u001B[A\u001B[A\u001B[A\u001B[A\u001B[A\u001B[A\n",
      "\n",
      "\n",
      "\n",
      "\n",
      "\n",
      "\n",
      "\n",
      "\n",
      "\n",
      "\n",
      "\n",
      "\n",
      "\n",
      "\n",
      "\u001B[A\u001B[A\u001B[A\u001B[A\u001B[A\u001B[A\u001B[A\u001B[A\u001B[A\u001B[A\u001B[A\u001B[A\u001B[A\u001B[A\u001B[A\n",
      "\n",
      "\n",
      "\n",
      "\n",
      "\n",
      "\n",
      "\n",
      "\n",
      "\n",
      "\n",
      "\n",
      "\n",
      "\n",
      "\n",
      "\n",
      "\u001B[A\u001B[A\u001B[A\u001B[A\u001B[A\u001B[A\u001B[A\u001B[A\u001B[A\u001B[A\u001B[A\u001B[A\u001B[A\u001B[A\u001B[A\u001B[A\n",
      "\n",
      "\n",
      "\n",
      "\n",
      "\n",
      "\n",
      "\n",
      "\n",
      "\n",
      "\n",
      "\n",
      "\n",
      "\n",
      "\n",
      "\n",
      "\n",
      "\u001B[A\u001B[A\u001B[A\u001B[A\u001B[A\u001B[A\u001B[A\u001B[A\u001B[A\u001B[A\u001B[A\u001B[A\u001B[A\u001B[A\u001B[A\u001B[A\u001B[A\n",
      "\n",
      "\n",
      "\n",
      "\n",
      "\n",
      "\n",
      "\n",
      "\n",
      "\n",
      "\n",
      "\n",
      "\n",
      "\n",
      "\n",
      "\n",
      "\n",
      "\n",
      "\u001B[A\u001B[A\u001B[A\u001B[A\u001B[A\u001B[A\u001B[A\u001B[A\u001B[A\u001B[A\u001B[A\u001B[A\u001B[A\u001B[A\u001B[A\u001B[A\u001B[A\u001B[A\n",
      "\n",
      "\n",
      "\n",
      "\n",
      "\n",
      "\n",
      "\n",
      "\n",
      "\n",
      "\n",
      "\n",
      "\n",
      "\n",
      "\n",
      "\n",
      "\n",
      "\n",
      "\n",
      "\u001B[A\u001B[A\u001B[A\u001B[A\u001B[A\u001B[A\u001B[A\u001B[A\u001B[A\u001B[A\u001B[A\u001B[A\u001B[A\u001B[A\u001B[A\u001B[A\u001B[A\u001B[A\u001B[A\n",
      "\n",
      "\n",
      "\n",
      "\n",
      "\n",
      "\n",
      "\n",
      "\n",
      "\n",
      "\n",
      "\n",
      "\n",
      "\n",
      "\n",
      "\n",
      "\n",
      "\n",
      "\n",
      "\n",
      "\u001B[A\u001B[A\u001B[A\u001B[A\u001B[A\u001B[A\u001B[A\u001B[A\u001B[A\u001B[A\u001B[A\u001B[A\u001B[A\u001B[A\u001B[A\u001B[A\u001B[A\u001B[A\u001B[A\u001B[A\n",
      "\n",
      "\n",
      "\n",
      "\n",
      "\n",
      "\n",
      "\n",
      "\n",
      "\n",
      "\n",
      "\n",
      "\n",
      "\n",
      "\n",
      "\n",
      "\n",
      "\n",
      "\n",
      "\n",
      "\n",
      "\u001B[A\u001B[A\u001B[A\u001B[A\u001B[A\u001B[A\u001B[A\u001B[A\u001B[A\u001B[A\u001B[A\u001B[A\u001B[A\u001B[A\u001B[A\u001B[A\u001B[A\u001B[A\u001B[A\u001B[A\u001B[A\n",
      "\n",
      "\n",
      "\n",
      "\n",
      "\n",
      "\n",
      "\n",
      "\n",
      "\n",
      "\n",
      "\n",
      "\n",
      "\n",
      "\n",
      "\n",
      "\n",
      "\n",
      "\n",
      "\n",
      "\n",
      "\n",
      "\u001B[A\u001B[A\u001B[A\u001B[A\u001B[A\u001B[A\u001B[A\u001B[A\u001B[A\u001B[A\u001B[A\u001B[A\u001B[A\u001B[A\u001B[A\u001B[A\u001B[A\u001B[A\u001B[A\u001B[A\u001B[A\u001B[A\n",
      "Preparing transaction: done\n",
      "Verifying transaction: done\n",
      "Executing transaction: done\n"
     ]
    }
   ],
   "source": [
    "# !pip install geopandas\n",
    "# !pip install geoplot\n",
    "!conda install -c conda-forge geoplot -y"
   ]
  },
  {
   "cell_type": "code",
   "execution_count": 34,
   "id": "819d0a74-b003-498b-adfd-f3f27ed7ba8a",
   "metadata": {},
   "outputs": [
    {
     "ename": "NameError",
     "evalue": "name 'y' is not defined",
     "output_type": "error",
     "traceback": [
      "\u001B[0;31m---------------------------------------------------------------------------\u001B[0m",
      "\u001B[0;31mNameError\u001B[0m                                 Traceback (most recent call last)",
      "Cell \u001B[0;32mIn[34], line 1\u001B[0m\n\u001B[0;32m----> 1\u001B[0m \u001B[38;5;241m-\u001B[39m\u001B[43my\u001B[49m\n",
      "\u001B[0;31mNameError\u001B[0m: name 'y' is not defined"
     ]
    }
   ],
   "source": []
  },
  {
   "cell_type": "code",
   "execution_count": 27,
   "id": "82022c91-33b1-489c-8580-3c19dd30745f",
   "metadata": {},
   "outputs": [],
   "source": [
    "import geopandas as gpd"
   ]
  },
  {
   "cell_type": "code",
   "execution_count": 28,
   "id": "c1a71b04-76ce-4f38-ac75-63b3195ec8c5",
   "metadata": {},
   "outputs": [
    {
     "ename": "ModuleNotFoundError",
     "evalue": "No module named 'geoplot'",
     "output_type": "error",
     "traceback": [
      "\u001B[0;31m---------------------------------------------------------------------------\u001B[0m",
      "\u001B[0;31mModuleNotFoundError\u001B[0m                       Traceback (most recent call last)",
      "Cell \u001B[0;32mIn[32], line 1\u001B[0m\n\u001B[0;32m----> 1\u001B[0m \u001B[38;5;28;01mimport\u001B[39;00m \u001B[38;5;21;01mgeoplot\u001B[39;00m \u001B[38;5;28;01mas\u001B[39;00m \u001B[38;5;21;01mgplt\u001B[39;00m\n",
      "\u001B[0;31mModuleNotFoundError\u001B[0m: No module named 'geoplot'"
     ]
    }
   ],
   "source": [
    "import geoplot as gplt"
   ]
  },
  {
   "cell_type": "code",
   "execution_count": null,
   "id": "84643b05-7086-418f-8350-db578279b7ec",
   "metadata": {},
   "outputs": [],
   "source": []
  }
 ],
 "metadata": {
  "kernelspec": {
   "display_name": "Python 3 (ipykernel)",
   "language": "python",
   "name": "python3"
  },
  "language_info": {
   "codemirror_mode": {
    "name": "ipython",
    "version": 3
   },
   "file_extension": ".py",
   "mimetype": "text/x-python",
   "name": "python",
   "nbconvert_exporter": "python",
   "pygments_lexer": "ipython3",
   "version": "3.10.6"
  }
 },
 "nbformat": 4,
 "nbformat_minor": 5
}
